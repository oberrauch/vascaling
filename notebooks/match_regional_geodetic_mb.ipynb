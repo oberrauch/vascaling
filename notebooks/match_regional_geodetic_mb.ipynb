{
 "cells": [
  {
   "cell_type": "markdown",
   "metadata": {},
   "source": [
    "# Match regional geodetic mass balance\n",
    "The OGGM function `match_regional_geodetic_mb()` shifts the mass balance residuals $\\beta^*$ to match the observations presented by [Davaze et al. 2020](https://www.frontiersin.org/articles/10.3389/feart.2020.00149/full). Hereafter I'll have a look at it and re-implement it to work with the VAS model"
   ]
  },
  {
   "cell_type": "markdown",
   "metadata": {},
   "source": [
    "## OGGM flowline model setup"
   ]
  },
  {
   "cell_type": "code",
   "execution_count": 1,
   "metadata": {},
   "outputs": [
    {
     "name": "stderr",
     "output_type": "stream",
     "text": [
      "2021-01-22 14:39:19: oggm.cfg: Reading default parameters from the OGGM `params.cfg` configuration file.\n",
      "2021-01-22 14:39:19: oggm.cfg: Multiprocessing switched ON according to the parameter file.\n",
      "2021-01-22 14:39:20: oggm.cfg: Multiprocessing: using all available processors (N=4)\n",
      "2021-01-22 14:39:20: oggm.utils: Checking the download verification file checksum...\n",
      "2021-01-22 14:39:20: oggm.cfg: PARAMS['rgi_version'] changed from `61` to `6`.\n",
      "2021-01-22 14:39:20: oggm.cfg: PARAMS['border'] changed from `20` to `10`.\n"
     ]
    }
   ],
   "source": [
    "# import internal and externals libraries\n",
    "import os\n",
    "import numpy as np\n",
    "import pandas as pd\n",
    "import xarray as xr\n",
    "\n",
    "import logging\n",
    "\n",
    "log = logging.getLogger('test-notebook')\n",
    "\n",
    "# import the needed OGGM modules\n",
    "from oggm import cfg, utils, workflow\n",
    "from oggm.core import gis, climate, flowline\n",
    "\n",
    "\n",
    "log.info('Starting run')\n",
    "\n",
    "# specify glaciers by RGI IDs (INPUT)\n",
    "rgi_ids = ['RGI60-11.00897']\n",
    "\n",
    "# compute RGI region and version from RGI IDs\n",
    "# assuming all RGI IDs are from within one version and region\n",
    "rgi_region = (rgi_ids[0].split('-')[-1]).split('.')[0]\n",
    "rgi_version = (rgi_ids[0].split('-')[0])[-2:-1]\n",
    "\n",
    "# load default parameter file\n",
    "cfg.initialize()\n",
    "\n",
    "# specify path to working and output directories (INPUT)\n",
    "WORKING_DIR = '/Users/oberrauch/work/master/working_directories/oggm_run_tmp/'\n",
    "OUTPUT_DIR = '/Users/oberrauch/work/master/data/oggm_run_tmp/'\n",
    "\n",
    "# create working directory\n",
    "utils.mkdir(WORKING_DIR)\n",
    "utils.mkdir(OUTPUT_DIR)\n",
    "# set path to working directory\n",
    "cfg.PATHS['working_dir'] = WORKING_DIR\n",
    "# set RGI version and region\n",
    "cfg.PARAMS['rgi_version'] = rgi_version\n",
    "# define how many grid points to use around the glacier,\n",
    "# if you expect the glacier to grow large use a larger border\n",
    "cfg.PARAMS['border'] = 10"
   ]
  },
  {
   "cell_type": "code",
   "execution_count": 2,
   "metadata": {},
   "outputs": [
    {
     "name": "stderr",
     "output_type": "stream",
     "text": [
      "2021-01-22 14:39:20: oggm.cfg: PARAMS['min_ice_thick_for_length'] changed from `0.0` to `0.1`.\n",
      "2021-01-22 14:39:21: oggm.cfg: PARAMS['continue_on_error'] changed from `False` to `True`.\n",
      "2021-01-22 14:39:21: oggm.workflow: Execute entity task GlacierDirectory on 1 glaciers\n"
     ]
    }
   ],
   "source": [
    "# the bias is defined to be zero during the calibration process,\n",
    "# which is why we don't use it here to reproduce the results\n",
    "cfg.PARAMS['use_bias_for_run'] = True\n",
    "# set minimum ice thickness to include in glacier length computation\n",
    "# this reduces weird spikes in length records\n",
    "cfg.PARAMS['min_ice_thick_for_length'] = 0.1\n",
    "\n",
    "# read RGI entry for the glaciers as DataFrame\n",
    "# containing the outline area as shapefile\n",
    "rgidf = utils.get_rgi_glacier_entities(rgi_ids)\n",
    "\n",
    "# get and set path to intersect shapefile\n",
    "intersects_db = utils.get_rgi_intersects_region_file(region=rgi_region)\n",
    "cfg.set_intersects_db(intersects_db)\n",
    "\n",
    "# sort by area for more efficient parallel computing\n",
    "rgidf = rgidf.sort_values('Area', ascending=False)\n",
    "cfg.PARAMS['use_multiprocessing'] = True\n",
    "# operational run, all glaciers should run\n",
    "cfg.PARAMS['continue_on_error'] = True\n",
    "\n",
    "# initialize the GlacierDirectory\n",
    "gdirs = workflow.init_glacier_directories(rgidf, reset=False, force=True)"
   ]
  },
  {
   "cell_type": "code",
   "execution_count": 3,
   "metadata": {},
   "outputs": [],
   "source": [
    "from oggm.core import gcm_climate"
   ]
  },
  {
   "cell_type": "code",
   "execution_count": 15,
   "metadata": {},
   "outputs": [],
   "source": [
    "tmp = xr.open_dataset(utils.get_demo_file('cesm.TREFHT.160001-200512.selection.nc'))"
   ]
  },
  {
   "cell_type": "code",
   "execution_count": 16,
   "metadata": {},
   "outputs": [
    {
     "data": {
      "text/html": [
       "<div><svg style=\"position: absolute; width: 0; height: 0; overflow: hidden\">\n",
       "<defs>\n",
       "<symbol id=\"icon-database\" viewBox=\"0 0 32 32\">\n",
       "<path d=\"M16 0c-8.837 0-16 2.239-16 5v4c0 2.761 7.163 5 16 5s16-2.239 16-5v-4c0-2.761-7.163-5-16-5z\"></path>\n",
       "<path d=\"M16 17c-8.837 0-16-2.239-16-5v6c0 2.761 7.163 5 16 5s16-2.239 16-5v-6c0 2.761-7.163 5-16 5z\"></path>\n",
       "<path d=\"M16 26c-8.837 0-16-2.239-16-5v6c0 2.761 7.163 5 16 5s16-2.239 16-5v-6c0 2.761-7.163 5-16 5z\"></path>\n",
       "</symbol>\n",
       "<symbol id=\"icon-file-text2\" viewBox=\"0 0 32 32\">\n",
       "<path d=\"M28.681 7.159c-0.694-0.947-1.662-2.053-2.724-3.116s-2.169-2.030-3.116-2.724c-1.612-1.182-2.393-1.319-2.841-1.319h-15.5c-1.378 0-2.5 1.121-2.5 2.5v27c0 1.378 1.122 2.5 2.5 2.5h23c1.378 0 2.5-1.122 2.5-2.5v-19.5c0-0.448-0.137-1.23-1.319-2.841zM24.543 5.457c0.959 0.959 1.712 1.825 2.268 2.543h-4.811v-4.811c0.718 0.556 1.584 1.309 2.543 2.268zM28 29.5c0 0.271-0.229 0.5-0.5 0.5h-23c-0.271 0-0.5-0.229-0.5-0.5v-27c0-0.271 0.229-0.5 0.5-0.5 0 0 15.499-0 15.5 0v7c0 0.552 0.448 1 1 1h7v19.5z\"></path>\n",
       "<path d=\"M23 26h-14c-0.552 0-1-0.448-1-1s0.448-1 1-1h14c0.552 0 1 0.448 1 1s-0.448 1-1 1z\"></path>\n",
       "<path d=\"M23 22h-14c-0.552 0-1-0.448-1-1s0.448-1 1-1h14c0.552 0 1 0.448 1 1s-0.448 1-1 1z\"></path>\n",
       "<path d=\"M23 18h-14c-0.552 0-1-0.448-1-1s0.448-1 1-1h14c0.552 0 1 0.448 1 1s-0.448 1-1 1z\"></path>\n",
       "</symbol>\n",
       "</defs>\n",
       "</svg>\n",
       "<style>/* CSS stylesheet for displaying xarray objects in jupyterlab.\n",
       " *\n",
       " */\n",
       "\n",
       ":root {\n",
       "  --xr-font-color0: var(--jp-content-font-color0, rgba(0, 0, 0, 1));\n",
       "  --xr-font-color2: var(--jp-content-font-color2, rgba(0, 0, 0, 0.54));\n",
       "  --xr-font-color3: var(--jp-content-font-color3, rgba(0, 0, 0, 0.38));\n",
       "  --xr-border-color: var(--jp-border-color2, #e0e0e0);\n",
       "  --xr-disabled-color: var(--jp-layout-color3, #bdbdbd);\n",
       "  --xr-background-color: var(--jp-layout-color0, white);\n",
       "  --xr-background-color-row-even: var(--jp-layout-color1, white);\n",
       "  --xr-background-color-row-odd: var(--jp-layout-color2, #eeeeee);\n",
       "}\n",
       "\n",
       "html[theme=dark],\n",
       "body.vscode-dark {\n",
       "  --xr-font-color0: rgba(255, 255, 255, 1);\n",
       "  --xr-font-color2: rgba(255, 255, 255, 0.54);\n",
       "  --xr-font-color3: rgba(255, 255, 255, 0.38);\n",
       "  --xr-border-color: #1F1F1F;\n",
       "  --xr-disabled-color: #515151;\n",
       "  --xr-background-color: #111111;\n",
       "  --xr-background-color-row-even: #111111;\n",
       "  --xr-background-color-row-odd: #313131;\n",
       "}\n",
       "\n",
       ".xr-wrap {\n",
       "  display: block;\n",
       "  min-width: 300px;\n",
       "  max-width: 700px;\n",
       "}\n",
       "\n",
       ".xr-text-repr-fallback {\n",
       "  /* fallback to plain text repr when CSS is not injected (untrusted notebook) */\n",
       "  display: none;\n",
       "}\n",
       "\n",
       ".xr-header {\n",
       "  padding-top: 6px;\n",
       "  padding-bottom: 6px;\n",
       "  margin-bottom: 4px;\n",
       "  border-bottom: solid 1px var(--xr-border-color);\n",
       "}\n",
       "\n",
       ".xr-header > div,\n",
       ".xr-header > ul {\n",
       "  display: inline;\n",
       "  margin-top: 0;\n",
       "  margin-bottom: 0;\n",
       "}\n",
       "\n",
       ".xr-obj-type,\n",
       ".xr-array-name {\n",
       "  margin-left: 2px;\n",
       "  margin-right: 10px;\n",
       "}\n",
       "\n",
       ".xr-obj-type {\n",
       "  color: var(--xr-font-color2);\n",
       "}\n",
       "\n",
       ".xr-sections {\n",
       "  padding-left: 0 !important;\n",
       "  display: grid;\n",
       "  grid-template-columns: 150px auto auto 1fr 20px 20px;\n",
       "}\n",
       "\n",
       ".xr-section-item {\n",
       "  display: contents;\n",
       "}\n",
       "\n",
       ".xr-section-item input {\n",
       "  display: none;\n",
       "}\n",
       "\n",
       ".xr-section-item input + label {\n",
       "  color: var(--xr-disabled-color);\n",
       "}\n",
       "\n",
       ".xr-section-item input:enabled + label {\n",
       "  cursor: pointer;\n",
       "  color: var(--xr-font-color2);\n",
       "}\n",
       "\n",
       ".xr-section-item input:enabled + label:hover {\n",
       "  color: var(--xr-font-color0);\n",
       "}\n",
       "\n",
       ".xr-section-summary {\n",
       "  grid-column: 1;\n",
       "  color: var(--xr-font-color2);\n",
       "  font-weight: 500;\n",
       "}\n",
       "\n",
       ".xr-section-summary > span {\n",
       "  display: inline-block;\n",
       "  padding-left: 0.5em;\n",
       "}\n",
       "\n",
       ".xr-section-summary-in:disabled + label {\n",
       "  color: var(--xr-font-color2);\n",
       "}\n",
       "\n",
       ".xr-section-summary-in + label:before {\n",
       "  display: inline-block;\n",
       "  content: '►';\n",
       "  font-size: 11px;\n",
       "  width: 15px;\n",
       "  text-align: center;\n",
       "}\n",
       "\n",
       ".xr-section-summary-in:disabled + label:before {\n",
       "  color: var(--xr-disabled-color);\n",
       "}\n",
       "\n",
       ".xr-section-summary-in:checked + label:before {\n",
       "  content: '▼';\n",
       "}\n",
       "\n",
       ".xr-section-summary-in:checked + label > span {\n",
       "  display: none;\n",
       "}\n",
       "\n",
       ".xr-section-summary,\n",
       ".xr-section-inline-details {\n",
       "  padding-top: 4px;\n",
       "  padding-bottom: 4px;\n",
       "}\n",
       "\n",
       ".xr-section-inline-details {\n",
       "  grid-column: 2 / -1;\n",
       "}\n",
       "\n",
       ".xr-section-details {\n",
       "  display: none;\n",
       "  grid-column: 1 / -1;\n",
       "  margin-bottom: 5px;\n",
       "}\n",
       "\n",
       ".xr-section-summary-in:checked ~ .xr-section-details {\n",
       "  display: contents;\n",
       "}\n",
       "\n",
       ".xr-array-wrap {\n",
       "  grid-column: 1 / -1;\n",
       "  display: grid;\n",
       "  grid-template-columns: 20px auto;\n",
       "}\n",
       "\n",
       ".xr-array-wrap > label {\n",
       "  grid-column: 1;\n",
       "  vertical-align: top;\n",
       "}\n",
       "\n",
       ".xr-preview {\n",
       "  color: var(--xr-font-color3);\n",
       "}\n",
       "\n",
       ".xr-array-preview,\n",
       ".xr-array-data {\n",
       "  padding: 0 5px !important;\n",
       "  grid-column: 2;\n",
       "}\n",
       "\n",
       ".xr-array-data,\n",
       ".xr-array-in:checked ~ .xr-array-preview {\n",
       "  display: none;\n",
       "}\n",
       "\n",
       ".xr-array-in:checked ~ .xr-array-data,\n",
       ".xr-array-preview {\n",
       "  display: inline-block;\n",
       "}\n",
       "\n",
       ".xr-dim-list {\n",
       "  display: inline-block !important;\n",
       "  list-style: none;\n",
       "  padding: 0 !important;\n",
       "  margin: 0;\n",
       "}\n",
       "\n",
       ".xr-dim-list li {\n",
       "  display: inline-block;\n",
       "  padding: 0;\n",
       "  margin: 0;\n",
       "}\n",
       "\n",
       ".xr-dim-list:before {\n",
       "  content: '(';\n",
       "}\n",
       "\n",
       ".xr-dim-list:after {\n",
       "  content: ')';\n",
       "}\n",
       "\n",
       ".xr-dim-list li:not(:last-child):after {\n",
       "  content: ',';\n",
       "  padding-right: 5px;\n",
       "}\n",
       "\n",
       ".xr-has-index {\n",
       "  font-weight: bold;\n",
       "}\n",
       "\n",
       ".xr-var-list,\n",
       ".xr-var-item {\n",
       "  display: contents;\n",
       "}\n",
       "\n",
       ".xr-var-item > div,\n",
       ".xr-var-item label,\n",
       ".xr-var-item > .xr-var-name span {\n",
       "  background-color: var(--xr-background-color-row-even);\n",
       "  margin-bottom: 0;\n",
       "}\n",
       "\n",
       ".xr-var-item > .xr-var-name:hover span {\n",
       "  padding-right: 5px;\n",
       "}\n",
       "\n",
       ".xr-var-list > li:nth-child(odd) > div,\n",
       ".xr-var-list > li:nth-child(odd) > label,\n",
       ".xr-var-list > li:nth-child(odd) > .xr-var-name span {\n",
       "  background-color: var(--xr-background-color-row-odd);\n",
       "}\n",
       "\n",
       ".xr-var-name {\n",
       "  grid-column: 1;\n",
       "}\n",
       "\n",
       ".xr-var-dims {\n",
       "  grid-column: 2;\n",
       "}\n",
       "\n",
       ".xr-var-dtype {\n",
       "  grid-column: 3;\n",
       "  text-align: right;\n",
       "  color: var(--xr-font-color2);\n",
       "}\n",
       "\n",
       ".xr-var-preview {\n",
       "  grid-column: 4;\n",
       "}\n",
       "\n",
       ".xr-var-name,\n",
       ".xr-var-dims,\n",
       ".xr-var-dtype,\n",
       ".xr-preview,\n",
       ".xr-attrs dt {\n",
       "  white-space: nowrap;\n",
       "  overflow: hidden;\n",
       "  text-overflow: ellipsis;\n",
       "  padding-right: 10px;\n",
       "}\n",
       "\n",
       ".xr-var-name:hover,\n",
       ".xr-var-dims:hover,\n",
       ".xr-var-dtype:hover,\n",
       ".xr-attrs dt:hover {\n",
       "  overflow: visible;\n",
       "  width: auto;\n",
       "  z-index: 1;\n",
       "}\n",
       "\n",
       ".xr-var-attrs,\n",
       ".xr-var-data {\n",
       "  display: none;\n",
       "  background-color: var(--xr-background-color) !important;\n",
       "  padding-bottom: 5px !important;\n",
       "}\n",
       "\n",
       ".xr-var-attrs-in:checked ~ .xr-var-attrs,\n",
       ".xr-var-data-in:checked ~ .xr-var-data {\n",
       "  display: block;\n",
       "}\n",
       "\n",
       ".xr-var-data > table {\n",
       "  float: right;\n",
       "}\n",
       "\n",
       ".xr-var-name span,\n",
       ".xr-var-data,\n",
       ".xr-attrs {\n",
       "  padding-left: 25px !important;\n",
       "}\n",
       "\n",
       ".xr-attrs,\n",
       ".xr-var-attrs,\n",
       ".xr-var-data {\n",
       "  grid-column: 1 / -1;\n",
       "}\n",
       "\n",
       "dl.xr-attrs {\n",
       "  padding: 0;\n",
       "  margin: 0;\n",
       "  display: grid;\n",
       "  grid-template-columns: 125px auto;\n",
       "}\n",
       "\n",
       ".xr-attrs dt, dd {\n",
       "  padding: 0;\n",
       "  margin: 0;\n",
       "  float: left;\n",
       "  padding-right: 10px;\n",
       "  width: auto;\n",
       "}\n",
       "\n",
       ".xr-attrs dt {\n",
       "  font-weight: normal;\n",
       "  grid-column: 1;\n",
       "}\n",
       "\n",
       ".xr-attrs dt:hover span {\n",
       "  display: inline-block;\n",
       "  background: var(--xr-background-color);\n",
       "  padding-right: 10px;\n",
       "}\n",
       "\n",
       ".xr-attrs dd {\n",
       "  grid-column: 2;\n",
       "  white-space: pre-wrap;\n",
       "  word-break: break-all;\n",
       "}\n",
       "\n",
       ".xr-icon-database,\n",
       ".xr-icon-file-text2 {\n",
       "  display: inline-block;\n",
       "  vertical-align: middle;\n",
       "  width: 1em;\n",
       "  height: 1.5em !important;\n",
       "  stroke-width: 0;\n",
       "  stroke: currentColor;\n",
       "  fill: currentColor;\n",
       "}\n",
       "</style><pre class='xr-text-repr-fallback'>&lt;xarray.Dataset&gt;\n",
       "Dimensions:    (lat: 3, lon: 3, nbnd: 2, time: 4872)\n",
       "Coordinates:\n",
       "  * lat        (lat) float64 44.53 46.42 48.32\n",
       "  * lon        (lon) float64 7.5 10.0 12.5\n",
       "  * time       (time) object 1600-02-01 00:00:00 ... 2006-01-01 00:00:00\n",
       "Dimensions without coordinates: nbnd\n",
       "Data variables:\n",
       "    TREFHT     (time, lat, lon) float32 279.43884 280.50763 ... 273.743\n",
       "    time_bnds  (time, nbnd) object 1600-01-01 00:00:00 ... 2006-01-01 00:00:00\n",
       "Attributes:\n",
       "    Conventions:               CF-1.0\n",
       "    source:                    CAM\n",
       "    case:                      b.e11.BLMTRC5CN.f19_g16.001\n",
       "    title:                     UNSET\n",
       "    logname:                   nanr\n",
       "    host:                      ys0772\n",
       "    Version:                   $Name$\n",
       "    revision_Id:               $Id$\n",
       "    initial_file:              b.e11.B1850C5CN.f19_g16.0850cntl.001.cam.i.085...\n",
       "    topography_file:           /glade/p/cesmdata/cseg/inputdata/atm/cam/topo/...\n",
       "    history:                   Fri Apr  7 14:13:45 2017: ncks -v TREFHT -d lo...\n",
       "    NCO:                       4.4.4\n",
       "    nco_openmp_thread_number:  1</pre><div class='xr-wrap' hidden><div class='xr-header'><div class='xr-obj-type'>xarray.Dataset</div></div><ul class='xr-sections'><li class='xr-section-item'><input id='section-31c458b9-5f7d-45c0-9429-84ad03a52236' class='xr-section-summary-in' type='checkbox' disabled ><label for='section-31c458b9-5f7d-45c0-9429-84ad03a52236' class='xr-section-summary'  title='Expand/collapse section'>Dimensions:</label><div class='xr-section-inline-details'><ul class='xr-dim-list'><li><span class='xr-has-index'>lat</span>: 3</li><li><span class='xr-has-index'>lon</span>: 3</li><li><span>nbnd</span>: 2</li><li><span class='xr-has-index'>time</span>: 4872</li></ul></div><div class='xr-section-details'></div></li><li class='xr-section-item'><input id='section-04e3a09e-210b-4588-aec4-4f8e607120ca' class='xr-section-summary-in' type='checkbox'  checked><label for='section-04e3a09e-210b-4588-aec4-4f8e607120ca' class='xr-section-summary' >Coordinates: <span>(3)</span></label><div class='xr-section-inline-details'></div><div class='xr-section-details'><ul class='xr-var-list'><li class='xr-var-item'><div class='xr-var-name'><span class='xr-has-index'>lat</span></div><div class='xr-var-dims'>(lat)</div><div class='xr-var-dtype'>float64</div><div class='xr-var-preview xr-preview'>44.53 46.42 48.32</div><input id='attrs-08d909a5-9d1c-43e5-9538-582def864dd1' class='xr-var-attrs-in' type='checkbox' ><label for='attrs-08d909a5-9d1c-43e5-9538-582def864dd1' title='Show/Hide attributes'><svg class='icon xr-icon-file-text2'><use xlink:href='#icon-file-text2'></use></svg></label><input id='data-e6e02c8f-1058-4034-b579-2d2a708b22d8' class='xr-var-data-in' type='checkbox'><label for='data-e6e02c8f-1058-4034-b579-2d2a708b22d8' title='Show/Hide data repr'><svg class='icon xr-icon-database'><use xlink:href='#icon-database'></use></svg></label><div class='xr-var-attrs'><dl class='xr-attrs'><dt><span>long_name :</span></dt><dd>latitude</dd><dt><span>units :</span></dt><dd>degrees_north</dd></dl></div><div class='xr-var-data'><pre>array([44.526316, 46.421053, 48.315789])</pre></div></li><li class='xr-var-item'><div class='xr-var-name'><span class='xr-has-index'>lon</span></div><div class='xr-var-dims'>(lon)</div><div class='xr-var-dtype'>float64</div><div class='xr-var-preview xr-preview'>7.5 10.0 12.5</div><input id='attrs-9b54bd9b-dae3-4dd0-a222-c627e4ef8bbe' class='xr-var-attrs-in' type='checkbox' ><label for='attrs-9b54bd9b-dae3-4dd0-a222-c627e4ef8bbe' title='Show/Hide attributes'><svg class='icon xr-icon-file-text2'><use xlink:href='#icon-file-text2'></use></svg></label><input id='data-db8d2b13-5ffb-49d6-aea5-48bc068990c1' class='xr-var-data-in' type='checkbox'><label for='data-db8d2b13-5ffb-49d6-aea5-48bc068990c1' title='Show/Hide data repr'><svg class='icon xr-icon-database'><use xlink:href='#icon-database'></use></svg></label><div class='xr-var-attrs'><dl class='xr-attrs'><dt><span>long_name :</span></dt><dd>longitude</dd><dt><span>units :</span></dt><dd>degrees_east</dd></dl></div><div class='xr-var-data'><pre>array([ 7.5, 10. , 12.5])</pre></div></li><li class='xr-var-item'><div class='xr-var-name'><span class='xr-has-index'>time</span></div><div class='xr-var-dims'>(time)</div><div class='xr-var-dtype'>object</div><div class='xr-var-preview xr-preview'>1600-02-01 00:00:00 ... 2006-01-...</div><input id='attrs-6b1c3c97-ddc0-4217-94d1-1092577b204e' class='xr-var-attrs-in' type='checkbox' ><label for='attrs-6b1c3c97-ddc0-4217-94d1-1092577b204e' title='Show/Hide attributes'><svg class='icon xr-icon-file-text2'><use xlink:href='#icon-file-text2'></use></svg></label><input id='data-6baf334c-52f8-44e4-9a63-ab9d5b88f60d' class='xr-var-data-in' type='checkbox'><label for='data-6baf334c-52f8-44e4-9a63-ab9d5b88f60d' title='Show/Hide data repr'><svg class='icon xr-icon-database'><use xlink:href='#icon-database'></use></svg></label><div class='xr-var-attrs'><dl class='xr-attrs'><dt><span>long_name :</span></dt><dd>time</dd><dt><span>bounds :</span></dt><dd>time_bnds</dd></dl></div><div class='xr-var-data'><pre>array([cftime.DatetimeNoLeap(1600, 2, 1, 0, 0, 0, 0),\n",
       "       cftime.DatetimeNoLeap(1600, 3, 1, 0, 0, 0, 0),\n",
       "       cftime.DatetimeNoLeap(1600, 4, 1, 0, 0, 0, 0), ...,\n",
       "       cftime.DatetimeNoLeap(2005, 11, 1, 0, 0, 0, 0),\n",
       "       cftime.DatetimeNoLeap(2005, 12, 1, 0, 0, 0, 0),\n",
       "       cftime.DatetimeNoLeap(2006, 1, 1, 0, 0, 0, 0)], dtype=object)</pre></div></li></ul></div></li><li class='xr-section-item'><input id='section-19998055-091f-4785-aa0a-72d0ef8297f3' class='xr-section-summary-in' type='checkbox'  checked><label for='section-19998055-091f-4785-aa0a-72d0ef8297f3' class='xr-section-summary' >Data variables: <span>(2)</span></label><div class='xr-section-inline-details'></div><div class='xr-section-details'><ul class='xr-var-list'><li class='xr-var-item'><div class='xr-var-name'><span>TREFHT</span></div><div class='xr-var-dims'>(time, lat, lon)</div><div class='xr-var-dtype'>float32</div><div class='xr-var-preview xr-preview'>...</div><input id='attrs-e16c7005-98b8-4cbb-9940-a7ce6243b25e' class='xr-var-attrs-in' type='checkbox' ><label for='attrs-e16c7005-98b8-4cbb-9940-a7ce6243b25e' title='Show/Hide attributes'><svg class='icon xr-icon-file-text2'><use xlink:href='#icon-file-text2'></use></svg></label><input id='data-d44a16a7-77e2-420c-813a-01665e76a865' class='xr-var-data-in' type='checkbox'><label for='data-d44a16a7-77e2-420c-813a-01665e76a865' title='Show/Hide data repr'><svg class='icon xr-icon-database'><use xlink:href='#icon-database'></use></svg></label><div class='xr-var-attrs'><dl class='xr-attrs'><dt><span>units :</span></dt><dd>K</dd><dt><span>long_name :</span></dt><dd>Reference height temperature</dd><dt><span>cell_methods :</span></dt><dd>time: mean</dd></dl></div><div class='xr-var-data'><pre>array([[[279.43884, 280.50763, 280.95328],\n",
       "        [276.72617, 276.52774, 276.9282 ],\n",
       "        [276.35532, 275.9136 , 276.2585 ]],\n",
       "\n",
       "       [[278.92038, 280.11533, 280.57602],\n",
       "        [276.3522 , 275.72263, 276.3197 ],\n",
       "        [275.83133, 275.01273, 275.0454 ]],\n",
       "\n",
       "       ...,\n",
       "\n",
       "       [[282.1367 , 283.11325, 283.62878],\n",
       "        [279.1788 , 278.96707, 279.6999 ],\n",
       "        [278.9065 , 278.23563, 278.71674]],\n",
       "\n",
       "       [[278.45703, 279.3073 , 279.69525],\n",
       "        [275.04135, 274.50662, 274.5793 ],\n",
       "        [274.67337, 273.65875, 273.743  ]]], dtype=float32)</pre></div></li><li class='xr-var-item'><div class='xr-var-name'><span>time_bnds</span></div><div class='xr-var-dims'>(time, nbnd)</div><div class='xr-var-dtype'>object</div><div class='xr-var-preview xr-preview'>...</div><input id='attrs-b5de7815-56a1-4aa2-bca6-2759a8d22421' class='xr-var-attrs-in' type='checkbox' ><label for='attrs-b5de7815-56a1-4aa2-bca6-2759a8d22421' title='Show/Hide attributes'><svg class='icon xr-icon-file-text2'><use xlink:href='#icon-file-text2'></use></svg></label><input id='data-99a1c2ce-61e4-4f3e-8edc-83d4993aefda' class='xr-var-data-in' type='checkbox'><label for='data-99a1c2ce-61e4-4f3e-8edc-83d4993aefda' title='Show/Hide data repr'><svg class='icon xr-icon-database'><use xlink:href='#icon-database'></use></svg></label><div class='xr-var-attrs'><dl class='xr-attrs'><dt><span>long_name :</span></dt><dd>time interval endpoints</dd></dl></div><div class='xr-var-data'><pre>array([[cftime.DatetimeNoLeap(1600, 1, 1, 0, 0, 0, 0),\n",
       "        cftime.DatetimeNoLeap(1600, 2, 1, 0, 0, 0, 0)],\n",
       "       [cftime.DatetimeNoLeap(1600, 2, 1, 0, 0, 0, 0),\n",
       "        cftime.DatetimeNoLeap(1600, 3, 1, 0, 0, 0, 0)],\n",
       "       [cftime.DatetimeNoLeap(1600, 3, 1, 0, 0, 0, 0),\n",
       "        cftime.DatetimeNoLeap(1600, 4, 1, 0, 0, 0, 0)],\n",
       "       ...,\n",
       "       [cftime.DatetimeNoLeap(2005, 10, 1, 0, 0, 0, 0),\n",
       "        cftime.DatetimeNoLeap(2005, 11, 1, 0, 0, 0, 0)],\n",
       "       [cftime.DatetimeNoLeap(2005, 11, 1, 0, 0, 0, 0),\n",
       "        cftime.DatetimeNoLeap(2005, 12, 1, 0, 0, 0, 0)],\n",
       "       [cftime.DatetimeNoLeap(2005, 12, 1, 0, 0, 0, 0),\n",
       "        cftime.DatetimeNoLeap(2006, 1, 1, 0, 0, 0, 0)]], dtype=object)</pre></div></li></ul></div></li><li class='xr-section-item'><input id='section-1115ab8e-5ce3-432b-89a5-e83a9b0ea926' class='xr-section-summary-in' type='checkbox'  ><label for='section-1115ab8e-5ce3-432b-89a5-e83a9b0ea926' class='xr-section-summary' >Attributes: <span>(13)</span></label><div class='xr-section-inline-details'></div><div class='xr-section-details'><dl class='xr-attrs'><dt><span>Conventions :</span></dt><dd>CF-1.0</dd><dt><span>source :</span></dt><dd>CAM</dd><dt><span>case :</span></dt><dd>b.e11.BLMTRC5CN.f19_g16.001</dd><dt><span>title :</span></dt><dd>UNSET</dd><dt><span>logname :</span></dt><dd>nanr</dd><dt><span>host :</span></dt><dd>ys0772</dd><dt><span>Version :</span></dt><dd>$Name$</dd><dt><span>revision_Id :</span></dt><dd>$Id$</dd><dt><span>initial_file :</span></dt><dd>b.e11.B1850C5CN.f19_g16.0850cntl.001.cam.i.0850-01-01-00000.nc</dd><dt><span>topography_file :</span></dt><dd>/glade/p/cesmdata/cseg/inputdata/atm/cam/topo/consistent-topo-fv1.9x2.5_c130424.nc</dd><dt><span>history :</span></dt><dd>Fri Apr  7 14:13:45 2017: ncks -v TREFHT -d lon,7.5,12.5 -d lat,44.5,48.6 -F -d time,9001,13872,1 b.e11.BLMTRC5CN.f19_g16.001.cam.h0.TREFHT.085001-200512.nc b.e11.BLMTRC5CN.f19_g16.001.cam.h0.TREFHT.160001-200512.selection.nc\n",
       "Fri Nov 29 13:03:43 2013: ncrcat b.e11.BLMTRC5CN.f19_g16.001.cam.h0.TREFHT.085001-166912.nc b.e11.BLMTRC5CN.f19_g16.001.cam.h0.TREFHT.167001-169912.nc X_b.e11.BLMTRC5CN.f19_g16.001.cam.h0.TREFHT.167001-169912.nc\n",
       "Thu Nov 28 20:08:28 2013: ncrcat b.e11.BLMTRC5CN.f19_g16.001.cam.h0.TREFHT.085001-164912.nc b.e11.BLMTRC5CN.f19_g16.001.cam.h0.TREFHT.165001-166912.nc ../b.e11.BLMTRC5CN.f19_g16.001.cam.h0.TREFHT.085001-166912.nc\n",
       "Wed Nov 27 14:08:40 2013: ncks -4 CAT.b.e11.BLMTRC5CN.f19_g16.001.cam.h0.TREFHT.085001-164912.nc Q.nc\n",
       "Wed Nov 27 10:38:42 2013: /glade/u/home/strandwg/bin/ncrcat -O b.e11.BLMTRC5CN.f19_g16.001.cam.h0.TREFHT.0850.nc b.e11.BLMTRC5CN.f19_g16.001.cam.h0.TREFHT.0851.nc b.e11.BLMTRC5CN.f19_g16.001.cam.h0.TREFHT.0852.nc b.e11.BLMTRC5CN.f19_g16.001.cam.h0.TREFHT.0853.nc b.e11.BLMTRC5CN.f19_g16.001.cam.h0.TREFHT.0854.nc b.e11.BLMTRC5CN.f19_g16.001.cam.h0.TREFHT.0855.nc b.e11.BLMTRC5CN.f19_g16.001.cam.h0.TREFHT.0856.nc b.e11.BLMTRC5CN.f19_g16.001.cam.h0.TREFHT.0857.nc b.e11.BLMTRC5CN.f19_g16.001.cam.h0.TREFHT.0858.nc b.e11.BLMTRC5CN.f19_g16.001.cam.h0.TREFHT.0859.nc b.e11.BLMTRC5CN.f19_g16.001.cam.h0.TREFHT.0860.nc b.e11.BLMTRC5CN.f19_g16.001.cam.h0.TREFHT.0861.nc b.e11.BLMTRC5CN.f19_g16.001.cam.h0.TREFHT.0862.nc b.e11.BLMTRC5CN.f19_g16.001.cam.h0.TREFHT.0863.nc b.e11.BLMTRC5CN.f19_g16.001.cam.h0.TREFHT.0864.nc b.e11.BLMTRC5CN.f19_g16.001.cam.h0.TREFHT.0865.nc b.e11.BLMTRC5CN.f19_g16.001.cam.h0.TREFHT.0866.nc b.e11.BLMTRC5CN.f19_g16.001.cam.h0.TREFHT.0867.nc b.e11.BLMTRC5CN.f19_g16.001.cam.h0.TREFHT.0868.nc b.e11.BLMTRC5CN.f19_g16.001.cam.h0.TREFHT.0869.nc b.e11.BLMTRC5CN.f19_g16.001.cam.h0.TREFHT.0870.nc b.e11.BLMTRC5CN.f19_g16.001.cam.h0.TREFHT.0871.nc b.e11.BLMTRC5CN.f19_g16.001.cam.h0.TREFHT.0872.nc b.e11.BLMTRC5CN.f19_g16.001.cam.h0.TREFHT.0873.nc b.e11.BLMTRC5CN.f19_g16.001.cam.h0.TREFHT.0874.nc b.e11.BLMTRC5CN.f19_g16.001.cam.h0.TREFHT.0875.nc b.e11.BLMTRC5CN.f19_g16.001.cam.h0.TREFHT.0876.nc b.e11.BLMTRC5CN.f19_g16.001.cam.h0.TREFHT.0877.nc b.e11.BLMTRC5CN.f19_g16.001.cam.h0.TREFHT.0878.nc b.e11.BLMTRC5CN.f19_g16.001.cam.h0.TREFHT.0879.nc b.e11.BLMTRC5CN.f19_g16.001.cam.h0.TREFHT.0880.nc b.e11.BLMTRC5CN.f19_g16.001.cam.h0.TREFHT.0881.nc b.e11.BLMTRC5CN.f19_g16.001.cam.h0.TREFHT.0882.nc b.e11.BLMTRC5CN.f19_g16.001.cam.h0.TREFHT.0883.nc b.e11.BLMTRC5CN.f19_g16.001.cam.h0.TREFHT.0884.nc b.e11.BLMTRC5CN.f19_g16.001.cam.h0.TREFHT.0885.nc b.e11.BLMTRC5CN.f19_g16.001.cam.h0.TREFHT.0886.nc b.e11.BLMTRC5CN.f19_g16.001.cam.h0.TREFHT.0887.nc b.e11.BLMTRC5CN.f19_g16.001.cam.h0.TREFHT.0888.nc b.e11.BLMTRC5CN.f19_g16.001.cam.h0.TREFHT.0889.nc b.e11.BLMTRC5CN.f19_g16.001.cam.h0.TREFHT.0890.nc b.e11.BLMTRC5CN.f19_g16.001.cam.h0.TREFHT.0891.nc b.e11.BLMTRC5CN.f19_g16.001.cam.h0.TREFHT.0892.nc b.e11.BLMTRC5CN.f19_g16.001.cam.h0.TREFHT.0893.nc b.e11.BLMTRC5CN.f19_g16.001.cam.h0.TREFHT.0894.nc b.e11.BLMTRC5CN.f19_g16.001.cam.h0.TREFHT.0895.nc b.e11.BLMTRC5CN.f19_g16.001.cam.h0.TREFHT.0896.nc b.e11.BLMTRC5CN.f19_g16.001.cam.h0.TREFHT.0897.nc b.e11.BLMTRC5CN.f19_g16.001.cam.h0.TREFHT.0898.nc b.e11.BLMTRC5CN.f19_g16.001.cam.h0.TREFHT.0899.nc b.e11.BLMTRC5CN.f19_g16.001.cam.h0.TREFHT.0900.nc b.e11.BLMTRC5CN.f19_g16.001.cam.h0.TREFHT.0901.nc b.e11.BLMTRC5CN.f19_g16.001.cam.h0.TREFHT.0902.nc b.e11.BLMTRC5CN.f19_g16.001.cam.h0.TREFHT.0903.nc b.e11.BLMTRC5CN.f19_g16.001.cam.h0.TREFHT.0904.nc b.e11.BLMTRC5CN.f19_g16.001.cam.h0.TREFHT.0905.nc b.e11.BLMTRC5CN.f19_g16.001.cam.h0.TREFHT.0906.nc b.e11.BLMTRC5CN.f19_g16.001.cam.h0.TREFHT.0907.nc b.e11.BLMTRC5CN.f19_g16.001.cam.h0.TREFHT.0908.nc b.e11.BLMTRC5CN.f19_g16.001.cam.h0.TREFHT.0909.nc b.e11.BLMTRC5CN.f19_g16.001.cam.h0.TREFHT.0910.nc b.e11.BLMTRC5CN.f19_g16.001.cam.h0.TREFHT.0911.nc b.e11.BLMTRC5CN.f19_g16.001.cam.h0.TREFHT.0912.nc b.e11.BLMTRC5CN.f19_g16.001.cam.h0.TREFHT.0913.nc b.e11.BLMTRC5CN.f19_g16.001.cam.h0.TREFHT.0914.nc b.e11.BLMTRC5CN.f19_g16.001.cam.h0.TREFHT.0915.nc b.e11.BLMTRC5CN.f19_g16.001.cam.h0.TREFHT.0916.nc b.e11.BLMTRC5CN.f19_g16.001.cam.h0.TREFHT.0917.nc b.e11.BLMTRC5CN.f19_g16.001.cam.h0.TREFHT.0918.nc b.e11.BLMTRC5CN.f19_g16.001.cam.h0.TREFHT.0919.nc b.e11.BLMTRC5CN.f19_g16.001.cam.h0.TREFHT.0920.nc b.e11.BLMTRC5CN.f19_g16.001.cam.h0.TREFHT.0921.nc b.e11.BLMTRC5CN.f19_g16.001.cam.h0.TREFHT.0922.nc b.e11.BLMTRC5CN.f19_g16.001.cam.h0.TREFHT.0923.nc b.e11.BLMTRC5CN.f19_g16.001.cam.h0.TREFHT.0924.nc b.e11.BLMTRC5CN.f19_g16.001.cam.h0.TREFHT.0925.nc b.e11.BLMTRC5CN.f19_g16.001.cam.h0.TREFHT.0926.nc b.e11.BLMTRC5CN.f19_g16.001.cam.h0.TREFHT.0927.nc b.e11.BLMTRC5CN.f19_g16.001.cam.h0.TREFHT.0928.nc b.e11.BLMTRC5CN.f19_g16.001.cam.h0.TREFHT.0929.nc b.e11.BLMTRC5CN.f19_g16.001.cam.h0.TREFHT.0930.nc b.e11.BLMTRC5CN.f19_g16.001.cam.h0.TREFHT.0931.nc b.e11.BLMTRC5CN.f19_g16.001.cam.h0.TREFHT.0932.nc b.e11.BLMTRC5CN.f19_g16.001.cam.h0.TREFHT.0933.nc b.e11.BLMTRC5CN.f19_g16.001.cam.h0.TREFHT.0934.nc b.e11.BLMTRC5CN.f19_g16.001.cam.h0.TREFHT.0935.nc b.e11.BLMTRC5CN.f19_g16.001.cam.h0.TREFHT.0936.nc b.e11.BLMTRC5CN.f19_g16.001.cam.h0.TREFHT.0937.nc b.e11.BLMTRC5CN.f19_g16.001.cam.h0.TREFHT.0938.nc b.e11.BLMTRC5CN.f19_g16.001.cam.h0.TREFHT.0939.nc b.e11.BLMTRC5CN.f19_g16.001.cam.h0.TREFHT.0940.nc b.e11.BLMTRC5CN.f19_g16.001.cam.h0.TREFHT.0941.nc b.e11.BLMTRC5CN.f19_g16.001.cam.h0.TREFHT.0942.nc b.e11.BLMTRC5CN.f19_g16.001.cam.h0.TREFHT.0943.nc b.e11.BLMTRC5CN.f19_g16.001.cam.h0.TREFHT.0944.nc b.e11.BLMTRC5CN.f19_g16.001.cam.h0.TREFHT.0945.nc b.e11.BLMTRC5CN.f19_g16.001.cam.h0.TREFHT.0946.nc b.e11.BLMTRC5CN.f19_g16.001.cam.h0.TREFHT.0947.nc b.e11.BLMTRC5CN.f19_g16.001.cam.h0.TREFHT.0948.nc b.e11.BLMTRC5CN.f19_g16.001.cam.h0.TREFHT.0949.nc b.e11.BLMTRC5CN.f19_g16.001.cam.h0.TREFHT.0950.nc b.e11.BLMTRC5CN.f19_g16.001.cam.h0.TREFHT.0951.nc b.e11.BLMTRC5CN.f19_g16.001.cam.h0.TREFHT.0952.nc b.e11.BLMTRC5CN.f19_g16.001.cam.h0.TREFHT.0953.nc b.e11.BLMTRC5CN.f19_g16.001.cam.h0.TREFHT.0954.nc b.e11.BLMTRC5CN.f19_g16.001.cam.h0.TREFHT.0955.nc b.e11.BLMTRC5CN.f19_g16.001.cam.h0.TREFHT.0956.nc b.e11.BLMTRC5CN.f19_g16.001.cam.h0.TREFHT.0957.nc b.e11.BLMTRC5CN.f19_g16.001.cam.h0.TREFHT.0958.nc b.e11.BLMTRC5CN.f19_g16.001.cam.h0.TREFHT.0959.nc b.e11.BLMTRC5CN.f19_g16.001.cam.h0.TREFHT.0960.nc b.e11.BLMTRC5CN.f19_g16.001.cam.h0.TREFHT.0961.nc b.e11.BLMTRC5CN.f19_g16.001.cam.h0.TREFHT.0962.nc b.e11.BLMTRC5CN.f19_g16.001.cam.h0.TREFHT.0963.nc b.e11.BLMTRC5CN.f19_g16.001.cam.h0.TREFHT.0964.nc b.e11.BLMTRC5CN.f19_g16.001.cam.h0.TREFHT.0965.nc b.e11.BLMTRC5CN.f19_g16.001.cam.h0.TREFHT.0966.nc b.e11.BLMTRC5CN.f19_g16.001.cam.h0.TREFHT.0967.nc b.e11.BLMTRC5CN.f19_g16.001.cam.h0.TREFHT.0968.nc b.e11.BLMTRC5CN.f19_g16.001.cam.h0.TREFHT.0969.nc b.e11.BLMTRC5CN.f19_g16.001.cam.h0.TREFHT.0970.nc b.e11.BLMTRC5CN.f19_g16.001.cam.h0.TREFHT.0971.nc b.e11.BLMTRC5CN.f19_g16.001.cam.h0.TREFHT.0972.nc b.e11.BLMTRC5CN.f19_g16.001.cam.h0.TREFHT.0973.nc b.e11.BLMTRC5CN.f19_g16.001.cam.h0.TREFHT.0974.nc b.e11.BLMTRC5CN.f19_g16.001.cam.h0.TREFHT.0975.nc b.e11.BLMTRC5CN.f19_g16.001.cam.h0.TREFHT.0976.nc b.e11.BLMTRC5CN.f19_g16.001.cam.h0.TREFHT.0977.nc b.e11.BLMTRC5CN.f19_g16.001.cam.h0.TREFHT.0978.nc b.e11.BLMTRC5CN.f19_g16.001.cam.h0.TREFHT.0979.nc b.e11.BLMTRC5CN.f19_g16.001.cam.h0.TREFHT.0980.nc b.e11.BLMTRC5CN.f19_g16.001.cam.h0.TREFHT.0981.nc b.e11.BLMTRC5CN.f19_g16.001.cam.h0.TREFHT.0982.nc b.e11.BLMTRC5CN.f19_g16.001.cam.h0.TREFHT.0983.nc b.e11.BLMTRC5CN.f19_g16.001.cam.h0.TREFHT.0984.nc b.e11.BLMTRC5CN.f19_g16.001.cam.h0.TREFHT.0985.nc b.e11.BLMTRC5CN.f19_g16.001.cam.h0.TREFHT.0986.nc b.e11.BLMTRC5CN.f19_g16.001.cam.h0.TREFHT.0987.nc b.e11.BLMTRC5CN.f19_g16.001.cam.h0.TREFHT.0988.nc b.e11.BLMTRC5CN.f19_g16.001.cam.h0.TREFHT.0989.nc b.e11.BLMTRC5CN.f19_g16.001.cam.h0.TREFHT.0990.nc b.e11.BLMTRC5CN.f19_g16.001.cam.h0.TREFHT.0991.nc b.e11.BLMTRC5CN.f19_g16.001.cam.h0.TREFHT.0992.nc b.e11.BLMTRC5CN.f19_g16.001.cam.h0.TREFHT.0993.nc b.e11.BLMTRC5CN.f19_g16.001.cam.h0.TREFHT.0994.nc b.e11.BLMTRC5CN.f19_g16.001.cam.h0.TREFHT.0995.nc b.e11.BLMTRC5CN.f19_g16.001.cam.h0.TREFHT.0996.nc b.e11.BLMTRC5CN.f19_g16.001.cam.h0.TREFHT.0997.nc b.e11.BLMTRC5CN.f19_g16.001.cam.h0.TREFHT.0998.nc b.e11.BLMTRC5CN.f19_g16.001.cam.h0.TREFHT.0999.nc b.e11.BLMTRC5CN.f19_g16.001.cam.h0.TREFHT.1000.nc b.e11.BLMTRC5CN.f19_g16.001.cam.h0.TREFHT.1001.nc b.e11.BLMTRC5CN.f19_g16.001.cam.h0.TREFHT.1002.nc b.e11.BLMTRC5CN.f19_g16.001.cam.h0.TREFHT.1003.nc b.e11.BLMTRC5CN.f19_g16.001.cam.h0.TREFHT.1004.nc b.e11.BLMTRC5CN.f19_g16.001.cam.h0.TREFHT.1005.nc b.e11.BLMTRC5CN.f19_g16.001.cam.h0.TREFHT.1006.nc b.e11.BLMTRC5CN.f19_g16.001.cam.h0.TREFHT.1007.nc b.e11.BLMTRC5CN.f19_g16.001.cam.h0.TREFHT.1008.nc b.e11.BLMTRC5CN.f19_g16.001.cam.h0.TREFHT.1009.nc b.e11.BLMTRC5CN.f19_g16.001.cam.h0.TREFHT.1010.nc b.e11.BLMTRC5CN.f19_g16.001.cam.h0.TREFHT.1011.nc b.e11.BLMTRC5CN.f19_g16.001.cam.h0.TREFHT.1012.nc b.e11.BLMTRC5CN.f19_g16.001.cam.h0.TREFHT.1013.nc b.e11.BLMTRC5CN.f19_g16.001.cam.h0.TREFHT.1014.nc b.e11.BLMTRC5CN.f19_g16.001.cam.h0.TREFHT.1015.nc b.e11.BLMTRC5CN.f19_g16.001.cam.h0.TREFHT.1016.nc b.e11.BLMTRC5CN.f19_g16.001.cam.h0.TREFHT.1017.nc b.e11.BLMTRC5CN.f19_g16.001.cam.h0.TREFHT.1018.nc b.e11.BLMTRC5CN.f19_g16.001.cam.h0.TREFHT.1019.nc b.e11.BLMTRC5CN.f19_g16.001.cam.h0.TREFHT.1020.nc b.e11.BLMTRC5CN.f19_g16.001.cam.h0.TREFHT.1021.nc b.e11.BLMTRC5CN.f19_g16.001.cam.h0.TREFHT.1022.nc b.e11.BLMTRC5CN.f19_g16.001.cam.h0.TREFHT.1023.nc b.e11.BLMTRC5CN.f19_g16.001.cam.h0.TREFHT.1024.nc b.e11.BLMTRC5CN.f19_g16.001.cam.h0.TREFHT.1025.nc b.e11.BLMTRC5CN.f19_g16.001.cam.h0.TREFHT.1026.nc b.e11.BLMTRC5CN.f19_g16.001.cam.h0.TREFHT.1027.nc b.e11.BLMTRC5CN.f19_g16.001.cam.h0.TREFHT.1028.nc b.e11.BLMTRC5CN.f19_g16.001.cam.h0.TREFHT.1029.nc b.e11.BLMTRC5CN.f19_g16.001.cam.h0.TREFHT.1030.nc b.e11.BLMTRC5CN.f19_g16.001.cam.h0.TREFHT.1031.nc b.e11.BLMTRC5CN.f19_g16.001.cam.h0.TREFHT.1032.nc b.e11.BLMTRC5CN.f19_g16.001.cam.h0.TREFHT.1033.nc b.e11.BLMTRC5CN.f19_g16.001.cam.h0.TREFHT.1034.nc b.e11.BLMTRC5CN.f19_g16.001.cam.h0.TREFHT.1035.nc b.e11.BLMTRC5CN.f19_g16.001.cam.h0.TREFHT.1036.nc b.e11.BLMTRC5CN.f19_g16.001.cam.h0.TREFHT.1037.nc b.e11.BLMTRC5CN.f19_g16.001.cam.h0.TREFHT.1038.nc b.e11.BLMTRC5CN.f19_g16.001.cam.h0.TREFHT.1039.nc b.e11.BLMTRC5CN.f19_g16.001.cam.h0.TREFHT.1040.nc b.e11.BLMTRC5CN.f19_g16.001.cam.h0.TREFHT.1041.nc b.e11.BLMTRC5CN.f19_g16.001.cam.h0.TREFHT.1042.nc b.e11.BLMTRC5CN.f19_g16.001.cam.h0.TREFHT.1043.nc b.e11.BLMTRC5CN.f19_g16.001.cam.h0.TREFHT.1044.nc b.e11.BLMTRC5CN.f19_g16.001.cam.h0.TREFHT.1045.nc b.e11.BLMTRC5CN.f19_g16.001.cam.h0.TREFHT.1046.nc b.e11.BLMTRC5CN.f19_g16.001.cam.h0.TREFHT.1047.nc b.e11.BLMTRC5CN.f19_g16.001.cam.h0.TREFHT.1048.nc b.e11.BLMTRC5CN.f19_g16.001.cam.h0.TREFHT.1049.nc b.e11.BLMTRC5CN.f19_g16.001.cam.h0.TREFHT.1050.nc b.e11.BLMTRC5CN.f19_g16.001.cam.h0.TREFHT.1051.nc b.e11.BLMTRC5CN.f19_g16.001.cam.h0.TREFHT.1052.nc b.e11.BLMTRC5CN.f19_g16.001.cam.h0.TREFHT.1053.nc b.e11.BLMTRC5CN.f19_g16.001.cam.h0.TREFHT.1054.nc b.e11.BLMTRC5CN.f19_g16.001.cam.h0.TREFHT.1055.nc b.e11.BLMTRC5CN.f19_g16.001.cam.h0.TREFHT.1056.nc b.e11.BLMTRC5CN.f19_g16.001.cam.h0.TREFHT.1057.nc b.e11.BLMTRC5CN.f19_g16.001.cam.h0.TREFHT.1058.nc b.e11.BLMTRC5CN.f19_g16.001.cam.h0.TREFHT.1059.nc b.e11.BLMTRC5CN.f19_g16.001.cam.h0.TREFHT.1060.nc b.e11.BLMTRC5CN.f19_g16.001.cam.h0.TREFHT.1061.nc b.e11.BLMTRC5CN.f19_g16.001.cam.h0.TREFHT.1062.nc b.e11.BLMTRC5CN.f19_g16.001.cam.h0.TREFHT.1063.nc b.e11.BLMTRC5CN.f19_g16.001.cam.h0.TREFHT.1064.nc b.e11.BLMTRC5CN.f19_g16.001.cam.h0.TREFHT.1065.nc b.e11.BLMTRC5CN.f19_g16.001.cam.h0.TREFHT.1066.nc b.e11.BLMTRC5CN.f19_g16.001.cam.h0.TREFHT.1067.nc b.e11.BLMTRC5CN.f19_g16.001.cam.h0.TREFHT.1068.nc b.e11.BLMTRC5CN.f19_g16.001.cam.h0.TREFHT.1069.nc b.e11.BLMTRC5CN.f19_g16.001.cam.h0.TREFHT.1070.nc b.e11.BLMTRC5CN.f19_g16.001.cam.h0.TREFHT.1071.nc b.e11.BLMTRC5CN.f19_g16.001.cam.h0.TREFHT.1072.nc b.e11.BLMTRC5CN.f19_g16.001.cam.h0.TREFHT.1073.nc b.e11.BLMTRC5CN.f19_g16.001.cam.h0.TREFHT.1074.nc b.e11.BLMTRC5CN.f19_g16.001.cam.h0.TREFHT.1075.nc b.e11.BLMTRC5CN.f19_g16.001.cam.h0.TREFHT.1076.nc b.e11.BLMTRC5CN.f19_g16.001.cam.h0.TREFHT.1077.nc b.e11.BLMTRC5CN.f19_g16.001.cam.h0.TREFHT.1078.nc b.e11.BLMTRC5CN.f19_g16.001.cam.h0.TREFHT.1079.nc b.e11.BLMTRC5CN.f19_g16.001.cam.h0.TREFHT.1080.nc b.e11.BLMTRC5CN.f19_g16.001.cam.h0.TREFHT.1081.nc b.e11.BLMTRC5CN.f19_g16.001.cam.h0.TREFHT.1082.nc b.e11.BLMTRC5CN.f19_g16.001.cam.h0.TREFHT.1083.nc b.e11.BLMTRC5CN.f19_g16.001.cam.h0.TREFHT.1084.nc b.e11.BLMTRC5CN.f19_g16.001.cam.h0.TREFHT.1085.nc b.e11.BLMTRC5CN.f19_g16.001.cam.h0.TREFHT.1086.nc b.e11.BLMTRC5CN.f19_g16.001.cam.h0.TREFHT.1087.nc b.e11.BLMTRC5CN.f19_g16.001.cam.h0.TREFHT.1088.nc b.e11.BLMTRC5CN.f19_g16.001.cam.h0.TREFHT.1089.nc b.e11.BLMTRC5CN.f19_g16.001.cam.h0.TREFHT.1090.nc b.e11.BLMTRC5CN.f19_g16.001.cam.h0.TREFHT.1091.nc b.e11.BLMTRC5CN.f19_g16.001.cam.h0.TREFHT.1092.nc b.e11.BLMTRC5CN.f19_g16.001.cam.h0.TREFHT.1093.nc b.e11.BLMTRC5CN.f19_g16.001.cam.h0.TREFHT.1094.nc b.e11.BLMTRC5CN.f19_g16.001.cam.h0.TREFHT.1095.nc b.e11.BLMTRC5CN.f19_g16.001.cam.h0.TREFHT.1096.nc b.e11.BLMTRC5CN.f19_g16.001.cam.h0.TREFHT.1097.nc b.e11.BLMTRC5CN.f19_g16.001.cam.h0.TREFHT.1098.nc b.e11.BLMTRC5CN.f19_g16.001.cam.h0.TREFHT.1099.nc b.e11.BLMTRC5CN.f19_g16.001.cam.h0.TREFHT.1100.nc b.e11.BLMTRC5CN.f19_g16.001.cam.h0.TREFHT.1101.nc b.e11.BLMTRC5CN.f19_g16.001.cam.h0.TREFHT.1102.nc b.e11.BLMTRC5CN.f19_g16.001.cam.h0.TREFHT.1103.nc b.e11.BLMTRC5CN.f19_g16.001.cam.h0.TREFHT.1104.nc b.e11.BLMTRC5CN.f19_g16.001.cam.h0.TREFHT.1105.nc b.e11.BLMTRC5CN.f19_g16.001.cam.h0.TREFHT.1106.nc b.e11.BLMTRC5CN.f19_g16.001.cam.h0.TREFHT.1107.nc b.e11.BLMTRC5CN.f19_g16.001.cam.h0.TREFHT.1108.nc b.e11.BLMTRC5CN.f19_g16.001.cam.h0.TREFHT.1109.nc b.e11.BLMTRC5CN.f19_g16.001.cam.h0.TREFHT.1110.nc b.e11.BLMTRC5CN.f19_g16.001.cam.h0.TREFHT.1111.nc b.e11.BLMTRC5CN.f19_g16.001.cam.h0.TREFHT.1112.nc b.e11.BLMTRC5CN.f19_g16.001.cam.h0.TREFHT.1113.nc b.e11.BLMTRC5CN.f19_g16.001.cam.h0.TREFHT.1114.nc b.e11.BLMTRC5CN.f19_g16.001.cam.h0.TREFHT.1115.nc b.e11.BLMTRC5CN.f19_g16.001.cam.h0.TREFHT.1116.nc b.e11.BLMTRC5CN.f19_g16.001.cam.h0.TREFHT.1117.nc b.e11.BLMTRC5CN.f19_g16.001.cam.h0.TREFHT.1118.nc b.e11.BLMTRC5CN.f19_g16.001.cam.h0.TREFHT.1119.nc b.e11.BLMTRC5CN.f19_g16.001.cam.h0.TREFHT.1120.nc b.e11.BLMTRC5CN.f19_g16.001.cam.h0.TREFHT.1121.nc b.e11.BLMTRC5CN.f19_g16.001.cam.h0.TREFHT.1122.nc b.e11.BLMTRC5CN.f19_g16.001.cam.h0.TREFHT.1123.nc b.e11.BLMTRC5CN.f19_g16.001.cam.h0.TREFHT.1124.nc b.e11.BLMTRC5CN.f19_g16.001.cam.h0.TREFHT.1125.nc b.e11.BLMTRC5CN.f19_g16.001.cam.h0.TREFHT.1126.nc b.e11.BLMTRC5CN.f19_g16.001.cam.h0.TREFHT.1127.nc b.e11.BLMTRC5CN.f19_g16.001.cam.h0.TREFHT.1128.nc b.e11.BLMTRC5CN.f19_g16.001.cam.h0.TREFHT.1129.nc b.e11.BLMTRC5CN.f19_g16.001.cam.h0.TREFHT.1130.nc b.e11.BLMTRC5CN.f19_g16.001.cam.h0.TREFHT.1131.nc b.e11.BLMTRC5CN.f19_g16.001.cam.h0.TREFHT.1132.nc b.e11.BLMTRC5CN.f19_g16.001.cam.h0.TREFHT.1133.nc b.e11.BLMTRC5CN.f19_g16.001.cam.h0.TREFHT.1134.nc b.e11.BLMTRC5CN.f19_g16.001.cam.h0.TREFHT.1135.nc b.e11.BLMTRC5CN.f19_g16.001.cam.h0.TREFHT.1136.nc b.e11.BLMTRC5CN.f19_g16.001.cam.h0.TREFHT.1137.nc b.e11.BLMTRC5CN.f19_g16.001.cam.h0.TREFHT.1138.nc b.e11.BLMTRC5CN.f19_g16.001.cam.h0.TREFHT.1139.nc b.e11.BLMTRC5CN.f19_g16.001.cam.h0.TREFHT.1140.nc b.e11.BLMTRC5CN.f19_g16.001.cam.h0.TREFHT.1141.nc b.e11.BLMTRC5CN.f19_g16.001.cam.h0.TREFHT.1142.nc b.e11.BLMTRC5CN.f19_g16.001.cam.h0.TREFHT.1143.nc b.e11.BLMTRC5CN.f19_g16.001.cam.h0.TREFHT.1144.nc b.e11.BLMTRC5CN.f19_g16.001.cam.h0.TREFHT.1145.nc b.e11.BLMTRC5CN.f19_g16.001.cam.h0.TREFHT.1146.nc b.e11.BLMTRC5CN.f19_g16.001.cam.h0.TREFHT.1147.nc b.e11.BLMTRC5CN.f19_g16.001.cam.h0.TREFHT.1148.nc b.e11.BLMTRC5CN.f19_g16.001.cam.h0.TREFHT.1149.nc b.e11.BLMTRC5CN.f19_g16.001.cam.h0.TREFHT.1150.nc b.e11.BLMTRC5CN.f19_g16.001.cam.h0.TREFHT.1151.nc b.e11.BLMTRC5CN.f19_g16.001.cam.h0.TREFHT.1152.nc b.e11.BLMTRC5CN.f19_g16.001.cam.h0.TREFHT.1153.nc b.e11.BLMTRC5CN.f19_g16.001.cam.h0.TREFHT.1154.nc b.e11.BLMTRC5CN.f19_g16.001.cam.h0.TREFHT.1155.nc b.e11.BLMTRC5CN.f19_g16.001.cam.h0.TREFHT.1156.nc b.e11.BLMTRC5CN.f19_g16.001.cam.h0.TREFHT.1157.nc b.e11.BLMTRC5CN.f19_g16.001.cam.h0.TREFHT.1158.nc b.e11.BLMTRC5CN.f19_g16.001.cam.h0.TREFHT.1159.nc b.e11.BLMTRC5CN.f19_g16.001.cam.h0.TREFHT.1160.nc b.e11.BLMTRC5CN.f19_g16.001.cam.h0.TREFHT.1161.nc b.e11.BLMTRC5CN.f19_g16.001.cam.h0.TREFHT.1162.nc b.e11.BLMTRC5CN.f19_g16.001.cam.h0.TREFHT.1163.nc b.e11.BLMTRC5CN.f19_g16.001.cam.h0.TREFHT.1164.nc b.e11.BLMTRC5CN.f19_g16.001.cam.h0.TREFHT.1165.nc b.e11.BLMTRC5CN.f19_g16.001.cam.h0.TREFHT.1166.nc b.e11.BLMTRC5CN.f19_g16.001.cam.h0.TREFHT.1167.nc b.e11.BLMTRC5CN.f19_g16.001.cam.h0.TREFHT.1168.nc b.e11.BLMTRC5CN.f19_g16.001.cam.h0.TREFHT.1169.nc b.e11.BLMTRC5CN.f19_g16.001.cam.h0.TREFHT.1170.nc b.e11.BLMTRC5CN.f19_g16.001.cam.h0.TREFHT.1171.nc b.e11.BLMTRC5CN.f19_g16.001.cam.h0.TREFHT.1172.nc b.e11.BLMTRC5CN.f19_g16.001.cam.h0.TREFHT.1173.nc b.e11.BLMTRC5CN.f19_g16.001.cam.h0.TREFHT.1174.nc b.e11.BLMTRC5CN.f19_g16.001.cam.h0.TREFHT.1175.nc b.e11.BLMTRC5CN.f19_g16.001.cam.h0.TREFHT.1176.nc b.e11.BLMTRC5CN.f19_g16.001.cam.h0.TREFHT.1177.nc b.e11.BLMTRC5CN.f19_g16.001.cam.h0.TREFHT.1178.nc b.e11.BLMTRC5CN.f19_g16.001.cam.h0.TREFHT.1179.nc b.e11.BLMTRC5CN.f19_g16.001.cam.h0.TREFHT.1180.nc b.e11.BLMTRC5CN.f19_g16.001.cam.h0.TREFHT.1181.nc b.e11.BLMTRC5CN.f19_g16.001.cam.h0.TREFHT.1182.nc b.e11.BLMTRC5CN.f19_g16.001.cam.h0.TREFHT.1183.nc b.e11.BLMTRC5CN.f19_g16.001.cam.h0.TREFHT.1184.nc b.e11.BLMTRC5CN.f19_g16.001.cam.h0.TREFHT.1185.nc b.e11.BLMTRC5CN.f19_g16.001.cam.h0.TREFHT.1186.nc b.e11.BLMTRC5CN.f19_g16.001.cam.h0.TREFHT.1187.nc b.e11.BLMTRC5CN.f19_g16.001.cam.h0.TREFHT.1188.nc b.e11.BLMTRC5CN.f19_g16.001.cam.h0.TREFHT.1189.nc b.e11.BLMTRC5CN.f19_g16.001.cam.h0.TREFHT.1190.nc b.e11.BLMTRC5CN.f19_g16.001.cam.h0.TREFHT.1191.nc b.e11.BLMTRC5CN.f19_g16.001.cam.h0.TREFHT.1192.nc b.e11.BLMTRC5CN.f19_g16.001.cam.h0.TREFHT.1193.nc b.e11.BLMTRC5CN.f19_g16.001.cam.h0.TREFHT.1194.nc b.e11.BLMTRC5CN.f19_g16.001.cam.h0.TREFHT.1195.nc b.e11.BLMTRC5CN.f19_g16.001.cam.h0.TREFHT.1196.nc b.e11.BLMTRC5CN.f19_g16.001.cam.h0.TREFHT.1197.nc b.e11.BLMTRC5CN.f19_g16.001.cam.h0.TREFHT.1198.nc b.e11.BLMTRC5CN.f19_g16.001.cam.h0.TREFHT.1199.nc b.e11.BLMTRC5CN.f19_g16.001.cam.h0.TREFHT.1200.nc b.e11.BLMTRC5CN.f19_g16.001.cam.h0.TREFHT.1201.nc b.e11.BLMTRC5CN.f19_g16.001.cam.h0.TREFHT.1202.nc b.e11.BLMTRC5CN.f19_g16.001.cam.h0.TREFHT.1203.nc b.e11.BLMTRC5CN.f19_g16.001.cam.h0.TREFHT.1204.nc b.e11.BLMTRC5CN.f19_g16.001.cam.h0.TREFHT.1205.nc b.e11.BLMTRC5CN.f19_g16.001.cam.h0.TREFHT.1206.nc b.e11.BLMTRC5CN.f19_g16.001.cam.h0.TREFHT.1207.nc b.e11.BLMTRC5CN.f19_g16.001.cam.h0.TREFHT.1208.nc b.e11.BLMTRC5CN.f19_g16.001.cam.h0.TREFHT.1209.nc b.e11.BLMTRC5CN.f19_g16.001.cam.h0.TREFHT.1210.nc b.e11.BLMTRC5CN.f19_g16.001.cam.h0.TREFHT.1211.nc b.e11.BLMTRC5CN.f19_g16.001.cam.h0.TREFHT.1212.nc b.e11.BLMTRC5CN.f19_g16.001.cam.h0.TREFHT.1213.nc b.e11.BLMTRC5CN.f19_g16.001.cam.h0.TREFHT.1214.nc b.e11.BLMTRC5CN.f19_g16.001.cam.h0.TREFHT.1215.nc b.e11.BLMTRC5CN.f19_g16.001.cam.h0.TREFHT.1216.nc b.e11.BLMTRC5CN.f19_g16.001.cam.h0.TREFHT.1217.nc b.e11.BLMTRC5CN.f19_g16.001.cam.h0.TREFHT.1218.nc b.e11.BLMTRC5CN.f19_g16.001.cam.h0.TREFHT.1219.nc b.e11.BLMTRC5CN.f19_g16.001.cam.h0.TREFHT.1220.nc b.e11.BLMTRC5CN.f19_g16.001.cam.h0.TREFHT.1221.nc b.e11.BLMTRC5CN.f19_g16.001.cam.h0.TREFHT.1222.nc b.e11.BLMTRC5CN.f19_g16.001.cam.h0.TREFHT.1223.nc b.e11.BLMTRC5CN.f19_g16.001.cam.h0.TREFHT.1224.nc b.e11.BLMTRC5CN.f19_g16.001.cam.h0.TREFHT.1225.nc b.e11.BLMTRC5CN.f19_g16.001.cam.h0.TREFHT.1226.nc b.e11.BLMTRC5CN.f19_g16.001.cam.h0.TREFHT.1227.nc b.e11.BLMTRC5CN.f19_g16.001.cam.h0.TREFHT.1228.nc b.e11.BLMTRC5CN.f19_g16.001.cam.h0.TREFHT.1229.nc b.e11.BLMTRC5CN.f19_g16.001.cam.h0.TREFHT.1230.nc b.e11.BLMTRC5CN.f19_g16.001.cam.h0.TREFHT.1231.nc b.e11.BLMTRC5CN.f19_g16.001.cam.h0.TREFHT.1232.nc b.e11.BLMTRC5CN.f19_g16.001.cam.h0.TREFHT.1233.nc b.e11.BLMTRC5CN.f19_g16.001.cam.h0.TREFHT.1234.nc b.e11.BLMTRC5CN.f19_g16.001.cam.h0.TREFHT.1235.nc b.e11.BLMTRC5CN.f19_g16.001.cam.h0.TREFHT.1236.nc b.e11.BLMTRC5CN.f19_g16.001.cam.h0.TREFHT.1237.nc b.e11.BLMTRC5CN.f19_g16.001.cam.h0.TREFHT.1238.nc b.e11.BLMTRC5CN.f19_g16.001.cam.h0.TREFHT.1239.nc b.e11.BLMTRC5CN.f19_g16.001.cam.h0.TREFHT.1240.nc b.e11.BLMTRC5CN.f19_g16.001.cam.h0.TREFHT.1241.nc b.e11.BLMTRC5CN.f19_g16.001.cam.h0.TREFHT.1242.nc b.e11.BLMTRC5CN.f19_g16.001.cam.h0.TREFHT.1243.nc b.e11.BLMTRC5CN.f19_g16.001.cam.h0.TREFHT.1244.nc b.e11.BLMTRC5CN.f19_g16.001.cam.h0.TREFHT.1245.nc b.e11.BLMTRC5CN.f19_g16.001.cam.h0.TREFHT.1246.nc b.e11.BLMTRC5CN.f19_g16.001.cam.h0.TREFHT.1247.nc b.e11.BLMTRC5CN.f19_g16.001.cam.h0.TREFHT.1248.nc b.e11.BLMTRC5CN.f19_g16.001.cam.h0.TREFHT.1249.nc b.e11.BLMTRC5CN.f19_g16.001.cam.h0.TREFHT.1250.nc b.e11.BLMTRC5CN.f19_g16.001.cam.h0.TREFHT.1251.nc b.e11.BLMTRC5CN.f19_g16.001.cam.h0.TREFHT.1252.nc b.e11.BLMTRC5CN.f19_g16.001.cam.h0.TREFHT.1253.nc b.e11.BLMTRC5CN.f19_g16.001.cam.h0.TREFHT.1254.nc b.e11.BLMTRC5CN.f19_g16.001.cam.h0.TREFHT.1255.nc b.e11.BLMTRC5CN.f19_g16.001.cam.h0.TREFHT.1256.nc b.e11.BLMTRC5CN.f19_g16.001.cam.h0.TREFHT.1257.nc b.e11.BLMTRC5CN.f19_g16.001.cam.h0.TREFHT.1258.nc b.e11.BLMTRC5CN.f19_g16.001.cam.h0.TREFHT.1259.nc b.e11.BLMTRC5CN.f19_g16.001.cam.h0.TREFHT.1260.nc b.e11.BLMTRC5CN.f19_g16.001.cam.h0.TREFHT.1261.nc b.e11.BLMTRC5CN.f19_g16.001.cam.h0.TREFHT.1262.nc b.e11.BLMTRC5CN.f19_g16.001.cam.h0.TREFHT.1263.nc b.e11.BLMTRC5CN.f19_g16.001.cam.h0.TREFHT.1264.nc b.e11.BLMTRC5CN.f19_g16.001.cam.h0.TREFHT.1265.nc b.e11.BLMTRC5CN.f19_g16.001.cam.h0.TREFHT.1266.nc b.e11.BLMTRC5CN.f19_g16.001.cam.h0.TREFHT.1267.nc b.e11.BLMTRC5CN.f19_g16.001.cam.h0.TREFHT.1268.nc b.e11.BLMTRC5CN.f19_g16.001.cam.h0.TREFHT.1269.nc b.e11.BLMTRC5CN.f19_g16.001.cam.h0.TREFHT.1270.nc b.e11.BLMTRC5CN.f19_g16.001.cam.h0.TREFHT.1271.nc b.e11.BLMTRC5CN.f19_g16.001.cam.h0.TREFHT.1272.nc b.e11.BLMTRC5CN.f19_g16.001.cam.h0.TREFHT.1273.nc b.e11.BLMTRC5CN.f19_g16.001.cam.h0.TREFHT.1274.nc b.e11.BLMTRC5CN.f19_g16.001.cam.h0.TREFHT.1275.nc b.e11.BLMTRC5CN.f19_g16.001.cam.h0.TREFHT.1276.nc b.e11.BLMTRC5CN.f19_g16.001.cam.h0.TREFHT.1277.nc b.e11.BLMTRC5CN.f19_g16.001.cam.h0.TREFHT.1278.nc b.e11.BLMTRC5CN.f19_g16.001.cam.h0.TREFHT.1279.nc b.e11.BLMTRC5CN.f19_g16.001.cam.h0.TREFHT.1280.nc b.e11.BLMTRC5CN.f19_g16.001.cam.h0.TREFHT.1281.nc b.e11.BLMTRC5CN.f19_g16.001.cam.h0.TREFHT.1282.nc b.e11.BLMTRC5CN.f19_g16.001.cam.h0.TREFHT.1283.nc b.e11.BLMTRC5CN.f19_g16.001.cam.h0.TREFHT.1284.nc b.e11.BLMTRC5CN.f19_g16.001.cam.h0.TREFHT.1285.nc b.e11.BLMTRC5CN.f19_g16.001.cam.h0.TREFHT.1286.nc b.e11.BLMTRC5CN.f19_g16.001.cam.h0.TREFHT.1287.nc b.e11.BLMTRC5CN.f19_g16.001.cam.h0.TREFHT.1288.nc b.e11.BLMTRC5CN.f19_g16.001.cam.h0.TREFHT.1289.nc b.e11.BLMTRC5CN.f19_g16.001.cam.h0.TREFHT.1290.nc b.e11.BLMTRC5CN.f19_g16.001.cam.h0.TREFHT.1291.nc b.e11.BLMTRC5CN.f19_g16.001.cam.h0.TREFHT.1292.nc b.e11.BLMTRC5CN.f19_g16.001.cam.h0.TREFHT.1293.nc b.e11.BLMTRC5CN.f19_g16.001.cam.h0.TREFHT.1294.nc b.e11.BLMTRC5CN.f19_g16.001.cam.h0.TREFHT.1295.nc b.e11.BLMTRC5CN.f19_g16.001.cam.h0.TREFHT.1296.nc b.e11.BLMTRC5CN.f19_g16.001.cam.h0.TREFHT.1297.nc b.e11.BLMTRC5CN.f19_g16.001.cam.h0.TREFHT.1298.nc b.e11.BLMTRC5CN.f19_g16.001.cam.h0.TREFHT.1299.nc b.e11.BLMTRC5CN.f19_g16.001.cam.h0.TREFHT.1300.nc b.e11.BLMTRC5CN.f19_g16.001.cam.h0.TREFHT.1301.nc b.e11.BLMTRC5CN.f19_g16.001.cam.h0.TREFHT.1302.nc b.e11.BLMTRC5CN.f19_g16.001.cam.h0.TREFHT.1303.nc b.e11.BLMTRC5CN.f19_g16.001.cam.h0.TREFHT.1304.nc b.e11.BLMTRC5CN.f19_g16.001.cam.h0.TREFHT.1305.nc b.e11.BLMTRC5CN.f19_g16.001.cam.h0.TREFHT.1306.nc b.e11.BLMTRC5CN.f19_g16.001.cam.h0.TREFHT.1307.nc b.e11.BLMTRC5CN.f19_g16.001.cam.h0.TREFHT.1308.nc b.e11.BLMTRC5CN.f19_g16.001.cam.h0.TREFHT.1309.nc b.e11.BLMTRC5CN.f19_g16.001.cam.h0.TREFHT.1310.nc b.e11.BLMTRC5CN.f19_g16.001.cam.h0.TREFHT.1311.nc b.e11.BLMTRC5CN.f19_g16.001.cam.h0.TREFHT.1312.nc b.e11.BLMTRC5CN.f19_g16.001.cam.h0.TREFHT.1313.nc b.e11.BLMTRC5CN.f19_g16.001.cam.h0.TREFHT.1314.nc b.e11.BLMTRC5CN.f19_g16.001.cam.h0.TREFHT.1315.nc b.e11.BLMTRC5CN.f19_g16.001.cam.h0.TREFHT.1316.nc b.e11.BLMTRC5CN.f19_g16.001.cam.h0.TREFHT.1317.nc b.e11.BLMTRC5CN.f19_g16.001.cam.h0.TREFHT.1318.nc b.e11.BLMTRC5CN.f19_g16.001.cam.h0.TREFHT.1319.nc b.e11.BLMTRC5CN.f19_g16.001.cam.h0.TREFHT.1320.nc b.e11.BLMTRC5CN.f19_g16.001.cam.h0.TREFHT.1321.nc b.e11.BLMTRC5CN.f19_g16.001.cam.h0.TREFHT.1322.nc b.e11.BLMTRC5CN.f19_g16.001.cam.h0.TREFHT.1323.nc b.e11.BLMTRC5CN.f19_g16.001.cam.h0.TREFHT.1324.nc b.e11.BLMTRC5CN.f19_g16.001.cam.h0.TREFHT.1325.nc b.e11.BLMTRC5CN.f19_g16.001.cam.h0.TREFHT.1326.nc b.e11.BLMTRC5CN.f19_g16.001.cam.h0.TREFHT.1327.nc b.e11.BLMTRC5CN.f19_g16.001.cam.h0.TREFHT.1328.nc b.e11.BLMTRC5CN.f19_g16.001.cam.h0.TREFHT.1329.nc b.e11.BLMTRC5CN.f19_g16.001.cam.h0.TREFHT.1330.nc b.e11.BLMTRC5CN.f19_g16.001.cam.h0.TREFHT.1331.nc b.e11.BLMTRC5CN.f19_g16.001.cam.h0.TREFHT.1332.nc b.e11.BLMTRC5CN.f19_g16.001.cam.h0.TREFHT.1333.nc b.e11.BLMTRC5CN.f19_g16.001.cam.h0.TREFHT.1334.nc b.e11.BLMTRC5CN.f19_g16.001.cam.h0.TREFHT.1335.nc b.e11.BLMTRC5CN.f19_g16.001.cam.h0.TREFHT.1336.nc b.e11.BLMTRC5CN.f19_g16.001.cam.h0.TREFHT.1337.nc b.e11.BLMTRC5CN.f19_g16.001.cam.h0.TREFHT.1338.nc b.e11.BLMTRC5CN.f19_g16.001.cam.h0.TREFHT.1339.nc b.e11.BLMTRC5CN.f19_g16.001.cam.h0.TREFHT.1340.nc b.e11.BLMTRC5CN.f19_g16.001.cam.h0.TREFHT.1341.nc b.e11.BLMTRC5CN.f19_g16.001.cam.h0.TREFHT.1342.nc b.e11.BLMTRC5CN.f19_g16.001.cam.h0.TREFHT.1343.nc b.e11.BLMTRC5CN.f19_g16.001.cam.h0.TREFHT.1344.nc b.e11.BLMTRC5CN.f19_g16.001.cam.h0.TREFHT.1345.nc b.e11.BLMTRC5CN.f19_g16.001.cam.h0.TREFHT.1346.nc b.e11.BLMTRC5CN.f19_g16.001.cam.h0.TREFHT.1347.nc b.e11.BLMTRC5CN.f19_g16.001.cam.h0.TREFHT.1348.nc b.e11.BLMTRC5CN.f19_g16.001.cam.h0.TREFHT.1349.nc b.e11.BLMTRC5CN.f19_g16.001.cam.h0.TREFHT.1350.nc b.e11.BLMTRC5CN.f19_g16.001.cam.h0.TREFHT.1351.nc b.e11.BLMTRC5CN.f19_g16.001.cam.h0.TREFHT.1352.nc b.e11.BLMTRC5CN.f19_g16.001.cam.h0.TREFHT.1353.nc b.e11.BLMTRC5CN.f19_g16.001.cam.h0.TREFHT.1354.nc b.e11.BLMTRC5CN.f19_g16.001.cam.h0.TREFHT.1355.nc b.e11.BLMTRC5CN.f19_g16.001.cam.h0.TREFHT.1356.nc b.e11.BLMTRC5CN.f19_g16.001.cam.h0.TREFHT.1357.nc b.e11.BLMTRC5CN.f19_g16.001.cam.h0.TREFHT.1358.nc b.e11.BLMTRC5CN.f19_g16.001.cam.h0.TREFHT.1359.nc b.e11.BLMTRC5CN.f19_g16.001.cam.h0.TREFHT.1360.nc b.e11.BLMTRC5CN.f19_g16.001.cam.h0.TREFHT.1361.nc b.e11.BLMTRC5CN.f19_g16.001.cam.h0.TREFHT.1362.nc b.e11.BLMTRC5CN.f19_g16.001.cam.h0.TREFHT.1363.nc b.e11.BLMTRC5CN.f19_g16.001.cam.h0.TREFHT.1364.nc b.e11.BLMTRC5CN.f19_g16.001.cam.h0.TREFHT.1365.nc b.e11.BLMTRC5CN.f19_g16.001.cam.h0.TREFHT.1366.nc b.e11.BLMTRC5CN.f19_g16.001.cam.h0.TREFHT.1367.nc b.e11.BLMTRC5CN.f19_g16.001.cam.h0.TREFHT.1368.nc b.e11.BLMTRC5CN.f19_g16.001.cam.h0.TREFHT.1369.nc b.e11.BLMTRC5CN.f19_g16.001.cam.h0.TREFHT.1370.nc b.e11.BLMTRC5CN.f19_g16.001.cam.h0.TREFHT.1371.nc b.e11.BLMTRC5CN.f19_g16.001.cam.h0.TREFHT.1372.nc b.e11.BLMTRC5CN.f19_g16.001.cam.h0.TREFHT.1373.nc b.e11.BLMTRC5CN.f19_g16.001.cam.h0.TREFHT.1374.nc b.e11.BLMTRC5CN.f19_g16.001.cam.h0.TREFHT.1375.nc b.e11.BLMTRC5CN.f19_g16.001.cam.h0.TREFHT.1376.nc b.e11.BLMTRC5CN.f19_g16.001.cam.h0.TREFHT.1377.nc b.e11.BLMTRC5CN.f19_g16.001.cam.h0.TREFHT.1378.nc b.e11.BLMTRC5CN.f19_g16.001.cam.h0.TREFHT.1379.nc b.e11.BLMTRC5CN.f19_g16.001.cam.h0.TREFHT.1380.nc b.e11.BLMTRC5CN.f19_g16.001.cam.h0.TREFHT.1381.nc b.e11.BLMTRC5CN.f19_g16.001.cam.h0.TREFHT.1382.nc b.e11.BLMTRC5CN.f19_g16.001.cam.h0.TREFHT.1383.nc b.e11.BLMTRC5CN.f19_g16.001.cam.h0.TREFHT.1384.nc b.e11.BLMTRC5CN.f19_g16.001.cam.h0.TREFHT.1385.nc b.e11.BLMTRC5CN.f19_g16.001.cam.h0.TREFHT.1386.nc b.e11.BLMTRC5CN.f19_g16.001.cam.h0.TREFHT.1387.nc b.e11.BLMTRC5CN.f19_g16.001.cam.h0.TREFHT.1388.nc b.e11.BLMTRC5CN.f19_g16.001.cam.h0.TREFHT.1389.nc b.e11.BLMTRC5CN.f19_g16.001.cam.h0.TREFHT.1390.nc b.e11.BLMTRC5CN.f19_g16.001.cam.h0.TREFHT.1391.nc b.e11.BLMTRC5CN.f19_g16.001.cam.h0.TREFHT.1392.nc b.e11.BLMTRC5CN.f19_g16.001.cam.h0.TREFHT.1393.nc b.e11.BLMTRC5CN.f19_g16.001.cam.h0.TREFHT.1394.nc b.e11.BLMTRC5CN.f19_g16.001.cam.h0.TREFHT.1395.nc b.e11.BLMTRC5CN.f19_g16.001.cam.h0.TREFHT.1396.nc b.e11.BLMTRC5CN.f19_g16.001.cam.h0.TREFHT.1397.nc b.e11.BLMTRC5CN.f19_g16.001.cam.h0.TREFHT.1398.nc b.e11.BLMTRC5CN.f19_g16.001.cam.h0.TREFHT.1399.nc b.e11.BLMTRC5CN.f19_g16.001.cam.h0.TREFHT.1400.nc b.e11.BLMTRC5CN.f19_g16.001.cam.h0.TREFHT.1401.nc b.e11.BLMTRC5CN.f19_g16.001.cam.h0.TREFHT.1402.nc b.e11.BLMTRC5CN.f19_g16.001.cam.h0.TREFHT.1403.nc b.e11.BLMTRC5CN.f19_g16.001.cam.h0.TREFHT.1404.nc b.e11.BLMTRC5CN.f19_g16.001.cam.h0.TREFHT.1405.nc b.e11.BLMTRC5CN.f19_g16.001.cam.h0.TREFHT.1406.nc b.e11.BLMTRC5CN.f19_g16.001.cam.h0.TREFHT.1407.nc b.e11.BLMTRC5CN.f19_g16.001.cam.h0.TREFHT.1408.nc b.e11.BLMTRC5CN.f19_g16.001.cam.h0.TREFHT.1409.nc b.e11.BLMTRC5CN.f19_g16.001.cam.h0.TREFHT.1410.nc b.e11.BLMTRC5CN.f19_g16.001.cam.h0.TREFHT.1411.nc b.e11.BLMTRC5CN.f19_g16.001.cam.h0.TREFHT.1412.nc b.e11.BLMTRC5CN.f19_g16.001.cam.h0.TREFHT.1413.nc b.e11.BLMTRC5CN.f19_g16.001.cam.h0.TREFHT.1414.nc b.e11.BLMTRC5CN.f19_g16.001.cam.h0.TREFHT.1415.nc b.e11.BLMTRC5CN.f19_g16.001.cam.h0.TREFHT.1416.nc b.e11.BLMTRC5CN.f19_g16.001.cam.h0.TREFHT.1417.nc b.e11.BLMTRC5CN.f19_g16.001.cam.h0.TREFHT.1418.nc b.e11.BLMTRC5CN.f19_g16.001.cam.h0.TREFHT.1419.nc b.e11.BLMTRC5CN.f19_g16.001.cam.h0.TREFHT.1420.nc b.e11.BLMTRC5CN.f19_g16.001.cam.h0.TREFHT.1421.nc b.e11.BLMTRC5CN.f19_g16.001.cam.h0.TREFHT.1422.nc b.e11.BLMTRC5CN.f19_g16.001.cam.h0.TREFHT.1423.nc b.e11.BLMTRC5CN.f19_g16.001.cam.h0.TREFHT.1424.nc b.e11.BLMTRC5CN.f19_g16.001.cam.h0.TREFHT.1425.nc b.e11.BLMTRC5CN.f19_g16.001.cam.h0.TREFHT.1426.nc b.e11.BLMTRC5CN.f19_g16.001.cam.h0.TREFHT.1427.nc b.e11.BLMTRC5CN.f19_g16.001.cam.h0.TREFHT.1428.nc b.e11.BLMTRC5CN.f19_g16.001.cam.h0.TREFHT.1429.nc b.e11.BLMTRC5CN.f19_g16.001.cam.h0.TREFHT.1430.nc b.e11.BLMTRC5CN.f19_g16.001.cam.h0.TREFHT.1431.nc b.e11.BLMTRC5CN.f19_g16.001.cam.h0.TREFHT.1432.nc b.e11.BLMTRC5CN.f19_g16.001.cam.h0.TREFHT.1433.nc b.e11.BLMTRC5CN.f19_g16.001.cam.h0.TREFHT.1434.nc b.e11.BLMTRC5CN.f19_g16.001.cam.h0.TREFHT.1435.nc b.e11.BLMTRC5CN.f19_g16.001.cam.h0.TREFHT.1436.nc b.e11.BLMTRC5CN.f19_g16.001.cam.h0.TREFHT.1437.nc b.e11.BLMTRC5CN.f19_g16.001.cam.h0.TREFHT.1438.nc b.e11.BLMTRC5CN.f19_g16.001.cam.h0.TREFHT.1439.nc b.e11.BLMTRC5CN.f19_g16.001.cam.h0.TREFHT.1440.nc b.e11.BLMTRC5CN.f19_g16.001.cam.h0.TREFHT.1441.nc b.e11.BLMTRC5CN.f19_g16.001.cam.h0.TREFHT.1442.nc b.e11.BLMTRC5CN.f19_g16.001.cam.h0.TREFHT.1443.nc b.e11.BLMTRC5CN.f19_g16.001.cam.h0.TREFHT.1444.nc b.e11.BLMTRC5CN.f19_g16.001.cam.h0.TREFHT.1445.nc b.e11.BLMTRC5CN.f19_g16.001.cam.h0.TREFHT.1446.nc b.e11.BLMTRC5CN.f19_g16.001.cam.h0.TREFHT.1447.nc b.e11.BLMTRC5CN.f19_g16.001.cam.h0.TREFHT.1448.nc b.e11.BLMTRC5CN.f19_g16.001.cam.h0.TREFHT.1449.nc b.e11.BLMTRC5CN.f19_g16.001.cam.h0.TREFHT.1450.nc b.e11.BLMTRC5CN.f19_g16.001.cam.h0.TREFHT.1451.nc b.e11.BLMTRC5CN.f19_g16.001.cam.h0.TREFHT.1452.nc b.e11.BLMTRC5CN.f19_g16.001.cam.h0.TREFHT.1453.nc b.e11.BLMTRC5CN.f19_g16.001.cam.h0.TREFHT.1454.nc b.e11.BLMTRC5CN.f19_g16.001.cam.h0.TREFHT.1455.nc b.e11.BLMTRC5CN.f19_g16.001.cam.h0.TREFHT.1456.nc b.e11.BLMTRC5CN.f19_g16.001.cam.h0.TREFHT.1457.nc b.e11.BLMTRC5CN.f19_g16.001.cam.h0.TREFHT.1458.nc b.e11.BLMTRC5CN.f19_g16.001.cam.h0.TREFHT.1459.nc b.e11.BLMTRC5CN.f19_g16.001.cam.h0.TREFHT.1460.nc b.e11.BLMTRC5CN.f19_g16.001.cam.h0.TREFHT.1461.nc b.e11.BLMTRC5CN.f19_g16.001.cam.h0.TREFHT.1462.nc b.e11.BLMTRC5CN.f19_g16.001.cam.h0.TREFHT.1463.nc b.e11.BLMTRC5CN.f19_g16.001.cam.h0.TREFHT.1464.nc b.e11.BLMTRC5CN.f19_g16.001.cam.h0.TREFHT.1465.nc b.e11.BLMTRC5CN.f19_g16.001.cam.h0.TREFHT.1466.nc b.e11.BLMTRC5CN.f19_g16.001.cam.h0.TREFHT.1467.nc b.e11.BLMTRC5CN.f19_g16.001.cam.h0.TREFHT.1468.nc b.e11.BLMTRC5CN.f19_g16.001.cam.h0.TREFHT.1469.nc b.e11.BLMTRC5CN.f19_g16.001.cam.h0.TREFHT.1470.nc b.e11.BLMTRC5CN.f19_g16.001.cam.h0.TREFHT.1471.nc b.e11.BLMTRC5CN.f19_g16.001.cam.h0.TREFHT.1472.nc b.e11.BLMTRC5CN.f19_g16.001.cam.h0.TREFHT.1473.nc b.e11.BLMTRC5CN.f19_g16.001.cam.h0.TREFHT.1474.nc b.e11.BLMTRC5CN.f19_g16.001.cam.h0.TREFHT.1475.nc b.e11.BLMTRC5CN.f19_g16.001.cam.h0.TREFHT.1476.nc b.e11.BLMTRC5CN.f19_g16.001.cam.h0.TREFHT.1477.nc b.e11.BLMTRC5CN.f19_g16.001.cam.h0.TREFHT.1478.nc b.e11.BLMTRC5CN.f19_g16.001.cam.h0.TREFHT.1479.nc b.e11.BLMTRC5CN.f19_g16.001.cam.h0.TREFHT.1480.nc b.e11.BLMTRC5CN.f19_g16.001.cam.h0.TREFHT.1481.nc b.e11.BLMTRC5CN.f19_g16.001.cam.h0.TREFHT.1482.nc b.e11.BLMTRC5CN.f19_g16.001.cam.h0.TREFHT.1483.nc b.e11.BLMTRC5CN.f19_g16.001.cam.h0.TREFHT.1484.nc b.e11.BLMTRC5CN.f19_g16.001.cam.h0.TREFHT.1485.nc b.e11.BLMTRC5CN.f19_g16.001.cam.h0.TREFHT.1486.nc b.e11.BLMTRC5CN.f19_g16.001.cam.h0.TREFHT.1487.nc b.e11.BLMTRC5CN.f19_g16.001.cam.h0.TREFHT.1488.nc b.e11.BLMTRC5CN.f19_g16.001.cam.h0.TREFHT.1489.nc b.e11.BLMTRC5CN.f19_g16.001.cam.h0.TREFHT.1490.nc b.e11.BLMTRC5CN.f19_g16.001.cam.h0.TREFHT.1491.nc b.e11.BLMTRC5CN.f19_g16.001.cam.h0.TREFHT.1492.nc b.e11.BLMTRC5CN.f19_g16.001.cam.h0.TREFHT.1493.nc b.e11.BLMTRC5CN.f19_g16.001.cam.h0.TREFHT.1494.nc b.e11.BLMTRC5CN.f19_g16.001.cam.h0.TREFHT.1495.nc b.e11.BLMTRC5CN.f19_g16.001.cam.h0.TREFHT.1496.nc b.e11.BLMTRC5CN.f19_g16.001.cam.h0.TREFHT.1497.nc b.e11.BLMTRC5CN.f19_g16.001.cam.h0.TREFHT.1498.nc b.e11.BLMTRC5CN.f19_g16.001.cam.h0.TREFHT.1499.nc b.e11.BLMTRC5CN.f19_g16.001.cam.h0.TREFHT.1500.nc b.e11.BLMTRC5CN.f19_g16.001.cam.h0.TREFHT.1501.nc b.e11.BLMTRC5CN.f19_g16.001.cam.h0.TREFHT.1502.nc b.e11.BLMTRC5CN.f19_g16.001.cam.h0.TREFHT.1503.nc b.e11.BLMTRC5CN.f19_g16.001.cam.h0.TREFHT.1504.nc b.e11.BLMTRC5CN.f19_g16.001.cam.h0.TREFHT.1505.nc b.e11.BLMTRC5CN.f19_g16.001.cam.h0.TREFHT.1506.nc b.e11.BLMTRC5CN.f19_g16.001.cam.h0.TREFHT.1507.nc b.e11.BLMTRC5CN.f19_g16.001.cam.h0.TREFHT.1508.nc b.e11.BLMTRC5CN.f19_g16.001.cam.h0.TREFHT.1509.nc b.e11.BLMTRC5CN.f19_g16.001.cam.h0.TREFHT.1510.nc b.e11.BLMTRC5CN.f19_g16.001.cam.h0.TREFHT.1511.nc b.e11.BLMTRC5CN.f19_g16.001.cam.h0.TREFHT.1512.nc b.e11.BLMTRC5CN.f19_g16.001.cam.h0.TREFHT.1513.nc b.e11.BLMTRC5CN.f19_g16.001.cam.h0.TREFHT.1514.nc b.e11.BLMTRC5CN.f19_g16.001.cam.h0.TREFHT.1515.nc b.e11.BLMTRC5CN.f19_g16.001.cam.h0.TREFHT.1516.nc b.e11.BLMTRC5CN.f19_g16.001.cam.h0.TREFHT.1517.nc b.e11.BLMTRC5CN.f19_g16.001.cam.h0.TREFHT.1518.nc b.e11.BLMTRC5CN.f19_g16.001.cam.h0.TREFHT.1519.nc b.e11.BLMTRC5CN.f19_g16.001.cam.h0.TREFHT.1520.nc b.e11.BLMTRC5CN.f19_g16.001.cam.h0.TREFHT.1521.nc b.e11.BLMTRC5CN.f19_g16.001.cam.h0.TREFHT.1522.nc b.e11.BLMTRC5CN.f19_g16.001.cam.h0.TREFHT.1523.nc b.e11.BLMTRC5CN.f19_g16.001.cam.h0.TREFHT.1524.nc b.e11.BLMTRC5CN.f19_g16.001.cam.h0.TREFHT.1525.nc b.e11.BLMTRC5CN.f19_g16.001.cam.h0.TREFHT.1526.nc b.e11.BLMTRC5CN.f19_g16.001.cam.h0.TREFHT.1527.nc b.e11.BLMTRC5CN.f19_g16.001.cam.h0.TREFHT.1528.nc b.e11.BLMTRC5CN.f19_g16.001.cam.h0.TREFHT.1529.nc b.e11.BLMTRC5CN.f19_g16.001.cam.h0.TREFHT.1530.nc b.e11.BLMTRC5CN.f19_g16.001.cam.h0.TREFHT.1531.nc b.e11.BLMTRC5CN.f19_g16.001.cam.h0.TREFHT.1532.nc b.e11.BLMTRC5CN.f19_g16.001.cam.h0.TREFHT.1533.nc b.e11.BLMTRC5CN.f19_g16.001.cam.h0.TREFHT.1534.nc b.e11.BLMTRC5CN.f19_g16.001.cam.h0.TREFHT.1535.nc b.e11.BLMTRC5CN.f19_g16.001.cam.h0.TREFHT.1536.nc b.e11.BLMTRC5CN.f19_g16.001.cam.h0.TREFHT.1537.nc b.e11.BLMTRC5CN.f19_g16.001.cam.h0.TREFHT.1538.nc b.e11.BLMTRC5CN.f19_g16.001.cam.h0.TREFHT.1539.nc b.e11.BLMTRC5CN.f19_g16.001.cam.h0.TREFHT.1540.nc b.e11.BLMTRC5CN.f19_g16.001.cam.h0.TREFHT.1541.nc b.e11.BLMTRC5CN.f19_g16.001.cam.h0.TREFHT.1542.nc b.e11.BLMTRC5CN.f19_g16.001.cam.h0.TREFHT.1543.nc b.e11.BLMTRC5CN.f19_g16.001.cam.h0.TREFHT.1544.nc b.e11.BLMTRC5CN.f19_g16.001.cam.h0.TREFHT.1545.nc b.e11.BLMTRC5CN.f19_g16.001.cam.h0.TREFHT.1546.nc b.e11.BLMTRC5CN.f19_g16.001.cam.h0.TREFHT.1547.nc b.e11.BLMTRC5CN.f19_g16.001.cam.h0.TREFHT.1548.nc b.e11.BLMTRC5CN.f19_g16.001.cam.h0.TREFHT.1549.nc b.e11.BLMTRC5CN.f19_g16.001.cam.h0.TREFHT.1550.nc b.e11.BLMTRC5CN.f19_g16.001.cam.h0.TREFHT.1551.nc b.e11.BLMTRC5CN.f19_g16.001.cam.h0.TREFHT.1552.nc b.e11.BLMTRC5CN.f19_g16.001.cam.h0.TREFHT.1553.nc b.e11.BLMTRC5CN.f19_g16.001.cam.h0.TREFHT.1554.nc b.e11.BLMTRC5CN.f19_g16.001.cam.h0.TREFHT.1555.nc b.e11.BLMTRC5CN.f19_g16.001.cam.h0.TREFHT.1556.nc b.e11.BLMTRC5CN.f19_g16.001.cam.h0.TREFHT.1557.nc b.e11.BLMTRC5CN.f19_g16.001.cam.h0.TREFHT.1558.nc b.e11.BLMTRC5CN.f19_g16.001.cam.h0.TREFHT.1559.nc b.e11.BLMTRC5CN.f19_g16.001.cam.h0.TREFHT.1560.nc b.e11.BLMTRC5CN.f19_g16.001.cam.h0.TREFHT.1561.nc b.e11.BLMTRC5CN.f19_g16.001.cam.h0.TREFHT.1562.nc b.e11.BLMTRC5CN.f19_g16.001.cam.h0.TREFHT.1563.nc b.e11.BLMTRC5CN.f19_g16.001.cam.h0.TREFHT.1564.nc b.e11.BLMTRC5CN.f19_g16.001.cam.h0.TREFHT.1565.nc b.e11.BLMTRC5CN.f19_g16.001.cam.h0.TREFHT.1566.nc b.e11.BLMTRC5CN.f19_g16.001.cam.h0.TREFHT.1567.nc b.e11.BLMTRC5CN.f19_g16.001.cam.h0.TREFHT.1568.nc b.e11.BLMTRC5CN.f19_g16.001.cam.h0.TREFHT.1569.nc b.e11.BLMTRC5CN.f19_g16.001.cam.h0.TREFHT.1570.nc b.e11.BLMTRC5CN.f19_g16.001.cam.h0.TREFHT.1571.nc b.e11.BLMTRC5CN.f19_g16.001.cam.h0.TREFHT.1572.nc b.e11.BLMTRC5CN.f19_g16.001.cam.h0.TREFHT.1573.nc b.e11.BLMTRC5CN.f19_g16.001.cam.h0.TREFHT.1574.nc b.e11.BLMTRC5CN.f19_g16.001.cam.h0.TREFHT.1575.nc b.e11.BLMTRC5CN.f19_g16.001.cam.h0.TREFHT.1576.nc b.e11.BLMTRC5CN.f19_g16.001.cam.h0.TREFHT.1577.nc b.e11.BLMTRC5CN.f19_g16.001.cam.h0.TREFHT.1578.nc b.e11.BLMTRC5CN.f19_g16.001.cam.h0.TREFHT.1579.nc b.e11.BLMTRC5CN.f19_g16.001.cam.h0.TREFHT.1580.nc b.e11.BLMTRC5CN.f19_g16.001.cam.h0.TREFHT.1581.nc b.e11.BLMTRC5CN.f19_g16.001.cam.h0.TREFHT.1582.nc b.e11.BLMTRC5CN.f19_g16.001.cam.h0.TREFHT.1583.nc b.e11.BLMTRC5CN.f19_g16.001.cam.h0.TREFHT.1584.nc b.e11.BLMTRC5CN.f19_g16.001.cam.h0.TREFHT.1585.nc b.e11.BLMTRC5CN.f19_g16.001.cam.h0.TREFHT.1586.nc b.e11.BLMTRC5CN.f19_g16.001.cam.h0.TREFHT.1587.nc b.e11.BLMTRC5CN.f19_g16.001.cam.h0.TREFHT.1588.nc b.e11.BLMTRC5CN.f19_g16.001.cam.h0.TREFHT.1589.nc b.e11.BLMTRC5CN.f19_g16.001.cam.h0.TREFHT.1590.nc b.e11.BLMTRC5CN.f19_g16.001.cam.h0.TREFHT.1591.nc b.e11.BLMTRC5CN.f19_g16.001.cam.h0.TREFHT.1592.nc b.e11.BLMTRC5CN.f19_g16.001.cam.h0.TREFHT.1593.nc b.e11.BLMTRC5CN.f19_g16.001.cam.h0.TREFHT.1594.nc b.e11.BLMTRC5CN.f19_g16.001.cam.h0.TREFHT.1595.nc b.e11.BLMTRC5CN.f19_g16.001.cam.h0.TREFHT.1596.nc b.e11.BLMTRC5CN.f19_g16.001.cam.h0.TREFHT.1597.nc b.e11.BLMTRC5CN.f19_g16.001.cam.h0.TREFHT.1598.nc b.e11.BLMTRC5CN.f19_g16.001.cam.h0.TREFHT.1599.nc b.e11.BLMTRC5CN.f19_g16.001.cam.h0.TREFHT.1600.nc b.e11.BLMTRC5CN.f19_g16.001.cam.h0.TREFHT.1601.nc b.e11.BLMTRC5CN.f19_g16.001.cam.h0.TREFHT.1602.nc b.e11.BLMTRC5CN.f19_g16.001.cam.h0.TREFHT.1603.nc b.e11.BLMTRC5CN.f19_g16.001.cam.h0.TREFHT.1604.nc b.e11.BLMTRC5CN.f19_g16.001.cam.h0.TREFHT.1605.nc b.e11.BLMTRC5CN.f19_g16.001.cam.h0.TREFHT.1606.nc b.e11.BLMTRC5CN.f19_g16.001.cam.h0.TREFHT.1607.nc b.e11.BLMTRC5CN.f19_g16.001.cam.h0.TREFHT.1608.nc b.e11.BLMTRC5CN.f19_g16.001.cam.h0.TREFHT.1609.nc b.e11.BLMTRC5CN.f19_g16.001.cam.h0.TREFHT.1610.nc b.e11.BLMTRC5CN.f19_g16.001.cam.h0.TREFHT.1611.nc b.e11.BLMTRC5CN.f19_g16.001.cam.h0.TREFHT.1612.nc b.e11.BLMTRC5CN.f19_g16.001.cam.h0.TREFHT.1613.nc b.e11.BLMTRC5CN.f19_g16.001.cam.h0.TREFHT.1614.nc b.e11.BLMTRC5CN.f19_g16.001.cam.h0.TREFHT.1615.nc b.e11.BLMTRC5CN.f19_g16.001.cam.h0.TREFHT.1616.nc b.e11.BLMTRC5CN.f19_g16.001.cam.h0.TREFHT.1617.nc b.e11.BLMTRC5CN.f19_g16.001.cam.h0.TREFHT.1618.nc b.e11.BLMTRC5CN.f19_g16.001.cam.h0.TREFHT.1619.nc b.e11.BLMTRC5CN.f19_g16.001.cam.h0.TREFHT.1620.nc b.e11.BLMTRC5CN.f19_g16.001.cam.h0.TREFHT.1621.nc b.e11.BLMTRC5CN.f19_g16.001.cam.h0.TREFHT.1622.nc b.e11.BLMTRC5CN.f19_g16.001.cam.h0.TREFHT.1623.nc b.e11.BLMTRC5CN.f19_g16.001.cam.h0.TREFHT.1624.nc b.e11.BLMTRC5CN.f19_g16.001.cam.h0.TREFHT.1625.nc b.e11.BLMTRC5CN.f19_g16.001.cam.h0.TREFHT.1626.nc b.e11.BLMTRC5CN.f19_g16.001.cam.h0.TREFHT.1627.nc b.e11.BLMTRC5CN.f19_g16.001.cam.h0.TREFHT.1628.nc b.e11.BLMTRC5CN.f19_g16.001.cam.h0.TREFHT.1629.nc b.e11.BLMTRC5CN.f19_g16.001.cam.h0.TREFHT.1630.nc b.e11.BLMTRC5CN.f19_g16.001.cam.h0.TREFHT.1631.nc b.e11.BLMTRC5CN.f19_g16.001.cam.h0.TREFHT.1632.nc b.e11.BLMTRC5CN.f19_g16.001.cam.h0.TREFHT.1633.nc b.e11.BLMTRC5CN.f19_g16.001.cam.h0.TREFHT.1634.nc b.e11.BLMTRC5CN.f19_g16.001.cam.h0.TREFHT.1635.nc b.e11.BLMTRC5CN.f19_g16.001.cam.h0.TREFHT.1636.nc b.e11.BLMTRC5CN.f19_g16.001.cam.h0.TREFHT.1637.nc b.e11.BLMTRC5CN.f19_g16.001.cam.h0.TREFHT.1638.nc b.e11.BLMTRC5CN.f19_g16.001.cam.h0.TREFHT.1639.nc b.e11.BLMTRC5CN.f19_g16.001.cam.h0.TREFHT.1640.nc b.e11.BLMTRC5CN.f19_g16.001.cam.h0.TREFHT.1641.nc b.e11.BLMTRC5CN.f19_g16.001.cam.h0.TREFHT.1642.nc b.e11.BLMTRC5CN.f19_g16.001.cam.h0.TREFHT.1643.nc b.e11.BLMTRC5CN.f19_g16.001.cam.h0.TREFHT.1644.nc b.e11.BLMTRC5CN.f19_g16.001.cam.h0.TREFHT.1645.nc b.e11.BLMTRC5CN.f19_g16.001.cam.h0.TREFHT.1646.nc b.e11.BLMTRC5CN.f19_g16.001.cam.h0.TREFHT.1647.nc b.e11.BLMTRC5CN.f19_g16.001.cam.h0.TREFHT.1648.nc b.e11.BLMTRC5CN.f19_g16.001.cam.h0.TREFHT.1649.nc CAT.b.e11.BLMTRC5CN.f19_g16.001.cam.h0.TREFHT.085001-164912.nc\n",
       "Wed Nov 27 10:32:30 2013: /glade/u/home/strandwg/bin/ncrcat -O b.e11.BLMTRC5CN.f19_g16.001.cam.h0.TREFHT.0850-01.nc b.e11.BLMTRC5CN.f19_g16.001.cam.h0.TREFHT.0850-02.nc b.e11.BLMTRC5CN.f19_g16.001.cam.h0.TREFHT.0850-03.nc b.e11.BLMTRC5CN.f19_g16.001.cam.h0.TREFHT.0850-04.nc b.e11.BLMTRC5CN.f19_g16.001.cam.h0.TREFHT.0850-05.nc b.e11.BLMTRC5CN.f19_g16.001.cam.h0.TREFHT.0850-06.nc b.e11.BLMTRC5CN.f19_g16.001.cam.h0.TREFHT.0850-07.nc b.e11.BLMTRC5CN.f19_g16.001.cam.h0.TREFHT.0850-08.nc b.e11.BLMTRC5CN.f19_g16.001.cam.h0.TREFHT.0850-09.nc b.e11.BLMTRC5CN.f19_g16.001.cam.h0.TREFHT.0850-10.nc b.e11.BLMTRC5CN.f19_g16.001.cam.h0.TREFHT.0850-11.nc b.e11.BLMTRC5CN.f19_g16.001.cam.h0.TREFHT.0850-12.nc b.e11.BLMTRC5CN.f19_g16.001.cam.h0.TREFHT.0850.nc\n",
       "Tue Nov 26 10:19:35 2013: /glade/u/home/strandwg/bin/ncks -O -v ch4vmr,co2vmr,date,date_written,datesec,f11vmr,f12vmr,n2ovmr,ndcur,nscur,nsteph,sol_tsi,time,time_bnds,time_written,gw,hyai,hyam,hybi,hybm,ilev,lat,lev,lon,nlon,slat,slon,w_stag,wnummax,P0,mdt,nbdate,nbsec,ndbase,nsbase,ntrk,ntrm,ntrn,TREFHT b.e11.BLMTRC5CN.f19_g16.001.cam.h0.0850-01.nc TREFHT.d/b.e11.BLMTRC5CN.f19_g16.001.cam.h0.TREFHT.0850-01.nc</dd><dt><span>NCO :</span></dt><dd>4.4.4</dd><dt><span>nco_openmp_thread_number :</span></dt><dd>1</dd></dl></div></li></ul></div></div>"
      ],
      "text/plain": [
       "<xarray.Dataset>\n",
       "Dimensions:    (lat: 3, lon: 3, nbnd: 2, time: 4872)\n",
       "Coordinates:\n",
       "  * lat        (lat) float64 44.53 46.42 48.32\n",
       "  * lon        (lon) float64 7.5 10.0 12.5\n",
       "  * time       (time) object 1600-02-01 00:00:00 ... 2006-01-01 00:00:00\n",
       "Dimensions without coordinates: nbnd\n",
       "Data variables:\n",
       "    TREFHT     (time, lat, lon) float32 ...\n",
       "    time_bnds  (time, nbnd) object ...\n",
       "Attributes:\n",
       "    Conventions:               CF-1.0\n",
       "    source:                    CAM\n",
       "    case:                      b.e11.BLMTRC5CN.f19_g16.001\n",
       "    title:                     UNSET\n",
       "    logname:                   nanr\n",
       "    host:                      ys0772\n",
       "    Version:                   $Name$\n",
       "    revision_Id:               $Id$\n",
       "    initial_file:              b.e11.B1850C5CN.f19_g16.0850cntl.001.cam.i.085...\n",
       "    topography_file:           /glade/p/cesmdata/cseg/inputdata/atm/cam/topo/...\n",
       "    history:                   Fri Apr  7 14:13:45 2017: ncks -v TREFHT -d lo...\n",
       "    NCO:                       4.4.4\n",
       "    nco_openmp_thread_number:  1"
      ]
     },
     "execution_count": 16,
     "metadata": {},
     "output_type": "execute_result"
    }
   ],
   "source": [
    "tmp"
   ]
  },
  {
   "cell_type": "code",
   "execution_count": 4,
   "metadata": {},
   "outputs": [
    {
     "name": "stderr",
     "output_type": "stream",
     "text": [
      "2021-01-22 14:39:23: oggm.core.gcm_climate: (RGI60-11.00897) process_cesm_data\n",
      "2021-01-22 14:39:25: oggm.core.gcm_climate: (RGI60-11.00897) process_gcm_data\n",
      "2021-01-22 14:39:25: oggm.core.gcm_climate: FileNotFoundError occurred during task process_gcm_data on RGI60-11.00897: [Errno 2] No such file or directory: b'/Users/oberrauch/work/master/working_directories/oggm_run_tmp/per_glacier/RGI60-11/RGI60-11.00/RGI60-11.00897/climate_historical.nc'\n"
     ]
    }
   ],
   "source": [
    "# Additional climate file (CESM)\n",
    "cfg.PATHS['cesm_temp_file'] = utils.get_demo_file('cesm.TREFHT.160001-200512.selection.nc')\n",
    "cfg.PATHS['cesm_precc_file'] = utils.get_demo_file('cesm.PRECC.160001-200512.selection.nc')\n",
    "cfg.PATHS['cesm_precl_file'] = utils.get_demo_file('cesm.PRECL.160001-200512.selection.nc')\n",
    "gcm_climate.process_cesm_data(gdirs[0])"
   ]
  },
  {
   "cell_type": "code",
   "execution_count": null,
   "metadata": {},
   "outputs": [],
   "source": []
  },
  {
   "cell_type": "code",
   "execution_count": 5,
   "metadata": {},
   "outputs": [
    {
     "name": "stderr",
     "output_type": "stream",
     "text": [
      "2021-01-22 14:39:25: oggm.workflow: Execute entity task define_glacier_region on 1 glaciers\n",
      "2021-01-22 14:39:25: oggm.core.gis: (RGI60-11.00897) define_glacier_region\n",
      "2021-01-22 14:39:26: oggm.workflow: Execute entity task glacier_masks on 1 glaciers\n",
      "2021-01-22 14:39:26: oggm.core.gis: (RGI60-11.00897) glacier_masks\n",
      "2021-01-22 14:39:26: oggm.core.gis: (RGI60-11.00897) process_dem\n",
      "2021-01-22 14:39:27: oggm.workflow: Execute entity task compute_centerlines on 1 glaciers\n",
      "2021-01-22 14:39:27: oggm.core.centerlines: (RGI60-11.00897) compute_centerlines\n",
      "2021-01-22 14:39:27: oggm.workflow: Execute entity task initialize_flowlines on 1 glaciers\n",
      "2021-01-22 14:39:27: oggm.core.centerlines: (RGI60-11.00897) initialize_flowlines\n",
      "2021-01-22 14:39:27: oggm.workflow: Execute entity task compute_downstream_line on 1 glaciers\n",
      "2021-01-22 14:39:27: oggm.core.centerlines: (RGI60-11.00897) compute_downstream_line\n",
      "2021-01-22 14:39:27: oggm.workflow: Execute entity task compute_downstream_bedshape on 1 glaciers\n",
      "2021-01-22 14:39:27: oggm.core.centerlines: (RGI60-11.00897) compute_downstream_bedshape\n",
      "2021-01-22 14:39:27: oggm.workflow: Execute entity task catchment_area on 1 glaciers\n",
      "2021-01-22 14:39:27: oggm.core.centerlines: (RGI60-11.00897) catchment_area\n",
      "2021-01-22 14:39:30: oggm.workflow: Execute entity task catchment_intersections on 1 glaciers\n",
      "2021-01-22 14:39:30: oggm.core.centerlines: (RGI60-11.00897) catchment_intersections\n",
      "2021-01-22 14:39:30: oggm.workflow: Execute entity task catchment_width_geom on 1 glaciers\n",
      "2021-01-22 14:39:30: oggm.core.centerlines: (RGI60-11.00897) catchment_width_geom\n",
      "2021-01-22 14:39:32: oggm.workflow: Execute entity task catchment_width_correction on 1 glaciers\n",
      "2021-01-22 14:39:32: oggm.core.centerlines: (RGI60-11.00897) catchment_width_correction\n",
      "2021-01-22 14:39:32: oggm.workflow: Execute entity task local_t_star on 1 glaciers\n",
      "2021-01-22 14:39:32: oggm.core.climate: (RGI60-11.00897) local_t_star\n",
      "2021-01-22 14:39:32: oggm.core.climate: KeyError occurred during task local_t_star on RGI60-11.00897: 'baseline_climate_source'\n",
      "2021-01-22 14:39:32: oggm.workflow: Execute entity task mu_star_calibration on 1 glaciers\n",
      "2021-01-22 14:39:32: oggm.core.climate: (RGI60-11.00897) mu_star_calibration\n",
      "2021-01-22 14:39:32: oggm.core.climate: TypeError occurred during task mu_star_calibration on RGI60-11.00897: integer argument expected, got float\n",
      "2021-01-22 14:39:32: oggm.workflow: Starting inversion tasks for 0 tidewater and 1 non-tidewater glaciers.\n",
      "2021-01-22 14:39:32: oggm.workflow: Execute entity task prepare_for_inversion on 1 glaciers\n",
      "2021-01-22 14:39:32: oggm.core.inversion: (RGI60-11.00897) prepare_for_inversion\n",
      "2021-01-22 14:39:32: oggm.core.inversion: TypeError occurred during task prepare_for_inversion on RGI60-11.00897: unsupported operand type(s) for *: 'NoneType' and 'float'\n",
      "2021-01-22 14:39:32: oggm.workflow: Execute entity task mass_conservation_inversion on 1 glaciers\n",
      "2021-01-22 14:39:32: oggm.core.inversion: (RGI60-11.00897) mass_conservation_inversion\n",
      "2021-01-22 14:39:32: oggm.core.inversion: FileNotFoundError occurred during task mass_conservation_inversion on RGI60-11.00897: [Errno 2] No such file or directory: '/Users/oberrauch/work/master/working_directories/oggm_run_tmp/per_glacier/RGI60-11/RGI60-11.00/RGI60-11.00897/inversion_input.pkl'\n",
      "2021-01-22 14:39:32: oggm.workflow: Execute entity task filter_inversion_output on 1 glaciers\n",
      "2021-01-22 14:39:32: oggm.core.inversion: (RGI60-11.00897) filter_inversion_output\n",
      "2021-01-22 14:39:32: oggm.core.inversion: FileNotFoundError occurred during task filter_inversion_output on RGI60-11.00897: [Errno 2] No such file or directory: '/Users/oberrauch/work/master/working_directories/oggm_run_tmp/per_glacier/RGI60-11/RGI60-11.00/RGI60-11.00897/inversion_output.pkl'\n",
      "2021-01-22 14:39:32: oggm.workflow: Execute entity task init_present_time_glacier on 1 glaciers\n",
      "2021-01-22 14:39:32: oggm.core.flowline: (RGI60-11.00897) init_present_time_glacier\n",
      "2021-01-22 14:39:32: oggm.core.flowline: FileNotFoundError occurred during task init_present_time_glacier on RGI60-11.00897: [Errno 2] No such file or directory: '/Users/oberrauch/work/master/working_directories/oggm_run_tmp/per_glacier/RGI60-11/RGI60-11.00/RGI60-11.00897/inversion_output.pkl'\n"
     ]
    },
    {
     "data": {
      "text/plain": [
       "[None]"
      ]
     },
     "execution_count": 5,
     "metadata": {},
     "output_type": "execute_result"
    }
   ],
   "source": [
    "\n",
    "# use default climate (=CRU)\n",
    "# for HISTALP uncomment the following lines (INPUT)\n",
    "# cfg.PARAMS['baseline_climate'] = 'HISTALP'\n",
    "# cfg.PARAMS['prcp_scaling_factor'] = 1.75\n",
    "# cfg.PARAMS['temp_melt'] = -1.75\n",
    "# cfg.PARAMS['run_mb_calibration'] = False\n",
    "\n",
    "\n",
    "\n",
    "# run gis tasks\n",
    "workflow.gis_prepro_tasks(gdirs)\n",
    "# run climate tasks\n",
    "# workflow.execute_entity_task(climate.process_climate_data, gdirs)\n",
    "# compute local t* and the corresponding mu*\n",
    "workflow.execute_entity_task(climate.local_t_star, gdirs)\n",
    "\n",
    "\n",
    "workflow.execute_entity_task(climate.mu_star_calibration, gdirs)\n",
    "# run inversion tasks\n",
    "workflow.inversion_tasks(gdirs)\n",
    "# finalize preprocessing\n",
    "workflow.execute_entity_task(flowline.init_present_time_glacier, gdirs)"
   ]
  },
  {
   "cell_type": "markdown",
   "metadata": {},
   "source": [
    "Run `match_regional_geodetic_mb()` just to see if it works and what its output is..."
   ]
  },
  {
   "cell_type": "code",
   "execution_count": null,
   "metadata": {},
   "outputs": [],
   "source": [
    "from oggm import workflow\n",
    "workflow.match_regional_geodetic_mb(gdirs, rgi_region)"
   ]
  },
  {
   "cell_type": "code",
   "execution_count": null,
   "metadata": {},
   "outputs": [],
   "source": []
  },
  {
   "cell_type": "markdown",
   "metadata": {},
   "source": [
    "## VAS model setup"
   ]
  },
  {
   "cell_type": "code",
   "execution_count": 1,
   "metadata": {},
   "outputs": [
    {
     "name": "stderr",
     "output_type": "stream",
     "text": [
      "2021-01-23 14:04:21: oggm.cfg: Reading default parameters from the OGGM `params.cfg` configuration file.\n",
      "2021-01-23 14:04:21: oggm.cfg: Multiprocessing switched ON according to the parameter file.\n",
      "2021-01-23 14:04:21: oggm.cfg: Multiprocessing: using all available processors (N=4)\n",
      "2021-01-23 14:04:22: oggm.utils: Checking the download verification file checksum...\n",
      "2021-01-23 14:04:23: oggm.cfg: WARNING: adding an unknown parameter `vas_c_area_m2`:`0.191` to PARAMS.\n",
      "2021-01-23 14:04:23: oggm.cfg: WARNING: adding an unknown parameter `vas_gamma_area`:`1.375` to PARAMS.\n",
      "2021-01-23 14:04:23: oggm.cfg: WARNING: adding an unknown parameter `vas_c_length_m`:`4.5507` to PARAMS.\n",
      "2021-01-23 14:04:23: oggm.cfg: WARNING: adding an unknown parameter `vas_q_length`:`2.2` to PARAMS.\n",
      "2021-01-23 14:04:23: oggm.cfg: PARAMS['rgi_version'] changed from `61` to `6`.\n",
      "2021-01-23 14:04:23: oggm.cfg: PARAMS['baseline_climate'] changed from `CRU` to `HISTALP`.\n",
      "2021-01-23 14:04:23: oggm.cfg: PARAMS['temp_melt'] changed from `-1.0` to `-0.5`.\n",
      "2021-01-23 14:04:23: oggm.cfg: PARAMS['min_ice_thick_for_length'] changed from `0.0` to `0.1`.\n",
      "2021-01-23 14:04:24: oggm.workflow: Execute entity task GlacierDirectory on 1 glaciers\n",
      "2021-01-23 14:04:26: oggm.workflow: Execute entity task define_glacier_region on 1 glaciers\n",
      "2021-01-23 14:04:26: oggm.core.gis: (RGI60-11.00897) define_glacier_region\n",
      "2021-01-23 14:04:27: oggm.workflow: Execute entity task glacier_masks on 1 glaciers\n",
      "2021-01-23 14:04:27: oggm.core.gis: (RGI60-11.00897) glacier_masks\n",
      "2021-01-23 14:04:28: oggm.workflow: Execute entity task process_climate_data on 1 glaciers\n",
      "2021-01-23 14:04:28: oggm.core.climate: (RGI60-11.00897) process_climate_data\n",
      "2021-01-23 14:04:28: oggm.shop.histalp: (RGI60-11.00897) process_histalp_data\n",
      "2021-01-23 14:04:29: oggm.utils: /Users/oberrauch/OGGM/download_cache/www.zamg.ac.at/histalp/download/grid5m/HISTALP_temperature_1780-2014.nc.bz2 verified successfully.\n",
      "2021-01-23 14:04:30: oggm.utils: /Users/oberrauch/OGGM/download_cache/www.zamg.ac.at/histalp/download/grid5m/HISTALP_precipitation_all_abs_1801-2014.nc.bz2 verified successfully.\n",
      "2021-01-23 14:04:34: oggm.workflow: Execute entity task local_t_star on 1 glaciers\n",
      "2021-01-23 14:04:34: oggm_vas.core: (RGI60-11.00897) local_t_star\n"
     ]
    },
    {
     "data": {
      "text/plain": [
       "[None]"
      ]
     },
     "execution_count": 1,
     "metadata": {},
     "output_type": "execute_result"
    }
   ],
   "source": [
    "# import internal and externals libraries\n",
    "import os\n",
    "import numpy as np\n",
    "import pandas as pd\n",
    "import xarray as xr\n",
    "\n",
    "import logging\n",
    "\n",
    "log = logging.getLogger('vas-template')\n",
    "\n",
    "# import the needed OGGM modules\n",
    "from oggm import cfg, utils, workflow\n",
    "from oggm.core import gis, climate, flowline\n",
    "import oggm_vas as vascaling\n",
    "\n",
    "log.info('Starting run')\n",
    "\n",
    "# specify glaciers by RGI IDs (INPUT)\n",
    "rgi_ids = ['RGI60-11.00897']\n",
    "\n",
    "# compute RGI region and version from RGI IDs\n",
    "# assuming all they are all the same\n",
    "rgi_region = (rgi_ids[0].split('-')[-1]).split('.')[0]\n",
    "rgi_version = (rgi_ids[0].split('-')[0])[-2:-1]\n",
    "\n",
    "# load default parameter file\n",
    "vascaling.initialize()\n",
    "\n",
    "# get environmental variables for working and output directories\n",
    "WORKING_DIR = '/Users/oberrauch/work/master/working_directories/vas_run/'\n",
    "OUTPUT_DIR = '/Users/oberrauch/work/master/data/vas_run/'\n",
    "\n",
    "# create working directory\n",
    "utils.mkdir(WORKING_DIR)\n",
    "utils.mkdir(OUTPUT_DIR)\n",
    "# set path to working directory\n",
    "cfg.PATHS['working_dir'] = WORKING_DIR\n",
    "# set RGI version and region\n",
    "cfg.PARAMS['rgi_version'] = rgi_version\n",
    "# define how many grid points to use around the glacier,\n",
    "# if you expect the glacier to grow large use a larger border\n",
    "cfg.PARAMS['border'] = 20\n",
    "# we use HistAlp climate data\n",
    "cfg.PARAMS['baseline_climate'] = 'HISTALP'\n",
    "# set the mb hyper parameters accordingly\n",
    "cfg.PARAMS['prcp_scaling_factor'] = 2.5\n",
    "cfg.PARAMS['temp_melt'] = -0.5\n",
    "cfg.PARAMS['run_mb_calibration'] = False\n",
    "# set minimum ice thickness to include in glacier length computation\n",
    "# this reduces weird spikes in length records\n",
    "cfg.PARAMS['min_ice_thick_for_length'] = 0.1\n",
    "\n",
    "# the bias is defined to be zero during the calibration process,\n",
    "# which is why we don't use it here to reproduce the results\n",
    "cfg.PARAMS['use_bias_for_run'] = True\n",
    "\n",
    "# read RGI entry for the glaciers as DataFrame\n",
    "# containing the outline area as shapefile\n",
    "rgidf = utils.get_rgi_glacier_entities(rgi_ids)\n",
    "\n",
    "# get and set path to intersect shapefile\n",
    "intersects_db = utils.get_rgi_intersects_region_file(region=rgi_region)\n",
    "cfg.set_intersects_db(intersects_db)\n",
    "\n",
    "# sort by area for more efficient parallel computing\n",
    "rgidf = rgidf.sort_values('Area', ascending=False)\n",
    "cfg.PARAMS['use_multiprocessing'] = True\n",
    "# operational run, all glaciers should run\n",
    "cfg.PARAMS['continue_on_error'] = False\n",
    "\n",
    "# initialize the GlacierDirectory\n",
    "gdirs = workflow.init_glacier_directories(rgidf, reset=False, force=True)\n",
    "\n",
    "# define the local grid and glacier mask\n",
    "workflow.execute_entity_task(gis.define_glacier_region, gdirs,\n",
    "                             source=None)\n",
    "workflow.execute_entity_task(gis.glacier_masks, gdirs)\n",
    "# process the given climate file\n",
    "workflow.execute_entity_task(climate.process_climate_data, gdirs)\n",
    "# compute local t* and the corresponding mu*\n",
    "workflow.execute_entity_task(vascaling.local_t_star, gdirs)"
   ]
  },
  {
   "cell_type": "code",
   "execution_count": 4,
   "metadata": {},
   "outputs": [],
   "source": [
    "gdir = gdirs[0]"
   ]
  },
  {
   "cell_type": "code",
   "execution_count": 6,
   "metadata": {},
   "outputs": [
    {
     "name": "stderr",
     "output_type": "stream",
     "text": [
      "2021-01-23 14:09:00: oggm_vas.core: (RGI60-11.00897) run_constant_climate_test\n"
     ]
    },
    {
     "data": {
      "text/plain": [
       "<class 'oggm_vas.core.VAScalingModel'>: {'rho': 900.0, 'cl': 4.5507, 'ca': 0.191, 'ql': 2.2, 'gamma': 1.375, 'year_0': 0, 'year': 1000, 'area_m2_0': 8036000.0, 'area_m2': 8055191.785826835, 'min_hgt': 2428.1186197289253, 'min_hgt_0': 2430.0, 'max_hgt': 3691.0, 'volume_m3_0': 596297884.1715343, 'volume_m3': 598256886.2516379, 'length_m_0': 4894.636932668758, 'length_m': 4901.939607814831, 'mb_model': <oggm_vas.core.ConstantVASMassBalance object at 0x141118eb8>, 'spec_mb': -4.446613361470818e-05, 'dL': -5.488614902491102e-07, 'dA': -0.0033042332255338223, 'dV': -0.39798137154178037, 'tau_a': 12.541261771912419, 'tau_l': 37.41116742452614}"
      ]
     },
     "execution_count": 6,
     "metadata": {},
     "output_type": "execute_result"
    }
   ],
   "source": [
    "output_filesuffix = init_model_filesuffix = '_test'\n",
    "vascaling.run_constant_climate(gdir, output_filesuffix=output_filesuffix)"
   ]
  },
  {
   "cell_type": "code",
   "execution_count": 7,
   "metadata": {},
   "outputs": [],
   "source": [
    "fp = gdir.get_filepath('model_run', filesuffix=init_model_filesuffix)"
   ]
  },
  {
   "cell_type": "code",
   "execution_count": 8,
   "metadata": {},
   "outputs": [
    {
     "data": {
      "text/plain": [
       "'/Users/oberrauch/work/master/working_directories/vas_run/per_glacier/RGI60-11/RGI60-11.00/RGI60-11.00897/model_run_test.nc'"
      ]
     },
     "execution_count": 8,
     "metadata": {},
     "output_type": "execute_result"
    }
   ],
   "source": [
    "fp"
   ]
  },
  {
   "cell_type": "code",
   "execution_count": 3,
   "metadata": {},
   "outputs": [
    {
     "name": "stderr",
     "output_type": "stream",
     "text": [
      "2021-01-21 16:44:19: oggm.workflow: Execute entity task fixed_geometry_mass_balance on 1 glaciers\n"
     ]
    }
   ],
   "source": [
    "# Get the mass-balance VAS would give out of the box\n",
    "df = vascaling.compile_fixed_geometry_mass_balance(gdirs, path=False)\n",
    "df = df.dropna(axis=0, how='all').dropna(axis=1, how='all')"
   ]
  },
  {
   "cell_type": "code",
   "execution_count": 5,
   "metadata": {},
   "outputs": [
    {
     "name": "stderr",
     "output_type": "stream",
     "text": [
      "2021-01-21 16:45:06: oggm.workflow: Execute entity task glacier_statistics on 1 glaciers\n"
     ]
    }
   ],
   "source": [
    "# And also the Area and calving fluxes\n",
    "dfs = utils.compile_glacier_statistics(gdirs, path=False)\n",
    "odf = pd.DataFrame(df.loc[2006:2018].mean(), columns=['SMB'])\n",
    "odf['AREA'] = dfs.rgi_area_km2 * 1e6"
   ]
  },
  {
   "cell_type": "code",
   "execution_count": 8,
   "metadata": {},
   "outputs": [],
   "source": [
    "rgi_reg = '11'"
   ]
  },
  {
   "cell_type": "code",
   "execution_count": 9,
   "metadata": {},
   "outputs": [],
   "source": [
    "rdf = 'rgi62_areas.csv'\n",
    "rdf = pd.read_csv(utils.get_demo_file(rdf), dtype={'O1Region': str})\n",
    "ref_area = rdf.loc[rdf['O1Region'] == rgi_reg].iloc[0]['AreaNoC2NoNominal']\n",
    "diff = (1 - odf['AREA'].sum() * 1e-6 / ref_area) * 100"
   ]
  },
  {
   "cell_type": "code",
   "execution_count": 17,
   "metadata": {},
   "outputs": [],
   "source": [
    "rgi_ids = pd.read_csv('/Users/oberrauch/oggm-vas/oggm_vas/data/vas_ref_tstars_rgi6_cru4.csv', index_col=0)\n",
    "rgi_id.index[[i.startswith('RGI60-13') or i.startswith('RGI60-14') or i.startswith('RGI60-15') for i in rgi_id.index]]"
   ]
  },
  {
   "cell_type": "code",
   "execution_count": 29,
   "metadata": {},
   "outputs": [],
   "source": [
    "import geopandas as gpd"
   ]
  },
  {
   "cell_type": "code",
   "execution_count": 30,
   "metadata": {},
   "outputs": [],
   "source": [
    "rgidf = gpd.read_file(utils.get_rgi_region_file(region='14'))"
   ]
  },
  {
   "cell_type": "code",
   "execution_count": 31,
   "metadata": {},
   "outputs": [
    {
     "data": {
      "text/html": [
       "<div>\n",
       "<style scoped>\n",
       "    .dataframe tbody tr th:only-of-type {\n",
       "        vertical-align: middle;\n",
       "    }\n",
       "\n",
       "    .dataframe tbody tr th {\n",
       "        vertical-align: top;\n",
       "    }\n",
       "\n",
       "    .dataframe thead th {\n",
       "        text-align: right;\n",
       "    }\n",
       "</style>\n",
       "<table border=\"1\" class=\"dataframe\">\n",
       "  <thead>\n",
       "    <tr style=\"text-align: right;\">\n",
       "      <th></th>\n",
       "      <th>RGIId</th>\n",
       "      <th>GLIMSId</th>\n",
       "      <th>BgnDate</th>\n",
       "      <th>EndDate</th>\n",
       "      <th>CenLon</th>\n",
       "      <th>CenLat</th>\n",
       "      <th>O1Region</th>\n",
       "      <th>O2Region</th>\n",
       "      <th>Area</th>\n",
       "      <th>Zmin</th>\n",
       "      <th>...</th>\n",
       "      <th>Aspect</th>\n",
       "      <th>Lmax</th>\n",
       "      <th>Status</th>\n",
       "      <th>Connect</th>\n",
       "      <th>Form</th>\n",
       "      <th>TermType</th>\n",
       "      <th>Surging</th>\n",
       "      <th>Linkages</th>\n",
       "      <th>Name</th>\n",
       "      <th>geometry</th>\n",
       "    </tr>\n",
       "  </thead>\n",
       "  <tbody>\n",
       "    <tr>\n",
       "      <th>0</th>\n",
       "      <td>RGI60-14.00001</td>\n",
       "      <td>G075911E35764N</td>\n",
       "      <td>20010721</td>\n",
       "      <td>-9999999</td>\n",
       "      <td>75.9105</td>\n",
       "      <td>35.7639</td>\n",
       "      <td>14</td>\n",
       "      <td>2</td>\n",
       "      <td>0.232</td>\n",
       "      <td>5090</td>\n",
       "      <td>...</td>\n",
       "      <td>160</td>\n",
       "      <td>695</td>\n",
       "      <td>0</td>\n",
       "      <td>0</td>\n",
       "      <td>0</td>\n",
       "      <td>0</td>\n",
       "      <td>0</td>\n",
       "      <td>9</td>\n",
       "      <td>None</td>\n",
       "      <td>POLYGON ((75.91551 35.76513, 75.91550 35.76396...</td>\n",
       "    </tr>\n",
       "    <tr>\n",
       "      <th>1</th>\n",
       "      <td>RGI60-14.00002</td>\n",
       "      <td>G075919E35754N</td>\n",
       "      <td>20010721</td>\n",
       "      <td>-9999999</td>\n",
       "      <td>75.9186</td>\n",
       "      <td>35.7539</td>\n",
       "      <td>14</td>\n",
       "      <td>2</td>\n",
       "      <td>0.025</td>\n",
       "      <td>5178</td>\n",
       "      <td>...</td>\n",
       "      <td>294</td>\n",
       "      <td>283</td>\n",
       "      <td>0</td>\n",
       "      <td>0</td>\n",
       "      <td>0</td>\n",
       "      <td>0</td>\n",
       "      <td>0</td>\n",
       "      <td>9</td>\n",
       "      <td>None</td>\n",
       "      <td>POLYGON ((75.91968 35.75257, 75.91943 35.75257...</td>\n",
       "    </tr>\n",
       "    <tr>\n",
       "      <th>2</th>\n",
       "      <td>RGI60-14.00003</td>\n",
       "      <td>G075919E35751N</td>\n",
       "      <td>20010721</td>\n",
       "      <td>-9999999</td>\n",
       "      <td>75.9193</td>\n",
       "      <td>35.7507</td>\n",
       "      <td>14</td>\n",
       "      <td>2</td>\n",
       "      <td>0.085</td>\n",
       "      <td>5281</td>\n",
       "      <td>...</td>\n",
       "      <td>297</td>\n",
       "      <td>412</td>\n",
       "      <td>0</td>\n",
       "      <td>0</td>\n",
       "      <td>0</td>\n",
       "      <td>0</td>\n",
       "      <td>0</td>\n",
       "      <td>9</td>\n",
       "      <td>None</td>\n",
       "      <td>POLYGON ((75.92009 35.75211, 75.92008 35.75202...</td>\n",
       "    </tr>\n",
       "    <tr>\n",
       "      <th>3</th>\n",
       "      <td>RGI60-14.00004</td>\n",
       "      <td>G075128E35772N</td>\n",
       "      <td>20010829</td>\n",
       "      <td>-9999999</td>\n",
       "      <td>75.1278</td>\n",
       "      <td>35.7722</td>\n",
       "      <td>14</td>\n",
       "      <td>2</td>\n",
       "      <td>1.778</td>\n",
       "      <td>4693</td>\n",
       "      <td>...</td>\n",
       "      <td>185</td>\n",
       "      <td>2627</td>\n",
       "      <td>0</td>\n",
       "      <td>0</td>\n",
       "      <td>0</td>\n",
       "      <td>0</td>\n",
       "      <td>0</td>\n",
       "      <td>9</td>\n",
       "      <td>None</td>\n",
       "      <td>POLYGON ((75.13066 35.78144, 75.13040 35.78144...</td>\n",
       "    </tr>\n",
       "    <tr>\n",
       "      <th>4</th>\n",
       "      <td>RGI60-14.00005</td>\n",
       "      <td>G075593E36006N</td>\n",
       "      <td>20010721</td>\n",
       "      <td>-9999999</td>\n",
       "      <td>75.5932</td>\n",
       "      <td>36.0064</td>\n",
       "      <td>14</td>\n",
       "      <td>2</td>\n",
       "      <td>559.807</td>\n",
       "      <td>3045</td>\n",
       "      <td>...</td>\n",
       "      <td>164</td>\n",
       "      <td>67807</td>\n",
       "      <td>0</td>\n",
       "      <td>0</td>\n",
       "      <td>0</td>\n",
       "      <td>0</td>\n",
       "      <td>2</td>\n",
       "      <td>9</td>\n",
       "      <td>Biafo Glacier</td>\n",
       "      <td>POLYGON ((75.66395 36.12219, 75.66495 36.12218...</td>\n",
       "    </tr>\n",
       "    <tr>\n",
       "      <th>...</th>\n",
       "      <td>...</td>\n",
       "      <td>...</td>\n",
       "      <td>...</td>\n",
       "      <td>...</td>\n",
       "      <td>...</td>\n",
       "      <td>...</td>\n",
       "      <td>...</td>\n",
       "      <td>...</td>\n",
       "      <td>...</td>\n",
       "      <td>...</td>\n",
       "      <td>...</td>\n",
       "      <td>...</td>\n",
       "      <td>...</td>\n",
       "      <td>...</td>\n",
       "      <td>...</td>\n",
       "      <td>...</td>\n",
       "      <td>...</td>\n",
       "      <td>...</td>\n",
       "      <td>...</td>\n",
       "      <td>...</td>\n",
       "      <td>...</td>\n",
       "    </tr>\n",
       "    <tr>\n",
       "      <th>27983</th>\n",
       "      <td>RGI60-14.27984</td>\n",
       "      <td>G078976E33336N</td>\n",
       "      <td>20090907</td>\n",
       "      <td>-9999999</td>\n",
       "      <td>78.9760</td>\n",
       "      <td>33.3360</td>\n",
       "      <td>14</td>\n",
       "      <td>3</td>\n",
       "      <td>0.100</td>\n",
       "      <td>5777</td>\n",
       "      <td>...</td>\n",
       "      <td>331</td>\n",
       "      <td>345</td>\n",
       "      <td>0</td>\n",
       "      <td>0</td>\n",
       "      <td>0</td>\n",
       "      <td>0</td>\n",
       "      <td>9</td>\n",
       "      <td>9</td>\n",
       "      <td>None</td>\n",
       "      <td>POLYGON ((78.97490 33.33737, 78.97507 33.33740...</td>\n",
       "    </tr>\n",
       "    <tr>\n",
       "      <th>27984</th>\n",
       "      <td>RGI60-14.27985</td>\n",
       "      <td>G079038E33292N</td>\n",
       "      <td>20090907</td>\n",
       "      <td>-9999999</td>\n",
       "      <td>79.0380</td>\n",
       "      <td>33.2920</td>\n",
       "      <td>14</td>\n",
       "      <td>3</td>\n",
       "      <td>0.014</td>\n",
       "      <td>5827</td>\n",
       "      <td>...</td>\n",
       "      <td>33</td>\n",
       "      <td>71</td>\n",
       "      <td>0</td>\n",
       "      <td>0</td>\n",
       "      <td>0</td>\n",
       "      <td>0</td>\n",
       "      <td>9</td>\n",
       "      <td>9</td>\n",
       "      <td>None</td>\n",
       "      <td>POLYGON ((79.03783 33.29166, 79.03752 33.29165...</td>\n",
       "    </tr>\n",
       "    <tr>\n",
       "      <th>27985</th>\n",
       "      <td>RGI60-14.27986</td>\n",
       "      <td>G079039E33287N</td>\n",
       "      <td>20090907</td>\n",
       "      <td>-9999999</td>\n",
       "      <td>79.0390</td>\n",
       "      <td>33.2870</td>\n",
       "      <td>14</td>\n",
       "      <td>3</td>\n",
       "      <td>0.010</td>\n",
       "      <td>5851</td>\n",
       "      <td>...</td>\n",
       "      <td>351</td>\n",
       "      <td>79</td>\n",
       "      <td>0</td>\n",
       "      <td>0</td>\n",
       "      <td>0</td>\n",
       "      <td>0</td>\n",
       "      <td>9</td>\n",
       "      <td>9</td>\n",
       "      <td>None</td>\n",
       "      <td>POLYGON ((79.03874 33.28720, 79.03874 33.28740...</td>\n",
       "    </tr>\n",
       "    <tr>\n",
       "      <th>27986</th>\n",
       "      <td>RGI60-14.27987</td>\n",
       "      <td>G079097E33212N</td>\n",
       "      <td>20090907</td>\n",
       "      <td>-9999999</td>\n",
       "      <td>79.0970</td>\n",
       "      <td>33.2120</td>\n",
       "      <td>14</td>\n",
       "      <td>3</td>\n",
       "      <td>0.085</td>\n",
       "      <td>5867</td>\n",
       "      <td>...</td>\n",
       "      <td>8</td>\n",
       "      <td>246</td>\n",
       "      <td>0</td>\n",
       "      <td>0</td>\n",
       "      <td>0</td>\n",
       "      <td>0</td>\n",
       "      <td>9</td>\n",
       "      <td>9</td>\n",
       "      <td>CN5Z422H0060</td>\n",
       "      <td>POLYGON ((79.09397 33.21189, 79.09399 33.21204...</td>\n",
       "    </tr>\n",
       "    <tr>\n",
       "      <th>27987</th>\n",
       "      <td>RGI60-14.27988</td>\n",
       "      <td>G079258E33217N</td>\n",
       "      <td>20090907</td>\n",
       "      <td>-9999999</td>\n",
       "      <td>79.2580</td>\n",
       "      <td>33.2170</td>\n",
       "      <td>14</td>\n",
       "      <td>3</td>\n",
       "      <td>0.039</td>\n",
       "      <td>5789</td>\n",
       "      <td>...</td>\n",
       "      <td>35</td>\n",
       "      <td>-9</td>\n",
       "      <td>0</td>\n",
       "      <td>0</td>\n",
       "      <td>0</td>\n",
       "      <td>0</td>\n",
       "      <td>9</td>\n",
       "      <td>9</td>\n",
       "      <td>CN5Z422H0027</td>\n",
       "      <td>POLYGON ((79.25748 33.21752, 79.25763 33.21755...</td>\n",
       "    </tr>\n",
       "  </tbody>\n",
       "</table>\n",
       "<p>27988 rows × 23 columns</p>\n",
       "</div>"
      ],
      "text/plain": [
       "                RGIId         GLIMSId   BgnDate   EndDate   CenLon   CenLat  \\\n",
       "0      RGI60-14.00001  G075911E35764N  20010721  -9999999  75.9105  35.7639   \n",
       "1      RGI60-14.00002  G075919E35754N  20010721  -9999999  75.9186  35.7539   \n",
       "2      RGI60-14.00003  G075919E35751N  20010721  -9999999  75.9193  35.7507   \n",
       "3      RGI60-14.00004  G075128E35772N  20010829  -9999999  75.1278  35.7722   \n",
       "4      RGI60-14.00005  G075593E36006N  20010721  -9999999  75.5932  36.0064   \n",
       "...               ...             ...       ...       ...      ...      ...   \n",
       "27983  RGI60-14.27984  G078976E33336N  20090907  -9999999  78.9760  33.3360   \n",
       "27984  RGI60-14.27985  G079038E33292N  20090907  -9999999  79.0380  33.2920   \n",
       "27985  RGI60-14.27986  G079039E33287N  20090907  -9999999  79.0390  33.2870   \n",
       "27986  RGI60-14.27987  G079097E33212N  20090907  -9999999  79.0970  33.2120   \n",
       "27987  RGI60-14.27988  G079258E33217N  20090907  -9999999  79.2580  33.2170   \n",
       "\n",
       "      O1Region O2Region     Area  Zmin  ...  Aspect   Lmax  Status  Connect  \\\n",
       "0           14        2    0.232  5090  ...     160    695       0        0   \n",
       "1           14        2    0.025  5178  ...     294    283       0        0   \n",
       "2           14        2    0.085  5281  ...     297    412       0        0   \n",
       "3           14        2    1.778  4693  ...     185   2627       0        0   \n",
       "4           14        2  559.807  3045  ...     164  67807       0        0   \n",
       "...        ...      ...      ...   ...  ...     ...    ...     ...      ...   \n",
       "27983       14        3    0.100  5777  ...     331    345       0        0   \n",
       "27984       14        3    0.014  5827  ...      33     71       0        0   \n",
       "27985       14        3    0.010  5851  ...     351     79       0        0   \n",
       "27986       14        3    0.085  5867  ...       8    246       0        0   \n",
       "27987       14        3    0.039  5789  ...      35     -9       0        0   \n",
       "\n",
       "       Form  TermType  Surging  Linkages           Name  \\\n",
       "0         0         0        0         9           None   \n",
       "1         0         0        0         9           None   \n",
       "2         0         0        0         9           None   \n",
       "3         0         0        0         9           None   \n",
       "4         0         0        2         9  Biafo Glacier   \n",
       "...     ...       ...      ...       ...            ...   \n",
       "27983     0         0        9         9           None   \n",
       "27984     0         0        9         9           None   \n",
       "27985     0         0        9         9           None   \n",
       "27986     0         0        9         9   CN5Z422H0060   \n",
       "27987     0         0        9         9   CN5Z422H0027   \n",
       "\n",
       "                                                geometry  \n",
       "0      POLYGON ((75.91551 35.76513, 75.91550 35.76396...  \n",
       "1      POLYGON ((75.91968 35.75257, 75.91943 35.75257...  \n",
       "2      POLYGON ((75.92009 35.75211, 75.92008 35.75202...  \n",
       "3      POLYGON ((75.13066 35.78144, 75.13040 35.78144...  \n",
       "4      POLYGON ((75.66395 36.12219, 75.66495 36.12218...  \n",
       "...                                                  ...  \n",
       "27983  POLYGON ((78.97490 33.33737, 78.97507 33.33740...  \n",
       "27984  POLYGON ((79.03783 33.29166, 79.03752 33.29165...  \n",
       "27985  POLYGON ((79.03874 33.28720, 79.03874 33.28740...  \n",
       "27986  POLYGON ((79.09397 33.21189, 79.09399 33.21204...  \n",
       "27987  POLYGON ((79.25748 33.21752, 79.25763 33.21755...  \n",
       "\n",
       "[27988 rows x 23 columns]"
      ]
     },
     "execution_count": 31,
     "metadata": {},
     "output_type": "execute_result"
    }
   ],
   "source": [
    "rgidf"
   ]
  },
  {
   "cell_type": "code",
   "execution_count": null,
   "metadata": {},
   "outputs": [],
   "source": []
  },
  {
   "cell_type": "code",
   "execution_count": 1,
   "metadata": {},
   "outputs": [
    {
     "name": "stderr",
     "output_type": "stream",
     "text": [
      "2021-01-24 11:28:46: oggm.cfg: Reading default parameters from the OGGM `params.cfg` configuration file.\n",
      "2021-01-24 11:28:46: oggm.cfg: Multiprocessing switched ON according to the parameter file.\n",
      "2021-01-24 11:28:46: oggm.cfg: Multiprocessing: using all available processors (N=4)\n",
      "2021-01-24 11:28:47: oggm.utils: Checking the download verification file checksum...\n",
      "2021-01-24 11:28:48: oggm.cfg: WARNING: adding an unknown parameter `vas_c_area_m2`:`0.191` to PARAMS.\n",
      "2021-01-24 11:28:48: oggm.cfg: WARNING: adding an unknown parameter `vas_gamma_area`:`1.375` to PARAMS.\n",
      "2021-01-24 11:28:48: oggm.cfg: WARNING: adding an unknown parameter `vas_c_length_m`:`4.5507` to PARAMS.\n",
      "2021-01-24 11:28:48: oggm.cfg: WARNING: adding an unknown parameter `vas_q_length`:`2.2` to PARAMS.\n",
      "2021-01-24 11:28:48: oggm.cfg: PARAMS['use_intersects'] changed from `True` to `False`.\n",
      "2021-01-24 11:28:48: oggm.cfg: PARAMS['baseline_climate'] changed from `CRU` to `CUSTOM`.\n",
      "2021-01-24 11:28:48: oggm.cfg: PARAMS['run_mb_calibration'] changed from `False` to `True`.\n",
      "2021-01-24 11:28:48: oggm.cfg: PARAMS['temp_melt'] changed from `-1.0` to `-0.5`.\n",
      "2021-01-24 11:28:48: oggm.cfg: Multiprocessing switched OFF after user settings.\n",
      "2021-01-24 11:28:48: oggm.cfg: PARAMS['use_bias_for_run'] changed from `True` to `False`.\n",
      "2021-01-24 11:28:48: oggm.core.gis: (RGI60-11.00897) define_glacier_region\n",
      "2021-01-24 11:28:49: oggm.core.gis: (RGI60-11.00897) glacier_masks\n",
      "2021-01-24 11:28:49: oggm.core.gis: (RGI60-11.00897) process_dem\n",
      "2021-01-24 11:28:50: oggm.core.climate: (RGI60-11.00897) process_custom_climate_data\n",
      "2021-01-24 11:28:50: oggm_vas.core: (RGI60-11.00897) local_t_star\n"
     ]
    }
   ],
   "source": [
    "# External libs\n",
    "import numpy as np\n",
    "import pandas as pd\n",
    "import datetime\n",
    "import os\n",
    "import shutil\n",
    "import copy\n",
    "import geopandas as gpd\n",
    "\n",
    "# import test libs\n",
    "import unittest\n",
    "import pytest\n",
    "\n",
    "# import OGGM modules\n",
    "import oggm\n",
    "import oggm.cfg as cfg\n",
    "from oggm import utils\n",
    "from oggm.utils import (get_demo_file, ncDataset, md, rmsd_bc, rel_err,\n",
    "                        corrcoef)\n",
    "from oggm.core import (gis, climate, centerlines,\n",
    "                       massbalance, flowline, inversion)\n",
    "from oggm.tests.funcs import get_test_dir\n",
    "import oggm_vas as vascaling\n",
    "\n",
    "# test directory\n",
    "testdir = os.path.join(get_test_dir(), 'tmp_vas')\n",
    "if not os.path.exists(testdir):\n",
    "    os.makedirs(testdir)\n",
    "    \n",
    "shutil.rmtree(testdir)\n",
    "os.makedirs(testdir)\n",
    "\n",
    "# load default parameter file and set working directory\n",
    "vascaling.initialize()\n",
    "cfg.PATHS['working_dir'] = testdir\n",
    "# set path to GIS files\n",
    "cfg.PARAMS['use_intersects'] = False\n",
    "cfg.PATHS['dem_file'] = get_demo_file('hef_srtm.tif')\n",
    "# set parameters for climate file and mass balance calibration\n",
    "cfg.PARAMS['baseline_climate'] = 'CUSTOM'\n",
    "cfg.PATHS['climate_file'] = get_demo_file('histalp_merged_hef.nc')\n",
    "cfg.PARAMS['run_mb_calibration'] = True\n",
    "# adjust parameters for HistAlp climate\n",
    "cfg.PARAMS['prcp_scaling_factor'] = 2.5\n",
    "cfg.PARAMS['temp_melt'] = -0.5\n",
    "cfg.PARAMS['temp_all_solid'] = 0.\n",
    "\n",
    "# coveralls.io has issues if multiprocessing is enabled\n",
    "cfg.PARAMS['use_multiprocessing'] = False\n",
    "\n",
    "# let's not use the mass balance bias since we want to reproduce\n",
    "# results from mass balance calibration\n",
    "cfg.PARAMS['use_bias_for_run'] = False\n",
    "\n",
    "# read the Hintereisferner DEM\n",
    "hef_file = get_demo_file('Hintereisferner_RGI6.shp')\n",
    "entity = gpd.read_file(hef_file).iloc[0]\n",
    "\n",
    "# initialize the GlacierDirectory\n",
    "gdir = oggm.GlacierDirectory(entity, base_dir=testdir)\n",
    "# define the local grid and glacier mask\n",
    "gis.define_glacier_region(gdir, entity=entity)\n",
    "gis.glacier_masks(gdir)\n",
    "\n",
    "# process the given climate file\n",
    "climate.process_custom_climate_data(gdir)\n",
    "# compute mass balance parameters\n",
    "fn = 'vas_ref_tstars_rgi6_histalp.csv'\n",
    "fp = vascaling.get_ref_tstars_filepath(fn)\n",
    "ref_df = pd.read_csv(fp)\n",
    "vascaling.local_t_star(gdir, ref_df=ref_df)"
   ]
  },
  {
   "cell_type": "code",
   "execution_count": 9,
   "metadata": {},
   "outputs": [
    {
     "name": "stderr",
     "output_type": "stream",
     "text": [
      "2021-01-24 11:29:52: oggm_vas.core: (RGI60-11.00897) run_constant_climate_test\n"
     ]
    },
    {
     "data": {
      "text/plain": [
       "<class 'oggm_vas.core.VAScalingModel'>: {'rho': 900.0, 'cl': 4.5507, 'ca': 0.191, 'ql': 2.2, 'gamma': 1.375, 'year_0': 0, 'year': 1000, 'area_m2_0': 8036000.0, 'area_m2': 7097759.503205945, 'min_hgt': 2539.355765649882, 'min_hgt_0': 2447.0, 'max_hgt': 3684.0, 'volume_m3_0': 596297884.1715343, 'volume_m3': 502718817.0399172, 'length_m_0': 4894.636932668758, 'length_m': 4529.198014726307, 'mb_model': <oggm_vas.core.ConstantVASMassBalance object at 0x13f39a518>, 'spec_mb': 0.00022986627394153226, 'dL': 7.785783667063516e-06, 'dA': 0.015000463028905035, 'dV': 1.8128172520966122, 'tau_a': 12.384230326168913, 'tau_l': 35.79236179571297}"
      ]
     },
     "execution_count": 9,
     "metadata": {},
     "output_type": "execute_result"
    }
   ],
   "source": [
    "vascaling.run_constant_climate(gdir, temperature_bias=0.5, output_filesuffix='_test')"
   ]
  },
  {
   "cell_type": "code",
   "execution_count": null,
   "metadata": {},
   "outputs": [],
   "source": []
  },
  {
   "cell_type": "code",
   "execution_count": 14,
   "metadata": {},
   "outputs": [],
   "source": [
    "gcms = pd.read_csv('/Users/oberrauch/work/master/data/all_gcm_list.csv', index_col=0)"
   ]
  },
  {
   "cell_type": "code",
   "execution_count": 15,
   "metadata": {},
   "outputs": [
    {
     "data": {
      "text/html": [
       "<div>\n",
       "<style scoped>\n",
       "    .dataframe tbody tr th:only-of-type {\n",
       "        vertical-align: middle;\n",
       "    }\n",
       "\n",
       "    .dataframe tbody tr th {\n",
       "        vertical-align: top;\n",
       "    }\n",
       "\n",
       "    .dataframe thead th {\n",
       "        text-align: right;\n",
       "    }\n",
       "</style>\n",
       "<table border=\"1\" class=\"dataframe\">\n",
       "  <thead>\n",
       "    <tr style=\"text-align: right;\">\n",
       "      <th></th>\n",
       "      <th>index</th>\n",
       "      <th>path</th>\n",
       "      <th>folder</th>\n",
       "      <th>fname</th>\n",
       "      <th>valid</th>\n",
       "      <th>gcm</th>\n",
       "      <th>ssp</th>\n",
       "      <th>rea</th>\n",
       "      <th>var</th>\n",
       "    </tr>\n",
       "  </thead>\n",
       "  <tbody>\n",
       "    <tr>\n",
       "      <th>0</th>\n",
       "      <td>0</td>\n",
       "      <td>/home/www/oggm/cmip6/GCM/CESM2-WACCM/CESM2-WAC...</td>\n",
       "      <td>GCM</td>\n",
       "      <td>CESM2-WACCM_ssp126_r1i1p1f1_pr.nc</td>\n",
       "      <td>True</td>\n",
       "      <td>CESM2-WACCM</td>\n",
       "      <td>ssp126</td>\n",
       "      <td>r1i1p1f1</td>\n",
       "      <td>pr</td>\n",
       "    </tr>\n",
       "    <tr>\n",
       "      <th>1</th>\n",
       "      <td>2</td>\n",
       "      <td>/home/www/oggm/cmip6/GCM/CESM2-WACCM/CESM2-WAC...</td>\n",
       "      <td>GCM</td>\n",
       "      <td>CESM2-WACCM_ssp585_r1i1p1f1_tas.nc</td>\n",
       "      <td>True</td>\n",
       "      <td>CESM2-WACCM</td>\n",
       "      <td>ssp585</td>\n",
       "      <td>r1i1p1f1</td>\n",
       "      <td>tas</td>\n",
       "    </tr>\n",
       "    <tr>\n",
       "      <th>2</th>\n",
       "      <td>7</td>\n",
       "      <td>/home/www/oggm/cmip6/GCM/CESM2-WACCM/CESM2-WAC...</td>\n",
       "      <td>GCM</td>\n",
       "      <td>CESM2-WACCM_ssp370_r1i1p1f1_pr.nc</td>\n",
       "      <td>True</td>\n",
       "      <td>CESM2-WACCM</td>\n",
       "      <td>ssp370</td>\n",
       "      <td>r1i1p1f1</td>\n",
       "      <td>pr</td>\n",
       "    </tr>\n",
       "    <tr>\n",
       "      <th>3</th>\n",
       "      <td>8</td>\n",
       "      <td>/home/www/oggm/cmip6/GCM/CESM2-WACCM/CESM2-WAC...</td>\n",
       "      <td>GCM</td>\n",
       "      <td>CESM2-WACCM_ssp370_r1i1p1f1_tas.nc</td>\n",
       "      <td>True</td>\n",
       "      <td>CESM2-WACCM</td>\n",
       "      <td>ssp370</td>\n",
       "      <td>r1i1p1f1</td>\n",
       "      <td>tas</td>\n",
       "    </tr>\n",
       "    <tr>\n",
       "      <th>4</th>\n",
       "      <td>9</td>\n",
       "      <td>/home/www/oggm/cmip6/GCM/CESM2-WACCM/CESM2-WAC...</td>\n",
       "      <td>GCM</td>\n",
       "      <td>CESM2-WACCM_ssp585_r1i1p1f1_pr.nc</td>\n",
       "      <td>True</td>\n",
       "      <td>CESM2-WACCM</td>\n",
       "      <td>ssp585</td>\n",
       "      <td>r1i1p1f1</td>\n",
       "      <td>pr</td>\n",
       "    </tr>\n",
       "    <tr>\n",
       "      <th>...</th>\n",
       "      <td>...</td>\n",
       "      <td>...</td>\n",
       "      <td>...</td>\n",
       "      <td>...</td>\n",
       "      <td>...</td>\n",
       "      <td>...</td>\n",
       "      <td>...</td>\n",
       "      <td>...</td>\n",
       "      <td>...</td>\n",
       "    </tr>\n",
       "    <tr>\n",
       "      <th>121</th>\n",
       "      <td>563</td>\n",
       "      <td>/home/www/oggm/cmip6/additional_GCMs/TaiESM1/T...</td>\n",
       "      <td>additional_GCMs</td>\n",
       "      <td>TaiESM1_ssp585_r1i1p1f1_tas.nc</td>\n",
       "      <td>True</td>\n",
       "      <td>TaiESM1</td>\n",
       "      <td>ssp585</td>\n",
       "      <td>r1i1p1f1</td>\n",
       "      <td>tas</td>\n",
       "    </tr>\n",
       "    <tr>\n",
       "      <th>122</th>\n",
       "      <td>565</td>\n",
       "      <td>/home/www/oggm/cmip6/additional_GCMs/CMCC-CM2-...</td>\n",
       "      <td>additional_GCMs</td>\n",
       "      <td>CMCC-CM2-SR5_ssp585_r1i1p1f1_tas.nc</td>\n",
       "      <td>True</td>\n",
       "      <td>CMCC-CM2-SR5</td>\n",
       "      <td>ssp585</td>\n",
       "      <td>r1i1p1f1</td>\n",
       "      <td>tas</td>\n",
       "    </tr>\n",
       "    <tr>\n",
       "      <th>123</th>\n",
       "      <td>566</td>\n",
       "      <td>/home/www/oggm/cmip6/additional_GCMs/CMCC-CM2-...</td>\n",
       "      <td>additional_GCMs</td>\n",
       "      <td>CMCC-CM2-SR5_ssp245_r1i1p1f1_tas.nc</td>\n",
       "      <td>True</td>\n",
       "      <td>CMCC-CM2-SR5</td>\n",
       "      <td>ssp245</td>\n",
       "      <td>r1i1p1f1</td>\n",
       "      <td>tas</td>\n",
       "    </tr>\n",
       "    <tr>\n",
       "      <th>124</th>\n",
       "      <td>567</td>\n",
       "      <td>/home/www/oggm/cmip6/additional_GCMs/CMCC-CM2-...</td>\n",
       "      <td>additional_GCMs</td>\n",
       "      <td>CMCC-CM2-SR5_ssp585_r1i1p1f1_pr.nc</td>\n",
       "      <td>True</td>\n",
       "      <td>CMCC-CM2-SR5</td>\n",
       "      <td>ssp585</td>\n",
       "      <td>r1i1p1f1</td>\n",
       "      <td>pr</td>\n",
       "    </tr>\n",
       "    <tr>\n",
       "      <th>125</th>\n",
       "      <td>568</td>\n",
       "      <td>/home/www/oggm/cmip6/additional_GCMs/CMCC-CM2-...</td>\n",
       "      <td>additional_GCMs</td>\n",
       "      <td>CMCC-CM2-SR5_ssp245_r1i1p1f1_pr.nc</td>\n",
       "      <td>True</td>\n",
       "      <td>CMCC-CM2-SR5</td>\n",
       "      <td>ssp245</td>\n",
       "      <td>r1i1p1f1</td>\n",
       "      <td>pr</td>\n",
       "    </tr>\n",
       "  </tbody>\n",
       "</table>\n",
       "<p>126 rows × 9 columns</p>\n",
       "</div>"
      ],
      "text/plain": [
       "     index                                               path  \\\n",
       "0        0  /home/www/oggm/cmip6/GCM/CESM2-WACCM/CESM2-WAC...   \n",
       "1        2  /home/www/oggm/cmip6/GCM/CESM2-WACCM/CESM2-WAC...   \n",
       "2        7  /home/www/oggm/cmip6/GCM/CESM2-WACCM/CESM2-WAC...   \n",
       "3        8  /home/www/oggm/cmip6/GCM/CESM2-WACCM/CESM2-WAC...   \n",
       "4        9  /home/www/oggm/cmip6/GCM/CESM2-WACCM/CESM2-WAC...   \n",
       "..     ...                                                ...   \n",
       "121    563  /home/www/oggm/cmip6/additional_GCMs/TaiESM1/T...   \n",
       "122    565  /home/www/oggm/cmip6/additional_GCMs/CMCC-CM2-...   \n",
       "123    566  /home/www/oggm/cmip6/additional_GCMs/CMCC-CM2-...   \n",
       "124    567  /home/www/oggm/cmip6/additional_GCMs/CMCC-CM2-...   \n",
       "125    568  /home/www/oggm/cmip6/additional_GCMs/CMCC-CM2-...   \n",
       "\n",
       "              folder                                fname  valid  \\\n",
       "0                GCM    CESM2-WACCM_ssp126_r1i1p1f1_pr.nc   True   \n",
       "1                GCM   CESM2-WACCM_ssp585_r1i1p1f1_tas.nc   True   \n",
       "2                GCM    CESM2-WACCM_ssp370_r1i1p1f1_pr.nc   True   \n",
       "3                GCM   CESM2-WACCM_ssp370_r1i1p1f1_tas.nc   True   \n",
       "4                GCM    CESM2-WACCM_ssp585_r1i1p1f1_pr.nc   True   \n",
       "..               ...                                  ...    ...   \n",
       "121  additional_GCMs       TaiESM1_ssp585_r1i1p1f1_tas.nc   True   \n",
       "122  additional_GCMs  CMCC-CM2-SR5_ssp585_r1i1p1f1_tas.nc   True   \n",
       "123  additional_GCMs  CMCC-CM2-SR5_ssp245_r1i1p1f1_tas.nc   True   \n",
       "124  additional_GCMs   CMCC-CM2-SR5_ssp585_r1i1p1f1_pr.nc   True   \n",
       "125  additional_GCMs   CMCC-CM2-SR5_ssp245_r1i1p1f1_pr.nc   True   \n",
       "\n",
       "              gcm     ssp       rea  var  \n",
       "0     CESM2-WACCM  ssp126  r1i1p1f1   pr  \n",
       "1     CESM2-WACCM  ssp585  r1i1p1f1  tas  \n",
       "2     CESM2-WACCM  ssp370  r1i1p1f1   pr  \n",
       "3     CESM2-WACCM  ssp370  r1i1p1f1  tas  \n",
       "4     CESM2-WACCM  ssp585  r1i1p1f1   pr  \n",
       "..            ...     ...       ...  ...  \n",
       "121       TaiESM1  ssp585  r1i1p1f1  tas  \n",
       "122  CMCC-CM2-SR5  ssp585  r1i1p1f1  tas  \n",
       "123  CMCC-CM2-SR5  ssp245  r1i1p1f1  tas  \n",
       "124  CMCC-CM2-SR5  ssp585  r1i1p1f1   pr  \n",
       "125  CMCC-CM2-SR5  ssp245  r1i1p1f1   pr  \n",
       "\n",
       "[126 rows x 9 columns]"
      ]
     },
     "execution_count": 15,
     "metadata": {},
     "output_type": "execute_result"
    }
   ],
   "source": [
    "gcms"
   ]
  },
  {
   "cell_type": "code",
   "execution_count": 10,
   "metadata": {},
   "outputs": [
    {
     "data": {
      "text/plain": [
       "[<matplotlib.lines.Line2D at 0x13f5ee780>]"
      ]
     },
     "execution_count": 10,
     "metadata": {},
     "output_type": "execute_result"
    },
    {
     "data": {
      "image/png": "[encoded data removed]",
      "text/plain": [
       "<Figure size 432x288 with 1 Axes>"
      ]
     },
     "metadata": {
      "needs_background": "light"
     },
     "output_type": "display_data"
    }
   ],
   "source": [
    "import xarray as xr\n",
    "fp = gdir.get_filepath('model_diagnostics', filesuffix='_test')\n",
    "diag_ds = xr.load_dataset(fp)\n",
    "diag_ds.volume_m3.plot()"
   ]
  },
  {
   "cell_type": "code",
   "execution_count": 11,
   "metadata": {},
   "outputs": [
    {
     "name": "stdout",
     "output_type": "stream",
     "text": [
      "<class 'oggm_vas.core.VAScalingModel'>\n",
      "year: 0\n",
      "area [km2]: 8.04\n",
      "volume [km3]: 0.596\n",
      "length [km]: 4.89\n",
      "min elev [m asl.]: 2447\n",
      "spec mb [mm w.e. yr-1]: -321.31\n"
     ]
    }
   ],
   "source": [
    "# instance a constant mass balance model, centred around t*\n",
    "mb_model = vascaling.ConstantVASMassBalance(gdir)\n",
    "# add a positive temperature bias\n",
    "mb_model.temp_bias = 0.5\n",
    "\n",
    "# create a VAS model: start with year 0  since we are using a constant\n",
    "# massbalance model, other values are read from RGI\n",
    "min_hgt, max_hgt = vascaling.get_min_max_elevation(gdir)\n",
    "model = vascaling.VAScalingModel(year_0=0, area_m2_0=gdir.rgi_area_m2,\n",
    "                         min_hgt=min_hgt, max_hgt=max_hgt,\n",
    "                         mb_model=mb_model)\n",
    "print(model)"
   ]
  },
  {
   "cell_type": "code",
   "execution_count": 12,
   "metadata": {},
   "outputs": [
    {
     "name": "stdout",
     "output_type": "stream",
     "text": [
      "<class 'oggm_vas.core.VAScalingModel'>\n",
      "year: 1000.0\n",
      "area [km2]: 7.10\n",
      "volume [km3]: 0.503\n",
      "length [km]: 4.53\n",
      "min elev [m asl.]: 2539\n",
      "spec mb [mm w.e. yr-1]: 0.00\n"
     ]
    }
   ],
   "source": [
    "model.read_from_netcdf(fp)\n",
    "print(model)"
   ]
  },
  {
   "cell_type": "code",
   "execution_count": 13,
   "metadata": {},
   "outputs": [
    {
     "name": "stdout",
     "output_type": "stream",
     "text": [
      "<class 'oggm_vas.core.VAScalingModel'>\n",
      "year: 0.0\n",
      "area [km2]: 7.10\n",
      "volume [km3]: 0.503\n",
      "length [km]: 4.53\n",
      "min elev [m asl.]: 2539\n",
      "spec mb [mm w.e. yr-1]: 0.00\n"
     ]
    }
   ],
   "source": [
    "model.reset_year_0()\n",
    "print(model)"
   ]
  },
  {
   "cell_type": "code",
   "execution_count": 2,
   "metadata": {},
   "outputs": [
    {
     "ename": "TypeError",
     "evalue": "run_until_and_store() got an unexpected keyword argument 'output_filesuffix'",
     "output_type": "error",
     "traceback": [
      "\u001b[0;31m---------------------------------------------------------------------------\u001b[0m",
      "\u001b[0;31mTypeError\u001b[0m                                 Traceback (most recent call last)",
      "\u001b[0;32m<ipython-input-2-4aa3045a36be>\u001b[0m in \u001b[0;36m<module>\u001b[0;34m\u001b[0m\n\u001b[1;32m      1\u001b[0m \u001b[0;31m# run glacier with new mass balance model\u001b[0m\u001b[0;34m\u001b[0m\u001b[0;34m\u001b[0m\u001b[0;34m\u001b[0m\u001b[0m\n\u001b[0;32m----> 2\u001b[0;31m \u001b[0mds\u001b[0m \u001b[0;34m=\u001b[0m \u001b[0mmodel\u001b[0m\u001b[0;34m.\u001b[0m\u001b[0mrun_until_and_store\u001b[0m\u001b[0;34m(\u001b[0m\u001b[0myear_end\u001b[0m\u001b[0;34m=\u001b[0m\u001b[0;36m500\u001b[0m\u001b[0;34m,\u001b[0m \u001b[0mreset\u001b[0m\u001b[0;34m=\u001b[0m\u001b[0;32mTrue\u001b[0m\u001b[0;34m,\u001b[0m \u001b[0moutput_filesuffix\u001b[0m\u001b[0;34m=\u001b[0m\u001b[0;34m'_test'\u001b[0m\u001b[0;34m)\u001b[0m\u001b[0;34m\u001b[0m\u001b[0;34m\u001b[0m\u001b[0m\n\u001b[0m",
      "\u001b[0;31mTypeError\u001b[0m: run_until_and_store() got an unexpected keyword argument 'output_filesuffix'"
     ]
    }
   ],
   "source": [
    "# run glacier with new mass balance model\n",
    "ds = model.run_until_and_store(year_end=500, reset=True)"
   ]
  },
  {
   "cell_type": "code",
   "execution_count": 18,
   "metadata": {},
   "outputs": [
    {
     "data": {
      "text/plain": [
       "0.0"
      ]
     },
     "execution_count": 18,
     "metadata": {},
     "output_type": "execute_result"
    }
   ],
   "source": [
    "float(ds.hydro_year[0].values + (ds.hydro_month[0].values-1)/12)"
   ]
  },
  {
   "cell_type": "code",
   "execution_count": 27,
   "metadata": {},
   "outputs": [
    {
     "data": {
      "text/plain": [
       "0.004301224702430773"
      ]
     },
     "execution_count": 27,
     "metadata": {},
     "output_type": "execute_result"
    }
   ],
   "source": [
    "float(np.diff(ds.length_m[-2:].values))"
   ]
  },
  {
   "cell_type": "code",
   "execution_count": 25,
   "metadata": {},
   "outputs": [
    {
     "data": {
      "text/plain": [
       "[<matplotlib.lines.Line2D at 0x1073714a8>]"
      ]
     },
     "execution_count": 25,
     "metadata": {},
     "output_type": "execute_result"
    },
    {
     "data": {
      "image/png": "[encoded data removed]",
      "text/plain": [
       "<Figure size 432x288 with 1 Axes>"
      ]
     },
     "metadata": {
      "needs_background": "light"
     },
     "output_type": "display_data"
    }
   ],
   "source": [
    "import matplotlib.pyplot as plt\n",
    "%matplotlib inline\n",
    "plt.plot(ds.length_m[-2:].values)"
   ]
  },
  {
   "cell_type": "code",
   "execution_count": 26,
   "metadata": {},
   "outputs": [
    {
     "data": {
      "text/plain": [
       "array([3])"
      ]
     },
     "execution_count": 26,
     "metadata": {},
     "output_type": "execute_result"
    }
   ],
   "source": [
    "np.diff([10,13])"
   ]
  },
  {
   "cell_type": "code",
   "execution_count": null,
   "metadata": {},
   "outputs": [],
   "source": []
  },
  {
   "cell_type": "code",
   "execution_count": 2,
   "metadata": {},
   "outputs": [
    {
     "name": "stderr",
     "output_type": "stream",
     "text": [
      "2021-01-21 16:02:06: oggm.workflow: Execute entity task fixed_geometry_mass_balance on 1 glaciers\n"
     ]
    },
    {
     "ename": "FileNotFoundError",
     "evalue": "[Errno 2] No such file or directory: '/Users/oberrauch/work/master/working_directories/vas_run/per_glacier/RGI60-11/RGI60-11.00/RGI60-11.00897/inversion_flowlines.pkl'",
     "output_type": "error",
     "traceback": [
      "\u001b[0;31m---------------------------------------------------------------------------\u001b[0m",
      "\u001b[0;31mRemoteTraceback\u001b[0m                           Traceback (most recent call last)",
      "\u001b[0;31mRemoteTraceback\u001b[0m: \n\"\"\"\nTraceback (most recent call last):\n  File \"/Users/oberrauch/miniconda3/envs/oggm_env/lib/python3.6/multiprocessing/pool.py\", line 119, in worker\n    result = (True, func(*args, **kwds))\n  File \"/Users/oberrauch/miniconda3/envs/oggm_env/lib/python3.6/multiprocessing/pool.py\", line 44, in mapstar\n    return list(map(*args))\n  File \"/Users/oberrauch/oggm-fork/oggm/workflow.py\", line 99, in __call__\n    return call_func(gdir, **self.out_kwargs)\n  File \"/Users/oberrauch/oggm-fork/oggm/utils/_workflow.py\", line 488, in _entity_task\n    out = task_func(gdir, **kwargs)\n  File \"/Users/oberrauch/oggm-fork/oggm/core/massbalance.py\", line 1175, in fixed_geometry_mass_balance\n    input_filesuffix=climate_input_filesuffix)\n  File \"/Users/oberrauch/oggm-fork/oggm/core/massbalance.py\", line 958, in __init__\n    fls = gdir.read_pickle('inversion_flowlines')\n  File \"/Users/oberrauch/oggm-fork/oggm/utils/_workflow.py\", line 2249, in read_pickle\n    with _open(fp, 'rb') as f:\n  File \"/Users/oberrauch/miniconda3/envs/oggm_env/lib/python3.6/gzip.py\", line 53, in open\n    binary_file = GzipFile(filename, gz_mode, compresslevel)\n  File \"/Users/oberrauch/miniconda3/envs/oggm_env/lib/python3.6/gzip.py\", line 163, in __init__\n    fileobj = self.myfileobj = builtins.open(filename, mode or 'rb')\nFileNotFoundError: [Errno 2] No such file or directory: '/Users/oberrauch/work/master/working_directories/vas_run/per_glacier/RGI60-11/RGI60-11.00/RGI60-11.00897/inversion_flowlines.pkl'\n\"\"\"",
      "\nThe above exception was the direct cause of the following exception:\n",
      "\u001b[0;31mFileNotFoundError\u001b[0m                         Traceback (most recent call last)",
      "\u001b[0;32m<ipython-input-2-70ef675b0f2a>\u001b[0m in \u001b[0;36m<module>\u001b[0;34m\u001b[0m\n\u001b[1;32m      1\u001b[0m \u001b[0;31m# Get the mass-balance OGGM would give out of the box\u001b[0m\u001b[0;34m\u001b[0m\u001b[0;34m\u001b[0m\u001b[0;34m\u001b[0m\u001b[0m\n\u001b[0;32m----> 2\u001b[0;31m \u001b[0mdf\u001b[0m \u001b[0;34m=\u001b[0m \u001b[0mutils\u001b[0m\u001b[0;34m.\u001b[0m\u001b[0mcompile_fixed_geometry_mass_balance\u001b[0m\u001b[0;34m(\u001b[0m\u001b[0mgdirs\u001b[0m\u001b[0;34m,\u001b[0m \u001b[0mpath\u001b[0m\u001b[0;34m=\u001b[0m\u001b[0;32mFalse\u001b[0m\u001b[0;34m)\u001b[0m\u001b[0;34m\u001b[0m\u001b[0;34m\u001b[0m\u001b[0m\n\u001b[0m\u001b[1;32m      3\u001b[0m \u001b[0mdf\u001b[0m \u001b[0;34m=\u001b[0m \u001b[0mdf\u001b[0m\u001b[0;34m.\u001b[0m\u001b[0mdropna\u001b[0m\u001b[0;34m(\u001b[0m\u001b[0maxis\u001b[0m\u001b[0;34m=\u001b[0m\u001b[0;36m0\u001b[0m\u001b[0;34m,\u001b[0m \u001b[0mhow\u001b[0m\u001b[0;34m=\u001b[0m\u001b[0;34m'all'\u001b[0m\u001b[0;34m)\u001b[0m\u001b[0;34m.\u001b[0m\u001b[0mdropna\u001b[0m\u001b[0;34m(\u001b[0m\u001b[0maxis\u001b[0m\u001b[0;34m=\u001b[0m\u001b[0;36m1\u001b[0m\u001b[0;34m,\u001b[0m \u001b[0mhow\u001b[0m\u001b[0;34m=\u001b[0m\u001b[0;34m'all'\u001b[0m\u001b[0;34m)\u001b[0m\u001b[0;34m\u001b[0m\u001b[0;34m\u001b[0m\u001b[0m\n",
      "\u001b[0;32m~/oggm-fork/oggm/utils/_workflow.py\u001b[0m in \u001b[0;36mcompile_fixed_geometry_mass_balance\u001b[0;34m(gdirs, filesuffix, path, use_inversion_flowlines, ys, ye, years)\u001b[0m\n\u001b[1;32m   1298\u001b[0m     out_df = execute_entity_task(fixed_geometry_mass_balance, gdirs,\n\u001b[1;32m   1299\u001b[0m                                  \u001b[0muse_inversion_flowlines\u001b[0m\u001b[0;34m=\u001b[0m\u001b[0muse_inversion_flowlines\u001b[0m\u001b[0;34m,\u001b[0m\u001b[0;34m\u001b[0m\u001b[0;34m\u001b[0m\u001b[0m\n\u001b[0;32m-> 1300\u001b[0;31m                                  ys=ys, ye=ye, years=years)\n\u001b[0m\u001b[1;32m   1301\u001b[0m \u001b[0;34m\u001b[0m\u001b[0m\n\u001b[1;32m   1302\u001b[0m     \u001b[0;32mfor\u001b[0m \u001b[0midx\u001b[0m\u001b[0;34m,\u001b[0m \u001b[0ms\u001b[0m \u001b[0;32min\u001b[0m \u001b[0menumerate\u001b[0m\u001b[0;34m(\u001b[0m\u001b[0mout_df\u001b[0m\u001b[0;34m)\u001b[0m\u001b[0;34m:\u001b[0m\u001b[0;34m\u001b[0m\u001b[0;34m\u001b[0m\u001b[0m\n",
      "\u001b[0;32m~/oggm-fork/oggm/workflow.py\u001b[0m in \u001b[0;36mexecute_entity_task\u001b[0;34m(task, gdirs, **kwargs)\u001b[0m\n\u001b[1;32m    149\u001b[0m     \u001b[0;32mif\u001b[0m \u001b[0mcfg\u001b[0m\u001b[0;34m.\u001b[0m\u001b[0mPARAMS\u001b[0m\u001b[0;34m[\u001b[0m\u001b[0;34m'use_multiprocessing'\u001b[0m\u001b[0;34m]\u001b[0m\u001b[0;34m:\u001b[0m\u001b[0;34m\u001b[0m\u001b[0;34m\u001b[0m\u001b[0m\n\u001b[1;32m    150\u001b[0m         \u001b[0mmppool\u001b[0m \u001b[0;34m=\u001b[0m \u001b[0minit_mp_pool\u001b[0m\u001b[0;34m(\u001b[0m\u001b[0mcfg\u001b[0m\u001b[0;34m.\u001b[0m\u001b[0mCONFIG_MODIFIED\u001b[0m\u001b[0;34m)\u001b[0m\u001b[0;34m\u001b[0m\u001b[0;34m\u001b[0m\u001b[0m\n\u001b[0;32m--> 151\u001b[0;31m         \u001b[0mout\u001b[0m \u001b[0;34m=\u001b[0m \u001b[0mmppool\u001b[0m\u001b[0;34m.\u001b[0m\u001b[0mmap\u001b[0m\u001b[0;34m(\u001b[0m\u001b[0mpc\u001b[0m\u001b[0;34m,\u001b[0m \u001b[0mgdirs\u001b[0m\u001b[0;34m,\u001b[0m \u001b[0mchunksize\u001b[0m\u001b[0;34m=\u001b[0m\u001b[0;36m1\u001b[0m\u001b[0;34m)\u001b[0m\u001b[0;34m\u001b[0m\u001b[0;34m\u001b[0m\u001b[0m\n\u001b[0m\u001b[1;32m    152\u001b[0m     \u001b[0;32melse\u001b[0m\u001b[0;34m:\u001b[0m\u001b[0;34m\u001b[0m\u001b[0;34m\u001b[0m\u001b[0m\n\u001b[1;32m    153\u001b[0m         \u001b[0mout\u001b[0m \u001b[0;34m=\u001b[0m \u001b[0;34m[\u001b[0m\u001b[0mpc\u001b[0m\u001b[0;34m(\u001b[0m\u001b[0mgdir\u001b[0m\u001b[0;34m)\u001b[0m \u001b[0;32mfor\u001b[0m \u001b[0mgdir\u001b[0m \u001b[0;32min\u001b[0m \u001b[0mgdirs\u001b[0m\u001b[0;34m]\u001b[0m\u001b[0;34m\u001b[0m\u001b[0;34m\u001b[0m\u001b[0m\n",
      "\u001b[0;32m~/miniconda3/envs/oggm_env/lib/python3.6/multiprocessing/pool.py\u001b[0m in \u001b[0;36mmap\u001b[0;34m(self, func, iterable, chunksize)\u001b[0m\n\u001b[1;32m    286\u001b[0m         \u001b[0;32min\u001b[0m \u001b[0ma\u001b[0m \u001b[0mlist\u001b[0m \u001b[0mthat\u001b[0m \u001b[0;32mis\u001b[0m \u001b[0mreturned\u001b[0m\u001b[0;34m.\u001b[0m\u001b[0;34m\u001b[0m\u001b[0;34m\u001b[0m\u001b[0m\n\u001b[1;32m    287\u001b[0m         '''\n\u001b[0;32m--> 288\u001b[0;31m         \u001b[0;32mreturn\u001b[0m \u001b[0mself\u001b[0m\u001b[0;34m.\u001b[0m\u001b[0m_map_async\u001b[0m\u001b[0;34m(\u001b[0m\u001b[0mfunc\u001b[0m\u001b[0;34m,\u001b[0m \u001b[0miterable\u001b[0m\u001b[0;34m,\u001b[0m \u001b[0mmapstar\u001b[0m\u001b[0;34m,\u001b[0m \u001b[0mchunksize\u001b[0m\u001b[0;34m)\u001b[0m\u001b[0;34m.\u001b[0m\u001b[0mget\u001b[0m\u001b[0;34m(\u001b[0m\u001b[0;34m)\u001b[0m\u001b[0;34m\u001b[0m\u001b[0;34m\u001b[0m\u001b[0m\n\u001b[0m\u001b[1;32m    289\u001b[0m \u001b[0;34m\u001b[0m\u001b[0m\n\u001b[1;32m    290\u001b[0m     \u001b[0;32mdef\u001b[0m \u001b[0mstarmap\u001b[0m\u001b[0;34m(\u001b[0m\u001b[0mself\u001b[0m\u001b[0;34m,\u001b[0m \u001b[0mfunc\u001b[0m\u001b[0;34m,\u001b[0m \u001b[0miterable\u001b[0m\u001b[0;34m,\u001b[0m \u001b[0mchunksize\u001b[0m\u001b[0;34m=\u001b[0m\u001b[0;32mNone\u001b[0m\u001b[0;34m)\u001b[0m\u001b[0;34m:\u001b[0m\u001b[0;34m\u001b[0m\u001b[0;34m\u001b[0m\u001b[0m\n",
      "\u001b[0;32m~/miniconda3/envs/oggm_env/lib/python3.6/multiprocessing/pool.py\u001b[0m in \u001b[0;36mget\u001b[0;34m(self, timeout)\u001b[0m\n\u001b[1;32m    668\u001b[0m             \u001b[0;32mreturn\u001b[0m \u001b[0mself\u001b[0m\u001b[0;34m.\u001b[0m\u001b[0m_value\u001b[0m\u001b[0;34m\u001b[0m\u001b[0;34m\u001b[0m\u001b[0m\n\u001b[1;32m    669\u001b[0m         \u001b[0;32melse\u001b[0m\u001b[0;34m:\u001b[0m\u001b[0;34m\u001b[0m\u001b[0;34m\u001b[0m\u001b[0m\n\u001b[0;32m--> 670\u001b[0;31m             \u001b[0;32mraise\u001b[0m \u001b[0mself\u001b[0m\u001b[0;34m.\u001b[0m\u001b[0m_value\u001b[0m\u001b[0;34m\u001b[0m\u001b[0;34m\u001b[0m\u001b[0m\n\u001b[0m\u001b[1;32m    671\u001b[0m \u001b[0;34m\u001b[0m\u001b[0m\n\u001b[1;32m    672\u001b[0m     \u001b[0;32mdef\u001b[0m \u001b[0m_set\u001b[0m\u001b[0;34m(\u001b[0m\u001b[0mself\u001b[0m\u001b[0;34m,\u001b[0m \u001b[0mi\u001b[0m\u001b[0;34m,\u001b[0m \u001b[0mobj\u001b[0m\u001b[0;34m)\u001b[0m\u001b[0;34m:\u001b[0m\u001b[0;34m\u001b[0m\u001b[0;34m\u001b[0m\u001b[0m\n",
      "\u001b[0;32m~/miniconda3/envs/oggm_env/lib/python3.6/multiprocessing/pool.py\u001b[0m in \u001b[0;36mworker\u001b[0;34m()\u001b[0m\n\u001b[1;32m    117\u001b[0m         \u001b[0mjob\u001b[0m\u001b[0;34m,\u001b[0m \u001b[0mi\u001b[0m\u001b[0;34m,\u001b[0m \u001b[0mfunc\u001b[0m\u001b[0;34m,\u001b[0m \u001b[0margs\u001b[0m\u001b[0;34m,\u001b[0m \u001b[0mkwds\u001b[0m \u001b[0;34m=\u001b[0m \u001b[0mtask\u001b[0m\u001b[0;34m\u001b[0m\u001b[0;34m\u001b[0m\u001b[0m\n\u001b[1;32m    118\u001b[0m         \u001b[0;32mtry\u001b[0m\u001b[0;34m:\u001b[0m\u001b[0;34m\u001b[0m\u001b[0;34m\u001b[0m\u001b[0m\n\u001b[0;32m--> 119\u001b[0;31m             \u001b[0mresult\u001b[0m \u001b[0;34m=\u001b[0m \u001b[0;34m(\u001b[0m\u001b[0;32mTrue\u001b[0m\u001b[0;34m,\u001b[0m \u001b[0mfunc\u001b[0m\u001b[0;34m(\u001b[0m\u001b[0;34m*\u001b[0m\u001b[0margs\u001b[0m\u001b[0;34m,\u001b[0m \u001b[0;34m**\u001b[0m\u001b[0mkwds\u001b[0m\u001b[0;34m)\u001b[0m\u001b[0;34m)\u001b[0m\u001b[0;34m\u001b[0m\u001b[0;34m\u001b[0m\u001b[0m\n\u001b[0m\u001b[1;32m    120\u001b[0m         \u001b[0;32mexcept\u001b[0m \u001b[0mException\u001b[0m \u001b[0;32mas\u001b[0m \u001b[0me\u001b[0m\u001b[0;34m:\u001b[0m\u001b[0;34m\u001b[0m\u001b[0;34m\u001b[0m\u001b[0m\n\u001b[1;32m    121\u001b[0m             \u001b[0;32mif\u001b[0m \u001b[0mwrap_exception\u001b[0m \u001b[0;32mand\u001b[0m \u001b[0mfunc\u001b[0m \u001b[0;32mis\u001b[0m \u001b[0;32mnot\u001b[0m \u001b[0m_helper_reraises_exception\u001b[0m\u001b[0;34m:\u001b[0m\u001b[0;34m\u001b[0m\u001b[0;34m\u001b[0m\u001b[0m\n",
      "\u001b[0;32m~/miniconda3/envs/oggm_env/lib/python3.6/multiprocessing/pool.py\u001b[0m in \u001b[0;36mmapstar\u001b[0;34m()\u001b[0m\n\u001b[1;32m     42\u001b[0m \u001b[0;34m\u001b[0m\u001b[0m\n\u001b[1;32m     43\u001b[0m \u001b[0;32mdef\u001b[0m \u001b[0mmapstar\u001b[0m\u001b[0;34m(\u001b[0m\u001b[0margs\u001b[0m\u001b[0;34m)\u001b[0m\u001b[0;34m:\u001b[0m\u001b[0;34m\u001b[0m\u001b[0;34m\u001b[0m\u001b[0m\n\u001b[0;32m---> 44\u001b[0;31m     \u001b[0;32mreturn\u001b[0m \u001b[0mlist\u001b[0m\u001b[0;34m(\u001b[0m\u001b[0mmap\u001b[0m\u001b[0;34m(\u001b[0m\u001b[0;34m*\u001b[0m\u001b[0margs\u001b[0m\u001b[0;34m)\u001b[0m\u001b[0;34m)\u001b[0m\u001b[0;34m\u001b[0m\u001b[0;34m\u001b[0m\u001b[0m\n\u001b[0m\u001b[1;32m     45\u001b[0m \u001b[0;34m\u001b[0m\u001b[0m\n\u001b[1;32m     46\u001b[0m \u001b[0;32mdef\u001b[0m \u001b[0mstarmapstar\u001b[0m\u001b[0;34m(\u001b[0m\u001b[0margs\u001b[0m\u001b[0;34m)\u001b[0m\u001b[0;34m:\u001b[0m\u001b[0;34m\u001b[0m\u001b[0;34m\u001b[0m\u001b[0m\n",
      "\u001b[0;32m~/oggm-fork/oggm/workflow.py\u001b[0m in \u001b[0;36m__call__\u001b[0;34m()\u001b[0m\n\u001b[1;32m     97\u001b[0m             \u001b[0;32mreturn\u001b[0m \u001b[0mcall_func\u001b[0m\u001b[0;34m(\u001b[0m\u001b[0mgdir\u001b[0m\u001b[0;34m,\u001b[0m \u001b[0;34m**\u001b[0m\u001b[0mgdir_kwargs\u001b[0m\u001b[0;34m)\u001b[0m\u001b[0;34m\u001b[0m\u001b[0;34m\u001b[0m\u001b[0m\n\u001b[1;32m     98\u001b[0m         \u001b[0;32melse\u001b[0m\u001b[0;34m:\u001b[0m\u001b[0;34m\u001b[0m\u001b[0;34m\u001b[0m\u001b[0m\n\u001b[0;32m---> 99\u001b[0;31m             \u001b[0;32mreturn\u001b[0m \u001b[0mcall_func\u001b[0m\u001b[0;34m(\u001b[0m\u001b[0mgdir\u001b[0m\u001b[0;34m,\u001b[0m \u001b[0;34m**\u001b[0m\u001b[0mself\u001b[0m\u001b[0;34m.\u001b[0m\u001b[0mout_kwargs\u001b[0m\u001b[0;34m)\u001b[0m\u001b[0;34m\u001b[0m\u001b[0;34m\u001b[0m\u001b[0m\n\u001b[0m\u001b[1;32m    100\u001b[0m \u001b[0;34m\u001b[0m\u001b[0m\n\u001b[1;32m    101\u001b[0m \u001b[0;34m\u001b[0m\u001b[0m\n",
      "\u001b[0;32m~/oggm-fork/oggm/utils/_workflow.py\u001b[0m in \u001b[0;36m_entity_task\u001b[0;34m()\u001b[0m\n\u001b[1;32m    486\u001b[0m                     \u001b[0msignal\u001b[0m\u001b[0;34m.\u001b[0m\u001b[0malarm\u001b[0m\u001b[0;34m(\u001b[0m\u001b[0mcfg\u001b[0m\u001b[0;34m.\u001b[0m\u001b[0mPARAMS\u001b[0m\u001b[0;34m[\u001b[0m\u001b[0;34m'task_timeout'\u001b[0m\u001b[0;34m]\u001b[0m\u001b[0;34m)\u001b[0m\u001b[0;34m\u001b[0m\u001b[0;34m\u001b[0m\u001b[0m\n\u001b[1;32m    487\u001b[0m                 \u001b[0mex_t\u001b[0m \u001b[0;34m=\u001b[0m \u001b[0mtime\u001b[0m\u001b[0;34m.\u001b[0m\u001b[0mtime\u001b[0m\u001b[0;34m(\u001b[0m\u001b[0;34m)\u001b[0m\u001b[0;34m\u001b[0m\u001b[0;34m\u001b[0m\u001b[0m\n\u001b[0;32m--> 488\u001b[0;31m                 \u001b[0mout\u001b[0m \u001b[0;34m=\u001b[0m \u001b[0mtask_func\u001b[0m\u001b[0;34m(\u001b[0m\u001b[0mgdir\u001b[0m\u001b[0;34m,\u001b[0m \u001b[0;34m**\u001b[0m\u001b[0mkwargs\u001b[0m\u001b[0;34m)\u001b[0m\u001b[0;34m\u001b[0m\u001b[0;34m\u001b[0m\u001b[0m\n\u001b[0m\u001b[1;32m    489\u001b[0m                 \u001b[0mex_t\u001b[0m \u001b[0;34m=\u001b[0m \u001b[0mtime\u001b[0m\u001b[0;34m.\u001b[0m\u001b[0mtime\u001b[0m\u001b[0;34m(\u001b[0m\u001b[0;34m)\u001b[0m \u001b[0;34m-\u001b[0m \u001b[0mex_t\u001b[0m\u001b[0;34m\u001b[0m\u001b[0;34m\u001b[0m\u001b[0m\n\u001b[1;32m    490\u001b[0m                 \u001b[0;32mif\u001b[0m \u001b[0mcfg\u001b[0m\u001b[0;34m.\u001b[0m\u001b[0mPARAMS\u001b[0m\u001b[0;34m[\u001b[0m\u001b[0;34m'task_timeout'\u001b[0m\u001b[0;34m]\u001b[0m \u001b[0;34m>\u001b[0m \u001b[0;36m0\u001b[0m\u001b[0;34m:\u001b[0m\u001b[0;34m\u001b[0m\u001b[0;34m\u001b[0m\u001b[0m\n",
      "\u001b[0;32m~/oggm-fork/oggm/core/massbalance.py\u001b[0m in \u001b[0;36mfixed_geometry_mass_balance\u001b[0;34m()\u001b[0m\n\u001b[1;32m   1173\u001b[0m                                      \u001b[0mfilename\u001b[0m\u001b[0;34m=\u001b[0m\u001b[0mclimate_filename\u001b[0m\u001b[0;34m,\u001b[0m\u001b[0;34m\u001b[0m\u001b[0;34m\u001b[0m\u001b[0m\n\u001b[1;32m   1174\u001b[0m                                      \u001b[0muse_inversion_flowlines\u001b[0m\u001b[0;34m=\u001b[0m\u001b[0muse_inversion_flowlines\u001b[0m\u001b[0;34m,\u001b[0m\u001b[0;34m\u001b[0m\u001b[0;34m\u001b[0m\u001b[0m\n\u001b[0;32m-> 1175\u001b[0;31m                                      input_filesuffix=climate_input_filesuffix)\n\u001b[0m\u001b[1;32m   1176\u001b[0m \u001b[0;34m\u001b[0m\u001b[0m\n\u001b[1;32m   1177\u001b[0m     \u001b[0;32mif\u001b[0m \u001b[0myears\u001b[0m \u001b[0;32mis\u001b[0m \u001b[0;32mNone\u001b[0m\u001b[0;34m:\u001b[0m\u001b[0;34m\u001b[0m\u001b[0;34m\u001b[0m\u001b[0m\n",
      "\u001b[0;32m~/oggm-fork/oggm/core/massbalance.py\u001b[0m in \u001b[0;36m__init__\u001b[0;34m()\u001b[0m\n\u001b[1;32m    956\u001b[0m         \u001b[0;31m# Read in the flowlines\u001b[0m\u001b[0;34m\u001b[0m\u001b[0;34m\u001b[0m\u001b[0;34m\u001b[0m\u001b[0m\n\u001b[1;32m    957\u001b[0m         \u001b[0;32mif\u001b[0m \u001b[0muse_inversion_flowlines\u001b[0m\u001b[0;34m:\u001b[0m\u001b[0;34m\u001b[0m\u001b[0;34m\u001b[0m\u001b[0m\n\u001b[0;32m--> 958\u001b[0;31m             \u001b[0mfls\u001b[0m \u001b[0;34m=\u001b[0m \u001b[0mgdir\u001b[0m\u001b[0;34m.\u001b[0m\u001b[0mread_pickle\u001b[0m\u001b[0;34m(\u001b[0m\u001b[0;34m'inversion_flowlines'\u001b[0m\u001b[0;34m)\u001b[0m\u001b[0;34m\u001b[0m\u001b[0;34m\u001b[0m\u001b[0m\n\u001b[0m\u001b[1;32m    959\u001b[0m \u001b[0;34m\u001b[0m\u001b[0m\n\u001b[1;32m    960\u001b[0m         \u001b[0;32mif\u001b[0m \u001b[0mfls\u001b[0m \u001b[0;32mis\u001b[0m \u001b[0;32mNone\u001b[0m\u001b[0;34m:\u001b[0m\u001b[0;34m\u001b[0m\u001b[0;34m\u001b[0m\u001b[0m\n",
      "\u001b[0;32m~/oggm-fork/oggm/utils/_workflow.py\u001b[0m in \u001b[0;36mread_pickle\u001b[0;34m()\u001b[0m\n\u001b[1;32m   2247\u001b[0m         \u001b[0m_open\u001b[0m \u001b[0;34m=\u001b[0m \u001b[0mgzip\u001b[0m\u001b[0;34m.\u001b[0m\u001b[0mopen\u001b[0m \u001b[0;32mif\u001b[0m \u001b[0muse_comp\u001b[0m \u001b[0;32melse\u001b[0m \u001b[0mopen\u001b[0m\u001b[0;34m\u001b[0m\u001b[0;34m\u001b[0m\u001b[0m\n\u001b[1;32m   2248\u001b[0m         \u001b[0mfp\u001b[0m \u001b[0;34m=\u001b[0m \u001b[0mself\u001b[0m\u001b[0;34m.\u001b[0m\u001b[0mget_filepath\u001b[0m\u001b[0;34m(\u001b[0m\u001b[0mfilename\u001b[0m\u001b[0;34m,\u001b[0m \u001b[0mfilesuffix\u001b[0m\u001b[0;34m=\u001b[0m\u001b[0mfilesuffix\u001b[0m\u001b[0;34m)\u001b[0m\u001b[0;34m\u001b[0m\u001b[0;34m\u001b[0m\u001b[0m\n\u001b[0;32m-> 2249\u001b[0;31m         \u001b[0;32mwith\u001b[0m \u001b[0m_open\u001b[0m\u001b[0;34m(\u001b[0m\u001b[0mfp\u001b[0m\u001b[0;34m,\u001b[0m \u001b[0;34m'rb'\u001b[0m\u001b[0;34m)\u001b[0m \u001b[0;32mas\u001b[0m \u001b[0mf\u001b[0m\u001b[0;34m:\u001b[0m\u001b[0;34m\u001b[0m\u001b[0;34m\u001b[0m\u001b[0m\n\u001b[0m\u001b[1;32m   2250\u001b[0m             \u001b[0mout\u001b[0m \u001b[0;34m=\u001b[0m \u001b[0mpickle\u001b[0m\u001b[0;34m.\u001b[0m\u001b[0mload\u001b[0m\u001b[0;34m(\u001b[0m\u001b[0mf\u001b[0m\u001b[0;34m)\u001b[0m\u001b[0;34m\u001b[0m\u001b[0;34m\u001b[0m\u001b[0m\n\u001b[1;32m   2251\u001b[0m \u001b[0;34m\u001b[0m\u001b[0m\n",
      "\u001b[0;32m~/miniconda3/envs/oggm_env/lib/python3.6/gzip.py\u001b[0m in \u001b[0;36mopen\u001b[0;34m()\u001b[0m\n\u001b[1;32m     51\u001b[0m     \u001b[0mgz_mode\u001b[0m \u001b[0;34m=\u001b[0m \u001b[0mmode\u001b[0m\u001b[0;34m.\u001b[0m\u001b[0mreplace\u001b[0m\u001b[0;34m(\u001b[0m\u001b[0;34m\"t\"\u001b[0m\u001b[0;34m,\u001b[0m \u001b[0;34m\"\"\u001b[0m\u001b[0;34m)\u001b[0m\u001b[0;34m\u001b[0m\u001b[0;34m\u001b[0m\u001b[0m\n\u001b[1;32m     52\u001b[0m     \u001b[0;32mif\u001b[0m \u001b[0misinstance\u001b[0m\u001b[0;34m(\u001b[0m\u001b[0mfilename\u001b[0m\u001b[0;34m,\u001b[0m \u001b[0;34m(\u001b[0m\u001b[0mstr\u001b[0m\u001b[0;34m,\u001b[0m \u001b[0mbytes\u001b[0m\u001b[0;34m,\u001b[0m \u001b[0mos\u001b[0m\u001b[0;34m.\u001b[0m\u001b[0mPathLike\u001b[0m\u001b[0;34m)\u001b[0m\u001b[0;34m)\u001b[0m\u001b[0;34m:\u001b[0m\u001b[0;34m\u001b[0m\u001b[0;34m\u001b[0m\u001b[0m\n\u001b[0;32m---> 53\u001b[0;31m         \u001b[0mbinary_file\u001b[0m \u001b[0;34m=\u001b[0m \u001b[0mGzipFile\u001b[0m\u001b[0;34m(\u001b[0m\u001b[0mfilename\u001b[0m\u001b[0;34m,\u001b[0m \u001b[0mgz_mode\u001b[0m\u001b[0;34m,\u001b[0m \u001b[0mcompresslevel\u001b[0m\u001b[0;34m)\u001b[0m\u001b[0;34m\u001b[0m\u001b[0;34m\u001b[0m\u001b[0m\n\u001b[0m\u001b[1;32m     54\u001b[0m     \u001b[0;32melif\u001b[0m \u001b[0mhasattr\u001b[0m\u001b[0;34m(\u001b[0m\u001b[0mfilename\u001b[0m\u001b[0;34m,\u001b[0m \u001b[0;34m\"read\"\u001b[0m\u001b[0;34m)\u001b[0m \u001b[0;32mor\u001b[0m \u001b[0mhasattr\u001b[0m\u001b[0;34m(\u001b[0m\u001b[0mfilename\u001b[0m\u001b[0;34m,\u001b[0m \u001b[0;34m\"write\"\u001b[0m\u001b[0;34m)\u001b[0m\u001b[0;34m:\u001b[0m\u001b[0;34m\u001b[0m\u001b[0;34m\u001b[0m\u001b[0m\n\u001b[1;32m     55\u001b[0m         \u001b[0mbinary_file\u001b[0m \u001b[0;34m=\u001b[0m \u001b[0mGzipFile\u001b[0m\u001b[0;34m(\u001b[0m\u001b[0;32mNone\u001b[0m\u001b[0;34m,\u001b[0m \u001b[0mgz_mode\u001b[0m\u001b[0;34m,\u001b[0m \u001b[0mcompresslevel\u001b[0m\u001b[0;34m,\u001b[0m \u001b[0mfilename\u001b[0m\u001b[0;34m)\u001b[0m\u001b[0;34m\u001b[0m\u001b[0;34m\u001b[0m\u001b[0m\n",
      "\u001b[0;32m~/miniconda3/envs/oggm_env/lib/python3.6/gzip.py\u001b[0m in \u001b[0;36m__init__\u001b[0;34m()\u001b[0m\n\u001b[1;32m    161\u001b[0m             \u001b[0mmode\u001b[0m \u001b[0;34m+=\u001b[0m \u001b[0;34m'b'\u001b[0m\u001b[0;34m\u001b[0m\u001b[0;34m\u001b[0m\u001b[0m\n\u001b[1;32m    162\u001b[0m         \u001b[0;32mif\u001b[0m \u001b[0mfileobj\u001b[0m \u001b[0;32mis\u001b[0m \u001b[0;32mNone\u001b[0m\u001b[0;34m:\u001b[0m\u001b[0;34m\u001b[0m\u001b[0;34m\u001b[0m\u001b[0m\n\u001b[0;32m--> 163\u001b[0;31m             \u001b[0mfileobj\u001b[0m \u001b[0;34m=\u001b[0m \u001b[0mself\u001b[0m\u001b[0;34m.\u001b[0m\u001b[0mmyfileobj\u001b[0m \u001b[0;34m=\u001b[0m \u001b[0mbuiltins\u001b[0m\u001b[0;34m.\u001b[0m\u001b[0mopen\u001b[0m\u001b[0;34m(\u001b[0m\u001b[0mfilename\u001b[0m\u001b[0;34m,\u001b[0m \u001b[0mmode\u001b[0m \u001b[0;32mor\u001b[0m \u001b[0;34m'rb'\u001b[0m\u001b[0;34m)\u001b[0m\u001b[0;34m\u001b[0m\u001b[0;34m\u001b[0m\u001b[0m\n\u001b[0m\u001b[1;32m    164\u001b[0m         \u001b[0;32mif\u001b[0m \u001b[0mfilename\u001b[0m \u001b[0;32mis\u001b[0m \u001b[0;32mNone\u001b[0m\u001b[0;34m:\u001b[0m\u001b[0;34m\u001b[0m\u001b[0;34m\u001b[0m\u001b[0m\n\u001b[1;32m    165\u001b[0m             \u001b[0mfilename\u001b[0m \u001b[0;34m=\u001b[0m \u001b[0mgetattr\u001b[0m\u001b[0;34m(\u001b[0m\u001b[0mfileobj\u001b[0m\u001b[0;34m,\u001b[0m \u001b[0;34m'name'\u001b[0m\u001b[0;34m,\u001b[0m \u001b[0;34m''\u001b[0m\u001b[0;34m)\u001b[0m\u001b[0;34m\u001b[0m\u001b[0;34m\u001b[0m\u001b[0m\n",
      "\u001b[0;31mFileNotFoundError\u001b[0m: [Errno 2] No such file or directory: '/Users/oberrauch/work/master/working_directories/vas_run/per_glacier/RGI60-11/RGI60-11.00/RGI60-11.00897/inversion_flowlines.pkl'"
     ]
    }
   ],
   "source": [
    "# Get the mass-balance OGGM would give out of the box\n",
    "df = utils.compile_fixed_geometry_mass_balance(gdirs, path=False)\n",
    "df = df.dropna(axis=0, how='all').dropna(axis=1, how='all')"
   ]
  },
  {
   "cell_type": "code",
   "execution_count": null,
   "metadata": {},
   "outputs": [],
   "source": []
  },
  {
   "cell_type": "code",
   "execution_count": null,
   "metadata": {},
   "outputs": [],
   "source": [
    "def fixed_geometry_mass_balance(gdir, ys=None, ye=None, years=None,\n",
    "                                monthly_step=False,\n",
    "                                use_inversion_flowlines=True,\n",
    "                                climate_filename='climate_historical',\n",
    "                                climate_input_filesuffix=''):\n",
    "    \"\"\"Computes the mass-balance with climate input from e.g. CRU or a GCM.\n",
    "\n",
    "    Parameters\n",
    "    ----------\n",
    "    gdir : :py:class:`oggm.GlacierDirectory`\n",
    "        the glacier directory to process\n",
    "    ys : int\n",
    "        start year of the model run (default: from the climate file)\n",
    "        date)\n",
    "    ye : int\n",
    "        end year of the model run (default: from the climate file)\n",
    "    years : array of ints\n",
    "        override ys and ye with the years of your choice\n",
    "    monthly_step : bool\n",
    "        whether to store the diagnostic data at a monthly time step or not\n",
    "        (default is yearly)\n",
    "    use_inversion_flowlines : bool\n",
    "        whether to use the inversion flowlines or the model flowlines\n",
    "    climate_filename : str\n",
    "        name of the climate file, e.g. 'climate_historical' (default) or\n",
    "        'gcm_data'\n",
    "    climate_input_filesuffix: str\n",
    "        filesuffix for the input climate file\n",
    "    \"\"\"\n",
    "\n",
    "    if monthly_step:\n",
    "        raise NotImplementedError('monthly_step not implemented yet')\n",
    "\n",
    "    mb = MultipleFlowlineMassBalance(gdir, mb_model_class=PastMassBalance,\n",
    "                                     filename=climate_filename,\n",
    "                                     use_inversion_flowlines=use_inversion_flowlines,\n",
    "                                     input_filesuffix=climate_input_filesuffix)\n",
    "\n",
    "    if years is None:\n",
    "        if ys is None:\n",
    "            ys = mb.flowline_mb_models[0].ys\n",
    "        if ye is None:\n",
    "            ye = mb.flowline_mb_models[0].ye\n",
    "        years = np.arange(ys, ye + 1)\n",
    "\n",
    "    odf = pd.Series(data=mb.get_specific_mb(year=years),\n",
    "                    index=years)\n",
    "    return odf"
   ]
  },
  {
   "cell_type": "code",
   "execution_count": null,
   "metadata": {},
   "outputs": [],
   "source": [
    "def match_regional_geodetic_mb(gdirs, rgi_reg):\n",
    "    \"\"\"Regional shift of the mass-balance residual to match observations.\n",
    "\n",
    "    This is useful for operational runs, but also quite hacky.\n",
    "    Let's hope we won't need this for too long.\n",
    "\n",
    "    Parameters\n",
    "    ----------\n",
    "    gdirs : the list of gdirs (ideally the entire region_\n",
    "    rgi_reg : str\n",
    "       the rgi region to match\n",
    "    \"\"\"\n",
    "\n",
    "    # Get the mass-balance OGGM would give out of the box\n",
    "    df = utils.compile_fixed_geometry_mass_balance(gdirs, path=False)\n",
    "    df = df.dropna(axis=0, how='all').dropna(axis=1, how='all')\n",
    "\n",
    "    # And also the Area and calving fluxes\n",
    "    dfs = utils.compile_glacier_statistics(gdirs, path=False)\n",
    "    odf = pd.DataFrame(df.loc[2006:2018].mean(), columns=['SMB'])\n",
    "    odf['AREA'] = dfs.rgi_area_km2 * 1e6\n",
    "    # Just take the calving rate and change its units\n",
    "    # Original units: km3 a-1, to change to mm a-1 (units of specific MB)\n",
    "    rho = cfg.PARAMS['ice_density']\n",
    "    if 'calving_flux' in dfs:\n",
    "        odf['CALVING'] = dfs['calving_flux'].fillna(0) * 1e9 * rho / odf['AREA']\n",
    "    else:\n",
    "        odf['CALVING'] = 0\n",
    "\n",
    "    # We have to drop nans here, which occur when calving glaciers fail to run\n",
    "    odf = odf.dropna()\n",
    "\n",
    "    # Compare area with total RGI area\n",
    "    rdf = 'rgi62_areas.csv'\n",
    "    rdf = pd.read_csv(utils.get_demo_file(rdf), dtype={'O1Region': str})\n",
    "    ref_area = rdf.loc[rdf['O1Region'] == rgi_reg].iloc[0]['AreaNoC2NoNominal']\n",
    "    diff = (1 - odf['AREA'].sum() * 1e-6 / ref_area) * 100\n",
    "    msg = 'Applying geodetic MB correction on RGI reg {}. Diff area: {:.2f}%'\n",
    "    log.workflow(msg.format(rgi_reg, diff))\n",
    "\n",
    "    # Total MB OGGM\n",
    "    out_smb = np.average(odf['SMB'], weights=odf['AREA'])  # for logging\n",
    "    out_cal = np.average(odf['CALVING'], weights=odf['AREA'])  # for logging\n",
    "    smb_oggm = np.average(odf['SMB'] - odf['CALVING'], weights=odf['AREA'])\n",
    "\n",
    "    # Total MB Reference\n",
    "    df = 'table_hugonnet_regions_10yr_20yr_ar6period.csv'\n",
    "    df = pd.read_csv(utils.get_demo_file(df))\n",
    "    df = df.loc[df.period == '2006-01-01_2019-01-01'].set_index('reg')\n",
    "    smb_ref = df.loc[int(rgi_reg), 'dmdtda']\n",
    "\n",
    "    # Diff between the two\n",
    "    residual = smb_ref - smb_oggm\n",
    "\n",
    "    # Let's just shift\n",
    "    log.workflow('Shifting regional MB bias by {}'.format(residual))\n",
    "    log.workflow('Observations give {}'.format(smb_ref))\n",
    "    log.workflow('OGGM SMB gives {}'.format(out_smb))\n",
    "    log.workflow('OGGM frontal ablation gives {}'.format(out_cal))\n",
    "    for gdir in gdirs:\n",
    "        try:\n",
    "            df = gdir.read_json('local_mustar')\n",
    "            gdir.add_to_diagnostics('mb_bias_before_geodetic_corr', df['bias'])\n",
    "            df['bias'] = df['bias'] - residual\n",
    "            gdir.write_json(df, 'local_mustar')\n",
    "        except FileNotFoundError:\n",
    "            pass"
   ]
  },
  {
   "cell_type": "code",
   "execution_count": null,
   "metadata": {},
   "outputs": [],
   "source": []
  },
  {
   "cell_type": "code",
   "execution_count": null,
   "metadata": {},
   "outputs": [],
   "source": []
  },
  {
   "cell_type": "code",
   "execution_count": null,
   "metadata": {},
   "outputs": [],
   "source": []
  },
  {
   "cell_type": "code",
   "execution_count": null,
   "metadata": {},
   "outputs": [],
   "source": []
  },
  {
   "cell_type": "code",
   "execution_count": null,
   "metadata": {},
   "outputs": [],
   "source": []
  },
  {
   "cell_type": "markdown",
   "metadata": {},
   "source": [
    "## 1. Preprocess a subset of an RGI region\n",
    "This example shows how to run the first steps of the OGGM preprocessing chain for a subset of the Alps - the Rofental catchment in the Austrian Alps (see [docs.oggm.org](http://docs.oggm.org/en/latest/run_examples/run_rgi_region.html))."
   ]
  },
  {
   "cell_type": "code",
   "execution_count": null,
   "metadata": {},
   "outputs": [],
   "source": [
    "# Python imports\n",
    "import os\n",
    "\n",
    "# Libs\n",
    "import geopandas as gpd\n",
    "import shapely.geometry as shpg\n",
    "\n",
    "# Locals\n",
    "from oggm import cfg, utils, workflow"
   ]
  },
  {
   "cell_type": "code",
   "execution_count": null,
   "metadata": {},
   "outputs": [],
   "source": [
    "# Initialize OGGM and set up the default run parameters\n",
    "cfg.initialize()\n",
    "rgi_version = '62'\n",
    "rgi_region = '11'  # Alps\n",
    "\n",
    "# Local working directory (where OGGM will write its output)\n",
    "wdir = utils.gettempdir('match_regional_mb')\n",
    "utils.mkdir(wdir, reset=True)\n",
    "cfg.PATHS['working_dir'] = wdir"
   ]
  },
  {
   "cell_type": "code",
   "execution_count": null,
   "metadata": {},
   "outputs": [],
   "source": [
    "wdir"
   ]
  },
  {
   "cell_type": "code",
   "execution_count": null,
   "metadata": {},
   "outputs": [],
   "source": [
    "# use intersects\n",
    "path = utils.get_rgi_intersects_region_file(rgi_region, version=rgi_version)\n",
    "cfg.set_intersects_db(path)"
   ]
  },
  {
   "cell_type": "code",
   "execution_count": null,
   "metadata": {},
   "outputs": [],
   "source": [
    "# RGI file\n",
    "path = utils.get_rgi_region_file(rgi_region, version=rgi_version)\n",
    "rgidf = gpd.read_file(path)\n",
    "\n",
    "# Get the Rofental Basin file\n",
    "path = utils.get_demo_file('rofental_hydrosheds.shp')\n",
    "basin = gpd.read_file(path)"
   ]
  },
  {
   "cell_type": "code",
   "execution_count": null,
   "metadata": {},
   "outputs": [],
   "source": [
    "# Take all glaciers in the Rofental Basin\n",
    "in_bas = [basin.geometry.contains(shpg.Point(x, y))[0] for\n",
    "          (x, y) in zip(rgidf.CenLon, rgidf.CenLat)]\n",
    "rgidf = rgidf.loc[in_bas]\n",
    "# Store them for later\n",
    "rgidf.to_file(os.path.join(cfg.PATHS['working_dir'], 'rgi_rofental.shp'))"
   ]
  },
  {
   "cell_type": "code",
   "execution_count": null,
   "metadata": {},
   "outputs": [],
   "source": [
    "# Sort for more efficient parallel computing\n",
    "rgidf = rgidf.sort_values('Area', ascending=False)\n",
    "cfg.PARAMS['use_multiprocessing'] = True\n",
    "\n",
    "print('Starting OGGM run')\n",
    "print('Number of glaciers: {}'.format(len(rgidf)))\n",
    "\n",
    "# Go - initialize glacier directories\n",
    "gdirs_list = workflow.init_glacier_regions(rgidf)"
   ]
  },
  {
   "cell_type": "code",
   "execution_count": null,
   "metadata": {},
   "outputs": [],
   "source": [
    "# select a number of glaciers\n",
    "gdirs = gdirs_list.copy()  # selecting all"
   ]
  },
  {
   "cell_type": "code",
   "execution_count": null,
   "metadata": {
    "scrolled": true
   },
   "outputs": [],
   "source": [
    "from oggm.core import vascaling, climate\n",
    "# use default climate (=CRU), for HISTALP uncomment the following lines\n",
    "# cfg.PARAMS['baseline_climate'] = 'HISTALP'\n",
    "# cfg.PARAMS['prcp_scaling_factor'] = 1.75\n",
    "# cfg.PARAMS['temp_melt'] = -1.75\n",
    "\n",
    "# run all GIS tasks\n",
    "workflow.gis_prepro_tasks(gdirs)"
   ]
  },
  {
   "cell_type": "code",
   "execution_count": null,
   "metadata": {},
   "outputs": [],
   "source": [
    "# execute climate tasks\n",
    "workflow.execute_entity_task(climate.process_climate_data, gdirs);\n",
    "workflow.execute_entity_task(vascaling.local_t_star, gdirs);"
   ]
  },
  {
   "cell_type": "code",
   "execution_count": null,
   "metadata": {},
   "outputs": [],
   "source": [
    "# Compile output\n",
    "utils.compile_glacier_statistics(gdirs)\n",
    "utils.write_centerlines_to_shape(gdirs)"
   ]
  },
  {
   "cell_type": "code",
   "execution_count": null,
   "metadata": {},
   "outputs": [],
   "source": [
    "# Imports\n",
    "from os import path\n",
    "import geopandas as gpd\n",
    "import matplotlib.pyplot as plt\n",
    "from oggm.utils import get_demo_file, gettempdir\n",
    "\n",
    "# Local working directory (where OGGM wrote its output)\n",
    "WORKING_DIR = cfg.PATHS['working_dir']\n",
    "\n",
    "# Plot: the basin, the outlines and the centerlines\n",
    "basin = gpd.read_file(get_demo_file('rofental_hydrosheds.shp'))\n",
    "rgi = gpd.read_file(path.join(WORKING_DIR, 'rgi_rofental.shp'))\n",
    "centerlines = gpd.read_file(path.join(WORKING_DIR, 'glacier_centerlines.shp'))\n",
    "\n",
    "f, ax = plt.subplots()\n",
    "basin.plot(ax=ax, color='k', alpha=0.2)\n",
    "rgi.plot(ax=ax, color='C0')\n",
    "centerlines.plot(ax=ax, color='C3')\n",
    "plt.title('Rofental glaciers and centerlines')\n",
    "plt.tight_layout()\n",
    "plt.show()"
   ]
  },
  {
   "cell_type": "markdown",
   "metadata": {},
   "source": [
    "## 2. Complete run for a list of glaciers\n",
    "This example shows how to run the OGGM model for a list of selected glaciers.\n",
    "\n",
    "Note that the default in OGGM is to use a previously calibrated list of $t^*$ for the run, which means that we don't have to calibrate the mass balance model ourselves (thankfully, otherwise you'd have to add all the calibration glaciers to your list too).\n",
    "\n",
    "Note that in order to be correct, the automated calibration can only be used if the model parameters don't change between the calibration and the run. After testing, it appears that changing the `border` parameter won't affect the results much (as expected). So it's ok to change this parameters. Some other parameters (e.g. topo smoothing, dx, precipitation factor, alternative climate data, ...) will probaly need a re-calibration step (see [3. Run the mass balance calibration](http://docs.oggm.org/en/latest/run_examples/run_mb_calibration.html)).\n"
   ]
  },
  {
   "cell_type": "code",
   "execution_count": null,
   "metadata": {},
   "outputs": [],
   "source": [
    "import importlib\n",
    "importlib.reload(vascaling)\n",
    "importlib.reload(workflow)"
   ]
  },
  {
   "cell_type": "code",
   "execution_count": null,
   "metadata": {},
   "outputs": [],
   "source": [
    "# Random climate representative for the tstar climate, without bias\n",
    "# In an ideal world this would imply that the glaciers remain stable,\n",
    "# but it doesn't have to be so\n",
    "nyears=200\n",
    "workflow.execute_entity_task(vascaling.run_random_climate, gdirs,\n",
    "                             nyears=nyears, bias=0, seed=12);"
   ]
  },
  {
   "cell_type": "code",
   "execution_count": null,
   "metadata": {},
   "outputs": [],
   "source": [
    "import numpy as np\n",
    "import pandas as pd\n",
    "# create empty container\n",
    "volume_m3 = pd.DataFrame(index=np.arange(0,nyears))\n",
    "# iterate over all gdirs\n",
    "for gdir in gdirs:\n",
    "    path = gdir.get_filepath('model_diagnostics', filesuffix='vas')\n",
    "    df = pd.read_csv(path, index_col=0)\n",
    "    vol = df.volume_m3\n",
    "    rgi_id = gdir.rgi_id\n",
    "    volume_m3[rgi_id] = vol"
   ]
  },
  {
   "cell_type": "code",
   "execution_count": null,
   "metadata": {},
   "outputs": [],
   "source": [
    "path"
   ]
  },
  {
   "cell_type": "code",
   "execution_count": null,
   "metadata": {},
   "outputs": [],
   "source": [
    "volume_m3.sum(axis=1).plot()"
   ]
  },
  {
   "cell_type": "code",
   "execution_count": null,
   "metadata": {},
   "outputs": [],
   "source": []
  },
  {
   "cell_type": "markdown",
   "metadata": {},
   "source": [
    "## Test some stuff"
   ]
  },
  {
   "cell_type": "code",
   "execution_count": null,
   "metadata": {},
   "outputs": [],
   "source": [
    "# Python imports\n",
    "import os\n",
    "import numpy as np\n",
    "import pandas as pd\n",
    "import geopandas as gpd\n",
    "import shapely.geometry as shpg\n",
    "\n",
    "# Locals\n",
    "import oggm.cfg as cfg\n",
    "from oggm import utils, workflow\n",
    "from oggm.core import vascaling, climate"
   ]
  },
  {
   "cell_type": "code",
   "execution_count": null,
   "metadata": {},
   "outputs": [],
   "source": [
    "# Initialize OGGM and set up the default run parameters\n",
    "cfg.initialize()\n",
    "rgi_version = '61'\n",
    "rgi_region = '11'  # Alps\n",
    "\n",
    "# Local working directory (where OGGM will write its output)\n",
    "\n",
    "wdir = '/Users/oberrauch/master/working_sirectories/commitment_run_vas/'\n",
    "utils.mkdir(wdir)\n",
    "cfg.PATHS['working_dir'] = wdir\n",
    "\n",
    "# We use intersects\n",
    "path = utils.get_rgi_intersects_region_file(rgi_region, version=rgi_version)\n",
    "cfg.set_intersects_db(path)\n",
    "\n",
    "# RGI file\n",
    "path = utils.get_rgi_region_file(rgi_region, version=rgi_version)\n",
    "rgidf = gpd.read_file(path)\n",
    "\n",
    "# Get the Rofental Basin file\n",
    "path = utils.get_demo_file('rofental_hydrosheds.shp')\n",
    "basin = gpd.read_file(path)\n",
    "\n",
    "# Take all glaciers in the Rofental Basin\n",
    "in_bas = [basin.geometry.contains(shpg.Point(x, y))[0] for\n",
    "          (x, y) in zip(rgidf.CenLon, rgidf.CenLat)]\n",
    "rgidf = rgidf.loc[in_bas]\n",
    "# Store them for later\n",
    "rgidf.to_file(os.path.join(wdir, 'rgi_rofental.shp'))\n",
    "\n",
    "# Sort for more efficient parallel computing\n",
    "rgidf = rgidf.sort_values('Area', ascending=False)\n",
    "cfg.PARAMS['use_multiprocessing'] = True\n",
    "\n",
    "# Go - initialize glacier directories\n",
    "gdirs = workflow.init_glacier_regions(rgidf)"
   ]
  },
  {
   "cell_type": "code",
   "execution_count": null,
   "metadata": {},
   "outputs": [],
   "source": [
    "# select Hintereisferener\n",
    "gdir = gdirs[0]\n",
    "cfg.PARAMS['baseline_climate'] = 'HISTALP'\n",
    "cfg.PARAMS['prcp_scaling_factor'] = 1.75\n",
    "cfg.PARAMS['temp_melt'] = -1.75\n",
    "vascaling.run_random_vas_climate(gdir, y0=2000)"
   ]
  },
  {
   "cell_type": "code",
   "execution_count": null,
   "metadata": {},
   "outputs": [],
   "source": [
    "path = gdir.get_filepath('model_diagnostics', filesuffix='vas')\n",
    "df = pd.read_csv(path, index_col=0)\n",
    "df.head()"
   ]
  },
  {
   "cell_type": "code",
   "execution_count": null,
   "metadata": {},
   "outputs": [],
   "source": [
    "df.volume_m3.plot()"
   ]
  },
  {
   "cell_type": "markdown",
   "metadata": {},
   "source": [
    "### Access `model_diagnostice` from already run gdirs"
   ]
  },
  {
   "cell_type": "code",
   "execution_count": null,
   "metadata": {},
   "outputs": [],
   "source": [
    "# Python imports\n",
    "import os\n",
    "import numpy as np\n",
    "import pandas as pd\n",
    "import geopandas as gpd\n",
    "import shapely.geometry as shpg\n",
    "\n",
    "# Locals\n",
    "import oggm.cfg as cfg\n",
    "from oggm import utils, workflow\n",
    "from oggm.core import vascaling, climate"
   ]
  },
  {
   "cell_type": "code",
   "execution_count": null,
   "metadata": {},
   "outputs": [],
   "source": [
    "# Initialize OGGM and set up the default run parameters\n",
    "cfg.initialize()\n",
    "rgi_version = '61'\n",
    "rgi_region = '11'  # Alps\n",
    "\n",
    "# Local working directory (where OGGM will write its output)\n",
    "\n",
    "wdir = '/Users/oberrauch/master/working_sirectories/commitment_run_vas/'\n",
    "utils.mkdir(wdir)\n",
    "cfg.PATHS['working_dir'] = wdir\n",
    "\n",
    "# We use intersects\n",
    "path = utils.get_rgi_intersects_region_file(rgi_region, version=rgi_version)\n",
    "cfg.set_intersects_db(path)\n",
    "\n",
    "# RGI file\n",
    "path = utils.get_rgi_region_file(rgi_region, version=rgi_version)\n",
    "rgidf = gpd.read_file(path)\n",
    "\n",
    "# Get the Rofental Basin file\n",
    "path = utils.get_demo_file('rofental_hydrosheds.shp')\n",
    "basin = gpd.read_file(path)\n",
    "\n",
    "# Take all glaciers in the Rofental Basin\n",
    "in_bas = [basin.geometry.contains(shpg.Point(x, y))[0] for\n",
    "          (x, y) in zip(rgidf.CenLon, rgidf.CenLat)]\n",
    "rgidf = rgidf.loc[in_bas]\n",
    "# Store them for later\n",
    "rgidf.to_file(os.path.join(wdir, 'rgi_rofental.shp'))\n",
    "\n",
    "# Sort for more efficient parallel computing\n",
    "rgidf = rgidf.sort_values('Area', ascending=False)\n",
    "cfg.PARAMS['use_multiprocessing'] = True\n",
    "\n",
    "# Go - initialize glacier directories\n",
    "gdirs = workflow.init_glacier_regions(rgidf)"
   ]
  },
  {
   "cell_type": "code",
   "execution_count": null,
   "metadata": {},
   "outputs": [],
   "source": [
    "nyears = 300\n",
    "# create empty container\n",
    "volume_m3 = pd.DataFrame(index=np.arange(0,nyears))\n",
    "# iterate over all gdirs\n",
    "for gdir in gdirs:\n",
    "    path = gdir.get_filepath('model_diagnostics', filesuffix='vas')\n",
    "    df = pd.read_csv(path, index_col=0)\n",
    "    vol = df.volume_m3\n",
    "    rgi_id = gdir.rgi_id\n",
    "    volume_m3[rgi_id] = vol"
   ]
  },
  {
   "cell_type": "code",
   "execution_count": null,
   "metadata": {},
   "outputs": [],
   "source": [
    "volume_m3.sum(axis=1).plot()"
   ]
  },
  {
   "cell_type": "code",
   "execution_count": null,
   "metadata": {},
   "outputs": [],
   "source": [
    "# Imports\n",
    "import os\n",
    "import xarray as xr\n",
    "import matplotlib.pyplot as plt\n",
    "from oggm.utils import get_demo_file, gettempdir\n",
    "\n",
    "# Local working directory (where OGGM wrote its output)\n",
    "wdir = '/Users/oberrauch/master/working_sirectories/commitment_run_oggm/'\n",
    "# Read the files using xarray\n",
    "ds = xr.open_dataset(os.path.join(wdir, 'run_output_commitment.nc'))"
   ]
  },
  {
   "cell_type": "code",
   "execution_count": null,
   "metadata": {},
   "outputs": [],
   "source": [
    "# Volume\n",
    "(ds.volume.sum(dim='rgi_id')).plot(label='OGGM')\n",
    "volume_m3.sum(axis=1).plot(label='VAS')\n",
    "plt.legend()\n",
    "plt.title('Overall glacier volume - Rofental')\n",
    "plt.xlabel('')\n",
    "plt.ylabel('Volume [m$^3$]')"
   ]
  },
  {
   "cell_type": "code",
   "execution_count": null,
   "metadata": {},
   "outputs": [],
   "source": []
  },
  {
   "cell_type": "code",
   "execution_count": null,
   "metadata": {},
   "outputs": [],
   "source": []
  },
  {
   "cell_type": "code",
   "execution_count": null,
   "metadata": {},
   "outputs": [],
   "source": [
    "# Local working directory (where OGGM will write its output)\n",
    "wdir = '/Users/oberrauch/master/working_sirectories/commitment_run_oggm/'\n",
    "utils.mkdir(wdir, reset=False)\n",
    "cfg.PATHS['working_dir'] = wdir\n",
    "gdirs = workflow.init_glacier_regions()"
   ]
  },
  {
   "cell_type": "code",
   "execution_count": null,
   "metadata": {},
   "outputs": [],
   "source": [
    "from oggm.core import flowline\n",
    "flowline.init_present_time_glacier(gdirs[1])"
   ]
  },
  {
   "cell_type": "code",
   "execution_count": null,
   "metadata": {},
   "outputs": [],
   "source": [
    "cfg.PARAMS['baseline_climate'] = 'HISTALP'\n",
    "cfg.PARAMS['prcp_scaling_factor'] = 1.75\n",
    "cfg.PARAMS['temp_melt'] = -1.75\n",
    "flowline.run_random_climate(gdirs[1], nyears=300, y0=1999, seed=2,\n",
    "                            output_filesuffix='_commitment')"
   ]
  },
  {
   "cell_type": "code",
   "execution_count": null,
   "metadata": {},
   "outputs": [],
   "source": [
    "path = gdirs[1].get_filepath('model_diagnostics', filesuffix='_commitment')\n",
    "path"
   ]
  },
  {
   "cell_type": "code",
   "execution_count": null,
   "metadata": {},
   "outputs": [],
   "source": [
    "nyears = 300\n",
    "# create empty container\n",
    "volume_m3 = pd.DataFrame(index=np.arange(0,nyears))\n",
    "# iterate over all gdirs\n",
    "for gdir in gdirs:\n",
    "\n",
    "    df = pd.read_csv(path, index_col=0)\n",
    "    vol = df.volume_m3\n",
    "    rgi_id = gdir.rgi_id\n",
    "    volume_m3[rgi_id] = vol"
   ]
  },
  {
   "cell_type": "code",
   "execution_count": null,
   "metadata": {},
   "outputs": [],
   "source": [
    "path"
   ]
  },
  {
   "cell_type": "code",
   "execution_count": null,
   "metadata": {},
   "outputs": [],
   "source": [
    "import xarray as xa\n",
    "ds = xa.open_dataset(path)\n",
    "ds.volume_m3.plot()"
   ]
  },
  {
   "cell_type": "markdown",
   "metadata": {},
   "source": [
    "### Quick test of RandomClimate"
   ]
  },
  {
   "cell_type": "code",
   "execution_count": null,
   "metadata": {},
   "outputs": [],
   "source": [
    "# quick-test of the RandomVASMassBalanceModel\n",
    "import importlib\n",
    "importlib.reload(vascaling)"
   ]
  },
  {
   "cell_type": "code",
   "execution_count": null,
   "metadata": {},
   "outputs": [],
   "source": [
    "import numpy as np"
   ]
  },
  {
   "cell_type": "code",
   "execution_count": null,
   "metadata": {},
   "outputs": [],
   "source": [
    "# select Hintereisferner gdir\n",
    "gdir = gdirs[int(np.where([gdir.name == 'Hintereisferner' for gdir in gdirs])[0])]\n",
    "gdir"
   ]
  },
  {
   "cell_type": "code",
   "execution_count": null,
   "metadata": {},
   "outputs": [],
   "source": [
    "rand_mbmod = vascaling.RandomVASMassBalance(gdir=gdir, seed=12, y0=1999)"
   ]
  },
  {
   "cell_type": "code",
   "execution_count": null,
   "metadata": {},
   "outputs": [],
   "source": [
    "min_hgt, max_hgt = vascaling.get_min_max_elevation(gdir)\n",
    "year = 2043\n",
    "r_yr = rand_mbmod.get_state_yr(year)\n",
    "mb = rand_mbmod.get_specific_mb(min_hgt, max_hgt, year)\n",
    "print('Year {} correpsonds to mb year {}, resulting in {} mm w.e. yr-1'.format(year, r_yr, mb))"
   ]
  },
  {
   "cell_type": "code",
   "execution_count": null,
   "metadata": {},
   "outputs": [],
   "source": [
    "years = np.arange(2018, 2200)\n",
    "mb = np.empty(years.size)\n",
    "r_yrs = np.empty(years.size)\n",
    "for i, year in enumerate(years):\n",
    "    mb[i] = rand_mbmod.get_specific_mb(min_hgt, max_hgt, year)\n",
    "    r_yrs[i] = rand_mbmod.get_state_yr(year)\n",
    "\n",
    "import pandas as pd\n",
    "df = pd.DataFrame({'mb':mb, 'r_yr':r_yrs}, index=years)"
   ]
  },
  {
   "cell_type": "code",
   "execution_count": null,
   "metadata": {},
   "outputs": [],
   "source": [
    "df.mb.plot()"
   ]
  },
  {
   "cell_type": "code",
   "execution_count": null,
   "metadata": {},
   "outputs": [],
   "source": [
    "local_tstar = gdir.read_json('vascaling_mustar')\n",
    "t_star = local_tstar['t_star']"
   ]
  },
  {
   "cell_type": "code",
   "execution_count": null,
   "metadata": {},
   "outputs": [],
   "source": [
    "import matplotlib.pyplot as plt\n",
    "df.r_yr.plot()\n",
    "plt.axhline(t_star-15)\n",
    "plt.axhline(t_star+15)"
   ]
  },
  {
   "cell_type": "code",
   "execution_count": null,
   "metadata": {},
   "outputs": [],
   "source": [
    "ls /Users/oberrauch/master/working_sirectories/commitment_run_vas/per_glacier/RGI60-11/RGI60-11.00/"
   ]
  },
  {
   "cell_type": "markdown",
   "metadata": {},
   "source": [
    "### Store to xarray"
   ]
  },
  {
   "cell_type": "code",
   "execution_count": null,
   "metadata": {},
   "outputs": [],
   "source": [
    "path = '/Users/oberrauch/master/working_sirectories/commitment_run_oggm/'+\\\n",
    "    'per_glacier/RGI60-11/RGI60-11.00/RGI60-11.00731/model_run_commitment.nc'\n",
    "import xarray as xr\n",
    "xr.open_dataarray(path)"
   ]
  },
  {
   "cell_type": "code",
   "execution_count": null,
   "metadata": {},
   "outputs": [],
   "source": [
    "path = '/Users/oberrauch/master/working_sirectories/commitment_run_vas/'+\\\n",
    "    'per_glacier/RGI60-11/RGI60-11.00/RGI60-11.00739/model_diagnosticsvas.nc'\n",
    "df = pd.read_csv(path, index_col=0)\n",
    "df.head()"
   ]
  },
  {
   "cell_type": "code",
   "execution_count": null,
   "metadata": {},
   "outputs": [],
   "source": [
    "from time import gmtime, strftime\n",
    "import xarray as xr"
   ]
  },
  {
   "cell_type": "code",
   "execution_count": null,
   "metadata": {},
   "outputs": [],
   "source": [
    "diag_ds = xr.Dataset()\n",
    "\n",
    "# Global attributes\n",
    "diag_ds.attrs['description'] = 'OGGM model output'\n",
    "# diag_ds.attrs['oggm_version'] = __version__\n",
    "diag_ds.attrs['calendar'] = '365-day no leap'\n",
    "diag_ds.attrs['creation_date'] = strftime(\"%Y-%m-%d %H:%M:%S\",\n",
    "                                          gmtime())\n",
    "\n",
    "\n",
    "diag_ds"
   ]
  },
  {
   "cell_type": "code",
   "execution_count": null,
   "metadata": {},
   "outputs": [],
   "source": [
    "# Coordinates\n",
    "diag_ds.coords['time'] = ('time', monthly_time)\n",
    "diag_ds.coords['hydro_year'] = ('time', yrs)\n",
    "diag_ds.coords['hydro_month'] = ('time', months)\n",
    "diag_ds.coords['calendar_year'] = ('time', cyrs)\n",
    "diag_ds.coords['calendar_month'] = ('time', cmonths)"
   ]
  },
  {
   "cell_type": "code",
   "execution_count": null,
   "metadata": {},
   "outputs": [],
   "source": [
    "utils.monthly_timeseries(20, 10)"
   ]
  },
  {
   "cell_type": "code",
   "execution_count": null,
   "metadata": {},
   "outputs": [],
   "source": [
    "# time\n",
    "        yearly_time = np.arange(np.floor(self.yr), np.floor(y1)+1)\n",
    "\n",
    "        if store_monthly_step:\n",
    "            monthly_time = utils.monthly_timeseries(self.yr, y1)\n",
    "        else:\n",
    "            monthly_time = np.arange(np.floor(self.yr), np.floor(y1)+1)\n",
    "        yrs, months = utils.floatyear_to_date(monthly_time)\n",
    "        cyrs, cmonths = utils.hydrodate_to_calendardate(yrs, months)"
   ]
  }
 ],
 "metadata": {
  "kernelspec": {
   "display_name": "Python 3",
   "language": "python",
   "name": "python3"
  },
  "language_info": {
   "codemirror_mode": {
    "name": "ipython",
    "version": 3
   },
   "file_extension": ".py",
   "mimetype": "text/x-python",
   "name": "python",
   "nbconvert_exporter": "python",
   "pygments_lexer": "ipython3",
   "version": "3.6.7"
  }
 },
 "nbformat": 4,
 "nbformat_minor": 2
}
