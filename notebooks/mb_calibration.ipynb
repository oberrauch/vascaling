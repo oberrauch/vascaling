{
 "cells": [
  {
   "cell_type": "markdown",
   "metadata": {},
   "source": [
    "# Run the mass balance calibration\n",
    "From the [OGGM documentation](http://docs.oggm.org/en/latest/run_examples/run_mb_calibration.html):\n",
    "> Sometimes you will need to do the mass-balance calibration yourself. For example if you use alternate climate data, or change the parameters of the model. Here we show how to run the calibration for all available reference glaciers, but you can also doit for any regional subset of course.\n",
    "The output of this script is the `ref_tstars.csv` file, which is found in the working directory. The `ref_tstars.csv` file can then be used for further runs, simply by copying it in the corresponding working directory before the run.\n",
    "\n",
    "Since I use a different (mass balance) model, I'll have to do the calibration on my own. The resulting `ref_tstars.csv` file will some day be included in the OGGM sample data, once my model goes public."
   ]
  },
  {
   "cell_type": "code",
   "execution_count": 1,
   "metadata": {},
   "outputs": [],
   "source": [
    "# Python imports\n",
    "import json\n",
    "import os\n",
    "\n",
    "# Libs\n",
    "import numpy as np\n",
    "\n",
    "# Locals\n",
    "import oggm\n",
    "from oggm import cfg, utils, tasks, workflow\n",
    "from oggm.workflow import execute_entity_task\n",
    "from oggm.core.massbalance import (ConstantMassBalance, PastMassBalance,\n",
    "                                   MultipleFlowlineMassBalance)"
   ]
  },
  {
   "cell_type": "markdown",
   "metadata": {},
   "source": [
    "A different outline (i.e. different RGI version) alters the outcome of the mass balance model. Same goes for the used baseline climate, most obviously. This is why the used data is specified hereafter, so that the reference list can be approprated to the right data. Additionally, the local paths are defined "
   ]
  },
  {
   "cell_type": "code",
   "execution_count": 2,
   "metadata": {},
   "outputs": [
    {
     "name": "stderr",
     "output_type": "stream",
     "text": [
      "2019-02-27 15:11:24: oggm.cfg: Using configuration file: /Users/oberrauch/oggm-fork/oggm/params.cfg\n"
     ]
    },
    {
     "name": "stdout",
     "output_type": "stream",
     "text": [
      "/Users/oberrauch/work/master/notebooks/OGGM_ref_mb_HISTALP_RGIV61_OGGM1.0.3+149.g1dd6f37.dirty\n"
     ]
    }
   ],
   "source": [
    "# RGI Version\n",
    "rgi_version = '61'\n",
    "\n",
    "# Since I'm in the Alps, I'll use HistAlp as baseline climate\n",
    "baseline = 'HISTALP'\n",
    "\n",
    "# Initialize OGGM and set up the run parameters\n",
    "cfg.initialize(logging_level='WORKFLOW')\n",
    "\n",
    "# Local paths (where to write the OGGM run output)\n",
    "dirname = 'OGGM_ref_mb_{}_RGIV{}_OGGM{}'.format(baseline, rgi_version,\n",
    "                                                oggm.__version__)\n",
    "WORKING_DIR = os.path.join(os.path.abspath('.'), dirname)\n",
    "utils.mkdir(WORKING_DIR, reset=True)\n",
    "cfg.PATHS['working_dir'] = WORKING_DIR\n",
    "# print to console\n",
    "print(WORKING_DIR)"
   ]
  },
  {
   "cell_type": "markdown",
   "metadata": {},
   "source": [
    "The following code block alters certain parameters from the default config file."
   ]
  },
  {
   "cell_type": "code",
   "execution_count": 3,
   "metadata": {},
   "outputs": [],
   "source": [
    "# We are running the calibration ourselves\n",
    "cfg.PARAMS['run_mb_calibration'] = True\n",
    "\n",
    "# We are using which baseline data?\n",
    "cfg.PARAMS['baseline_climate'] = baseline\n",
    "\n",
    "# No need for intersects since this has an effect on the inversion only\n",
    "cfg.PARAMS['use_intersects'] = False\n",
    "\n",
    "# Use multiprocessing?\n",
    "cfg.PARAMS['use_multiprocessing'] = True\n",
    "\n",
    "# Set to True for operational runs\n",
    "cfg.PARAMS['continue_on_error'] = False\n",
    "\n",
    "# Other params: see https://oggm.org/2018/08/10/histalp-parameters/\n",
    "# TODO: do I have to calibrate those parameters again, since I'm using\n",
    "# a different mass balance model?!\n",
    "#cfg.PARAMS['baseline_y0'] = 1850\n",
    "cfg.PARAMS['prcp_scaling_factor'] = 1.75\n",
    "cfg.PARAMS['temp_melt'] = -1.75"
   ]
  },
  {
   "cell_type": "markdown",
   "metadata": {},
   "source": [
    "The next step is to get all the reference glaciers, i.e. glaciers with mass balance measurements."
   ]
  },
  {
   "cell_type": "code",
   "execution_count": 4,
   "metadata": {},
   "outputs": [
    {
     "name": "stdout",
     "output_type": "stream",
     "text": [
      "Reading the RGI shapefiles...\n",
      "For RGIV61 we have 59 candidate reference glaciers.\n"
     ]
    }
   ],
   "source": [
    "# Get the reference glacier ids (they are different for each RGI version)\n",
    "rgi_dir = utils.get_rgi_dir(version=rgi_version)\n",
    "df, _ = utils.get_wgms_files()\n",
    "rids = df['RGI{}0_ID'.format(rgi_version[0])]\n",
    "\n",
    "\n",
    "# We can't do Antarctica\n",
    "rids = [rid for rid in rids if not ('-19.' in rid)]\n",
    "\n",
    "# For HISTALP only RGI reg 11\n",
    "if baseline == 'HISTALP':\n",
    "    rids = [rid for rid in rids if '-11.' in rid]\n",
    "\n",
    "# Make a new dataframe with those (this takes a while)\n",
    "print('Reading the RGI shapefiles...')\n",
    "rgidf = utils.get_rgi_glacier_entities(rids, version=rgi_version)\n",
    "print('For RGIV{} we have {} candidate reference '\n",
    "      'glaciers.'.format(rgi_version, len(rgidf)))"
   ]
  },
  {
   "cell_type": "code",
   "execution_count": 5,
   "metadata": {},
   "outputs": [],
   "source": [
    "# save those reference glaciers in a seperate DataFrame\n",
    "rgidf.to_csv('/Users/oberrauch/work/master/data/rgi_ref_glaciers.csv')"
   ]
  },
  {
   "cell_type": "code",
   "execution_count": 6,
   "metadata": {},
   "outputs": [
    {
     "name": "stderr",
     "output_type": "stream",
     "text": [
      "2019-02-27 15:11:28: oggm.workflow: Execute entity task define_glacier_region on 59 glaciers\n",
      "2019-02-27 15:11:28: oggm.workflow: Multiprocessing: using all available processors (N=4)\n"
     ]
    }
   ],
   "source": [
    "# initialize the glacier regions\n",
    "gdirs = workflow.init_glacier_regions(rgidf)"
   ]
  },
  {
   "cell_type": "code",
   "execution_count": 7,
   "metadata": {},
   "outputs": [
    {
     "name": "stderr",
     "output_type": "stream",
     "text": [
      "2019-02-27 15:11:29: oggm.workflow: Execute entity task process_histalp_data on 59 glaciers\n"
     ]
    },
    {
     "name": "stdout",
     "output_type": "stream",
     "text": [
      "Process the climate data...\n"
     ]
    },
    {
     "name": "stderr",
     "output_type": "stream",
     "text": [
      "2019-02-27 15:11:30: oggm.workflow: Multiprocessing: using all available processors (N=4)\n"
     ]
    }
   ],
   "source": [
    "# We need to know which period we have data for\n",
    "print('Process the climate data...')\n",
    "cfg.PARAMS['continue_on_error'] = True  # Some glaciers are not in Alps\n",
    "execute_entity_task(tasks.process_histalp_data, gdirs, print_log=False)\n",
    "cfg.PARAMS['continue_on_error'] = False"
   ]
  },
  {
   "cell_type": "code",
   "execution_count": 10,
   "metadata": {},
   "outputs": [
    {
     "name": "stdout",
     "output_type": "stream",
     "text": [
      "For RGIV61 and HISTALP we have 56 reference glaciers.\n"
     ]
    }
   ],
   "source": [
    "# Save to file\n",
    "rgidf.to_file(os.path.join(WORKING_DIR, 'mb_ref_glaciers.shp'))\n",
    "print('For RGIV{} and {} we have {} reference glaciers.'.format(rgi_version,\n",
    "                                                                baseline,\n",
    "                                                                len(rgidf)))"
   ]
  },
  {
   "cell_type": "code",
   "execution_count": 11,
   "metadata": {},
   "outputs": [],
   "source": [
    "# Sort for more efficient parallel computing\n",
    "rgidf = rgidf.sort_values('Area', ascending=False)\n",
    "\n",
    "# Go - initialize glacier directories\n",
    "gdirs = workflow.init_glacier_regions(rgidf)"
   ]
  },
  {
   "cell_type": "code",
   "execution_count": 12,
   "metadata": {},
   "outputs": [
    {
     "name": "stderr",
     "output_type": "stream",
     "text": [
      "2019-02-27 15:11:46: oggm.workflow: Execute entity task glacier_masks on 56 glaciers\n",
      "2019-02-27 15:11:46: oggm.workflow: Multiprocessing: using all available processors (N=4)\n",
      "2019-02-27 15:11:50: oggm.workflow: Execute entity task compute_centerlines on 56 glaciers\n",
      "2019-02-27 15:11:53: oggm.workflow: Execute entity task initialize_flowlines on 56 glaciers\n",
      "2019-02-27 15:11:56: oggm.workflow: Execute entity task catchment_area on 56 glaciers\n",
      "2019-02-27 15:12:25: oggm.workflow: Execute entity task catchment_intersections on 56 glaciers\n",
      "2019-02-27 15:12:28: oggm.workflow: Execute entity task catchment_width_geom on 56 glaciers\n",
      "2019-02-27 15:12:47: oggm.workflow: Execute entity task catchment_width_correction on 56 glaciers\n"
     ]
    }
   ],
   "source": [
    "# Prepro tasks\n",
    "task_list = [\n",
    "    tasks.glacier_masks,\n",
    "    tasks.compute_centerlines,\n",
    "    tasks.initialize_flowlines,\n",
    "    tasks.catchment_area,\n",
    "    tasks.catchment_intersections,\n",
    "    tasks.catchment_width_geom,\n",
    "    tasks.catchment_width_correction,\n",
    "]\n",
    "for task in task_list:\n",
    "    execute_entity_task(task, gdirs)"
   ]
  },
  {
   "cell_type": "code",
   "execution_count": null,
   "metadata": {},
   "outputs": [],
   "source": [
    "# run climate tasks\n",
    "vascaling.compute_ref_t_stars(gdirs)\n",
    "execute_entity_task(vascaling.local_t_star, gdirs)"
   ]
  },
  {
   "cell_type": "code",
   "execution_count": null,
   "metadata": {},
   "outputs": [],
   "source": []
  }
 ],
 "metadata": {
  "kernelspec": {
   "display_name": "Python 3",
   "language": "python",
   "name": "python3"
  },
  "language_info": {
   "codemirror_mode": {
    "name": "ipython",
    "version": 3
   },
   "file_extension": ".py",
   "mimetype": "text/x-python",
   "name": "python",
   "nbconvert_exporter": "python",
   "pygments_lexer": "ipython3",
   "version": "3.6.5"
  }
 },
 "nbformat": 4,
 "nbformat_minor": 2
}
