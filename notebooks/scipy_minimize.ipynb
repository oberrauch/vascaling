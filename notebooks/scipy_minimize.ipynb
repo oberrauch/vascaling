{
 "cells": [
  {
   "cell_type": "markdown",
   "metadata": {},
   "source": [
    "# Minimization\n",
    "Trying to get a hang of the `scipy.optimize.minimize` function, which I'll later use to find the best starting glacier surface area.\n",
    "\n",
    "First I'll follow the examples from the official [SciPy documentation](https://docs.scipy.org/doc/scipy/reference/tutorial/optimize.html). Thereafter I'll start to work with the glacier surface areas..."
   ]
  },
  {
   "cell_type": "code",
   "execution_count": 1,
   "metadata": {},
   "outputs": [],
   "source": [
    "# import section\n",
    "import numpy as np\n",
    "from scipy.optimize import minimize, minimize_scalar"
   ]
  },
  {
   "cell_type": "markdown",
   "metadata": {},
   "source": [
    "## Examples\n",
    "In the first example I'll try to find a local minimum of the [Rosenbrock function](https://en.wikipedia.org/wiki/Rosenbrock_function)."
   ]
  },
  {
   "cell_type": "code",
   "execution_count": null,
   "metadata": {},
   "outputs": [],
   "source": [
    "# define functions\n",
    "def fct(x):\n",
    "    return x**2\n",
    "\n",
    "# define start values\n",
    "x0 = 10\n",
    "# run minimization\n",
    "res = minimize(fct, x0, method='powell', options={'xtol': 1e-8, 'disp': True})\n",
    "# show result\n",
    "res.x"
   ]
  },
  {
   "cell_type": "code",
   "execution_count": null,
   "metadata": {},
   "outputs": [],
   "source": [
    "# define function\n",
    "def rosen(x):\n",
    "    \"\"\"The Rosenbrock function\"\"\"\n",
    "    return sum(100.0*(x[1:]-x[:-1]**2.0)**2.0 + (1-x[:-1])**2.0)\n",
    "\n",
    "# define start values\n",
    "x0 = np.array([1.3, 0.7, 0.8, 1.9, 1.2])\n",
    "# find local minimum\n",
    "res = minimize(rosen, x0, method='nelder-mead',\n",
    "               options={'xtol': 1e-8, 'disp': True})\n",
    "# see results\n",
    "res.x"
   ]
  },
  {
   "cell_type": "code",
   "execution_count": null,
   "metadata": {},
   "outputs": [],
   "source": []
  },
  {
   "cell_type": "markdown",
   "metadata": {},
   "source": [
    "## Find starting surface area by miminization"
   ]
  },
  {
   "cell_type": "code",
   "execution_count": 2,
   "metadata": {},
   "outputs": [
    {
     "name": "stderr",
     "output_type": "stream",
     "text": [
      "2019-02-14 13:36:59: oggm.cfg: Using configuration file: /Users/oberrauch/oggm-fork/oggm/params.cfg\n",
      "2019-02-14 13:36:59: oggm.core.gis: (RGI60-11.00897) define_glacier_region\n",
      "2019-02-14 13:36:59: oggm.core.gis: (RGI60-11.00897) glacier_masks\n",
      "2019-02-14 13:37:00: oggm.core.climate: (RGI60-11.00897) process_custom_climate_data\n",
      "2019-02-14 13:37:00: oggm.core.centerlines: (RGI60-11.00897) compute_centerlines\n",
      "2019-02-14 13:37:01: oggm.core.centerlines: (RGI60-11.00897) initialize_flowlines\n",
      "2019-02-14 13:37:01: oggm.core.centerlines: (RGI60-11.00897) compute_downstream_line\n",
      "2019-02-14 13:37:02: oggm.core.centerlines: (RGI60-11.00897) compute_downstream_bedshape\n",
      "2019-02-14 13:37:02: oggm.core.centerlines: (RGI60-11.00897) catchment_area\n",
      "2019-02-14 13:37:05: oggm.core.centerlines: (RGI60-11.00897) catchment_intersections\n",
      "2019-02-14 13:37:06: oggm.core.centerlines: (RGI60-11.00897) catchment_width_geom\n",
      "2019-02-14 13:37:07: oggm.core.centerlines: (RGI60-11.00897) catchment_width_correction\n"
     ]
    }
   ],
   "source": [
    "# import externals libs\n",
    "import os\n",
    "import shutil\n",
    "import numpy as np\n",
    "import pandas as pd\n",
    "import geopandas as gpd\n",
    "from scipy.optimize import minimize, minimize_scalar\n",
    "\n",
    "# import the needed OGGM modules\n",
    "import oggm\n",
    "from oggm import cfg\n",
    "from oggm.utils import get_demo_file, get_rgi_glacier_entities\n",
    "from oggm.tests.funcs import get_test_dir\n",
    "from oggm.core import gis, climate, centerlines\n",
    "from oggm.core import vascaling\n",
    "\n",
    "# ---------------------\n",
    "#  PREPROCESSING TASKS\n",
    "# ---------------------\n",
    "\n",
    "# create test directory\n",
    "testdir = os.path.join(get_test_dir(), 'tmp_comparison')\n",
    "if not os.path.exists(testdir):\n",
    "    os.makedirs(testdir)\n",
    "shutil.rmtree(testdir)\n",
    "os.makedirs(testdir)\n",
    "\n",
    "# load default parameter file\n",
    "cfg.initialize()\n",
    "cfg.set_intersects_db(get_demo_file('rgi_intersect_oetztal.shp'))\n",
    "cfg.PATHS['working_dir'] = testdir\n",
    "cfg.PATHS['dem_file'] = get_demo_file('hef_srtm.tif')\n",
    "cfg.PARAMS['border'] = 10\n",
    "cfg.PARAMS['use_multiprocessing'] = True\n",
    "# use HistAlp as climate file\n",
    "cfg.PATHS['climate_file'] = get_demo_file('histalp_merged_hef.nc')\n",
    "# set hyper parameters for mass balance calibration\n",
    "# cfg.PARAMS['baseline_y0'] = 1850\n",
    "cfg.PARAMS['prcp_scaling_factor'] = 1.75\n",
    "cfg.PARAMS['temp_melt'] = -1.75\n",
    "\n",
    "# read the Hintereisferner DEM\n",
    "hef_file = get_demo_file('Hintereisferner_RGI6.shp')\n",
    "entity = gpd.read_file(hef_file).iloc[0]\n",
    "\n",
    "# initialize the GlacierDirectory\n",
    "gdir = oggm.GlacierDirectory(entity, base_dir=testdir)\n",
    "# define the local grid and glacier mask\n",
    "gis.define_glacier_region(gdir, entity=entity)\n",
    "gis.glacier_masks(gdir)\n",
    "\n",
    "# process the given climate file\n",
    "climate.process_custom_climate_data(gdir)\n",
    "\n",
    "# run center line preprocessing tasks\n",
    "centerlines.compute_centerlines(gdir)\n",
    "centerlines.initialize_flowlines(gdir)\n",
    "centerlines.compute_downstream_line(gdir)\n",
    "centerlines.compute_downstream_bedshape(gdir)\n",
    "centerlines.catchment_area(gdir)\n",
    "centerlines.catchment_intersections(gdir)\n",
    "centerlines.catchment_width_geom(gdir)\n",
    "centerlines.catchment_width_correction(gdir)\n",
    "\n",
    "# compute the reference t* for the glacier\n",
    "# given the reference of mass balance measurements\n",
    "res = vascaling.t_star_from_refmb(gdir)\n",
    "t_star, bias = res['t_star'], res['bias']\n",
    "\n",
    "# --------------------\n",
    "#  SCALING MODEL\n",
    "# --------------------\n",
    "\n",
    "# compute local t* and the corresponding mu*\n",
    "vascaling.local_t_star(gdir, tstar=t_star, bias=bias)\n",
    "\n",
    "# instance the mass balance models\n",
    "ben_mbmod = vascaling.VAScalingMassBalance(gdir)\n",
    "\n",
    "# get reference area\n",
    "a0 = gdir.rgi_area_m2\n",
    "# get reference year\n",
    "rgi_df = get_rgi_glacier_entities([gdir.rgi_id])\n",
    "y0 = int(rgi_df.BgnDate.values[0][:4])\n",
    "# get min and max glacier surface elevation\n",
    "h0, h1 = vascaling.get_min_max_elevation(gdir)\n",
    "\n",
    "# set up the glacier model with the values of 2003\n",
    "hef_ref = vascaling.VAScalingModel(year_0=y0, area_m2_0=a0,\n",
    "                                   min_hgt=h0, max_hgt=h1,\n",
    "                                   mb_model=ben_mbmod)"
   ]
  },
  {
   "cell_type": "code",
   "execution_count": 3,
   "metadata": {},
   "outputs": [],
   "source": [
    "def to_minimize(area_m2_start, model_ref):\n",
    "    \"\"\" Initialize VAS glacier model as copy of the reference model (model_ref)\n",
    "    and adjust the model to the given starting area (area_m2_start) and\n",
    "    starting year (1851). Let the model evolve to the same year as the\n",
    "    reference model. Compute and return the relative absolute area error.\n",
    "\n",
    "    :param area_m2_start: (float)\n",
    "    :param model_ref: (oggm.VAScalingModel)\n",
    "    :return: (float) relative absolute area error\n",
    "    \"\"\"\n",
    "    # define model\n",
    "    model_tmp = vascaling.VAScalingModel(year_0=model_ref.year_0,\n",
    "                                         area_m2_0=model_ref.area_m2_0,\n",
    "                                         min_hgt=model_ref.min_hgt_0,\n",
    "                                         max_hgt=model_ref.max_hgt,\n",
    "                                         mb_model=model_ref.mb_model)\n",
    "    # scale to desired starting size\n",
    "    model_tmp.create_start_glacier(area_m2_start)\n",
    "    # run and compare, return relative error\n",
    "    return np.abs(model_tmp.run_and_compare(model_ref))"
   ]
  },
  {
   "cell_type": "code",
   "execution_count": 30,
   "metadata": {},
   "outputs": [
    {
     "data": {
      "text/plain": [
       "     fun: 0.12043854803404441\n",
       " message: 'Solution found.'\n",
       "    nfev: 32\n",
       "  status: 0\n",
       " success: True\n",
       "       x: 3134640.488672331"
      ]
     },
     "execution_count": 30,
     "metadata": {},
     "output_type": "execute_result"
    }
   ],
   "source": [
    "# define bounds\n",
    "area_m2_bounds = [100, 2*hef_ref.area_m2_0]\n",
    "# run minimization\n",
    "minimization_res = minimize_scalar(to_minimize, args=(hef_ref),\n",
    "                                   bounds=area_m2_bounds,\n",
    "                                   method='bounded')\n",
    "\n",
    "minimization_res"
   ]
  },
  {
   "cell_type": "markdown",
   "metadata": {},
   "source": [
    "Try to visualize the start area seeking process..."
   ]
  },
  {
   "cell_type": "code",
   "execution_count": 44,
   "metadata": {},
   "outputs": [],
   "source": [
    "# instance guessed starting areas\n",
    "num = 15\n",
    "area_guess = np.linspace(area_m2_bounds[0], area_m2_bounds[-1],  num, endpoint=True)\n",
    "# create empty containers\n",
    "iteration_list = list()\n",
    "spec_mb_list = list()\n",
    "\n",
    "# iterate over all starting areas\n",
    "for area_ in area_guess:\n",
    "    # instance iteration model\n",
    "    model_guess = vascaling.VAScalingModel(year_0=y0, area_m2_0=a0,\n",
    "                                           min_hgt=h0, max_hgt=h1,\n",
    "                                           mb_model=ben_mbmod)\n",
    "    # set new starting values\n",
    "    model_guess.create_start_glacier(area_)\n",
    "    # run model and save years and area\n",
    "    _years, _, _area, _, _spec_mb = model_guess.run_until(year_end=hef_ref.year)\n",
    "    # create series and store in container\n",
    "    iteration_list.append(pd.Series(_area, index=_years))\n",
    "    spec_mb_list.append(pd.Series(_spec_mb, index=_years))"
   ]
  },
  {
   "cell_type": "code",
   "execution_count": 45,
   "metadata": {},
   "outputs": [],
   "source": [
    "# set up model with resulted starting area\n",
    "model = vascaling.VAScalingModel(year_0=hef_ref.year_0,\n",
    "                                 area_m2_0=hef_ref.area_m2_0,\n",
    "                                 min_hgt=hef_ref.min_hgt_0,\n",
    "                                 max_hgt=hef_ref.max_hgt,\n",
    "                                 mb_model=hef_ref.mb_model)\n",
    "model.create_start_glacier(minimization_res.x)\n",
    "\n",
    "# run\n",
    "years, lenght, area, volume, spec_mb = model.run_until(year_end=hef_ref.year)"
   ]
  },
  {
   "cell_type": "code",
   "execution_count": 59,
   "metadata": {},
   "outputs": [
    {
     "data": {
      "image/png": "[encoded data removed]",
      "text/plain": [
       "<Figure size 576x432 with 1 Axes>"
      ]
     },
     "metadata": {},
     "output_type": "display_data"
    }
   ],
   "source": [
    "# create DataFrame\n",
    "iteration_df = pd.DataFrame(iteration_list, index=['{:.2f}'.format(a/1e6) for a in area_guess])\n",
    "iteration_df.index.name = 'Start Area [km$^2$]'\n",
    "\n",
    "# visualize\n",
    "import matplotlib.pyplot as plt\n",
    "ax = plt.figure().add_axes([0.1,0.1,0.8,0.8])\n",
    "ax.plot(years, area, color='k', ls='--', lw=1.2, label='Best Guess')\n",
    "ax.axhline(hef_ref.area_m2_0, c='k', ls=':', label='measured HEF area in 2003')\n",
    "iteration_df.T.plot(legend=False, figsize=[8,6], colormap='Spectral', ax=ax)\n",
    "# legend\n",
    "handels, labels = ax.get_legend_handles_labels()\n",
    "labels[2:] = ['{} km2'.format(l) for l in labels[2:]]\n",
    "ax.legend(handels, labels, bbox_to_anchor=(1.05, 0.5), loc=6)\n",
    "\n",
    "# replot best guess estimate (in case it lies below another guess)\n",
    "ax.plot(years, area, color='k', ls='--', lw=1.2, label='Best Guess')\n",
    "\n",
    "ax.set_ylabel('Glacier area [m$^2$]')\n",
    "ax.set_title('Evolution of glacier area for different start values');"
   ]
  },
  {
   "cell_type": "code",
   "execution_count": 47,
   "metadata": {},
   "outputs": [
    {
     "data": {
      "text/plain": [
       "['Best Guess',\n",
       " 'measured HEF area in 2003',\n",
       " '0.00 km2',\n",
       " '1.15 km2',\n",
       " '2.30 km2',\n",
       " '3.44 km2',\n",
       " '4.59 km2',\n",
       " '5.74 km2',\n",
       " '6.89 km2',\n",
       " '8.04 km2',\n",
       " '9.18 km2',\n",
       " '10.33 km2',\n",
       " '11.48 km2',\n",
       " '12.63 km2',\n",
       " '13.78 km2',\n",
       " '14.92 km2',\n",
       " '16.07 km2',\n",
       " 'Best Guess km2']"
      ]
     },
     "execution_count": 47,
     "metadata": {},
     "output_type": "execute_result"
    }
   ],
   "source": [
    "\n",
    "labels"
   ]
  },
  {
   "cell_type": "code",
   "execution_count": null,
   "metadata": {},
   "outputs": [],
   "source": []
  },
  {
   "cell_type": "code",
   "execution_count": null,
   "metadata": {},
   "outputs": [],
   "source": [
    "# import externals libs\n",
    "import os\n",
    "import shutil\n",
    "import numpy as np\n",
    "import pandas as pd\n",
    "import geopandas as gpd\n",
    "\n",
    "# import the needed OGGM modules\n",
    "import oggm\n",
    "from oggm import cfg\n",
    "from oggm.utils import get_demo_file, get_rgi_glacier_entities\n",
    "from oggm.tests.funcs import get_test_dir\n",
    "from oggm.core import gis, climate, centerlines\n",
    "from oggm.core import vascaling"
   ]
  },
  {
   "cell_type": "code",
   "execution_count": null,
   "metadata": {},
   "outputs": [],
   "source": [
    "# ---------------------\n",
    "#  PREPROCESSING TASKS\n",
    "# ---------------------\n",
    "\n",
    "# create test directory\n",
    "testdir = os.path.join(get_test_dir(), 'tmp_comparison')\n",
    "if not os.path.exists(testdir):\n",
    "    os.makedirs(testdir)\n",
    "shutil.rmtree(testdir)\n",
    "os.makedirs(testdir)\n",
    "\n",
    "# load default parameter file\n",
    "cfg.initialize()\n",
    "cfg.set_intersects_db(get_demo_file('rgi_intersect_oetztal.shp'))\n",
    "cfg.PATHS['working_dir'] = testdir\n",
    "cfg.PATHS['dem_file'] = get_demo_file('hef_srtm.tif')\n",
    "cfg.PARAMS['border'] = 10\n",
    "cfg.PARAMS['run_mb_calibration'] = True\n",
    "cfg.PARAMS['baseline_climate'] = ''\n",
    "cfg.PARAMS['use_multiprocessing'] = True\n",
    "# use HistAlp as climate file\n",
    "cfg.PATHS['climate_file'] = get_demo_file('histalp_merged_hef.nc')\n",
    "# set hyper parameters for mass balance calibration\n",
    "# cfg.PARAMS['baseline_y0'] = 1850\n",
    "cfg.PARAMS['prcp_scaling_factor'] = 1.75\n",
    "cfg.PARAMS['temp_melt'] = -1.75\n",
    "\n",
    "# read the Hintereisferner DEM\n",
    "hef_file = get_demo_file('Hintereisferner_RGI6.shp')\n",
    "entity = gpd.read_file(hef_file).iloc[0]\n",
    "\n",
    "# initialize the GlacierDirectory\n",
    "gdir = oggm.GlacierDirectory(entity, base_dir=testdir)\n",
    "# define the local grid and glacier mask\n",
    "gis.define_glacier_region(gdir, entity=entity)\n",
    "gis.glacier_masks(gdir)\n",
    "\n",
    "# process the given climate file\n",
    "climate.process_custom_climate_data(gdir)\n",
    "\n",
    "# run center line preprocessing tasks\n",
    "centerlines.compute_centerlines(gdir)\n",
    "centerlines.initialize_flowlines(gdir)\n",
    "centerlines.compute_downstream_line(gdir)\n",
    "centerlines.compute_downstream_bedshape(gdir)\n",
    "centerlines.catchment_area(gdir)\n",
    "centerlines.catchment_intersections(gdir)\n",
    "centerlines.catchment_width_geom(gdir)\n",
    "centerlines.catchment_width_correction(gdir)"
   ]
  },
  {
   "cell_type": "code",
   "execution_count": null,
   "metadata": {},
   "outputs": [],
   "source": [
    "# compute the reference t* for the glacier\n",
    "# given the reference of mass balance measurements\n",
    "res = vascaling.t_star_from_refmb(gdir)\n",
    "t_star, bias = res['t_star'], res['bias']\n",
    "print('t*: {}, bias: {}'.format(t_star, bias))"
   ]
  },
  {
   "cell_type": "code",
   "execution_count": null,
   "metadata": {},
   "outputs": [],
   "source": [
    "# --------------------\n",
    "#  SCALING MODEL\n",
    "# --------------------\n",
    "\n",
    "# compute local t* and the corresponding mu*\n",
    "vascaling.local_t_star(gdir, tstar=t_star, bias=bias)\n",
    "\n",
    "# instance the mass balance models\n",
    "ben_mbmod = vascaling.VAScalingMassBalance(gdir)\n",
    "\n",
    "# get reference area\n",
    "a0 = gdir.rgi_area_m2\n",
    "# get reference year\n",
    "rgi_df = get_rgi_glacier_entities([gdir.rgi_id])\n",
    "y0 = int(rgi_df.BgnDate.values[0][:4])\n",
    "# get min and max glacier surface elevation\n",
    "h0, h1 = vascaling.get_min_max_elevation(gdir)\n",
    "\n",
    "# set up the glacier model with the values of 2003\n",
    "model_ref = vascaling.VAScalingModel(year_0=y0, area_m2_0=a0,\n",
    "                                     min_hgt=h0, max_hgt=h1,\n",
    "                                     mb_model=ben_mbmod)"
   ]
  },
  {
   "cell_type": "code",
   "execution_count": null,
   "metadata": {},
   "outputs": [],
   "source": [
    "from scipy.optimize import minimize\n",
    "\n",
    "def run_and_compare(area_m2_start, y_start, model_ref):\n",
    "    \"\"\" Instance a new VAS model with the given starting area (`area_m2_start`)\n",
    "    at the beginning of the model integration (`y_start`). The model runs and compares\n",
    "    the fina area with the given reference model.\n",
    "    \"\"\"\n",
    "    # instance iteration model\n",
    "    model_guess = vascaling.VAScalingModel(year_0=y0, area_m2_0=a0,\n",
    "                                           min_hgt=h0, max_hgt=h1,\n",
    "                                           mb_model=ben_mbmod)\n",
    "    # set new starting values\n",
    "    model_guess.create_start_glacier(area_m2_start, year_start=y_start)\n",
    "    # run model and save years and area\n",
    "    _years, _, _area, _, _spec_mb = model_guess.run_until(year_end=model_ref.year, reset=True)\n",
    "    # compute relative difference to measured area\n",
    "    a_dif = (1 - _area[-1]/6e6)\n",
    "    \n",
    "    return a_dif"
   ]
  },
  {
   "cell_type": "code",
   "execution_count": null,
   "metadata": {},
   "outputs": [],
   "source": []
  },
  {
   "cell_type": "code",
   "execution_count": null,
   "metadata": {},
   "outputs": [],
   "source": [
    "# run minimization\n",
    "res = minimize(run_and_compare, x0=2e7, args=(1851, model_ref), method='powell')\n",
    "res"
   ]
  },
  {
   "cell_type": "code",
   "execution_count": null,
   "metadata": {},
   "outputs": [],
   "source": [
    "# instance iteration model\n",
    "model_guess = vascaling.VAScalingModel(year_0=y0, area_m2_0=a0,\n",
    "                                       min_hgt=h0, max_hgt=h1,\n",
    "                                       mb_model=ben_mbmod)\n",
    "# set new starting values\n",
    "model_guess.create_start_glacier(float(res.x), year_start=1851)\n",
    "# run model and save years and area\n",
    "_years, _, _area, _, _spec_mb = model_guess.run_until(year_end=model_ref.year, reset=True)\n",
    "plt.plot(_years, _area)\n",
    "plt.axhline(6e6)\n",
    "# compute relative difference to measured area\n",
    "a_dif = abs(_area[-1] - a0)\n",
    "a_dif"
   ]
  },
  {
   "cell_type": "code",
   "execution_count": null,
   "metadata": {},
   "outputs": [],
   "source": []
  },
  {
   "cell_type": "code",
   "execution_count": null,
   "metadata": {},
   "outputs": [],
   "source": [
    "# get value\n",
    "area_m2_start = float(res.x)\n",
    "print('Start area: {:.2f} km2'.format(area_m2_start/1e6))"
   ]
  },
  {
   "cell_type": "code",
   "execution_count": null,
   "metadata": {},
   "outputs": [],
   "source": [
    "print(area[-1])\n",
    "print(a0)"
   ]
  },
  {
   "cell_type": "code",
   "execution_count": null,
   "metadata": {},
   "outputs": [],
   "source": [
    "abs(1-area[-1]/a0)"
   ]
  },
  {
   "cell_type": "code",
   "execution_count": null,
   "metadata": {},
   "outputs": [],
   "source": [
    "import importlib\n",
    "importlib.reload(vascaling)"
   ]
  },
  {
   "cell_type": "code",
   "execution_count": null,
   "metadata": {},
   "outputs": [],
   "source": [
    "# instance first guess areas\n",
    "a_min = 0.1\n",
    "a_max = a0*2e-6\n",
    "num = 20\n",
    "area_guess = np.linspace(a_min, a_max, num, endpoint=True)*1e6\n",
    "#area_guess = [model_ref.area_m2_0]\n",
    "iteration_list = list()\n",
    "spec_mb_list = list()\n",
    "\n",
    "# iterate over all starting areas\n",
    "for area_ in area_guess:\n",
    "    # instance iteration model\n",
    "    model_guess = vascaling.VAScalingModel(year_0=y0, area_m2_0=a0,\n",
    "                                           min_hgt=h0, max_hgt=h1,\n",
    "                                           mb_model=ben_mbmod)\n",
    "    # set new starting values\n",
    "    model_guess.create_start_glacier(area_)\n",
    "    # run model and save years and area\n",
    "    _years, _, _area, _, _spec_mb = model_guess.run_until(year_end=model_ref.year)\n",
    "    # create series and store in container\n",
    "    iteration_list.append(pd.Series(_area, index=_years))\n",
    "    spec_mb_list.append(pd.Series(_spec_mb, index=_years))"
   ]
  },
  {
   "cell_type": "code",
   "execution_count": null,
   "metadata": {},
   "outputs": [],
   "source": [
    "# set up model with resulted starting area\n",
    "model = vascaling.VAScalingModel(year_0=y0, area_m2_0=a0,\n",
    "                                 min_hgt=h0, max_hgt=h1,\n",
    "                                 mb_model=ben_mbmod)\n",
    "model.create_start_glacier(3134747.2611997463)\n",
    "\n",
    "# run\n",
    "years, lenght, area, volume, spec_mb = model.run_until(2003)"
   ]
  },
  {
   "cell_type": "code",
   "execution_count": null,
   "metadata": {},
   "outputs": [],
   "source": [
    "# create DataFrame\n",
    "iteration_df = pd.DataFrame(iteration_list, index=['{:.2f}'.format(a/1e6) for a in area_guess])\n",
    "iteration_df.index.name = 'Start Area [km$^2$]'\n",
    "\n",
    "# visualize\n",
    "import matplotlib.pyplot as plt\n",
    "ax = iteration_df.T.plot(legend=False, figsize=[8,6], colormap='Spectral')\n",
    "ax.plot(years, area, color='k', ls='--', lw=1.2)\n",
    "ax.axhline(8e6, c='k', ls=':', label='measured HEF area in 2003')\n",
    "ax.set_ylabel('Glacier area [m$^2$]')\n",
    "ax.set_title('Evolution of glacier area for different start values');"
   ]
  },
  {
   "cell_type": "code",
   "execution_count": null,
   "metadata": {},
   "outputs": [],
   "source": []
  }
 ],
 "metadata": {
  "kernelspec": {
   "display_name": "Python 3",
   "language": "python",
   "name": "python3"
  },
  "language_info": {
   "codemirror_mode": {
    "name": "ipython",
    "version": 3
   },
   "file_extension": ".py",
   "mimetype": "text/x-python",
   "name": "python",
   "nbconvert_exporter": "python",
   "pygments_lexer": "ipython3",
   "version": "3.6.5"
  }
 },
 "nbformat": 4,
 "nbformat_minor": 2
}
