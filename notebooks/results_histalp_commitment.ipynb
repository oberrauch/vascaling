{
 "cells": [
  {
   "cell_type": "markdown",
   "metadata": {},
   "source": [
    "# Quantitative analysis of HISTALP commitment run\n",
    "This notebooks computes equilibrium values, e-folding time scales, and more from the data of the HISTALP commitment experiment. The values are used in Chapter 3, Section 3: **Regional runs with all Alpine glaciers**."
   ]
  },
  {
   "cell_type": "code",
   "execution_count": 1,
   "metadata": {},
   "outputs": [],
   "source": [
    "# import section\n",
    "import numpy as np\n",
    "import pandas as pd\n",
    "import xarray as xr\n",
    "import matplotlib.pyplot as plt\n",
    "from scipy.stats import pearsonr"
   ]
  },
  {
   "cell_type": "code",
   "execution_count": 2,
   "metadata": {},
   "outputs": [],
   "source": [
    "def read_dataset(path):\n",
    "    # read dataset\n",
    "    ds = xr.load_dataset(path)\n",
    "    # sort by temperature bias\n",
    "    ds = ds.sortby('temp_bias')\n",
    "    # cast normalized dimension from int to bool\n",
    "    ds['normalized'] = [bool(norm) for norm in ds.normalized]\n",
    "\n",
    "    return ds"
   ]
  },
  {
   "cell_type": "code",
   "execution_count": 3,
   "metadata": {},
   "outputs": [],
   "source": [
    "# read dataset\n",
    "path = '/Users/oberrauch/work/master/data/cluster_output/histalp_commitment/eq_runs.nc'\n",
    "ds = read_dataset(path)"
   ]
  },
  {
   "cell_type": "markdown",
   "metadata": {},
   "source": [
    "**Final volume of constant mass balance scenario**"
   ]
  },
  {
   "cell_type": "code",
   "execution_count": 4,
   "metadata": {},
   "outputs": [
    {
     "data": {
      "text/html": [
       "<div>\n",
       "<style scoped>\n",
       "    .dataframe tbody tr th:only-of-type {\n",
       "        vertical-align: middle;\n",
       "    }\n",
       "\n",
       "    .dataframe tbody tr th {\n",
       "        vertical-align: top;\n",
       "    }\n",
       "\n",
       "    .dataframe thead tr th {\n",
       "        text-align: left;\n",
       "    }\n",
       "</style>\n",
       "<table border=\"1\" class=\"dataframe\">\n",
       "  <thead>\n",
       "    <tr>\n",
       "      <th></th>\n",
       "      <th></th>\n",
       "      <th colspan=\"2\" halign=\"left\">volume</th>\n",
       "    </tr>\n",
       "    <tr>\n",
       "      <th></th>\n",
       "      <th></th>\n",
       "      <th>abs</th>\n",
       "      <th>norm</th>\n",
       "    </tr>\n",
       "  </thead>\n",
       "  <tbody>\n",
       "    <tr>\n",
       "      <th rowspan=\"3\" valign=\"top\">vas</th>\n",
       "      <th>-0.5</th>\n",
       "      <td>156.0</td>\n",
       "      <td>0.198523</td>\n",
       "    </tr>\n",
       "    <tr>\n",
       "      <th>0.0</th>\n",
       "      <td>130.0</td>\n",
       "      <td>0.000024</td>\n",
       "    </tr>\n",
       "    <tr>\n",
       "      <th>0.5</th>\n",
       "      <td>109.0</td>\n",
       "      <td>-0.166642</td>\n",
       "    </tr>\n",
       "    <tr>\n",
       "      <th rowspan=\"3\" valign=\"top\">flowline</th>\n",
       "      <th>-0.5</th>\n",
       "      <td>259.0</td>\n",
       "      <td>0.584518</td>\n",
       "    </tr>\n",
       "    <tr>\n",
       "      <th>0.0</th>\n",
       "      <td>169.0</td>\n",
       "      <td>0.034130</td>\n",
       "    </tr>\n",
       "    <tr>\n",
       "      <th>0.5</th>\n",
       "      <td>92.0</td>\n",
       "      <td>-0.435427</td>\n",
       "    </tr>\n",
       "  </tbody>\n",
       "</table>\n",
       "</div>"
      ],
      "text/plain": [
       "              volume          \n",
       "                 abs      norm\n",
       "vas      -0.5  156.0  0.198523\n",
       "          0.0  130.0  0.000024\n",
       "          0.5  109.0 -0.166642\n",
       "flowline -0.5  259.0  0.584518\n",
       "          0.0  169.0  0.034130\n",
       "          0.5   92.0 -0.435427"
      ]
     },
     "execution_count": 4,
     "metadata": {},
     "output_type": "execute_result"
    }
   ],
   "source": [
    "# get table with final values of volume for constant mb model\n",
    "var = 'volume'\n",
    "mb_m = 'constant'\n",
    "data = list()\n",
    "\n",
    "for m in ds.model.values:\n",
    "    for b in ds.temp_bias.values:\n",
    "        # select last volume entry from dataset by model and temperature bias\n",
    "        ds_abs = ds.sel(mb_model=mb_m, model=m, normalized=False, temp_bias=b, rgi_id='sum').isel(time=1000)['volume']\n",
    "        ds_norm = ds.sel(mb_model=mb_m, model=m, normalized=True, temp_bias=b, rgi_id='sum').isel(time=1000)['volume']\n",
    "        data.append([np.round(ds_abs.values/1e9), ds_norm.values-1])\n",
    "        \n",
    "table = pd.DataFrame(data,\n",
    "                     index=pd.MultiIndex.from_tuples(list(zip(np.repeat(['vas', 'flowline'], 3),\n",
    "                                                              np.tile([-.5, 0, .5], 2)))),\n",
    "                     columns=pd.MultiIndex.from_tuples(list(zip(np.repeat(['volume'], 2),\n",
    "                                                                np.tile(['abs', 'norm'], 1)))),)\n",
    "table"
   ]
  },
  {
   "cell_type": "markdown",
   "metadata": {},
   "source": [
    "**Difference between constant and random mass balance models in the last 200 years**"
   ]
  },
  {
   "cell_type": "code",
   "execution_count": 5,
   "metadata": {},
   "outputs": [
    {
     "data": {
      "text/html": [
       "<div>\n",
       "<style scoped>\n",
       "    .dataframe tbody tr th:only-of-type {\n",
       "        vertical-align: middle;\n",
       "    }\n",
       "\n",
       "    .dataframe tbody tr th {\n",
       "        vertical-align: top;\n",
       "    }\n",
       "\n",
       "    .dataframe thead tr th {\n",
       "        text-align: left;\n",
       "    }\n",
       "</style>\n",
       "<table border=\"1\" class=\"dataframe\">\n",
       "  <thead>\n",
       "    <tr>\n",
       "      <th></th>\n",
       "      <th></th>\n",
       "      <th colspan=\"2\" halign=\"left\">min</th>\n",
       "      <th colspan=\"2\" halign=\"left\">mean</th>\n",
       "      <th colspan=\"2\" halign=\"left\">max</th>\n",
       "    </tr>\n",
       "    <tr>\n",
       "      <th></th>\n",
       "      <th></th>\n",
       "      <th>abs</th>\n",
       "      <th>norm</th>\n",
       "      <th>abs</th>\n",
       "      <th>norm</th>\n",
       "      <th>abs</th>\n",
       "      <th>norm</th>\n",
       "    </tr>\n",
       "  </thead>\n",
       "  <tbody>\n",
       "    <tr>\n",
       "      <th rowspan=\"3\" valign=\"top\">vas</th>\n",
       "      <th>-0.5</th>\n",
       "      <td>7.101802e+06</td>\n",
       "      <td>0.000044</td>\n",
       "      <td>8.358657e+08</td>\n",
       "      <td>0.006403</td>\n",
       "      <td>1.864898e+09</td>\n",
       "      <td>0.014282</td>\n",
       "    </tr>\n",
       "    <tr>\n",
       "      <th>0.0</th>\n",
       "      <td>1.929007e+07</td>\n",
       "      <td>0.000156</td>\n",
       "      <td>7.542893e+08</td>\n",
       "      <td>0.005778</td>\n",
       "      <td>1.681002e+09</td>\n",
       "      <td>0.012874</td>\n",
       "    </tr>\n",
       "    <tr>\n",
       "      <th>0.5</th>\n",
       "      <td>4.591182e+06</td>\n",
       "      <td>0.000042</td>\n",
       "      <td>6.679529e+08</td>\n",
       "      <td>0.005117</td>\n",
       "      <td>1.480892e+09</td>\n",
       "      <td>0.011342</td>\n",
       "    </tr>\n",
       "    <tr>\n",
       "      <th rowspan=\"3\" valign=\"top\">flowline</th>\n",
       "      <th>-0.5</th>\n",
       "      <td>1.500306e+09</td>\n",
       "      <td>0.008765</td>\n",
       "      <td>2.761250e+09</td>\n",
       "      <td>0.016478</td>\n",
       "      <td>4.298013e+09</td>\n",
       "      <td>0.025878</td>\n",
       "    </tr>\n",
       "    <tr>\n",
       "      <th>0.0</th>\n",
       "      <td>3.295673e+09</td>\n",
       "      <td>0.020146</td>\n",
       "      <td>4.572250e+09</td>\n",
       "      <td>0.027951</td>\n",
       "      <td>5.807215e+09</td>\n",
       "      <td>0.035501</td>\n",
       "    </tr>\n",
       "    <tr>\n",
       "      <th>0.5</th>\n",
       "      <td>1.356088e+08</td>\n",
       "      <td>0.000829</td>\n",
       "      <td>1.527202e+09</td>\n",
       "      <td>0.009337</td>\n",
       "      <td>2.812994e+09</td>\n",
       "      <td>0.017197</td>\n",
       "    </tr>\n",
       "  </tbody>\n",
       "</table>\n",
       "</div>"
      ],
      "text/plain": [
       "                        min                    mean                     max  \\\n",
       "                        abs      norm           abs      norm           abs   \n",
       "vas      -0.5  7.101802e+06  0.000044  8.358657e+08  0.006403  1.864898e+09   \n",
       "          0.0  1.929007e+07  0.000156  7.542893e+08  0.005778  1.681002e+09   \n",
       "          0.5  4.591182e+06  0.000042  6.679529e+08  0.005117  1.480892e+09   \n",
       "flowline -0.5  1.500306e+09  0.008765  2.761250e+09  0.016478  4.298013e+09   \n",
       "          0.0  3.295673e+09  0.020146  4.572250e+09  0.027951  5.807215e+09   \n",
       "          0.5  1.356088e+08  0.000829  1.527202e+09  0.009337  2.812994e+09   \n",
       "\n",
       "                         \n",
       "                   norm  \n",
       "vas      -0.5  0.014282  \n",
       "          0.0  0.012874  \n",
       "          0.5  0.011342  \n",
       "flowline -0.5  0.025878  \n",
       "          0.0  0.035501  \n",
       "          0.5  0.017197  "
      ]
     },
     "execution_count": 5,
     "metadata": {},
     "output_type": "execute_result"
    }
   ],
   "source": [
    "# get table with min/mean/max differences in volume between mb models\n",
    "var = 'volume'\n",
    "data = list()\n",
    "for m in ds.model.values:\n",
    "    for b in ds.temp_bias.values:\n",
    "        # select volume from dataset by model and temperature bias\n",
    "        ds_abs = ds.sel(model=m, normalized=False, temp_bias=b, rgi_id='sum').isel(time=slice(800,1000))[var]\n",
    "        ds_norm = ds.sel(model=m, normalized=True, temp_bias=b, rgi_id='sum').isel(time=slice(800,1000))[var]\n",
    "        # compute absolute differences between the mass balance models\n",
    "        diff_abs = abs(ds_abs.diff(dim='mb_model').values)\n",
    "        diff_norm = abs(ds_norm.diff(dim='mb_model').values)\n",
    "        data.append([diff_abs.min(), diff_norm.min(),\n",
    "                     diff_abs.mean(), diff_norm.mean(),\n",
    "                     diff_abs.max(), diff_norm.max()])\n",
    "        \n",
    "\n",
    "table = pd.DataFrame(data,\n",
    "                     index=pd.MultiIndex.from_tuples(list(zip(np.repeat(['vas', 'flowline'], 3),\n",
    "                                                              np.tile([-.5, 0, .5], 2)))),\n",
    "                     columns=pd.MultiIndex.from_tuples(list(zip(np.repeat(['min', 'mean', 'max'], 2),\n",
    "                                                                np.tile(['abs', 'norm'], 3)))),)\n",
    "table"
   ]
  },
  {
   "cell_type": "markdown",
   "metadata": {},
   "source": [
    "Yearly relative differences"
   ]
  },
  {
   "cell_type": "code",
   "execution_count": 15,
   "metadata": {},
   "outputs": [],
   "source": [
    "# get table with min/mean/max differences in volume between mb models\n",
    "var = 'volume'\n",
    "data = list()\n",
    "for m in ds.model.values:\n",
    "    for b in ds.temp_bias.values:\n",
    "        # select volume from dataset by model and temperature bias\n",
    "        ds_abs = ds.sel(model=m, normalized=False, temp_bias=b, rgi_id='sum').isel(time=slice(800,1000))[var]\n",
    "        ds_norm = ds.sel(model=m, normalized=True, temp_bias=b, rgi_id='sum').isel(time=slice(800,1000))[var]\n",
    "        # compute absolute differences between the mass balance models\n",
    "        diff_abs = abs(ds_abs.diff(dim='mb_model').values)\n",
    "        mean_abs = abs(ds_abs.mean(dim='mb_model').values)\n",
    "        rel_diff = diff_abs/mean_abs\n",
    "\n",
    "        data.append([f'{rel_diff.min()*100:.1f}', f'{rel_diff.min()*100:.1f}',\n",
    "                     f'{rel_diff.mean()*100:.1f}'])"
   ]
  },
  {
   "cell_type": "code",
   "execution_count": 18,
   "metadata": {},
   "outputs": [
    {
     "data": {
      "text/html": [
       "<div>\n",
       "<style scoped>\n",
       "    .dataframe tbody tr th:only-of-type {\n",
       "        vertical-align: middle;\n",
       "    }\n",
       "\n",
       "    .dataframe tbody tr th {\n",
       "        vertical-align: top;\n",
       "    }\n",
       "\n",
       "    .dataframe thead th {\n",
       "        text-align: right;\n",
       "    }\n",
       "</style>\n",
       "<table border=\"1\" class=\"dataframe\">\n",
       "  <thead>\n",
       "    <tr style=\"text-align: right;\">\n",
       "      <th></th>\n",
       "      <th></th>\n",
       "      <th>min</th>\n",
       "      <th>mean</th>\n",
       "      <th>max</th>\n",
       "    </tr>\n",
       "  </thead>\n",
       "  <tbody>\n",
       "    <tr>\n",
       "      <th rowspan=\"3\" valign=\"top\">vas</th>\n",
       "      <th>-0.5</th>\n",
       "      <td>0.0</td>\n",
       "      <td>0.0</td>\n",
       "      <td>0.5</td>\n",
       "    </tr>\n",
       "    <tr>\n",
       "      <th>0.0</th>\n",
       "      <td>0.0</td>\n",
       "      <td>0.0</td>\n",
       "      <td>0.6</td>\n",
       "    </tr>\n",
       "    <tr>\n",
       "      <th>0.5</th>\n",
       "      <td>0.0</td>\n",
       "      <td>0.0</td>\n",
       "      <td>0.6</td>\n",
       "    </tr>\n",
       "    <tr>\n",
       "      <th rowspan=\"3\" valign=\"top\">flowline</th>\n",
       "      <th>-0.5</th>\n",
       "      <td>0.6</td>\n",
       "      <td>0.6</td>\n",
       "      <td>1.1</td>\n",
       "    </tr>\n",
       "    <tr>\n",
       "      <th>0.0</th>\n",
       "      <td>2.0</td>\n",
       "      <td>2.0</td>\n",
       "      <td>2.7</td>\n",
       "    </tr>\n",
       "    <tr>\n",
       "      <th>0.5</th>\n",
       "      <td>0.1</td>\n",
       "      <td>0.1</td>\n",
       "      <td>1.7</td>\n",
       "    </tr>\n",
       "  </tbody>\n",
       "</table>\n",
       "</div>"
      ],
      "text/plain": [
       "               min mean  max\n",
       "vas      -0.5  0.0  0.0  0.5\n",
       "          0.0  0.0  0.0  0.6\n",
       "          0.5  0.0  0.0  0.6\n",
       "flowline -0.5  0.6  0.6  1.1\n",
       "          0.0  2.0  2.0  2.7\n",
       "          0.5  0.1  0.1  1.7"
      ]
     },
     "execution_count": 18,
     "metadata": {},
     "output_type": "execute_result"
    }
   ],
   "source": [
    "table = pd.DataFrame(np.array(data),\n",
    "                     index=pd.MultiIndex.from_tuples(list(zip(np.repeat(['vas', 'flowline'], 3),\n",
    "                                                              np.tile([-.5, 0, .5], 2)))),\n",
    "                     columns=['min', 'mean', 'max'])\n",
    "table"
   ]
  },
  {
   "cell_type": "markdown",
   "metadata": {},
   "source": [
    "**Response times $\\tau$**"
   ]
  },
  {
   "cell_type": "code",
   "execution_count": 46,
   "metadata": {},
   "outputs": [
    {
     "data": {
      "text/html": [
       "<div>\n",
       "<style scoped>\n",
       "    .dataframe tbody tr th:only-of-type {\n",
       "        vertical-align: middle;\n",
       "    }\n",
       "\n",
       "    .dataframe tbody tr th {\n",
       "        vertical-align: top;\n",
       "    }\n",
       "\n",
       "    .dataframe thead tr th {\n",
       "        text-align: left;\n",
       "    }\n",
       "</style>\n",
       "<table border=\"1\" class=\"dataframe\">\n",
       "  <thead>\n",
       "    <tr>\n",
       "      <th></th>\n",
       "      <th colspan=\"2\" halign=\"left\">vas</th>\n",
       "      <th colspan=\"2\" halign=\"left\">fl</th>\n",
       "    </tr>\n",
       "    <tr>\n",
       "      <th></th>\n",
       "      <th>-0.5</th>\n",
       "      <th>0.5</th>\n",
       "      <th>-0.5</th>\n",
       "      <th>0.5</th>\n",
       "    </tr>\n",
       "  </thead>\n",
       "  <tbody>\n",
       "    <tr>\n",
       "      <th>volume</th>\n",
       "      <td>23</td>\n",
       "      <td>20</td>\n",
       "      <td>125</td>\n",
       "      <td>79</td>\n",
       "    </tr>\n",
       "    <tr>\n",
       "      <th>area</th>\n",
       "      <td>32</td>\n",
       "      <td>27</td>\n",
       "      <td>151</td>\n",
       "      <td>107</td>\n",
       "    </tr>\n",
       "    <tr>\n",
       "      <th>length</th>\n",
       "      <td>35</td>\n",
       "      <td>31</td>\n",
       "      <td>161</td>\n",
       "      <td>90</td>\n",
       "    </tr>\n",
       "  </tbody>\n",
       "</table>\n",
       "</div>"
      ],
      "text/plain": [
       "        vas        fl     \n",
       "       -0.5  0.5 -0.5  0.5\n",
       "volume   23   20  125   79\n",
       "area     32   27  151  107\n",
       "length   35   31  161   90"
      ]
     },
     "execution_count": 46,
     "metadata": {},
     "output_type": "execute_result"
    }
   ],
   "source": [
    "variables = ['volume', 'area', 'length',]\n",
    "temp_biases = [-0.5, +0.5]\n",
    "data = list()\n",
    "for var in variables:\n",
    "    data_ = list()\n",
    "    for m in ds.model.values:\n",
    "        data__ = list()\n",
    "        for b in temp_biases:\n",
    "            ds_sel = ds.sel(mb_model='constant', model=m, temp_bias=b, rgi_id='sum')\n",
    "            vol = ds_sel.sel(normalized=1)[var]\n",
    "            vol_eq = vol.isel(time=slice(800,1000)).mean()\n",
    "            vol_eq_dif = np.abs(vol_eq - vol.isel(time=0))\n",
    "            vol_dif = np.abs(vol_eq - vol)\n",
    "            data__.append(int(vol.where(vol_dif < vol_eq_dif*np.exp(-1), drop=True).isel(time=0)['time'].values))\n",
    "        data_.extend(data__)\n",
    "    data.append(data_)\n",
    "    \n",
    "tau = pd.DataFrame(data, columns=pd.MultiIndex.from_tuples(list(zip(np.repeat(ds.model.values, 2),\n",
    "                                                                    np.tile(temp_biases, 2)))),\n",
    "                   index=variables)\n",
    "tau"
   ]
  },
  {
   "cell_type": "code",
   "execution_count": null,
   "metadata": {},
   "outputs": [],
   "source": []
  },
  {
   "cell_type": "code",
   "execution_count": null,
   "metadata": {},
   "outputs": [],
   "source": []
  },
  {
   "cell_type": "markdown",
   "metadata": {},
   "source": [
    "**Look at volume increase for equilibrium climate**"
   ]
  },
  {
   "cell_type": "code",
   "execution_count": 42,
   "metadata": {},
   "outputs": [
    {
     "data": {
      "text/plain": [
       "<matplotlib.collections.PathCollection at 0x13a24fa20>"
      ]
     },
     "execution_count": 42,
     "metadata": {},
     "output_type": "execute_result"
    },
    {
     "data": {
      "image/png": "[encoded data removed]",
      "text/plain": [
       "<Figure size 432x288 with 1 Axes>"
      ]
     },
     "metadata": {
      "needs_background": "light"
     },
     "output_type": "display_data"
    }
   ],
   "source": [
    "ds_sel = ds.sel(mb_model='constant', model='fl', normalized=False, temp_bias=0, rgi_id='sum')\n",
    "volume_sel = ds_sel.volume\n",
    "xr.plot.scatter(ds_sel, 'time', 'volume')"
   ]
  },
  {
   "cell_type": "code",
   "execution_count": 22,
   "metadata": {},
   "outputs": [
    {
     "data": {
      "text/plain": [
       "<matplotlib.lines.Line2D at 0x138f62710>"
      ]
     },
     "execution_count": 22,
     "metadata": {},
     "output_type": "execute_result"
    },
    {
     "data": {
      "image/png": "[encoded data removed]",
      "text/plain": [
       "<Figure size 432x288 with 1 Axes>"
      ]
     },
     "metadata": {
      "needs_background": "light"
     },
     "output_type": "display_data"
    }
   ],
   "source": [
    "volume_sel.plot()\n",
    "plt.axvline(50)\n",
    "plt.axvline(100)"
   ]
  },
  {
   "cell_type": "code",
   "execution_count": 45,
   "metadata": {},
   "outputs": [
    {
     "data": {
      "text/plain": [
       "array([5.58266302e+09])"
      ]
     },
     "execution_count": 45,
     "metadata": {},
     "output_type": "execute_result"
    }
   ],
   "source": [
    "np.diff(volume_sel.sel(time=[0, 1000]).values)"
   ]
  },
  {
   "cell_type": "code",
   "execution_count": 34,
   "metadata": {},
   "outputs": [
    {
     "data": {
      "text/plain": [
       "0.5263339948059683"
      ]
     },
     "execution_count": 34,
     "metadata": {},
     "output_type": "execute_result"
    }
   ],
   "source": [
    "from sklearn.linear_model import LinearRegression\n",
    "y = volume_sel.sel(time=slice(100, None)).values\n",
    "x = np.arange(y.size)\n",
    "mod = LinearRegression().fit(x.reshape((-1,1)), y)\n",
    "mod.coef_[0]*100/1e9"
   ]
  },
  {
   "cell_type": "code",
   "execution_count": 35,
   "metadata": {},
   "outputs": [
    {
     "data": {
      "text/plain": [
       "[<matplotlib.lines.Line2D at 0x139ff9908>]"
      ]
     },
     "execution_count": 35,
     "metadata": {},
     "output_type": "execute_result"
    },
    {
     "data": {
      "image/png": "[encoded data removed]",
      "text/plain": [
       "<Figure size 432x288 with 1 Axes>"
      ]
     },
     "metadata": {
      "needs_background": "light"
     },
     "output_type": "display_data"
    }
   ],
   "source": [
    "y = volume_sel.sel(time=slice(100, None)).values\n",
    "plt.plot(y, ls='None', marker='.')\n",
    "plt.plot(x*mod.coef_[0]+mod.intercept_)"
   ]
  },
  {
   "cell_type": "markdown",
   "metadata": {},
   "source": [
    "### Quantitative analysis for Hintereisferner"
   ]
  },
  {
   "cell_type": "code",
   "execution_count": 61,
   "metadata": {},
   "outputs": [],
   "source": [
    "# read dataset\n",
    "path = '/Users/oberrauch/work/master/data/cluster_output/single_glaciers/eq_runs.nc'\n",
    "ds = read_dataset(path)\n",
    "# select Hintereisferner\n",
    "ds = ds.sel(rgi_id='RGI60-11.00897')"
   ]
  },
  {
   "cell_type": "markdown",
   "metadata": {},
   "source": [
    "**Correlation between vas model and flowline model under random climate**"
   ]
  },
  {
   "cell_type": "code",
   "execution_count": 73,
   "metadata": {},
   "outputs": [],
   "source": [
    "# get \n",
    "variables = ['volume', 'area', 'length',]\n",
    "mb_m = 'random'\n",
    "n = True\n",
    "r_data = list()\n",
    "p_data = list()\n",
    "for var in variables:\n",
    "    r_data_ = list()\n",
    "    p_data_ = list()\n",
    "    for b in ds.temp_bias.values:\n",
    "        # select volume from dataset by temperature bias and geometric variable\n",
    "        time_slice = slice(0,1000)\n",
    "        ds_sel = ds.sel(mb_model=mb_m, normalized=n, temp_bias=b).isel(time=time_slice)[var]\n",
    "        # compute correlation and add to container\n",
    "        r, p = pearsonr(ds_sel.sel(model='vas'), ds_sel.sel(model='fl'))\n",
    "        r_data_.append(r)\n",
    "        p_data_.append(p)\n",
    "    r_data.append(r_data_)\n",
    "    p_data.append(p_data_)\n",
    "    \n",
    "df_r = pd.DataFrame(r_data, index=variables, columns=ds.temp_bias.values)\n",
    "df_p = pd.DataFrame(p_data, index=variables, columns=ds.temp_bias.values)"
   ]
  },
  {
   "cell_type": "markdown",
   "metadata": {},
   "source": [
    "Compute and show range of $r$- and $p$-values"
   ]
  },
  {
   "cell_type": "code",
   "execution_count": 74,
   "metadata": {},
   "outputs": [
    {
     "data": {
      "text/html": [
       "<div>\n",
       "<style scoped>\n",
       "    .dataframe tbody tr th:only-of-type {\n",
       "        vertical-align: middle;\n",
       "    }\n",
       "\n",
       "    .dataframe tbody tr th {\n",
       "        vertical-align: top;\n",
       "    }\n",
       "\n",
       "    .dataframe thead th {\n",
       "        text-align: right;\n",
       "    }\n",
       "</style>\n",
       "<table border=\"1\" class=\"dataframe\">\n",
       "  <thead>\n",
       "    <tr style=\"text-align: right;\">\n",
       "      <th></th>\n",
       "      <th>-0.5</th>\n",
       "      <th>0.0</th>\n",
       "      <th>0.5</th>\n",
       "    </tr>\n",
       "  </thead>\n",
       "  <tbody>\n",
       "    <tr>\n",
       "      <th>volume</th>\n",
       "      <td>0.351847</td>\n",
       "      <td>0.583906</td>\n",
       "      <td>0.406146</td>\n",
       "    </tr>\n",
       "    <tr>\n",
       "      <th>area</th>\n",
       "      <td>0.336697</td>\n",
       "      <td>0.475724</td>\n",
       "      <td>0.350043</td>\n",
       "    </tr>\n",
       "    <tr>\n",
       "      <th>length</th>\n",
       "      <td>0.529037</td>\n",
       "      <td>0.520428</td>\n",
       "      <td>0.582786</td>\n",
       "    </tr>\n",
       "  </tbody>\n",
       "</table>\n",
       "</div>"
      ],
      "text/plain": [
       "            -0.5       0.0       0.5\n",
       "volume  0.351847  0.583906  0.406146\n",
       "area    0.336697  0.475724  0.350043\n",
       "length  0.529037  0.520428  0.582786"
      ]
     },
     "execution_count": 74,
     "metadata": {},
     "output_type": "execute_result"
    }
   ],
   "source": [
    "# Pearson correlation coefficient\n",
    "df_r"
   ]
  },
  {
   "cell_type": "code",
   "execution_count": 75,
   "metadata": {},
   "outputs": [
    {
     "name": "stdout",
     "output_type": "stream",
     "text": [
      "Minimum correlation: 0.3366973442986697\n",
      "Maximum correlation: 0.5839061262518078\n"
     ]
    }
   ],
   "source": [
    "print('Minimum correlation:', df_r.min().min())\n",
    "print('Maximum correlation:', df_r.max().max())"
   ]
  },
  {
   "cell_type": "code",
   "execution_count": 76,
   "metadata": {},
   "outputs": [
    {
     "data": {
      "text/html": [
       "<div>\n",
       "<style scoped>\n",
       "    .dataframe tbody tr th:only-of-type {\n",
       "        vertical-align: middle;\n",
       "    }\n",
       "\n",
       "    .dataframe tbody tr th {\n",
       "        vertical-align: top;\n",
       "    }\n",
       "\n",
       "    .dataframe thead th {\n",
       "        text-align: right;\n",
       "    }\n",
       "</style>\n",
       "<table border=\"1\" class=\"dataframe\">\n",
       "  <thead>\n",
       "    <tr style=\"text-align: right;\">\n",
       "      <th></th>\n",
       "      <th>-0.5</th>\n",
       "      <th>0.0</th>\n",
       "      <th>0.5</th>\n",
       "    </tr>\n",
       "  </thead>\n",
       "  <tbody>\n",
       "    <tr>\n",
       "      <th>volume</th>\n",
       "      <td>1.632241e-30</td>\n",
       "      <td>1.890370e-92</td>\n",
       "      <td>5.305373e-41</td>\n",
       "    </tr>\n",
       "    <tr>\n",
       "      <th>area</th>\n",
       "      <td>6.256902e-28</td>\n",
       "      <td>1.310603e-57</td>\n",
       "      <td>3.372926e-30</td>\n",
       "    </tr>\n",
       "    <tr>\n",
       "      <th>length</th>\n",
       "      <td>3.330477e-73</td>\n",
       "      <td>1.705035e-70</td>\n",
       "      <td>5.087519e-92</td>\n",
       "    </tr>\n",
       "  </tbody>\n",
       "</table>\n",
       "</div>"
      ],
      "text/plain": [
       "                -0.5           0.0           0.5\n",
       "volume  1.632241e-30  1.890370e-92  5.305373e-41\n",
       "area    6.256902e-28  1.310603e-57  3.372926e-30\n",
       "length  3.330477e-73  1.705035e-70  5.087519e-92"
      ]
     },
     "execution_count": 76,
     "metadata": {},
     "output_type": "execute_result"
    }
   ],
   "source": [
    "# two-sided p value\n",
    "df_p"
   ]
  },
  {
   "cell_type": "code",
   "execution_count": 77,
   "metadata": {},
   "outputs": [
    {
     "name": "stdout",
     "output_type": "stream",
     "text": [
      "Minimum p-value: 1.8903700076970558e-92\n",
      "Maximum p-value: 6.256901936179863e-28\n"
     ]
    }
   ],
   "source": [
    "print('Minimum p-value:', df_p.min().min())\n",
    "print('Maximum p-value:', df_p.max().max())"
   ]
  },
  {
   "cell_type": "markdown",
   "metadata": {},
   "source": [
    "Create scatter plots"
   ]
  },
  {
   "cell_type": "code",
   "execution_count": 29,
   "metadata": {
    "scrolled": false
   },
   "outputs": [
    {
     "data": {
      "image/png": "[encoded data removed]",
      "text/plain": [
       "<Figure size 432x288 with 1 Axes>"
      ]
     },
     "metadata": {
      "needs_background": "light"
     },
     "output_type": "display_data"
    },
    {
     "data": {
      "image/png": "[encoded data removed]",
      "text/plain": [
       "<Figure size 432x288 with 1 Axes>"
      ]
     },
     "metadata": {
      "needs_background": "light"
     },
     "output_type": "display_data"
    },
    {
     "data": {
      "image/png": "[encoded data removed]",
      "text/plain": [
       "<Figure size 432x288 with 1 Axes>"
      ]
     },
     "metadata": {
      "needs_background": "light"
     },
     "output_type": "display_data"
    },
    {
     "data": {
      "image/png": "[encoded data removed]",
      "text/plain": [
       "<Figure size 432x288 with 1 Axes>"
      ]
     },
     "metadata": {
      "needs_background": "light"
     },
     "output_type": "display_data"
    },
    {
     "data": {
      "image/png": "[encoded data removed]",
      "text/plain": [
       "<Figure size 432x288 with 1 Axes>"
      ]
     },
     "metadata": {
      "needs_background": "light"
     },
     "output_type": "display_data"
    },
    {
     "data": {
      "image/png": "[encoded data removed]",
      "text/plain": [
       "<Figure size 432x288 with 1 Axes>"
      ]
     },
     "metadata": {
      "needs_background": "light"
     },
     "output_type": "display_data"
    },
    {
     "data": {
      "image/png": "[encoded data removed]",
      "text/plain": [
       "<Figure size 432x288 with 1 Axes>"
      ]
     },
     "metadata": {
      "needs_background": "light"
     },
     "output_type": "display_data"
    },
    {
     "data": {
      "image/png": "[encoded data removed]",
      "text/plain": [
       "<Figure size 432x288 with 1 Axes>"
      ]
     },
     "metadata": {
      "needs_background": "light"
     },
     "output_type": "display_data"
    },
    {
     "data": {
      "image/png": "[encoded data removed]",
      "text/plain": [
       "<Figure size 432x288 with 1 Axes>"
      ]
     },
     "metadata": {
      "needs_background": "light"
     },
     "output_type": "display_data"
    }
   ],
   "source": [
    "# get \n",
    "variables = ['volume', 'area', 'length',]\n",
    "mb_m = 'random'\n",
    "n = True\n",
    "data = list()\n",
    "for var in variables:\n",
    "    for b in ds.temp_bias.values:\n",
    "        # select volume from dataset by temperature bias and geometric variable\n",
    "        time_slice = slice(0,1000)\n",
    "        ds_sel = ds.sel(mb_model=mb_m, normalized=n, temp_bias=b).isel(time=time_slice)[var]\n",
    "        plt.figure()\n",
    "        plt.scatter(ds_sel.sel(model='fl'), ds_sel.sel(model='vas'))\n",
    "        plt.title(var)\n",
    "        plt.xlabel('Flowline model')\n",
    "        plt.xlabel('VAS model')"
   ]
  },
  {
   "cell_type": "markdown",
   "metadata": {},
   "source": [
    "**Response times $\\tau$**"
   ]
  },
  {
   "cell_type": "code",
   "execution_count": 78,
   "metadata": {},
   "outputs": [
    {
     "data": {
      "text/html": [
       "<div>\n",
       "<style scoped>\n",
       "    .dataframe tbody tr th:only-of-type {\n",
       "        vertical-align: middle;\n",
       "    }\n",
       "\n",
       "    .dataframe tbody tr th {\n",
       "        vertical-align: top;\n",
       "    }\n",
       "\n",
       "    .dataframe thead tr th {\n",
       "        text-align: left;\n",
       "    }\n",
       "</style>\n",
       "<table border=\"1\" class=\"dataframe\">\n",
       "  <thead>\n",
       "    <tr>\n",
       "      <th></th>\n",
       "      <th colspan=\"2\" halign=\"left\">vas</th>\n",
       "      <th colspan=\"2\" halign=\"left\">fl</th>\n",
       "    </tr>\n",
       "    <tr>\n",
       "      <th></th>\n",
       "      <th>-0.5</th>\n",
       "      <th>0.5</th>\n",
       "      <th>-0.5</th>\n",
       "      <th>0.5</th>\n",
       "    </tr>\n",
       "  </thead>\n",
       "  <tbody>\n",
       "    <tr>\n",
       "      <th>volume</th>\n",
       "      <td>24</td>\n",
       "      <td>22</td>\n",
       "      <td>142</td>\n",
       "      <td>80</td>\n",
       "    </tr>\n",
       "    <tr>\n",
       "      <th>area</th>\n",
       "      <td>36</td>\n",
       "      <td>33</td>\n",
       "      <td>160</td>\n",
       "      <td>111</td>\n",
       "    </tr>\n",
       "    <tr>\n",
       "      <th>length</th>\n",
       "      <td>55</td>\n",
       "      <td>52</td>\n",
       "      <td>184</td>\n",
       "      <td>118</td>\n",
       "    </tr>\n",
       "  </tbody>\n",
       "</table>\n",
       "</div>"
      ],
      "text/plain": [
       "        vas        fl     \n",
       "       -0.5  0.5 -0.5  0.5\n",
       "volume   24   22  142   80\n",
       "area     36   33  160  111\n",
       "length   55   52  184  118"
      ]
     },
     "execution_count": 78,
     "metadata": {},
     "output_type": "execute_result"
    }
   ],
   "source": [
    "variables = ['volume', 'area', 'length',]\n",
    "temp_biases = [-0.5, +0.5]\n",
    "data = list()\n",
    "for var in variables:\n",
    "    data_ = list()\n",
    "    for m in ds.model.values:\n",
    "        data__ = list()\n",
    "        for b in temp_biases:\n",
    "            ds_sel = ds.sel(mb_model='constant', model=m, temp_bias=b)\n",
    "            vol = ds_sel.sel(normalized=1)[var]\n",
    "            vol_eq = vol.isel(time=slice(800,1000)).mean()\n",
    "            vol_eq_dif = np.abs(vol_eq - vol.isel(time=0))\n",
    "            vol_dif = np.abs(vol_eq - vol)\n",
    "            data__.append(int(vol.where(vol_dif < vol_eq_dif*np.exp(-1), drop=True).isel(time=0)['time'].values))\n",
    "        data_.extend(data__)\n",
    "    data.append(data_)\n",
    "    \n",
    "tau = pd.DataFrame(data, columns=pd.MultiIndex.from_tuples(list(zip(np.repeat(ds.model.values, 2),\n",
    "                                                                    np.tile(temp_biases, 2)))),\n",
    "                   index=variables)\n",
    "tau"
   ]
  },
  {
   "cell_type": "code",
   "execution_count": 95,
   "metadata": {},
   "outputs": [],
   "source": [
    "def rel_dif(a,b):\n",
    "    \"\"\"Compute relative difference between a and b\"\"\"\n",
    "    return abs(a-b)/((a+b)/2)\n",
    "\n",
    "# test\n",
    "i = 4.89\n",
    "p = 5.26\n",
    "n = 4.52\n",
    "assert(rel_dif(abs(i-n),abs(i-p)) == 0)"
   ]
  },
  {
   "cell_type": "code",
   "execution_count": 97,
   "metadata": {},
   "outputs": [
    {
     "name": "stdout",
     "output_type": "stream",
     "text": [
      "VAS volume: 0.09\n",
      "FL volume: 0.56\n",
      "VAS area: 0.09\n",
      "FL area: 0.36\n",
      "VAS length: 0.06\n",
      "FL length: 0.44\n"
     ]
    }
   ],
   "source": [
    "# compute relative difference in tau between pos and neg temperature bias\n",
    "for var, row in tau.iterrows():\n",
    "    rd = rel_dif(row['vas'][-0.5], row['vas'][+0.5])\n",
    "    print('VAS {}: {:.2f}'.format(var, rd))\n",
    "    rd = rel_dif(row['fl'][-0.5], row['fl'][+0.5])\n",
    "    print('FL {}: {:.2f}'.format(var, rd))"
   ]
  },
  {
   "cell_type": "markdown",
   "metadata": {},
   "source": [
    "**Equilibrium values**"
   ]
  },
  {
   "cell_type": "markdown",
   "metadata": {},
   "source": [
    "Compute fluctuations of the equilibrium value over the last 200 years of the simulation. This is done by computing the  relative difference (see above) between minimum and maximum value in that period. The table shows the results in percent."
   ]
  },
  {
   "cell_type": "code",
   "execution_count": 114,
   "metadata": {},
   "outputs": [
    {
     "data": {
      "text/html": [
       "<div>\n",
       "<style scoped>\n",
       "    .dataframe tbody tr th:only-of-type {\n",
       "        vertical-align: middle;\n",
       "    }\n",
       "\n",
       "    .dataframe tbody tr th {\n",
       "        vertical-align: top;\n",
       "    }\n",
       "\n",
       "    .dataframe thead tr th {\n",
       "        text-align: left;\n",
       "    }\n",
       "</style>\n",
       "<table border=\"1\" class=\"dataframe\">\n",
       "  <thead>\n",
       "    <tr>\n",
       "      <th></th>\n",
       "      <th colspan=\"2\" halign=\"left\">-0.5</th>\n",
       "      <th colspan=\"2\" halign=\"left\">0.5</th>\n",
       "    </tr>\n",
       "    <tr>\n",
       "      <th></th>\n",
       "      <th>vas</th>\n",
       "      <th>fl</th>\n",
       "      <th>vas</th>\n",
       "      <th>fl</th>\n",
       "    </tr>\n",
       "  </thead>\n",
       "  <tbody>\n",
       "    <tr>\n",
       "      <th>volume</th>\n",
       "      <td>0.00%</td>\n",
       "      <td>0.02%</td>\n",
       "      <td>0.00%</td>\n",
       "      <td>0.00%</td>\n",
       "    </tr>\n",
       "    <tr>\n",
       "      <th>area</th>\n",
       "      <td>0.00%</td>\n",
       "      <td>0.03%</td>\n",
       "      <td>0.00%</td>\n",
       "      <td>0.01%</td>\n",
       "    </tr>\n",
       "    <tr>\n",
       "      <th>length</th>\n",
       "      <td>0.00%</td>\n",
       "      <td>0.00%</td>\n",
       "      <td>0.00%</td>\n",
       "      <td>0.00%</td>\n",
       "    </tr>\n",
       "  </tbody>\n",
       "</table>\n",
       "</div>"
      ],
      "text/plain": [
       "         -0.5           0.5       \n",
       "          vas     fl    vas     fl\n",
       "volume  0.00%  0.02%  0.00%  0.00%\n",
       "area    0.00%  0.03%  0.00%  0.01%\n",
       "length  0.00%  0.00%  0.00%  0.00%"
      ]
     },
     "execution_count": 114,
     "metadata": {},
     "output_type": "execute_result"
    }
   ],
   "source": [
    "var = ''\n",
    "data = list()\n",
    "variables = ['volume', 'area', 'length',]\n",
    "models = ['vas', 'fl']\n",
    "temp_biases = [+0.5, -0.5]\n",
    "for var in variables:\n",
    "    data_ = list()\n",
    "    for m in models:\n",
    "        data__ = list()\n",
    "        for b in temp_biases:\n",
    "            ds_sel = ds.sel(mb_model='constant', model=m, temp_bias=b, normalized=True).isel(time=slice(-200, None))[var]\n",
    "            \n",
    "            rd = rel_dif(min(ds_sel).values, max(ds_sel).values)\n",
    "            data__.append(f'{rd*100:.2f}%')\n",
    "        data_.extend(data__)\n",
    "    data.append(data_)\n",
    "    \n",
    "columns = pd.MultiIndex.from_tuples(list(zip(np.tile(temp_biases, 2),\n",
    "                                             np.repeat(models, 2))))\n",
    "\n",
    "eq_fluctuations = pd.DataFrame(data, index=variables, columns=columns).T.sort_index(level=0, sort_remaining=False, ascending=True)\n",
    "eq_fluctuations.T"
   ]
  },
  {
   "cell_type": "markdown",
   "metadata": {},
   "source": [
    "Compute new equilibrium values for runs with temperature perturbation. Table shows absolute and relative values."
   ]
  },
  {
   "cell_type": "code",
   "execution_count": 100,
   "metadata": {},
   "outputs": [
    {
     "data": {
      "text/html": [
       "<div>\n",
       "<style scoped>\n",
       "    .dataframe tbody tr th:only-of-type {\n",
       "        vertical-align: middle;\n",
       "    }\n",
       "\n",
       "    .dataframe tbody tr th {\n",
       "        vertical-align: top;\n",
       "    }\n",
       "\n",
       "    .dataframe thead tr th {\n",
       "        text-align: left;\n",
       "    }\n",
       "</style>\n",
       "<table border=\"1\" class=\"dataframe\">\n",
       "  <thead>\n",
       "    <tr>\n",
       "      <th></th>\n",
       "      <th colspan=\"2\" halign=\"left\">-0.5</th>\n",
       "      <th colspan=\"2\" halign=\"left\">0.5</th>\n",
       "    </tr>\n",
       "    <tr>\n",
       "      <th></th>\n",
       "      <th>vas</th>\n",
       "      <th>fl</th>\n",
       "      <th>vas</th>\n",
       "      <th>fl</th>\n",
       "    </tr>\n",
       "  </thead>\n",
       "  <tbody>\n",
       "    <tr>\n",
       "      <th>volume</th>\n",
       "      <td>6.95e+08 (117%)</td>\n",
       "      <td>1.38e+09 (172%)</td>\n",
       "      <td>5.04e+08 (85%)</td>\n",
       "      <td>4.62e+08 (58%)</td>\n",
       "    </tr>\n",
       "    <tr>\n",
       "      <th>area</th>\n",
       "      <td>8.98e+06 (112%)</td>\n",
       "      <td>1.06e+07 (133%)</td>\n",
       "      <td>7.12e+06 (89%)</td>\n",
       "      <td>6.16e+06 (77%)</td>\n",
       "    </tr>\n",
       "    <tr>\n",
       "      <th>length</th>\n",
       "      <td>5.25e+03 (107%)</td>\n",
       "      <td>9.80e+03 (142%)</td>\n",
       "      <td>4.54e+03 (93%)</td>\n",
       "      <td>3.80e+03 (55%)</td>\n",
       "    </tr>\n",
       "  </tbody>\n",
       "</table>\n",
       "</div>"
      ],
      "text/plain": [
       "                   -0.5                              0.5                \n",
       "                    vas               fl             vas              fl\n",
       "volume  6.95e+08 (117%)  1.38e+09 (172%)  5.04e+08 (85%)  4.62e+08 (58%)\n",
       "area    8.98e+06 (112%)  1.06e+07 (133%)  7.12e+06 (89%)  6.16e+06 (77%)\n",
       "length  5.25e+03 (107%)  9.80e+03 (142%)  4.54e+03 (93%)  3.80e+03 (55%)"
      ]
     },
     "execution_count": 100,
     "metadata": {},
     "output_type": "execute_result"
    }
   ],
   "source": [
    "var = ''\n",
    "data = list()\n",
    "variables = ['volume', 'area', 'length',]\n",
    "models = ['vas', 'fl']\n",
    "temp_biases = [+0.5, -0.5]\n",
    "for var in variables:\n",
    "    data_ = list()\n",
    "    for m in models:\n",
    "        data__ = list()\n",
    "        for b in temp_biases:\n",
    "            ds_sel = ds.sel(mb_model='constant', model=m, temp_bias=b)\n",
    "            avg_abs = ds_sel.sel(normalized=False, time=999)[var].values\n",
    "            avg_norm = ds_sel.sel(normalized=True, time=999)[var].values\n",
    "            data__.append('{:.2e} ({:.0f}%)'.format(avg_abs, avg_norm*1e2))\n",
    "        data_.extend(data__)\n",
    "    data.append(data_)\n",
    "    \n",
    "columns = pd.MultiIndex.from_tuples(list(zip(np.tile(temp_biases, 2),\n",
    "                                             np.repeat(models, 2))))\n",
    "\n",
    "eq_values = pd.DataFrame(data, index=variables, columns=columns).T.sort_index(level=0, sort_remaining=False, ascending=True)\n",
    "eq_values.T"
   ]
  },
  {
   "cell_type": "markdown",
   "metadata": {},
   "source": [
    "Compute maximum year-to-year length variation estimated by the VAS model"
   ]
  },
  {
   "cell_type": "code",
   "execution_count": 147,
   "metadata": {},
   "outputs": [
    {
     "data": {
      "text/plain": [
       "{'whiskers': [<matplotlib.lines.Line2D at 0x13b1a6b70>,\n",
       "  <matplotlib.lines.Line2D at 0x13b1a6e48>],\n",
       " 'caps': [<matplotlib.lines.Line2D at 0x13b1b0160>,\n",
       "  <matplotlib.lines.Line2D at 0x13b1b0438>],\n",
       " 'boxes': [<matplotlib.lines.Line2D at 0x13b1a6908>],\n",
       " 'medians': [<matplotlib.lines.Line2D at 0x13b1b0710>],\n",
       " 'fliers': [<matplotlib.lines.Line2D at 0x13b1b09e8>],\n",
       " 'means': []}"
      ]
     },
     "execution_count": 147,
     "metadata": {},
     "output_type": "execute_result"
    },
    {
     "data": {
      "image/png": "[encoded data removed]",
      "text/plain": [
       "<Figure size 432x288 with 1 Axes>"
      ]
     },
     "metadata": {
      "needs_background": "light"
     },
     "output_type": "display_data"
    }
   ],
   "source": [
    "vas_length = ds.sel(model='vas', normalized=False).length\n",
    "plt.boxplot(vas_length.diff(dim='time').values.flatten())"
   ]
  },
  {
   "cell_type": "code",
   "execution_count": 150,
   "metadata": {},
   "outputs": [
    {
     "data": {
      "text/html": [
       "<div>\n",
       "<style scoped>\n",
       "    .dataframe tbody tr th:only-of-type {\n",
       "        vertical-align: middle;\n",
       "    }\n",
       "\n",
       "    .dataframe tbody tr th {\n",
       "        vertical-align: top;\n",
       "    }\n",
       "\n",
       "    .dataframe thead th {\n",
       "        text-align: right;\n",
       "    }\n",
       "</style>\n",
       "<table border=\"1\" class=\"dataframe\">\n",
       "  <thead>\n",
       "    <tr style=\"text-align: right;\">\n",
       "      <th></th>\n",
       "      <th>0</th>\n",
       "    </tr>\n",
       "  </thead>\n",
       "  <tbody>\n",
       "    <tr>\n",
       "      <th>count</th>\n",
       "      <td>6.000000e+03</td>\n",
       "    </tr>\n",
       "    <tr>\n",
       "      <th>mean</th>\n",
       "      <td>3.925596e-02</td>\n",
       "    </tr>\n",
       "    <tr>\n",
       "      <th>std</th>\n",
       "      <td>1.876294e+00</td>\n",
       "    </tr>\n",
       "    <tr>\n",
       "      <th>min</th>\n",
       "      <td>-1.146011e+01</td>\n",
       "    </tr>\n",
       "    <tr>\n",
       "      <th>25%</th>\n",
       "      <td>-2.223657e-01</td>\n",
       "    </tr>\n",
       "    <tr>\n",
       "      <th>50%</th>\n",
       "      <td>2.799470e-08</td>\n",
       "    </tr>\n",
       "    <tr>\n",
       "      <th>75%</th>\n",
       "      <td>5.305154e-01</td>\n",
       "    </tr>\n",
       "    <tr>\n",
       "      <th>max</th>\n",
       "      <td>7.971097e+00</td>\n",
       "    </tr>\n",
       "  </tbody>\n",
       "</table>\n",
       "</div>"
      ],
      "text/plain": [
       "                  0\n",
       "count  6.000000e+03\n",
       "mean   3.925596e-02\n",
       "std    1.876294e+00\n",
       "min   -1.146011e+01\n",
       "25%   -2.223657e-01\n",
       "50%    2.799470e-08\n",
       "75%    5.305154e-01\n",
       "max    7.971097e+00"
      ]
     },
     "execution_count": 150,
     "metadata": {},
     "output_type": "execute_result"
    }
   ],
   "source": [
    "pd.DataFrame(vas_length.diff(dim='time').values.flatten()).describe()"
   ]
  },
  {
   "cell_type": "code",
   "execution_count": 142,
   "metadata": {},
   "outputs": [
    {
     "name": "stdout",
     "output_type": "stream",
     "text": [
      "Maximum year-to-year length change: 11 m\n"
     ]
    }
   ],
   "source": [
    "max_dl = abs(vas_length.diff(dim='time').values).flatten().max()\n",
    "print(f'Maximum year-to-year length change: {max_dl:.0f} m')"
   ]
  },
  {
   "cell_type": "markdown",
   "metadata": {},
   "source": [
    "Get HEF length records and take a look..."
   ]
  },
  {
   "cell_type": "code",
   "execution_count": 131,
   "metadata": {},
   "outputs": [],
   "source": [
    "from oggm import utils"
   ]
  },
  {
   "cell_type": "code",
   "execution_count": 141,
   "metadata": {},
   "outputs": [
    {
     "data": {
      "text/plain": [
       "<AxesSubplot:>"
      ]
     },
     "execution_count": 141,
     "metadata": {},
     "output_type": "execute_result"
    },
    {
     "data": {
      "image/png": "[encoded data removed]",
      "text/plain": [
       "<Figure size 432x288 with 1 Axes>"
      ]
     },
     "metadata": {
      "needs_background": "light"
     },
     "output_type": "display_data"
    }
   ],
   "source": [
    "hef_leclercq = pd.read_csv(utils.get_demo_file('hef_lengths.csv'), index_col=0)\n",
    "hef_dl = hef_leclercq.diff()[1:]\n",
    "hef_dl.loc[1939:].boxplot()"
   ]
  },
  {
   "cell_type": "code",
   "execution_count": 151,
   "metadata": {},
   "outputs": [
    {
     "data": {
      "text/html": [
       "<div>\n",
       "<style scoped>\n",
       "    .dataframe tbody tr th:only-of-type {\n",
       "        vertical-align: middle;\n",
       "    }\n",
       "\n",
       "    .dataframe tbody tr th {\n",
       "        vertical-align: top;\n",
       "    }\n",
       "\n",
       "    .dataframe thead th {\n",
       "        text-align: right;\n",
       "    }\n",
       "</style>\n",
       "<table border=\"1\" class=\"dataframe\">\n",
       "  <thead>\n",
       "    <tr style=\"text-align: right;\">\n",
       "      <th></th>\n",
       "      <th>dl</th>\n",
       "    </tr>\n",
       "  </thead>\n",
       "  <tbody>\n",
       "    <tr>\n",
       "      <th>count</th>\n",
       "      <td>65.000000</td>\n",
       "    </tr>\n",
       "    <tr>\n",
       "      <th>mean</th>\n",
       "      <td>-24.676923</td>\n",
       "    </tr>\n",
       "    <tr>\n",
       "      <th>std</th>\n",
       "      <td>23.499407</td>\n",
       "    </tr>\n",
       "    <tr>\n",
       "      <th>min</th>\n",
       "      <td>-110.000000</td>\n",
       "    </tr>\n",
       "    <tr>\n",
       "      <th>25%</th>\n",
       "      <td>-30.000000</td>\n",
       "    </tr>\n",
       "    <tr>\n",
       "      <th>50%</th>\n",
       "      <td>-19.000000</td>\n",
       "    </tr>\n",
       "    <tr>\n",
       "      <th>75%</th>\n",
       "      <td>-12.000000</td>\n",
       "    </tr>\n",
       "    <tr>\n",
       "      <th>max</th>\n",
       "      <td>58.000000</td>\n",
       "    </tr>\n",
       "  </tbody>\n",
       "</table>\n",
       "</div>"
      ],
      "text/plain": [
       "               dl\n",
       "count   65.000000\n",
       "mean   -24.676923\n",
       "std     23.499407\n",
       "min   -110.000000\n",
       "25%    -30.000000\n",
       "50%    -19.000000\n",
       "75%    -12.000000\n",
       "max     58.000000"
      ]
     },
     "execution_count": 151,
     "metadata": {},
     "output_type": "execute_result"
    }
   ],
   "source": [
    "hef_dl.loc[1939:].describe()"
   ]
  },
  {
   "cell_type": "markdown",
   "metadata": {},
   "source": [
    "Legacy code block... can be ignored!"
   ]
  },
  {
   "cell_type": "code",
   "execution_count": 79,
   "metadata": {
    "scrolled": false
   },
   "outputs": [
    {
     "data": {
      "text/html": [
       "<div>\n",
       "<style scoped>\n",
       "    .dataframe tbody tr th:only-of-type {\n",
       "        vertical-align: middle;\n",
       "    }\n",
       "\n",
       "    .dataframe tbody tr th {\n",
       "        vertical-align: top;\n",
       "    }\n",
       "\n",
       "    .dataframe thead tr th {\n",
       "        text-align: left;\n",
       "    }\n",
       "</style>\n",
       "<table border=\"1\" class=\"dataframe\">\n",
       "  <thead>\n",
       "    <tr>\n",
       "      <th></th>\n",
       "      <th colspan=\"4\" halign=\"left\">vas</th>\n",
       "      <th colspan=\"4\" halign=\"left\">fl</th>\n",
       "    </tr>\n",
       "    <tr>\n",
       "      <th></th>\n",
       "      <th colspan=\"2\" halign=\"left\">-0.5</th>\n",
       "      <th colspan=\"2\" halign=\"left\">0.5</th>\n",
       "      <th colspan=\"2\" halign=\"left\">-0.5</th>\n",
       "      <th colspan=\"2\" halign=\"left\">0.5</th>\n",
       "    </tr>\n",
       "    <tr>\n",
       "      <th></th>\n",
       "      <th>abs</th>\n",
       "      <th>norm</th>\n",
       "      <th>abs</th>\n",
       "      <th>norm</th>\n",
       "      <th>abs</th>\n",
       "      <th>norm</th>\n",
       "      <th>abs</th>\n",
       "      <th>norm</th>\n",
       "    </tr>\n",
       "  </thead>\n",
       "  <tbody>\n",
       "    <tr>\n",
       "      <th>length</th>\n",
       "      <td>5246.763483635936</td>\n",
       "      <td>1.0719413014307444</td>\n",
       "      <td>4536.313119728504</td>\n",
       "      <td>0.9267925654406237</td>\n",
       "      <td>9800.0</td>\n",
       "      <td>1.4202898550724639</td>\n",
       "      <td>3800.0</td>\n",
       "      <td>0.5507246376811594</td>\n",
       "    </tr>\n",
       "    <tr>\n",
       "      <th>area</th>\n",
       "      <td>8980768.567467334</td>\n",
       "      <td>1.117567019346358</td>\n",
       "      <td>7115608.018185488</td>\n",
       "      <td>0.8854664034576267</td>\n",
       "      <td>10639431.256430216</td>\n",
       "      <td>1.3287092480264158</td>\n",
       "      <td>6158349.376002476</td>\n",
       "      <td>0.7690877050901378</td>\n",
       "    </tr>\n",
       "    <tr>\n",
       "      <th>volume</th>\n",
       "      <td>694767446.092732</td>\n",
       "      <td>1.1651348504414136</td>\n",
       "      <td>504457846.66868895</td>\n",
       "      <td>0.845982955934108</td>\n",
       "      <td>1378865155.8170373</td>\n",
       "      <td>1.7234213227964805</td>\n",
       "      <td>461545414.4412079</td>\n",
       "      <td>0.5768781706689696</td>\n",
       "    </tr>\n",
       "  </tbody>\n",
       "</table>\n",
       "</div>"
      ],
      "text/plain": [
       "                      vas                                          \\\n",
       "                     -0.5                                     0.5   \n",
       "                      abs                norm                 abs   \n",
       "length  5246.763483635936  1.0719413014307444   4536.313119728504   \n",
       "area    8980768.567467334   1.117567019346358   7115608.018185488   \n",
       "volume   694767446.092732  1.1651348504414136  504457846.66868895   \n",
       "\n",
       "                                            fl                      \\\n",
       "                                          -0.5                       \n",
       "                      norm                 abs                norm   \n",
       "length  0.9267925654406237              9800.0  1.4202898550724639   \n",
       "area    0.8854664034576267  10639431.256430216  1.3287092480264158   \n",
       "volume   0.845982955934108  1378865155.8170373  1.7234213227964805   \n",
       "\n",
       "                                               \n",
       "                      0.5                      \n",
       "                      abs                norm  \n",
       "length             3800.0  0.5507246376811594  \n",
       "area    6158349.376002476  0.7690877050901378  \n",
       "volume  461545414.4412079  0.5768781706689696  "
      ]
     },
     "execution_count": 79,
     "metadata": {},
     "output_type": "execute_result"
    }
   ],
   "source": [
    "data = list()\n",
    "variables = ['length', 'area', 'volume']\n",
    "temp_biases = [-0.5, +0.5]\n",
    "for var in variables:\n",
    "    data_ = list()\n",
    "    for m in ds.model.values:\n",
    "        data__ = list()\n",
    "        for b in temp_biases:\n",
    "            ds_sel = ds.sel(mb_model='constant', model=m, temp_bias=b)\n",
    "            avg_abs = ds_sel.sel(normalized=False, time=1000)[var].mean().values\n",
    "            avg_norm = ds_sel.sel(normalized=True, time=1000)[var].mean().values\n",
    "            data__.extend([avg_abs, avg_norm])\n",
    "        data_.extend(data__)\n",
    "    data.append(data_)\n",
    "    \n",
    "columns = pd.MultiIndex.from_tuples(list(zip(np.repeat(ds.model.values, 4),\n",
    "                                             np.tile(np.repeat(temp_biases, 2), 2),\n",
    "                                             np.tile(['abs', 'norm'], 4))))\n",
    "\n",
    "pd.DataFrame(data, index=variables, columns=columns)"
   ]
  },
  {
   "cell_type": "markdown",
   "metadata": {},
   "source": [
    "**Initial values**\n",
    "\n",
    "Compute and show the initial values."
   ]
  },
  {
   "cell_type": "code",
   "execution_count": 116,
   "metadata": {},
   "outputs": [
    {
     "name": "stdout",
     "output_type": "stream",
     "text": [
      "800074327.49\n",
      "8007343.42\n",
      "6900.00\n",
      "596297884.17\n",
      "8036000.00\n",
      "4894.64\n"
     ]
    },
    {
     "data": {
      "text/plain": [
       "(0.0, 10.0)"
      ]
     },
     "execution_count": 116,
     "metadata": {},
     "output_type": "execute_result"
    },
    {
     "data": {
      "image/png": "[encoded data removed]",
      "text/plain": [
       "<Figure size 432x288 with 1 Axes>"
      ]
     },
     "metadata": {
      "needs_background": "light"
     },
     "output_type": "display_data"
    }
   ],
   "source": [
    "model = 'vas', 'flowline'\n",
    "for i, model in enumerate(models[::-1]):\n",
    "    ds_plot = ds.sel(normalized=False, time=0, mb_model='constant', temp_bias=0, model=model)\n",
    "    x = np.array([0,1.5,3])+0.25+i*0.5\n",
    "    values = ds_plot.volume, ds_plot.area, ds_plot.length\n",
    "    height = ds_plot.volume/1e9, ds_plot.area/1e6, ds_plot.length/1e3\n",
    "    plt.barh(x, height, label=model, height=0.5)\n",
    "\n",
    "    for x_, y, v in zip(x, height, values):\n",
    "        plt.text(y + 0.5, x_, '{:.2f}'.format(v.values), rotation=0)\n",
    "        print('{:.2f}'.format(v.values))\n",
    "    \n",
    "plt.legend(loc=4)\n",
    "plt.yticks([0.5, 2, 3.5], variables)\n",
    "plt.xlim([0, 10])"
   ]
  },
  {
   "cell_type": "code",
   "execution_count": null,
   "metadata": {},
   "outputs": [],
   "source": []
  },
  {
   "cell_type": "code",
   "execution_count": null,
   "metadata": {},
   "outputs": [],
   "source": []
  },
  {
   "cell_type": "code",
   "execution_count": null,
   "metadata": {},
   "outputs": [],
   "source": []
  },
  {
   "cell_type": "code",
   "execution_count": 86,
   "metadata": {},
   "outputs": [
    {
     "data": {
      "text/plain": [
       "([<matplotlib.axis.XTick at 0x13b4712b0>,\n",
       "  <matplotlib.axis.XTick at 0x13b471780>],\n",
       " [Text(0.5, 0, 'vas'), Text(3.5, 0, 'flowline')])"
      ]
     },
     "execution_count": 86,
     "metadata": {},
     "output_type": "execute_result"
    },
    {
     "data": {
      "image/png": "[encoded data removed]",
      "text/plain": [
       "<Figure size 432x288 with 1 Axes>"
      ]
     },
     "metadata": {
      "needs_background": "light"
     },
     "output_type": "display_data"
    }
   ],
   "source": [
    "for i, var in enumerate(variables[::-1]):\n",
    "    ds_plot = ds.sel(normalized=False, time=0, mb_model='constant', temp_bias=0)\n",
    "    x = np.array([0,3])\n",
    "    plt.bar(x+(i*0.5), ds_plot[var]/10**(3*(i+1)), label='{}'.format(var), width=0.5)\n",
    "\n",
    "plt.legend()\n",
    "plt.xticks([0.5, 3.5], ['vas', 'flowline'])"
   ]
  },
  {
   "cell_type": "code",
   "execution_count": 87,
   "metadata": {},
   "outputs": [
    {
     "data": {
      "text/html": [
       "<div><svg style=\"position: absolute; width: 0; height: 0; overflow: hidden\">\n",
       "<defs>\n",
       "<symbol id=\"icon-database\" viewBox=\"0 0 32 32\">\n",
       "<path d=\"M16 0c-8.837 0-16 2.239-16 5v4c0 2.761 7.163 5 16 5s16-2.239 16-5v-4c0-2.761-7.163-5-16-5z\"></path>\n",
       "<path d=\"M16 17c-8.837 0-16-2.239-16-5v6c0 2.761 7.163 5 16 5s16-2.239 16-5v-6c0 2.761-7.163 5-16 5z\"></path>\n",
       "<path d=\"M16 26c-8.837 0-16-2.239-16-5v6c0 2.761 7.163 5 16 5s16-2.239 16-5v-6c0 2.761-7.163 5-16 5z\"></path>\n",
       "</symbol>\n",
       "<symbol id=\"icon-file-text2\" viewBox=\"0 0 32 32\">\n",
       "<path d=\"M28.681 7.159c-0.694-0.947-1.662-2.053-2.724-3.116s-2.169-2.030-3.116-2.724c-1.612-1.182-2.393-1.319-2.841-1.319h-15.5c-1.378 0-2.5 1.121-2.5 2.5v27c0 1.378 1.122 2.5 2.5 2.5h23c1.378 0 2.5-1.122 2.5-2.5v-19.5c0-0.448-0.137-1.23-1.319-2.841zM24.543 5.457c0.959 0.959 1.712 1.825 2.268 2.543h-4.811v-4.811c0.718 0.556 1.584 1.309 2.543 2.268zM28 29.5c0 0.271-0.229 0.5-0.5 0.5h-23c-0.271 0-0.5-0.229-0.5-0.5v-27c0-0.271 0.229-0.5 0.5-0.5 0 0 15.499-0 15.5 0v7c0 0.552 0.448 1 1 1h7v19.5z\"></path>\n",
       "<path d=\"M23 26h-14c-0.552 0-1-0.448-1-1s0.448-1 1-1h14c0.552 0 1 0.448 1 1s-0.448 1-1 1z\"></path>\n",
       "<path d=\"M23 22h-14c-0.552 0-1-0.448-1-1s0.448-1 1-1h14c0.552 0 1 0.448 1 1s-0.448 1-1 1z\"></path>\n",
       "<path d=\"M23 18h-14c-0.552 0-1-0.448-1-1s0.448-1 1-1h14c0.552 0 1 0.448 1 1s-0.448 1-1 1z\"></path>\n",
       "</symbol>\n",
       "</defs>\n",
       "</svg>\n",
       "<style>/* CSS stylesheet for displaying xarray objects in jupyterlab.\n",
       " *\n",
       " */\n",
       "\n",
       ":root {\n",
       "  --xr-font-color0: var(--jp-content-font-color0, rgba(0, 0, 0, 1));\n",
       "  --xr-font-color2: var(--jp-content-font-color2, rgba(0, 0, 0, 0.54));\n",
       "  --xr-font-color3: var(--jp-content-font-color3, rgba(0, 0, 0, 0.38));\n",
       "  --xr-border-color: var(--jp-border-color2, #e0e0e0);\n",
       "  --xr-disabled-color: var(--jp-layout-color3, #bdbdbd);\n",
       "  --xr-background-color: var(--jp-layout-color0, white);\n",
       "  --xr-background-color-row-even: var(--jp-layout-color1, white);\n",
       "  --xr-background-color-row-odd: var(--jp-layout-color2, #eeeeee);\n",
       "}\n",
       "\n",
       "html[theme=dark],\n",
       "body.vscode-dark {\n",
       "  --xr-font-color0: rgba(255, 255, 255, 1);\n",
       "  --xr-font-color2: rgba(255, 255, 255, 0.54);\n",
       "  --xr-font-color3: rgba(255, 255, 255, 0.38);\n",
       "  --xr-border-color: #1F1F1F;\n",
       "  --xr-disabled-color: #515151;\n",
       "  --xr-background-color: #111111;\n",
       "  --xr-background-color-row-even: #111111;\n",
       "  --xr-background-color-row-odd: #313131;\n",
       "}\n",
       "\n",
       ".xr-wrap {\n",
       "  display: block;\n",
       "  min-width: 300px;\n",
       "  max-width: 700px;\n",
       "}\n",
       "\n",
       ".xr-text-repr-fallback {\n",
       "  /* fallback to plain text repr when CSS is not injected (untrusted notebook) */\n",
       "  display: none;\n",
       "}\n",
       "\n",
       ".xr-header {\n",
       "  padding-top: 6px;\n",
       "  padding-bottom: 6px;\n",
       "  margin-bottom: 4px;\n",
       "  border-bottom: solid 1px var(--xr-border-color);\n",
       "}\n",
       "\n",
       ".xr-header > div,\n",
       ".xr-header > ul {\n",
       "  display: inline;\n",
       "  margin-top: 0;\n",
       "  margin-bottom: 0;\n",
       "}\n",
       "\n",
       ".xr-obj-type,\n",
       ".xr-array-name {\n",
       "  margin-left: 2px;\n",
       "  margin-right: 10px;\n",
       "}\n",
       "\n",
       ".xr-obj-type {\n",
       "  color: var(--xr-font-color2);\n",
       "}\n",
       "\n",
       ".xr-sections {\n",
       "  padding-left: 0 !important;\n",
       "  display: grid;\n",
       "  grid-template-columns: 150px auto auto 1fr 20px 20px;\n",
       "}\n",
       "\n",
       ".xr-section-item {\n",
       "  display: contents;\n",
       "}\n",
       "\n",
       ".xr-section-item input {\n",
       "  display: none;\n",
       "}\n",
       "\n",
       ".xr-section-item input + label {\n",
       "  color: var(--xr-disabled-color);\n",
       "}\n",
       "\n",
       ".xr-section-item input:enabled + label {\n",
       "  cursor: pointer;\n",
       "  color: var(--xr-font-color2);\n",
       "}\n",
       "\n",
       ".xr-section-item input:enabled + label:hover {\n",
       "  color: var(--xr-font-color0);\n",
       "}\n",
       "\n",
       ".xr-section-summary {\n",
       "  grid-column: 1;\n",
       "  color: var(--xr-font-color2);\n",
       "  font-weight: 500;\n",
       "}\n",
       "\n",
       ".xr-section-summary > span {\n",
       "  display: inline-block;\n",
       "  padding-left: 0.5em;\n",
       "}\n",
       "\n",
       ".xr-section-summary-in:disabled + label {\n",
       "  color: var(--xr-font-color2);\n",
       "}\n",
       "\n",
       ".xr-section-summary-in + label:before {\n",
       "  display: inline-block;\n",
       "  content: '►';\n",
       "  font-size: 11px;\n",
       "  width: 15px;\n",
       "  text-align: center;\n",
       "}\n",
       "\n",
       ".xr-section-summary-in:disabled + label:before {\n",
       "  color: var(--xr-disabled-color);\n",
       "}\n",
       "\n",
       ".xr-section-summary-in:checked + label:before {\n",
       "  content: '▼';\n",
       "}\n",
       "\n",
       ".xr-section-summary-in:checked + label > span {\n",
       "  display: none;\n",
       "}\n",
       "\n",
       ".xr-section-summary,\n",
       ".xr-section-inline-details {\n",
       "  padding-top: 4px;\n",
       "  padding-bottom: 4px;\n",
       "}\n",
       "\n",
       ".xr-section-inline-details {\n",
       "  grid-column: 2 / -1;\n",
       "}\n",
       "\n",
       ".xr-section-details {\n",
       "  display: none;\n",
       "  grid-column: 1 / -1;\n",
       "  margin-bottom: 5px;\n",
       "}\n",
       "\n",
       ".xr-section-summary-in:checked ~ .xr-section-details {\n",
       "  display: contents;\n",
       "}\n",
       "\n",
       ".xr-array-wrap {\n",
       "  grid-column: 1 / -1;\n",
       "  display: grid;\n",
       "  grid-template-columns: 20px auto;\n",
       "}\n",
       "\n",
       ".xr-array-wrap > label {\n",
       "  grid-column: 1;\n",
       "  vertical-align: top;\n",
       "}\n",
       "\n",
       ".xr-preview {\n",
       "  color: var(--xr-font-color3);\n",
       "}\n",
       "\n",
       ".xr-array-preview,\n",
       ".xr-array-data {\n",
       "  padding: 0 5px !important;\n",
       "  grid-column: 2;\n",
       "}\n",
       "\n",
       ".xr-array-data,\n",
       ".xr-array-in:checked ~ .xr-array-preview {\n",
       "  display: none;\n",
       "}\n",
       "\n",
       ".xr-array-in:checked ~ .xr-array-data,\n",
       ".xr-array-preview {\n",
       "  display: inline-block;\n",
       "}\n",
       "\n",
       ".xr-dim-list {\n",
       "  display: inline-block !important;\n",
       "  list-style: none;\n",
       "  padding: 0 !important;\n",
       "  margin: 0;\n",
       "}\n",
       "\n",
       ".xr-dim-list li {\n",
       "  display: inline-block;\n",
       "  padding: 0;\n",
       "  margin: 0;\n",
       "}\n",
       "\n",
       ".xr-dim-list:before {\n",
       "  content: '(';\n",
       "}\n",
       "\n",
       ".xr-dim-list:after {\n",
       "  content: ')';\n",
       "}\n",
       "\n",
       ".xr-dim-list li:not(:last-child):after {\n",
       "  content: ',';\n",
       "  padding-right: 5px;\n",
       "}\n",
       "\n",
       ".xr-has-index {\n",
       "  font-weight: bold;\n",
       "}\n",
       "\n",
       ".xr-var-list,\n",
       ".xr-var-item {\n",
       "  display: contents;\n",
       "}\n",
       "\n",
       ".xr-var-item > div,\n",
       ".xr-var-item label,\n",
       ".xr-var-item > .xr-var-name span {\n",
       "  background-color: var(--xr-background-color-row-even);\n",
       "  margin-bottom: 0;\n",
       "}\n",
       "\n",
       ".xr-var-item > .xr-var-name:hover span {\n",
       "  padding-right: 5px;\n",
       "}\n",
       "\n",
       ".xr-var-list > li:nth-child(odd) > div,\n",
       ".xr-var-list > li:nth-child(odd) > label,\n",
       ".xr-var-list > li:nth-child(odd) > .xr-var-name span {\n",
       "  background-color: var(--xr-background-color-row-odd);\n",
       "}\n",
       "\n",
       ".xr-var-name {\n",
       "  grid-column: 1;\n",
       "}\n",
       "\n",
       ".xr-var-dims {\n",
       "  grid-column: 2;\n",
       "}\n",
       "\n",
       ".xr-var-dtype {\n",
       "  grid-column: 3;\n",
       "  text-align: right;\n",
       "  color: var(--xr-font-color2);\n",
       "}\n",
       "\n",
       ".xr-var-preview {\n",
       "  grid-column: 4;\n",
       "}\n",
       "\n",
       ".xr-var-name,\n",
       ".xr-var-dims,\n",
       ".xr-var-dtype,\n",
       ".xr-preview,\n",
       ".xr-attrs dt {\n",
       "  white-space: nowrap;\n",
       "  overflow: hidden;\n",
       "  text-overflow: ellipsis;\n",
       "  padding-right: 10px;\n",
       "}\n",
       "\n",
       ".xr-var-name:hover,\n",
       ".xr-var-dims:hover,\n",
       ".xr-var-dtype:hover,\n",
       ".xr-attrs dt:hover {\n",
       "  overflow: visible;\n",
       "  width: auto;\n",
       "  z-index: 1;\n",
       "}\n",
       "\n",
       ".xr-var-attrs,\n",
       ".xr-var-data {\n",
       "  display: none;\n",
       "  background-color: var(--xr-background-color) !important;\n",
       "  padding-bottom: 5px !important;\n",
       "}\n",
       "\n",
       ".xr-var-attrs-in:checked ~ .xr-var-attrs,\n",
       ".xr-var-data-in:checked ~ .xr-var-data {\n",
       "  display: block;\n",
       "}\n",
       "\n",
       ".xr-var-data > table {\n",
       "  float: right;\n",
       "}\n",
       "\n",
       ".xr-var-name span,\n",
       ".xr-var-data,\n",
       ".xr-attrs {\n",
       "  padding-left: 25px !important;\n",
       "}\n",
       "\n",
       ".xr-attrs,\n",
       ".xr-var-attrs,\n",
       ".xr-var-data {\n",
       "  grid-column: 1 / -1;\n",
       "}\n",
       "\n",
       "dl.xr-attrs {\n",
       "  padding: 0;\n",
       "  margin: 0;\n",
       "  display: grid;\n",
       "  grid-template-columns: 125px auto;\n",
       "}\n",
       "\n",
       ".xr-attrs dt, dd {\n",
       "  padding: 0;\n",
       "  margin: 0;\n",
       "  float: left;\n",
       "  padding-right: 10px;\n",
       "  width: auto;\n",
       "}\n",
       "\n",
       ".xr-attrs dt {\n",
       "  font-weight: normal;\n",
       "  grid-column: 1;\n",
       "}\n",
       "\n",
       ".xr-attrs dt:hover span {\n",
       "  display: inline-block;\n",
       "  background: var(--xr-background-color);\n",
       "  padding-right: 10px;\n",
       "}\n",
       "\n",
       ".xr-attrs dd {\n",
       "  grid-column: 2;\n",
       "  white-space: pre-wrap;\n",
       "  word-break: break-all;\n",
       "}\n",
       "\n",
       ".xr-icon-database,\n",
       ".xr-icon-file-text2 {\n",
       "  display: inline-block;\n",
       "  vertical-align: middle;\n",
       "  width: 1em;\n",
       "  height: 1.5em !important;\n",
       "  stroke-width: 0;\n",
       "  stroke: currentColor;\n",
       "  fill: currentColor;\n",
       "}\n",
       "</style><pre class='xr-text-repr-fallback'>&lt;xarray.Dataset&gt;\n",
       "Dimensions:         (model: 2)\n",
       "Coordinates:\n",
       "    hydro_month     int64 1\n",
       "    calendar_year   int64 -1\n",
       "    calendar_month  int64 10\n",
       "    hydro_year      int64 0\n",
       "  * model           (model) object &#x27;vas&#x27; &#x27;fl&#x27;\n",
       "    time            float64 0.0\n",
       "    normalized      bool False\n",
       "    rgi_id          &lt;U14 &#x27;RGI60-11.00897&#x27;\n",
       "    temp_bias       float64 0.0\n",
       "    mb_model        &lt;U8 &#x27;constant&#x27;\n",
       "Data variables:\n",
       "    volume          (model) float64 5.963e+08 8.001e+08\n",
       "    area            (model) float64 8.036e+06 8.007e+06\n",
       "    length          (model) float64 4.895e+03 6.9e+03\n",
       "    ela             (model) float64 0.0 3.017e+03\n",
       "Attributes:\n",
       "    description:    OGGM model output\n",
       "    oggm_version:   1.3.2.dev113+g17c2289\n",
       "    calendar:       365-day no leap\n",
       "    creation_date:  2020-11-16 13:55:44</pre><div class='xr-wrap' hidden><div class='xr-header'><div class='xr-obj-type'>xarray.Dataset</div></div><ul class='xr-sections'><li class='xr-section-item'><input id='section-5f9515e9-e7c3-45b5-a8dd-b7858a22746e' class='xr-section-summary-in' type='checkbox' disabled ><label for='section-5f9515e9-e7c3-45b5-a8dd-b7858a22746e' class='xr-section-summary'  title='Expand/collapse section'>Dimensions:</label><div class='xr-section-inline-details'><ul class='xr-dim-list'><li><span class='xr-has-index'>model</span>: 2</li></ul></div><div class='xr-section-details'></div></li><li class='xr-section-item'><input id='section-7639e6eb-2872-425e-89ff-a1961eda6c61' class='xr-section-summary-in' type='checkbox'  checked><label for='section-7639e6eb-2872-425e-89ff-a1961eda6c61' class='xr-section-summary' >Coordinates: <span>(10)</span></label><div class='xr-section-inline-details'></div><div class='xr-section-details'><ul class='xr-var-list'><li class='xr-var-item'><div class='xr-var-name'><span>hydro_month</span></div><div class='xr-var-dims'>()</div><div class='xr-var-dtype'>int64</div><div class='xr-var-preview xr-preview'>1</div><input id='attrs-a1799703-77ed-4c64-9776-e8842ea6e5d0' class='xr-var-attrs-in' type='checkbox' ><label for='attrs-a1799703-77ed-4c64-9776-e8842ea6e5d0' title='Show/Hide attributes'><svg class='icon xr-icon-file-text2'><use xlink:href='#icon-file-text2'></use></svg></label><input id='data-c50a16be-6ce8-4e05-a49c-4f41111ce684' class='xr-var-data-in' type='checkbox'><label for='data-c50a16be-6ce8-4e05-a49c-4f41111ce684' title='Show/Hide data repr'><svg class='icon xr-icon-database'><use xlink:href='#icon-database'></use></svg></label><div class='xr-var-attrs'><dl class='xr-attrs'><dt><span>description :</span></dt><dd>Hydrological month</dd></dl></div><div class='xr-var-data'><pre>array(1)</pre></div></li><li class='xr-var-item'><div class='xr-var-name'><span>calendar_year</span></div><div class='xr-var-dims'>()</div><div class='xr-var-dtype'>int64</div><div class='xr-var-preview xr-preview'>-1</div><input id='attrs-31e6e707-373f-4f6a-8918-d47041ed4758' class='xr-var-attrs-in' type='checkbox' ><label for='attrs-31e6e707-373f-4f6a-8918-d47041ed4758' title='Show/Hide attributes'><svg class='icon xr-icon-file-text2'><use xlink:href='#icon-file-text2'></use></svg></label><input id='data-7f880f22-14ea-4e58-8207-1806ecaed19b' class='xr-var-data-in' type='checkbox'><label for='data-7f880f22-14ea-4e58-8207-1806ecaed19b' title='Show/Hide data repr'><svg class='icon xr-icon-database'><use xlink:href='#icon-database'></use></svg></label><div class='xr-var-attrs'><dl class='xr-attrs'><dt><span>description :</span></dt><dd>Calendar year</dd></dl></div><div class='xr-var-data'><pre>array(-1)</pre></div></li><li class='xr-var-item'><div class='xr-var-name'><span>calendar_month</span></div><div class='xr-var-dims'>()</div><div class='xr-var-dtype'>int64</div><div class='xr-var-preview xr-preview'>10</div><input id='attrs-9f368f18-45d2-4913-b145-fc8f0a7084f6' class='xr-var-attrs-in' type='checkbox' ><label for='attrs-9f368f18-45d2-4913-b145-fc8f0a7084f6' title='Show/Hide attributes'><svg class='icon xr-icon-file-text2'><use xlink:href='#icon-file-text2'></use></svg></label><input id='data-a551de55-7d31-427e-8455-652be4e03084' class='xr-var-data-in' type='checkbox'><label for='data-a551de55-7d31-427e-8455-652be4e03084' title='Show/Hide data repr'><svg class='icon xr-icon-database'><use xlink:href='#icon-database'></use></svg></label><div class='xr-var-attrs'><dl class='xr-attrs'><dt><span>description :</span></dt><dd>Calendar month</dd></dl></div><div class='xr-var-data'><pre>array(10)</pre></div></li><li class='xr-var-item'><div class='xr-var-name'><span>hydro_year</span></div><div class='xr-var-dims'>()</div><div class='xr-var-dtype'>int64</div><div class='xr-var-preview xr-preview'>0</div><input id='attrs-4491191a-6589-43a7-9484-5a5cb568c716' class='xr-var-attrs-in' type='checkbox' ><label for='attrs-4491191a-6589-43a7-9484-5a5cb568c716' title='Show/Hide attributes'><svg class='icon xr-icon-file-text2'><use xlink:href='#icon-file-text2'></use></svg></label><input id='data-9ee76715-112f-4e41-9828-38119ea35f82' class='xr-var-data-in' type='checkbox'><label for='data-9ee76715-112f-4e41-9828-38119ea35f82' title='Show/Hide data repr'><svg class='icon xr-icon-database'><use xlink:href='#icon-database'></use></svg></label><div class='xr-var-attrs'><dl class='xr-attrs'><dt><span>description :</span></dt><dd>Hydrological year</dd></dl></div><div class='xr-var-data'><pre>array(0)</pre></div></li><li class='xr-var-item'><div class='xr-var-name'><span class='xr-has-index'>model</span></div><div class='xr-var-dims'>(model)</div><div class='xr-var-dtype'>object</div><div class='xr-var-preview xr-preview'>&#x27;vas&#x27; &#x27;fl&#x27;</div><input id='attrs-fd8d0b69-00c0-4d8c-9236-a443bc97f3f0' class='xr-var-attrs-in' type='checkbox' disabled><label for='attrs-fd8d0b69-00c0-4d8c-9236-a443bc97f3f0' title='Show/Hide attributes'><svg class='icon xr-icon-file-text2'><use xlink:href='#icon-file-text2'></use></svg></label><input id='data-72b4f763-9e5d-4cf6-861d-9cbee10d1e85' class='xr-var-data-in' type='checkbox'><label for='data-72b4f763-9e5d-4cf6-861d-9cbee10d1e85' title='Show/Hide data repr'><svg class='icon xr-icon-database'><use xlink:href='#icon-database'></use></svg></label><div class='xr-var-attrs'><dl class='xr-attrs'></dl></div><div class='xr-var-data'><pre>array([&#x27;vas&#x27;, &#x27;fl&#x27;], dtype=object)</pre></div></li><li class='xr-var-item'><div class='xr-var-name'><span>time</span></div><div class='xr-var-dims'>()</div><div class='xr-var-dtype'>float64</div><div class='xr-var-preview xr-preview'>0.0</div><input id='attrs-6a4f7d44-eb20-4891-899a-2b24a4bb662e' class='xr-var-attrs-in' type='checkbox' ><label for='attrs-6a4f7d44-eb20-4891-899a-2b24a4bb662e' title='Show/Hide attributes'><svg class='icon xr-icon-file-text2'><use xlink:href='#icon-file-text2'></use></svg></label><input id='data-8c5660bb-0c3d-4c45-b90f-d58aa0634b6d' class='xr-var-data-in' type='checkbox'><label for='data-8c5660bb-0c3d-4c45-b90f-d58aa0634b6d' title='Show/Hide data repr'><svg class='icon xr-icon-database'><use xlink:href='#icon-database'></use></svg></label><div class='xr-var-attrs'><dl class='xr-attrs'><dt><span>description :</span></dt><dd>Floating hydrological year</dd></dl></div><div class='xr-var-data'><pre>array(0.)</pre></div></li><li class='xr-var-item'><div class='xr-var-name'><span>normalized</span></div><div class='xr-var-dims'>()</div><div class='xr-var-dtype'>bool</div><div class='xr-var-preview xr-preview'>False</div><input id='attrs-b1667b86-9fbc-43d3-b834-73d20f20882e' class='xr-var-attrs-in' type='checkbox' disabled><label for='attrs-b1667b86-9fbc-43d3-b834-73d20f20882e' title='Show/Hide attributes'><svg class='icon xr-icon-file-text2'><use xlink:href='#icon-file-text2'></use></svg></label><input id='data-5eee2365-e684-46b6-b363-b8c9e4a0037f' class='xr-var-data-in' type='checkbox'><label for='data-5eee2365-e684-46b6-b363-b8c9e4a0037f' title='Show/Hide data repr'><svg class='icon xr-icon-database'><use xlink:href='#icon-database'></use></svg></label><div class='xr-var-attrs'><dl class='xr-attrs'></dl></div><div class='xr-var-data'><pre>array(False)</pre></div></li><li class='xr-var-item'><div class='xr-var-name'><span>rgi_id</span></div><div class='xr-var-dims'>()</div><div class='xr-var-dtype'>&lt;U14</div><div class='xr-var-preview xr-preview'>&#x27;RGI60-11.00897&#x27;</div><input id='attrs-7d6626e1-c92d-44d6-8bd3-45ffa1f8c6c7' class='xr-var-attrs-in' type='checkbox' ><label for='attrs-7d6626e1-c92d-44d6-8bd3-45ffa1f8c6c7' title='Show/Hide attributes'><svg class='icon xr-icon-file-text2'><use xlink:href='#icon-file-text2'></use></svg></label><input id='data-e7057c20-c738-477d-b665-09380e7ed0dc' class='xr-var-data-in' type='checkbox'><label for='data-e7057c20-c738-477d-b665-09380e7ed0dc' title='Show/Hide data repr'><svg class='icon xr-icon-database'><use xlink:href='#icon-database'></use></svg></label><div class='xr-var-attrs'><dl class='xr-attrs'><dt><span>description :</span></dt><dd>RGI glacier identifier</dd></dl></div><div class='xr-var-data'><pre>array(&#x27;RGI60-11.00897&#x27;, dtype=&#x27;&lt;U14&#x27;)</pre></div></li><li class='xr-var-item'><div class='xr-var-name'><span>temp_bias</span></div><div class='xr-var-dims'>()</div><div class='xr-var-dtype'>float64</div><div class='xr-var-preview xr-preview'>0.0</div><input id='attrs-6e4bf4b3-0d6a-47a1-a329-156a06a64a92' class='xr-var-attrs-in' type='checkbox' disabled><label for='attrs-6e4bf4b3-0d6a-47a1-a329-156a06a64a92' title='Show/Hide attributes'><svg class='icon xr-icon-file-text2'><use xlink:href='#icon-file-text2'></use></svg></label><input id='data-781e4c6e-61ec-4c0d-a847-b05e98ded774' class='xr-var-data-in' type='checkbox'><label for='data-781e4c6e-61ec-4c0d-a847-b05e98ded774' title='Show/Hide data repr'><svg class='icon xr-icon-database'><use xlink:href='#icon-database'></use></svg></label><div class='xr-var-attrs'><dl class='xr-attrs'></dl></div><div class='xr-var-data'><pre>array(0.)</pre></div></li><li class='xr-var-item'><div class='xr-var-name'><span>mb_model</span></div><div class='xr-var-dims'>()</div><div class='xr-var-dtype'>&lt;U8</div><div class='xr-var-preview xr-preview'>&#x27;constant&#x27;</div><input id='attrs-4507510f-9d24-4211-ad8d-77b72bda900c' class='xr-var-attrs-in' type='checkbox' disabled><label for='attrs-4507510f-9d24-4211-ad8d-77b72bda900c' title='Show/Hide attributes'><svg class='icon xr-icon-file-text2'><use xlink:href='#icon-file-text2'></use></svg></label><input id='data-91c7671f-9f92-439c-9a3f-33dff3f4d9c9' class='xr-var-data-in' type='checkbox'><label for='data-91c7671f-9f92-439c-9a3f-33dff3f4d9c9' title='Show/Hide data repr'><svg class='icon xr-icon-database'><use xlink:href='#icon-database'></use></svg></label><div class='xr-var-attrs'><dl class='xr-attrs'></dl></div><div class='xr-var-data'><pre>array(&#x27;constant&#x27;, dtype=&#x27;&lt;U8&#x27;)</pre></div></li></ul></div></li><li class='xr-section-item'><input id='section-a8025e89-364a-43d1-8799-6603bb44af4a' class='xr-section-summary-in' type='checkbox'  checked><label for='section-a8025e89-364a-43d1-8799-6603bb44af4a' class='xr-section-summary' >Data variables: <span>(4)</span></label><div class='xr-section-inline-details'></div><div class='xr-section-details'><ul class='xr-var-list'><li class='xr-var-item'><div class='xr-var-name'><span>volume</span></div><div class='xr-var-dims'>(model)</div><div class='xr-var-dtype'>float64</div><div class='xr-var-preview xr-preview'>5.963e+08 8.001e+08</div><input id='attrs-8c3d1d33-c17c-42b4-a7ff-a620e6721553' class='xr-var-attrs-in' type='checkbox' ><label for='attrs-8c3d1d33-c17c-42b4-a7ff-a620e6721553' title='Show/Hide attributes'><svg class='icon xr-icon-file-text2'><use xlink:href='#icon-file-text2'></use></svg></label><input id='data-45041283-e051-4b1a-b59d-9ded029ed894' class='xr-var-data-in' type='checkbox'><label for='data-45041283-e051-4b1a-b59d-9ded029ed894' title='Show/Hide data repr'><svg class='icon xr-icon-database'><use xlink:href='#icon-database'></use></svg></label><div class='xr-var-attrs'><dl class='xr-attrs'><dt><span>description :</span></dt><dd>Total glacier volume</dd><dt><span>units :</span></dt><dd>m 3</dd></dl></div><div class='xr-var-data'><pre>array([5.96297884e+08, 8.00074327e+08])</pre></div></li><li class='xr-var-item'><div class='xr-var-name'><span>area</span></div><div class='xr-var-dims'>(model)</div><div class='xr-var-dtype'>float64</div><div class='xr-var-preview xr-preview'>8.036e+06 8.007e+06</div><input id='attrs-b6a45915-ae4d-45d4-b4a4-169c85ef93a7' class='xr-var-attrs-in' type='checkbox' ><label for='attrs-b6a45915-ae4d-45d4-b4a4-169c85ef93a7' title='Show/Hide attributes'><svg class='icon xr-icon-file-text2'><use xlink:href='#icon-file-text2'></use></svg></label><input id='data-b96900f6-b854-408c-ba9b-76bbb05aaa7d' class='xr-var-data-in' type='checkbox'><label for='data-b96900f6-b854-408c-ba9b-76bbb05aaa7d' title='Show/Hide data repr'><svg class='icon xr-icon-database'><use xlink:href='#icon-database'></use></svg></label><div class='xr-var-attrs'><dl class='xr-attrs'><dt><span>description :</span></dt><dd>Total glacier area</dd><dt><span>units :</span></dt><dd>m 2</dd></dl></div><div class='xr-var-data'><pre>array([8036000.        , 8007343.42162018])</pre></div></li><li class='xr-var-item'><div class='xr-var-name'><span>length</span></div><div class='xr-var-dims'>(model)</div><div class='xr-var-dtype'>float64</div><div class='xr-var-preview xr-preview'>4.895e+03 6.9e+03</div><input id='attrs-f03fe781-a9b4-4d30-9e2b-619cef6fc7a9' class='xr-var-attrs-in' type='checkbox' ><label for='attrs-f03fe781-a9b4-4d30-9e2b-619cef6fc7a9' title='Show/Hide attributes'><svg class='icon xr-icon-file-text2'><use xlink:href='#icon-file-text2'></use></svg></label><input id='data-9b65c9ea-6370-4f88-a650-50ddb2a2e394' class='xr-var-data-in' type='checkbox'><label for='data-9b65c9ea-6370-4f88-a650-50ddb2a2e394' title='Show/Hide data repr'><svg class='icon xr-icon-database'><use xlink:href='#icon-database'></use></svg></label><div class='xr-var-attrs'><dl class='xr-attrs'><dt><span>description :</span></dt><dd>Glacier length</dd><dt><span>units :</span></dt><dd>m</dd></dl></div><div class='xr-var-data'><pre>array([4894.63693267, 6900.        ])</pre></div></li><li class='xr-var-item'><div class='xr-var-name'><span>ela</span></div><div class='xr-var-dims'>(model)</div><div class='xr-var-dtype'>float64</div><div class='xr-var-preview xr-preview'>0.0 3.017e+03</div><input id='attrs-1b9dca58-da53-4882-bb4d-88fd060fc3a7' class='xr-var-attrs-in' type='checkbox' ><label for='attrs-1b9dca58-da53-4882-bb4d-88fd060fc3a7' title='Show/Hide attributes'><svg class='icon xr-icon-file-text2'><use xlink:href='#icon-file-text2'></use></svg></label><input id='data-a21d1c9e-6ca6-4d05-a6c4-79b9371d0300' class='xr-var-data-in' type='checkbox'><label for='data-a21d1c9e-6ca6-4d05-a6c4-79b9371d0300' title='Show/Hide data repr'><svg class='icon xr-icon-database'><use xlink:href='#icon-database'></use></svg></label><div class='xr-var-attrs'><dl class='xr-attrs'><dt><span>description :</span></dt><dd>Glacier Equilibrium Line Altitude (ELA)</dd><dt><span>units :</span></dt><dd>m a.s.l</dd></dl></div><div class='xr-var-data'><pre>array([   0.        , 3016.95344149])</pre></div></li></ul></div></li><li class='xr-section-item'><input id='section-5602fb7a-b6c3-4533-9120-4bf6a6acd5ae' class='xr-section-summary-in' type='checkbox'  checked><label for='section-5602fb7a-b6c3-4533-9120-4bf6a6acd5ae' class='xr-section-summary' >Attributes: <span>(4)</span></label><div class='xr-section-inline-details'></div><div class='xr-section-details'><dl class='xr-attrs'><dt><span>description :</span></dt><dd>OGGM model output</dd><dt><span>oggm_version :</span></dt><dd>1.3.2.dev113+g17c2289</dd><dt><span>calendar :</span></dt><dd>365-day no leap</dd><dt><span>creation_date :</span></dt><dd>2020-11-16 13:55:44</dd></dl></div></li></ul></div></div>"
      ],
      "text/plain": [
       "<xarray.Dataset>\n",
       "Dimensions:         (model: 2)\n",
       "Coordinates:\n",
       "    hydro_month     int64 1\n",
       "    calendar_year   int64 -1\n",
       "    calendar_month  int64 10\n",
       "    hydro_year      int64 0\n",
       "  * model           (model) object 'vas' 'fl'\n",
       "    time            float64 0.0\n",
       "    normalized      bool False\n",
       "    rgi_id          <U14 'RGI60-11.00897'\n",
       "    temp_bias       float64 0.0\n",
       "    mb_model        <U8 'constant'\n",
       "Data variables:\n",
       "    volume          (model) float64 5.963e+08 8.001e+08\n",
       "    area            (model) float64 8.036e+06 8.007e+06\n",
       "    length          (model) float64 4.895e+03 6.9e+03\n",
       "    ela             (model) float64 0.0 3.017e+03\n",
       "Attributes:\n",
       "    description:    OGGM model output\n",
       "    oggm_version:   1.3.2.dev113+g17c2289\n",
       "    calendar:       365-day no leap\n",
       "    creation_date:  2020-11-16 13:55:44"
      ]
     },
     "execution_count": 87,
     "metadata": {},
     "output_type": "execute_result"
    }
   ],
   "source": [
    "ds_plot"
   ]
  },
  {
   "cell_type": "code",
   "execution_count": null,
   "metadata": {},
   "outputs": [],
   "source": [
    "    x = np.array([0,2,4])\n",
    "    plt.bar(x+(i*0.5), ds_plot/10**(3*(i+1)), label='{}'.format(var), width=0.5)\n",
    "\n"
   ]
  },
  {
   "cell_type": "code",
   "execution_count": 615,
   "metadata": {},
   "outputs": [
    {
     "data": {
      "text/plain": [
       "17.553137769257216"
      ]
     },
     "execution_count": 615,
     "metadata": {},
     "output_type": "execute_result"
    }
   ],
   "source": [
    "596297884.17/(4894.64**2*1.4179698506016887)"
   ]
  },
  {
   "cell_type": "code",
   "execution_count": null,
   "metadata": {},
   "outputs": [],
   "source": []
  },
  {
   "cell_type": "code",
   "execution_count": 609,
   "metadata": {},
   "outputs": [
    {
     "data": {
      "text/html": [
       "<div><svg style=\"position: absolute; width: 0; height: 0; overflow: hidden\">\n",
       "<defs>\n",
       "<symbol id=\"icon-database\" viewBox=\"0 0 32 32\">\n",
       "<path d=\"M16 0c-8.837 0-16 2.239-16 5v4c0 2.761 7.163 5 16 5s16-2.239 16-5v-4c0-2.761-7.163-5-16-5z\"></path>\n",
       "<path d=\"M16 17c-8.837 0-16-2.239-16-5v6c0 2.761 7.163 5 16 5s16-2.239 16-5v-6c0 2.761-7.163 5-16 5z\"></path>\n",
       "<path d=\"M16 26c-8.837 0-16-2.239-16-5v6c0 2.761 7.163 5 16 5s16-2.239 16-5v-6c0 2.761-7.163 5-16 5z\"></path>\n",
       "</symbol>\n",
       "<symbol id=\"icon-file-text2\" viewBox=\"0 0 32 32\">\n",
       "<path d=\"M28.681 7.159c-0.694-0.947-1.662-2.053-2.724-3.116s-2.169-2.030-3.116-2.724c-1.612-1.182-2.393-1.319-2.841-1.319h-15.5c-1.378 0-2.5 1.121-2.5 2.5v27c0 1.378 1.122 2.5 2.5 2.5h23c1.378 0 2.5-1.122 2.5-2.5v-19.5c0-0.448-0.137-1.23-1.319-2.841zM24.543 5.457c0.959 0.959 1.712 1.825 2.268 2.543h-4.811v-4.811c0.718 0.556 1.584 1.309 2.543 2.268zM28 29.5c0 0.271-0.229 0.5-0.5 0.5h-23c-0.271 0-0.5-0.229-0.5-0.5v-27c0-0.271 0.229-0.5 0.5-0.5 0 0 15.499-0 15.5 0v7c0 0.552 0.448 1 1 1h7v19.5z\"></path>\n",
       "<path d=\"M23 26h-14c-0.552 0-1-0.448-1-1s0.448-1 1-1h14c0.552 0 1 0.448 1 1s-0.448 1-1 1z\"></path>\n",
       "<path d=\"M23 22h-14c-0.552 0-1-0.448-1-1s0.448-1 1-1h14c0.552 0 1 0.448 1 1s-0.448 1-1 1z\"></path>\n",
       "<path d=\"M23 18h-14c-0.552 0-1-0.448-1-1s0.448-1 1-1h14c0.552 0 1 0.448 1 1s-0.448 1-1 1z\"></path>\n",
       "</symbol>\n",
       "</defs>\n",
       "</svg>\n",
       "<style>/* CSS stylesheet for displaying xarray objects in jupyterlab.\n",
       " *\n",
       " */\n",
       "\n",
       ":root {\n",
       "  --xr-font-color0: var(--jp-content-font-color0, rgba(0, 0, 0, 1));\n",
       "  --xr-font-color2: var(--jp-content-font-color2, rgba(0, 0, 0, 0.54));\n",
       "  --xr-font-color3: var(--jp-content-font-color3, rgba(0, 0, 0, 0.38));\n",
       "  --xr-border-color: var(--jp-border-color2, #e0e0e0);\n",
       "  --xr-disabled-color: var(--jp-layout-color3, #bdbdbd);\n",
       "  --xr-background-color: var(--jp-layout-color0, white);\n",
       "  --xr-background-color-row-even: var(--jp-layout-color1, white);\n",
       "  --xr-background-color-row-odd: var(--jp-layout-color2, #eeeeee);\n",
       "}\n",
       "\n",
       "html[theme=dark],\n",
       "body.vscode-dark {\n",
       "  --xr-font-color0: rgba(255, 255, 255, 1);\n",
       "  --xr-font-color2: rgba(255, 255, 255, 0.54);\n",
       "  --xr-font-color3: rgba(255, 255, 255, 0.38);\n",
       "  --xr-border-color: #1F1F1F;\n",
       "  --xr-disabled-color: #515151;\n",
       "  --xr-background-color: #111111;\n",
       "  --xr-background-color-row-even: #111111;\n",
       "  --xr-background-color-row-odd: #313131;\n",
       "}\n",
       "\n",
       ".xr-wrap {\n",
       "  display: block;\n",
       "  min-width: 300px;\n",
       "  max-width: 700px;\n",
       "}\n",
       "\n",
       ".xr-text-repr-fallback {\n",
       "  /* fallback to plain text repr when CSS is not injected (untrusted notebook) */\n",
       "  display: none;\n",
       "}\n",
       "\n",
       ".xr-header {\n",
       "  padding-top: 6px;\n",
       "  padding-bottom: 6px;\n",
       "  margin-bottom: 4px;\n",
       "  border-bottom: solid 1px var(--xr-border-color);\n",
       "}\n",
       "\n",
       ".xr-header > div,\n",
       ".xr-header > ul {\n",
       "  display: inline;\n",
       "  margin-top: 0;\n",
       "  margin-bottom: 0;\n",
       "}\n",
       "\n",
       ".xr-obj-type,\n",
       ".xr-array-name {\n",
       "  margin-left: 2px;\n",
       "  margin-right: 10px;\n",
       "}\n",
       "\n",
       ".xr-obj-type {\n",
       "  color: var(--xr-font-color2);\n",
       "}\n",
       "\n",
       ".xr-sections {\n",
       "  padding-left: 0 !important;\n",
       "  display: grid;\n",
       "  grid-template-columns: 150px auto auto 1fr 20px 20px;\n",
       "}\n",
       "\n",
       ".xr-section-item {\n",
       "  display: contents;\n",
       "}\n",
       "\n",
       ".xr-section-item input {\n",
       "  display: none;\n",
       "}\n",
       "\n",
       ".xr-section-item input + label {\n",
       "  color: var(--xr-disabled-color);\n",
       "}\n",
       "\n",
       ".xr-section-item input:enabled + label {\n",
       "  cursor: pointer;\n",
       "  color: var(--xr-font-color2);\n",
       "}\n",
       "\n",
       ".xr-section-item input:enabled + label:hover {\n",
       "  color: var(--xr-font-color0);\n",
       "}\n",
       "\n",
       ".xr-section-summary {\n",
       "  grid-column: 1;\n",
       "  color: var(--xr-font-color2);\n",
       "  font-weight: 500;\n",
       "}\n",
       "\n",
       ".xr-section-summary > span {\n",
       "  display: inline-block;\n",
       "  padding-left: 0.5em;\n",
       "}\n",
       "\n",
       ".xr-section-summary-in:disabled + label {\n",
       "  color: var(--xr-font-color2);\n",
       "}\n",
       "\n",
       ".xr-section-summary-in + label:before {\n",
       "  display: inline-block;\n",
       "  content: '►';\n",
       "  font-size: 11px;\n",
       "  width: 15px;\n",
       "  text-align: center;\n",
       "}\n",
       "\n",
       ".xr-section-summary-in:disabled + label:before {\n",
       "  color: var(--xr-disabled-color);\n",
       "}\n",
       "\n",
       ".xr-section-summary-in:checked + label:before {\n",
       "  content: '▼';\n",
       "}\n",
       "\n",
       ".xr-section-summary-in:checked + label > span {\n",
       "  display: none;\n",
       "}\n",
       "\n",
       ".xr-section-summary,\n",
       ".xr-section-inline-details {\n",
       "  padding-top: 4px;\n",
       "  padding-bottom: 4px;\n",
       "}\n",
       "\n",
       ".xr-section-inline-details {\n",
       "  grid-column: 2 / -1;\n",
       "}\n",
       "\n",
       ".xr-section-details {\n",
       "  display: none;\n",
       "  grid-column: 1 / -1;\n",
       "  margin-bottom: 5px;\n",
       "}\n",
       "\n",
       ".xr-section-summary-in:checked ~ .xr-section-details {\n",
       "  display: contents;\n",
       "}\n",
       "\n",
       ".xr-array-wrap {\n",
       "  grid-column: 1 / -1;\n",
       "  display: grid;\n",
       "  grid-template-columns: 20px auto;\n",
       "}\n",
       "\n",
       ".xr-array-wrap > label {\n",
       "  grid-column: 1;\n",
       "  vertical-align: top;\n",
       "}\n",
       "\n",
       ".xr-preview {\n",
       "  color: var(--xr-font-color3);\n",
       "}\n",
       "\n",
       ".xr-array-preview,\n",
       ".xr-array-data {\n",
       "  padding: 0 5px !important;\n",
       "  grid-column: 2;\n",
       "}\n",
       "\n",
       ".xr-array-data,\n",
       ".xr-array-in:checked ~ .xr-array-preview {\n",
       "  display: none;\n",
       "}\n",
       "\n",
       ".xr-array-in:checked ~ .xr-array-data,\n",
       ".xr-array-preview {\n",
       "  display: inline-block;\n",
       "}\n",
       "\n",
       ".xr-dim-list {\n",
       "  display: inline-block !important;\n",
       "  list-style: none;\n",
       "  padding: 0 !important;\n",
       "  margin: 0;\n",
       "}\n",
       "\n",
       ".xr-dim-list li {\n",
       "  display: inline-block;\n",
       "  padding: 0;\n",
       "  margin: 0;\n",
       "}\n",
       "\n",
       ".xr-dim-list:before {\n",
       "  content: '(';\n",
       "}\n",
       "\n",
       ".xr-dim-list:after {\n",
       "  content: ')';\n",
       "}\n",
       "\n",
       ".xr-dim-list li:not(:last-child):after {\n",
       "  content: ',';\n",
       "  padding-right: 5px;\n",
       "}\n",
       "\n",
       ".xr-has-index {\n",
       "  font-weight: bold;\n",
       "}\n",
       "\n",
       ".xr-var-list,\n",
       ".xr-var-item {\n",
       "  display: contents;\n",
       "}\n",
       "\n",
       ".xr-var-item > div,\n",
       ".xr-var-item label,\n",
       ".xr-var-item > .xr-var-name span {\n",
       "  background-color: var(--xr-background-color-row-even);\n",
       "  margin-bottom: 0;\n",
       "}\n",
       "\n",
       ".xr-var-item > .xr-var-name:hover span {\n",
       "  padding-right: 5px;\n",
       "}\n",
       "\n",
       ".xr-var-list > li:nth-child(odd) > div,\n",
       ".xr-var-list > li:nth-child(odd) > label,\n",
       ".xr-var-list > li:nth-child(odd) > .xr-var-name span {\n",
       "  background-color: var(--xr-background-color-row-odd);\n",
       "}\n",
       "\n",
       ".xr-var-name {\n",
       "  grid-column: 1;\n",
       "}\n",
       "\n",
       ".xr-var-dims {\n",
       "  grid-column: 2;\n",
       "}\n",
       "\n",
       ".xr-var-dtype {\n",
       "  grid-column: 3;\n",
       "  text-align: right;\n",
       "  color: var(--xr-font-color2);\n",
       "}\n",
       "\n",
       ".xr-var-preview {\n",
       "  grid-column: 4;\n",
       "}\n",
       "\n",
       ".xr-var-name,\n",
       ".xr-var-dims,\n",
       ".xr-var-dtype,\n",
       ".xr-preview,\n",
       ".xr-attrs dt {\n",
       "  white-space: nowrap;\n",
       "  overflow: hidden;\n",
       "  text-overflow: ellipsis;\n",
       "  padding-right: 10px;\n",
       "}\n",
       "\n",
       ".xr-var-name:hover,\n",
       ".xr-var-dims:hover,\n",
       ".xr-var-dtype:hover,\n",
       ".xr-attrs dt:hover {\n",
       "  overflow: visible;\n",
       "  width: auto;\n",
       "  z-index: 1;\n",
       "}\n",
       "\n",
       ".xr-var-attrs,\n",
       ".xr-var-data {\n",
       "  display: none;\n",
       "  background-color: var(--xr-background-color) !important;\n",
       "  padding-bottom: 5px !important;\n",
       "}\n",
       "\n",
       ".xr-var-attrs-in:checked ~ .xr-var-attrs,\n",
       ".xr-var-data-in:checked ~ .xr-var-data {\n",
       "  display: block;\n",
       "}\n",
       "\n",
       ".xr-var-data > table {\n",
       "  float: right;\n",
       "}\n",
       "\n",
       ".xr-var-name span,\n",
       ".xr-var-data,\n",
       ".xr-attrs {\n",
       "  padding-left: 25px !important;\n",
       "}\n",
       "\n",
       ".xr-attrs,\n",
       ".xr-var-attrs,\n",
       ".xr-var-data {\n",
       "  grid-column: 1 / -1;\n",
       "}\n",
       "\n",
       "dl.xr-attrs {\n",
       "  padding: 0;\n",
       "  margin: 0;\n",
       "  display: grid;\n",
       "  grid-template-columns: 125px auto;\n",
       "}\n",
       "\n",
       ".xr-attrs dt, dd {\n",
       "  padding: 0;\n",
       "  margin: 0;\n",
       "  float: left;\n",
       "  padding-right: 10px;\n",
       "  width: auto;\n",
       "}\n",
       "\n",
       ".xr-attrs dt {\n",
       "  font-weight: normal;\n",
       "  grid-column: 1;\n",
       "}\n",
       "\n",
       ".xr-attrs dt:hover span {\n",
       "  display: inline-block;\n",
       "  background: var(--xr-background-color);\n",
       "  padding-right: 10px;\n",
       "}\n",
       "\n",
       ".xr-attrs dd {\n",
       "  grid-column: 2;\n",
       "  white-space: pre-wrap;\n",
       "  word-break: break-all;\n",
       "}\n",
       "\n",
       ".xr-icon-database,\n",
       ".xr-icon-file-text2 {\n",
       "  display: inline-block;\n",
       "  vertical-align: middle;\n",
       "  width: 1em;\n",
       "  height: 1.5em !important;\n",
       "  stroke-width: 0;\n",
       "  stroke: currentColor;\n",
       "  fill: currentColor;\n",
       "}\n",
       "</style><pre class='xr-text-repr-fallback'>&lt;xarray.DataArray &#x27;volume&#x27; ()&gt;\n",
       "array(-0.69395365)\n",
       "Coordinates:\n",
       "    model       &lt;U3 &#x27;vas&#x27;\n",
       "    normalized  bool False\n",
       "    rgi_id      &lt;U14 &#x27;RGI60-11.00897&#x27;\n",
       "    mb_model    &lt;U6 &#x27;random&#x27;</pre><div class='xr-wrap' hidden><div class='xr-header'><div class='xr-obj-type'>xarray.DataArray</div><div class='xr-array-name'>'volume'</div></div><ul class='xr-sections'><li class='xr-section-item'><div class='xr-array-wrap'><input id='section-2d12d9c6-8acd-4c7d-8344-7ba85fa822b3' class='xr-array-in' type='checkbox' checked><label for='section-2d12d9c6-8acd-4c7d-8344-7ba85fa822b3' title='Show/hide data repr'><svg class='icon xr-icon-database'><use xlink:href='#icon-database'></use></svg></label><div class='xr-array-preview xr-preview'><span>-0.694</span></div><div class='xr-array-data'><pre>array(-0.69395365)</pre></div></div></li><li class='xr-section-item'><input id='section-61f134ad-7f56-44d9-a199-ffa8056467a1' class='xr-section-summary-in' type='checkbox'  checked><label for='section-61f134ad-7f56-44d9-a199-ffa8056467a1' class='xr-section-summary' >Coordinates: <span>(4)</span></label><div class='xr-section-inline-details'></div><div class='xr-section-details'><ul class='xr-var-list'><li class='xr-var-item'><div class='xr-var-name'><span>model</span></div><div class='xr-var-dims'>()</div><div class='xr-var-dtype'>&lt;U3</div><div class='xr-var-preview xr-preview'>&#x27;vas&#x27;</div><input id='attrs-a3de1000-3df6-4665-84de-095b2ab9a883' class='xr-var-attrs-in' type='checkbox' disabled><label for='attrs-a3de1000-3df6-4665-84de-095b2ab9a883' title='Show/Hide attributes'><svg class='icon xr-icon-file-text2'><use xlink:href='#icon-file-text2'></use></svg></label><input id='data-8f5fbe0e-59f8-4301-bda3-e779d63540f3' class='xr-var-data-in' type='checkbox'><label for='data-8f5fbe0e-59f8-4301-bda3-e779d63540f3' title='Show/Hide data repr'><svg class='icon xr-icon-database'><use xlink:href='#icon-database'></use></svg></label><div class='xr-var-attrs'><dl class='xr-attrs'></dl></div><div class='xr-var-data'><pre>array(&#x27;vas&#x27;, dtype=&#x27;&lt;U3&#x27;)</pre></div></li><li class='xr-var-item'><div class='xr-var-name'><span>normalized</span></div><div class='xr-var-dims'>()</div><div class='xr-var-dtype'>bool</div><div class='xr-var-preview xr-preview'>False</div><input id='attrs-bb64d7f8-d6ca-4e98-8dc2-eeacb6ebb9bd' class='xr-var-attrs-in' type='checkbox' disabled><label for='attrs-bb64d7f8-d6ca-4e98-8dc2-eeacb6ebb9bd' title='Show/Hide attributes'><svg class='icon xr-icon-file-text2'><use xlink:href='#icon-file-text2'></use></svg></label><input id='data-692d6998-6338-4e9f-9ad1-44ca7e08a13c' class='xr-var-data-in' type='checkbox'><label for='data-692d6998-6338-4e9f-9ad1-44ca7e08a13c' title='Show/Hide data repr'><svg class='icon xr-icon-database'><use xlink:href='#icon-database'></use></svg></label><div class='xr-var-attrs'><dl class='xr-attrs'></dl></div><div class='xr-var-data'><pre>array(False)</pre></div></li><li class='xr-var-item'><div class='xr-var-name'><span>rgi_id</span></div><div class='xr-var-dims'>()</div><div class='xr-var-dtype'>&lt;U14</div><div class='xr-var-preview xr-preview'>&#x27;RGI60-11.00897&#x27;</div><input id='attrs-b0560532-ccc1-4dcd-b21b-9fcb70e93629' class='xr-var-attrs-in' type='checkbox' ><label for='attrs-b0560532-ccc1-4dcd-b21b-9fcb70e93629' title='Show/Hide attributes'><svg class='icon xr-icon-file-text2'><use xlink:href='#icon-file-text2'></use></svg></label><input id='data-fe287cb2-59d8-401f-8823-85f4d68a1492' class='xr-var-data-in' type='checkbox'><label for='data-fe287cb2-59d8-401f-8823-85f4d68a1492' title='Show/Hide data repr'><svg class='icon xr-icon-database'><use xlink:href='#icon-database'></use></svg></label><div class='xr-var-attrs'><dl class='xr-attrs'><dt><span>description :</span></dt><dd>RGI glacier identifier</dd></dl></div><div class='xr-var-data'><pre>array(&#x27;RGI60-11.00897&#x27;, dtype=&#x27;&lt;U14&#x27;)</pre></div></li><li class='xr-var-item'><div class='xr-var-name'><span>mb_model</span></div><div class='xr-var-dims'>()</div><div class='xr-var-dtype'>&lt;U6</div><div class='xr-var-preview xr-preview'>&#x27;random&#x27;</div><input id='attrs-8b0e84c2-ef44-4523-8942-530cc5e16631' class='xr-var-attrs-in' type='checkbox' disabled><label for='attrs-8b0e84c2-ef44-4523-8942-530cc5e16631' title='Show/Hide attributes'><svg class='icon xr-icon-file-text2'><use xlink:href='#icon-file-text2'></use></svg></label><input id='data-bc527607-dd58-4f9d-a984-165b81308617' class='xr-var-data-in' type='checkbox'><label for='data-bc527607-dd58-4f9d-a984-165b81308617' title='Show/Hide data repr'><svg class='icon xr-icon-database'><use xlink:href='#icon-database'></use></svg></label><div class='xr-var-attrs'><dl class='xr-attrs'></dl></div><div class='xr-var-data'><pre>array(&#x27;random&#x27;, dtype=&#x27;&lt;U6&#x27;)</pre></div></li></ul></div></li><li class='xr-section-item'><input id='section-03f8da84-fb0a-46f8-b876-ef63edec1292' class='xr-section-summary-in' type='checkbox' disabled ><label for='section-03f8da84-fb0a-46f8-b876-ef63edec1292' class='xr-section-summary'  title='Expand/collapse section'>Attributes: <span>(0)</span></label><div class='xr-section-inline-details'></div><div class='xr-section-details'><dl class='xr-attrs'></dl></div></li></ul></div></div>"
      ],
      "text/plain": [
       "<xarray.DataArray 'volume' ()>\n",
       "array(-0.69395365)\n",
       "Coordinates:\n",
       "    model       <U3 'vas'\n",
       "    normalized  bool False\n",
       "    rgi_id      <U14 'RGI60-11.00897'\n",
       "    mb_model    <U6 'random'"
      ]
     },
     "execution_count": 609,
     "metadata": {},
     "output_type": "execute_result"
    }
   ],
   "source": [
    "ds_corr = ds.sel(model='vas', mb_model='random', normalized=False, time=slice(0,100)).volume\n",
    "xr.corr(ds_corr.sel(temp_bias=+.5), ds_corr.sel(temp_bias=-.5))"
   ]
  },
  {
   "cell_type": "code",
   "execution_count": 610,
   "metadata": {},
   "outputs": [
    {
     "data": {
      "text/plain": [
       "[<matplotlib.lines.Line2D at 0x150953828>]"
      ]
     },
     "execution_count": 610,
     "metadata": {},
     "output_type": "execute_result"
    },
    {
     "data": {
      "image/png": "[encoded data removed]",
      "text/plain": [
       "<Figure size 432x288 with 1 Axes>"
      ]
     },
     "metadata": {
      "needs_background": "light"
     },
     "output_type": "display_data"
    }
   ],
   "source": [
    "plt.plot(ds_corr.sel(temp_bias=+.5), ds_corr.sel(temp_bias=-.5), marker='o')"
   ]
  },
  {
   "cell_type": "code",
   "execution_count": 588,
   "metadata": {},
   "outputs": [
    {
     "data": {
      "text/plain": [
       "count    1000.000000\n",
       "mean       24.700000\n",
       "std        87.450315\n",
       "min         0.000000\n",
       "25%         0.000000\n",
       "50%         0.000000\n",
       "75%         0.000000\n",
       "max       900.000000\n",
       "Name: length, dtype: float64"
      ]
     },
     "execution_count": 588,
     "metadata": {},
     "output_type": "execute_result"
    }
   ],
   "source": [
    "1.4179698506016887 * 8"
   ]
  },
  {
   "cell_type": "code",
   "execution_count": null,
   "metadata": {},
   "outputs": [],
   "source": []
  }
 ],
 "metadata": {
  "kernelspec": {
   "display_name": "Python 3",
   "language": "python",
   "name": "python3"
  },
  "language_info": {
   "codemirror_mode": {
    "name": "ipython",
    "version": 3
   },
   "file_extension": ".py",
   "mimetype": "text/x-python",
   "name": "python",
   "nbconvert_exporter": "python",
   "pygments_lexer": "ipython3",
   "version": "3.6.7"
  }
 },
 "nbformat": 4,
 "nbformat_minor": 4
}
