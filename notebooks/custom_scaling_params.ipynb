{
 "cells": [
  {
   "cell_type": "markdown",
   "metadata": {},
   "source": [
    "# Compute custom scaling constants and exponents\n",
    "This notebook serves as test file while I'm implementing a routine to compute scaling constants and exponent for a given set of GlacierDirectories."
   ]
  },
  {
   "cell_type": "code",
   "execution_count": 1,
   "metadata": {},
   "outputs": [],
   "source": [
    "import numpy as np\n",
    "import pandas as pd\n",
    "import xarray as xr\n",
    "\n",
    "import matplotlib.pyplot as plt\n",
    "%matplotlib inline"
   ]
  },
  {
   "cell_type": "code",
   "execution_count": 2,
   "metadata": {},
   "outputs": [
    {
     "name": "stdout",
     "output_type": "stream",
     "text": [
      "Downloading salem-sample-data...\n"
     ]
    }
   ],
   "source": [
    "from oggm import cfg, workflow, utils"
   ]
  },
  {
   "cell_type": "code",
   "execution_count": 3,
   "metadata": {},
   "outputs": [
    {
     "name": "stderr",
     "output_type": "stream",
     "text": [
      "2020-10-11 14:51:25: oggm.cfg: Reading default parameters from the OGGM `params.cfg` configuration file.\n",
      "2020-10-11 14:51:25: oggm.cfg: Multiprocessing switched ON according to the parameter file.\n",
      "2020-10-11 14:51:25: oggm.cfg: Multiprocessing: using all available processors (N=4)\n",
      "2020-10-11 14:51:25: oggm.utils: Checking the download verification file checksum...\n"
     ]
    }
   ],
   "source": [
    "cfg.initialize()"
   ]
  },
  {
   "cell_type": "code",
   "execution_count": 4,
   "metadata": {},
   "outputs": [],
   "source": [
    "cfg.PATHS['working_dir'] = '/Users/oberrauch/work/master/working_directories/equilibrium_wdir'"
   ]
  },
  {
   "cell_type": "code",
   "execution_count": 11,
   "metadata": {},
   "outputs": [
    {
     "name": "stderr",
     "output_type": "stream",
     "text": [
      "2020-10-11 14:52:22: oggm.workflow: init_glacier_directories by parsing all available folders (this takes time: if possible, provide rgidf instead).\n"
     ]
    }
   ],
   "source": [
    "gdirs = workflow.init_glacier_directories()"
   ]
  },
  {
   "cell_type": "code",
   "execution_count": 12,
   "metadata": {},
   "outputs": [
    {
     "name": "stderr",
     "output_type": "stream",
     "text": [
      "2020-10-11 14:52:50: oggm.workflow: Execute entity task glacier_statistics on 56 glaciers\n"
     ]
    }
   ],
   "source": [
    "glacier_stats = workflow.execute_entity_task(utils.glacier_statistics, gdirs)"
   ]
  },
  {
   "cell_type": "code",
   "execution_count": 25,
   "metadata": {},
   "outputs": [],
   "source": [
    "# extract glacier geometries\n",
    "length = np.array([gs.get('longuest_centerline_km', np.NaN) * 1e3\n",
    "          for gs in glacier_stats])\n",
    "area = np.array([gs.get('rgi_area_km2', np.NaN) * 1e6 for gs in glacier_stats])\n",
    "volume = np.array([gs.get('inv_volume_km3', np.NaN) * 1e9 for gs in glacier_stats])"
   ]
  },
  {
   "cell_type": "code",
   "execution_count": 27,
   "metadata": {},
   "outputs": [],
   "source": [
    "# remove non finite values\n",
    "idx_finite = np.isfinite(length) & np.isfinite(area) & np.isfinite(volume)\n",
    "length = length[idx_finite]\n",
    "area = area[idx_finite]\n",
    "volume = volume[idx_finite]"
   ]
  },
  {
   "cell_type": "markdown",
   "metadata": {},
   "source": [
    "**Visualization**"
   ]
  },
  {
   "cell_type": "code",
   "execution_count": 28,
   "metadata": {},
   "outputs": [
    {
     "data": {
      "text/plain": [
       "<matplotlib.legend.Legend at 0x14b451320>"
      ]
     },
     "execution_count": 28,
     "metadata": {},
     "output_type": "execute_result"
    },
    {
     "data": {
      "image/png": "[encoded data removed]",
      "text/plain": [
       "<Figure size 432x288 with 1 Axes>"
      ]
     },
     "metadata": {
      "needs_background": "light"
     },
     "output_type": "display_data"
    }
   ],
   "source": [
    "# V/A scatter plot for glaciers\n",
    "plt.loglog(area, volume, ls='None', marker='x', color='#f3672d', label='glaciers')\n",
    "# draw scaling relation ship\n",
    "x = np.sort(area)\n",
    "c = cfg.PARAMS['vas_c_area_m2']\n",
    "gamma = cfg.PARAMS['vas_gamma_area']\n",
    "plt.plot(x, c*x**gamma, ls='-', label='global scaling')\n",
    "plt.xlabel('Surface area [m$^2$]')\n",
    "plt.ylabel('Ice volume [m$^3$]')\n",
    "plt.legend()"
   ]
  },
  {
   "cell_type": "markdown",
   "metadata": {},
   "source": [
    "**Linear Regression**"
   ]
  },
  {
   "cell_type": "code",
   "execution_count": 29,
   "metadata": {},
   "outputs": [],
   "source": [
    "# import linear model\n",
    "from sklearn.linear_model import LinearRegression"
   ]
  },
  {
   "cell_type": "code",
   "execution_count": 30,
   "metadata": {},
   "outputs": [
    {
     "name": "stdout",
     "output_type": "stream",
     "text": [
      "Linear regression\n",
      "-----------------\n",
      "r-squared: 0.996\n",
      "intercept: -0.488\n",
      "slope: 1.316\n"
     ]
    }
   ],
   "source": [
    "# use logartithmic area and volume as x and y values\n",
    "lm_x = np.log(area).reshape(-1, 1)\n",
    "lm_y = np.log(volume)\n",
    "# define model and fit curve\n",
    "lin_mod = LinearRegression(fit_intercept=True)\n",
    "lin_mod.fit(lm_x, lm_y)\n",
    "# compute r-squared\n",
    "r_sq = lin_mod.score(lm_x, lm_y)\n",
    "# print results\n",
    "print('Linear regression\\n-----------------')\n",
    "print(f'r-squared: {r_sq:.3f}')\n",
    "print(f'intercept: {lin_mod.intercept_:.3f}')\n",
    "print(f'slope: {lin_mod.coef_[0]:.3f}')"
   ]
  },
  {
   "cell_type": "markdown",
   "metadata": {},
   "source": [
    "Slope and intercept of the linear model correspond to the log-log space. Hence, the results must be \"translated\"..."
   ]
  },
  {
   "cell_type": "code",
   "execution_count": 31,
   "metadata": {},
   "outputs": [
    {
     "name": "stdout",
     "output_type": "stream",
     "text": [
      "Scaling law from linear regression\n",
      "----------------------------------\n",
      "V = 0.614 S**1.316\n"
     ]
    }
   ],
   "source": [
    "# get scaling constant and exponent from linear model\n",
    "gamma_lm = lin_mod.coef_[0]\n",
    "c_lm = np.exp(lin_mod.intercept_)\n",
    "print('Scaling law from linear regression\\n----------------------------------')\n",
    "print(f'V = {c_lm:.3f} S**{gamma_lm:.3f}')"
   ]
  },
  {
   "cell_type": "code",
   "execution_count": 32,
   "metadata": {},
   "outputs": [
    {
     "data": {
      "text/plain": [
       "<matplotlib.legend.Legend at 0x14c624dd8>"
      ]
     },
     "execution_count": 32,
     "metadata": {},
     "output_type": "execute_result"
    },
    {
     "data": {
      "image/png": "[encoded data removed]",
      "text/plain": [
       "<Figure size 432x288 with 1 Axes>"
      ]
     },
     "metadata": {
      "needs_background": "light"
     },
     "output_type": "display_data"
    }
   ],
   "source": [
    "# compare to linear to log scaling law\n",
    "# plt.plot(area, volume, ls='None', marker='o', label='glaciers')\n",
    "plt.loglog(x, c_lm * x**gamma_lm, marker='None', label='regional scaling')\n",
    "plt.plot(x, np.exp(np.log(x)*lin_mod.coef_[0] + lin_mod.intercept_), 'r-', label='logarthmic scaling')\n",
    "plt.plot(x, (c_lm * x**gamma_lm) - np.exp(np.log(x)*lin_mod.coef_[0] + lin_mod.intercept_),\n",
    "           marker='x', label='difference', ls='None')\n",
    "plt.xlabel('Surface area [m$^2$]')\n",
    "plt.ylabel('Ice volume [m$^3$]')\n",
    "plt.legend()"
   ]
  },
  {
   "cell_type": "markdown",
   "metadata": {},
   "source": [
    "My calculations seem to be right (after I found my error 😅). The differences in the range of 10$^{-6}$ to 10$^{-9}$ m$^3$ are of numerical nature"
   ]
  },
  {
   "cell_type": "code",
   "execution_count": 33,
   "metadata": {},
   "outputs": [
    {
     "data": {
      "text/plain": [
       "<matplotlib.legend.Legend at 0x14cc76e10>"
      ]
     },
     "execution_count": 33,
     "metadata": {},
     "output_type": "execute_result"
    },
    {
     "data": {
      "image/png": "[encoded data removed]",
      "text/plain": [
       "<Figure size 432x288 with 1 Axes>"
      ]
     },
     "metadata": {
      "needs_background": "light"
     },
     "output_type": "display_data"
    }
   ],
   "source": [
    "# V/A scatter plot for glaciers\n",
    "plt.plot(area, volume, ls='None', marker='x', label='glaciers')\n",
    "# draw scaling relationship\n",
    "plt.plot(x, c*x**gamma, ls='-', label='global scaling')\n",
    "plt.plot(x, c_lm*x**gamma_lm, ls='-', label='regional scaling')\n",
    "plt.xlabel('Surface area [m$^2$]')\n",
    "plt.ylabel('Ice volume [m$^3$]')\n",
    "plt.legend()"
   ]
  },
  {
   "cell_type": "markdown",
   "metadata": {},
   "source": [
    "However, the scaling exponent has a physical basis and shall be fixed. Hereafter I'm estimating the scaling constant for a fixed scaling exponent (slope in the log-log space) of 1.375."
   ]
  },
  {
   "cell_type": "code",
   "execution_count": 34,
   "metadata": {},
   "outputs": [
    {
     "data": {
      "text/plain": [
       "0.3016498216903299"
      ]
     },
     "execution_count": 34,
     "metadata": {},
     "output_type": "execute_result"
    }
   ],
   "source": [
    "# compute average of single scaling constants\n",
    "# by solving the scaling realtion for c\n",
    "c_avg = np.mean(volume/area**gamma)\n",
    "c_avg"
   ]
  },
  {
   "cell_type": "markdown",
   "metadata": {},
   "source": [
    "Compute difference between true volumes and predicted volumes, and fit a line with slope 1 to get the intercept"
   ]
  },
  {
   "cell_type": "code",
   "execution_count": 35,
   "metadata": {},
   "outputs": [
    {
     "data": {
      "text/plain": [
       "<matplotlib.legend.Legend at 0x14cdd09b0>"
      ]
     },
     "execution_count": 35,
     "metadata": {},
     "output_type": "execute_result"
    },
    {
     "data": {
      "image/png": "[encoded data removed]",
      "text/plain": [
       "<Figure size 432x288 with 1 Axes>"
      ]
     },
     "metadata": {
      "needs_background": "light"
     },
     "output_type": "display_data"
    }
   ],
   "source": [
    "plt.scatter(np.zeros(lm_y.shape), lm_y-gamma*lm_x.flatten(), label='difference')\n",
    "plt.plot([-1,1],np.array([-1,1])-1.219, 'r-', label='linear fit with slope 1')\n",
    "plt.axhline(0, ls=':', c='k')\n",
    "plt.axvline(0, ls=':', c='k')\n",
    "plt.text(0.95, 0.05,'x')\n",
    "plt.text(0.02, 0.4,'y')\n",
    "plt.ylim([-2, 0.5])\n",
    "plt.xlim([-1, 1])\n",
    "plt.legend(loc=4)"
   ]
  },
  {
   "cell_type": "code",
   "execution_count": 36,
   "metadata": {},
   "outputs": [
    {
     "data": {
      "text/plain": [
       "-1.218864590857477"
      ]
     },
     "execution_count": 36,
     "metadata": {},
     "output_type": "execute_result"
    }
   ],
   "source": [
    "# compute intercept as mean of differences\n",
    "intercept = np.mean(lm_y-gamma*lm_x.flatten())\n",
    "intercept"
   ]
  },
  {
   "cell_type": "markdown",
   "metadata": {},
   "source": [
    "Test validity of my assumption with an actual linear regression"
   ]
  },
  {
   "cell_type": "code",
   "execution_count": 37,
   "metadata": {},
   "outputs": [
    {
     "name": "stdout",
     "output_type": "stream",
     "text": [
      "Linear regression\n",
      "-----------------\n",
      "r-squared: 0.000\n",
      "intercept: -1.2188645908574769\n",
      "slope: 0.000\n"
     ]
    }
   ],
   "source": [
    "# use logartithmic area and volume as x and y values\n",
    "lm_x = np.zeros(area.shape).reshape(-1, 1)\n",
    "lm_y = np.log(volume) - gamma * np.log(area)\n",
    "# define model and fit curve\n",
    "lin_mod = LinearRegression(fit_intercept=True)\n",
    "lin_mod.fit(lm_x, lm_y)\n",
    "# compute r-squared\n",
    "r_sq = lin_mod.score(lm_x, lm_y)\n",
    "# print results\n",
    "print('Linear regression\\n-----------------')\n",
    "print(f'r-squared: {r_sq:.3f}')\n",
    "print(f'intercept: {lin_mod.intercept_:.16f}')\n",
    "print(f'slope: {lin_mod.coef_[0]:.3f}')"
   ]
  },
  {
   "cell_type": "markdown",
   "metadata": {},
   "source": [
    "Seems legit, now compute $r^2$"
   ]
  },
  {
   "cell_type": "code",
   "execution_count": 43,
   "metadata": {},
   "outputs": [
    {
     "data": {
      "text/plain": [
       "0.993537073392653"
      ]
     },
     "execution_count": 43,
     "metadata": {},
     "output_type": "execute_result"
    }
   ],
   "source": [
    "from sklearn.metrics import r2_score\n",
    "r2 = r2_score(np.log(volume), gamma*np.log(area)+intercept)\n",
    "r2"
   ]
  },
  {
   "cell_type": "markdown",
   "metadata": {},
   "source": [
    "Visualize"
   ]
  },
  {
   "cell_type": "code",
   "execution_count": 44,
   "metadata": {},
   "outputs": [
    {
     "data": {
      "text/plain": [
       "<matplotlib.legend.Legend at 0x14cf9ce48>"
      ]
     },
     "execution_count": 44,
     "metadata": {},
     "output_type": "execute_result"
    },
    {
     "data": {
      "image/png": "[encoded data removed]",
      "text/plain": [
       "<Figure size 432x288 with 1 Axes>"
      ]
     },
     "metadata": {
      "needs_background": "light"
     },
     "output_type": "display_data"
    }
   ],
   "source": [
    "# V/A scatter plot for glaciers\n",
    "plt.plot(area, volume, ls='None', marker='x', label='glaciers')\n",
    "# draw scaling relationship\n",
    "plt.loglog(x, c*x**gamma, ls='-', label='global scaling')\n",
    "plt.plot(x, c_lm*x**gamma_lm, ls='-', label='regional scaling')\n",
    "plt.plot(x, np.exp(intercept)*x**gamma, ls='-', label='only scaling constant')\n",
    "plt.xlabel('Surface area [m$^2$]')\n",
    "plt.ylabel('Ice volume [m$^3$]')\n",
    "plt.legend()"
   ]
  },
  {
   "cell_type": "markdown",
   "metadata": {},
   "source": [
    "The following part is not curated, so \"Abandon all hope, ye who enter here.\""
   ]
  },
  {
   "cell_type": "code",
   "execution_count": null,
   "metadata": {},
   "outputs": [],
   "source": []
  },
  {
   "cell_type": "code",
   "execution_count": null,
   "metadata": {},
   "outputs": [],
   "source": []
  },
  {
   "cell_type": "code",
   "execution_count": null,
   "metadata": {},
   "outputs": [],
   "source": []
  },
  {
   "cell_type": "code",
   "execution_count": null,
   "metadata": {},
   "outputs": [],
   "source": []
  },
  {
   "cell_type": "code",
   "execution_count": null,
   "metadata": {},
   "outputs": [],
   "source": []
  },
  {
   "cell_type": "code",
   "execution_count": null,
   "metadata": {},
   "outputs": [],
   "source": []
  },
  {
   "cell_type": "code",
   "execution_count": null,
   "metadata": {},
   "outputs": [],
   "source": []
  },
  {
   "cell_type": "code",
   "execution_count": null,
   "metadata": {},
   "outputs": [],
   "source": []
  },
  {
   "cell_type": "markdown",
   "metadata": {},
   "source": [
    "Test my routine"
   ]
  },
  {
   "cell_type": "code",
   "execution_count": 403,
   "metadata": {},
   "outputs": [],
   "source": [
    "import importlib"
   ]
  },
  {
   "cell_type": "code",
   "execution_count": 401,
   "metadata": {},
   "outputs": [],
   "source": [
    "import oggm_vas as vascaling"
   ]
  },
  {
   "cell_type": "code",
   "execution_count": 407,
   "metadata": {},
   "outputs": [
    {
     "name": "stderr",
     "output_type": "stream",
     "text": [
      "2020-09-23 18:00:51: oggm.workflow: Execute entity task glacier_statistics on 54 glaciers\n"
     ]
    }
   ],
   "source": [
    "glacier_stats = workflow.execute_entity_task(utils.glacier_statistics, gdirs)"
   ]
  },
  {
   "cell_type": "code",
   "execution_count": 446,
   "metadata": {},
   "outputs": [
    {
     "ename": "AttributeError",
     "evalue": "'list' object has no attribute 'get_task_status'",
     "output_type": "error",
     "traceback": [
      "\u001b[0;31m---------------------------------------------------------------------------\u001b[0m",
      "\u001b[0;31mAttributeError\u001b[0m                            Traceback (most recent call last)",
      "\u001b[0;32m<ipython-input-446-8c4f84c44d54>\u001b[0m in \u001b[0;36m<module>\u001b[0;34m\u001b[0m\n\u001b[1;32m      1\u001b[0m \u001b[0mimportlib\u001b[0m\u001b[0;34m.\u001b[0m\u001b[0mreload\u001b[0m\u001b[0;34m(\u001b[0m\u001b[0mvascaling\u001b[0m\u001b[0;34m)\u001b[0m\u001b[0;34m\u001b[0m\u001b[0;34m\u001b[0m\u001b[0m\n\u001b[0;32m----> 2\u001b[0;31m \u001b[0mvascaling\u001b[0m\u001b[0;34m.\u001b[0m\u001b[0mget_scaling_constants\u001b[0m\u001b[0;34m(\u001b[0m\u001b[0mgdirs\u001b[0m\u001b[0;34m)\u001b[0m\u001b[0;34m\u001b[0m\u001b[0;34m\u001b[0m\u001b[0m\n\u001b[0m",
      "\u001b[0;32m~/oggm-vas/oggm_vas/core.py\u001b[0m in \u001b[0;36mget_scaling_constants\u001b[0;34m(gdirs, c_l, c_a)\u001b[0m\n\u001b[1;32m    175\u001b[0m \u001b[0;34m\u001b[0m\u001b[0m\n\u001b[1;32m    176\u001b[0m     \"\"\"\n\u001b[0;32m--> 177\u001b[0;31m     \u001b[0;31m# get glacier geometries\u001b[0m\u001b[0;34m\u001b[0m\u001b[0;34m\u001b[0m\u001b[0;34m\u001b[0m\u001b[0m\n\u001b[0m\u001b[1;32m    178\u001b[0m     \u001b[0mglacier_stats\u001b[0m \u001b[0;34m=\u001b[0m \u001b[0mworkflow\u001b[0m\u001b[0;34m.\u001b[0m\u001b[0mexecute_entity_task\u001b[0m\u001b[0;34m(\u001b[0m\u001b[0mutils\u001b[0m\u001b[0;34m.\u001b[0m\u001b[0mglacier_statistics\u001b[0m\u001b[0;34m,\u001b[0m \u001b[0mgdirs\u001b[0m\u001b[0;34m)\u001b[0m\u001b[0;34m\u001b[0m\u001b[0;34m\u001b[0m\u001b[0m\n\u001b[1;32m    179\u001b[0m     \u001b[0mlength\u001b[0m \u001b[0;34m=\u001b[0m \u001b[0;34m[\u001b[0m\u001b[0mgs\u001b[0m\u001b[0;34m[\u001b[0m\u001b[0;34m'longuest_centerline_km'\u001b[0m\u001b[0;34m]\u001b[0m \u001b[0;34m*\u001b[0m \u001b[0;36m1e3\u001b[0m \u001b[0;32mfor\u001b[0m \u001b[0mgs\u001b[0m \u001b[0;32min\u001b[0m \u001b[0mglacier_stats\u001b[0m\u001b[0;34m]\u001b[0m\u001b[0;34m\u001b[0m\u001b[0;34m\u001b[0m\u001b[0m\n",
      "\u001b[0;32m~/oggm-fork/oggm/utils/_workflow.py\u001b[0m in \u001b[0;36m_entity_task\u001b[0;34m(gdir, reset, print_log, **kwargs)\u001b[0m\n\u001b[1;32m    446\u001b[0m \u001b[0;34m\u001b[0m\u001b[0m\n\u001b[1;32m    447\u001b[0m             \u001b[0;31m# Do we need to run this task?\u001b[0m\u001b[0;34m\u001b[0m\u001b[0;34m\u001b[0m\u001b[0;34m\u001b[0m\u001b[0m\n\u001b[0;32m--> 448\u001b[0;31m             \u001b[0ms\u001b[0m \u001b[0;34m=\u001b[0m \u001b[0mgdir\u001b[0m\u001b[0;34m.\u001b[0m\u001b[0mget_task_status\u001b[0m\u001b[0;34m(\u001b[0m\u001b[0mtask_name\u001b[0m\u001b[0;34m)\u001b[0m\u001b[0;34m\u001b[0m\u001b[0;34m\u001b[0m\u001b[0m\n\u001b[0m\u001b[1;32m    449\u001b[0m             \u001b[0;32mif\u001b[0m \u001b[0;32mnot\u001b[0m \u001b[0mreset\u001b[0m \u001b[0;32mand\u001b[0m \u001b[0ms\u001b[0m \u001b[0;32mand\u001b[0m \u001b[0;34m(\u001b[0m\u001b[0;34m'SUCCESS'\u001b[0m \u001b[0;32min\u001b[0m \u001b[0ms\u001b[0m\u001b[0;34m)\u001b[0m\u001b[0;34m:\u001b[0m\u001b[0;34m\u001b[0m\u001b[0;34m\u001b[0m\u001b[0m\n\u001b[1;32m    450\u001b[0m                 \u001b[0;32mreturn\u001b[0m\u001b[0;34m\u001b[0m\u001b[0;34m\u001b[0m\u001b[0m\n",
      "\u001b[0;31mAttributeError\u001b[0m: 'list' object has no attribute 'get_task_status'"
     ]
    }
   ],
   "source": [
    "importlib.reload(vascaling)\n",
    "vascaling.get_scaling_constants(gdirs)"
   ]
  },
  {
   "cell_type": "code",
   "execution_count": 423,
   "metadata": {},
   "outputs": [
    {
     "data": {
      "text/plain": [
       "array([2.54186393, 0.29556556])"
      ]
     },
     "execution_count": 423,
     "metadata": {},
     "output_type": "execute_result"
    }
   ],
   "source": [
    "np.exp([0.932897644492324, -1.218864590857477])"
   ]
  },
  {
   "cell_type": "code",
   "execution_count": 424,
   "metadata": {},
   "outputs": [
    {
     "data": {
      "text/plain": [
       "0.23710847111774527"
      ]
     },
     "execution_count": 424,
     "metadata": {},
     "output_type": "execute_result"
    }
   ],
   "source": [
    "2.54186393*(glacier_stats[0]['longuest_centerline_km']*1e3)**cfg.PARAMS['vas_q_length']/((glacier_stats[0]['rgi_area_km2']*1e6)**cfg.PARAMS['vas_gamma_area'])"
   ]
  },
  {
   "cell_type": "code",
   "execution_count": null,
   "metadata": {},
   "outputs": [],
   "source": [
    "scaling_const_list = [(1.5038582086557708, 0.24399290770672957)]  # HEF\n",
    "scaling_const_list.append((4.5507, 0.191))  # Global"
   ]
  },
  {
   "cell_type": "code",
   "execution_count": 429,
   "metadata": {},
   "outputs": [
    {
     "name": "stdout",
     "output_type": "stream",
     "text": [
      "35\n"
     ]
    }
   ],
   "source": [
    "for i, gs in enumerate(glacier_stats):\n",
    "    if gs['rgi_id'] == 'RGI60-11.00897':\n",
    "        print(i)"
   ]
  },
  {
   "cell_type": "code",
   "execution_count": 444,
   "metadata": {},
   "outputs": [],
   "source": [
    "l = glacier_stats[35]['longuest_centerline_km']*1e3\n",
    "a = glacier_stats[35]['rgi_area_km2']*1e6\n",
    "v = glacier_stats[35]['inv_volume_km3']*1e9"
   ]
  },
  {
   "cell_type": "code",
   "execution_count": 439,
   "metadata": {},
   "outputs": [],
   "source": [
    "l = length.mean()\n",
    "a = area.mean()\n",
    "v = volume.mean()"
   ]
  },
  {
   "cell_type": "code",
   "execution_count": 440,
   "metadata": {},
   "outputs": [
    {
     "data": {
      "text/plain": [
       "0.43371560550898725"
      ]
     },
     "execution_count": 440,
     "metadata": {},
     "output_type": "execute_result"
    }
   ],
   "source": [
    "v/(a**gamma)"
   ]
  },
  {
   "cell_type": "code",
   "execution_count": 436,
   "metadata": {},
   "outputs": [
    {
     "data": {
      "text/plain": [
       "1.555450648460997"
      ]
     },
     "execution_count": 436,
     "metadata": {},
     "output_type": "execute_result"
    }
   ],
   "source": [
    "v/(l**cfg.PARAMS['vas_q_length'])"
   ]
  },
  {
   "cell_type": "code",
   "execution_count": 443,
   "metadata": {},
   "outputs": [
    {
     "data": {
      "text/plain": [
       "5.961741470086434"
      ]
     },
     "execution_count": 443,
     "metadata": {},
     "output_type": "execute_result"
    }
   ],
   "source": [
    "(a**gamma)/(l**cfg.PARAMS['vas_q_length'])*0.29556556"
   ]
  },
  {
   "cell_type": "code",
   "execution_count": 3,
   "metadata": {},
   "outputs": [
    {
     "name": "stderr",
     "output_type": "stream",
     "text": [
      "2020-09-24 10:25:29: oggm.cfg: Reading default parameters from the OGGM `params.cfg` configuration file.\n",
      "2020-09-24 10:25:29: oggm.cfg: Multiprocessing switched ON according to the parameter file.\n",
      "2020-09-24 10:25:29: oggm.cfg: Multiprocessing: using all available processors (N=4)\n",
      "2020-09-24 10:25:29: oggm.utils: Checking the download verification file checksum...\n",
      "2020-09-24 10:25:30: oggm.workflow: init_glacier_directories by parsing all available folders (this takes time: if possible, provide rgidf instead).\n"
     ]
    }
   ],
   "source": [
    "cfg.initialize()\n",
    "cfg.PATHS['working_dir'] = '/Users/oberrauch/work/master/working_directories/scaling_params/'\n",
    "gdirs = workflow.init_glacier_directories()"
   ]
  },
  {
   "cell_type": "code",
   "execution_count": 5,
   "metadata": {},
   "outputs": [
    {
     "name": "stderr",
     "output_type": "stream",
     "text": [
      "2020-09-24 10:26:22: oggm.workflow: Execute entity task glacier_statistics on 64 glaciers\n",
      "2020-09-24 10:26:22: oggm.utils: (RGI60-11.00073) glacier_statistics\n",
      "2020-09-24 10:26:22: oggm.utils: (RGI60-11.00080) glacier_statistics\n",
      "2020-09-24 10:26:22: oggm.utils: (RGI60-11.00012) glacier_statistics\n",
      "2020-09-24 10:26:22: oggm.utils: (RGI60-11.00002) glacier_statistics\n",
      "2020-09-24 10:26:23: oggm.utils: (RGI60-11.00106) glacier_statistics2020-09-24 10:26:23: oggm.utils: (RGI60-11.00190) glacier_statistics\n",
      "\n",
      "2020-09-24 10:26:23: oggm.utils: (RGI60-11.00251) glacier_statistics\n",
      "2020-09-24 10:26:23: oggm.utils: (RGI60-11.00289) glacier_statistics\n",
      "2020-09-24 10:26:24: oggm.utils: (RGI60-11.00300) glacier_statistics\n",
      "2020-09-24 10:26:24: oggm.utils: (RGI60-11.00603) glacier_statistics\n",
      "2020-09-24 10:26:24: oggm.utils: (RGI60-11.00619) glacier_statistics\n",
      "2020-09-24 10:26:24: oggm.utils: (RGI60-11.00638) glacier_statistics\n",
      "2020-09-24 10:26:24: oggm.utils: (RGI60-11.00647) glacier_statistics\n",
      "2020-09-24 10:26:25: oggm.utils: (RGI60-11.00719) glacier_statistics\n",
      "2020-09-24 10:26:25: oggm.utils: (RGI60-11.00746) glacier_statistics\n",
      "2020-09-24 10:26:25: oggm.utils: (RGI60-11.00781) glacier_statistics\n",
      "2020-09-24 10:26:25: oggm.utils: (RGI60-11.00787) glacier_statistics\n",
      "2020-09-24 10:26:25: oggm.utils: (RGI60-11.00797) glacier_statistics\n",
      "2020-09-24 10:26:25: oggm.utils: (RGI60-11.00804) glacier_statistics\n",
      "2020-09-24 10:26:25: oggm.utils: (RGI60-11.00807) glacier_statistics\n",
      "2020-09-24 10:26:26: oggm.utils: (RGI60-11.00843) glacier_statistics\n",
      "2020-09-24 10:26:26: oggm.utils: (RGI60-11.00892) glacier_statistics\n",
      "2020-09-24 10:26:26: oggm.utils: (RGI60-11.00897) glacier_statistics\n",
      "2020-09-24 10:26:26: oggm.utils: (RGI60-11.00918) glacier_statistics\n",
      "2020-09-24 10:26:27: oggm.utils: (RGI60-11.00929) glacier_statistics\n",
      "2020-09-24 10:26:27: oggm.utils: (RGI60-11.01238) glacier_statistics\n",
      "2020-09-24 10:26:27: oggm.utils: (RGI60-11.01328) glacier_statistics\n",
      "2020-09-24 10:26:27: oggm.utils: (RGI60-11.01346) glacier_statistics\n",
      "2020-09-24 10:26:27: oggm.utils: (RGI60-11.01450) glacier_statistics\n",
      "2020-09-24 10:26:27: oggm.utils: (RGI60-11.01478) glacier_statistics2020-09-24 10:26:27: oggm.utils: (RGI60-11.01662) glacier_statistics\n",
      "\n",
      "2020-09-24 10:26:28: oggm.utils: (RGI60-11.01704) glacier_statistics\n",
      "2020-09-24 10:26:28: oggm.utils: (RGI60-11.01776) glacier_statistics\n",
      "2020-09-24 10:26:28: oggm.utils: (RGI60-11.01827) glacier_statistics\n",
      "2020-09-24 10:26:28: oggm.utils: (RGI60-11.01834) glacier_statistics\n",
      "2020-09-24 10:26:28: oggm.utils: (RGI60-11.01876) glacier_statistics\n",
      "2020-09-24 10:26:29: oggm.utils: (RGI60-11.01930) glacier_statistics\n",
      "2020-09-24 10:26:29: oggm.utils: (RGI60-11.01946) glacier_statistics\n",
      "2020-09-24 10:26:29: oggm.utils: (RGI60-11.01987) glacier_statistics\n",
      "2020-09-24 10:26:29: oggm.utils: (RGI60-11.02072) glacier_statistics\n",
      "2020-09-24 10:26:29: oggm.utils: (RGI60-11.02214) glacier_statistics\n",
      "2020-09-24 10:26:29: oggm.utils: (RGI60-11.02245) glacier_statistics\n",
      "2020-09-24 10:26:29: oggm.utils: (RGI60-11.02249) glacier_statistics\n",
      "2020-09-24 10:26:29: oggm.utils: (RGI60-11.02285) glacier_statistics\n",
      "2020-09-24 10:26:30: oggm.utils: (RGI60-11.02648) glacier_statistics\n",
      "2020-09-24 10:26:30: oggm.utils: (RGI60-11.02671) glacier_statistics\n",
      "2020-09-24 10:26:30: oggm.utils: (RGI60-11.02679) glacier_statistics\n",
      "2020-09-24 10:26:30: oggm.utils: (RGI60-11.02704) glacier_statistics\n",
      "2020-09-24 10:26:30: oggm.utils: (RGI60-11.02739) glacier_statistics\n",
      "2020-09-24 10:26:30: oggm.utils: (RGI60-11.02746) glacier_statistics\n",
      "2020-09-24 10:26:31: oggm.utils: (RGI60-11.02764) glacier_statistics\n",
      "2020-09-24 10:26:31: oggm.utils: (RGI60-11.02766) glacier_statistics\n",
      "2020-09-24 10:26:31: oggm.utils: (RGI60-11.02773) glacier_statistics\n",
      "2020-09-24 10:26:31: oggm.utils: (RGI60-11.02774) glacier_statistics\n",
      "2020-09-24 10:26:31: oggm.utils: (RGI60-11.02822) glacier_statistics\n",
      "2020-09-24 10:26:31: oggm.utils: (RGI60-11.03084) glacier_statistics\n",
      "2020-09-24 10:26:32: oggm.utils: (RGI60-11.03135) glacier_statistics\n",
      "2020-09-24 10:26:32: oggm.utils: (RGI60-11.03166) glacier_statistics\n",
      "2020-09-24 10:26:32: oggm.utils: (RGI60-11.03246) glacier_statistics\n",
      "2020-09-24 10:26:32: oggm.utils: (RGI60-11.03638) glacier_statistics\n",
      "2020-09-24 10:26:32: oggm.utils: (RGI60-11.03643) glacier_statistics\n",
      "2020-09-24 10:26:32: oggm.utils: (RGI60-11.03671) glacier_statistics\n",
      "2020-09-24 10:26:32: oggm.utils: (RGI60-11.03674) glacier_statistics\n",
      "2020-09-24 10:26:33: oggm.utils: (RGI60-11.03756) glacier_statistics\n",
      "2020-09-24 14:39:08: oggm.utils: (RGI60-11.00012) glacier_statistics2020-09-24 14:39:08: oggm.utils: (RGI60-11.00002) glacier_statistics2020-09-24 14:39:08: oggm.utils: (RGI60-11.00073) glacier_statistics\n",
      "\n",
      "\n",
      "2020-09-24 14:39:08: oggm.utils: (RGI60-11.00080) glacier_statistics\n",
      "2020-09-24 14:39:08: oggm.utils: (RGI60-11.00106) glacier_statistics2020-09-24 14:39:08: oggm.utils: (RGI60-11.00190) glacier_statistics\n",
      "\n",
      "2020-09-24 14:39:08: oggm.utils: (RGI60-11.00251) glacier_statistics\n",
      "2020-09-24 14:39:09: oggm.utils: (RGI60-11.00289) glacier_statistics\n",
      "2020-09-24 14:39:09: oggm.utils: (RGI60-11.00300) glacier_statistics\n",
      "2020-09-24 14:39:09: oggm.utils: (RGI60-11.00603) glacier_statistics\n",
      "2020-09-24 14:39:09: oggm.utils: (RGI60-11.00619) glacier_statistics\n",
      "2020-09-24 14:39:09: oggm.utils: (RGI60-11.00638) glacier_statistics\n",
      "2020-09-24 14:39:09: oggm.utils: (RGI60-11.00647) glacier_statistics\n",
      "2020-09-24 14:39:09: oggm.utils: (RGI60-11.00719) glacier_statistics\n",
      "2020-09-24 14:39:09: oggm.utils: (RGI60-11.00746) glacier_statistics\n",
      "2020-09-24 14:39:09: oggm.utils: (RGI60-11.00781) glacier_statistics\n",
      "2020-09-24 14:39:09: oggm.utils: (RGI60-11.00787) glacier_statistics\n",
      "2020-09-24 14:39:09: oggm.utils: (RGI60-11.00797) glacier_statistics\n",
      "2020-09-24 14:39:09: oggm.utils: (RGI60-11.00804) glacier_statistics\n",
      "2020-09-24 14:39:09: oggm.utils: (RGI60-11.00843) glacier_statistics\n",
      "2020-09-24 14:39:09: oggm.utils: (RGI60-11.00807) glacier_statistics\n",
      "2020-09-24 14:39:09: oggm.utils: (RGI60-11.00892) glacier_statistics\n",
      "2020-09-24 14:39:09: oggm.utils: (RGI60-11.00897) glacier_statistics\n",
      "2020-09-24 14:39:09: oggm.utils: (RGI60-11.00918) glacier_statistics2020-09-24 14:39:09: oggm.utils: (RGI60-11.00929) glacier_statistics\n",
      "\n",
      "2020-09-24 14:39:09: oggm.utils: (RGI60-11.01238) glacier_statistics\n",
      "2020-09-24 14:39:09: oggm.utils: (RGI60-11.01328) glacier_statistics\n",
      "2020-09-24 14:39:09: oggm.utils: (RGI60-11.01346) glacier_statistics\n",
      "2020-09-24 14:39:09: oggm.utils: (RGI60-11.01450) glacier_statistics2020-09-24 14:39:09: oggm.utils: (RGI60-11.01478) glacier_statistics\n",
      "\n",
      "2020-09-24 14:39:09: oggm.utils: (RGI60-11.01662) glacier_statistics\n",
      "2020-09-24 14:39:09: oggm.utils: (RGI60-11.01704) glacier_statistics\n",
      "2020-09-24 14:39:09: oggm.utils: (RGI60-11.01776) glacier_statistics\n",
      "2020-09-24 14:39:10: oggm.utils: (RGI60-11.01827) glacier_statistics\n",
      "2020-09-24 14:39:10: oggm.utils: (RGI60-11.01834) glacier_statistics\n",
      "2020-09-24 14:39:10: oggm.utils: (RGI60-11.01930) glacier_statistics2020-09-24 14:39:10: oggm.utils: (RGI60-11.01876) glacier_statistics\n",
      "2020-09-24 14:39:10: oggm.utils: (RGI60-11.01946) glacier_statistics\n",
      "\n",
      "2020-09-24 14:39:10: oggm.utils: (RGI60-11.01987) glacier_statistics\n",
      "2020-09-24 14:39:10: oggm.utils: (RGI60-11.02072) glacier_statistics\n",
      "2020-09-24 14:39:10: oggm.utils: (RGI60-11.02214) glacier_statistics\n",
      "2020-09-24 14:39:10: oggm.utils: (RGI60-11.02245) glacier_statistics\n",
      "2020-09-24 14:39:10: oggm.utils: (RGI60-11.02249) glacier_statistics\n",
      "2020-09-24 14:39:10: oggm.utils: (RGI60-11.02285) glacier_statistics\n",
      "2020-09-24 14:39:10: oggm.utils: (RGI60-11.02648) glacier_statistics\n",
      "2020-09-24 14:39:10: oggm.utils: (RGI60-11.02671) glacier_statistics\n",
      "2020-09-24 14:39:10: oggm.utils: (RGI60-11.02679) glacier_statistics\n",
      "2020-09-24 14:39:10: oggm.utils: (RGI60-11.02704) glacier_statistics\n",
      "2020-09-24 14:39:10: oggm.utils: (RGI60-11.02739) glacier_statistics\n",
      "2020-09-24 14:39:10: oggm.utils: (RGI60-11.02746) glacier_statistics\n",
      "2020-09-24 14:39:10: oggm.utils: (RGI60-11.02764) glacier_statistics\n",
      "2020-09-24 14:39:10: oggm.utils: (RGI60-11.02766) glacier_statistics\n",
      "2020-09-24 14:39:10: oggm.utils: (RGI60-11.02773) glacier_statistics\n",
      "2020-09-24 14:39:10: oggm.utils: (RGI60-11.02822) glacier_statistics2020-09-24 14:39:10: oggm.utils: (RGI60-11.02774) glacier_statistics\n",
      "\n",
      "2020-09-24 14:39:10: oggm.utils: (RGI60-11.03084) glacier_statistics\n",
      "2020-09-24 14:39:10: oggm.utils: (RGI60-11.03135) glacier_statistics\n",
      "2020-09-24 14:39:10: oggm.utils: (RGI60-11.03166) glacier_statistics\n",
      "2020-09-24 14:39:10: oggm.utils: (RGI60-11.03246) glacier_statistics2020-09-24 14:39:10: oggm.utils: (RGI60-11.03638) glacier_statistics\n",
      "\n",
      "2020-09-24 14:39:10: oggm.utils: (RGI60-11.03643) glacier_statistics\n",
      "2020-09-24 14:39:10: oggm.utils: (RGI60-11.03671) glacier_statistics\n",
      "2020-09-24 14:39:10: oggm.utils: (RGI60-11.03674) glacier_statistics\n",
      "2020-09-24 14:39:10: oggm.utils: (RGI60-11.03756) glacier_statistics\n",
      "2020-09-24 14:44:41: oggm.utils: (RGI60-11.00012) glacier_statistics2020-09-24 14:44:41: oggm.utils: (RGI60-11.00002) glacier_statistics\n",
      "2020-09-24 14:44:41: oggm.utils: (RGI60-11.00073) glacier_statistics2020-09-24 14:44:41: oggm.utils: (RGI60-11.00080) glacier_statistics\n",
      "\n",
      "\n",
      "2020-09-24 14:44:41: oggm.utils: (RGI60-11.00106) glacier_statistics\n",
      "2020-09-24 14:44:41: oggm.utils: (RGI60-11.00190) glacier_statistics2020-09-24 14:44:41: oggm.utils: (RGI60-11.00251) glacier_statistics\n",
      "\n",
      "2020-09-24 14:44:41: oggm.utils: (RGI60-11.00289) glacier_statistics\n",
      "2020-09-24 14:44:41: oggm.utils: (RGI60-11.00300) glacier_statistics2020-09-24 14:44:41: oggm.utils: (RGI60-11.00603) glacier_statistics2020-09-24 14:44:41: oggm.utils: (RGI60-11.00619) glacier_statistics\n",
      "\n",
      "\n",
      "2020-09-24 14:44:41: oggm.utils: (RGI60-11.00638) glacier_statistics\n",
      "2020-09-24 14:44:41: oggm.utils: (RGI60-11.00746) glacier_statistics2020-09-24 14:44:41: oggm.utils: (RGI60-11.00647) glacier_statistics2020-09-24 14:44:41: oggm.utils: (RGI60-11.00719) glacier_statistics\n",
      "\n",
      "\n",
      "2020-09-24 14:44:41: oggm.utils: (RGI60-11.00787) glacier_statistics2020-09-24 14:44:41: oggm.utils: (RGI60-11.00781) glacier_statistics\n",
      "\n",
      "2020-09-24 14:44:41: oggm.utils: (RGI60-11.00797) glacier_statistics\n",
      "2020-09-24 14:44:41: oggm.utils: (RGI60-11.00804) glacier_statistics\n",
      "2020-09-24 14:44:41: oggm.utils: (RGI60-11.00807) glacier_statistics\n",
      "2020-09-24 14:44:41: oggm.utils: (RGI60-11.00843) glacier_statistics\n",
      "2020-09-24 14:44:41: oggm.utils: (RGI60-11.00892) glacier_statistics\n",
      "2020-09-24 14:44:42: oggm.utils: (RGI60-11.00897) glacier_statistics\n",
      "2020-09-24 14:44:42: oggm.utils: (RGI60-11.00918) glacier_statistics\n",
      "2020-09-24 14:44:42: oggm.utils: (RGI60-11.00929) glacier_statistics\n",
      "2020-09-24 14:44:42: oggm.utils: (RGI60-11.01238) glacier_statistics\n",
      "2020-09-24 14:44:42: oggm.utils: (RGI60-11.01328) glacier_statistics\n",
      "2020-09-24 14:44:42: oggm.utils: (RGI60-11.01346) glacier_statistics\n",
      "2020-09-24 14:44:42: oggm.utils: (RGI60-11.01450) glacier_statistics\n",
      "2020-09-24 14:44:42: oggm.utils: (RGI60-11.01478) glacier_statistics\n",
      "2020-09-24 14:44:42: oggm.utils: (RGI60-11.01662) glacier_statistics\n",
      "2020-09-24 14:44:42: oggm.utils: (RGI60-11.01704) glacier_statistics\n",
      "2020-09-24 14:44:42: oggm.utils: (RGI60-11.01776) glacier_statistics\n",
      "2020-09-24 14:44:42: oggm.utils: (RGI60-11.01827) glacier_statistics\n",
      "2020-09-24 14:44:42: oggm.utils: (RGI60-11.01834) glacier_statistics\n",
      "2020-09-24 14:44:42: oggm.utils: (RGI60-11.01876) glacier_statistics\n",
      "2020-09-24 14:44:42: oggm.utils: (RGI60-11.01946) glacier_statistics2020-09-24 14:44:42: oggm.utils: (RGI60-11.01930) glacier_statistics\n",
      "\n",
      "2020-09-24 14:44:42: oggm.utils: (RGI60-11.01987) glacier_statistics\n",
      "2020-09-24 14:44:42: oggm.utils: (RGI60-11.02214) glacier_statistics\n",
      "2020-09-24 14:44:42: oggm.utils: (RGI60-11.02245) glacier_statistics\n",
      "2020-09-24 14:44:42: oggm.utils: (RGI60-11.02072) glacier_statistics\n",
      "2020-09-24 14:44:42: oggm.utils: (RGI60-11.02249) glacier_statistics\n",
      "2020-09-24 14:44:42: oggm.utils: (RGI60-11.02285) glacier_statistics\n",
      "2020-09-24 14:44:42: oggm.utils: (RGI60-11.02648) glacier_statistics\n",
      "2020-09-24 14:44:42: oggm.utils: (RGI60-11.02671) glacier_statistics\n",
      "2020-09-24 14:44:42: oggm.utils: (RGI60-11.02679) glacier_statistics\n",
      "2020-09-24 14:44:42: oggm.utils: (RGI60-11.02704) glacier_statistics2020-09-24 14:44:42: oggm.utils: (RGI60-11.02739) glacier_statistics\n",
      "\n",
      "2020-09-24 14:44:42: oggm.utils: (RGI60-11.02746) glacier_statistics\n",
      "2020-09-24 14:44:43: oggm.utils: (RGI60-11.02764) glacier_statistics\n",
      "2020-09-24 14:44:43: oggm.utils: (RGI60-11.02766) glacier_statistics\n",
      "2020-09-24 14:44:43: oggm.utils: (RGI60-11.02773) glacier_statistics2020-09-24 14:44:43: oggm.utils: (RGI60-11.02774) glacier_statistics\n",
      "\n",
      "2020-09-24 14:44:43: oggm.utils: (RGI60-11.02822) glacier_statistics\n",
      "2020-09-24 14:44:43: oggm.utils: (RGI60-11.03084) glacier_statistics2020-09-24 14:44:43: oggm.utils: (RGI60-11.03135) glacier_statistics\n",
      "2020-09-24 14:44:43: oggm.utils: (RGI60-11.03166) glacier_statistics\n",
      "\n",
      "2020-09-24 14:44:43: oggm.utils: (RGI60-11.03246) glacier_statistics\n",
      "2020-09-24 14:44:43: oggm.utils: (RGI60-11.03638) glacier_statistics\n",
      "2020-09-24 14:44:43: oggm.utils: (RGI60-11.03643) glacier_statistics\n",
      "2020-09-24 14:44:43: oggm.utils: (RGI60-11.03671) glacier_statistics\n",
      "2020-09-24 14:44:43: oggm.utils: (RGI60-11.03674) glacier_statistics\n",
      "2020-09-24 14:44:43: oggm.utils: (RGI60-11.03756) glacier_statistics\n"
     ]
    }
   ],
   "source": [
    "glacier_stats = workflow.execute_entity_task(utils.glacier_statistics, gdirs)"
   ]
  },
  {
   "cell_type": "code",
   "execution_count": 56,
   "metadata": {},
   "outputs": [],
   "source": [
    "# get glacier geometries\n",
    "rgi_id = [gs.get('rgi_id', np.NaN) for gs in glacier_stats]\n",
    "length = [gs.get('longuest_centerline_km', np.NaN)*1e3 for gs in glacier_stats]\n",
    "area = [gs.get('rgi_area_km2', np.NaN)*1e6 for gs in glacier_stats]\n",
    "volume = [gs.get('inv_volume_km3', np.NaN)*1e9 for gs in glacier_stats]"
   ]
  },
  {
   "cell_type": "code",
   "execution_count": 62,
   "metadata": {},
   "outputs": [],
   "source": [
    "# create DataFrame\n",
    "df = pd.DataFrame({'length': length, 'area': area, 'volume': volume},\n",
    "                  index=pd.Index(rgi_id, name='rgi_id'))\n",
    "# drop glaciers where one of the geometries is missing\n",
    "df = df.dropna()"
   ]
  },
  {
   "cell_type": "code",
   "execution_count": 63,
   "metadata": {},
   "outputs": [
    {
     "data": {
      "text/plain": [
       "3.3907554063667713"
      ]
     },
     "execution_count": 63,
     "metadata": {},
     "output_type": "execute_result"
    }
   ],
   "source": [
    "np.exp(np.mean(np.log(df.volume) - cfg.PARAMS['vas_q_length'] * np.log(df.length)))"
   ]
  },
  {
   "cell_type": "code",
   "execution_count": 64,
   "metadata": {},
   "outputs": [
    {
     "data": {
      "text/plain": [
       "0.2828969812133208"
      ]
     },
     "execution_count": 64,
     "metadata": {},
     "output_type": "execute_result"
    }
   ],
   "source": [
    "np.exp(np.mean(np.log(df.volume) - cfg.PARAMS['vas_gamma_area'] * np.log(df.area)))"
   ]
  },
  {
   "cell_type": "code",
   "execution_count": 8,
   "metadata": {},
   "outputs": [],
   "source": [
    "import oggm_vas"
   ]
  },
  {
   "cell_type": "code",
   "execution_count": 75,
   "metadata": {},
   "outputs": [],
   "source": [
    "import importlib"
   ]
  },
  {
   "cell_type": "code",
   "execution_count": 76,
   "metadata": {},
   "outputs": [
    {
     "data": {
      "text/plain": [
       "<module 'oggm_vas' from '/Users/oberrauch/oggm-vas/oggm_vas/__init__.py'>"
      ]
     },
     "execution_count": 76,
     "metadata": {},
     "output_type": "execute_result"
    }
   ],
   "source": [
    "importlib.reload(oggm_vas)"
   ]
  },
  {
   "cell_type": "code",
   "execution_count": null,
   "metadata": {},
   "outputs": [],
   "source": []
  },
  {
   "cell_type": "code",
   "execution_count": 18,
   "metadata": {},
   "outputs": [],
   "source": [
    "tmp = {'tmp': {'c_l': 2.541863934766808, 'c_a': 0.2955655643252947}, 'asdf': {'c_l': 2.541863934766808, 'c_a': 0.2955655643252947}}"
   ]
  },
  {
   "cell_type": "code",
   "execution_count": 19,
   "metadata": {},
   "outputs": [],
   "source": [
    "import json"
   ]
  },
  {
   "cell_type": "code",
   "execution_count": 20,
   "metadata": {},
   "outputs": [],
   "source": [
    "tmp_json = json.dumps(tmp)\n",
    "f = open('tmp.json', 'w')\n",
    "f.write(tmp_json)\n",
    "f.close()"
   ]
  },
  {
   "cell_type": "code",
   "execution_count": 30,
   "metadata": {},
   "outputs": [],
   "source": [
    "f = open('tmp.json')\n",
    "asdf = f.read()"
   ]
  },
  {
   "cell_type": "code",
   "execution_count": 36,
   "metadata": {},
   "outputs": [],
   "source": [
    "import json"
   ]
  },
  {
   "cell_type": "code",
   "execution_count": 122,
   "metadata": {},
   "outputs": [
    {
     "data": {
      "text/plain": [
       "{'const_only': {'c_l': 1.8054161530060988, 'c_a': 0.25011939131456845},\n",
       " 'const_expo': {'c_l': 0.24422551484811786,\n",
       "  'c_a': 0.1174364450731111,\n",
       "  'q': 2.5169432018343123,\n",
       "  'gamma': 1.4405359898536096,\n",
       "  'r_sq_l': 0.9452045956477748,\n",
       "  'r_sq_a': 0.9805846817427352}}"
      ]
     },
     "execution_count": 122,
     "metadata": {},
     "output_type": "execute_result"
    }
   ],
   "source": [
    "tmp = json.load(open('/Users/oberrauch/work/master/data/scaling_params/scaling_params.json'))\n",
    "tmp"
   ]
  },
  {
   "cell_type": "code",
   "execution_count": 131,
   "metadata": {},
   "outputs": [],
   "source": [
    "list(tmp['const_only'].values())"
   ]
  },
  {
   "cell_type": "code",
   "execution_count": 138,
   "metadata": {},
   "outputs": [
    {
     "data": {
      "text/plain": [
       "(0.24422551484811786,\n",
       " 0.1174364450731111,\n",
       " 2.5169432018343123,\n",
       " 1.4405359898536096)"
      ]
     },
     "execution_count": 138,
     "metadata": {},
     "output_type": "execute_result"
    }
   ],
   "source": [
    "tuple(list(tmp['const_expo'].values())[:4])"
   ]
  },
  {
   "cell_type": "raw",
   "metadata": {},
   "source": []
  },
  {
   "cell_type": "code",
   "execution_count": 140,
   "metadata": {},
   "outputs": [
    {
     "name": "stderr",
     "output_type": "stream",
     "text": [
      "2020-09-25 13:05:45: oggm.cfg: Reading default parameters from the OGGM `params.cfg` configuration file.\n",
      "2020-09-25 13:05:45: oggm.cfg: Multiprocessing switched ON according to the parameter file.\n",
      "2020-09-25 13:05:45: oggm.cfg: Multiprocessing: using all available processors (N=4)\n"
     ]
    }
   ],
   "source": [
    "cfg.initialize()"
   ]
  },
  {
   "cell_type": "code",
   "execution_count": 142,
   "metadata": {},
   "outputs": [
    {
     "data": {
      "text/plain": [
       "0.191"
      ]
     },
     "execution_count": 142,
     "metadata": {},
     "output_type": "execute_result"
    }
   ],
   "source": [
    "cfg.PARAMS['vas_c_area_m2']"
   ]
  },
  {
   "cell_type": "code",
   "execution_count": 85,
   "metadata": {},
   "outputs": [],
   "source": [
    "scaling_constants=[(4.5507, 0.191), (123123, 975)]\n",
    "scaling_exponents=[(2.2, 1.375)]\n",
    "time_scale_factors=[1, 100]"
   ]
  },
  {
   "cell_type": "code",
   "execution_count": 86,
   "metadata": {},
   "outputs": [],
   "source": [
    "# limit parameters to 3 decimal points\n",
    "#\n",
    "# assure that scaling params are handled as tuples (pairs)\n",
    "scaling_constants_list = np.zeros(len(scaling_constants), dtype=object)\n",
    "scaling_constants_list[:] = scaling_constants\n",
    "scaling_exponents_list = np.zeros(len(scaling_exponents), dtype=object)\n",
    "scaling_exponents_list[:] = scaling_exponents\n",
    "# combine scaling constants, scaling exponents and time scale factor\n",
    "# into one iterable array\n",
    "sensitivity_params = np.array(np.meshgrid(scaling_constants_list,\n",
    "                                          scaling_exponents_list,\n",
    "                                          time_scale_factors)).T\n",
    "sensitivity_params = (sensitivity_params\n",
    "                      .reshape(-1, sensitivity_params.shape[-1]))"
   ]
  },
  {
   "cell_type": "code",
   "execution_count": null,
   "metadata": {},
   "outputs": [],
   "source": []
  },
  {
   "cell_type": "code",
   "execution_count": 97,
   "metadata": {},
   "outputs": [],
   "source": [
    "def sensitivity_run_vas(rgi_ids, use_random_mb=False, use_mean=False,\n",
    "                        path=True, temp_bias=0, tstar=None,\n",
    "                        use_default_tstar=True, use_bias_for_run=True,\n",
    "                        scaling_constants=[(4.5507, 0.191)],\n",
    "                        scaling_exponents=[(2.2, 1.375)],\n",
    "                        time_scale_factors=[1],\n",
    "                        suffixes=['default'], **kwargs):\n",
    "    \"\"\" The routine runs all steps for the equilibrium experiments using the\n",
    "    volume/area scaling model (cf. `equilibrium_run_vas`) but for only one\n",
    "    given temperature bias. However, it is possible to supply a list of\n",
    "    sensitivity parameters (the scaling constants, and time scale factor) to\n",
    "    alter the model behavior.\n",
    "    - OGGM preprocessing, including initialization, GIS tasks, climate tasks and\n",
    "      massbalance tasks.\n",
    "    - Run model for all glaciers with constant (or random) massbalance model\n",
    "      over 3000 years (default value).\n",
    "    - Process the model output dataset(s), i.e. normalization, average/sum, ...\n",
    "\n",
    "    The final dataset containing all results is returned. Given a path is is\n",
    "    also stored to file.\n",
    "\n",
    "    Parameters\n",
    "    ----------\n",
    "    rgi_ids: array-like\n",
    "        List of RGI IDs for which the equilibrium experiments are performed.\n",
    "    use_random_mb: bool, optional, default=True\n",
    "        Choose between random massbalance model and constant massbalance model.\n",
    "    use_mean: bool, optional, default=False\n",
    "        Choose between the mean or summation over all glaciers\n",
    "    path: bool or str, optional, default=True\n",
    "        If a path is given (or True), the resulting dataset is stored to file.\n",
    "    temp_bias: float, optional, default=0\n",
    "        Temperature bias (degC) for the mass balance model.\n",
    "    sensitivity_constants: multi-dimensional array-like, optional,\n",
    "        default=[(4.5507, 0.191)]\n",
    "        List containing the scaling constants for length and area scaling as\n",
    "        tuples\n",
    "    sensitivity_params: multi-dimensional array-like, optional,\n",
    "        default=[(2.2, 1.375)]\n",
    "        List containing the scaling exponents for length and area scaling as\n",
    "        tuples\n",
    "    suffixes: array-like, optional, default=['default']\n",
    "        Descriptive suffixes corresponding to the given sensitivity params\n",
    "    tstar: float, optional, default=None\n",
    "        'Equilibrium year' used for the mass balance calibration.\n",
    "    use_default_tstar: bool, optional, default=True\n",
    "        Flag deciding whether or not to compute mustar from given from reference\n",
    "        table. Overridden by a given tstar.\n",
    "    use_bias_for_run: bool, optional, default=True\n",
    "        Flag deciding whether or not to use the mass balance residual.\n",
    "    kwargs:\n",
    "        Additional key word arguments for the `run_random_climate` or\n",
    "        `run_constant_climate` routines of the vascaling module.\n",
    "\n",
    "    Returns\n",
    "    -------\n",
    "    Dataset containing yearly values of all glacier geometries.\n",
    "\n",
    "    \"\"\"\n",
    "    # assert correct output file suffixes for temp biases\n",
    "    if len(scaling_constants) * len(scaling_constants) \\\n",
    "            * len(time_scale_factors) != len(suffixes):\n",
    "        raise RuntimeError(\"Each given combination of scaling parameters and \"\n",
    "                           \"time scale factor must have its corresponding\"\n",
    "                           \"suffix.\")\n",
    "\n",
    "    # OGGM preprocessing\n",
    "    # ------------------\n",
    "\n",
    "    # compute RGI region and version from RGI IDs\n",
    "    # assuming all they are all the same\n",
    "    rgi_region = (rgi_ids[0].split('-')[-1]).split('.')[0]\n",
    "    rgi_version = (rgi_ids[0].split('-')[0])[-2:-1]\n",
    "\n",
    "    # load default parameter file\n",
    "    cfg.initialize()\n",
    "\n",
    "    # get environmental variables for working and output directories\n",
    "    WORKING_DIR = os.environ[\"WORKDIR\"]\n",
    "    OUTPUT_DIR = os.environ[\"OUTDIR\"]\n",
    "    # create working directory\n",
    "    utils.mkdir(WORKING_DIR)\n",
    "    # set path to working directory\n",
    "    cfg.PATHS['working_dir'] = WORKING_DIR\n",
    "    # set RGI version and region\n",
    "    cfg.PARAMS['rgi_version'] = rgi_version\n",
    "    # define how many grid points to use around the glacier,\n",
    "    # if you expect the glacier to grow large use a larger border\n",
    "    cfg.PARAMS['border'] = 120\n",
    "    # we use HistAlp climate data\n",
    "    cfg.PARAMS['baseline_climate'] = 'HISTALP'\n",
    "    # set the mb hyper parameters accordingly\n",
    "    cfg.PARAMS['prcp_scaling_factor'] = 1.75\n",
    "    cfg.PARAMS['temp_melt'] = -1.75\n",
    "    # the bias is defined to be zero during the calibration process,\n",
    "    # which is why we don't use it here to reproduce the results\n",
    "    cfg.PARAMS['use_bias_for_run'] = use_bias_for_run\n",
    "\n",
    "    # read RGI entry for the glaciers as DataFrame\n",
    "    # containing the outline area as shapefile\n",
    "    rgidf = utils.get_rgi_glacier_entities(rgi_ids)\n",
    "\n",
    "    # get and set path to intersect shapefile\n",
    "    intersects_db = utils.get_rgi_intersects_region_file(region=rgi_region)\n",
    "    cfg.set_intersects_db(intersects_db)\n",
    "\n",
    "    # sort by area for more efficient parallel computing\n",
    "    rgidf = rgidf.sort_values('Area', ascending=False)\n",
    "    cfg.PARAMS['use_multiprocessing'] = True\n",
    "    # operational run, all glaciers should run\n",
    "    cfg.PARAMS['continue_on_error'] = True\n",
    "\n",
    "    # initialize the GlacierDirectory\n",
    "    gdirs = workflow.init_glacier_directories(rgidf, reset=False, force=True)\n",
    "\n",
    "    # define the local grid and glacier mask\n",
    "    workflow.execute_entity_task(gis.define_glacier_region, gdirs)\n",
    "    workflow.execute_entity_task(gis.glacier_masks, gdirs)\n",
    "    # process the given climate file\n",
    "    workflow.execute_entity_task(climate.process_climate_data, gdirs)\n",
    "    # compute local t* and the corresponding mu*\n",
    "    if tstar or use_default_tstar:\n",
    "        # compute mustar from given tstar or reference table\n",
    "        workflow.execute_entity_task(vascaling.local_t_star, gdirs, tstar=tstar, bias=0)\n",
    "    else:\n",
    "        # compute mustar from the reference table for the flowline model\n",
    "        # RGI v6 and HISTALP baseline climate\n",
    "        ref_df = pd.read_csv(utils.get_demo_file('oggm_ref_tstars_rgi6_histalp.csv'))\n",
    "        workflow.execute_entity_task(vascaling.local_t_star, gdirs, ref_df=ref_df)\n",
    "\n",
    "    # Run model with constant/random mass balance model\n",
    "    # -------------------------------------------------\n",
    "\n",
    "    # use t* as center year, even if specified differently\n",
    "    kwargs['y0'] = tstar\n",
    "    # run for 3000 years if not specified otherwise\n",
    "    kwargs.setdefault('nyears', 3000)\n",
    "\n",
    "    # limit parameters to 3 decimal points\n",
    "    scaling_constants = recursive_round(scaling_constants, 3)\n",
    "    time_scale_factors = recursive_round(time_scale_factors, 3)\n",
    "    # assure that scaling params are handled as tuples (pairs)\n",
    "    scaling_constants_list = np.zeros(len(scaling_constants), dtype=object)\n",
    "    scaling_constants_list[:] = scaling_constants\n",
    "    scaling_exponents_list = np.zeros(len(scaling_exponents), dtype=object)\n",
    "    scaling_exponents_list[:] = scaling_exponents\n",
    "    # combine scaling constants, scaling exponents and time scale factor\n",
    "    # into one iterable array\n",
    "    sensitivity_params = np.array(np.meshgrid(scaling_constants_list,\n",
    "                                              scaling_exponents_list,\n",
    "                                              time_scale_factors)).T\n",
    "    sensitivity_params = (sensitivity_params\n",
    "                          .reshape(-1, sensitivity_params.shape[-1]))\n",
    "\n",
    "    if use_random_mb:\n",
    "        # set random seed to get reproducible results\n",
    "        kwargs.setdefault('seed', 12)\n",
    "\n",
    "        # run RandomMassBalance model centered around t* for each given\n",
    "        # parameter set\n",
    "        for suffix, params in zip(suffixes, sensitivity_params):\n",
    "            cfg.PARAMS['vas_c_length_m'] = params[0]\n",
    "            cfg.PARAMS['vas_c_area_m2'] = params[1]\n",
    "            kwargs['time_scale_factor'] = params[2]\n",
    "            workflow.execute_entity_task(vascaling.run_random_climate, gdirs,\n",
    "                                         temperature_bias=temp_bias,\n",
    "                                         output_filesuffix=suffix, **kwargs)\n",
    "    else:\n",
    "        # run ConstantMassBalance model centered around t* for each given\n",
    "        # parameter set\n",
    "        for suffix, params in zip(suffixes, sensitivity_params):\n",
    "            cfg.PARAMS['vas_c_length_m'] = params[0][0]\n",
    "            cfg.PARAMS['vas_c_area_m2'] = params[0][1]\n",
    "            kwargs['time_scale_factor'] = params[1]\n",
    "            workflow.execute_entity_task(vascaling.run_constant_climate, gdirs,\n",
    "                                         temperature_bias=temp_bias,\n",
    "                                         output_filesuffix=suffix, **kwargs)"
   ]
  },
  {
   "cell_type": "code",
   "execution_count": 104,
   "metadata": {},
   "outputs": [],
   "source": [
    "\"\"\" Sensitivity runs\n",
    "--------------------\n",
    "\n",
    "This script runs the VAS and flowline model for a single (or more) glacier(s)\n",
    "with a constant or random massbalance model, performing sensitivity experiments\n",
    "\n",
    "-> sensitivity to scaling constant\n",
    "-> sensitivity to time scales\n",
    "\n",
    "\"\"\"\n",
    "\n",
    "# import externals libraries\n",
    "import os\n",
    "import json\n",
    "import pickle\n",
    "import numpy as np\n",
    "import pandas as pd\n",
    "import xarray as xr\n",
    "\n",
    "import logging\n",
    "log = logging.getLogger('sensitivity-runs')\n",
    "\n",
    "# import the needed OGGM modules\n",
    "from oggm import cfg, utils, workflow\n",
    "from oggm.core import gis, climate, flowline\n",
    "import oggm_vas as vascaling\n",
    "\n",
    "\n",
    "def recursive_round(li, precision=3):\n",
    "    \"\"\"Rounds nested lists and returns in same structure\"\"\"\n",
    "    try:\n",
    "        return round(li, precision)\n",
    "    except TypeError:\n",
    "        return type(li)(recursive_round(x, precision) for x in li)\n",
    "\n",
    "\n",
    "def normalize_ds_with_start(ds, store_var_0=False):\n",
    "    \"\"\" Normalize all data variables of the given xarray Dataset\n",
    "    with their respective first entry. Returns a new xarray.Dataset.\n",
    "\n",
    "    Parameters\n",
    "    ----------\n",
    "    ds: :py:class:`xarray.Dataset`\n",
    "\n",
    "    Returns\n",
    "    -------\n",
    "    Normalized xarray Dataset\n",
    "\n",
    "    \"\"\"\n",
    "    # copy dataset\n",
    "    ds_norm = ds.copy(deep=True)\n",
    "\n",
    "    # iterate over all data variables\n",
    "    for var in ds_norm:\n",
    "        # add information about the initial values\n",
    "        var_0 = ds_norm[var].isel(time=0)\n",
    "        if store_var_0:\n",
    "            ds_norm[var + '_0'] = var_0\n",
    "        # normalize dataset\n",
    "        ds_norm[var] /= var_0\n",
    "\n",
    "    return ds_norm"
   ]
  },
  {
   "cell_type": "code",
   "execution_count": 105,
   "metadata": {},
   "outputs": [
    {
     "name": "stderr",
     "output_type": "stream",
     "text": [
      "2020-09-25 10:53:58: oggm.cfg: Reading default parameters from the OGGM `params.cfg` configuration file.\n",
      "2020-09-25 10:53:58: oggm.cfg: Multiprocessing switched ON according to the parameter file.\n",
      "2020-09-25 10:53:58: oggm.cfg: Multiprocessing: using all available processors (N=4)\n",
      "2020-09-25 10:53:58: oggm.cfg: PARAMS['rgi_version'] changed from `61` to `6`.\n",
      "2020-09-25 10:53:58: oggm.cfg: PARAMS['border'] changed from `20` to `120`.\n",
      "2020-09-25 10:53:58: oggm.cfg: PARAMS['baseline_climate'] changed from `CRU` to `HISTALP`.\n",
      "2020-09-25 10:53:58: oggm.cfg: PARAMS['prcp_scaling_factor'] changed from `2.5` to `1.75`.\n",
      "2020-09-25 10:53:58: oggm.cfg: PARAMS['temp_melt'] changed from `-1.0` to `-1.75`.\n",
      "2020-09-25 10:53:59: oggm.cfg: PARAMS['continue_on_error'] changed from `False` to `True`.\n",
      "2020-09-25 10:53:59: oggm.workflow: Execute entity task GlacierDirectory on 1 glaciers\n",
      "2020-09-25 10:54:00: oggm.workflow: Execute entity task define_glacier_region on 1 glaciers\n",
      "2020-09-25 10:54:00: oggm.core.gis: (RGI60-11.00897) define_glacier_region\n",
      "2020-09-25 10:54:02: oggm.workflow: Execute entity task glacier_masks on 1 glaciers\n",
      "2020-09-25 10:54:02: oggm.core.gis: (RGI60-11.00897) glacier_masks\n",
      "2020-09-25 10:54:02: oggm.core.gis: (RGI60-11.00897) process_dem\n",
      "2020-09-25 10:54:03: oggm.workflow: Execute entity task process_climate_data on 1 glaciers\n",
      "2020-09-25 10:54:03: oggm.core.climate: (RGI60-11.00897) process_climate_data\n",
      "2020-09-25 10:54:03: oggm.shop.histalp: (RGI60-11.00897) process_histalp_data\n",
      "2020-09-25 10:54:03: oggm.utils: No known hash for www.zamg.ac.at/histalp/download/grid5m/HISTALP_temperature_1780-2014.nc.bz2\n",
      "2020-09-25 10:54:03: oggm.utils: No known hash for www.zamg.ac.at/histalp/download/grid5m/HISTALP_precipitation_all_abs_1801-2014.nc.bz2\n",
      "2020-09-25 10:54:06: oggm.workflow: Execute entity task local_t_star on 1 glaciers\n",
      "2020-09-25 10:54:06: oggm_vas.core: (RGI60-11.00897) local_t_star\n",
      "2020-09-25 10:54:06: oggm.cfg: PARAMS['vas_c_length_m'] changed from `4.5507` to `4.551`.\n",
      "2020-09-25 10:54:06: oggm.workflow: Execute entity task run_constant_climate on 1 glaciers\n",
      "2020-09-25 10:54:06: oggm_vas.core: (RGI60-11.00897) run_constant_climatedefault\n",
      "2020-09-25 10:54:06: oggm_vas.core: TypeError occurred during task run_constant_climatedefault on RGI60-11.00897: run_constant_climate() got an unexpected keyword argument 'time_scale_factor'\n",
      "Process ForkPoolWorker-23:\n",
      "Process ForkPoolWorker-26:\n",
      "Process ForkPoolWorker-25:\n",
      "Process ForkPoolWorker-24:\n",
      "Traceback (most recent call last):\n",
      "Traceback (most recent call last):\n",
      "Traceback (most recent call last):\n",
      "Traceback (most recent call last):\n",
      "  File \"/Users/oberrauch/miniconda3/envs/oggm_env/lib/python3.6/multiprocessing/process.py\", line 258, in _bootstrap\n",
      "    self.run()\n",
      "  File \"/Users/oberrauch/miniconda3/envs/oggm_env/lib/python3.6/multiprocessing/process.py\", line 258, in _bootstrap\n",
      "    self.run()\n",
      "  File \"/Users/oberrauch/miniconda3/envs/oggm_env/lib/python3.6/multiprocessing/process.py\", line 258, in _bootstrap\n",
      "    self.run()\n",
      "  File \"/Users/oberrauch/miniconda3/envs/oggm_env/lib/python3.6/multiprocessing/process.py\", line 258, in _bootstrap\n",
      "    self.run()\n",
      "  File \"/Users/oberrauch/miniconda3/envs/oggm_env/lib/python3.6/multiprocessing/process.py\", line 93, in run\n",
      "    self._target(*self._args, **self._kwargs)\n",
      "  File \"/Users/oberrauch/miniconda3/envs/oggm_env/lib/python3.6/multiprocessing/process.py\", line 93, in run\n",
      "    self._target(*self._args, **self._kwargs)\n",
      "  File \"/Users/oberrauch/miniconda3/envs/oggm_env/lib/python3.6/multiprocessing/process.py\", line 93, in run\n",
      "    self._target(*self._args, **self._kwargs)\n",
      "  File \"/Users/oberrauch/miniconda3/envs/oggm_env/lib/python3.6/multiprocessing/process.py\", line 93, in run\n",
      "    self._target(*self._args, **self._kwargs)\n",
      "  File \"/Users/oberrauch/miniconda3/envs/oggm_env/lib/python3.6/multiprocessing/pool.py\", line 108, in worker\n",
      "    task = get()\n",
      "  File \"/Users/oberrauch/miniconda3/envs/oggm_env/lib/python3.6/multiprocessing/pool.py\", line 108, in worker\n",
      "    task = get()\n",
      "  File \"/Users/oberrauch/miniconda3/envs/oggm_env/lib/python3.6/multiprocessing/pool.py\", line 108, in worker\n",
      "    task = get()\n",
      "  File \"/Users/oberrauch/miniconda3/envs/oggm_env/lib/python3.6/multiprocessing/pool.py\", line 108, in worker\n",
      "    task = get()\n",
      "  File \"/Users/oberrauch/miniconda3/envs/oggm_env/lib/python3.6/multiprocessing/queues.py\", line 335, in get\n",
      "    res = self._reader.recv_bytes()\n",
      "  File \"/Users/oberrauch/miniconda3/envs/oggm_env/lib/python3.6/multiprocessing/queues.py\", line 334, in get\n",
      "    with self._rlock:\n",
      "  File \"/Users/oberrauch/miniconda3/envs/oggm_env/lib/python3.6/multiprocessing/queues.py\", line 334, in get\n",
      "    with self._rlock:\n",
      "  File \"/Users/oberrauch/miniconda3/envs/oggm_env/lib/python3.6/multiprocessing/queues.py\", line 334, in get\n",
      "    with self._rlock:\n",
      "  File \"/Users/oberrauch/miniconda3/envs/oggm_env/lib/python3.6/multiprocessing/synchronize.py\", line 95, in __enter__\n",
      "    return self._semlock.__enter__()\n",
      "  File \"/Users/oberrauch/miniconda3/envs/oggm_env/lib/python3.6/multiprocessing/synchronize.py\", line 95, in __enter__\n",
      "    return self._semlock.__enter__()\n",
      "  File \"/Users/oberrauch/miniconda3/envs/oggm_env/lib/python3.6/multiprocessing/connection.py\", line 216, in recv_bytes\n",
      "    buf = self._recv_bytes(maxlength)\n",
      "  File \"/Users/oberrauch/miniconda3/envs/oggm_env/lib/python3.6/multiprocessing/synchronize.py\", line 95, in __enter__\n",
      "    return self._semlock.__enter__()\n",
      "KeyboardInterrupt\n",
      "KeyboardInterrupt\n",
      "  File \"/Users/oberrauch/miniconda3/envs/oggm_env/lib/python3.6/multiprocessing/connection.py\", line 407, in _recv_bytes\n",
      "    buf = self._recv(4)\n",
      "  File \"/Users/oberrauch/miniconda3/envs/oggm_env/lib/python3.6/multiprocessing/connection.py\", line 379, in _recv\n",
      "    chunk = read(handle, remaining)\n",
      "KeyboardInterrupt\n",
      "KeyboardInterrupt\n"
     ]
    }
   ],
   "source": [
    "rgi_ids = ['RGI60-11.00897']\n",
    "os.environ['WORKDIR'] = '/Users/oberrauch/work/master/working_directories/test_scaling_const'\n",
    "os.environ['OUTDIR'] = '/Users/oberrauch/work/master/data/test_scaling_const'\n",
    "sensitivity_run_vas(rgi_ids)"
   ]
  },
  {
   "cell_type": "code",
   "execution_count": null,
   "metadata": {},
   "outputs": [],
   "source": [
    "# Process output dataset(s)\n",
    "# -------------------------\n",
    "\n",
    "# create empty container\n",
    "ds = list()\n",
    "# iterate over all scaling constants\n",
    "for i, consts in enumerate(scaling_constants):\n",
    "    # create empty container\n",
    "    ds_ = list()\n",
    "    # iterate over all scaling exponents\n",
    "    for j, expo in enumerate(scaling_exponents):\n",
    "        # create empty container\n",
    "        ds__ = list()\n",
    "        # iterate over all time scale factor\n",
    "        for k, factor in enumerate(time_scale_factors):\n",
    "            # compile the output for each run\n",
    "            pos = k + len(time_scale_factors)*j \\\n",
    "                  + len(time_scale_factors) * len(scaling_exponents) * i\n",
    "            ds___ = utils.compile_run_output(np.atleast_1d(gdirs),\n",
    "                                             filesuffix=suffixes[pos],\n",
    "                                             path=False)\n",
    "            # add time scale factor as coordinate\n",
    "            ds___.coords['time_scale_factor'] = factor\n",
    "            # add to container\n",
    "            ds__.append(ds___)\n",
    "\n",
    "        # concatenate using time scale factor as concat dimension\n",
    "        ds__ = xr.concat(ds__, dim='time_scale_factor')\n",
    "        # add scaling exponent as dimesion\n",
    "        ds_ = ds_.expand_dims(dim={'scaling_const': consts_list})\n",
    "\n",
    "    # concatenate using time scale factor as concat dimension\n",
    "    ds_ = xr.concat(ds_, dim='time_scale_factor')\n",
    "    # add scaling constants as coordinate\n",
    "    consts_list = np.zeros(len([consts]), dtype=object)\n",
    "    consts_list[:] = [consts]\n",
    "    ds_ = ds_.expand_dims(dim={'scaling_const': consts_list})\n",
    "    # ds_.coords['area_scaling_const'] = consts[1]\n",
    "    # add to container\n",
    "    ds.append(ds_)\n",
    "\n",
    "# concatenate using scaling constants as concat dimension\n",
    "# ds = xr.concat(ds, dim='area_scaling_const')\n",
    "ds = xr.concat(ds, dim='scaling_const')\n",
    "\n",
    "# add model type as coordinate\n",
    "ds.coords['model'] = 'vas'\n",
    "# add mb model type as coordinate\n",
    "ds.coords['mb_model'] = 'random' if use_random_mb else 'constant'\n",
    "\n",
    "# normalize glacier geometries (length/area/volume) with start value\n",
    "if use_mean:\n",
    "    # compute average over all glaciers\n",
    "    ds_normal = normalize_ds_with_start(ds).mean(dim='rgi_id')\n",
    "    ds = ds.mean(dim='rgi_id')\n",
    "else:\n",
    "    # compute sum over all glaciers\n",
    "    ds_normal = normalize_ds_with_start(ds.sum(dim='rgi_id'))\n",
    "    ds = ds.sum(dim='rgi_id')\n",
    "\n",
    "# add coordinate to distinguish between normalized and absolute values\n",
    "ds.coords['normalized'] = False\n",
    "ds_normal.coords['normalized'] = True\n",
    "\n",
    "# combine datasets\n",
    "ds = xr.concat([ds, ds_normal], 'normalized')\n",
    "\n",
    "# store datasets\n",
    "if path:\n",
    "    if not isinstance(path, str):\n",
    "        # set default path and filename\n",
    "        mb = 'random' if use_random_mb else 'constant'\n",
    "        path = os.path.join(OUTPUT_DIR, f'run_output_{mb}_vas.nc')\n",
    "        pickle.dump(ds, open(path, mode='wb'))\n"
   ]
  },
  {
   "cell_type": "code",
   "execution_count": null,
   "metadata": {},
   "outputs": [],
   "source": []
  }
 ],
 "metadata": {
  "kernelspec": {
   "display_name": "Python 3",
   "language": "python",
   "name": "python3"
  },
  "language_info": {
   "codemirror_mode": {
    "name": "ipython",
    "version": 3
   },
   "file_extension": ".py",
   "mimetype": "text/x-python",
   "name": "python",
   "nbconvert_exporter": "python",
   "pygments_lexer": "ipython3",
   "version": "3.6.7"
  }
 },
 "nbformat": 4,
 "nbformat_minor": 4
}
