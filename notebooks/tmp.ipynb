{
 "cells": [
  {
   "cell_type": "code",
   "execution_count": 1,
   "metadata": {},
   "outputs": [],
   "source": [
    "import numpy as np\n",
    "import matplotlib.pyplot as plt\n",
    "import random\n",
    "%matplotlib inline"
   ]
  },
  {
   "cell_type": "code",
   "execution_count": 78,
   "metadata": {},
   "outputs": [
    {
     "name": "stdout",
     "output_type": "stream",
     "text": [
      "Brennweite: 1.0\n",
      "Gegenstandsweite: 0.8 = 0.8 x f\n",
      "Bildweite: -4.0\n",
      "Gegenstandsgröße: 10.0\n",
      "Bildgröße: 50.0, größer als Gegenstand\n"
     ]
    },
    {
     "data": {
      "text/plain": [
       "<matplotlib.legend.Legend at 0x1226cea58>"
      ]
     },
     "execution_count": 78,
     "metadata": {},
     "output_type": "execute_result"
    },
    {
     "data": {
      "image/png": "[encoded data removed]",
      "text/plain": [
       "<Figure size 576x432 with 1 Axes>"
      ]
     },
     "metadata": {
      "needs_background": "light"
     },
     "output_type": "display_data"
    }
   ],
   "source": [
    "# Brennweite\n",
    "f = 1\n",
    "# Gegenstandsweite\n",
    "g = 0.8\n",
    "# Gegenstandsgröße\n",
    "G = 10\n",
    "\n",
    "# Bildweite (berechnet)\n",
    "b = f*g/(g-f)\n",
    "# Bildgröße (berechnet)\n",
    "B = abs(b*G/g)\n",
    "\n",
    "print('Brennweite: {:.1f}'.format(f))\n",
    "print('Gegenstandsweite: {:.1f} = {:.1f} x f'.format(g, g/f))\n",
    "print('Bildweite: {:.1f}'.format(b))\n",
    "print('Gegenstandsgröße: {:.1f}'.format(G))\n",
    "text_B = np.array(['kleiner', 'gleich groß', 'größer'])[np.array([B<G, B==G, B>G])][0]\n",
    "print('Bildgröße: {:.1f}, {} als Gegenstand'.format(B, text_B))\n",
    "\n",
    "# Gegenstand\n",
    "plt.figure(figsize=[8,6])\n",
    "plt.plot([-g,-g], [0,G], lw=3, label='Gegenstand')\n",
    "sign = (1 if g<=f else -1)\n",
    "# Bild\n",
    "plt.plot([b,b], [0,sign*B], lw=3, label='Bild')\n",
    "# Parallelstrahl\n",
    "plt.plot([-g,0,f,b], [G,G,0,sign*B], color='#3498db', ls='--', label='Parallelstr.')\n",
    "# Mittelpunktstrahl\n",
    "plt.plot([-g,0,b], [G,0,sign*B], color='#f1c40f', ls='--', label='Mittelpunktstr.')\n",
    "# Linsenebene, Optische Achse\n",
    "plt.axhline(0, color='k', ls=':')\n",
    "plt.axvline(0, color='k', ls='-.')\n",
    "# Brennpunkte\n",
    "boxstyle = dict(facecolor='white')\n",
    "plt.text(-f,0,'F1', ha='center', va='center', bbox=boxstyle)\n",
    "plt.text(f,0,'F2', ha='center', va='center', bbox=boxstyle)\n",
    "# legend\n",
    "plt.legend()"
   ]
  },
  {
   "cell_type": "code",
   "execution_count": null,
   "metadata": {},
   "outputs": [],
   "source": [
    "np.repeat(-13, )"
   ]
  },
  {
   "cell_type": "code",
   "execution_count": null,
   "metadata": {},
   "outputs": [],
   "source": []
  },
  {
   "cell_type": "code",
   "execution_count": null,
   "metadata": {},
   "outputs": [],
   "source": []
  },
  {
   "cell_type": "code",
   "execution_count": 7,
   "metadata": {},
   "outputs": [
    {
     "data": {
      "text/plain": [
       "array(['kleiner', 'gleich', 'größer'], dtype='<U7')"
      ]
     },
     "execution_count": 7,
     "metadata": {},
     "output_type": "execute_result"
    }
   ],
   "source": [
    "np.array(['kleiner', 'gleich', 'größer'])"
   ]
  },
  {
   "cell_type": "code",
   "execution_count": 11,
   "metadata": {},
   "outputs": [
    {
     "data": {
      "text/plain": [
       "'gleich'"
      ]
     },
     "execution_count": 11,
     "metadata": {},
     "output_type": "execute_result"
    }
   ],
   "source": [
    "np.array(['kleiner', 'gleich', 'größer'])[np.array([B<G, B==G, B>G])][0]"
   ]
  },
  {
   "cell_type": "code",
   "execution_count": null,
   "metadata": {},
   "outputs": [],
   "source": []
  },
  {
   "cell_type": "code",
   "execution_count": 81,
   "metadata": {},
   "outputs": [],
   "source": []
  },
  {
   "cell_type": "code",
   "execution_count": 119,
   "metadata": {},
   "outputs": [],
   "source": [
    "def pop_random(lst):\n",
    "    idx = random.randrange(0, len(lst))\n",
    "    return lst.pop(idx)\n",
    "\n",
    "def random_group_generator(names, group_size):\n",
    "    pairs = []\n",
    "    while names:\n",
    "        pair = []\n",
    "        for i in range(group_size):\n",
    "            try:\n",
    "                pair.append(pop_random(names))\n",
    "            except ValueError:\n",
    "                break\n",
    "        pairs.append(pair)\n",
    "    return pairs"
   ]
  },
  {
   "cell_type": "code",
   "execution_count": 133,
   "metadata": {},
   "outputs": [
    {
     "name": "stdout",
     "output_type": "stream",
     "text": [
      "- Gruppe 1: Wierer, Kurtaj, Augustin, Kolbe\n",
      "- Gruppe 2: Nutt, Wiedenhofer, Pascotto, Perathoner\n",
      "- Gruppe 3: Barion, Holzapfel, Masetti, Kröss\n",
      "- Gruppe 4: Leimstädtner, Shehaj, Felderer, Diaz Pfeifer\n",
      "- Gruppe 5: Prantner, Egger, Steiner, Praxmarer\n",
      "- Gruppe 6: Medina Abanto, Rauter\n"
     ]
    }
   ],
   "source": [
    "names = \"\"\"Augustin\n",
    "Barion\n",
    "Diaz Pfeifer\n",
    "Egger\n",
    "Felderer\n",
    "Holzapfel\n",
    "Kolbe\n",
    "Kröss\n",
    "Kurtaj\n",
    "Leimstädtner\n",
    "Masetti\n",
    "Medina Abanto\n",
    "Nutt\n",
    "Pascotto\n",
    "Perathoner\n",
    "Prantner\n",
    "Praxmarer\n",
    "Rauter\n",
    "Shehaj\n",
    "Steiner\n",
    "Wiedenhofer\n",
    "Wierer\"\"\"\n",
    "\n",
    "names = names.split('\\n')\n",
    "pairs = random_group_generator(names, group_size=4)\n",
    "for i, pair in enumerate(pairs):\n",
    "    print('- Gruppe {}: {}'.format(i+1, ', '.join(pair)))"
   ]
  },
  {
   "cell_type": "code",
   "execution_count": 126,
   "metadata": {},
   "outputs": [
    {
     "data": {
      "text/plain": [
       "['Herrmann', 'Goldner', 'Pilotti', 'Lenzi']"
      ]
     },
     "execution_count": 126,
     "metadata": {},
     "output_type": "execute_result"
    }
   ],
   "source": []
  },
  {
   "cell_type": "code",
   "execution_count": null,
   "metadata": {},
   "outputs": [],
   "source": []
  },
  {
   "cell_type": "code",
   "execution_count": 1,
   "metadata": {},
   "outputs": [],
   "source": [
    "import numpy as np\n",
    "import matplotlib.pyplot as plt\n",
    "%matplotlib inline"
   ]
  },
  {
   "cell_type": "code",
   "execution_count": 17,
   "metadata": {},
   "outputs": [],
   "source": [
    "# define glacier lenght and x values along flowline\n",
    "L = 5e3 # im meters\n",
    "x = np.arange(0, L)\n",
    "# define constants\n",
    "c0 = 1e7 # maximum positive mass balance (at glacier head)\n",
    "c_m = 1 # \n",
    "m = 2 # mass balance exponent\n",
    "# compute mass balance profile\n",
    "mb = c0 - c_m * x**m"
   ]
  },
  {
   "cell_type": "code",
   "execution_count": 18,
   "metadata": {},
   "outputs": [
    {
     "data": {
      "text/plain": [
       "[<matplotlib.lines.Line2D at 0x120418208>]"
      ]
     },
     "execution_count": 18,
     "metadata": {},
     "output_type": "execute_result"
    },
    {
     "data": {
      "image/png": "[encoded data removed]",
      "text/plain": [
       "<Figure size 432x288 with 1 Axes>"
      ]
     },
     "metadata": {
      "needs_background": "light"
     },
     "output_type": "display_data"
    }
   ],
   "source": [
    "plt.plot(x, mb)"
   ]
  },
  {
   "cell_type": "code",
   "execution_count": 43,
   "metadata": {},
   "outputs": [],
   "source": [
    "# necking\n",
    "a = 5/6\n",
    "k = x**a\n",
    "# valley bottom\n",
    "b = 3/5\n",
    "bottom = x**b\n",
    "# glacier surface\n",
    "c = 1/2\n",
    "surf = x**c"
   ]
  },
  {
   "cell_type": "code",
   "execution_count": 44,
   "metadata": {},
   "outputs": [
    {
     "data": {
      "text/plain": [
       "[<matplotlib.lines.Line2D at 0x120c5db70>]"
      ]
     },
     "execution_count": 44,
     "metadata": {},
     "output_type": "execute_result"
    },
    {
     "data": {
      "image/png": "[encoded data removed]",
      "text/plain": [
       "<Figure size 432x288 with 1 Axes>"
      ]
     },
     "metadata": {
      "needs_background": "light"
     },
     "output_type": "display_data"
    }
   ],
   "source": [
    "plt.plot(surf[1:], c='r')\n",
    "plt.plot(bottom[1:])"
   ]
  },
  {
   "cell_type": "code",
   "execution_count": 47,
   "metadata": {},
   "outputs": [
    {
     "data": {
      "text/plain": [
       "<matplotlib.legend.Legend at 0x121cb2fd0>"
      ]
     },
     "execution_count": 47,
     "metadata": {},
     "output_type": "execute_result"
    },
    {
     "data": {
      "image/png": "[encoded data removed]",
      "text/plain": [
       "<Figure size 432x288 with 1 Axes>"
      ]
     },
     "metadata": {
      "needs_background": "light"
     },
     "output_type": "display_data"
    }
   ],
   "source": [
    "h = np.arange(0,100)\n",
    "for k in range(0,5):\n",
    "    w = k*np.sqrt(h)\n",
    "    plt.plot(w, label=k)\n",
    "\n",
    "plt.legend()"
   ]
  },
  {
   "cell_type": "code",
   "execution_count": 55,
   "metadata": {},
   "outputs": [
    {
     "name": "stderr",
     "output_type": "stream",
     "text": [
      "/Users/oberrauch/miniconda3/envs/oggm_env/lib/python3.6/site-packages/ipykernel_launcher.py:2: RuntimeWarning: divide by zero encountered in power\n",
      "  \n"
     ]
    },
    {
     "data": {
      "text/plain": [
       "[<matplotlib.lines.Line2D at 0x122515b38>]"
      ]
     },
     "execution_count": 55,
     "metadata": {},
     "output_type": "execute_result"
    },
    {
     "data": {
      "image/png": "[encoded data removed]",
      "text/plain": [
       "<Figure size 432x288 with 1 Axes>"
      ]
     },
     "metadata": {
      "needs_background": "light"
     },
     "output_type": "display_data"
    }
   ],
   "source": [
    "for a in np.arange(0.1, 1, 0.1):\n",
    "    k = x**-a\n",
    "    plt.plot(k, label=a)\n",
    "    \n",
    "plt.plot(x**(5/6))"
   ]
  },
  {
   "cell_type": "code",
   "execution_count": null,
   "metadata": {},
   "outputs": [],
   "source": []
  },
  {
   "cell_type": "code",
   "execution_count": 75,
   "metadata": {},
   "outputs": [
    {
     "data": {
      "text/plain": [
       "<matplotlib.legend.Legend at 0x123a47ef0>"
      ]
     },
     "execution_count": 75,
     "metadata": {},
     "output_type": "execute_result"
    },
    {
     "data": {
      "image/png": "[encoded data removed]",
      "text/plain": [
       "<Figure size 432x288 with 1 Axes>"
      ]
     },
     "metadata": {
      "needs_background": "light"
     },
     "output_type": "display_data"
    }
   ],
   "source": [
    "# dinstance up the valley\n",
    "L = 10e3\n",
    "x = np.arange(0,L) # 1km\n",
    "# nekcing\n",
    "a = 5/6\n",
    "k = x**a\n",
    "# valley bottom (bed rock)\n",
    "b = 3/5\n",
    "bed = x**b\n",
    "plt.plot(x,bed, label='bed')\n",
    "# glacier surface\n",
    "c = 0.5\n",
    "surf = L**(b-c)*x**c\n",
    "plt.plot(x, surf, label='surf')\n",
    "plt.legend()"
   ]
  },
  {
   "cell_type": "code",
   "execution_count": 76,
   "metadata": {},
   "outputs": [
    {
     "data": {
      "text/plain": [
       "[<matplotlib.lines.Line2D at 0x123bfa400>]"
      ]
     },
     "execution_count": 76,
     "metadata": {},
     "output_type": "execute_result"
    },
    {
     "data": {
      "image/png": "[encoded data removed]",
      "text/plain": [
       "<Figure size 432x288 with 1 Axes>"
      ]
     },
     "metadata": {
      "needs_background": "light"
     },
     "output_type": "display_data"
    }
   ],
   "source": [
    "# compute ice thickness\n",
    "h = surf-bed\n",
    "plt.plot(x, h)"
   ]
  },
  {
   "cell_type": "code",
   "execution_count": 70,
   "metadata": {},
   "outputs": [
    {
     "data": {
      "text/plain": [
       "[<matplotlib.lines.Line2D at 0x123312940>]"
      ]
     },
     "execution_count": 70,
     "metadata": {},
     "output_type": "execute_result"
    },
    {
     "data": {
      "image/png": "[encoded data removed]",
      "text/plain": [
       "<Figure size 432x288 with 1 Axes>"
      ]
     },
     "metadata": {
      "needs_background": "light"
     },
     "output_type": "display_data"
    }
   ],
   "source": [
    "# compute width\n",
    "w = k * h\n",
    "plt.plot(x, w)"
   ]
  },
  {
   "cell_type": "code",
   "execution_count": null,
   "metadata": {},
   "outputs": [],
   "source": []
  },
  {
   "cell_type": "code",
   "execution_count": null,
   "metadata": {},
   "outputs": [],
   "source": []
  },
  {
   "cell_type": "code",
   "execution_count": null,
   "metadata": {},
   "outputs": [],
   "source": []
  },
  {
   "cell_type": "code",
   "execution_count": null,
   "metadata": {},
   "outputs": [],
   "source": []
  },
  {
   "cell_type": "code",
   "execution_count": null,
   "metadata": {},
   "outputs": [],
   "source": []
  },
  {
   "cell_type": "code",
   "execution_count": null,
   "metadata": {},
   "outputs": [],
   "source": []
  },
  {
   "cell_type": "code",
   "execution_count": 1,
   "metadata": {},
   "outputs": [],
   "source": [
    "import numpy as np\n",
    "import matplotlib.pyplot as plt\n",
    "%matplotlib inline"
   ]
  },
  {
   "cell_type": "code",
   "execution_count": 24,
   "metadata": {},
   "outputs": [],
   "source": [
    "t_solid = 0\n",
    "t_liquid = 2"
   ]
  },
  {
   "cell_type": "code",
   "execution_count": 37,
   "metadata": {},
   "outputs": [
    {
     "data": {
      "text/plain": [
       "array([], dtype=float64)"
      ]
     },
     "execution_count": 37,
     "metadata": {},
     "output_type": "execute_result"
    }
   ],
   "source": [
    "t[f == 0][0]"
   ]
  },
  {
   "cell_type": "code",
   "execution_count": 39,
   "metadata": {},
   "outputs": [
    {
     "name": "stderr",
     "output_type": "stream",
     "text": [
      "No handles with labels found to put in legend.\n"
     ]
    },
    {
     "data": {
      "text/plain": [
       "<matplotlib.legend.Legend at 0x119b6b198>"
      ]
     },
     "execution_count": 39,
     "metadata": {},
     "output_type": "execute_result"
    },
    {
     "data": {
      "image/png": "[encoded data removed]",
      "text/plain": [
       "<Figure size 432x288 with 2 Axes>"
      ]
     },
     "metadata": {
      "needs_background": "light"
     },
     "output_type": "display_data"
    }
   ],
   "source": [
    "t_solid = 0\n",
    "t_liquid = 2\n",
    "t = np.linspace(-10,20,100)\n",
    "f = 1 - (t-t_solid)/(t_liquid-t_solid)\n",
    "f = np.clip(f, 0, 1)\n",
    "plt.plot(t, f, label='fl')\n",
    "\n",
    "t_solid = 3\n",
    "\n",
    "grad_temp = -0.0065\n",
    "h_min = 2430.0\n",
    "h_max = 3685.0\n",
    "f = 1 + (t-t_solid)/(grad_temp * (h_max - h_min))\n",
    "f = np.clip(f, 0, 1)\n",
    "plt.plot(t, f, label='vas')\n",
    "\n",
    "plt.axvline(0, c='k', ls=':', lw=1)\n",
    "#plt.axhline(0, c='k', ls=':', lw=1)\n",
    "#plt.axhline(1, c='k', ls=':', lw=1)\n",
    "\n",
    "plt.xlabel('Terminus temperature [°C]')\n",
    "plt.ylabel('Fraction of solid precipitation')\n",
    "\n",
    "plt.gca().twinx()\n",
    "t_zmax = t + grad_temp * (h_max - h_min)\n",
    "plt.plot(t, t_zmax)\n",
    "plt.axhline(t_solid, c='k', ls=':')\n",
    "plt.axvline(t[f == 0][0])\n",
    "\n",
    "plt.legend()"
   ]
  },
  {
   "cell_type": "code",
   "execution_count": 26,
   "metadata": {},
   "outputs": [
    {
     "data": {
      "text/plain": [
       "<matplotlib.lines.Line2D at 0x118ec5dd8>"
      ]
     },
     "execution_count": 26,
     "metadata": {},
     "output_type": "execute_result"
    },
    {
     "data": {
      "image/png": "[encoded data removed]",
      "text/plain": [
       "<Figure size 432x288 with 1 Axes>"
      ]
     },
     "metadata": {
      "needs_background": "light"
     },
     "output_type": "display_data"
    }
   ],
   "source": [
    "t_zmax = t + grad_temp * (h_max - h_min)\n",
    "plt.plot(t, t_zmax)\n",
    "plt.axhline(0)"
   ]
  },
  {
   "cell_type": "code",
   "execution_count": null,
   "metadata": {},
   "outputs": [],
   "source": []
  },
  {
   "cell_type": "code",
   "execution_count": null,
   "metadata": {},
   "outputs": [],
   "source": []
  },
  {
   "cell_type": "code",
   "execution_count": 15,
   "metadata": {},
   "outputs": [
    {
     "ename": "ImportError",
     "evalue": "dlopen(/Users/oberrauch/miniconda3/envs/oggm_env/lib/python3.6/site-packages/fiona/ogrext.cpython-36m-darwin.so, 2): Library not loaded: @rpath/libpoppler.71.dylib\n  Referenced from: /Users/oberrauch/miniconda3/envs/oggm_env/lib/libgdal.20.dylib\n  Reason: image not found",
     "output_type": "error",
     "traceback": [
      "\u001b[0;31m---------------------------------------------------------------------------\u001b[0m",
      "\u001b[0;31mImportError\u001b[0m                               Traceback (most recent call last)",
      "\u001b[0;32m<ipython-input-15-fc7d1d298f0c>\u001b[0m in \u001b[0;36m<module>\u001b[0;34m()\u001b[0m\n\u001b[0;32m----> 1\u001b[0;31m \u001b[0;32mimport\u001b[0m \u001b[0mgeopandas\u001b[0m\u001b[0;34m\u001b[0m\u001b[0m\n\u001b[0m",
      "\u001b[0;32m~/miniconda3/envs/oggm_env/lib/python3.6/site-packages/geopandas/__init__.py\u001b[0m in \u001b[0;36m<module>\u001b[0;34m()\u001b[0m\n\u001b[1;32m      2\u001b[0m \u001b[0;32mfrom\u001b[0m \u001b[0mgeopandas\u001b[0m\u001b[0;34m.\u001b[0m\u001b[0mgeodataframe\u001b[0m \u001b[0;32mimport\u001b[0m \u001b[0mGeoDataFrame\u001b[0m\u001b[0;34m\u001b[0m\u001b[0m\n\u001b[1;32m      3\u001b[0m \u001b[0;34m\u001b[0m\u001b[0m\n\u001b[0;32m----> 4\u001b[0;31m \u001b[0;32mfrom\u001b[0m \u001b[0mgeopandas\u001b[0m\u001b[0;34m.\u001b[0m\u001b[0mio\u001b[0m\u001b[0;34m.\u001b[0m\u001b[0mfile\u001b[0m \u001b[0;32mimport\u001b[0m \u001b[0mread_file\u001b[0m\u001b[0;34m\u001b[0m\u001b[0m\n\u001b[0m\u001b[1;32m      5\u001b[0m \u001b[0;32mfrom\u001b[0m \u001b[0mgeopandas\u001b[0m\u001b[0;34m.\u001b[0m\u001b[0mio\u001b[0m\u001b[0;34m.\u001b[0m\u001b[0msql\u001b[0m \u001b[0;32mimport\u001b[0m \u001b[0mread_postgis\u001b[0m\u001b[0;34m\u001b[0m\u001b[0m\n\u001b[1;32m      6\u001b[0m \u001b[0;32mfrom\u001b[0m \u001b[0mgeopandas\u001b[0m\u001b[0;34m.\u001b[0m\u001b[0mtools\u001b[0m \u001b[0;32mimport\u001b[0m \u001b[0msjoin\u001b[0m\u001b[0;34m\u001b[0m\u001b[0m\n",
      "\u001b[0;32m~/miniconda3/envs/oggm_env/lib/python3.6/site-packages/geopandas/io/file.py\u001b[0m in \u001b[0;36m<module>\u001b[0;34m()\u001b[0m\n\u001b[1;32m      1\u001b[0m \u001b[0;32mimport\u001b[0m \u001b[0mos\u001b[0m\u001b[0;34m\u001b[0m\u001b[0m\n\u001b[1;32m      2\u001b[0m \u001b[0;34m\u001b[0m\u001b[0m\n\u001b[0;32m----> 3\u001b[0;31m \u001b[0;32mimport\u001b[0m \u001b[0mfiona\u001b[0m\u001b[0;34m\u001b[0m\u001b[0m\n\u001b[0m\u001b[1;32m      4\u001b[0m \u001b[0;32mimport\u001b[0m \u001b[0mnumpy\u001b[0m \u001b[0;32mas\u001b[0m \u001b[0mnp\u001b[0m\u001b[0;34m\u001b[0m\u001b[0m\n\u001b[1;32m      5\u001b[0m \u001b[0;34m\u001b[0m\u001b[0m\n",
      "\u001b[0;32m~/miniconda3/envs/oggm_env/lib/python3.6/site-packages/fiona/__init__.py\u001b[0m in \u001b[0;36m<module>\u001b[0;34m()\u001b[0m\n\u001b[1;32m     67\u001b[0m \u001b[0;32mfrom\u001b[0m \u001b[0msix\u001b[0m \u001b[0;32mimport\u001b[0m \u001b[0mstring_types\u001b[0m\u001b[0;34m\u001b[0m\u001b[0m\n\u001b[1;32m     68\u001b[0m \u001b[0;34m\u001b[0m\u001b[0m\n\u001b[0;32m---> 69\u001b[0;31m \u001b[0;32mfrom\u001b[0m \u001b[0mfiona\u001b[0m\u001b[0;34m.\u001b[0m\u001b[0mcollection\u001b[0m \u001b[0;32mimport\u001b[0m \u001b[0mCollection\u001b[0m\u001b[0;34m,\u001b[0m \u001b[0mBytesCollection\u001b[0m\u001b[0;34m,\u001b[0m \u001b[0mvsi_path\u001b[0m\u001b[0;34m\u001b[0m\u001b[0m\n\u001b[0m\u001b[1;32m     70\u001b[0m \u001b[0;32mfrom\u001b[0m \u001b[0mfiona\u001b[0m\u001b[0;34m.\u001b[0m\u001b[0m_drivers\u001b[0m \u001b[0;32mimport\u001b[0m \u001b[0mdriver_count\u001b[0m\u001b[0;34m,\u001b[0m \u001b[0mGDALEnv\u001b[0m\u001b[0;34m\u001b[0m\u001b[0m\n\u001b[1;32m     71\u001b[0m \u001b[0;32mfrom\u001b[0m \u001b[0mfiona\u001b[0m\u001b[0;34m.\u001b[0m\u001b[0mdrvsupport\u001b[0m \u001b[0;32mimport\u001b[0m \u001b[0msupported_drivers\u001b[0m\u001b[0;34m\u001b[0m\u001b[0m\n",
      "\u001b[0;32m~/miniconda3/envs/oggm_env/lib/python3.6/site-packages/fiona/collection.py\u001b[0m in \u001b[0;36m<module>\u001b[0;34m()\u001b[0m\n\u001b[1;32m      7\u001b[0m \u001b[0;34m\u001b[0m\u001b[0m\n\u001b[1;32m      8\u001b[0m \u001b[0;32mfrom\u001b[0m \u001b[0mfiona\u001b[0m \u001b[0;32mimport\u001b[0m \u001b[0mcompat\u001b[0m\u001b[0;34m\u001b[0m\u001b[0m\n\u001b[0;32m----> 9\u001b[0;31m \u001b[0;32mfrom\u001b[0m \u001b[0mfiona\u001b[0m\u001b[0;34m.\u001b[0m\u001b[0mogrext\u001b[0m \u001b[0;32mimport\u001b[0m \u001b[0mIterator\u001b[0m\u001b[0;34m,\u001b[0m \u001b[0mItemsIterator\u001b[0m\u001b[0;34m,\u001b[0m \u001b[0mKeysIterator\u001b[0m\u001b[0;34m\u001b[0m\u001b[0m\n\u001b[0m\u001b[1;32m     10\u001b[0m \u001b[0;32mfrom\u001b[0m \u001b[0mfiona\u001b[0m\u001b[0;34m.\u001b[0m\u001b[0mogrext\u001b[0m \u001b[0;32mimport\u001b[0m \u001b[0mSession\u001b[0m\u001b[0;34m,\u001b[0m \u001b[0mWritingSession\u001b[0m\u001b[0;34m\u001b[0m\u001b[0m\n\u001b[1;32m     11\u001b[0m from fiona.ogrext import (\n",
      "\u001b[0;31mImportError\u001b[0m: dlopen(/Users/oberrauch/miniconda3/envs/oggm_env/lib/python3.6/site-packages/fiona/ogrext.cpython-36m-darwin.so, 2): Library not loaded: @rpath/libpoppler.71.dylib\n  Referenced from: /Users/oberrauch/miniconda3/envs/oggm_env/lib/libgdal.20.dylib\n  Reason: image not found"
     ]
    }
   ],
   "source": [
    "import geopandas"
   ]
  },
  {
   "cell_type": "code",
   "execution_count": 5,
   "metadata": {},
   "outputs": [
    {
     "name": "stdout",
     "output_type": "stream",
     "text": [
      "default\n",
      "custom arg\n",
      "costum kwarg\n"
     ]
    }
   ],
   "source": [
    "def inner(text='default'):\n",
    "    print(text)\n",
    "    \n"
   ]
  },
  {
   "cell_type": "code",
   "execution_count": 6,
   "metadata": {},
   "outputs": [],
   "source": [
    "def invoce_inner(**kwargs):\n",
    "    inner(**kwargs)"
   ]
  },
  {
   "cell_type": "code",
   "execution_count": 14,
   "metadata": {},
   "outputs": [
    {
     "data": {
      "text/plain": [
       "{'some': None}"
      ]
     },
     "execution_count": 14,
     "metadata": {},
     "output_type": "execute_result"
    }
   ],
   "source": [
    "a = {'some': 'thing'}\n",
    "a['some'] = None\n",
    "a"
   ]
  },
  {
   "cell_type": "code",
   "execution_count": null,
   "metadata": {},
   "outputs": [],
   "source": []
  },
  {
   "cell_type": "code",
   "execution_count": 9,
   "metadata": {},
   "outputs": [
    {
     "name": "stdout",
     "output_type": "stream",
     "text": [
      "default\n",
      "costum kwarg\n"
     ]
    }
   ],
   "source": [
    "invoce_inner()\n",
    "invoce_inner(text='costum kwarg')"
   ]
  },
  {
   "cell_type": "code",
   "execution_count": 3,
   "metadata": {},
   "outputs": [
    {
     "name": "stdout",
     "output_type": "stream",
     "text": [
      "some = thing\n"
     ]
    }
   ],
   "source": [
    "greet_me(some='thing')"
   ]
  },
  {
   "cell_type": "code",
   "execution_count": null,
   "metadata": {},
   "outputs": [],
   "source": []
  },
  {
   "cell_type": "code",
   "execution_count": 48,
   "metadata": {},
   "outputs": [],
   "source": [
    "from oggm.tests import test_vascaling\n",
    "\n",
    "import numpy as np\n",
    "import datetime\n",
    "import os\n",
    "import shutil\n",
    "import copy\n",
    "\n",
    "# import test libs\n",
    "import unittest\n",
    "import pytest\n",
    "\n",
    "# import gis libs\n",
    "import geopandas as gpd\n",
    "\n",
    "# import OGGM modules\n",
    "import oggm\n",
    "import oggm.cfg as cfg\n",
    "from oggm import utils\n",
    "from oggm.utils import (get_demo_file, ncDataset, md, rmsd_bc, rel_err,\n",
    "                        corrcoef)\n",
    "from oggm.core import (gis, vascaling, climate, centerlines,\n",
    "                       massbalance, flowline, inversion)\n",
    "from oggm.tests.funcs import get_test_dir, patch_url_retrieve_github"
   ]
  },
  {
   "cell_type": "code",
   "execution_count": 49,
   "metadata": {},
   "outputs": [],
   "source": [
    "self = test_vascaling.TestVAScalingModel()"
   ]
  },
  {
   "cell_type": "code",
   "execution_count": 50,
   "metadata": {},
   "outputs": [
    {
     "name": "stderr",
     "output_type": "stream",
     "text": [
      "2019-07-03 12:48:25: oggm.cfg: Using configuration file: /Users/oberrauch/oggm-fork/oggm/params.cfg\n"
     ]
    }
   ],
   "source": [
    "# test directory\n",
    "self.testdir = os.path.join(get_test_dir(), 'tmp_vas')\n",
    "if not os.path.exists(self.testdir):\n",
    "    os.makedirs(self.testdir)\n",
    "self.clean_dir()\n",
    "\n",
    "# load default parametere file and set working directory\n",
    "cfg.initialize()\n",
    "cfg.PATHS['working_dir'] = self.testdir\n",
    "# set path to GIS files\n",
    "cfg.PARAMS['use_intersects'] = False\n",
    "cfg.PATHS['dem_file'] = get_demo_file('hef_srtm.tif')\n",
    "# set parameters for climate file and mass balance calibration\n",
    "cfg.PARAMS['baseline_climate'] = 'CUSTOM'\n",
    "cfg.PATHS['climate_file'] = get_demo_file('histalp_merged_hef.nc')\n",
    "cfg.PARAMS['run_mb_calibration'] = True\n",
    "# adjust parameters for HistAlp climate\n",
    "cfg.PARAMS['prcp_scaling_factor'] = 1.75\n",
    "cfg.PARAMS['temp_melt'] = -1.75\n",
    "cfg.PARAMS['temp_all_liq'] = 2.\n",
    "cfg.PARAMS['temp_all_solid'] = 0.\n",
    "cfg.PARAMS['temp_default_gradient'] = -0.0065"
   ]
  },
  {
   "cell_type": "code",
   "execution_count": 51,
   "metadata": {},
   "outputs": [
    {
     "name": "stderr",
     "output_type": "stream",
     "text": [
      "2019-07-03 12:48:30: oggm.core.gis: (RGI50-11.00897) define_glacier_region\n",
      "2019-07-03 12:48:30: oggm.core.gis: (RGI50-11.00897) glacier_masks\n",
      "2019-07-03 12:48:31: oggm.core.climate: (RGI50-11.00897) process_custom_climate_data\n",
      "2019-07-03 12:48:31: oggm.core.vascaling: (RGI50-11.00897) local_t_star\n"
     ]
    }
   ],
   "source": []
  },
  {
   "cell_type": "code",
   "execution_count": 52,
   "metadata": {},
   "outputs": [
    {
     "name": "stderr",
     "output_type": "stream",
     "text": [
      "2019-07-03 12:51:22: oggm.core.vascaling: (RGI50-11.00897) run_constant_climate\n",
      "/Users/oberrauch/miniconda3/envs/oggm_env/lib/python3.6/site-packages/dask/utils.py:1010: UserWarning: Deprecated, see dask.base.get_scheduler instead\n",
      "  warnings.warn(\"Deprecated, see dask.base.get_scheduler instead\")\n",
      "2019-07-03 12:51:26: oggm.core.vascaling: (RGI50-11.00897) run_constant_climate_bias_p\n",
      "/Users/oberrauch/miniconda3/envs/oggm_env/lib/python3.6/site-packages/dask/utils.py:1010: UserWarning: Deprecated, see dask.base.get_scheduler instead\n",
      "  warnings.warn(\"Deprecated, see dask.base.get_scheduler instead\")\n",
      "2019-07-03 12:51:28: oggm.core.vascaling: (RGI50-11.00897) run_constant_climate_bias_n\n"
     ]
    }
   ],
   "source": []
  },
  {
   "cell_type": "code",
   "execution_count": 53,
   "metadata": {},
   "outputs": [
    {
     "name": "stderr",
     "output_type": "stream",
     "text": [
      "/Users/oberrauch/miniconda3/envs/oggm_env/lib/python3.6/site-packages/dask/utils.py:1010: UserWarning: Deprecated, see dask.base.get_scheduler instead\n",
      "  warnings.warn(\"Deprecated, see dask.base.get_scheduler instead\")\n"
     ]
    }
   ],
   "source": []
  },
  {
   "cell_type": "code",
   "execution_count": 91,
   "metadata": {},
   "outputs": [
    {
     "data": {
      "text/plain": [
       "<matplotlib.lines.Line2D at 0x1c2b53def0>"
      ]
     },
     "execution_count": 91,
     "metadata": {},
     "output_type": "execute_result"
    },
    {
     "data": {
      "image/png": "[encoded data removed]",
      "text/plain": [
       "<Figure size 432x288 with 1 Axes>"
      ]
     },
     "metadata": {},
     "output_type": "display_data"
    }
   ],
   "source": [
    "import matplotlib.pyplot as plt\n",
    "plt.plot(ds.volume)\n",
    "plt.plot(ds_p.volume)\n",
    "avg_p = plt.axhline(ds_p.volume[ds_p.time > 300].mean())\n",
    "plt.plot(ds_n.volume)\n",
    "plt.axhline(ds_n.volume[ds_p.time > 300].mean())"
   ]
  },
  {
   "cell_type": "code",
   "execution_count": 87,
   "metadata": {},
   "outputs": [
    {
     "data": {
      "text/plain": [
       "<xarray.DataArray 'volume' ()>\n",
       "array(5.962979e+08)"
      ]
     },
     "execution_count": 87,
     "metadata": {},
     "output_type": "execute_result"
    }
   ],
   "source": [
    "ds.volume[ds_p.time > 300].mean()"
   ]
  },
  {
   "cell_type": "code",
   "execution_count": 83,
   "metadata": {},
   "outputs": [
    {
     "ename": "KeyError",
     "evalue": "False",
     "output_type": "error",
     "traceback": [
      "\u001b[0;31m---------------------------------------------------------------------------\u001b[0m",
      "\u001b[0;31mKeyError\u001b[0m                                  Traceback (most recent call last)",
      "\u001b[0;32m~/miniconda3/envs/oggm_env/lib/python3.6/site-packages/xarray/core/dataset.py\u001b[0m in \u001b[0;36m_copy_listed\u001b[0;34m(self, names)\u001b[0m\n\u001b[1;32m    762\u001b[0m             \u001b[0;32mtry\u001b[0m\u001b[0;34m:\u001b[0m\u001b[0;34m\u001b[0m\u001b[0m\n\u001b[0;32m--> 763\u001b[0;31m                 \u001b[0mvariables\u001b[0m\u001b[0;34m[\u001b[0m\u001b[0mname\u001b[0m\u001b[0;34m]\u001b[0m \u001b[0;34m=\u001b[0m \u001b[0mself\u001b[0m\u001b[0;34m.\u001b[0m\u001b[0m_variables\u001b[0m\u001b[0;34m[\u001b[0m\u001b[0mname\u001b[0m\u001b[0;34m]\u001b[0m\u001b[0;34m\u001b[0m\u001b[0m\n\u001b[0m\u001b[1;32m    764\u001b[0m             \u001b[0;32mexcept\u001b[0m \u001b[0mKeyError\u001b[0m\u001b[0;34m:\u001b[0m\u001b[0;34m\u001b[0m\u001b[0m\n",
      "\u001b[0;31mKeyError\u001b[0m: False",
      "\nDuring handling of the above exception, another exception occurred:\n",
      "\u001b[0;31mKeyError\u001b[0m                                  Traceback (most recent call last)",
      "\u001b[0;32m<ipython-input-83-9f9173ecb5ac>\u001b[0m in \u001b[0;36m<module>\u001b[0;34m()\u001b[0m\n\u001b[0;32m----> 1\u001b[0;31m \u001b[0mds_p\u001b[0m\u001b[0;34m[\u001b[0m\u001b[0mds_p\u001b[0m\u001b[0;34m.\u001b[0m\u001b[0mtime\u001b[0m \u001b[0;34m>\u001b[0m \u001b[0;36m300\u001b[0m\u001b[0;34m]\u001b[0m\u001b[0;34m\u001b[0m\u001b[0m\n\u001b[0m",
      "\u001b[0;32m~/miniconda3/envs/oggm_env/lib/python3.6/site-packages/xarray/core/dataset.py\u001b[0m in \u001b[0;36m__getitem__\u001b[0;34m(self, key)\u001b[0m\n\u001b[1;32m    880\u001b[0m             \u001b[0;32mreturn\u001b[0m \u001b[0mself\u001b[0m\u001b[0;34m.\u001b[0m\u001b[0m_construct_dataarray\u001b[0m\u001b[0;34m(\u001b[0m\u001b[0mkey\u001b[0m\u001b[0;34m)\u001b[0m\u001b[0;34m\u001b[0m\u001b[0m\n\u001b[1;32m    881\u001b[0m         \u001b[0;32melse\u001b[0m\u001b[0;34m:\u001b[0m\u001b[0;34m\u001b[0m\u001b[0m\n\u001b[0;32m--> 882\u001b[0;31m             \u001b[0;32mreturn\u001b[0m \u001b[0mself\u001b[0m\u001b[0;34m.\u001b[0m\u001b[0m_copy_listed\u001b[0m\u001b[0;34m(\u001b[0m\u001b[0mnp\u001b[0m\u001b[0;34m.\u001b[0m\u001b[0masarray\u001b[0m\u001b[0;34m(\u001b[0m\u001b[0mkey\u001b[0m\u001b[0;34m)\u001b[0m\u001b[0;34m)\u001b[0m\u001b[0;34m\u001b[0m\u001b[0m\n\u001b[0m\u001b[1;32m    883\u001b[0m \u001b[0;34m\u001b[0m\u001b[0m\n\u001b[1;32m    884\u001b[0m     \u001b[0;32mdef\u001b[0m \u001b[0m__setitem__\u001b[0m\u001b[0;34m(\u001b[0m\u001b[0mself\u001b[0m\u001b[0;34m,\u001b[0m \u001b[0mkey\u001b[0m\u001b[0;34m,\u001b[0m \u001b[0mvalue\u001b[0m\u001b[0;34m)\u001b[0m\u001b[0;34m:\u001b[0m\u001b[0;34m\u001b[0m\u001b[0m\n",
      "\u001b[0;32m~/miniconda3/envs/oggm_env/lib/python3.6/site-packages/xarray/core/dataset.py\u001b[0m in \u001b[0;36m_copy_listed\u001b[0;34m(self, names)\u001b[0m\n\u001b[1;32m    764\u001b[0m             \u001b[0;32mexcept\u001b[0m \u001b[0mKeyError\u001b[0m\u001b[0;34m:\u001b[0m\u001b[0;34m\u001b[0m\u001b[0m\n\u001b[1;32m    765\u001b[0m                 ref_name, var_name, var = _get_virtual_variable(\n\u001b[0;32m--> 766\u001b[0;31m                     self._variables, name, self._level_coords, self.dims)\n\u001b[0m\u001b[1;32m    767\u001b[0m                 \u001b[0mvariables\u001b[0m\u001b[0;34m[\u001b[0m\u001b[0mvar_name\u001b[0m\u001b[0;34m]\u001b[0m \u001b[0;34m=\u001b[0m \u001b[0mvar\u001b[0m\u001b[0;34m\u001b[0m\u001b[0m\n\u001b[1;32m    768\u001b[0m                 \u001b[0;32mif\u001b[0m \u001b[0mref_name\u001b[0m \u001b[0;32min\u001b[0m \u001b[0mself\u001b[0m\u001b[0;34m.\u001b[0m\u001b[0m_coord_names\u001b[0m \u001b[0;32mor\u001b[0m \u001b[0mref_name\u001b[0m \u001b[0;32min\u001b[0m \u001b[0mself\u001b[0m\u001b[0;34m.\u001b[0m\u001b[0mdims\u001b[0m\u001b[0;34m:\u001b[0m\u001b[0;34m\u001b[0m\u001b[0m\n",
      "\u001b[0;32m~/miniconda3/envs/oggm_env/lib/python3.6/site-packages/xarray/core/dataset.py\u001b[0m in \u001b[0;36m_get_virtual_variable\u001b[0;34m(variables, key, level_vars, dim_sizes)\u001b[0m\n\u001b[1;32m     57\u001b[0m \u001b[0;34m\u001b[0m\u001b[0m\n\u001b[1;32m     58\u001b[0m     \u001b[0;32mif\u001b[0m \u001b[0;32mnot\u001b[0m \u001b[0misinstance\u001b[0m\u001b[0;34m(\u001b[0m\u001b[0mkey\u001b[0m\u001b[0;34m,\u001b[0m \u001b[0mbasestring\u001b[0m\u001b[0;34m)\u001b[0m\u001b[0;34m:\u001b[0m\u001b[0;34m\u001b[0m\u001b[0m\n\u001b[0;32m---> 59\u001b[0;31m         \u001b[0;32mraise\u001b[0m \u001b[0mKeyError\u001b[0m\u001b[0;34m(\u001b[0m\u001b[0mkey\u001b[0m\u001b[0;34m)\u001b[0m\u001b[0;34m\u001b[0m\u001b[0m\n\u001b[0m\u001b[1;32m     60\u001b[0m \u001b[0;34m\u001b[0m\u001b[0m\n\u001b[1;32m     61\u001b[0m     \u001b[0msplit_key\u001b[0m \u001b[0;34m=\u001b[0m \u001b[0mkey\u001b[0m\u001b[0;34m.\u001b[0m\u001b[0msplit\u001b[0m\u001b[0;34m(\u001b[0m\u001b[0;34m'.'\u001b[0m\u001b[0;34m,\u001b[0m \u001b[0;36m1\u001b[0m\u001b[0;34m)\u001b[0m\u001b[0;34m\u001b[0m\u001b[0m\n",
      "\u001b[0;31mKeyError\u001b[0m: False"
     ]
    }
   ],
   "source": [
    "ds_p[]"
   ]
  },
  {
   "cell_type": "code",
   "execution_count": 81,
   "metadata": {},
   "outputs": [
    {
     "data": {
      "text/plain": [
       "[<matplotlib.lines.Line2D at 0x1c2b1c8eb8>]"
      ]
     },
     "execution_count": 81,
     "metadata": {},
     "output_type": "execute_result"
    },
    {
     "data": {
      "image/png": "[encoded data removed]",
      "text/plain": [
       "<Figure size 432x288 with 1 Axes>"
      ]
     },
     "metadata": {},
     "output_type": "display_data"
    }
   ],
   "source": [
    "plt.plot(abs(ds_p - ds).volume, c='r')\n",
    "plt.plot(abs(ds_n - ds).volume, c='b')"
   ]
  },
  {
   "cell_type": "code",
   "execution_count": 78,
   "metadata": {},
   "outputs": [
    {
     "data": {
      "text/plain": [
       "<xarray.DataArray 'volume' (time: 501, rgi_id: 1)>\n",
       "array([[0.000000e+00],\n",
       "       [1.887848e+06],\n",
       "       [3.775236e+06],\n",
       "       ...,\n",
       "       [1.016047e+08],\n",
       "       [1.016006e+08],\n",
       "       [1.015962e+08]])\n",
       "Coordinates:\n",
       "  * rgi_id          (rgi_id) <U14 'RGI50-11.00897'\n",
       "    calendar_month  (time) int64 10 10 10 10 10 10 10 10 10 10 10 10 10 10 ...\n",
       "    calendar_year   (time) int64 -1 0 1 2 3 4 5 6 7 8 9 10 11 12 13 14 15 16 ...\n",
       "    hydro_month     (time) int64 1 1 1 1 1 1 1 1 1 1 1 1 1 1 1 1 1 1 1 1 1 1 ...\n",
       "  * time            (time) float64 0.0 1.0 2.0 3.0 4.0 5.0 6.0 7.0 8.0 9.0 ...\n",
       "    hydro_year      (time) int64 0 1 2 3 4 5 6 7 8 9 10 11 12 13 14 15 16 17 ..."
      ]
     },
     "execution_count": 78,
     "metadata": {},
     "output_type": "execute_result"
    }
   ],
   "source": [
    "abs(ds_n - ds).volume"
   ]
  },
  {
   "cell_type": "code",
   "execution_count": 61,
   "metadata": {},
   "outputs": [
    {
     "data": {
      "text/plain": [
       "<xarray.DataArray 'volume' (rgi_id: 1)>\n",
       "array([ True])\n",
       "Coordinates:\n",
       "    time            float64 0.0\n",
       "  * rgi_id          (rgi_id) <U14 'RGI50-11.00897'\n",
       "    hydro_year      int64 0\n",
       "    hydro_month     int64 1\n",
       "    calendar_year   int64 -1\n",
       "    calendar_month  int64 10"
      ]
     },
     "execution_count": 61,
     "metadata": {},
     "output_type": "execute_result"
    }
   ],
   "source": [
    "assert abs(1 - ds.volume.mean() / ds.volume[0]) < 1e-7"
   ]
  },
  {
   "cell_type": "code",
   "execution_count": 69,
   "metadata": {},
   "outputs": [
    {
     "data": {
      "text/plain": [
       "<xarray.DataArray 'volume' ()>\n",
       "array(1.936889e+08)"
      ]
     },
     "execution_count": 69,
     "metadata": {},
     "output_type": "execute_result"
    }
   ],
   "source": [
    "abs(ds_p.volume.mean() - ds_n.volume.mean()) "
   ]
  },
  {
   "cell_type": "code",
   "execution_count": 75,
   "metadata": {},
   "outputs": [
    {
     "ename": "AssertionError",
     "evalue": "\nNot equal to tolerance rtol=1e-07, atol=0\n\n(mismatch 100.0%)\n x: array(-1.936889e+08)\n y: array(5.962979e+08)",
     "output_type": "error",
     "traceback": [
      "\u001b[0;31m---------------------------------------------------------------------------\u001b[0m",
      "\u001b[0;31mAssertionError\u001b[0m                            Traceback (most recent call last)",
      "\u001b[0;32m<ipython-input-75-1584251bbe44>\u001b[0m in \u001b[0;36m<module>\u001b[0;34m()\u001b[0m\n\u001b[0;32m----> 1\u001b[0;31m \u001b[0mnp\u001b[0m\u001b[0;34m.\u001b[0m\u001b[0mtesting\u001b[0m\u001b[0;34m.\u001b[0m\u001b[0massert_allclose\u001b[0m\u001b[0;34m(\u001b[0m\u001b[0mds_p\u001b[0m\u001b[0;34m.\u001b[0m\u001b[0mvolume\u001b[0m\u001b[0;34m.\u001b[0m\u001b[0mmean\u001b[0m\u001b[0;34m(\u001b[0m\u001b[0;34m)\u001b[0m \u001b[0;34m-\u001b[0m \u001b[0mds_n\u001b[0m\u001b[0;34m.\u001b[0m\u001b[0mvolume\u001b[0m\u001b[0;34m.\u001b[0m\u001b[0mmean\u001b[0m\u001b[0;34m(\u001b[0m\u001b[0;34m)\u001b[0m\u001b[0;34m,\u001b[0m \u001b[0mds\u001b[0m\u001b[0;34m.\u001b[0m\u001b[0mvolume\u001b[0m\u001b[0;34m.\u001b[0m\u001b[0mmean\u001b[0m\u001b[0;34m(\u001b[0m\u001b[0;34m)\u001b[0m\u001b[0;34m)\u001b[0m\u001b[0;34m\u001b[0m\u001b[0m\n\u001b[0m",
      "\u001b[0;32m~/miniconda3/envs/oggm_env/lib/python3.6/site-packages/numpy/testing/_private/utils.py\u001b[0m in \u001b[0;36massert_allclose\u001b[0;34m(actual, desired, rtol, atol, equal_nan, err_msg, verbose)\u001b[0m\n\u001b[1;32m   1450\u001b[0m     \u001b[0mheader\u001b[0m \u001b[0;34m=\u001b[0m \u001b[0;34m'Not equal to tolerance rtol=%g, atol=%g'\u001b[0m \u001b[0;34m%\u001b[0m \u001b[0;34m(\u001b[0m\u001b[0mrtol\u001b[0m\u001b[0;34m,\u001b[0m \u001b[0matol\u001b[0m\u001b[0;34m)\u001b[0m\u001b[0;34m\u001b[0m\u001b[0m\n\u001b[1;32m   1451\u001b[0m     assert_array_compare(compare, actual, desired, err_msg=str(err_msg),\n\u001b[0;32m-> 1452\u001b[0;31m                          verbose=verbose, header=header, equal_nan=equal_nan)\n\u001b[0m\u001b[1;32m   1453\u001b[0m \u001b[0;34m\u001b[0m\u001b[0m\n\u001b[1;32m   1454\u001b[0m \u001b[0;34m\u001b[0m\u001b[0m\n",
      "\u001b[0;32m~/miniconda3/envs/oggm_env/lib/python3.6/site-packages/numpy/testing/_private/utils.py\u001b[0m in \u001b[0;36massert_array_compare\u001b[0;34m(comparison, x, y, err_msg, verbose, header, precision, equal_nan, equal_inf)\u001b[0m\n\u001b[1;32m    787\u001b[0m                                 \u001b[0mverbose\u001b[0m\u001b[0;34m=\u001b[0m\u001b[0mverbose\u001b[0m\u001b[0;34m,\u001b[0m \u001b[0mheader\u001b[0m\u001b[0;34m=\u001b[0m\u001b[0mheader\u001b[0m\u001b[0;34m,\u001b[0m\u001b[0;34m\u001b[0m\u001b[0m\n\u001b[1;32m    788\u001b[0m                                 names=('x', 'y'), precision=precision)\n\u001b[0;32m--> 789\u001b[0;31m             \u001b[0;32mraise\u001b[0m \u001b[0mAssertionError\u001b[0m\u001b[0;34m(\u001b[0m\u001b[0mmsg\u001b[0m\u001b[0;34m)\u001b[0m\u001b[0;34m\u001b[0m\u001b[0m\n\u001b[0m\u001b[1;32m    790\u001b[0m     \u001b[0;32mexcept\u001b[0m \u001b[0mValueError\u001b[0m\u001b[0;34m:\u001b[0m\u001b[0;34m\u001b[0m\u001b[0m\n\u001b[1;32m    791\u001b[0m         \u001b[0;32mimport\u001b[0m \u001b[0mtraceback\u001b[0m\u001b[0;34m\u001b[0m\u001b[0m\n",
      "\u001b[0;31mAssertionError\u001b[0m: \nNot equal to tolerance rtol=1e-07, atol=0\n\n(mismatch 100.0%)\n x: array(-1.936889e+08)\n y: array(5.962979e+08)"
     ]
    }
   ],
   "source": [
    "np.testing.assert_allclose(ds_p.volume.mean() - ds_n.volume.mean(), ds.volume.mean())"
   ]
  },
  {
   "cell_type": "code",
   "execution_count": 72,
   "metadata": {},
   "outputs": [
    {
     "ename": "AssertionError",
     "evalue": "",
     "output_type": "error",
     "traceback": [
      "\u001b[0;31m---------------------------------------------------------------------------\u001b[0m",
      "\u001b[0;31mAssertionError\u001b[0m                            Traceback (most recent call last)",
      "\u001b[0;32m<ipython-input-72-861f898e7cc8>\u001b[0m in \u001b[0;36m<module>\u001b[0;34m()\u001b[0m\n\u001b[0;32m----> 1\u001b[0;31m \u001b[0;32massert\u001b[0m \u001b[0mabs\u001b[0m\u001b[0;34m(\u001b[0m\u001b[0mds_p\u001b[0m\u001b[0;34m.\u001b[0m\u001b[0mvolume\u001b[0m\u001b[0;34m.\u001b[0m\u001b[0mmean\u001b[0m\u001b[0;34m(\u001b[0m\u001b[0;34m)\u001b[0m \u001b[0;34m+\u001b[0m \u001b[0mds_n\u001b[0m\u001b[0;34m.\u001b[0m\u001b[0mvolume\u001b[0m\u001b[0;34m.\u001b[0m\u001b[0mmean\u001b[0m\u001b[0;34m(\u001b[0m\u001b[0;34m)\u001b[0m\u001b[0;34m)\u001b[0m \u001b[0;34m<\u001b[0m \u001b[0;36m1e-7\u001b[0m\u001b[0;34m\u001b[0m\u001b[0m\n\u001b[0m",
      "\u001b[0;31mAssertionError\u001b[0m: "
     ]
    }
   ],
   "source": [
    "assert abs(ds_p.volume.mean() + ds_n.volume.mean()) < 1e-7 "
   ]
  },
  {
   "cell_type": "code",
   "execution_count": 64,
   "metadata": {},
   "outputs": [],
   "source": []
  },
  {
   "cell_type": "code",
   "execution_count": 128,
   "metadata": {},
   "outputs": [],
   "source": [
    "# compute volume change from one year to the next\n",
    "dV_p = (ds_p.volume[1:].values - ds_p.volume[:-1].values).flatten()\n",
    "dV_n = (ds_n.volume[1:].values - ds_n.volume[:-1].values).flatten()\n",
    "# compute relative volume change, with respect to the final volume\n",
    "rate_p = abs(dV_p / float(ds_p.volume.values[-1]))\n",
    "rate_n = abs(dV_n / float(ds_n.volume.values[-1]))\n",
    "# the glacier should be in a new equilibirum for last 300 years\n",
    "assert max(rate_p[-300:]) < 0.001\n",
    "assert max(rate_n[-300:]) < 0.001"
   ]
  },
  {
   "cell_type": "code",
   "execution_count": 127,
   "metadata": {},
   "outputs": [
    {
     "data": {
      "text/plain": [
       "0.0005231155164758707"
      ]
     },
     "execution_count": 127,
     "metadata": {},
     "output_type": "execute_result"
    }
   ],
   "source": [
    "\n",
    "max(rate_n[-300:])"
   ]
  },
  {
   "cell_type": "code",
   "execution_count": 125,
   "metadata": {},
   "outputs": [],
   "source": [
    "# compute volume change from one year to the next\n",
    "dV_n = (ds_n.volume[1:].values - ds_n.volume[:-1].values).flatten()\n",
    "# compute relative volume change, with respect to the final volume\n",
    "rate_n = abs(dV_n / float(ds_n.volume.values[-1]))\n",
    "max(rate_p[-300:]) < 0.001"
   ]
  },
  {
   "cell_type": "code",
   "execution_count": 94,
   "metadata": {},
   "outputs": [
    {
     "data": {
      "text/plain": [
       "<xarray.DataArray 'volume' ()>\n",
       "array(3.425212e-16)"
      ]
     },
     "execution_count": 94,
     "metadata": {},
     "output_type": "execute_result"
    }
   ],
   "source": [
    "eq_p = ds_p.volume[ds_p.time > 300].mean()\n",
    "((ds_p.volume[ds_p.time > 300] - eq_p) / eq_p).mean()\n",
    "\n"
   ]
  },
  {
   "cell_type": "code",
   "execution_count": null,
   "metadata": {},
   "outputs": [],
   "source": [
    "eq_n = ds_n.volume[ds_p.time > 300].mean()"
   ]
  },
  {
   "cell_type": "code",
   "execution_count": 15,
   "metadata": {},
   "outputs": [],
   "source": [
    "import numpy as np\n",
    "from oggm.tests import test_models\n",
    "from oggm.core.flowline import init_present_time_glacier\n",
    "from oggm.core import massbalance\n",
    "from oggm.core.flowline import FluxBasedModel"
   ]
  },
  {
   "cell_type": "code",
   "execution_count": 2,
   "metadata": {},
   "outputs": [],
   "source": [
    "# create a TestCase object\n",
    "self = test_models.TestHEF()"
   ]
  },
  {
   "cell_type": "code",
   "execution_count": 3,
   "metadata": {},
   "outputs": [
    {
     "name": "stderr",
     "output_type": "stream",
     "text": [
      "2019-07-03 11:30:02: oggm.cfg: Using configuration file: /Users/oberrauch/oggm-fork/oggm/params.cfg\n",
      "2019-07-03 11:30:03: oggm.core.gis: (RGI50-11.00897) define_glacier_region\n",
      "2019-07-03 11:30:03: oggm.workflow: Execute entity task glacier_masks on 1 glaciers\n",
      "2019-07-03 11:30:03: oggm.workflow: Multiprocessing: using all available processors (N=4)\n",
      "2019-07-03 11:30:03: oggm.core.gis: (RGI50-11.00897) glacier_masks\n",
      "2019-07-03 11:30:04: oggm.workflow: Execute entity task compute_centerlines on 1 glaciers\n",
      "2019-07-03 11:30:04: oggm.core.centerlines: (RGI50-11.00897) compute_centerlines\n",
      "2019-07-03 11:30:05: oggm.core.centerlines: (RGI50-11.00897) initialize_flowlines\n",
      "2019-07-03 11:30:05: oggm.core.centerlines: (RGI50-11.00897) compute_downstream_line\n",
      "2019-07-03 11:30:06: oggm.core.centerlines: (RGI50-11.00897) compute_downstream_bedshape\n",
      "2019-07-03 11:30:07: oggm.core.centerlines: (RGI50-11.00897) catchment_area\n",
      "2019-07-03 11:30:09: oggm.core.centerlines: (RGI50-11.00897) catchment_intersections\n",
      "2019-07-03 11:30:09: oggm.core.centerlines: (RGI50-11.00897) catchment_width_geom\n",
      "2019-07-03 11:30:11: oggm.core.centerlines: (RGI50-11.00897) catchment_width_correction\n",
      "2019-07-03 11:30:11: oggm.core.climate: (RGI50-11.00897) process_custom_climate_data\n",
      "2019-07-03 11:30:11: oggm.core.climate: (RGI50-11.00897) t_star_from_refmb\n",
      "2019-07-03 11:30:11: oggm.core.climate: (RGI50-11.00897) local_t_star\n",
      "2019-07-03 11:30:11: oggm.core.climate: (RGI50-11.00897) local mu* computation for t*=1879\n",
      "2019-07-03 11:30:11: oggm.core.climate: (RGI50-11.00897) mu_star_calibration\n",
      "2019-07-03 11:30:11: oggm.core.inversion: (RGI50-11.00897) prepare_for_inversion\n",
      "2019-07-03 11:30:11: oggm.core.inversion: (RGI50-11.00897) mass_conservation_inversion\n",
      "2019-07-03 11:30:11: oggm.core.inversion: (RGI50-11.00897) mass_conservation_inversion\n",
      "2019-07-03 11:30:11: oggm.core.inversion: (RGI50-11.00897) mass_conservation_inversion\n",
      "2019-07-03 11:30:11: oggm.core.inversion: (RGI50-11.00897) mass_conservation_inversion\n",
      "2019-07-03 11:30:11: oggm.core.inversion: (RGI50-11.00897) mass_conservation_inversion\n",
      "2019-07-03 11:30:11: oggm.core.inversion: (RGI50-11.00897) mass_conservation_inversion\n",
      "2019-07-03 11:30:12: oggm.core.inversion: (RGI50-11.00897) mass_conservation_inversion\n",
      "2019-07-03 11:30:12: oggm.core.inversion: (RGI50-11.00897) mass_conservation_inversion\n",
      "2019-07-03 11:30:12: oggm.core.inversion: (RGI50-11.00897) mass_conservation_inversion\n",
      "2019-07-03 11:30:12: oggm.core.inversion: (RGI50-11.00897) mass_conservation_inversion\n",
      "2019-07-03 11:30:12: oggm.core.inversion: (RGI50-11.00897) mass_conservation_inversion\n",
      "2019-07-03 11:30:12: oggm.core.inversion: (RGI50-11.00897) mass_conservation_inversion\n",
      "2019-07-03 11:30:12: oggm.core.inversion: (RGI50-11.00897) mass_conservation_inversion\n",
      "2019-07-03 11:30:12: oggm.core.inversion: (RGI50-11.00897) mass_conservation_inversion\n",
      "2019-07-03 11:30:12: oggm.core.inversion: (RGI50-11.00897) mass_conservation_inversion\n",
      "2019-07-03 11:30:12: oggm.core.inversion: (RGI50-11.00897) mass_conservation_inversion\n",
      "2019-07-03 11:30:12: oggm.core.inversion: (RGI50-11.00897) mass_conservation_inversion\n",
      "2019-07-03 11:30:12: oggm.core.inversion: (RGI50-11.00897) mass_conservation_inversion\n",
      "2019-07-03 11:30:12: oggm.core.inversion: (RGI50-11.00897) mass_conservation_inversion\n",
      "2019-07-03 11:30:12: oggm.core.inversion: (RGI50-11.00897) mass_conservation_inversion\n",
      "2019-07-03 11:30:12: oggm.core.inversion: (RGI50-11.00897) mass_conservation_inversion\n",
      "2019-07-03 11:30:12: oggm.core.inversion: (RGI50-11.00897) mass_conservation_inversion\n",
      "2019-07-03 11:30:12: oggm.core.inversion: (RGI50-11.00897) mass_conservation_inversion\n",
      "2019-07-03 11:30:12: oggm.core.inversion: (RGI50-11.00897) mass_conservation_inversion\n",
      "2019-07-03 11:30:12: oggm.core.inversion: (RGI50-11.00897) mass_conservation_inversion\n",
      "2019-07-03 11:30:12: oggm.core.inversion: (RGI50-11.00897) mass_conservation_inversion\n",
      "2019-07-03 11:30:12: oggm.core.inversion: (RGI50-11.00897) mass_conservation_inversion\n",
      "2019-07-03 11:30:12: oggm.core.inversion: (RGI50-11.00897) mass_conservation_inversion\n",
      "2019-07-03 11:30:12: oggm.core.inversion: (RGI50-11.00897) mass_conservation_inversion\n",
      "2019-07-03 11:30:13: oggm.core.inversion: (RGI50-11.00897) mass_conservation_inversion\n",
      "2019-07-03 11:30:13: oggm.core.inversion: (RGI50-11.00897) mass_conservation_inversion\n",
      "2019-07-03 11:30:13: oggm.core.inversion: (RGI50-11.00897) mass_conservation_inversion\n",
      "2019-07-03 11:30:13: oggm.core.inversion: (RGI50-11.00897) mass_conservation_inversion\n",
      "2019-07-03 11:30:13: oggm.core.inversion: (RGI50-11.00897) mass_conservation_inversion\n",
      "2019-07-03 11:30:13: oggm.core.inversion: (RGI50-11.00897) mass_conservation_inversion\n",
      "2019-07-03 11:30:13: oggm.core.inversion: (RGI50-11.00897) mass_conservation_inversion\n",
      "2019-07-03 11:30:13: oggm.core.inversion: (RGI50-11.00897) mass_conservation_inversion\n",
      "2019-07-03 11:30:13: oggm.core.inversion: (RGI50-11.00897) mass_conservation_inversion\n",
      "2019-07-03 11:30:13: oggm.core.inversion: (RGI50-11.00897) mass_conservation_inversion\n",
      "2019-07-03 11:30:13: oggm.core.inversion: (RGI50-11.00897) mass_conservation_inversion\n",
      "2019-07-03 11:30:13: oggm.core.inversion: (RGI50-11.00897) mass_conservation_inversion\n",
      "2019-07-03 11:30:13: oggm.core.inversion: (RGI50-11.00897) mass_conservation_inversion\n",
      "2019-07-03 11:30:13: oggm.core.inversion: (RGI50-11.00897) mass_conservation_inversion\n",
      "2019-07-03 11:30:13: oggm.core.inversion: (RGI50-11.00897) mass_conservation_inversion\n",
      "2019-07-03 11:30:13: oggm.core.inversion: (RGI50-11.00897) mass_conservation_inversion\n",
      "2019-07-03 11:30:13: oggm.core.inversion: (RGI50-11.00897) mass_conservation_inversion\n",
      "2019-07-03 11:30:13: oggm.core.inversion: (RGI50-11.00897) mass_conservation_inversion\n",
      "2019-07-03 11:30:13: oggm.core.inversion: (RGI50-11.00897) mass_conservation_inversion\n",
      "2019-07-03 11:30:13: oggm.core.inversion: (RGI50-11.00897) mass_conservation_inversion\n",
      "2019-07-03 11:30:13: oggm.core.inversion: (RGI50-11.00897) mass_conservation_inversion\n",
      "2019-07-03 11:30:13: oggm.core.inversion: (RGI50-11.00897) mass_conservation_inversion\n",
      "2019-07-03 11:30:13: oggm.core.inversion: (RGI50-11.00897) mass_conservation_inversion\n",
      "2019-07-03 11:30:13: oggm.core.inversion: (RGI50-11.00897) mass_conservation_inversion\n",
      "2019-07-03 11:30:13: oggm.core.inversion: (RGI50-11.00897) mass_conservation_inversion\n",
      "2019-07-03 11:30:13: oggm.core.inversion: (RGI50-11.00897) mass_conservation_inversion\n",
      "2019-07-03 11:30:13: oggm.core.inversion: (RGI50-11.00897) mass_conservation_inversion\n",
      "2019-07-03 11:30:13: oggm.core.inversion: (RGI50-11.00897) mass_conservation_inversion\n",
      "2019-07-03 11:30:14: oggm.core.inversion: (RGI50-11.00897) mass_conservation_inversion\n",
      "2019-07-03 11:30:14: oggm.core.inversion: (RGI50-11.00897) mass_conservation_inversion\n",
      "2019-07-03 11:30:14: oggm.core.inversion: (RGI50-11.00897) mass_conservation_inversion\n",
      "2019-07-03 11:30:14: oggm.core.inversion: (RGI50-11.00897) mass_conservation_inversion\n",
      "2019-07-03 11:30:14: oggm.core.inversion: (RGI50-11.00897) mass_conservation_inversion\n",
      "2019-07-03 11:30:14: oggm.core.inversion: (RGI50-11.00897) mass_conservation_inversion\n",
      "2019-07-03 11:30:14: oggm.core.inversion: (RGI50-11.00897) mass_conservation_inversion\n",
      "2019-07-03 11:30:14: oggm.core.inversion: (RGI50-11.00897) mass_conservation_inversion\n",
      "2019-07-03 11:30:14: oggm.core.inversion: (RGI50-11.00897) mass_conservation_inversion\n",
      "2019-07-03 11:30:14: oggm.core.inversion: (RGI50-11.00897) mass_conservation_inversion\n",
      "2019-07-03 11:30:14: oggm.core.inversion: (RGI50-11.00897) mass_conservation_inversion\n",
      "2019-07-03 11:30:14: oggm.core.inversion: (RGI50-11.00897) mass_conservation_inversion\n",
      "2019-07-03 11:30:14: oggm.core.inversion: (RGI50-11.00897) mass_conservation_inversion\n",
      "2019-07-03 11:30:14: oggm.core.inversion: (RGI50-11.00897) mass_conservation_inversion\n",
      "2019-07-03 11:30:14: oggm.core.inversion: (RGI50-11.00897) mass_conservation_inversion\n",
      "2019-07-03 11:30:14: oggm.core.inversion: (RGI50-11.00897) mass_conservation_inversion\n",
      "2019-07-03 11:30:14: oggm.core.inversion: (RGI50-11.00897) mass_conservation_inversion\n",
      "2019-07-03 11:30:14: oggm.core.inversion: (RGI50-11.00897) mass_conservation_inversion\n",
      "2019-07-03 11:30:14: oggm.core.inversion: (RGI50-11.00897) mass_conservation_inversion\n"
     ]
    },
    {
     "name": "stderr",
     "output_type": "stream",
     "text": [
      "2019-07-03 11:30:14: oggm.core.inversion: (RGI50-11.00897) mass_conservation_inversion\n",
      "2019-07-03 11:30:14: oggm.core.inversion: (RGI50-11.00897) mass_conservation_inversion\n",
      "2019-07-03 11:30:14: oggm.core.inversion: (RGI50-11.00897) mass_conservation_inversion\n",
      "2019-07-03 11:30:14: oggm.core.inversion: (RGI50-11.00897) mass_conservation_inversion\n",
      "2019-07-03 11:30:14: oggm.core.inversion: (RGI50-11.00897) mass_conservation_inversion\n",
      "2019-07-03 11:30:14: oggm.core.inversion: (RGI50-11.00897) mass_conservation_inversion\n",
      "2019-07-03 11:30:14: oggm.core.inversion: (RGI50-11.00897) mass_conservation_inversion\n",
      "2019-07-03 11:30:14: oggm.core.inversion: (RGI50-11.00897) mass_conservation_inversion\n",
      "2019-07-03 11:30:15: oggm.core.inversion: (RGI50-11.00897) mass_conservation_inversion\n",
      "2019-07-03 11:30:15: oggm.core.inversion: (RGI50-11.00897) mass_conservation_inversion\n",
      "2019-07-03 11:30:15: oggm.core.inversion: (RGI50-11.00897) mass_conservation_inversion\n",
      "2019-07-03 11:30:15: oggm.core.inversion: (RGI50-11.00897) mass_conservation_inversion\n",
      "2019-07-03 11:30:15: oggm.core.inversion: (RGI50-11.00897) mass_conservation_inversion\n",
      "2019-07-03 11:30:15: oggm.core.inversion: (RGI50-11.00897) mass_conservation_inversion\n",
      "2019-07-03 11:30:15: oggm.core.inversion: (RGI50-11.00897) mass_conservation_inversion\n",
      "2019-07-03 11:30:15: oggm.core.inversion: (RGI50-11.00897) mass_conservation_inversion\n",
      "2019-07-03 11:30:15: oggm.core.inversion: (RGI50-11.00897) mass_conservation_inversion\n",
      "2019-07-03 11:30:15: oggm.core.inversion: (RGI50-11.00897) mass_conservation_inversion\n",
      "2019-07-03 11:30:15: oggm.core.inversion: (RGI50-11.00897) mass_conservation_inversion\n",
      "2019-07-03 11:30:15: oggm.core.inversion: (RGI50-11.00897) mass_conservation_inversion\n",
      "2019-07-03 11:30:15: oggm.core.inversion: (RGI50-11.00897) mass_conservation_inversion\n",
      "2019-07-03 11:30:15: oggm.core.inversion: (RGI50-11.00897) mass_conservation_inversion\n",
      "2019-07-03 11:30:15: oggm.core.inversion: (RGI50-11.00897) mass_conservation_inversion\n",
      "2019-07-03 11:30:15: oggm.core.inversion: (RGI50-11.00897) mass_conservation_inversion\n",
      "2019-07-03 11:30:15: oggm.core.inversion: (RGI50-11.00897) mass_conservation_inversion\n",
      "2019-07-03 11:30:15: oggm.core.inversion: (RGI50-11.00897) mass_conservation_inversion\n",
      "2019-07-03 11:30:15: oggm.core.inversion: (RGI50-11.00897) mass_conservation_inversion\n",
      "2019-07-03 11:30:15: oggm.core.inversion: (RGI50-11.00897) mass_conservation_inversion\n",
      "2019-07-03 11:30:15: oggm.core.inversion: (RGI50-11.00897) mass_conservation_inversion\n",
      "2019-07-03 11:30:15: oggm.core.inversion: (RGI50-11.00897) mass_conservation_inversion\n",
      "2019-07-03 11:30:15: oggm.core.inversion: (RGI50-11.00897) mass_conservation_inversion\n",
      "2019-07-03 11:30:15: oggm.core.inversion: (RGI50-11.00897) mass_conservation_inversion\n",
      "2019-07-03 11:30:15: oggm.core.inversion: (RGI50-11.00897) mass_conservation_inversion\n",
      "2019-07-03 11:30:15: oggm.core.inversion: (RGI50-11.00897) mass_conservation_inversion\n",
      "2019-07-03 11:30:15: oggm.core.inversion: (RGI50-11.00897) mass_conservation_inversion\n",
      "2019-07-03 11:30:15: oggm.core.inversion: (RGI50-11.00897) mass_conservation_inversion\n",
      "2019-07-03 11:30:15: oggm.core.inversion: (RGI50-11.00897) mass_conservation_inversion\n",
      "2019-07-03 11:30:15: oggm.core.inversion: (RGI50-11.00897) mass_conservation_inversion\n",
      "2019-07-03 11:30:15: oggm.core.inversion: (RGI50-11.00897) mass_conservation_inversion\n",
      "2019-07-03 11:30:15: oggm.core.inversion: (RGI50-11.00897) mass_conservation_inversion\n",
      "2019-07-03 11:30:15: oggm.core.inversion: (RGI50-11.00897) mass_conservation_inversion\n",
      "2019-07-03 11:30:16: oggm.core.inversion: (RGI50-11.00897) mass_conservation_inversion\n",
      "2019-07-03 11:30:16: oggm.core.inversion: (RGI50-11.00897) mass_conservation_inversion\n",
      "2019-07-03 11:30:16: oggm.core.inversion: (RGI50-11.00897) mass_conservation_inversion\n",
      "2019-07-03 11:30:16: oggm.core.inversion: (RGI50-11.00897) mass_conservation_inversion\n",
      "2019-07-03 11:30:16: oggm.core.inversion: (RGI50-11.00897) mass_conservation_inversion\n",
      "2019-07-03 11:30:16: oggm.core.inversion: (RGI50-11.00897) mass_conservation_inversion\n",
      "2019-07-03 11:30:16: oggm.core.inversion: (RGI50-11.00897) mass_conservation_inversion\n",
      "2019-07-03 11:30:16: oggm.core.inversion: (RGI50-11.00897) mass_conservation_inversion\n",
      "2019-07-03 11:30:16: oggm.core.inversion: (RGI50-11.00897) mass_conservation_inversion\n",
      "2019-07-03 11:30:16: oggm.core.inversion: (RGI50-11.00897) mass_conservation_inversion\n",
      "2019-07-03 11:30:16: oggm.core.inversion: (RGI50-11.00897) mass_conservation_inversion\n",
      "2019-07-03 11:30:16: oggm.core.inversion: (RGI50-11.00897) mass_conservation_inversion\n",
      "2019-07-03 11:30:16: oggm.core.inversion: (RGI50-11.00897) mass_conservation_inversion\n",
      "2019-07-03 11:30:16: oggm.core.inversion: (RGI50-11.00897) mass_conservation_inversion\n",
      "2019-07-03 11:30:16: oggm.core.inversion: (RGI50-11.00897) mass_conservation_inversion\n",
      "2019-07-03 11:30:16: oggm.core.inversion: (RGI50-11.00897) mass_conservation_inversion\n",
      "2019-07-03 11:30:16: oggm.core.inversion: (RGI50-11.00897) mass_conservation_inversion\n",
      "2019-07-03 11:30:16: oggm.core.inversion: (RGI50-11.00897) mass_conservation_inversion\n",
      "2019-07-03 11:30:16: oggm.core.inversion: (RGI50-11.00897) mass_conservation_inversion\n",
      "2019-07-03 11:30:16: oggm.core.inversion: (RGI50-11.00897) mass_conservation_inversion\n",
      "2019-07-03 11:30:16: oggm.core.inversion: (RGI50-11.00897) mass_conservation_inversion\n",
      "2019-07-03 11:30:16: oggm.core.inversion: (RGI50-11.00897) mass_conservation_inversion\n",
      "2019-07-03 11:30:16: oggm.core.inversion: (RGI50-11.00897) mass_conservation_inversion\n",
      "2019-07-03 11:30:16: oggm.core.inversion: (RGI50-11.00897) mass_conservation_inversion\n",
      "2019-07-03 11:30:16: oggm.core.inversion: (RGI50-11.00897) mass_conservation_inversion\n",
      "2019-07-03 11:30:16: oggm.core.inversion: (RGI50-11.00897) mass_conservation_inversion\n",
      "2019-07-03 11:30:16: oggm.core.inversion: (RGI50-11.00897) mass_conservation_inversion\n",
      "2019-07-03 11:30:16: oggm.core.inversion: (RGI50-11.00897) mass_conservation_inversion\n",
      "2019-07-03 11:30:16: oggm.core.inversion: (RGI50-11.00897) mass_conservation_inversion\n",
      "2019-07-03 11:30:16: oggm.core.inversion: (RGI50-11.00897) mass_conservation_inversion\n",
      "2019-07-03 11:30:16: oggm.core.inversion: (RGI50-11.00897) mass_conservation_inversion\n",
      "2019-07-03 11:30:16: oggm.core.inversion: (RGI50-11.00897) mass_conservation_inversion\n",
      "2019-07-03 11:30:16: oggm.core.inversion: (RGI50-11.00897) mass_conservation_inversion\n",
      "2019-07-03 11:30:16: oggm.core.inversion: (RGI50-11.00897) mass_conservation_inversion\n",
      "2019-07-03 11:30:16: oggm.core.inversion: (RGI50-11.00897) mass_conservation_inversion\n",
      "2019-07-03 11:30:16: oggm.core.inversion: (RGI50-11.00897) mass_conservation_inversion\n",
      "2019-07-03 11:30:16: oggm.core.inversion: (RGI50-11.00897) mass_conservation_inversion\n",
      "2019-07-03 11:30:17: oggm.core.inversion: (RGI50-11.00897) mass_conservation_inversion\n",
      "2019-07-03 11:30:17: oggm.core.inversion: (RGI50-11.00897) mass_conservation_inversion\n",
      "2019-07-03 11:30:17: oggm.core.inversion: (RGI50-11.00897) mass_conservation_inversion\n",
      "2019-07-03 11:30:17: oggm.core.inversion: (RGI50-11.00897) mass_conservation_inversion\n",
      "2019-07-03 11:30:17: oggm.core.inversion: (RGI50-11.00897) mass_conservation_inversion\n",
      "2019-07-03 11:30:17: oggm.core.inversion: (RGI50-11.00897) mass_conservation_inversion\n",
      "2019-07-03 11:30:17: oggm.core.inversion: (RGI50-11.00897) mass_conservation_inversion\n",
      "2019-07-03 11:30:17: oggm.core.inversion: (RGI50-11.00897) mass_conservation_inversion\n",
      "2019-07-03 11:30:17: oggm.core.inversion: (RGI50-11.00897) mass_conservation_inversion\n",
      "2019-07-03 11:30:17: oggm.core.inversion: (RGI50-11.00897) mass_conservation_inversion\n",
      "2019-07-03 11:30:17: oggm.core.inversion: (RGI50-11.00897) mass_conservation_inversion\n",
      "2019-07-03 11:30:17: oggm.core.inversion: (RGI50-11.00897) mass_conservation_inversion\n",
      "2019-07-03 11:30:17: oggm.core.inversion: (RGI50-11.00897) mass_conservation_inversion\n",
      "2019-07-03 11:30:17: oggm.core.inversion: (RGI50-11.00897) mass_conservation_inversion\n",
      "2019-07-03 11:30:17: oggm.core.inversion: (RGI50-11.00897) mass_conservation_inversion\n",
      "2019-07-03 11:30:17: oggm.core.inversion: (RGI50-11.00897) mass_conservation_inversion\n",
      "2019-07-03 11:30:17: oggm.core.inversion: (RGI50-11.00897) mass_conservation_inversion\n"
     ]
    },
    {
     "name": "stderr",
     "output_type": "stream",
     "text": [
      "2019-07-03 11:30:17: oggm.core.inversion: (RGI50-11.00897) mass_conservation_inversion\n",
      "2019-07-03 11:30:17: oggm.core.inversion: (RGI50-11.00897) mass_conservation_inversion\n",
      "2019-07-03 11:30:17: oggm.core.inversion: (RGI50-11.00897) mass_conservation_inversion\n",
      "2019-07-03 11:30:17: oggm.core.inversion: (RGI50-11.00897) mass_conservation_inversion\n",
      "2019-07-03 11:30:17: oggm.core.inversion: (RGI50-11.00897) mass_conservation_inversion\n",
      "2019-07-03 11:30:17: oggm.core.inversion: (RGI50-11.00897) mass_conservation_inversion\n",
      "2019-07-03 11:30:17: oggm.core.inversion: (RGI50-11.00897) mass_conservation_inversion\n",
      "2019-07-03 11:30:17: oggm.core.inversion: (RGI50-11.00897) mass_conservation_inversion\n",
      "2019-07-03 11:30:17: oggm.core.inversion: (RGI50-11.00897) mass_conservation_inversion\n",
      "2019-07-03 11:30:17: oggm.core.inversion: (RGI50-11.00897) mass_conservation_inversion\n",
      "2019-07-03 11:30:17: oggm.core.inversion: (RGI50-11.00897) mass_conservation_inversion\n",
      "2019-07-03 11:30:17: oggm.core.inversion: (RGI50-11.00897) mass_conservation_inversion\n",
      "2019-07-03 11:30:17: oggm.core.inversion: (RGI50-11.00897) mass_conservation_inversion\n",
      "2019-07-03 11:30:18: oggm.core.inversion: (RGI50-11.00897) mass_conservation_inversion\n",
      "2019-07-03 11:30:18: oggm.core.inversion: (RGI50-11.00897) mass_conservation_inversion\n",
      "2019-07-03 11:30:18: oggm.core.inversion: (RGI50-11.00897) mass_conservation_inversion\n",
      "2019-07-03 11:30:18: oggm.core.inversion: (RGI50-11.00897) mass_conservation_inversion\n",
      "2019-07-03 11:30:18: oggm.core.inversion: (RGI50-11.00897) mass_conservation_inversion\n",
      "2019-07-03 11:30:18: oggm.core.inversion: (RGI50-11.00897) mass_conservation_inversion\n",
      "2019-07-03 11:30:18: oggm.core.inversion: (RGI50-11.00897) mass_conservation_inversion\n",
      "2019-07-03 11:30:18: oggm.core.inversion: (RGI50-11.00897) mass_conservation_inversion\n",
      "2019-07-03 11:30:18: oggm.core.inversion: (RGI50-11.00897) mass_conservation_inversion\n",
      "2019-07-03 11:30:18: oggm.core.inversion: (RGI50-11.00897) mass_conservation_inversion\n",
      "2019-07-03 11:30:18: oggm.core.inversion: (RGI50-11.00897) mass_conservation_inversion\n",
      "2019-07-03 11:30:18: oggm.core.inversion: (RGI50-11.00897) mass_conservation_inversion\n",
      "2019-07-03 11:30:18: oggm.core.inversion: (RGI50-11.00897) mass_conservation_inversion\n",
      "2019-07-03 11:30:18: oggm.core.inversion: (RGI50-11.00897) mass_conservation_inversion\n",
      "2019-07-03 11:30:18: oggm.core.inversion: (RGI50-11.00897) mass_conservation_inversion\n",
      "2019-07-03 11:30:18: oggm.core.inversion: (RGI50-11.00897) mass_conservation_inversion\n",
      "2019-07-03 11:30:18: oggm.core.inversion: (RGI50-11.00897) mass_conservation_inversion\n",
      "2019-07-03 11:30:18: oggm.core.inversion: (RGI50-11.00897) mass_conservation_inversion\n",
      "2019-07-03 11:30:18: oggm.core.inversion: (RGI50-11.00897) mass_conservation_inversion\n",
      "2019-07-03 11:30:18: oggm.core.inversion: (RGI50-11.00897) mass_conservation_inversion\n",
      "2019-07-03 11:30:18: oggm.core.inversion: (RGI50-11.00897) mass_conservation_inversion\n",
      "2019-07-03 11:30:18: oggm.core.inversion: (RGI50-11.00897) mass_conservation_inversion\n",
      "2019-07-03 11:30:18: oggm.core.inversion: (RGI50-11.00897) mass_conservation_inversion\n",
      "2019-07-03 11:30:18: oggm.core.inversion: (RGI50-11.00897) mass_conservation_inversion\n",
      "2019-07-03 11:30:18: oggm.core.inversion: (RGI50-11.00897) mass_conservation_inversion\n",
      "2019-07-03 11:30:18: oggm.core.inversion: (RGI50-11.00897) mass_conservation_inversion\n",
      "2019-07-03 11:30:18: oggm.core.inversion: (RGI50-11.00897) mass_conservation_inversion\n",
      "2019-07-03 11:30:18: oggm.core.inversion: (RGI50-11.00897) mass_conservation_inversion\n",
      "2019-07-03 11:30:18: oggm.core.inversion: (RGI50-11.00897) mass_conservation_inversion\n",
      "2019-07-03 11:30:18: oggm.core.inversion: (RGI50-11.00897) mass_conservation_inversion\n",
      "2019-07-03 11:30:19: oggm.core.inversion: (RGI50-11.00897) mass_conservation_inversion\n",
      "2019-07-03 11:30:19: oggm.core.inversion: (RGI50-11.00897) mass_conservation_inversion\n",
      "2019-07-03 11:30:19: oggm.core.inversion: (RGI50-11.00897) mass_conservation_inversion\n",
      "2019-07-03 11:30:19: oggm.core.inversion: (RGI50-11.00897) filter_inversion_output\n",
      "2019-07-03 11:30:19: oggm.core.inversion: (RGI50-11.00897) distribute_thickness_interp\n",
      "2019-07-03 11:30:19: oggm.core.gis: (RGI50-11.00897) gridded_attributes\n",
      "2019-07-03 11:30:19: oggm.core.inversion: (RGI50-11.00897) distribute_thickness_per_altitude\n",
      "2019-07-03 11:30:25: oggm.core.flowline: (RGI50-11.00897) init_present_time_glacier\n",
      "2019-07-03 11:30:25: oggm.utils: (RGI50-11.00897) copy_to_basedir\n",
      "Process ForkPoolWorker-2:\n",
      "Process ForkPoolWorker-4:\n",
      "Process ForkPoolWorker-5:\n",
      "Process ForkPoolWorker-3:\n",
      "Traceback (most recent call last):\n",
      "Traceback (most recent call last):\n",
      "  File \"/Users/oberrauch/miniconda3/envs/oggm_env/lib/python3.6/multiprocessing/process.py\", line 258, in _bootstrap\n",
      "    self.run()\n",
      "  File \"/Users/oberrauch/miniconda3/envs/oggm_env/lib/python3.6/multiprocessing/process.py\", line 258, in _bootstrap\n",
      "    self.run()\n",
      "Traceback (most recent call last):\n",
      "  File \"/Users/oberrauch/miniconda3/envs/oggm_env/lib/python3.6/multiprocessing/process.py\", line 93, in run\n",
      "    self._target(*self._args, **self._kwargs)\n",
      "  File \"/Users/oberrauch/miniconda3/envs/oggm_env/lib/python3.6/multiprocessing/process.py\", line 93, in run\n",
      "    self._target(*self._args, **self._kwargs)\n",
      "  File \"/Users/oberrauch/miniconda3/envs/oggm_env/lib/python3.6/multiprocessing/pool.py\", line 108, in worker\n",
      "    task = get()\n",
      "Traceback (most recent call last):\n",
      "  File \"/Users/oberrauch/miniconda3/envs/oggm_env/lib/python3.6/multiprocessing/process.py\", line 258, in _bootstrap\n",
      "    self.run()\n",
      "  File \"/Users/oberrauch/miniconda3/envs/oggm_env/lib/python3.6/multiprocessing/queues.py\", line 334, in get\n",
      "    with self._rlock:\n",
      "  File \"/Users/oberrauch/miniconda3/envs/oggm_env/lib/python3.6/multiprocessing/synchronize.py\", line 96, in __enter__\n",
      "    return self._semlock.__enter__()\n",
      "  File \"/Users/oberrauch/miniconda3/envs/oggm_env/lib/python3.6/multiprocessing/pool.py\", line 108, in worker\n",
      "    task = get()\n",
      "  File \"/Users/oberrauch/miniconda3/envs/oggm_env/lib/python3.6/multiprocessing/process.py\", line 258, in _bootstrap\n",
      "    self.run()\n",
      "KeyboardInterrupt\n",
      "  File \"/Users/oberrauch/miniconda3/envs/oggm_env/lib/python3.6/multiprocessing/process.py\", line 93, in run\n",
      "    self._target(*self._args, **self._kwargs)\n",
      "  File \"/Users/oberrauch/miniconda3/envs/oggm_env/lib/python3.6/multiprocessing/queues.py\", line 334, in get\n",
      "    with self._rlock:\n",
      "  File \"/Users/oberrauch/miniconda3/envs/oggm_env/lib/python3.6/multiprocessing/process.py\", line 93, in run\n",
      "    self._target(*self._args, **self._kwargs)\n",
      "  File \"/Users/oberrauch/miniconda3/envs/oggm_env/lib/python3.6/multiprocessing/synchronize.py\", line 96, in __enter__\n",
      "    return self._semlock.__enter__()\n",
      "  File \"/Users/oberrauch/miniconda3/envs/oggm_env/lib/python3.6/multiprocessing/pool.py\", line 108, in worker\n",
      "    task = get()\n",
      "KeyboardInterrupt\n",
      "  File \"/Users/oberrauch/miniconda3/envs/oggm_env/lib/python3.6/multiprocessing/pool.py\", line 108, in worker\n",
      "    task = get()\n",
      "  File \"/Users/oberrauch/miniconda3/envs/oggm_env/lib/python3.6/multiprocessing/queues.py\", line 334, in get\n",
      "    with self._rlock:\n",
      "  File \"/Users/oberrauch/miniconda3/envs/oggm_env/lib/python3.6/multiprocessing/synchronize.py\", line 96, in __enter__\n",
      "    return self._semlock.__enter__()\n",
      "  File \"/Users/oberrauch/miniconda3/envs/oggm_env/lib/python3.6/multiprocessing/queues.py\", line 335, in get\n",
      "    res = self._reader.recv_bytes()\n",
      "KeyboardInterrupt\n",
      "  File \"/Users/oberrauch/miniconda3/envs/oggm_env/lib/python3.6/multiprocessing/connection.py\", line 216, in recv_bytes\n",
      "    buf = self._recv_bytes(maxlength)\n",
      "  File \"/Users/oberrauch/miniconda3/envs/oggm_env/lib/python3.6/multiprocessing/connection.py\", line 407, in _recv_bytes\n",
      "    buf = self._recv(4)\n",
      "  File \"/Users/oberrauch/miniconda3/envs/oggm_env/lib/python3.6/multiprocessing/connection.py\", line 379, in _recv\n",
      "    chunk = read(handle, remaining)\n",
      "KeyboardInterrupt\n"
     ]
    }
   ],
   "source": [
    "# initialize model and run prepro task\n",
    "self.setUp()"
   ]
  },
  {
   "cell_type": "code",
   "execution_count": 6,
   "metadata": {},
   "outputs": [
    {
     "name": "stderr",
     "output_type": "stream",
     "text": [
      "2019-07-03 11:31:33: oggm.core.flowline: (RGI50-11.00897) init_present_time_glacier\n"
     ]
    }
   ],
   "source": [
    "# merge data from preprocessing\n",
    "init_present_time_glacier(self.gdir)"
   ]
  },
  {
   "cell_type": "code",
   "execution_count": 7,
   "metadata": {},
   "outputs": [],
   "source": [
    "# create a massbalance model\n",
    "mb_mod = massbalance.ConstantMassBalance(self.gdir)"
   ]
  },
  {
   "cell_type": "code",
   "execution_count": 23,
   "metadata": {},
   "outputs": [],
   "source": [
    "# create a flowline model\n",
    "SEC_IN_DAY = 24*3600\n",
    "fls = self.gdir.read_pickle('model_flowlines')\n",
    "model = FluxBasedModel(fls, mb_model=mb_mod, y0=0.,\n",
    "                       fs=self.fs,\n",
    "                       glen_a=self.glen_a,\n",
    "                       min_dt=SEC_IN_DAY/2.,\n",
    "                       mb_elev_feedback='never')"
   ]
  },
  {
   "cell_type": "code",
   "execution_count": 11,
   "metadata": {},
   "outputs": [],
   "source": [
    "# store reference values for glacier geometries\n",
    "ref_vol = model.volume_km3\n",
    "ref_area = model.area_km2\n",
    "ref_len = model.fls[-1].length_m"
   ]
  },
  {
   "cell_type": "code",
   "execution_count": 16,
   "metadata": {},
   "outputs": [],
   "source": [
    "# compare model area with RGI value\n",
    "np.testing.assert_allclose(ref_area, self.gdir.rgi_area_km2, rtol=0.03)"
   ]
  },
  {
   "cell_type": "code",
   "execution_count": 24,
   "metadata": {},
   "outputs": [],
   "source": [
    "# def run_until_equilibrium(self, rate=0.001, ystep=5, max_ite=200):\n",
    "rate = 1e-4\n",
    "ystep = 5\n",
    "max_ite = 200\n",
    "\n",
    "# initialize the iteration counter, the close to zero counter\n",
    "# and the \n",
    "ite = 0\n",
    "was_close_zero = 0\n",
    "t_rate = 1"
   ]
  },
  {
   "cell_type": "code",
   "execution_count": 32,
   "metadata": {},
   "outputs": [
    {
     "data": {
      "text/plain": [
       "<oggm.core.massbalance.ConstantMassBalance at 0x1c292022b0>"
      ]
     },
     "execution_count": 32,
     "metadata": {},
     "output_type": "execute_result"
    }
   ],
   "source": [
    "model.mb_model"
   ]
  },
  {
   "cell_type": "code",
   "execution_count": 34,
   "metadata": {},
   "outputs": [],
   "source": [
    "import oggm"
   ]
  },
  {
   "cell_type": "code",
   "execution_count": 42,
   "metadata": {},
   "outputs": [
    {
     "data": {
      "text/plain": [
       "True"
      ]
     },
     "execution_count": 42,
     "metadata": {},
     "output_type": "execute_result"
    }
   ],
   "source": [
    "model.mb_model.__class__ == oggm.core.massbalance.ConstantMassBalance"
   ]
  },
  {
   "cell_type": "code",
   "execution_count": 41,
   "metadata": {},
   "outputs": [
    {
     "data": {
      "text/plain": [
       "oggm.utils._workflow.SuperclassMeta"
      ]
     },
     "execution_count": 41,
     "metadata": {},
     "output_type": "execute_result"
    }
   ],
   "source": [
    "type()"
   ]
  },
  {
   "cell_type": "code",
   "execution_count": 38,
   "metadata": {},
   "outputs": [
    {
     "data": {
      "text/plain": [
       "False"
      ]
     },
     "execution_count": 38,
     "metadata": {},
     "output_type": "execute_result"
    }
   ],
   "source": [
    "isinstance(, )"
   ]
  },
  {
   "cell_type": "code",
   "execution_count": 25,
   "metadata": {},
   "outputs": [
    {
     "name": "stdout",
     "output_type": "stream",
     "text": [
      "v_bef: 573972416.8348739\n",
      "v_af: 574231428.9505734\n",
      "t_rate: 0.0004512623047773476\n",
      "Press key to continue:1\n",
      "v_bef: 574231428.9505734\n",
      "v_af: 574866847.8755709\n",
      "t_rate: 0.0011065554634630459\n",
      "Press key to continue:1\n",
      "v_bef: 574866847.8755709\n",
      "v_af: 575589513.0640872\n",
      "t_rate: 0.0012571001288157063\n",
      "Press key to continue:\n",
      "v_bef: 575589513.0640872\n",
      "v_af: 576361674.11578\n",
      "t_rate: 0.0013415134121925352\n",
      "Press key to continue:\n",
      "v_bef: 576361674.11578\n",
      "v_af: 577176094.603664\n",
      "t_rate: 0.0014130372029567725\n",
      "Press key to continue:\n",
      "v_bef: 577176094.603664\n",
      "v_af: 577973510.8838334\n",
      "t_rate: 0.0013815823067255385\n",
      "Press key to continue:\n",
      "v_bef: 577973510.8838334\n",
      "v_af: 578723643.3614142\n",
      "t_rate: 0.0012978665344605292\n",
      "Press key to continue:\n",
      "v_bef: 578723643.3614142\n",
      "v_af: 579401541.2499331\n",
      "t_rate: 0.0011713671910507737\n",
      "Press key to continue:\n",
      "v_bef: 579401541.2499331\n",
      "v_af: 580007968.6074167\n",
      "t_rate: 0.001046644363726389\n",
      "Press key to continue:\n",
      "v_bef: 580007968.6074167\n",
      "v_af: 580549065.4034691\n",
      "t_rate: 0.0009329126931678116\n",
      "Press key to continue:\n",
      "v_bef: 580549065.4034691\n",
      "v_af: 581030164.0071189\n",
      "t_rate: 0.0008286958541833178\n",
      "Press key to continue:\n",
      "v_bef: 581030164.0071189\n",
      "v_af: 581467032.3797796\n",
      "t_rate: 0.000751885873958317\n",
      "Press key to continue:\n",
      "v_bef: 581467032.3797796\n",
      "v_af: 581863242.914583\n",
      "t_rate: 0.0006813981064099424\n",
      "Press key to continue:\n",
      "v_bef: 581863242.914583\n",
      "v_af: 582236014.8158671\n",
      "t_rate: 0.0006406520876226259\n"
     ]
    },
    {
     "ename": "KeyboardInterrupt",
     "evalue": "",
     "output_type": "error",
     "traceback": [
      "\u001b[0;31m---------------------------------------------------------------------------\u001b[0m",
      "\u001b[0;31mKeyboardInterrupt\u001b[0m                         Traceback (most recent call last)",
      "\u001b[0;32m~/miniconda3/envs/oggm_env/lib/python3.6/site-packages/ipykernel/kernelbase.py\u001b[0m in \u001b[0;36m_input_request\u001b[0;34m(self, prompt, ident, parent, password)\u001b[0m\n\u001b[1;32m    728\u001b[0m             \u001b[0;32mtry\u001b[0m\u001b[0;34m:\u001b[0m\u001b[0;34m\u001b[0m\u001b[0m\n\u001b[0;32m--> 729\u001b[0;31m                 \u001b[0mident\u001b[0m\u001b[0;34m,\u001b[0m \u001b[0mreply\u001b[0m \u001b[0;34m=\u001b[0m \u001b[0mself\u001b[0m\u001b[0;34m.\u001b[0m\u001b[0msession\u001b[0m\u001b[0;34m.\u001b[0m\u001b[0mrecv\u001b[0m\u001b[0;34m(\u001b[0m\u001b[0mself\u001b[0m\u001b[0;34m.\u001b[0m\u001b[0mstdin_socket\u001b[0m\u001b[0;34m,\u001b[0m \u001b[0;36m0\u001b[0m\u001b[0;34m)\u001b[0m\u001b[0;34m\u001b[0m\u001b[0m\n\u001b[0m\u001b[1;32m    730\u001b[0m             \u001b[0;32mexcept\u001b[0m \u001b[0mException\u001b[0m\u001b[0;34m:\u001b[0m\u001b[0;34m\u001b[0m\u001b[0m\n",
      "\u001b[0;32m~/miniconda3/envs/oggm_env/lib/python3.6/site-packages/jupyter_client/session.py\u001b[0m in \u001b[0;36mrecv\u001b[0;34m(self, socket, mode, content, copy)\u001b[0m\n\u001b[1;32m    802\u001b[0m         \u001b[0;32mtry\u001b[0m\u001b[0;34m:\u001b[0m\u001b[0;34m\u001b[0m\u001b[0m\n\u001b[0;32m--> 803\u001b[0;31m             \u001b[0mmsg_list\u001b[0m \u001b[0;34m=\u001b[0m \u001b[0msocket\u001b[0m\u001b[0;34m.\u001b[0m\u001b[0mrecv_multipart\u001b[0m\u001b[0;34m(\u001b[0m\u001b[0mmode\u001b[0m\u001b[0;34m,\u001b[0m \u001b[0mcopy\u001b[0m\u001b[0;34m=\u001b[0m\u001b[0mcopy\u001b[0m\u001b[0;34m)\u001b[0m\u001b[0;34m\u001b[0m\u001b[0m\n\u001b[0m\u001b[1;32m    804\u001b[0m         \u001b[0;32mexcept\u001b[0m \u001b[0mzmq\u001b[0m\u001b[0;34m.\u001b[0m\u001b[0mZMQError\u001b[0m \u001b[0;32mas\u001b[0m \u001b[0me\u001b[0m\u001b[0;34m:\u001b[0m\u001b[0;34m\u001b[0m\u001b[0m\n",
      "\u001b[0;32m~/miniconda3/envs/oggm_env/lib/python3.6/site-packages/zmq/sugar/socket.py\u001b[0m in \u001b[0;36mrecv_multipart\u001b[0;34m(self, flags, copy, track)\u001b[0m\n\u001b[1;32m    465\u001b[0m         \"\"\"\n\u001b[0;32m--> 466\u001b[0;31m         \u001b[0mparts\u001b[0m \u001b[0;34m=\u001b[0m \u001b[0;34m[\u001b[0m\u001b[0mself\u001b[0m\u001b[0;34m.\u001b[0m\u001b[0mrecv\u001b[0m\u001b[0;34m(\u001b[0m\u001b[0mflags\u001b[0m\u001b[0;34m,\u001b[0m \u001b[0mcopy\u001b[0m\u001b[0;34m=\u001b[0m\u001b[0mcopy\u001b[0m\u001b[0;34m,\u001b[0m \u001b[0mtrack\u001b[0m\u001b[0;34m=\u001b[0m\u001b[0mtrack\u001b[0m\u001b[0;34m)\u001b[0m\u001b[0;34m]\u001b[0m\u001b[0;34m\u001b[0m\u001b[0m\n\u001b[0m\u001b[1;32m    467\u001b[0m         \u001b[0;31m# have first part already, only loop while more to receive\u001b[0m\u001b[0;34m\u001b[0m\u001b[0;34m\u001b[0m\u001b[0m\n",
      "\u001b[0;32mzmq/backend/cython/socket.pyx\u001b[0m in \u001b[0;36mzmq.backend.cython.socket.Socket.recv\u001b[0;34m()\u001b[0m\n",
      "\u001b[0;32mzmq/backend/cython/socket.pyx\u001b[0m in \u001b[0;36mzmq.backend.cython.socket.Socket.recv\u001b[0;34m()\u001b[0m\n",
      "\u001b[0;32mzmq/backend/cython/socket.pyx\u001b[0m in \u001b[0;36mzmq.backend.cython.socket._recv_copy\u001b[0;34m()\u001b[0m\n",
      "\u001b[0;32m~/miniconda3/envs/oggm_env/lib/python3.6/site-packages/zmq/backend/cython/checkrc.pxd\u001b[0m in \u001b[0;36mzmq.backend.cython.checkrc._check_rc\u001b[0;34m()\u001b[0m\n",
      "\u001b[0;31mKeyboardInterrupt\u001b[0m: ",
      "\nDuring handling of the above exception, another exception occurred:\n",
      "\u001b[0;31mKeyboardInterrupt\u001b[0m                         Traceback (most recent call last)",
      "\u001b[0;32m<ipython-input-25-2165a9f92253>\u001b[0m in \u001b[0;36m<module>\u001b[0;34m()\u001b[0m\n\u001b[1;32m     21\u001b[0m     \u001b[0mprint\u001b[0m\u001b[0;34m(\u001b[0m\u001b[0;34m'v_af:'\u001b[0m\u001b[0;34m,\u001b[0m \u001b[0mv_af\u001b[0m\u001b[0;34m)\u001b[0m\u001b[0;34m\u001b[0m\u001b[0m\n\u001b[1;32m     22\u001b[0m     \u001b[0mprint\u001b[0m\u001b[0;34m(\u001b[0m\u001b[0;34m't_rate:'\u001b[0m\u001b[0;34m,\u001b[0m \u001b[0mt_rate\u001b[0m\u001b[0;34m)\u001b[0m\u001b[0;34m\u001b[0m\u001b[0m\n\u001b[0;32m---> 23\u001b[0;31m     \u001b[0minput\u001b[0m\u001b[0;34m(\u001b[0m\u001b[0;34m'Press key to continue:'\u001b[0m\u001b[0;34m)\u001b[0m\u001b[0;34m\u001b[0m\u001b[0m\n\u001b[0m\u001b[1;32m     24\u001b[0m \u001b[0;31m# raise RuntimeError if maximum number of iterations is reached\u001b[0m\u001b[0;34m\u001b[0m\u001b[0;34m\u001b[0m\u001b[0m\n\u001b[1;32m     25\u001b[0m \u001b[0;32mif\u001b[0m \u001b[0mite\u001b[0m \u001b[0;34m>\u001b[0m \u001b[0mmax_ite\u001b[0m\u001b[0;34m:\u001b[0m\u001b[0;34m\u001b[0m\u001b[0m\n",
      "\u001b[0;32m~/miniconda3/envs/oggm_env/lib/python3.6/site-packages/ipykernel/kernelbase.py\u001b[0m in \u001b[0;36mraw_input\u001b[0;34m(self, prompt)\u001b[0m\n\u001b[1;32m    702\u001b[0m             \u001b[0mself\u001b[0m\u001b[0;34m.\u001b[0m\u001b[0m_parent_ident\u001b[0m\u001b[0;34m,\u001b[0m\u001b[0;34m\u001b[0m\u001b[0m\n\u001b[1;32m    703\u001b[0m             \u001b[0mself\u001b[0m\u001b[0;34m.\u001b[0m\u001b[0m_parent_header\u001b[0m\u001b[0;34m,\u001b[0m\u001b[0;34m\u001b[0m\u001b[0m\n\u001b[0;32m--> 704\u001b[0;31m             \u001b[0mpassword\u001b[0m\u001b[0;34m=\u001b[0m\u001b[0;32mFalse\u001b[0m\u001b[0;34m,\u001b[0m\u001b[0;34m\u001b[0m\u001b[0m\n\u001b[0m\u001b[1;32m    705\u001b[0m         )\n\u001b[1;32m    706\u001b[0m \u001b[0;34m\u001b[0m\u001b[0m\n",
      "\u001b[0;32m~/miniconda3/envs/oggm_env/lib/python3.6/site-packages/ipykernel/kernelbase.py\u001b[0m in \u001b[0;36m_input_request\u001b[0;34m(self, prompt, ident, parent, password)\u001b[0m\n\u001b[1;32m    732\u001b[0m             \u001b[0;32mexcept\u001b[0m \u001b[0mKeyboardInterrupt\u001b[0m\u001b[0;34m:\u001b[0m\u001b[0;34m\u001b[0m\u001b[0m\n\u001b[1;32m    733\u001b[0m                 \u001b[0;31m# re-raise KeyboardInterrupt, to truncate traceback\u001b[0m\u001b[0;34m\u001b[0m\u001b[0;34m\u001b[0m\u001b[0m\n\u001b[0;32m--> 734\u001b[0;31m                 \u001b[0;32mraise\u001b[0m \u001b[0mKeyboardInterrupt\u001b[0m\u001b[0;34m\u001b[0m\u001b[0m\n\u001b[0m\u001b[1;32m    735\u001b[0m             \u001b[0;32melse\u001b[0m\u001b[0;34m:\u001b[0m\u001b[0;34m\u001b[0m\u001b[0m\n\u001b[1;32m    736\u001b[0m                 \u001b[0;32mbreak\u001b[0m\u001b[0;34m\u001b[0m\u001b[0m\n",
      "\u001b[0;31mKeyboardInterrupt\u001b[0m: "
     ]
    }
   ],
   "source": [
    "# run until\n",
    "while (t_rate > rate) and (ite <= max_ite) and (was_close_zero < 5):\n",
    "    # increment the iteration counter\n",
    "    ite += 1\n",
    "    #  store current volume ('before')\n",
    "    v_bef = model.volume_m3\n",
    "    # run for a given number of years\n",
    "    model.run_until(model.yr + ystep)\n",
    "    # store new volume ('after')\n",
    "    v_af = model.volume_m3\n",
    "     \n",
    "    if np.isclose(v_bef, 0., atol=1):\n",
    "        # avoid division by zero\n",
    "        t_rate = 1\n",
    "        was_close_zero += 1\n",
    "    else:\n",
    "        # compute rate of volume change\n",
    "        t_rate = np.abs(v_af - v_bef) / v_bef\n",
    "    # user output\n",
    "    print('v_bef:', v_bef)\n",
    "    print('v_af:', v_af)\n",
    "    print('t_rate:', t_rate)\n",
    "    input('Press key to continue:')\n",
    "# raise RuntimeError if maximum number of iterations is reached\n",
    "if ite > max_ite:\n",
    "    raise RuntimeError('Did not find equilibrium.')"
   ]
  },
  {
   "cell_type": "code",
   "execution_count": 26,
   "metadata": {},
   "outputs": [],
   "source": [
    "model.run_until_equilibrium(rate=1e-4)\n",
    "self.assertFalse(model.dt_warning)\n",
    "assert model.yr > 50\n",
    "after_vol = model.volume_km3\n",
    "after_area = model.area_km2\n",
    "after_len = model.fls[-1].length_m\n",
    "\n",
    "np.testing.assert_allclose(ref_vol, after_vol, rtol=0.1)\n",
    "np.testing.assert_allclose(ref_area, after_area, rtol=0.03)\n",
    "np.testing.assert_allclose(ref_len, after_len, atol=500.01)"
   ]
  },
  {
   "cell_type": "code",
   "execution_count": null,
   "metadata": {},
   "outputs": [],
   "source": []
  },
  {
   "cell_type": "code",
   "execution_count": null,
   "metadata": {},
   "outputs": [],
   "source": []
  },
  {
   "cell_type": "code",
   "execution_count": 10,
   "metadata": {},
   "outputs": [],
   "source": [
    "from oggm.utils import ncDataset"
   ]
  },
  {
   "cell_type": "code",
   "execution_count": 23,
   "metadata": {},
   "outputs": [
    {
     "data": {
      "text/plain": [
       "<class 'oggm.utils._workflow.ncDataset'>\n",
       "root group (NETCDF4 data model, file format HDF5):\n",
       "    author: OGGM\n",
       "    author_info: Open Global Glacier Model\n",
       "    proj_srs: +units=m +proj=tmerc +lat_0=0.0 +lon_0=10.7584 +k=0.9996 +x_0=0 +y_0=0 +datum=WGS84 \n",
       "    max_h_dem: 3684.0\n",
       "    min_h_dem: 2370.0\n",
       "    max_h_glacier: 3684.0\n",
       "    min_h_glacier: 2446.0\n",
       "    dimensions(sizes): x(159), y(114)\n",
       "    variables(dimensions): float32 \u001b[4mx\u001b[0m(x), float32 \u001b[4my\u001b[0m(y), float32 \u001b[4mtopo\u001b[0m(y,x), float32 \u001b[4mtopo_smoothed\u001b[0m(y,x), int8 \u001b[4mglacier_mask\u001b[0m(y,x), int8 \u001b[4mglacier_ext\u001b[0m(y,x)\n",
       "    groups: "
      ]
     },
     "execution_count": 23,
     "metadata": {},
     "output_type": "execute_result"
    }
   ],
   "source": [
    "# test\n",
    "fpath = '/Users/oberrauch/OGGM/tests/6812c0f0a1d967e0725912a5602d4282e51cc617/tmp_prepro/RGI50-11/RGI50-11.00/RGI50-11.00897/gridded_data.nc'\n",
    "grid_test = ncDataset(fpath)\n",
    "grid_test"
   ]
  },
  {
   "cell_type": "code",
   "execution_count": 24,
   "metadata": {},
   "outputs": [
    {
     "data": {
      "text/plain": [
       "<class 'oggm.utils._workflow.ncDataset'>\n",
       "root group (NETCDF4 data model, file format HDF5):\n",
       "    author: OGGM\n",
       "    author_info: Open Global Glacier Model\n",
       "    proj_srs: +units=m +proj=tmerc +lat_0=0.0 +lon_0=10.7584 +k=0.9996 +x_0=0 +y_0=0 +datum=WGS84 \n",
       "    max_h_dem: 3685.0\n",
       "    min_h_dem: 2369.0\n",
       "    max_h_glacier: 3685.0\n",
       "    min_h_glacier: 2430.0\n",
       "    dimensions(sizes): x(159), y(114)\n",
       "    variables(dimensions): float32 \u001b[4mx\u001b[0m(x), float32 \u001b[4my\u001b[0m(y), float32 \u001b[4mtopo\u001b[0m(y,x), float32 \u001b[4mtopo_smoothed\u001b[0m(y,x), int8 \u001b[4mglacier_mask\u001b[0m(y,x), int8 \u001b[4mglacier_ext\u001b[0m(y,x)\n",
       "    groups: "
      ]
     },
     "execution_count": 24,
     "metadata": {},
     "output_type": "execute_result"
    }
   ],
   "source": [
    "# mb calibration\n",
    "fpath = '/Users/oberrauch/tmp/OGGM/OGGM_ref_mb_HISTALP_RGIV5/per_glacier/RGI50-11/RGI50-11.00/RGI50-11.00897/gridded_data.nc'\n",
    "grid_calib = ncDataset(fpath)\n",
    "grid_calib"
   ]
  },
  {
   "cell_type": "code",
   "execution_count": 26,
   "metadata": {},
   "outputs": [
    {
     "data": {
      "text/plain": [
       "True"
      ]
     },
     "execution_count": 26,
     "metadata": {},
     "output_type": "execute_result"
    }
   ],
   "source": [
    "(grid_calib.variables['glacier_mask'][:] == grid_test.variables['glacier_mask'][:]).all()"
   ]
  },
  {
   "cell_type": "code",
   "execution_count": 22,
   "metadata": {},
   "outputs": [
    {
     "data": {
      "text/plain": [
       "array([[2629., 2636., 2647., ..., 2589., 2577., 2566.],\n",
       "       [2593., 2602., 2616., ..., 2572., 2559., 2546.],\n",
       "       [2566., 2575., 2587., ..., 2553., 2537., 2520.],\n",
       "       ...,\n",
       "       [2949., 2955., 2961., ..., 3192., 3202., 3180.],\n",
       "       [2979., 2986., 2990., ..., 3211., 3235., 3212.],\n",
       "       [2994., 3011., 3025., ..., 3213., 3253., 3229.]], dtype=float32)"
      ]
     },
     "execution_count": 22,
     "metadata": {},
     "output_type": "execute_result"
    }
   ],
   "source": [
    "grid_calib.variables['topo'][:]"
   ]
  },
  {
   "cell_type": "code",
   "execution_count": 27,
   "metadata": {},
   "outputs": [
    {
     "data": {
      "text/plain": [
       "array([[2596., 2596., 2610., ..., 2583., 2568., 2555.],\n",
       "       [2565., 2569., 2582., ..., 2565., 2548., 2531.],\n",
       "       [2539., 2547., 2557., ..., 2545., 2526., 2507.],\n",
       "       ...,\n",
       "       [2970., 2982., 2987., ..., 3180., 3226., 3227.],\n",
       "       [2983., 3000., 3016., ..., 3177., 3238., 3246.],\n",
       "       [2995., 3016., 3043., ..., 3176., 3247., 3263.]], dtype=float32)"
      ]
     },
     "execution_count": 27,
     "metadata": {},
     "output_type": "execute_result"
    }
   ],
   "source": [
    "grid_test.variables['topo'][:]"
   ]
  },
  {
   "cell_type": "code",
   "execution_count": 25,
   "metadata": {},
   "outputs": [
    {
     "data": {
      "text/plain": [
       "False"
      ]
     },
     "execution_count": 25,
     "metadata": {},
     "output_type": "execute_result"
    }
   ],
   "source": [
    "(grid_calib.variables['topo'][:] == grid_test.variables['topo'][:]).all()"
   ]
  },
  {
   "cell_type": "code",
   "execution_count": null,
   "metadata": {},
   "outputs": [],
   "source": []
  },
  {
   "cell_type": "code",
   "execution_count": 9,
   "metadata": {},
   "outputs": [
    {
     "data": {
      "text/html": [
       "<div>\n",
       "<style scoped>\n",
       "    .dataframe tbody tr th:only-of-type {\n",
       "        vertical-align: middle;\n",
       "    }\n",
       "\n",
       "    .dataframe tbody tr th {\n",
       "        vertical-align: top;\n",
       "    }\n",
       "\n",
       "    .dataframe thead th {\n",
       "        text-align: right;\n",
       "    }\n",
       "</style>\n",
       "<table border=\"1\" class=\"dataframe\">\n",
       "  <thead>\n",
       "    <tr style=\"text-align: right;\">\n",
       "      <th></th>\n",
       "      <th>Unnamed: 0</th>\n",
       "      <th>lon</th>\n",
       "      <th>lat</th>\n",
       "      <th>n_mb_years</th>\n",
       "      <th>tstar</th>\n",
       "      <th>bias</th>\n",
       "    </tr>\n",
       "  </thead>\n",
       "  <tbody>\n",
       "    <tr>\n",
       "      <th>0</th>\n",
       "      <td>RGI50-11.00002</td>\n",
       "      <td>13.613500</td>\n",
       "      <td>47.484500</td>\n",
       "      <td>8</td>\n",
       "      <td>1911</td>\n",
       "      <td>25.030687</td>\n",
       "    </tr>\n",
       "    <tr>\n",
       "      <th>1</th>\n",
       "      <td>RGI50-11.00012</td>\n",
       "      <td>13.058100</td>\n",
       "      <td>47.424200</td>\n",
       "      <td>10</td>\n",
       "      <td>1967</td>\n",
       "      <td>1.894659</td>\n",
       "    </tr>\n",
       "    <tr>\n",
       "      <th>2</th>\n",
       "      <td>RGI50-11.00073</td>\n",
       "      <td>12.595600</td>\n",
       "      <td>47.140300</td>\n",
       "      <td>17</td>\n",
       "      <td>1983</td>\n",
       "      <td>6.710049</td>\n",
       "    </tr>\n",
       "    <tr>\n",
       "      <th>3</th>\n",
       "      <td>RGI50-11.00080</td>\n",
       "      <td>12.596400</td>\n",
       "      <td>47.131600</td>\n",
       "      <td>63</td>\n",
       "      <td>1932</td>\n",
       "      <td>2.570614</td>\n",
       "    </tr>\n",
       "    <tr>\n",
       "      <th>4</th>\n",
       "      <td>RGI50-11.00106</td>\n",
       "      <td>12.696700</td>\n",
       "      <td>47.099100</td>\n",
       "      <td>28</td>\n",
       "      <td>1890</td>\n",
       "      <td>-12.909590</td>\n",
       "    </tr>\n",
       "    <tr>\n",
       "      <th>5</th>\n",
       "      <td>RGI50-11.00190</td>\n",
       "      <td>12.378400</td>\n",
       "      <td>47.085100</td>\n",
       "      <td>8</td>\n",
       "      <td>1867</td>\n",
       "      <td>1.599925</td>\n",
       "    </tr>\n",
       "    <tr>\n",
       "      <th>6</th>\n",
       "      <td>RGI50-11.00251</td>\n",
       "      <td>12.947200</td>\n",
       "      <td>47.053000</td>\n",
       "      <td>16</td>\n",
       "      <td>1980</td>\n",
       "      <td>14.303069</td>\n",
       "    </tr>\n",
       "    <tr>\n",
       "      <th>7</th>\n",
       "      <td>RGI50-11.00289</td>\n",
       "      <td>12.970200</td>\n",
       "      <td>47.042100</td>\n",
       "      <td>26</td>\n",
       "      <td>1882</td>\n",
       "      <td>-0.175383</td>\n",
       "    </tr>\n",
       "    <tr>\n",
       "      <th>8</th>\n",
       "      <td>RGI50-11.00300</td>\n",
       "      <td>13.004900</td>\n",
       "      <td>47.038500</td>\n",
       "      <td>32</td>\n",
       "      <td>1917</td>\n",
       "      <td>0.670287</td>\n",
       "    </tr>\n",
       "    <tr>\n",
       "      <th>9</th>\n",
       "      <td>RGI50-11.00603</td>\n",
       "      <td>11.224700</td>\n",
       "      <td>46.965600</td>\n",
       "      <td>19</td>\n",
       "      <td>1911</td>\n",
       "      <td>382.336042</td>\n",
       "    </tr>\n",
       "    <tr>\n",
       "      <th>10</th>\n",
       "      <td>RGI50-11.00619</td>\n",
       "      <td>11.152800</td>\n",
       "      <td>46.956600</td>\n",
       "      <td>13</td>\n",
       "      <td>1895</td>\n",
       "      <td>2.951724</td>\n",
       "    </tr>\n",
       "    <tr>\n",
       "      <th>11</th>\n",
       "      <td>RGI50-11.00638</td>\n",
       "      <td>9.388960</td>\n",
       "      <td>46.960300</td>\n",
       "      <td>8</td>\n",
       "      <td>1911</td>\n",
       "      <td>346.233877</td>\n",
       "    </tr>\n",
       "    <tr>\n",
       "      <th>12</th>\n",
       "      <td>RGI50-11.00647</td>\n",
       "      <td>12.096500</td>\n",
       "      <td>46.906900</td>\n",
       "      <td>6</td>\n",
       "      <td>1880</td>\n",
       "      <td>0.452971</td>\n",
       "    </tr>\n",
       "    <tr>\n",
       "      <th>13</th>\n",
       "      <td>RGI50-11.00719</td>\n",
       "      <td>10.818000</td>\n",
       "      <td>46.876200</td>\n",
       "      <td>50</td>\n",
       "      <td>1875</td>\n",
       "      <td>-0.936036</td>\n",
       "    </tr>\n",
       "    <tr>\n",
       "      <th>14</th>\n",
       "      <td>RGI50-11.00781</td>\n",
       "      <td>10.160300</td>\n",
       "      <td>46.857700</td>\n",
       "      <td>26</td>\n",
       "      <td>1905</td>\n",
       "      <td>267.051657</td>\n",
       "    </tr>\n",
       "    <tr>\n",
       "      <th>15</th>\n",
       "      <td>RGI50-11.00787</td>\n",
       "      <td>10.790700</td>\n",
       "      <td>46.842400</td>\n",
       "      <td>62</td>\n",
       "      <td>1942</td>\n",
       "      <td>0.607973</td>\n",
       "    </tr>\n",
       "    <tr>\n",
       "      <th>16</th>\n",
       "      <td>RGI50-11.00797</td>\n",
       "      <td>10.105400</td>\n",
       "      <td>46.851500</td>\n",
       "      <td>9</td>\n",
       "      <td>1916</td>\n",
       "      <td>-0.905984</td>\n",
       "    </tr>\n",
       "    <tr>\n",
       "      <th>17</th>\n",
       "      <td>RGI50-11.00804</td>\n",
       "      <td>10.076600</td>\n",
       "      <td>46.852400</td>\n",
       "      <td>96</td>\n",
       "      <td>1910</td>\n",
       "      <td>-0.691596</td>\n",
       "    </tr>\n",
       "    <tr>\n",
       "      <th>18</th>\n",
       "      <td>RGI50-11.00807</td>\n",
       "      <td>10.130900</td>\n",
       "      <td>46.852900</td>\n",
       "      <td>9</td>\n",
       "      <td>1905</td>\n",
       "      <td>458.512016</td>\n",
       "    </tr>\n",
       "    <tr>\n",
       "      <th>19</th>\n",
       "      <td>RGI50-11.00843</td>\n",
       "      <td>8.891170</td>\n",
       "      <td>46.844200</td>\n",
       "      <td>100</td>\n",
       "      <td>1884</td>\n",
       "      <td>1.150223</td>\n",
       "    </tr>\n",
       "    <tr>\n",
       "      <th>20</th>\n",
       "      <td>RGI50-11.00892</td>\n",
       "      <td>8.988710</td>\n",
       "      <td>46.833000</td>\n",
       "      <td>42</td>\n",
       "      <td>1926</td>\n",
       "      <td>-9.816186</td>\n",
       "    </tr>\n",
       "    <tr>\n",
       "      <th>21</th>\n",
       "      <td>RGI50-11.00897</td>\n",
       "      <td>10.758400</td>\n",
       "      <td>46.800300</td>\n",
       "      <td>62</td>\n",
       "      <td>1905</td>\n",
       "      <td>66.128719</td>\n",
       "    </tr>\n",
       "    <tr>\n",
       "      <th>22</th>\n",
       "      <td>RGI50-11.00918</td>\n",
       "      <td>8.977390</td>\n",
       "      <td>46.813300</td>\n",
       "      <td>38</td>\n",
       "      <td>1925</td>\n",
       "      <td>48.590126</td>\n",
       "    </tr>\n",
       "    <tr>\n",
       "      <th>23</th>\n",
       "      <td>RGI50-11.00929</td>\n",
       "      <td>11.019100</td>\n",
       "      <td>46.781700</td>\n",
       "      <td>8</td>\n",
       "      <td>1919</td>\n",
       "      <td>0.261212</td>\n",
       "    </tr>\n",
       "    <tr>\n",
       "      <th>24</th>\n",
       "      <td>RGI50-11.01238</td>\n",
       "      <td>8.396500</td>\n",
       "      <td>46.623600</td>\n",
       "      <td>33</td>\n",
       "      <td>1901</td>\n",
       "      <td>195.059509</td>\n",
       "    </tr>\n",
       "    <tr>\n",
       "      <th>25</th>\n",
       "      <td>RGI50-11.01450</td>\n",
       "      <td>8.019190</td>\n",
       "      <td>46.502800</td>\n",
       "      <td>60</td>\n",
       "      <td>1966</td>\n",
       "      <td>261.120972</td>\n",
       "    </tr>\n",
       "    <tr>\n",
       "      <th>26</th>\n",
       "      <td>RGI50-11.01662</td>\n",
       "      <td>9.363540</td>\n",
       "      <td>46.505600</td>\n",
       "      <td>5</td>\n",
       "      <td>1896</td>\n",
       "      <td>-0.625412</td>\n",
       "    </tr>\n",
       "    <tr>\n",
       "      <th>27</th>\n",
       "      <td>RGI50-11.01704</td>\n",
       "      <td>10.771000</td>\n",
       "      <td>46.483800</td>\n",
       "      <td>28</td>\n",
       "      <td>1903</td>\n",
       "      <td>25.672590</td>\n",
       "    </tr>\n",
       "    <tr>\n",
       "      <th>28</th>\n",
       "      <td>RGI50-11.01776</td>\n",
       "      <td>10.611500</td>\n",
       "      <td>46.467400</td>\n",
       "      <td>11</td>\n",
       "      <td>1905</td>\n",
       "      <td>226.567302</td>\n",
       "    </tr>\n",
       "    <tr>\n",
       "      <th>29</th>\n",
       "      <td>RGI50-11.01834</td>\n",
       "      <td>10.708500</td>\n",
       "      <td>46.451200</td>\n",
       "      <td>48</td>\n",
       "      <td>1905</td>\n",
       "      <td>402.189497</td>\n",
       "    </tr>\n",
       "    <tr>\n",
       "      <th>30</th>\n",
       "      <td>RGI50-11.01876</td>\n",
       "      <td>8.330190</td>\n",
       "      <td>46.438300</td>\n",
       "      <td>53</td>\n",
       "      <td>1901</td>\n",
       "      <td>202.291508</td>\n",
       "    </tr>\n",
       "    <tr>\n",
       "      <th>31</th>\n",
       "      <td>RGI50-11.01930</td>\n",
       "      <td>10.111900</td>\n",
       "      <td>46.429600</td>\n",
       "      <td>5</td>\n",
       "      <td>1895</td>\n",
       "      <td>1.882726</td>\n",
       "    </tr>\n",
       "    <tr>\n",
       "      <th>32</th>\n",
       "      <td>RGI50-11.01987</td>\n",
       "      <td>8.481200</td>\n",
       "      <td>46.416000</td>\n",
       "      <td>23</td>\n",
       "      <td>1976</td>\n",
       "      <td>-9.513058</td>\n",
       "    </tr>\n",
       "    <tr>\n",
       "      <th>33</th>\n",
       "      <td>RGI50-11.02072</td>\n",
       "      <td>7.511980</td>\n",
       "      <td>46.383900</td>\n",
       "      <td>5</td>\n",
       "      <td>1970</td>\n",
       "      <td>859.830230</td>\n",
       "    </tr>\n",
       "    <tr>\n",
       "      <th>34</th>\n",
       "      <td>RGI50-11.02214</td>\n",
       "      <td>10.512700</td>\n",
       "      <td>46.348000</td>\n",
       "      <td>14</td>\n",
       "      <td>1903</td>\n",
       "      <td>250.286760</td>\n",
       "    </tr>\n",
       "    <tr>\n",
       "      <th>35</th>\n",
       "      <td>RGI50-11.02245</td>\n",
       "      <td>9.701080</td>\n",
       "      <td>46.308500</td>\n",
       "      <td>6</td>\n",
       "      <td>1891</td>\n",
       "      <td>330.432375</td>\n",
       "    </tr>\n",
       "    <tr>\n",
       "      <th>36</th>\n",
       "      <td>RGI50-11.02249</td>\n",
       "      <td>7.225360</td>\n",
       "      <td>46.320200</td>\n",
       "      <td>5</td>\n",
       "      <td>1970</td>\n",
       "      <td>783.883512</td>\n",
       "    </tr>\n",
       "    <tr>\n",
       "      <th>37</th>\n",
       "      <td>RGI50-11.02285</td>\n",
       "      <td>9.641850</td>\n",
       "      <td>46.298700</td>\n",
       "      <td>6</td>\n",
       "      <td>1905</td>\n",
       "      <td>245.705266</td>\n",
       "    </tr>\n",
       "    <tr>\n",
       "      <th>38</th>\n",
       "      <td>RGI50-11.02659</td>\n",
       "      <td>9.989410</td>\n",
       "      <td>46.075400</td>\n",
       "      <td>5</td>\n",
       "      <td>1999</td>\n",
       "      <td>-101.238385</td>\n",
       "    </tr>\n",
       "    <tr>\n",
       "      <th>39</th>\n",
       "      <td>RGI50-11.02682</td>\n",
       "      <td>7.924500</td>\n",
       "      <td>46.064900</td>\n",
       "      <td>40</td>\n",
       "      <td>1911</td>\n",
       "      <td>-20.683758</td>\n",
       "    </tr>\n",
       "    <tr>\n",
       "      <th>40</th>\n",
       "      <td>RGI50-11.02690</td>\n",
       "      <td>7.913100</td>\n",
       "      <td>46.055000</td>\n",
       "      <td>59</td>\n",
       "      <td>1977</td>\n",
       "      <td>0.229266</td>\n",
       "    </tr>\n",
       "    <tr>\n",
       "      <th>41</th>\n",
       "      <td>RGI50-11.02715</td>\n",
       "      <td>7.909490</td>\n",
       "      <td>46.033600</td>\n",
       "      <td>59</td>\n",
       "      <td>1882</td>\n",
       "      <td>-2.822543</td>\n",
       "    </tr>\n",
       "    <tr>\n",
       "      <th>42</th>\n",
       "      <td>RGI50-11.02762</td>\n",
       "      <td>7.928060</td>\n",
       "      <td>46.008100</td>\n",
       "      <td>59</td>\n",
       "      <td>1918</td>\n",
       "      <td>-2.109492</td>\n",
       "    </tr>\n",
       "    <tr>\n",
       "      <th>43</th>\n",
       "      <td>RGI50-11.02780</td>\n",
       "      <td>7.876610</td>\n",
       "      <td>46.012400</td>\n",
       "      <td>9</td>\n",
       "      <td>1866</td>\n",
       "      <td>-0.345330</td>\n",
       "    </tr>\n",
       "    <tr>\n",
       "      <th>44</th>\n",
       "      <td>RGI50-11.02782</td>\n",
       "      <td>7.291080</td>\n",
       "      <td>45.964700</td>\n",
       "      <td>18</td>\n",
       "      <td>1925</td>\n",
       "      <td>218.424028</td>\n",
       "    </tr>\n",
       "    <tr>\n",
       "      <th>45</th>\n",
       "      <td>RGI50-11.02789</td>\n",
       "      <td>7.870510</td>\n",
       "      <td>45.993600</td>\n",
       "      <td>10</td>\n",
       "      <td>1908</td>\n",
       "      <td>1.718298</td>\n",
       "    </tr>\n",
       "    <tr>\n",
       "      <th>46</th>\n",
       "      <td>RGI50-11.02791</td>\n",
       "      <td>7.388880</td>\n",
       "      <td>45.992100</td>\n",
       "      <td>48</td>\n",
       "      <td>1925</td>\n",
       "      <td>61.049528</td>\n",
       "    </tr>\n",
       "    <tr>\n",
       "      <th>47</th>\n",
       "      <td>RGI50-11.02835</td>\n",
       "      <td>6.998170</td>\n",
       "      <td>45.942900</td>\n",
       "      <td>39</td>\n",
       "      <td>1966</td>\n",
       "      <td>260.493493</td>\n",
       "    </tr>\n",
       "    <tr>\n",
       "      <th>48</th>\n",
       "      <td>RGI50-11.02923</td>\n",
       "      <td>6.933910</td>\n",
       "      <td>45.875500</td>\n",
       "      <td>8</td>\n",
       "      <td>1916</td>\n",
       "      <td>-1.039323</td>\n",
       "    </tr>\n",
       "    <tr>\n",
       "      <th>49</th>\n",
       "      <td>RGI50-11.03191</td>\n",
       "      <td>7.278940</td>\n",
       "      <td>45.559200</td>\n",
       "      <td>14</td>\n",
       "      <td>1927</td>\n",
       "      <td>-2.704171</td>\n",
       "    </tr>\n",
       "    <tr>\n",
       "      <th>50</th>\n",
       "      <td>RGI50-11.03254</td>\n",
       "      <td>7.389840</td>\n",
       "      <td>45.518100</td>\n",
       "      <td>23</td>\n",
       "      <td>1903</td>\n",
       "      <td>534.764108</td>\n",
       "    </tr>\n",
       "    <tr>\n",
       "      <th>51</th>\n",
       "      <td>RGI50-11.03298</td>\n",
       "      <td>7.220400</td>\n",
       "      <td>45.475700</td>\n",
       "      <td>12</td>\n",
       "      <td>1927</td>\n",
       "      <td>-0.861913</td>\n",
       "    </tr>\n",
       "    <tr>\n",
       "      <th>52</th>\n",
       "      <td>RGI50-11.03432</td>\n",
       "      <td>6.627930</td>\n",
       "      <td>45.298000</td>\n",
       "      <td>20</td>\n",
       "      <td>1905</td>\n",
       "      <td>338.197015</td>\n",
       "    </tr>\n",
       "    <tr>\n",
       "      <th>53</th>\n",
       "      <td>RGI50-11.03503</td>\n",
       "      <td>6.160160</td>\n",
       "      <td>45.160400</td>\n",
       "      <td>58</td>\n",
       "      <td>1926</td>\n",
       "      <td>345.321373</td>\n",
       "    </tr>\n",
       "    <tr>\n",
       "      <th>54</th>\n",
       "      <td>RGI50-11.03515</td>\n",
       "      <td>6.132730</td>\n",
       "      <td>45.132500</td>\n",
       "      <td>66</td>\n",
       "      <td>1925</td>\n",
       "      <td>516.215120</td>\n",
       "    </tr>\n",
       "    <tr>\n",
       "      <th>55</th>\n",
       "      <td>RGI50-11.03974</td>\n",
       "      <td>10.982921</td>\n",
       "      <td>47.415939</td>\n",
       "      <td>6</td>\n",
       "      <td>1867</td>\n",
       "      <td>1.625954</td>\n",
       "    </tr>\n",
       "  </tbody>\n",
       "</table>\n",
       "</div>"
      ],
      "text/plain": [
       "        Unnamed: 0        lon        lat  n_mb_years  tstar        bias\n",
       "0   RGI50-11.00002  13.613500  47.484500           8   1911   25.030687\n",
       "1   RGI50-11.00012  13.058100  47.424200          10   1967    1.894659\n",
       "2   RGI50-11.00073  12.595600  47.140300          17   1983    6.710049\n",
       "3   RGI50-11.00080  12.596400  47.131600          63   1932    2.570614\n",
       "4   RGI50-11.00106  12.696700  47.099100          28   1890  -12.909590\n",
       "5   RGI50-11.00190  12.378400  47.085100           8   1867    1.599925\n",
       "6   RGI50-11.00251  12.947200  47.053000          16   1980   14.303069\n",
       "7   RGI50-11.00289  12.970200  47.042100          26   1882   -0.175383\n",
       "8   RGI50-11.00300  13.004900  47.038500          32   1917    0.670287\n",
       "9   RGI50-11.00603  11.224700  46.965600          19   1911  382.336042\n",
       "10  RGI50-11.00619  11.152800  46.956600          13   1895    2.951724\n",
       "11  RGI50-11.00638   9.388960  46.960300           8   1911  346.233877\n",
       "12  RGI50-11.00647  12.096500  46.906900           6   1880    0.452971\n",
       "13  RGI50-11.00719  10.818000  46.876200          50   1875   -0.936036\n",
       "14  RGI50-11.00781  10.160300  46.857700          26   1905  267.051657\n",
       "15  RGI50-11.00787  10.790700  46.842400          62   1942    0.607973\n",
       "16  RGI50-11.00797  10.105400  46.851500           9   1916   -0.905984\n",
       "17  RGI50-11.00804  10.076600  46.852400          96   1910   -0.691596\n",
       "18  RGI50-11.00807  10.130900  46.852900           9   1905  458.512016\n",
       "19  RGI50-11.00843   8.891170  46.844200         100   1884    1.150223\n",
       "20  RGI50-11.00892   8.988710  46.833000          42   1926   -9.816186\n",
       "21  RGI50-11.00897  10.758400  46.800300          62   1905   66.128719\n",
       "22  RGI50-11.00918   8.977390  46.813300          38   1925   48.590126\n",
       "23  RGI50-11.00929  11.019100  46.781700           8   1919    0.261212\n",
       "24  RGI50-11.01238   8.396500  46.623600          33   1901  195.059509\n",
       "25  RGI50-11.01450   8.019190  46.502800          60   1966  261.120972\n",
       "26  RGI50-11.01662   9.363540  46.505600           5   1896   -0.625412\n",
       "27  RGI50-11.01704  10.771000  46.483800          28   1903   25.672590\n",
       "28  RGI50-11.01776  10.611500  46.467400          11   1905  226.567302\n",
       "29  RGI50-11.01834  10.708500  46.451200          48   1905  402.189497\n",
       "30  RGI50-11.01876   8.330190  46.438300          53   1901  202.291508\n",
       "31  RGI50-11.01930  10.111900  46.429600           5   1895    1.882726\n",
       "32  RGI50-11.01987   8.481200  46.416000          23   1976   -9.513058\n",
       "33  RGI50-11.02072   7.511980  46.383900           5   1970  859.830230\n",
       "34  RGI50-11.02214  10.512700  46.348000          14   1903  250.286760\n",
       "35  RGI50-11.02245   9.701080  46.308500           6   1891  330.432375\n",
       "36  RGI50-11.02249   7.225360  46.320200           5   1970  783.883512\n",
       "37  RGI50-11.02285   9.641850  46.298700           6   1905  245.705266\n",
       "38  RGI50-11.02659   9.989410  46.075400           5   1999 -101.238385\n",
       "39  RGI50-11.02682   7.924500  46.064900          40   1911  -20.683758\n",
       "40  RGI50-11.02690   7.913100  46.055000          59   1977    0.229266\n",
       "41  RGI50-11.02715   7.909490  46.033600          59   1882   -2.822543\n",
       "42  RGI50-11.02762   7.928060  46.008100          59   1918   -2.109492\n",
       "43  RGI50-11.02780   7.876610  46.012400           9   1866   -0.345330\n",
       "44  RGI50-11.02782   7.291080  45.964700          18   1925  218.424028\n",
       "45  RGI50-11.02789   7.870510  45.993600          10   1908    1.718298\n",
       "46  RGI50-11.02791   7.388880  45.992100          48   1925   61.049528\n",
       "47  RGI50-11.02835   6.998170  45.942900          39   1966  260.493493\n",
       "48  RGI50-11.02923   6.933910  45.875500           8   1916   -1.039323\n",
       "49  RGI50-11.03191   7.278940  45.559200          14   1927   -2.704171\n",
       "50  RGI50-11.03254   7.389840  45.518100          23   1903  534.764108\n",
       "51  RGI50-11.03298   7.220400  45.475700          12   1927   -0.861913\n",
       "52  RGI50-11.03432   6.627930  45.298000          20   1905  338.197015\n",
       "53  RGI50-11.03503   6.160160  45.160400          58   1926  345.321373\n",
       "54  RGI50-11.03515   6.132730  45.132500          66   1925  516.215120\n",
       "55  RGI50-11.03974  10.982921  47.415939           6   1867    1.625954"
      ]
     },
     "execution_count": 9,
     "metadata": {},
     "output_type": "execute_result"
    }
   ],
   "source": [
    "import pandas as pd\n",
    "pd.read_csv('/Users/oberrauch/oggm-fork/oggm/data/ref_tstars_vas_rgi5_histalp.csv')"
   ]
  },
  {
   "cell_type": "code",
   "execution_count": 1,
   "metadata": {},
   "outputs": [],
   "source": [
    "import xarray as xr"
   ]
  },
  {
   "cell_type": "code",
   "execution_count": 7,
   "metadata": {},
   "outputs": [],
   "source": [
    "import oggm"
   ]
  },
  {
   "cell_type": "code",
   "execution_count": 10,
   "metadata": {},
   "outputs": [
    {
     "data": {
      "text/plain": [
       "'/Users/oberrauch/oggm-fork/oggm'"
      ]
     },
     "execution_count": 10,
     "metadata": {},
     "output_type": "execute_result"
    }
   ],
   "source": [
    "oggm.__path__[0]"
   ]
  },
  {
   "cell_type": "code",
   "execution_count": 21,
   "metadata": {},
   "outputs": [],
   "source": [
    "a = {'rgi_id': 'RGI50-11.00897', 't_star': 1905, 'bias': 66.12871878745477, 'mu_star': 47.7647032029939}\n",
    "b = {'rgi_id': 'RGI50-11.00897', 't_star': 1905, 'bias': 66.12871878745477, 'mu_star': 47.7647032029939}\n",
    "c = {'rgi_id': 'RGI50-11.00897', 't_star': 1905, 'bias': 66.12871878745477, 'mu_star': 47.7647032029939}"
   ]
  },
  {
   "cell_type": "code",
   "execution_count": 22,
   "metadata": {},
   "outputs": [],
   "source": [
    "assert a == b\n",
    "assert b == c"
   ]
  },
  {
   "cell_type": "code",
   "execution_count": 24,
   "metadata": {},
   "outputs": [
    {
     "data": {
      "text/plain": [
       "'RGI50-11.00897'"
      ]
     },
     "execution_count": 24,
     "metadata": {},
     "output_type": "execute_result"
    }
   ],
   "source": [
    "a['t_star']"
   ]
  },
  {
   "cell_type": "code",
   "execution_count": 11,
   "metadata": {},
   "outputs": [],
   "source": [
    "import os"
   ]
  },
  {
   "cell_type": "code",
   "execution_count": 14,
   "metadata": {},
   "outputs": [
    {
     "data": {
      "text/plain": [
       "True"
      ]
     },
     "execution_count": 14,
     "metadata": {},
     "output_type": "execute_result"
    }
   ],
   "source": [
    "ref_df_path = os.path.join(oggm.__path__[0], 'data',\n",
    "                                   'ref_tstars_vas_rgi5_histalp.csv')\n",
    "os.path.isfile(ref_df_path)"
   ]
  },
  {
   "cell_type": "code",
   "execution_count": 4,
   "metadata": {},
   "outputs": [
    {
     "data": {
      "text/plain": [
       "<xarray.Dataset>\n",
       "Dimensions:  ()\n",
       "Data variables:\n",
       "    *empty*"
      ]
     },
     "execution_count": 4,
     "metadata": {},
     "output_type": "execute_result"
    }
   ],
   "source": [
    "ds = xr.Dataset()\n",
    "ds"
   ]
  },
  {
   "cell_type": "code",
   "execution_count": 7,
   "metadata": {},
   "outputs": [
    {
     "data": {
      "text/plain": [
       "{'rgi_id': 'RGI60-11.00897',\n",
       " 't_star': 1927,\n",
       " 'bias': 1.8174709620680003,\n",
       " 'mu_star': 46.01145880923103}"
      ]
     },
     "execution_count": 7,
     "metadata": {},
     "output_type": "execute_result"
    }
   ],
   "source": [
    "# RGI60, HISTALP\n",
    "{'rgi_id': 'RGI60-11.00897', 't_star': 1905, 'bias': 66.12871878745477, 'mu_star': 48.981949777713275}\n",
    "# RGI50, HISTALP\n",
    "{'rgi_id': 'RGI50-11.00897', 't_star': 1905, 'bias': 66.12871878745477, 'mu_star': 48.981949777713275}\n",
    "# from REF MB, RGI50, HISTALP\n",
    "{'rgi_id': 'RGI50-11.00897', 't_star': 1905, 'bias': 66.12871878745477, 'mu_star': 47.7647032029939}\n",
    "\n",
    "# RGI60, CRU\n",
    "{'rgi_id': 'RGI60-11.00897', 't_star': 1923, 'bias': -1.3285208637198591, 'mu_star': 90.92372668199351}\n",
    "# RGI50, CRU\n",
    "{'rgi_id': 'RGI50-11.00897', 't_star': 1923, 'bias': -1.3285208637198591, 'mu_star': 90.92372668199351}"
   ]
  },
  {
   "cell_type": "code",
   "execution_count": 3,
   "metadata": {},
   "outputs": [
    {
     "data": {
      "text/plain": [
       "'/Users/oberrauch/OGGM/tests/6812c0f0a1d967e0725912a5602d4282e51cc617/tmp_prepro'"
      ]
     },
     "execution_count": 3,
     "metadata": {},
     "output_type": "execute_result"
    }
   ],
   "source": [
    "import os\n",
    "from oggm.tests.funcs import get_test_dir\n",
    "os.path.join(get_test_dir(), 'tmp_prepro')"
   ]
  },
  {
   "cell_type": "code",
   "execution_count": 6,
   "metadata": {},
   "outputs": [
    {
     "name": "stdout",
     "output_type": "stream",
     "text": [
      "total 0\r\n",
      "drwxr-xr-x  3 oberrauch  staff  102 May  5 17:24 \u001b[34mstart_area\u001b[m\u001b[m/\r\n",
      "drwxr-xr-x  3 oberrauch  staff  102 May  3 17:37 \u001b[34mtmp_ben\u001b[m\u001b[m/\r\n",
      "drwxr-xr-x  3 oberrauch  staff  102 May  5 17:35 \u001b[34mtmp_comparison\u001b[m\u001b[m/\r\n"
     ]
    }
   ],
   "source": [
    "ll /Users/oberrauch/OGGM/tests/6812c0f0a1d967e0725912a5602d4282e51cc617/"
   ]
  },
  {
   "cell_type": "code",
   "execution_count": 5,
   "metadata": {},
   "outputs": [
    {
     "name": "stderr",
     "output_type": "stream",
     "text": [
      "2019-05-05 17:24:56: oggm.cfg: Using configuration file: /Users/oberrauch/oggm-fork/oggm/params.cfg\n",
      "2019-05-05 17:24:57: oggm.core.gis: (RGI60-11.00897) define_glacier_region\n",
      "2019-05-05 17:24:57: oggm.core.gis: (RGI60-11.00897) glacier_masks\n",
      "2019-05-05 17:24:58: oggm.core.climate: (RGI60-11.00897) process_cru_data\n",
      "2019-05-05 17:25:03: oggm.core.centerlines: (RGI60-11.00897) compute_centerlines\n",
      "2019-05-05 17:25:03: oggm.core.centerlines: (RGI60-11.00897) initialize_flowlines\n",
      "2019-05-05 17:25:03: oggm.core.centerlines: (RGI60-11.00897) catchment_area\n",
      "2019-05-05 17:25:05: oggm.core.centerlines: (RGI60-11.00897) catchment_intersections\n",
      "2019-05-05 17:25:05: oggm.core.centerlines: (RGI60-11.00897) catchment_width_geom\n",
      "2019-05-05 17:25:06: oggm.core.centerlines: (RGI60-11.00897) catchment_width_correction\n"
     ]
    }
   ],
   "source": [
    "# import externals libs\n",
    "import os\n",
    "import shutil\n",
    "from scipy.io import  loadmat\n",
    "import matplotlib.pyplot as plt\n",
    "# import the needed OGGM modules\n",
    "import oggm\n",
    "from oggm import cfg, utils\n",
    "from oggm.tests.funcs import get_test_dir\n",
    "from oggm.core import gis, climate, centerlines, vascaling\n",
    "\n",
    "# create test directory\n",
    "testdir = os.path.join(get_test_dir(), 'start_area')\n",
    "if not os.path.exists(testdir):\n",
    "    os.makedirs(testdir)\n",
    "shutil.rmtree(testdir)\n",
    "os.makedirs(testdir)\n",
    "\n",
    "# load default parameter file\n",
    "cfg.initialize()\n",
    "# set path to working directory\n",
    "cfg.PATHS['working_dir'] = testdir\n",
    "# load and set path to intersects\n",
    "path = utils.get_rgi_intersects_region_file('11', version='6')\n",
    "cfg.set_intersects_db(path)\n",
    "\n",
    "# change some default parameters\n",
    "cfg.PARAMS['border'] = 50\n",
    "cfg.PARAMS['baseline_climate'] = 'CRU'\n",
    "cfg.PARAMS['use_multiprocessing'] = True\n",
    "\n",
    "# get RGI entity\n",
    "rgi_id = 'RGI60-11.00897'\n",
    "entity = utils.get_rgi_glacier_entities([rgi_id]).iloc[0]\n",
    "\n",
    "# initialize the GlacierDirectory\n",
    "gdir = oggm.GlacierDirectory(entity, base_dir=testdir)\n",
    "\n",
    "# define the local grid and glacier mask\n",
    "gis.define_glacier_region(gdir, entity=entity)\n",
    "gis.glacier_masks(gdir)\n",
    "\n",
    "# process the given climate file\n",
    "climate.process_cru_data(gdir)\n",
    "\n",
    "# run center line preprocessing tasks\n",
    "centerlines.compute_centerlines(gdir)\n",
    "centerlines.initialize_flowlines(gdir)\n",
    "centerlines.catchment_area(gdir)\n",
    "centerlines.catchment_intersections(gdir)\n",
    "centerlines.catchment_width_geom(gdir)\n",
    "centerlines.catchment_width_correction(gdir)\n",
    "\n",
    "# --------------------\n",
    "#  MASS BALANCE TASKS\n",
    "# --------------------\n",
    "\n",
    "# compute local t* and the corresponding mu*\n",
    "vascaling.local_t_star(gdir)\n",
    "# instance the mass balance models\n",
    "mbmod = vascaling.VAScalingMassBalance(gdir)\n",
    "\n",
    "# ----------------\n",
    "#  DYNAMICAL PART\n",
    "# ----------------\n",
    "# get reference area\n",
    "a0 = gdir.rgi_area_m2\n",
    "# get reference year\n",
    "y0 = gdir.read_pickle('climate_info')['baseline_hydro_yr_0']\n",
    "# get min and max glacier surface elevation\n",
    "h0, h1 = vascaling.get_min_max_elevation(gdir)"
   ]
  },
  {
   "cell_type": "code",
   "execution_count": 6,
   "metadata": {},
   "outputs": [],
   "source": [
    "# initialize counter variable\n",
    "k = 2\n",
    "# specify path to *.mat file and see if file exists\n",
    "mat_file = '../data/start_area_results/{:s}_iteration_{:02d}.mat'.format(rgi_id, k)\n",
    "# read mat file\n",
    "mat_file = loadmat(mat_file)"
   ]
  },
  {
   "cell_type": "code",
   "execution_count": 7,
   "metadata": {},
   "outputs": [],
   "source": [
    "ben_model = vascaling.VAScalingModel(year_0=y0, area_m2_0=a0,\n",
    "                                     min_hgt=h0, max_hgt=h1,\n",
    "                                     mb_model=mbmod)\n",
    "\n",
    "# init model with best guess start area\n",
    "area_m2_start = mat_file['A_pre'][0,0] * 1e6\n",
    "ben_model.create_start_glacier(area_m2_start, year_start=1902)\n",
    "diag_ds = ben_model.run_until_and_store(2003)"
   ]
  },
  {
   "cell_type": "code",
   "execution_count": 8,
   "metadata": {},
   "outputs": [
    {
     "data": {
      "image/png": "[encoded data removed]",
      "text/plain": [
       "<Figure size 432x288 with 1 Axes>"
      ]
     },
     "metadata": {},
     "output_type": "display_data"
    },
    {
     "data": {
      "image/png": "[encoded data removed]",
      "text/plain": [
       "<Figure size 432x288 with 1 Axes>"
      ]
     },
     "metadata": {},
     "output_type": "display_data"
    },
    {
     "data": {
      "image/png": "[encoded data removed]",
      "text/plain": [
       "<Figure size 432x288 with 1 Axes>"
      ]
     },
     "metadata": {},
     "output_type": "display_data"
    },
    {
     "data": {
      "image/png": "[encoded data removed]",
      "text/plain": [
       "<Figure size 432x288 with 1 Axes>"
      ]
     },
     "metadata": {},
     "output_type": "display_data"
    },
    {
     "data": {
      "image/png": "[encoded data removed]",
      "text/plain": [
       "<Figure size 432x288 with 1 Axes>"
      ]
     },
     "metadata": {},
     "output_type": "display_data"
    },
    {
     "data": {
      "image/png": "[encoded data removed]",
      "text/plain": [
       "<Figure size 432x288 with 1 Axes>"
      ]
     },
     "metadata": {},
     "output_type": "display_data"
    }
   ],
   "source": [
    "# prepare parameters for plotting\n",
    "mat_years = mat_file['years'][0, :102]\n",
    "vas_years = diag_ds.hydro_year\n",
    "mat_params = ['A_pre', 'L_pre', 'V_pre', 'mb_modeled_pre', 'tau_L', 'tau_A']\n",
    "vas_params = ['area_m2', 'length_m', 'volume_m3', 'spec_mb', 'tau_l', 'tau_a']\n",
    "labels = ['Surface area [km$^2$]', 'Glacier length [km]',\n",
    "          'Glacier volume [km3]', 'Specific mass balance [mm w.e. yr$^{-1}$]',\n",
    "          'Length change response time [yr]', 'Area change response time [yr]']\n",
    "factors = [1e6, 1e3, 1e9, 1, 1, 1]\n",
    "# plot all parameters\n",
    "for mat, vas, label, f in zip(mat_params, vas_params, labels, factors):\n",
    "    plt.figure()\n",
    "    plt.plot(mat_years, mat_file[mat][0, :102], label='BEN')\n",
    "    plt.plot(vas_years, diag_ds[vas] / f, label='VAS')\n",
    "    plt.legend()\n",
    "    plt.xlabel('')\n",
    "    plt.ylabel(label)\n",
    "    plt.title('Hintereisferner with CRU data')"
   ]
  },
  {
   "cell_type": "code",
   "execution_count": null,
   "metadata": {},
   "outputs": [],
   "source": []
  },
  {
   "cell_type": "code",
   "execution_count": null,
   "metadata": {},
   "outputs": [],
   "source": []
  },
  {
   "cell_type": "code",
   "execution_count": 26,
   "metadata": {},
   "outputs": [],
   "source": [
    "diag_ds_full = diag_ds.copy()"
   ]
  },
  {
   "cell_type": "code",
   "execution_count": 30,
   "metadata": {},
   "outputs": [],
   "source": [
    "diag_ds = diag_ds_full.sel(time=slice(1902,1912))"
   ]
  },
  {
   "cell_type": "code",
   "execution_count": 28,
   "metadata": {},
   "outputs": [],
   "source": [
    "import matplotlib.pyplot as plt"
   ]
  },
  {
   "cell_type": "code",
   "execution_count": 31,
   "metadata": {},
   "outputs": [
    {
     "data": {
      "image/png": "[encoded data removed]",
      "text/plain": [
       "<Figure size 432x288 with 1 Axes>"
      ]
     },
     "metadata": {},
     "output_type": "display_data"
    },
    {
     "data": {
      "image/png": "[encoded data removed]",
      "text/plain": [
       "<Figure size 432x288 with 1 Axes>"
      ]
     },
     "metadata": {},
     "output_type": "display_data"
    },
    {
     "data": {
      "image/png": "[encoded data removed]",
      "text/plain": [
       "<Figure size 432x288 with 1 Axes>"
      ]
     },
     "metadata": {},
     "output_type": "display_data"
    },
    {
     "data": {
      "image/png": "[encoded data removed]",
      "text/plain": [
       "<Figure size 432x288 with 1 Axes>"
      ]
     },
     "metadata": {},
     "output_type": "display_data"
    },
    {
     "data": {
      "image/png": "[encoded data removed]",
      "text/plain": [
       "<Figure size 432x288 with 1 Axes>"
      ]
     },
     "metadata": {},
     "output_type": "display_data"
    },
    {
     "data": {
      "image/png": "[encoded data removed]",
      "text/plain": [
       "<Figure size 432x288 with 1 Axes>"
      ]
     },
     "metadata": {},
     "output_type": "display_data"
    }
   ],
   "source": [
    "# prepare parameters for plotting\n",
    "mat_years = mat_file['years'][0, :10]\n",
    "vas_years = diag_ds.hydro_year\n",
    "mat_params = ['A_pre', 'L_pre', 'V_pre', 'mb_modeled_pre', 'tau_L', 'tau_A']\n",
    "vas_params = ['area_m2', 'length_m', 'volume_m3', 'spec_mb', 'tau_l', 'tau_a']\n",
    "labels = ['Surface area [km$^2$]', 'Glacier length [km]',\n",
    "          'Glacier volume [km3]', 'Specific mass balance [mm w.e. yr$^{-1}$]',\n",
    "          'Length change response time [yr]', 'Area change response time [yr]']\n",
    "factors = [1e6, 1e3, 1e9, 1, 1, 1]\n",
    "# plot all parameters\n",
    "for mat, vas, label, f in zip(mat_params, vas_params, labels, factors):\n",
    "    plt.figure()\n",
    "    plt.plot(mat_years, mat_file[mat][0, :10], label='BEN')\n",
    "    plt.plot(vas_years, diag_ds[vas] / f, label='VAS')\n",
    "    plt.legend()\n",
    "    plt.xlabel('')\n",
    "    plt.ylabel(label)\n",
    "    plt.title('Hintereisferner with CRU data')"
   ]
  },
  {
   "cell_type": "code",
   "execution_count": null,
   "metadata": {},
   "outputs": [],
   "source": [
    "# import externals libs\n",
    "import os\n",
    "import shutil\n",
    "import scipy.io\n",
    "import numpy as np\n",
    "import geopandas as gpd\n",
    "import matplotlib.pyplot as plt\n",
    "\n",
    "# import the needed OGGM modules\n",
    "import oggm\n",
    "from oggm import cfg, utils\n",
    "from oggm.utils import get_demo_file\n",
    "from oggm.tests.funcs import get_test_dir\n",
    "from oggm.core import gis, climate, centerlines, vascaling"
   ]
  },
  {
   "cell_type": "code",
   "execution_count": null,
   "metadata": {},
   "outputs": [],
   "source": [
    "# create test directory\n",
    "testdir = os.path.join(get_test_dir(), 'tmp_ben')\n",
    "if not os.path.exists(testdir):\n",
    "    os.makedirs(testdir)\n",
    "shutil.rmtree(testdir)\n",
    "os.makedirs(testdir)"
   ]
  },
  {
   "cell_type": "code",
   "execution_count": null,
   "metadata": {},
   "outputs": [],
   "source": [
    "# load default parameter file\n",
    "cfg.initialize()\n",
    "# set path to working directory\n",
    "cfg.PATHS['working_dir'] = testdir\n",
    "# load and set path to intersects\n",
    "path = utils.get_rgi_intersects_region_file('11', version='6')\n",
    "cfg.set_intersects_db(path)\n",
    "\n",
    "# change some default parameters\n",
    "cfg.PARAMS['border'] = 50\n",
    "cfg.PARAMS['baseline_climate'] = 'CRU'\n",
    "cfg.PARAMS['use_multiprocessing'] = True\n"
   ]
  },
  {
   "cell_type": "code",
   "execution_count": null,
   "metadata": {},
   "outputs": [],
   "source": [
    "utils.get_rgi_glacier_entities(['RGI60-11.00897'])"
   ]
  },
  {
   "cell_type": "code",
   "execution_count": null,
   "metadata": {},
   "outputs": [],
   "source": [
    "# get RGI entity\n",
    "entity = utils.get_rgi_glacier_entities(['RGI60-11.00897']).iloc[0]\n",
    "# initialize the GlacierDirectory\n",
    "gdir = oggm.GlacierDirectory(entity, base_dir=testdir)\n",
    "# define the local grid and glacier mask\n",
    "gis.define_glacier_region(gdir, entity=entity)\n",
    "gis.glacier_masks(gdir)"
   ]
  },
  {
   "cell_type": "code",
   "execution_count": null,
   "metadata": {},
   "outputs": [],
   "source": [
    "# process the given climate file\n",
    "climate.process_cru_data(gdir)\n",
    "\n",
    "# run center line preprocessing tasks\n",
    "centerlines.compute_centerlines(gdir)\n",
    "centerlines.initialize_flowlines(gdir)\n",
    "centerlines.catchment_area(gdir)\n",
    "centerlines.catchment_intersections(gdir)\n",
    "centerlines.catchment_width_geom(gdir)\n",
    "centerlines.catchment_width_correction(gdir)"
   ]
  },
  {
   "cell_type": "code",
   "execution_count": null,
   "metadata": {},
   "outputs": [],
   "source": [
    "# --------------------\n",
    "#  MASS BALANCE TASKS\n",
    "# --------------------\n",
    "\n",
    "# compute local t* and the corresponding mu*\n",
    "vascaling.local_t_star(gdir)\n",
    "\n",
    "# instance the mass balance models\n",
    "mbmod = vascaling.VAScalingMassBalance(gdir)"
   ]
  },
  {
   "cell_type": "code",
   "execution_count": null,
   "metadata": {},
   "outputs": [],
   "source": [
    "# ----------------\n",
    "#  DYNAMICAL PART\n",
    "# ----------------\n",
    "# get reference area\n",
    "a0 = gdir.rgi_area_m2\n",
    "# get reference year\n",
    "y0 = gdir.read_pickle('climate_info')['baseline_hydro_yr_0']\n",
    "# get min and max glacier surface elevation\n",
    "h0, h1 = vascaling.get_min_max_elevation(gdir)\n",
    "\n",
    "ben_model = vascaling.VAScalingModel(year_0=y0, area_m2_0=a0,\n",
    "                                     min_hgt=h0, max_hgt=h1,\n",
    "                                     mb_model=mbmod)"
   ]
  },
  {
   "cell_type": "code",
   "execution_count": null,
   "metadata": {},
   "outputs": [],
   "source": [
    "ben_model.create_start_glacier(9.793874999999998*1e6, year_start=1902)\n",
    "diag_ds = ben_model.run_until_and_store(2003)"
   ]
  },
  {
   "cell_type": "code",
   "execution_count": null,
   "metadata": {},
   "outputs": [],
   "source": [
    "diag_ds.area_m2.plot()"
   ]
  },
  {
   "cell_type": "code",
   "execution_count": null,
   "metadata": {},
   "outputs": [],
   "source": [
    "# read matlab data\n",
    "mat = scipy.io.loadmat('/Users/oberrauch/work/master/data/mat_files/full_workspace.mat')\n",
    "\n",
    "# get needed parameters from *.mat file\n",
    "years = np.array([yr for yr in mat['cru_years']])\n",
    "years = years[years <= 2003]\n",
    "a_pre = np.array([a for a in mat['A_pre']])[0]\n",
    "a_ben = a_pre.copy()"
   ]
  },
  {
   "cell_type": "code",
   "execution_count": null,
   "metadata": {},
   "outputs": [],
   "source": [
    "diag_ds"
   ]
  },
  {
   "cell_type": "code",
   "execution_count": null,
   "metadata": {},
   "outputs": [],
   "source": [
    "# plot both modeled area changes\n",
    "plt.plot(years, a_ben, label='BEN')\n",
    "plt.plot(diag_ds.hydro_year, diag_ds.area_m2/1e6, label='VAS')\n",
    "plt.legend()\n",
    "plt.xlabel('')\n",
    "plt.ylabel('Surface area [km$^2$]')\n",
    "plt.title('Hintereisferner with CRU data, A$_0$ = {:.2f} km$^2$'.format(a_ben[0]))"
   ]
  },
  {
   "cell_type": "code",
   "execution_count": null,
   "metadata": {},
   "outputs": [],
   "source": [
    "# read matlab data\n",
    "mat = scipy.io.loadmat('/Users/oberrauch/work/master/data/mat_files/A_pre_best_guess.mat')\n",
    "years = np.arange(1901, 2004)\n",
    "# get area\n",
    "a_best_fit = np.array([a for a in mat['A_pre']])[0]\n",
    "a_ben = a_best_fit.copy()\n",
    "\n",
    "plt.plot(years, a_best_fit, label='BEN')\n",
    "plt.plot(diag_ds.hydro_year, diag_ds.area_m2/1e6, label='VAS')\n",
    "plt.legend()\n",
    "plt.xlabel('')\n",
    "plt.ylabel('Surface area [km$^2$]')\n",
    "plt.title('Hintereisferner with CRU data, A$_0$ = {:.2f} km$^2$'.format(a_ben[0]))"
   ]
  },
  {
   "cell_type": "code",
   "execution_count": null,
   "metadata": {},
   "outputs": [],
   "source": []
  },
  {
   "cell_type": "code",
   "execution_count": null,
   "metadata": {},
   "outputs": [],
   "source": []
  },
  {
   "cell_type": "code",
   "execution_count": null,
   "metadata": {},
   "outputs": [],
   "source": [
    "# read matlab data\n",
    "mat = scipy.io.loadmat('/Users/oberrauch/work/master/data/mat_files/time_scales.mat')\n",
    "# get time scales\n",
    "tau_l = np.array([a for a in mat['tau_L']])[0]\n",
    "tau_a = np.array([a for a in mat['tau_A']])[0]"
   ]
  },
  {
   "cell_type": "code",
   "execution_count": null,
   "metadata": {},
   "outputs": [],
   "source": [
    "plt.plot(years[1:], tau_l, label='BEN')\n",
    "plt.plot(diag_ds.hydro_year, diag_ds.tau_l, label='VAS')\n",
    "plt.legend()"
   ]
  },
  {
   "cell_type": "code",
   "execution_count": null,
   "metadata": {},
   "outputs": [],
   "source": [
    "diag_ds.tau_a"
   ]
  },
  {
   "cell_type": "code",
   "execution_count": null,
   "metadata": {},
   "outputs": [],
   "source": [
    "plt.plot(years[1:], tau_a, label='BEN')\n",
    "plt.plot(diag_ds.hydro_year, diag_ds.tau_a, label='VAS')\n",
    "plt.legend()"
   ]
  },
  {
   "cell_type": "code",
   "execution_count": null,
   "metadata": {},
   "outputs": [],
   "source": []
  },
  {
   "cell_type": "code",
   "execution_count": null,
   "metadata": {},
   "outputs": [],
   "source": [
    "ben_model.create_start_glacier(16.072e6, year_start=1902)\n",
    "print(ben_model)"
   ]
  },
  {
   "cell_type": "code",
   "execution_count": null,
   "metadata": {},
   "outputs": [],
   "source": [
    "i = 0\n",
    "print('Iteration', i, '\\n-----------------')\n",
    "print('Area {:.3f} km2'.format(diag_ds.area_m2[i].values/1e6))\n",
    "print('Volume {:.3f} km3'.format(diag_ds.volume_m3[i].values/1e9))\n",
    "print('Length {:.3f} km'.format(diag_ds.length_m[i].values/1e3))"
   ]
  },
  {
   "cell_type": "code",
   "execution_count": null,
   "metadata": {},
   "outputs": [],
   "source": [
    "diag_ds"
   ]
  },
  {
   "cell_type": "code",
   "execution_count": null,
   "metadata": {},
   "outputs": [],
   "source": []
  },
  {
   "cell_type": "code",
   "execution_count": null,
   "metadata": {},
   "outputs": [],
   "source": []
  },
  {
   "cell_type": "code",
   "execution_count": null,
   "metadata": {},
   "outputs": [],
   "source": []
  },
  {
   "cell_type": "code",
   "execution_count": null,
   "metadata": {},
   "outputs": [],
   "source": []
  },
  {
   "cell_type": "code",
   "execution_count": null,
   "metadata": {},
   "outputs": [],
   "source": []
  },
  {
   "cell_type": "code",
   "execution_count": null,
   "metadata": {},
   "outputs": [],
   "source": [
    "df = diag_ds.to_dataframe()\n",
    "df = pd.concat([df['length_m'], df['area_m2'], df['volume_m3']], axis=1)"
   ]
  },
  {
   "cell_type": "code",
   "execution_count": null,
   "metadata": {},
   "outputs": [],
   "source": [
    "store = False\n",
    "if store:\n",
    "    # define path and file names\n",
    "    folder = '/Users/oberrauch/work/master/data/'\n",
    "    suffix = '_test_start_area'\n",
    "    names = ['length', 'area', 'volume']\n",
    "    # combine glacier geometries into DataFrame\n",
    "    import numpy as np\n",
    "    import pandas as pd\n",
    "    df = [diag_ds['hydro_year', 'length_m'], diag_ds['area_m2'], diag_ds['volume_m3']]\n",
    "    df = pd.concat([df_.to_dataframe() for df_ in df])\n",
    "    df.to_csv(folder+'run'+suffix+'.csv')\n",
    "\n",
    "plot = True\n",
    "if plot:\n",
    "    unit = 'km'\n",
    "    unit_factor = 1e3\n",
    "    # define path and file names\n",
    "    folder = '/Users/oberrauch/work/master/plots/'\n",
    "    suffix = '_test_start_area'\n",
    "\n",
    "    plt.figure()\n",
    "    plt.plot(diag_ds['area_m2']/unit_factor**2)\n",
    "    plt.title('Hintereis Ferner - Area')\n",
    "    plt.ylabel('Area [{}$^2$]'.format(unit))\n",
    "    plt.savefig(folder+'area'+suffix+'.png', bbox_inches='tight')\n",
    "\n",
    "    plt.figure()\n",
    "    plt.plot(diag_ds['volume_m3']/unit_factor**3)\n",
    "    plt.title('Hintereis Ferner - Volume')\n",
    "    plt.ylabel('Volume [{}$^3$]'.format(unit))\n",
    "    plt.savefig(folder+'volume'+suffix+'.png', bbox_inches='tight')\n",
    "\n",
    "    plt.figure()\n",
    "    plt.plot(diag_ds['length_m']/unit_factor)\n",
    "    plt.title('Hintereis Ferner - Length')\n",
    "    plt.ylabel('Length [{}]'.format(unit))\n",
    "    plt.savefig(folder+'length'+suffix+'.png', bbox_inches='tight')\n",
    "\n",
    "    plt.show()"
   ]
  },
  {
   "cell_type": "code",
   "execution_count": null,
   "metadata": {},
   "outputs": [],
   "source": [
    "df.iloc[-1]"
   ]
  },
  {
   "cell_type": "code",
   "execution_count": null,
   "metadata": {},
   "outputs": [],
   "source": []
  },
  {
   "cell_type": "code",
   "execution_count": null,
   "metadata": {},
   "outputs": [],
   "source": []
  }
 ],
 "metadata": {
  "kernelspec": {
   "display_name": "Python 3",
   "language": "python",
   "name": "python3"
  },
  "language_info": {
   "codemirror_mode": {
    "name": "ipython",
    "version": 3
   },
   "file_extension": ".py",
   "mimetype": "text/x-python",
   "name": "python",
   "nbconvert_exporter": "python",
   "pygments_lexer": "ipython3",
   "version": "3.6.7"
  }
 },
 "nbformat": 4,
 "nbformat_minor": 2
}
