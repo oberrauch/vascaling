{
 "cells": [
  {
   "cell_type": "markdown",
   "metadata": {},
   "source": [
    "# Evaluate sensitivity for Hintereisferner and HistAlp\n",
    "\n",
    "..."
   ]
  },
  {
   "cell_type": "code",
   "execution_count": 6,
   "metadata": {},
   "outputs": [],
   "source": [
    "import os\n",
    "import sys\n",
    "import pickle\n",
    "import numpy as np\n",
    "import pandas as pd\n",
    "import xarray as xr\n",
    "\n",
    "import matplotlib.pyplot as plt\n",
    "%matplotlib inline"
   ]
  },
  {
   "cell_type": "code",
   "execution_count": 10,
   "metadata": {},
   "outputs": [],
   "source": [
    "sys.path.append('../code/plots')\n",
    "import plot_timeseries as plt_time"
   ]
  },
  {
   "cell_type": "code",
   "execution_count": 8,
   "metadata": {},
   "outputs": [],
   "source": [
    "# define plot output directory\n",
    "plot_dir = \"/Users/oberrauch/work/master/plots/final_plots/sensitivity/\""
   ]
  },
  {
   "cell_type": "code",
   "execution_count": 9,
   "metadata": {},
   "outputs": [
    {
     "data": {
      "image/png": "[encoded data removed]",
      "text/plain": [
       "<Figure size 432x288 with 2 Axes>"
      ]
     },
     "metadata": {
      "needs_background": "light"
     },
     "output_type": "display_data"
    }
   ],
   "source": [
    "# get colors\n",
    "sys.path.append('/Users/oberrauch/work/master/code/')\n",
    "from master_colors import vas_cycle, fl_cycle, plot_colors\n",
    "plot_colors([vas_cycle, fl_cycle], ['VAS', 'Flowline'])"
   ]
  },
  {
   "cell_type": "markdown",
   "metadata": {},
   "source": [
    "## HEF Sensitivity"
   ]
  },
  {
   "cell_type": "markdown",
   "metadata": {},
   "source": [
    "### Sensitivity to scaling parameters"
   ]
  },
  {
   "cell_type": "code",
   "execution_count": 123,
   "metadata": {},
   "outputs": [],
   "source": [
    "# load scaling params sensitivity results\n",
    "dir_path = '/Users/oberrauch/work/master/data/hef_sensitivity/'\n",
    "f_name = 'scaling_param_sensitivity.nc'\n",
    "ds = pickle.load(open(os.path.join(dir_path, f_name), mode='rb'))"
   ]
  },
  {
   "cell_type": "code",
   "execution_count": 124,
   "metadata": {},
   "outputs": [
    {
     "data": {
      "image/png": "[encoded data removed]",
      "text/plain": [
       "<Figure size 360x288 with 1 Axes>"
      ]
     },
     "metadata": {
      "needs_background": "light"
     },
     "output_type": "display_data"
    }
   ],
   "source": [
    "variables = ['volume']\n",
    "n = True\n",
    "\n",
    "for var in variables:\n",
    "    # call plotting function\n",
    "    titles = ['Global\\ values', 'Hintereisf.\\ constants', 'HISTALP\\ const. &\\  exp.']\n",
    "    ds_plot = ds.sel(normalized=n, time_scale_factor=1)\n",
    "    labels = [f'$\\\\bf{{{t}}}$\\n$c_L$={c_l:.3f}, $q$={q:.3f}\\n$c_A$={c_a:.3f}, $\\gamma$={gamma:.3f};'\n",
    "              for t, (c_l, c_a, q, gamma) in zip(titles, ds_plot.scaling_params.values)]\n",
    "    plt_time.plot_time_series(ds_plot, var=var, labels=labels, color_cycle=vas_cycle[[0,4,8]], legend_loc=1,\n",
    "                              path=os.path.join(plot_dir, 'scaling_params_hef.pdf'))"
   ]
  },
  {
   "cell_type": "markdown",
   "metadata": {},
   "source": [
    "**Equilibrium values**"
   ]
  },
  {
   "cell_type": "code",
   "execution_count": 137,
   "metadata": {},
   "outputs": [
    {
     "data": {
      "text/html": [
       "<div>\n",
       "<style scoped>\n",
       "    .dataframe tbody tr th:only-of-type {\n",
       "        vertical-align: middle;\n",
       "    }\n",
       "\n",
       "    .dataframe tbody tr th {\n",
       "        vertical-align: top;\n",
       "    }\n",
       "\n",
       "    .dataframe thead tr th {\n",
       "        text-align: left;\n",
       "    }\n",
       "\n",
       "    .dataframe thead tr:last-of-type th {\n",
       "        text-align: right;\n",
       "    }\n",
       "</style>\n",
       "<table border=\"1\" class=\"dataframe\">\n",
       "  <thead>\n",
       "    <tr>\n",
       "      <th></th>\n",
       "      <th colspan=\"2\" halign=\"left\">area</th>\n",
       "    </tr>\n",
       "    <tr>\n",
       "      <th></th>\n",
       "      <th>abs</th>\n",
       "      <th>norm</th>\n",
       "    </tr>\n",
       "    <tr>\n",
       "      <th>scaling_params</th>\n",
       "      <th></th>\n",
       "      <th></th>\n",
       "    </tr>\n",
       "  </thead>\n",
       "  <tbody>\n",
       "    <tr>\n",
       "      <th>(1.555, 0.252, 2.2, 1.375)</th>\n",
       "      <td>7.128259</td>\n",
       "      <td>0.8870407197491634</td>\n",
       "    </tr>\n",
       "    <tr>\n",
       "      <th>(4.551, 0.191, 2.2, 1.375)</th>\n",
       "      <td>7.128236</td>\n",
       "      <td>0.8870378636562138</td>\n",
       "    </tr>\n",
       "  </tbody>\n",
       "</table>\n",
       "</div>"
      ],
      "text/plain": [
       "                                area                    \n",
       "                                 abs                norm\n",
       "scaling_params                                          \n",
       "(1.555, 0.252, 2.2, 1.375)  7.128259  0.8870407197491634\n",
       "(4.551, 0.191, 2.2, 1.375)  7.128236  0.8870378636562138"
      ]
     },
     "execution_count": 137,
     "metadata": {},
     "output_type": "execute_result"
    }
   ],
   "source": [
    "# get table with final values of volume for different time scales factors\n",
    "var = 'area'\n",
    "mb_m = 'constant'\n",
    "data = list()\n",
    "\n",
    "for p in ds.scaling_params:\n",
    "        # select last volume entry from dataset by model and temperature bias\n",
    "        ds_abs = ds.sel(scaling_params=p, normalized=False).squeeze().isel(time=1000)[var]\n",
    "        ds_norm = ds.sel(scaling_params=p, normalized=True).squeeze().isel(time=1000)[var]\n",
    "        data.append([ds_abs.values/1e6, ds_norm.values])\n",
    "        \n",
    "table = pd.DataFrame(data, index=pd.Index(ds.scaling_params.values, name='scaling_params'),\n",
    "                     columns=pd.MultiIndex.from_tuples(list(zip(np.repeat([var], 2),\n",
    "                                                                np.tile(['abs', 'norm'], 1)))),)\n",
    "table.sort_index()"
   ]
  },
  {
   "cell_type": "code",
   "execution_count": 127,
   "metadata": {},
   "outputs": [
    {
     "data": {
      "text/html": [
       "<div>\n",
       "<style scoped>\n",
       "    .dataframe tbody tr th:only-of-type {\n",
       "        vertical-align: middle;\n",
       "    }\n",
       "\n",
       "    .dataframe tbody tr th {\n",
       "        vertical-align: top;\n",
       "    }\n",
       "\n",
       "    .dataframe thead tr th {\n",
       "        text-align: left;\n",
       "    }\n",
       "\n",
       "    .dataframe thead tr:last-of-type th {\n",
       "        text-align: right;\n",
       "    }\n",
       "</style>\n",
       "<table border=\"1\" class=\"dataframe\">\n",
       "  <thead>\n",
       "    <tr>\n",
       "      <th></th>\n",
       "      <th colspan=\"3\" halign=\"left\">volume</th>\n",
       "    </tr>\n",
       "    <tr>\n",
       "      <th></th>\n",
       "      <th>init</th>\n",
       "      <th>eq</th>\n",
       "      <th>diff</th>\n",
       "    </tr>\n",
       "    <tr>\n",
       "      <th>scaling_params</th>\n",
       "      <th></th>\n",
       "      <th></th>\n",
       "      <th></th>\n",
       "    </tr>\n",
       "  </thead>\n",
       "  <tbody>\n",
       "    <tr>\n",
       "      <th>(1.555, 0.252, 2.2, 1.375)</th>\n",
       "      <td>0.786739</td>\n",
       "      <td>0.667195</td>\n",
       "      <td>-0.119544</td>\n",
       "    </tr>\n",
       "    <tr>\n",
       "      <th>(4.551, 0.191, 2.2, 1.375)</th>\n",
       "      <td>0.596298</td>\n",
       "      <td>0.505689</td>\n",
       "      <td>-0.090609</td>\n",
       "    </tr>\n",
       "  </tbody>\n",
       "</table>\n",
       "</div>"
      ],
      "text/plain": [
       "                              volume                    \n",
       "                                init        eq      diff\n",
       "scaling_params                                          \n",
       "(1.555, 0.252, 2.2, 1.375)  0.786739  0.667195 -0.119544\n",
       "(4.551, 0.191, 2.2, 1.375)  0.596298  0.505689 -0.090609"
      ]
     },
     "execution_count": 127,
     "metadata": {},
     "output_type": "execute_result"
    }
   ],
   "source": [
    "# get table with initial and final values as well as the difference between the two\n",
    "var = 'volume'\n",
    "dec_power = 1e9\n",
    "\n",
    "data = list()\n",
    "\n",
    "for p in ds.scaling_params:\n",
    "        # select last volume entry from dataset by model and temperature bias\n",
    "        ds_eq = ds.sel(scaling_params=p, normalized=False).squeeze().isel(time=1000)[var]\n",
    "        ds_init = ds.sel(scaling_params=p, normalized=False).squeeze().isel(time=0)[var]\n",
    "        data.append([ds_init.values/dec_power, ds_eq.values/dec_power, ds_eq.values/dec_power - ds_init.values/dec_power])\n",
    "        \n",
    "table = pd.DataFrame(data, index=pd.Index(ds.scaling_params.values, name='scaling_params'),\n",
    "                     columns=pd.MultiIndex.from_tuples(list(zip(np.repeat([var], 3),\n",
    "                                                                np.tile(['init', 'eq', 'diff'], 1)))),)\n",
    "table.sort_index()"
   ]
  },
  {
   "cell_type": "markdown",
   "metadata": {},
   "source": [
    "**Time until equlibrium**"
   ]
  },
  {
   "cell_type": "code",
   "execution_count": 60,
   "metadata": {},
   "outputs": [
    {
     "data": {
      "text/html": [
       "<div>\n",
       "<style scoped>\n",
       "    .dataframe tbody tr th:only-of-type {\n",
       "        vertical-align: middle;\n",
       "    }\n",
       "\n",
       "    .dataframe tbody tr th {\n",
       "        vertical-align: top;\n",
       "    }\n",
       "\n",
       "    .dataframe thead th {\n",
       "        text-align: right;\n",
       "    }\n",
       "</style>\n",
       "<table border=\"1\" class=\"dataframe\">\n",
       "  <thead>\n",
       "    <tr style=\"text-align: right;\">\n",
       "      <th></th>\n",
       "      <th>time_until_eq</th>\n",
       "    </tr>\n",
       "    <tr>\n",
       "      <th>scaling_params</th>\n",
       "      <th></th>\n",
       "    </tr>\n",
       "  </thead>\n",
       "  <tbody>\n",
       "    <tr>\n",
       "      <th>(1.555, 0.252, 2.2, 1.375)</th>\n",
       "      <td>493</td>\n",
       "    </tr>\n",
       "    <tr>\n",
       "      <th>(4.551, 0.191, 2.2, 1.375)</th>\n",
       "      <td>371</td>\n",
       "    </tr>\n",
       "  </tbody>\n",
       "</table>\n",
       "</div>"
      ],
      "text/plain": [
       "                            time_until_eq\n",
       "scaling_params                           \n",
       "(1.555, 0.252, 2.2, 1.375)            493\n",
       "(4.551, 0.191, 2.2, 1.375)            371"
      ]
     },
     "execution_count": 60,
     "metadata": {},
     "output_type": "execute_result"
    }
   ],
   "source": [
    "# get table with final values of volume for different time scales factors\n",
    "var = 'volume'\n",
    "data = list()\n",
    "\n",
    "for p in ds.scaling_params:\n",
    "        # select last volume entry from dataset by model and temperature bias\n",
    "        geom = ds.sel(scaling_params=p, normalized=False).squeeze()[var]\n",
    "        geom_eq_value = ds.sel(scaling_params=p, normalized=False).squeeze().isel(time=-1)[var].mean().values\n",
    "        geom_limit = geom_eq_value * 0.001\n",
    "        geom_eq = geom.where(abs(geom - geom_eq_value) < geom_limit)\n",
    "        yr = geom_eq.where(xr.ufuncs.isnan(geom_eq), drop=True).isel(time=-1).time.values+1\n",
    "        data.append(int(yr))\n",
    "\n",
    "table = pd.DataFrame(data, index=pd.Index(ds.scaling_params.values, name='scaling_params'), columns=['time_until_eq'])\n",
    "table.sort_index()    "
   ]
  },
  {
   "cell_type": "markdown",
   "metadata": {},
   "source": [
    "**Maximum values**"
   ]
  },
  {
   "cell_type": "code",
   "execution_count": 131,
   "metadata": {},
   "outputs": [
    {
     "data": {
      "text/html": [
       "<div>\n",
       "<style scoped>\n",
       "    .dataframe tbody tr th:only-of-type {\n",
       "        vertical-align: middle;\n",
       "    }\n",
       "\n",
       "    .dataframe tbody tr th {\n",
       "        vertical-align: top;\n",
       "    }\n",
       "\n",
       "    .dataframe thead th {\n",
       "        text-align: right;\n",
       "    }\n",
       "</style>\n",
       "<table border=\"1\" class=\"dataframe\">\n",
       "  <thead>\n",
       "    <tr style=\"text-align: right;\">\n",
       "      <th></th>\n",
       "      <th>abs</th>\n",
       "      <th>norm</th>\n",
       "      <th>year</th>\n",
       "    </tr>\n",
       "    <tr>\n",
       "      <th>scaling_params</th>\n",
       "      <th></th>\n",
       "      <th></th>\n",
       "      <th></th>\n",
       "    </tr>\n",
       "  </thead>\n",
       "  <tbody>\n",
       "    <tr>\n",
       "      <th>(1.555, 0.252, 2.2, 1.375)</th>\n",
       "      <td>6.862396</td>\n",
       "      <td>0.146043</td>\n",
       "      <td>114</td>\n",
       "    </tr>\n",
       "    <tr>\n",
       "      <th>(4.551, 0.191, 2.2, 1.375)</th>\n",
       "      <td>6.878157</td>\n",
       "      <td>0.144082</td>\n",
       "      <td>95</td>\n",
       "    </tr>\n",
       "  </tbody>\n",
       "</table>\n",
       "</div>"
      ],
      "text/plain": [
       "                                 abs      norm  year\n",
       "scaling_params                                      \n",
       "(1.555, 0.252, 2.2, 1.375)  6.862396  0.146043   114\n",
       "(4.551, 0.191, 2.2, 1.375)  6.878157  0.144082    95"
      ]
     },
     "execution_count": 131,
     "metadata": {},
     "output_type": "execute_result"
    }
   ],
   "source": [
    "# get table with final values of volume for different time scales factors\n",
    "var = 'area'\n",
    "mb_m = 'constant'\n",
    "data = list()\n",
    "\n",
    "for p in ds.scaling_params:\n",
    "        # select last volume entry from dataset by model and temperature bias\n",
    "        ds_abs = ds.sel(scaling_params=p, normalized=False).squeeze()[var]\n",
    "        ds_norm = ds.sel(scaling_params=p, normalized=True).squeeze()[var]\n",
    "        abs_min = ds_abs.where(ds_abs == ds_abs.min(), drop=True)\n",
    "        norm_min = ds_norm.where(ds_abs == ds_abs.min(), drop=True)\n",
    "        data.append([float(abs_min.values/1e6), 1-float(norm_min.values), int(norm_min.time.values)])\n",
    "        \n",
    "table = pd.DataFrame(data, index=pd.Index(ds.scaling_params.values, name='scaling_params'),\n",
    "                     columns=['abs', 'norm', 'year'])\n",
    "table.sort_index()"
   ]
  },
  {
   "cell_type": "code",
   "execution_count": 135,
   "metadata": {},
   "outputs": [
    {
     "data": {
      "text/plain": [
       "scaling_params\n",
       "(4.551, 0.191, 2.2, 1.375)         NaN\n",
       "(1.555, 0.252, 2.2, 1.375)   -0.015761\n",
       "Name: abs, dtype: float64"
      ]
     },
     "execution_count": 135,
     "metadata": {},
     "output_type": "execute_result"
    }
   ],
   "source": [
    "table['abs'].diff()"
   ]
  },
  {
   "cell_type": "code",
   "execution_count": 130,
   "metadata": {},
   "outputs": [
    {
     "data": {
      "text/html": [
       "<div>\n",
       "<style scoped>\n",
       "    .dataframe tbody tr th:only-of-type {\n",
       "        vertical-align: middle;\n",
       "    }\n",
       "\n",
       "    .dataframe tbody tr th {\n",
       "        vertical-align: top;\n",
       "    }\n",
       "\n",
       "    .dataframe thead th {\n",
       "        text-align: right;\n",
       "    }\n",
       "</style>\n",
       "<table border=\"1\" class=\"dataframe\">\n",
       "  <thead>\n",
       "    <tr style=\"text-align: right;\">\n",
       "      <th></th>\n",
       "      <th>abs</th>\n",
       "      <th>rel. overshoot</th>\n",
       "      <th>year</th>\n",
       "    </tr>\n",
       "    <tr>\n",
       "      <th>time_scale_factor</th>\n",
       "      <th></th>\n",
       "      <th></th>\n",
       "      <th></th>\n",
       "    </tr>\n",
       "  </thead>\n",
       "  <tbody>\n",
       "    <tr>\n",
       "      <th>(1.555, 0.252, 2.2, 1.375)</th>\n",
       "      <td>0.034103</td>\n",
       "      <td>5.111387</td>\n",
       "      <td>110</td>\n",
       "    </tr>\n",
       "    <tr>\n",
       "      <th>(4.551, 0.191, 2.2, 1.375)</th>\n",
       "      <td>0.025726</td>\n",
       "      <td>5.087306</td>\n",
       "      <td>82</td>\n",
       "    </tr>\n",
       "  </tbody>\n",
       "</table>\n",
       "</div>"
      ],
      "text/plain": [
       "                                 abs  rel. overshoot  year\n",
       "time_scale_factor                                         \n",
       "(1.555, 0.252, 2.2, 1.375)  0.034103        5.111387   110\n",
       "(4.551, 0.191, 2.2, 1.375)  0.025726        5.087306    82"
      ]
     },
     "execution_count": 130,
     "metadata": {},
     "output_type": "execute_result"
    }
   ],
   "source": [
    "# get table with final values of volume for different time scales factors\n",
    "var = 'volume'\n",
    "dec_power = 1e9\n",
    "mb_m = 'constant'\n",
    "data = list()\n",
    "\n",
    "for p in ds.scaling_params:\n",
    "        # select last volume entry from dataset by model and temperature bias\n",
    "        ds_abs = ds.sel(scaling_params=p, normalized=False).squeeze()[var]\n",
    "        ds_norm = ds.sel(scaling_params=p, normalized=True).squeeze()[var]\n",
    "        abs_min = ds_abs.where(ds_abs == ds_abs.min(), drop=True)\n",
    "        abs_eq = ds_abs.isel(time=-1)\n",
    "        norm_min = ds_norm.where(ds_abs == ds_abs.min(), drop=True)\n",
    "        data.append([float(abs(abs_min.values-abs_eq.values))/dec_power, float(abs(abs_min.values-abs_eq.values)/abs_eq.values*100), int(norm_min.time.values)])\n",
    "        \n",
    "table = pd.DataFrame(data, index=pd.Index(ds.scaling_params.values, name='time_scale_factor'),\n",
    "                     columns=['abs', 'rel. overshoot', 'year'])\n",
    "table.sort_index()"
   ]
  },
  {
   "cell_type": "markdown",
   "metadata": {},
   "source": [
    "**Response times $\\tau$**"
   ]
  },
  {
   "cell_type": "code",
   "execution_count": 62,
   "metadata": {},
   "outputs": [
    {
     "data": {
      "text/html": [
       "<div>\n",
       "<style scoped>\n",
       "    .dataframe tbody tr th:only-of-type {\n",
       "        vertical-align: middle;\n",
       "    }\n",
       "\n",
       "    .dataframe tbody tr th {\n",
       "        vertical-align: top;\n",
       "    }\n",
       "\n",
       "    .dataframe thead th {\n",
       "        text-align: right;\n",
       "    }\n",
       "</style>\n",
       "<table border=\"1\" class=\"dataframe\">\n",
       "  <thead>\n",
       "    <tr style=\"text-align: right;\">\n",
       "      <th>scaling_params</th>\n",
       "      <th>(4.551, 0.191, 2.2, 1.375)</th>\n",
       "      <th>(1.555, 0.252, 2.2, 1.375)</th>\n",
       "    </tr>\n",
       "  </thead>\n",
       "  <tbody>\n",
       "    <tr>\n",
       "      <th>volume</th>\n",
       "      <td>23</td>\n",
       "      <td>30</td>\n",
       "    </tr>\n",
       "    <tr>\n",
       "      <th>area</th>\n",
       "      <td>34</td>\n",
       "      <td>34</td>\n",
       "    </tr>\n",
       "    <tr>\n",
       "      <th>length</th>\n",
       "      <td>52</td>\n",
       "      <td>70</td>\n",
       "    </tr>\n",
       "  </tbody>\n",
       "</table>\n",
       "</div>"
      ],
      "text/plain": [
       "scaling_params  (4.551, 0.191, 2.2, 1.375)  (1.555, 0.252, 2.2, 1.375)\n",
       "volume                                  23                          30\n",
       "area                                    34                          34\n",
       "length                                  52                          70"
      ]
     },
     "execution_count": 62,
     "metadata": {},
     "output_type": "execute_result"
    }
   ],
   "source": [
    "variables = ['volume', 'area', 'length',]\n",
    "temp_biases = [-0.5, +0.5]\n",
    "data = list()\n",
    "for var in variables:\n",
    "    data_ = list()\n",
    "    for p in ds.scaling_params:\n",
    "        # select last volume entry from dataset by model and temperature bias\n",
    "        ds_sel = ds.sel(scaling_params=p, normalized=False).squeeze()\n",
    "        geom = ds_sel[var]\n",
    "        geom_eq = geom.isel(time=slice(800,1000)).mean()\n",
    "        geom_eq_dif = np.abs(geom_eq - geom.isel(time=0))\n",
    "        geom_dif = np.abs(geom_eq - geom)\n",
    "        data_.append(int(geom.where(geom_dif < geom_eq_dif*np.exp(-1), drop=True).isel(time=0)['time'].values))\n",
    "    data.append(data_)\n",
    "    \n",
    "tau = pd.DataFrame(data, columns=pd.Index(ds.scaling_params.values, name='scaling_params'),\n",
    "                   index=variables)\n",
    "tau"
   ]
  },
  {
   "cell_type": "markdown",
   "metadata": {},
   "source": [
    "### Sensitivity to time scale"
   ]
  },
  {
   "cell_type": "code",
   "execution_count": 63,
   "metadata": {},
   "outputs": [],
   "source": [
    "# load scaling params sensitivity results\n",
    "dir_path = '/Users/oberrauch/work/master/data/hef_sensitivity/'\n",
    "f_name = 'time_scale_sensitivity.nc'\n",
    "ds = pickle.load(open(os.path.join(dir_path, f_name), mode='rb'))"
   ]
  },
  {
   "cell_type": "code",
   "execution_count": 64,
   "metadata": {},
   "outputs": [
    {
     "data": {
      "image/png": "[encoded data removed]",
      "text/plain": [
       "<Figure size 360x288 with 1 Axes>"
      ]
     },
     "metadata": {
      "needs_background": "light"
     },
     "output_type": "display_data"
    }
   ],
   "source": [
    "# define variable to be plotted\n",
    "variables = ['length', 'area', 'volume']\n",
    "variables = ['volume']\n",
    "n = True\n",
    "\n",
    "for var in variables:\n",
    "    # call plotting function\n",
    "    ds_plot = ds.sel(normalized=n).isel(scaling_params=0)\n",
    "    ds_plot = ds_plot.sortby('time_scale_factor')\n",
    "    labels = [f'{f:.1f}' for f in ds_plot.time_scale_factor.values]\n",
    "    plt_time.plot_time_series(ds_plot, var=var, labels=labels, color_cycle=vas_cycle[6:],\n",
    "                              legend_title='$\\\\bf{Time\\ scale\\ factor}$', legend_loc=1,\n",
    "                              path=os.path.join(plot_dir, 'time_scales_hef.pdf'))"
   ]
  },
  {
   "cell_type": "markdown",
   "metadata": {},
   "source": [
    "**Equilibrium values**"
   ]
  },
  {
   "cell_type": "code",
   "execution_count": 65,
   "metadata": {},
   "outputs": [
    {
     "data": {
      "text/html": [
       "<div>\n",
       "<style scoped>\n",
       "    .dataframe tbody tr th:only-of-type {\n",
       "        vertical-align: middle;\n",
       "    }\n",
       "\n",
       "    .dataframe tbody tr th {\n",
       "        vertical-align: top;\n",
       "    }\n",
       "\n",
       "    .dataframe thead tr th {\n",
       "        text-align: left;\n",
       "    }\n",
       "\n",
       "    .dataframe thead tr:last-of-type th {\n",
       "        text-align: right;\n",
       "    }\n",
       "</style>\n",
       "<table border=\"1\" class=\"dataframe\">\n",
       "  <thead>\n",
       "    <tr>\n",
       "      <th></th>\n",
       "      <th colspan=\"2\" halign=\"left\">volume</th>\n",
       "    </tr>\n",
       "    <tr>\n",
       "      <th></th>\n",
       "      <th>abs</th>\n",
       "      <th>norm</th>\n",
       "    </tr>\n",
       "    <tr>\n",
       "      <th>time_scale_factor</th>\n",
       "      <th></th>\n",
       "      <th></th>\n",
       "    </tr>\n",
       "  </thead>\n",
       "  <tbody>\n",
       "    <tr>\n",
       "      <th>0.5</th>\n",
       "      <td>0.505689</td>\n",
       "      <td>0.8480479145549036</td>\n",
       "    </tr>\n",
       "    <tr>\n",
       "      <th>1.0</th>\n",
       "      <td>0.505689</td>\n",
       "      <td>0.8480480833923567</td>\n",
       "    </tr>\n",
       "    <tr>\n",
       "      <th>2.0</th>\n",
       "      <td>0.505783</td>\n",
       "      <td>0.8482050985612222</td>\n",
       "    </tr>\n",
       "  </tbody>\n",
       "</table>\n",
       "</div>"
      ],
      "text/plain": [
       "                     volume                    \n",
       "                        abs                norm\n",
       "time_scale_factor                              \n",
       "0.5                0.505689  0.8480479145549036\n",
       "1.0                0.505689  0.8480480833923567\n",
       "2.0                0.505783  0.8482050985612222"
      ]
     },
     "execution_count": 65,
     "metadata": {},
     "output_type": "execute_result"
    }
   ],
   "source": [
    "# get table with final values of volume for different time scales factors\n",
    "var = 'volume'\n",
    "mb_m = 'constant'\n",
    "data = list()\n",
    "\n",
    "for f in ds.time_scale_factor:\n",
    "        # select last volume entry from dataset by model and temperature bias\n",
    "        ds_abs = ds.sel(time_scale_factor=f, normalized=False).squeeze().isel(time=1000)[var]\n",
    "        ds_norm = ds.sel(time_scale_factor=f, normalized=True).squeeze().isel(time=1000)[var]\n",
    "        data.append([ds_abs.values/1e9, ds_norm.values])\n",
    "        \n",
    "table = pd.DataFrame(data, index=pd.Index(ds.time_scale_factor.values, name='time_scale_factor'),\n",
    "                     columns=pd.MultiIndex.from_tuples(list(zip(np.repeat(['volume'], 2),\n",
    "                                                                np.tile(['abs', 'norm'], 1)))),)\n",
    "table.sort_index()"
   ]
  },
  {
   "cell_type": "code",
   "execution_count": 66,
   "metadata": {},
   "outputs": [
    {
     "data": {
      "text/html": [
       "<div>\n",
       "<style scoped>\n",
       "    .dataframe tbody tr th:only-of-type {\n",
       "        vertical-align: middle;\n",
       "    }\n",
       "\n",
       "    .dataframe tbody tr th {\n",
       "        vertical-align: top;\n",
       "    }\n",
       "\n",
       "    .dataframe thead th {\n",
       "        text-align: right;\n",
       "    }\n",
       "</style>\n",
       "<table border=\"1\" class=\"dataframe\">\n",
       "  <thead>\n",
       "    <tr style=\"text-align: right;\">\n",
       "      <th></th>\n",
       "      <th>time_until_eq</th>\n",
       "    </tr>\n",
       "    <tr>\n",
       "      <th>time_scale_factor</th>\n",
       "      <th></th>\n",
       "    </tr>\n",
       "  </thead>\n",
       "  <tbody>\n",
       "    <tr>\n",
       "      <th>0.5</th>\n",
       "      <td>150</td>\n",
       "    </tr>\n",
       "    <tr>\n",
       "      <th>1.0</th>\n",
       "      <td>371</td>\n",
       "    </tr>\n",
       "    <tr>\n",
       "      <th>2.0</th>\n",
       "      <td>688</td>\n",
       "    </tr>\n",
       "  </tbody>\n",
       "</table>\n",
       "</div>"
      ],
      "text/plain": [
       "                   time_until_eq\n",
       "time_scale_factor               \n",
       "0.5                          150\n",
       "1.0                          371\n",
       "2.0                          688"
      ]
     },
     "execution_count": 66,
     "metadata": {},
     "output_type": "execute_result"
    }
   ],
   "source": [
    "# get table with final values of volume for different time scales factors\n",
    "var = 'volume'\n",
    "data = list()\n",
    "\n",
    "for f in ds.time_scale_factor:\n",
    "        # select last volume entry from dataset by model and temperature bias\n",
    "        geom = ds.sel(time_scale_factor=f, normalized=False).squeeze()[var]\n",
    "        geom_eq_value = ds.sel(time_scale_factor=f, normalized=False).squeeze().isel(time=slice(800,1000))[var].mean().values\n",
    "        geom_limit = geom_eq_value * 0.001\n",
    "        geom_eq = geom.where(abs(geom - geom_eq_value) < geom_limit)\n",
    "        yr = geom_eq.where(xr.ufuncs.isnan(geom_eq), drop=True).isel(time=-1).time.values+1\n",
    "        data.append(int(yr))\n",
    "\n",
    "table = pd.DataFrame(data, index=pd.Index(ds.time_scale_factor.values, name='time_scale_factor'), columns=['time_until_eq'])\n",
    "table.sort_index()    "
   ]
  },
  {
   "cell_type": "code",
   "execution_count": 70,
   "metadata": {},
   "outputs": [
    {
     "data": {
      "text/plain": [
       "<AxesSubplot:xlabel='time_scale_factor'>"
      ]
     },
     "execution_count": 70,
     "metadata": {},
     "output_type": "execute_result"
    },
    {
     "data": {
      "image/png": "[encoded data removed]",
      "text/plain": [
       "<Figure size 432x288 with 1 Axes>"
      ]
     },
     "metadata": {
      "needs_background": "light"
     },
     "output_type": "display_data"
    }
   ],
   "source": [
    "table.sort_index().plot(ls='--', marker='x')"
   ]
  },
  {
   "cell_type": "markdown",
   "metadata": {},
   "source": [
    "**Maximum values**"
   ]
  },
  {
   "cell_type": "code",
   "execution_count": 36,
   "metadata": {},
   "outputs": [
    {
     "data": {
      "text/html": [
       "<div>\n",
       "<style scoped>\n",
       "    .dataframe tbody tr th:only-of-type {\n",
       "        vertical-align: middle;\n",
       "    }\n",
       "\n",
       "    .dataframe tbody tr th {\n",
       "        vertical-align: top;\n",
       "    }\n",
       "\n",
       "    .dataframe thead th {\n",
       "        text-align: right;\n",
       "    }\n",
       "</style>\n",
       "<table border=\"1\" class=\"dataframe\">\n",
       "  <thead>\n",
       "    <tr style=\"text-align: right;\">\n",
       "      <th></th>\n",
       "      <th>abs</th>\n",
       "      <th>rel. overshoot</th>\n",
       "      <th>year</th>\n",
       "    </tr>\n",
       "    <tr>\n",
       "      <th>time_scale_factor</th>\n",
       "      <th></th>\n",
       "      <th></th>\n",
       "      <th></th>\n",
       "    </tr>\n",
       "  </thead>\n",
       "  <tbody>\n",
       "    <tr>\n",
       "      <th>0.5</th>\n",
       "      <td>0.005761</td>\n",
       "      <td>1.139278</td>\n",
       "      <td>81</td>\n",
       "    </tr>\n",
       "    <tr>\n",
       "      <th>1.0</th>\n",
       "      <td>0.025726</td>\n",
       "      <td>5.087306</td>\n",
       "      <td>82</td>\n",
       "    </tr>\n",
       "    <tr>\n",
       "      <th>2.0</th>\n",
       "      <td>0.056987</td>\n",
       "      <td>11.267106</td>\n",
       "      <td>97</td>\n",
       "    </tr>\n",
       "  </tbody>\n",
       "</table>\n",
       "</div>"
      ],
      "text/plain": [
       "                        abs  rel. overshoot  year\n",
       "time_scale_factor                                \n",
       "0.5                0.005761        1.139278    81\n",
       "1.0                0.025726        5.087306    82\n",
       "2.0                0.056987       11.267106    97"
      ]
     },
     "execution_count": 36,
     "metadata": {},
     "output_type": "execute_result"
    }
   ],
   "source": [
    "# get table with final values of volume for different time scales factors\n",
    "var = 'volume'\n",
    "dec_power = 1e9\n",
    "mb_m = 'constant'\n",
    "data = list()\n",
    "\n",
    "for f in ds.time_scale_factor:\n",
    "        # select last volume entry from dataset by model and temperature bias\n",
    "        ds_abs = ds.sel(time_scale_factor=f, normalized=False).squeeze()[var]\n",
    "        ds_norm = ds.sel(time_scale_factor=f, normalized=True).squeeze()[var]\n",
    "        abs_min = ds_abs.where(ds_abs == ds_abs.min(), drop=True)\n",
    "        abs_eq = ds_abs.isel(time=-1)\n",
    "        norm_min = ds_norm.where(ds_abs == ds_abs.min(), drop=True)\n",
    "        data.append([float(abs(abs_min.values-abs_eq.values))/dec_power, float(abs(abs_min.values-abs_eq.values)/abs_eq.values*100), int(norm_min.time.values)])\n",
    "        \n",
    "table = pd.DataFrame(data, index=pd.Index(ds.time_scale_factor.values, name='time_scale_factor'),\n",
    "                     columns=['abs', 'rel. overshoot', 'year'])\n",
    "table.sort_index()"
   ]
  },
  {
   "cell_type": "markdown",
   "metadata": {},
   "source": [
    "**Response times $\\tau$**"
   ]
  },
  {
   "cell_type": "code",
   "execution_count": 39,
   "metadata": {},
   "outputs": [
    {
     "data": {
      "text/html": [
       "<div>\n",
       "<style scoped>\n",
       "    .dataframe tbody tr th:only-of-type {\n",
       "        vertical-align: middle;\n",
       "    }\n",
       "\n",
       "    .dataframe tbody tr th {\n",
       "        vertical-align: top;\n",
       "    }\n",
       "\n",
       "    .dataframe thead th {\n",
       "        text-align: right;\n",
       "    }\n",
       "</style>\n",
       "<table border=\"1\" class=\"dataframe\">\n",
       "  <thead>\n",
       "    <tr style=\"text-align: right;\">\n",
       "      <th>time_scale_factor</th>\n",
       "      <th>0.5</th>\n",
       "      <th>1.0</th>\n",
       "      <th>2.0</th>\n",
       "    </tr>\n",
       "  </thead>\n",
       "  <tbody>\n",
       "    <tr>\n",
       "      <th>volume</th>\n",
       "      <td>24</td>\n",
       "      <td>23</td>\n",
       "      <td>22</td>\n",
       "    </tr>\n",
       "    <tr>\n",
       "      <th>area</th>\n",
       "      <td>30</td>\n",
       "      <td>34</td>\n",
       "      <td>41</td>\n",
       "    </tr>\n",
       "    <tr>\n",
       "      <th>length</th>\n",
       "      <td>42</td>\n",
       "      <td>52</td>\n",
       "      <td>67</td>\n",
       "    </tr>\n",
       "  </tbody>\n",
       "</table>\n",
       "</div>"
      ],
      "text/plain": [
       "time_scale_factor  0.5  1.0  2.0\n",
       "volume              24   23   22\n",
       "area                30   34   41\n",
       "length              42   52   67"
      ]
     },
     "execution_count": 39,
     "metadata": {},
     "output_type": "execute_result"
    }
   ],
   "source": [
    "variables = ['volume', 'area', 'length',]\n",
    "temp_biases = [-0.5, +0.5]\n",
    "data = list()\n",
    "for var in variables:\n",
    "    data_ = list()\n",
    "    for f in ds.time_scale_factor:\n",
    "        # select last volume entry from dataset by model and temperature bias\n",
    "        ds_sel = ds.sel(time_scale_factor=f, normalized=False).squeeze()\n",
    "        geom = ds_sel[var]\n",
    "        geom_eq = geom.isel(time=slice(800,1000)).mean()\n",
    "        geom_eq_dif = np.abs(geom_eq - geom.isel(time=0))\n",
    "        geom_dif = np.abs(geom_eq - geom)\n",
    "        data_.append(int(geom.where(geom_dif < geom_eq_dif*np.exp(-1), drop=True).isel(time=0)['time'].values))\n",
    "    data.append(data_)\n",
    "    \n",
    "tau = pd.DataFrame(data, columns=pd.Index(ds.time_scale_factor.values, name='time_scale_factor'),\n",
    "                   index=variables)\n",
    "tau.sort_index(axis=1)"
   ]
  },
  {
   "cell_type": "code",
   "execution_count": null,
   "metadata": {},
   "outputs": [],
   "source": []
  },
  {
   "cell_type": "code",
   "execution_count": null,
   "metadata": {},
   "outputs": [],
   "source": []
  },
  {
   "cell_type": "markdown",
   "metadata": {},
   "source": [
    "## HISTALP Sensitivity"
   ]
  },
  {
   "cell_type": "markdown",
   "metadata": {},
   "source": [
    "### Sensitivity to scaling parameters"
   ]
  },
  {
   "cell_type": "code",
   "execution_count": 138,
   "metadata": {},
   "outputs": [],
   "source": [
    "# load scaling params sensitivity results\n",
    "path = '/Users/oberrauch/work/master/data/cluster_output/scaling_params/run_output_constant_vas.nc'\n",
    "ds = pickle.load(open(path, mode='rb'))"
   ]
  },
  {
   "cell_type": "code",
   "execution_count": 139,
   "metadata": {},
   "outputs": [
    {
     "data": {
      "image/png": "[encoded data removed]",
      "text/plain": [
       "<Figure size 360x288 with 1 Axes>"
      ]
     },
     "metadata": {
      "needs_background": "light"
     },
     "output_type": "display_data"
    }
   ],
   "source": [
    "variables = ['volume']\n",
    "path = os.path.join(plot_dir, 'scaling_params_histalp.pdf')\n",
    "\n",
    "for var in variables:\n",
    "    # call plotting function\n",
    "    titles = ['Global\\ values', 'HISTALP\\ constants', 'HISTALP\\ const. &\\  exp.']\n",
    "    ds_plot = ds.sel(normalized=True, time_scale_factor=1)\n",
    "    labels = [f'$\\\\bf{{{t}}}$\\n$c_L$={c_l:.3f}, $q$={q:.3f}\\n$c_A$={c_a:.3f}, $\\gamma$={gamma:.3f};'\n",
    "              for t, (c_l, c_a, q, gamma) in zip(titles, ds_plot.scaling_params.values)]\n",
    "    plt_time.plot_time_series(ds_plot, var=var, labels=labels, color_cycle=vas_cycle[[0,4,8]],\n",
    "                              legend_loc=1,\n",
    "                              path=path)"
   ]
  },
  {
   "cell_type": "code",
   "execution_count": 140,
   "metadata": {},
   "outputs": [
    {
     "data": {
      "image/png": "[encoded data removed]",
      "text/plain": [
       "<Figure size 360x288 with 1 Axes>"
      ]
     },
     "metadata": {
      "needs_background": "light"
     },
     "output_type": "display_data"
    },
    {
     "data": {
      "image/png": "[encoded data removed]",
      "text/plain": [
       "<Figure size 360x288 with 1 Axes>"
      ]
     },
     "metadata": {
      "needs_background": "light"
     },
     "output_type": "display_data"
    },
    {
     "data": {
      "image/png": "[encoded data removed]",
      "text/plain": [
       "<Figure size 360x288 with 1 Axes>"
      ]
     },
     "metadata": {
      "needs_background": "light"
     },
     "output_type": "display_data"
    }
   ],
   "source": [
    "variables = ['volume', 'area', 'length']\n",
    "path = False\n",
    "\n",
    "for var in variables:\n",
    "    # call plotting function\n",
    "    titles = ['Global\\ values', 'HISTALP\\ constants', 'HISTALP\\ const. &\\  exp.']\n",
    "    ds_plot = ds.sel(normalized=False, time_scale_factor=1)\n",
    "    labels = [f'$\\\\bf{{{t}}}$\\n$c_L$={c_l:.3f}, $q$={q:.3f}\\n$c_A$={c_a:.3f}, $\\gamma$={gamma:.3f};'\n",
    "              for t, (c_l, c_a, q, gamma) in zip(titles, ds_plot.scaling_params.values)]\n",
    "    plt_time.plot_time_series(ds_plot, var=var, labels=labels, color_cycle=vas_cycle[[0,4,8]],\n",
    "                              legend_loc=1, path=path)"
   ]
  },
  {
   "cell_type": "markdown",
   "metadata": {},
   "source": [
    "**Equilibrium values**"
   ]
  },
  {
   "cell_type": "code",
   "execution_count": 141,
   "metadata": {},
   "outputs": [
    {
     "data": {
      "text/html": [
       "<div>\n",
       "<style scoped>\n",
       "    .dataframe tbody tr th:only-of-type {\n",
       "        vertical-align: middle;\n",
       "    }\n",
       "\n",
       "    .dataframe tbody tr th {\n",
       "        vertical-align: top;\n",
       "    }\n",
       "\n",
       "    .dataframe thead tr th {\n",
       "        text-align: left;\n",
       "    }\n",
       "\n",
       "    .dataframe thead tr:last-of-type th {\n",
       "        text-align: right;\n",
       "    }\n",
       "</style>\n",
       "<table border=\"1\" class=\"dataframe\">\n",
       "  <thead>\n",
       "    <tr>\n",
       "      <th></th>\n",
       "      <th colspan=\"2\" halign=\"left\">volume</th>\n",
       "    </tr>\n",
       "    <tr>\n",
       "      <th></th>\n",
       "      <th>abs</th>\n",
       "      <th>norm</th>\n",
       "    </tr>\n",
       "    <tr>\n",
       "      <th>scaling_params</th>\n",
       "      <th></th>\n",
       "      <th></th>\n",
       "    </tr>\n",
       "  </thead>\n",
       "  <tbody>\n",
       "    <tr>\n",
       "      <th>(4.551, 0.191, 2.2, 1.375)</th>\n",
       "      <td>105.359539</td>\n",
       "      <td>0.80744089621456</td>\n",
       "    </tr>\n",
       "    <tr>\n",
       "      <th>(1.747, 0.249, 2.2, 1.375)</th>\n",
       "      <td>137.350549</td>\n",
       "      <td>0.8074233395615318</td>\n",
       "    </tr>\n",
       "    <tr>\n",
       "      <th>(0.225, 0.117, 2.525, 1.441)</th>\n",
       "      <td>182.412935</td>\n",
       "      <td>0.794038781992696</td>\n",
       "    </tr>\n",
       "  </tbody>\n",
       "</table>\n",
       "</div>"
      ],
      "text/plain": [
       "                                  volume                    \n",
       "                                     abs                norm\n",
       "scaling_params                                              \n",
       "(4.551, 0.191, 2.2, 1.375)    105.359539    0.80744089621456\n",
       "(1.747, 0.249, 2.2, 1.375)    137.350549  0.8074233395615318\n",
       "(0.225, 0.117, 2.525, 1.441)  182.412935   0.794038781992696"
      ]
     },
     "execution_count": 141,
     "metadata": {},
     "output_type": "execute_result"
    }
   ],
   "source": [
    "# get table with final values of volume for different time scales factors\n",
    "var = 'volume'\n",
    "mb_m = 'constant'\n",
    "data = list()\n",
    "\n",
    "for p in ds.scaling_params:\n",
    "        # select last volume entry from dataset by model and temperature bias\n",
    "        ds_abs = ds.sel(scaling_params=p, normalized=False).squeeze().isel(time=1000)[var]\n",
    "        ds_norm = ds.sel(scaling_params=p, normalized=True).squeeze().isel(time=1000)[var]\n",
    "        data.append([ds_abs.values/1e9, ds_norm.values])\n",
    "        \n",
    "table = pd.DataFrame(data, index=pd.Index(ds.scaling_params.values, name='scaling_params'),\n",
    "                     columns=pd.MultiIndex.from_tuples(list(zip(np.repeat(['volume'], 2),\n",
    "                                                                np.tile(['abs', 'norm'], 1)))),)\n",
    "table"
   ]
  },
  {
   "cell_type": "code",
   "execution_count": 143,
   "metadata": {},
   "outputs": [
    {
     "data": {
      "text/html": [
       "<div>\n",
       "<style scoped>\n",
       "    .dataframe tbody tr th:only-of-type {\n",
       "        vertical-align: middle;\n",
       "    }\n",
       "\n",
       "    .dataframe tbody tr th {\n",
       "        vertical-align: top;\n",
       "    }\n",
       "\n",
       "    .dataframe thead tr th {\n",
       "        text-align: left;\n",
       "    }\n",
       "\n",
       "    .dataframe thead tr:last-of-type th {\n",
       "        text-align: right;\n",
       "    }\n",
       "</style>\n",
       "<table border=\"1\" class=\"dataframe\">\n",
       "  <thead>\n",
       "    <tr>\n",
       "      <th></th>\n",
       "      <th colspan=\"3\" halign=\"left\">volume</th>\n",
       "    </tr>\n",
       "    <tr>\n",
       "      <th></th>\n",
       "      <th>init</th>\n",
       "      <th>eq</th>\n",
       "      <th>diff</th>\n",
       "    </tr>\n",
       "    <tr>\n",
       "      <th>scaling_params</th>\n",
       "      <th></th>\n",
       "      <th></th>\n",
       "      <th></th>\n",
       "    </tr>\n",
       "  </thead>\n",
       "  <tbody>\n",
       "    <tr>\n",
       "      <th>(4.551, 0.191, 2.2, 1.375)</th>\n",
       "      <td>130.485760</td>\n",
       "      <td>105.359539</td>\n",
       "      <td>-25.126221</td>\n",
       "    </tr>\n",
       "    <tr>\n",
       "      <th>(1.747, 0.249, 2.2, 1.375)</th>\n",
       "      <td>170.109709</td>\n",
       "      <td>137.350549</td>\n",
       "      <td>-32.759160</td>\n",
       "    </tr>\n",
       "    <tr>\n",
       "      <th>(0.225, 0.117, 2.525, 1.441)</th>\n",
       "      <td>229.727992</td>\n",
       "      <td>182.412935</td>\n",
       "      <td>-47.315057</td>\n",
       "    </tr>\n",
       "  </tbody>\n",
       "</table>\n",
       "</div>"
      ],
      "text/plain": [
       "                                  volume                       \n",
       "                                    init          eq       diff\n",
       "scaling_params                                                 \n",
       "(4.551, 0.191, 2.2, 1.375)    130.485760  105.359539 -25.126221\n",
       "(1.747, 0.249, 2.2, 1.375)    170.109709  137.350549 -32.759160\n",
       "(0.225, 0.117, 2.525, 1.441)  229.727992  182.412935 -47.315057"
      ]
     },
     "execution_count": 143,
     "metadata": {},
     "output_type": "execute_result"
    }
   ],
   "source": [
    "# get table with initial and final values as well as the difference between the two\n",
    "var = 'volume'\n",
    "n = False\n",
    "dec_power = 1e9\n",
    "\n",
    "\n",
    "data = list()\n",
    "\n",
    "for p in ds.scaling_params:\n",
    "        # select last volume entry from dataset by model and temperature bias\n",
    "        ds_eq = ds.sel(scaling_params=p, normalized=n).squeeze().isel(time=1000)[var]\n",
    "        ds_init = ds.sel(scaling_params=p, normalized=n).squeeze().isel(time=0)[var]\n",
    "        data.append([ds_init.values/dec_power, ds_eq.values/dec_power, ds_eq.values/dec_power - ds_init.values/dec_power])\n",
    "        \n",
    "table = pd.DataFrame(data, index=pd.Index(ds.scaling_params.values, name='scaling_params'),\n",
    "                     columns=pd.MultiIndex.from_tuples(list(zip(np.repeat([var], 3),\n",
    "                                                                np.tile(['init', 'eq', 'diff'], 1)))),)\n",
    "table"
   ]
  },
  {
   "cell_type": "markdown",
   "metadata": {},
   "source": [
    "**Maximum values**"
   ]
  },
  {
   "cell_type": "code",
   "execution_count": 114,
   "metadata": {},
   "outputs": [
    {
     "data": {
      "text/html": [
       "<div>\n",
       "<style scoped>\n",
       "    .dataframe tbody tr th:only-of-type {\n",
       "        vertical-align: middle;\n",
       "    }\n",
       "\n",
       "    .dataframe tbody tr th {\n",
       "        vertical-align: top;\n",
       "    }\n",
       "\n",
       "    .dataframe thead th {\n",
       "        text-align: right;\n",
       "    }\n",
       "</style>\n",
       "<table border=\"1\" class=\"dataframe\">\n",
       "  <thead>\n",
       "    <tr style=\"text-align: right;\">\n",
       "      <th></th>\n",
       "      <th>abs</th>\n",
       "      <th>rel. overshoot</th>\n",
       "      <th>year</th>\n",
       "    </tr>\n",
       "    <tr>\n",
       "      <th>time_scale_factor</th>\n",
       "      <th></th>\n",
       "      <th></th>\n",
       "      <th></th>\n",
       "    </tr>\n",
       "  </thead>\n",
       "  <tbody>\n",
       "    <tr>\n",
       "      <th>(0.225, 0.117, 2.525, 1.441)</th>\n",
       "      <td>4.858937</td>\n",
       "      <td>2.663702</td>\n",
       "      <td>175</td>\n",
       "    </tr>\n",
       "    <tr>\n",
       "      <th>(1.747, 0.249, 2.2, 1.375)</th>\n",
       "      <td>4.111627</td>\n",
       "      <td>2.993528</td>\n",
       "      <td>109</td>\n",
       "    </tr>\n",
       "    <tr>\n",
       "      <th>(4.551, 0.191, 2.2, 1.375)</th>\n",
       "      <td>3.156362</td>\n",
       "      <td>2.995800</td>\n",
       "      <td>83</td>\n",
       "    </tr>\n",
       "  </tbody>\n",
       "</table>\n",
       "</div>"
      ],
      "text/plain": [
       "                                   abs  rel. overshoot  year\n",
       "time_scale_factor                                           \n",
       "(0.225, 0.117, 2.525, 1.441)  4.858937        2.663702   175\n",
       "(1.747, 0.249, 2.2, 1.375)    4.111627        2.993528   109\n",
       "(4.551, 0.191, 2.2, 1.375)    3.156362        2.995800    83"
      ]
     },
     "execution_count": 114,
     "metadata": {},
     "output_type": "execute_result"
    }
   ],
   "source": [
    "# get table with final values of volume for different time scales factors\n",
    "var = 'volume'\n",
    "dec_power = 1e9\n",
    "mb_m = 'constant'\n",
    "data = list()\n",
    "\n",
    "for p in ds.scaling_params:\n",
    "        # select last volume entry from dataset by model and temperature bias\n",
    "        ds_abs = ds.sel(scaling_params=p, normalized=False).squeeze()[var]\n",
    "        ds_norm = ds.sel(scaling_params=p, normalized=True).squeeze()[var]\n",
    "        abs_min = ds_abs.where(ds_abs == ds_abs.min(), drop=True)\n",
    "        abs_eq = ds_abs.isel(time=-1)\n",
    "        norm_min = ds_norm.where(ds_abs == ds_abs.min(), drop=True)\n",
    "        data.append([float(abs(abs_min.values-abs_eq.values))/dec_power, float(abs(abs_min.values-abs_eq.values)/abs_eq.values*100), int(norm_min.time.values)])\n",
    "    \n",
    "table = pd.DataFrame(data, index=pd.Index(ds.scaling_params.values, name='time_scale_factor'),\n",
    "                     columns=['abs', 'rel. overshoot', 'year'])\n",
    "table.sort_index()"
   ]
  },
  {
   "cell_type": "markdown",
   "metadata": {},
   "source": [
    "**Response times $\\tau$**"
   ]
  },
  {
   "cell_type": "code",
   "execution_count": 115,
   "metadata": {},
   "outputs": [
    {
     "data": {
      "text/html": [
       "<div>\n",
       "<style scoped>\n",
       "    .dataframe tbody tr th:only-of-type {\n",
       "        vertical-align: middle;\n",
       "    }\n",
       "\n",
       "    .dataframe tbody tr th {\n",
       "        vertical-align: top;\n",
       "    }\n",
       "\n",
       "    .dataframe thead th {\n",
       "        text-align: right;\n",
       "    }\n",
       "</style>\n",
       "<table border=\"1\" class=\"dataframe\">\n",
       "  <thead>\n",
       "    <tr style=\"text-align: right;\">\n",
       "      <th>scaling_params</th>\n",
       "      <th>(4.551, 0.191, 2.2, 1.375)</th>\n",
       "      <th>(1.747, 0.249, 2.2, 1.375)</th>\n",
       "      <th>(0.225, 0.117, 2.525, 1.441)</th>\n",
       "    </tr>\n",
       "  </thead>\n",
       "  <tbody>\n",
       "    <tr>\n",
       "      <th>volume</th>\n",
       "      <td>20</td>\n",
       "      <td>27</td>\n",
       "      <td>41</td>\n",
       "    </tr>\n",
       "    <tr>\n",
       "      <th>area</th>\n",
       "      <td>27</td>\n",
       "      <td>29</td>\n",
       "      <td>40</td>\n",
       "    </tr>\n",
       "    <tr>\n",
       "      <th>length</th>\n",
       "      <td>30</td>\n",
       "      <td>42</td>\n",
       "      <td>48</td>\n",
       "    </tr>\n",
       "  </tbody>\n",
       "</table>\n",
       "</div>"
      ],
      "text/plain": [
       "scaling_params  (4.551, 0.191, 2.2, 1.375)  (1.747, 0.249, 2.2, 1.375)  \\\n",
       "volume                                  20                          27   \n",
       "area                                    27                          29   \n",
       "length                                  30                          42   \n",
       "\n",
       "scaling_params  (0.225, 0.117, 2.525, 1.441)  \n",
       "volume                                    41  \n",
       "area                                      40  \n",
       "length                                    48  "
      ]
     },
     "execution_count": 115,
     "metadata": {},
     "output_type": "execute_result"
    }
   ],
   "source": [
    "variables = ['volume', 'area', 'length',]\n",
    "temp_biases = [-0.5, +0.5]\n",
    "data = list()\n",
    "for var in variables:\n",
    "    data_ = list()\n",
    "    for p in ds.scaling_params:\n",
    "        # select last volume entry from dataset by model and temperature bias\n",
    "        ds_sel = ds.sel(scaling_params=p, normalized=False).squeeze()\n",
    "        geom = ds_sel[var]\n",
    "        geom_eq = geom.isel(time=slice(800,1000)).mean()\n",
    "        geom_eq_dif = np.abs(geom_eq - geom.isel(time=0))\n",
    "        geom_dif = np.abs(geom_eq - geom)\n",
    "        data_.append(int(geom.where(geom_dif < geom_eq_dif*np.exp(-1), drop=True).isel(time=0)['time'].values))\n",
    "    data.append(data_)\n",
    "    \n",
    "tau = pd.DataFrame(data, columns=pd.Index(ds.scaling_params.values, name='scaling_params'),\n",
    "                   index=variables)\n",
    "tau"
   ]
  },
  {
   "cell_type": "markdown",
   "metadata": {},
   "source": [
    "### Sensitivity to time scale"
   ]
  },
  {
   "cell_type": "code",
   "execution_count": 116,
   "metadata": {},
   "outputs": [],
   "source": [
    "# load time scale sensitivity results\n",
    "path = '/Users/oberrauch/work/master/data/cluster_output/timescale_sensitivity/run_output_constant_vas.nc'\n",
    "ds = pickle.load(open(path, mode='rb'))"
   ]
  },
  {
   "cell_type": "code",
   "execution_count": 117,
   "metadata": {},
   "outputs": [
    {
     "data": {
      "image/png": "[encoded data removed]",
      "text/plain": [
       "<Figure size 360x288 with 1 Axes>"
      ]
     },
     "metadata": {
      "needs_background": "light"
     },
     "output_type": "display_data"
    }
   ],
   "source": [
    "# call plotting function\n",
    "ds_plot = ds.sel(normalized=True).isel(scaling_params=0)\n",
    "ds_plot = ds_plot.sortby('time_scale_factor')\n",
    "labels = [f'{f:.1f}' for f in ds_plot.time_scale_factor.values]\n",
    "plt_time.plot_time_series(ds_plot, var='volume', labels=labels, color_cycle=vas_cycle[[0,4,8]],\n",
    "                          legend_title='$\\\\bf{Time\\ scale\\ factor}$', legend_loc=1,\n",
    "                          path=os.path.join(plot_dir, 'time_scales_histalp.pdf'))"
   ]
  },
  {
   "cell_type": "markdown",
   "metadata": {},
   "source": [
    "**Equilibrium values**"
   ]
  },
  {
   "cell_type": "code",
   "execution_count": 118,
   "metadata": {},
   "outputs": [
    {
     "data": {
      "text/html": [
       "<div>\n",
       "<style scoped>\n",
       "    .dataframe tbody tr th:only-of-type {\n",
       "        vertical-align: middle;\n",
       "    }\n",
       "\n",
       "    .dataframe tbody tr th {\n",
       "        vertical-align: top;\n",
       "    }\n",
       "\n",
       "    .dataframe thead tr th {\n",
       "        text-align: left;\n",
       "    }\n",
       "\n",
       "    .dataframe thead tr:last-of-type th {\n",
       "        text-align: right;\n",
       "    }\n",
       "</style>\n",
       "<table border=\"1\" class=\"dataframe\">\n",
       "  <thead>\n",
       "    <tr>\n",
       "      <th></th>\n",
       "      <th colspan=\"2\" halign=\"left\">volume</th>\n",
       "    </tr>\n",
       "    <tr>\n",
       "      <th></th>\n",
       "      <th>abs</th>\n",
       "      <th>norm</th>\n",
       "    </tr>\n",
       "    <tr>\n",
       "      <th>time_scale_factor</th>\n",
       "      <th></th>\n",
       "      <th></th>\n",
       "    </tr>\n",
       "  </thead>\n",
       "  <tbody>\n",
       "    <tr>\n",
       "      <th>0.5</th>\n",
       "      <td>105.359270</td>\n",
       "      <td>0.8074388316639997</td>\n",
       "    </tr>\n",
       "    <tr>\n",
       "      <th>1.0</th>\n",
       "      <td>105.359539</td>\n",
       "      <td>0.80744089621456</td>\n",
       "    </tr>\n",
       "    <tr>\n",
       "      <th>2.0</th>\n",
       "      <td>105.336012</td>\n",
       "      <td>0.8072605885871897</td>\n",
       "    </tr>\n",
       "  </tbody>\n",
       "</table>\n",
       "</div>"
      ],
      "text/plain": [
       "                       volume                    \n",
       "                          abs                norm\n",
       "time_scale_factor                                \n",
       "0.5                105.359270  0.8074388316639997\n",
       "1.0                105.359539    0.80744089621456\n",
       "2.0                105.336012  0.8072605885871897"
      ]
     },
     "execution_count": 118,
     "metadata": {},
     "output_type": "execute_result"
    }
   ],
   "source": [
    "# get table with final values of volume for different time scales factors\n",
    "var = 'volume'\n",
    "mb_m = 'constant'\n",
    "data = list()\n",
    "\n",
    "for f in ds.time_scale_factor:\n",
    "        # select last volume entry from dataset by model and temperature bias\n",
    "        ds_abs = ds.sel(time_scale_factor=f, normalized=False).squeeze().isel(time=1000)[var]\n",
    "        ds_norm = ds.sel(time_scale_factor=f, normalized=True).squeeze().isel(time=1000)[var]\n",
    "        data.append([ds_abs.values/1e9, ds_norm.values])\n",
    "        \n",
    "table = pd.DataFrame(data, index=pd.Index(ds.time_scale_factor.values, name='time_scale_factor'),\n",
    "                     columns=pd.MultiIndex.from_tuples(list(zip(np.repeat(['volume'], 2),\n",
    "                                                                np.tile(['abs', 'norm'], 1)))),)\n",
    "table.sort_index()"
   ]
  },
  {
   "cell_type": "code",
   "execution_count": 119,
   "metadata": {},
   "outputs": [
    {
     "data": {
      "text/html": [
       "<div>\n",
       "<style scoped>\n",
       "    .dataframe tbody tr th:only-of-type {\n",
       "        vertical-align: middle;\n",
       "    }\n",
       "\n",
       "    .dataframe tbody tr th {\n",
       "        vertical-align: top;\n",
       "    }\n",
       "\n",
       "    .dataframe thead th {\n",
       "        text-align: right;\n",
       "    }\n",
       "</style>\n",
       "<table border=\"1\" class=\"dataframe\">\n",
       "  <thead>\n",
       "    <tr style=\"text-align: right;\">\n",
       "      <th></th>\n",
       "      <th>time_until_eq</th>\n",
       "    </tr>\n",
       "    <tr>\n",
       "      <th>time_scale_factor</th>\n",
       "      <th></th>\n",
       "    </tr>\n",
       "  </thead>\n",
       "  <tbody>\n",
       "    <tr>\n",
       "      <th>0.5</th>\n",
       "      <td>133</td>\n",
       "    </tr>\n",
       "    <tr>\n",
       "      <th>1.0</th>\n",
       "      <td>335</td>\n",
       "    </tr>\n",
       "    <tr>\n",
       "      <th>2.0</th>\n",
       "      <td>642</td>\n",
       "    </tr>\n",
       "  </tbody>\n",
       "</table>\n",
       "</div>"
      ],
      "text/plain": [
       "                   time_until_eq\n",
       "time_scale_factor               \n",
       "0.5                          133\n",
       "1.0                          335\n",
       "2.0                          642"
      ]
     },
     "execution_count": 119,
     "metadata": {},
     "output_type": "execute_result"
    }
   ],
   "source": [
    "# get table with final values of volume for different time scales factors\n",
    "var = 'volume'\n",
    "data = list()\n",
    "\n",
    "for f in ds.time_scale_factor:\n",
    "        # select last volume entry from dataset by model and temperature bias\n",
    "        geom = ds.sel(time_scale_factor=f, normalized=False).squeeze()[var]\n",
    "        geom_eq_value = ds.sel(time_scale_factor=f, normalized=False).squeeze().isel(time=-1)[var].mean().values\n",
    "        geom_limit = geom_eq_value * 0.001\n",
    "        geom_eq = geom.where(abs(geom - geom_eq_value) < geom_limit)\n",
    "        yr = geom_eq.where(xr.ufuncs.isnan(geom_eq), drop=True).isel(time=-1).time.values+1\n",
    "        data.append(int(yr))\n",
    "\n",
    "table = pd.DataFrame(data, index=pd.Index(ds.time_scale_factor.values, name='time_scale_factor'), columns=['time_until_eq'])\n",
    "table.sort_index()    "
   ]
  },
  {
   "cell_type": "markdown",
   "metadata": {},
   "source": [
    "**Maximum values**"
   ]
  },
  {
   "cell_type": "code",
   "execution_count": 120,
   "metadata": {},
   "outputs": [
    {
     "data": {
      "text/html": [
       "<div>\n",
       "<style scoped>\n",
       "    .dataframe tbody tr th:only-of-type {\n",
       "        vertical-align: middle;\n",
       "    }\n",
       "\n",
       "    .dataframe tbody tr th {\n",
       "        vertical-align: top;\n",
       "    }\n",
       "\n",
       "    .dataframe thead th {\n",
       "        text-align: right;\n",
       "    }\n",
       "</style>\n",
       "<table border=\"1\" class=\"dataframe\">\n",
       "  <thead>\n",
       "    <tr style=\"text-align: right;\">\n",
       "      <th></th>\n",
       "      <th>abs</th>\n",
       "      <th>rel. overshoot</th>\n",
       "      <th>year</th>\n",
       "    </tr>\n",
       "    <tr>\n",
       "      <th>time_scale_factor</th>\n",
       "      <th></th>\n",
       "      <th></th>\n",
       "      <th></th>\n",
       "    </tr>\n",
       "  </thead>\n",
       "  <tbody>\n",
       "    <tr>\n",
       "      <th>0.5</th>\n",
       "      <td>0.211398</td>\n",
       "      <td>0.200645</td>\n",
       "      <td>103</td>\n",
       "    </tr>\n",
       "    <tr>\n",
       "      <th>1.0</th>\n",
       "      <td>3.156362</td>\n",
       "      <td>2.995800</td>\n",
       "      <td>83</td>\n",
       "    </tr>\n",
       "    <tr>\n",
       "      <th>2.0</th>\n",
       "      <td>8.476486</td>\n",
       "      <td>8.047092</td>\n",
       "      <td>87</td>\n",
       "    </tr>\n",
       "  </tbody>\n",
       "</table>\n",
       "</div>"
      ],
      "text/plain": [
       "                        abs  rel. overshoot  year\n",
       "time_scale_factor                                \n",
       "0.5                0.211398        0.200645   103\n",
       "1.0                3.156362        2.995800    83\n",
       "2.0                8.476486        8.047092    87"
      ]
     },
     "execution_count": 120,
     "metadata": {},
     "output_type": "execute_result"
    }
   ],
   "source": [
    "# get table with final values of volume for different time scales factors\n",
    "var = 'volume'\n",
    "dec_power = 1e9\n",
    "mb_m = 'constant'\n",
    "data = list()\n",
    "\n",
    "for f in ds.time_scale_factor:\n",
    "        # select last volume entry from dataset by model and temperature bias\n",
    "        ds_abs = ds.sel(time_scale_factor=f, normalized=False).squeeze()[var]\n",
    "        ds_norm = ds.sel(time_scale_factor=f, normalized=True).squeeze()[var]\n",
    "        abs_min = ds_abs.where(ds_abs == ds_abs.min(), drop=True)\n",
    "        abs_eq = ds_abs.isel(time=-1)\n",
    "        norm_min = ds_norm.where(ds_abs == ds_abs.min(), drop=True)\n",
    "        data.append([float(abs(abs_min.values-abs_eq.values))/dec_power, float(abs(abs_min.values-abs_eq.values)/abs_eq.values*100), int(norm_min.time.values)])\n",
    "        \n",
    "table = pd.DataFrame(data, index=pd.Index(ds.time_scale_factor.values, name='time_scale_factor'),\n",
    "                     columns=['abs', 'rel. overshoot', 'year'])\n",
    "table.sort_index()"
   ]
  },
  {
   "cell_type": "markdown",
   "metadata": {},
   "source": [
    "**Response times $\\tau$**"
   ]
  },
  {
   "cell_type": "code",
   "execution_count": 121,
   "metadata": {},
   "outputs": [
    {
     "data": {
      "text/html": [
       "<div>\n",
       "<style scoped>\n",
       "    .dataframe tbody tr th:only-of-type {\n",
       "        vertical-align: middle;\n",
       "    }\n",
       "\n",
       "    .dataframe tbody tr th {\n",
       "        vertical-align: top;\n",
       "    }\n",
       "\n",
       "    .dataframe thead th {\n",
       "        text-align: right;\n",
       "    }\n",
       "</style>\n",
       "<table border=\"1\" class=\"dataframe\">\n",
       "  <thead>\n",
       "    <tr style=\"text-align: right;\">\n",
       "      <th>time_scale_factor</th>\n",
       "      <th>1.0</th>\n",
       "      <th>0.5</th>\n",
       "      <th>2.0</th>\n",
       "    </tr>\n",
       "  </thead>\n",
       "  <tbody>\n",
       "    <tr>\n",
       "      <th>volume</th>\n",
       "      <td>20</td>\n",
       "      <td>23</td>\n",
       "      <td>19</td>\n",
       "    </tr>\n",
       "    <tr>\n",
       "      <th>area</th>\n",
       "      <td>27</td>\n",
       "      <td>26</td>\n",
       "      <td>31</td>\n",
       "    </tr>\n",
       "    <tr>\n",
       "      <th>length</th>\n",
       "      <td>30</td>\n",
       "      <td>29</td>\n",
       "      <td>32</td>\n",
       "    </tr>\n",
       "  </tbody>\n",
       "</table>\n",
       "</div>"
      ],
      "text/plain": [
       "time_scale_factor  1.0  0.5  2.0\n",
       "volume              20   23   19\n",
       "area                27   26   31\n",
       "length              30   29   32"
      ]
     },
     "execution_count": 121,
     "metadata": {},
     "output_type": "execute_result"
    }
   ],
   "source": [
    "variables = ['volume', 'area', 'length',]\n",
    "temp_biases = [-0.5, +0.5]\n",
    "data = list()\n",
    "for var in variables:\n",
    "    data_ = list()\n",
    "    for f in ds.time_scale_factor:\n",
    "        # select last volume entry from dataset by model and temperature bias\n",
    "        ds_sel = ds.sel(time_scale_factor=f, normalized=False).squeeze()\n",
    "        geom = ds_sel[var]\n",
    "        geom_eq = geom.isel(time=slice(800,1000)).mean()\n",
    "        geom_eq_dif = np.abs(geom_eq - geom.isel(time=0))\n",
    "        geom_dif = np.abs(geom_eq - geom)\n",
    "        data_.append(int(geom.where(geom_dif < geom_eq_dif*np.exp(-1), drop=True).isel(time=0)['time'].values))\n",
    "    data.append(data_)\n",
    "    \n",
    "tau = pd.DataFrame(data, columns=pd.Index(ds.time_scale_factor.values, name='time_scale_factor'),\n",
    "                   index=variables)\n",
    "tau"
   ]
  },
  {
   "cell_type": "code",
   "execution_count": null,
   "metadata": {},
   "outputs": [],
   "source": []
  },
  {
   "cell_type": "code",
   "execution_count": null,
   "metadata": {},
   "outputs": [],
   "source": []
  },
  {
   "cell_type": "code",
   "execution_count": null,
   "metadata": {},
   "outputs": [],
   "source": []
  },
  {
   "cell_type": "markdown",
   "metadata": {},
   "source": [
    "## Test"
   ]
  },
  {
   "cell_type": "markdown",
   "metadata": {},
   "source": [
    "### Sensitivity to time scale"
   ]
  },
  {
   "cell_type": "code",
   "execution_count": 31,
   "metadata": {},
   "outputs": [],
   "source": [
    "dir_path = '/Users/oberrauch/work/master/data/'\n",
    "# load time scale sensitivity results\n",
    "f_name = 'timescale_sensitivity/run_output_constant_vas.nc'\n",
    "ds_ts = pickle.load(open(os.path.join(dir_path, f_name), mode='rb'))\n",
    "# load scaling params sensitivity results\n",
    "f_name = 'scaling_params/run_output_constant_vas.nc'\n",
    "ds_sc = pickle.load(open(os.path.join(dir_path, f_name), mode='rb'))"
   ]
  },
  {
   "cell_type": "code",
   "execution_count": 32,
   "metadata": {},
   "outputs": [
    {
     "data": {
      "text/plain": [
       "[<matplotlib.lines.Line2D at 0x141a97d30>]"
      ]
     },
     "execution_count": 32,
     "metadata": {},
     "output_type": "execute_result"
    },
    {
     "data": {
      "image/png": "[encoded data removed]",
      "text/plain": [
       "<Figure size 432x288 with 1 Axes>"
      ]
     },
     "metadata": {
      "needs_background": "light"
     },
     "output_type": "display_data"
    }
   ],
   "source": [
    "ds_sc.sel(scaling_params=ds_ts.scaling_params, normalized=False).volume.plot()\n",
    "ds_ts.sel(time_scale_factor=ds_sc.time_scale_factor, normalized=False).volume.plot()"
   ]
  },
  {
   "cell_type": "code",
   "execution_count": 33,
   "metadata": {},
   "outputs": [
    {
     "data": {
      "image/png": "[encoded data removed]",
      "text/plain": [
       "<Figure size 432x288 with 1 Axes>"
      ]
     },
     "metadata": {
      "needs_background": "light"
     },
     "output_type": "display_data"
    }
   ],
   "source": [
    "ds_sc.sel(normalized=True).squeeze().volume.plot.line(x='time')\n",
    "ds_ts.sel(normalized=True).squeeze().volume.plot.line(x='time')\n",
    "plt.grid()"
   ]
  },
  {
   "cell_type": "code",
   "execution_count": 34,
   "metadata": {},
   "outputs": [
    {
     "data": {
      "image/png": "[encoded data removed]",
      "text/plain": [
       "<Figure size 360x288 with 1 Axes>"
      ]
     },
     "metadata": {
      "needs_background": "light"
     },
     "output_type": "display_data"
    },
    {
     "data": {
      "image/png": "[encoded data removed]",
      "text/plain": [
       "<Figure size 360x288 with 1 Axes>"
      ]
     },
     "metadata": {
      "needs_background": "light"
     },
     "output_type": "display_data"
    },
    {
     "data": {
      "image/png": "[encoded data removed]",
      "text/plain": [
       "<Figure size 360x288 with 1 Axes>"
      ]
     },
     "metadata": {
      "needs_background": "light"
     },
     "output_type": "display_data"
    }
   ],
   "source": [
    "# define variable to be plotted\n",
    "variables = ['length', 'area', 'volume']\n",
    "n = False\n",
    "\n",
    "for var in variables:\n",
    "    # call plotting function\n",
    "    ds_plot = ds.sel(normalized=n).isel(scaling_params=0)\n",
    "    ds_plot = ds_plot.sortby('time_scale_factor')\n",
    "    labels = [f'{f:.1f}' for f in ds_plot.time_scale_factor.values]\n",
    "    plt_time.plot_time_series(ds_plot, var=var, labels=labels,\n",
    "                              color_cycle=vas_cycle, legend_title='$\\\\bf{Time\\ scale\\ factor}$')"
   ]
  },
  {
   "cell_type": "code",
   "execution_count": 35,
   "metadata": {},
   "outputs": [
    {
     "ename": "NameError",
     "evalue": "name 'time_scale_factor' is not defined",
     "output_type": "error",
     "traceback": [
      "\u001b[0;31m---------------------------------------------------------------------------\u001b[0m",
      "\u001b[0;31mNameError\u001b[0m                                 Traceback (most recent call last)",
      "\u001b[0;32m<ipython-input-35-6e00cf08cf11>\u001b[0m in \u001b[0;36m<module>\u001b[0;34m\u001b[0m\n\u001b[0;32m----> 1\u001b[0;31m \u001b[0mtime_scale_factor\u001b[0m\u001b[0;34m\u001b[0m\u001b[0;34m\u001b[0m\u001b[0m\n\u001b[0m",
      "\u001b[0;31mNameError\u001b[0m: name 'time_scale_factor' is not defined"
     ]
    }
   ],
   "source": [
    "time_scale_factor"
   ]
  }
 ],
 "metadata": {
  "kernelspec": {
   "display_name": "Python 3",
   "language": "python",
   "name": "python3"
  },
  "language_info": {
   "codemirror_mode": {
    "name": "ipython",
    "version": 3
   },
   "file_extension": ".py",
   "mimetype": "text/x-python",
   "name": "python",
   "nbconvert_exporter": "python",
   "pygments_lexer": "ipython3",
   "version": "3.6.7"
  }
 },
 "nbformat": 4,
 "nbformat_minor": 4
}
