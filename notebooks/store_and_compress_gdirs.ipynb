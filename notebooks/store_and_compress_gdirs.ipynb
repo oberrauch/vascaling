{
 "cells": [
  {
   "cell_type": "markdown",
   "metadata": {},
   "source": [
    "# Storing and compressing glacier directories for later use"
   ]
  },
  {
   "cell_type": "markdown",
   "metadata": {},
   "source": [
    "\"Glacier directories\" are the fundamental data structure used by OGGM. They can be confusing at times, and can contain a high number of files, maling them hard to move between clusters or computers. This notebook explains how these directories are structured and how to store them for move and later use.\n",
    "\n",
    "The main use-case documented by this notebook is the following workflow:\n",
    "- pre-process a number of glacier directories\n",
    "- store them and copy them to your storage, or moving them to another machine\n",
    "- re-start from them on another machine / instance"
   ]
  },
  {
   "cell_type": "code",
   "execution_count": 17,
   "metadata": {},
   "outputs": [],
   "source": [
    "# Libs\n",
    "import os\n",
    "import shutil\n",
    "\n",
    "# Locals\n",
    "import oggm.cfg as cfg\n",
    "from oggm import utils, workflow, tasks"
   ]
  },
  {
   "cell_type": "markdown",
   "metadata": {},
   "source": [
    "## The structure of the working directory"
   ]
  },
  {
   "cell_type": "markdown",
   "metadata": {},
   "source": [
    "Let's open a new workflow for two Andean glaciers: Artesonraju and Shallap in Peru."
   ]
  },
  {
   "cell_type": "code",
   "execution_count": 18,
   "metadata": {},
   "outputs": [
    {
     "name": "stderr",
     "output_type": "stream",
     "text": [
      "2021-01-30 15:59:11: oggm.cfg: Reading default parameters from the OGGM `params.cfg` configuration file.\n",
      "2021-01-30 15:59:11: oggm.cfg: Multiprocessing switched ON according to the parameter file.\n",
      "2021-01-30 15:59:11: oggm.cfg: Multiprocessing: using all available processors (N=4)\n",
      "2021-01-30 15:59:12: oggm.cfg: PARAMS['border'] changed from `20` to `80`.\n",
      "2021-01-30 15:59:19: oggm.workflow: init_glacier_directories from prepro level 3 on 2 glaciers.\n",
      "2021-01-30 15:59:19: oggm.workflow: Execute entity task gdir_from_prepro on 2 glaciers\n"
     ]
    }
   ],
   "source": [
    "# Initialize OGGM and set up the default run parameters\n",
    "cfg.initialize(logging_level='WARNING')\n",
    "rgi_version = '62'\n",
    "\n",
    "# Here we override some of the default parameters\n",
    "# How many grid points around the glacier?\n",
    "# Make it large if you expect your glaciers to grow large:\n",
    "# here, 80 is more than enough\n",
    "cfg.PARAMS['border'] = 80\n",
    "\n",
    "# Local working directory (where OGGM will write its output)\n",
    "WORKING_DIR = utils.gettempdir('compress_gdirs_wd')\n",
    "utils.mkdir(WORKING_DIR, reset=True)\n",
    "cfg.PATHS['working_dir'] = WORKING_DIR\n",
    "\n",
    "# RGI glaciers: Artesonraju and Shallap in Peru\n",
    "rgi_ids = utils.get_rgi_glacier_entities(['RGI60-16.02444', 'RGI60-16.02207'])\n",
    "\n",
    "# Go - get the pre-processed glacier directories\n",
    "gdirs = workflow.init_glacier_directories(rgi_ids, from_prepro_level=3)"
   ]
  },
  {
   "cell_type": "code",
   "execution_count": 19,
   "metadata": {},
   "outputs": [],
   "source": [
    "gdir = gdirs[0]"
   ]
  },
  {
   "cell_type": "code",
   "execution_count": 25,
   "metadata": {},
   "outputs": [
    {
     "name": "stderr",
     "output_type": "stream",
     "text": [
      "2021-01-30 16:06:15: oggm.workflow: Execute entity task glacier_statistics on 2 glaciers\n"
     ]
    }
   ],
   "source": [
    "glacier_stats = workflow.execute_entity_task(utils.glacier_statistics,\n",
    "                                                 gdirs)"
   ]
  },
  {
   "cell_type": "code",
   "execution_count": 31,
   "metadata": {},
   "outputs": [],
   "source": [
    "import numpy as np\n",
    "import pandas as pd"
   ]
  },
  {
   "cell_type": "code",
   "execution_count": 28,
   "metadata": {},
   "outputs": [],
   "source": []
  },
  {
   "cell_type": "code",
   "execution_count": 38,
   "metadata": {},
   "outputs": [],
   "source": [
    "rgi_id = [gs.get('rgi_id', np.NaN) for gs in glacier_stats]\n",
    "length = [gs.get('longuest_centerline_km', np.NaN) * 1e3\n",
    "          for gs in glacier_stats]\n",
    "area = [gs.get('rgi_area_km2', np.NaN) * 1e6 for gs in glacier_stats]\n",
    "volume = [gs.get('inv_volume_km3', np.NaN) * 1e9 for gs in glacier_stats]\n",
    "glacier_type = [gs.get('glacier_type', np.NaN) for gs in glacier_stats]\n",
    "glacier_type = ['Glacier', 'Ice cap']\n",
    "# create DataFrame\n",
    "df = pd.DataFrame({'length': length, 'area': area, 'volume': volume, 'glacier_type': glacier_type},\n",
    "                  index=pd.Index(rgi_id, name='rgi_id'))"
   ]
  },
  {
   "cell_type": "code",
   "execution_count": 40,
   "metadata": {},
   "outputs": [
    {
     "data": {
      "text/html": [
       "<div>\n",
       "<style scoped>\n",
       "    .dataframe tbody tr th:only-of-type {\n",
       "        vertical-align: middle;\n",
       "    }\n",
       "\n",
       "    .dataframe tbody tr th {\n",
       "        vertical-align: top;\n",
       "    }\n",
       "\n",
       "    .dataframe thead th {\n",
       "        text-align: right;\n",
       "    }\n",
       "</style>\n",
       "<table border=\"1\" class=\"dataframe\">\n",
       "  <thead>\n",
       "    <tr style=\"text-align: right;\">\n",
       "      <th></th>\n",
       "      <th>length</th>\n",
       "      <th>area</th>\n",
       "      <th>volume</th>\n",
       "      <th>glacier_type</th>\n",
       "    </tr>\n",
       "    <tr>\n",
       "      <th>rgi_id</th>\n",
       "      <th></th>\n",
       "      <th></th>\n",
       "      <th></th>\n",
       "      <th></th>\n",
       "    </tr>\n",
       "  </thead>\n",
       "  <tbody>\n",
       "    <tr>\n",
       "      <th>RGI60-16.02444</th>\n",
       "      <td>4447.663489</td>\n",
       "      <td>5943000.0</td>\n",
       "      <td>4.910749e+08</td>\n",
       "      <td>Ice cap</td>\n",
       "    </tr>\n",
       "  </tbody>\n",
       "</table>\n",
       "</div>"
      ],
      "text/plain": [
       "                     length       area        volume glacier_type\n",
       "rgi_id                                                           \n",
       "RGI60-16.02444  4447.663489  5943000.0  4.910749e+08      Ice cap"
      ]
     },
     "execution_count": 40,
     "metadata": {},
     "output_type": "execute_result"
    }
   ],
   "source": [
    "df[df.glacier_type == 'Ice cap']"
   ]
  },
  {
   "cell_type": "markdown",
   "metadata": {},
   "source": [
    "OGGM downloaded the pre-processed directories stored the tar files in your cache, and extracted them in your working directory. But how is this working directory structured? Let's have a look:"
   ]
  },
  {
   "cell_type": "code",
   "execution_count": 3,
   "metadata": {},
   "outputs": [],
   "source": [
    "def file_tree_print(prepro_dir=False):\n",
    "    # Just a utility function to show the dir structure and selected files\n",
    "    print(\"cfg.PATHS['working_dir']/\")\n",
    "    tab = '  '\n",
    "    for dirname, dirnames, filenames in os.walk(cfg.PATHS['working_dir']):\n",
    "        for subdirname in dirnames:\n",
    "            print(tab + subdirname + '/')\n",
    "        for filename in filenames:\n",
    "            if '.tar' in filename and 'RGI' in filename:\n",
    "                print(tab + filename)\n",
    "        tab += '  '"
   ]
  },
  {
   "cell_type": "code",
   "execution_count": 4,
   "metadata": {},
   "outputs": [
    {
     "name": "stdout",
     "output_type": "stream",
     "text": [
      "cfg.PATHS['working_dir']/\n",
      "  per_glacier/\n",
      "    RGI60-16/\n",
      "      RGI60-16.02/\n",
      "        RGI60-16.02207/\n",
      "        RGI60-16.02444/\n"
     ]
    }
   ],
   "source": [
    "file_tree_print()"
   ]
  },
  {
   "cell_type": "markdown",
   "metadata": {},
   "source": [
    "OK, so from the `WORKING_DIR`, OGGM creates a `per_glacier` folder (always)  where the glacier directories are stored. In order to avoid a large cluttering of the folder (and for other reasons which become apparent later), the directories are organised in regional (here `RGI60-16`) and then in  folders containing up to 1000 glaciers (here `RGI60-16.02`, i.e. for ids `RGI60-16.020000` to `RGI60-16.029999`).\n",
    "\n",
    "Our files are located in the final folders of this tree (not shown in the tree). Fore example:"
   ]
  },
  {
   "cell_type": "code",
   "execution_count": 5,
   "metadata": {},
   "outputs": [
    {
     "data": {
      "text/plain": [
       "'WORKING_DIR/per_glacier/RGI60-16/RGI60-16.02/RGI60-16.02207/dem.tif'"
      ]
     },
     "execution_count": 5,
     "metadata": {},
     "output_type": "execute_result"
    }
   ],
   "source": [
    "gdirs[0].get_filepath('dem').replace(WORKING_DIR, 'WORKING_DIR')"
   ]
  },
  {
   "cell_type": "markdown",
   "metadata": {},
   "source": [
    "Let's add some steps to our workflow, for example a spinup run that we would like to store for later: "
   ]
  },
  {
   "cell_type": "code",
   "execution_count": 6,
   "metadata": {},
   "outputs": [
    {
     "name": "stderr",
     "output_type": "stream",
     "text": [
      "2021-01-29 12:56:25: oggm.workflow: Execute entity task init_present_time_glacier on 2 glaciers\n",
      "2021-01-29 12:56:26: oggm.workflow: Execute entity task run_from_climate_data on 2 glaciers\n"
     ]
    }
   ],
   "source": [
    "# Initialise glacier for run\n",
    "workflow.execute_entity_task(tasks.init_present_time_glacier, gdirs);\n",
    "# Run\n",
    "workflow.execute_entity_task(tasks.run_from_climate_data, gdirs, \n",
    "                             output_filesuffix='_spinup',  # to use the files as input later on\n",
    "                            );"
   ]
  },
  {
   "cell_type": "markdown",
   "metadata": {},
   "source": [
    "## Store the single glacier directories into tar files "
   ]
  },
  {
   "cell_type": "markdown",
   "metadata": {},
   "source": [
    "The `gdir_to_tar` task will compress each single glacier directory into the same folder per default (but you can actually also put the compressed files somewhere else, e.g. in a folder in your `$home`):"
   ]
  },
  {
   "cell_type": "code",
   "execution_count": 7,
   "metadata": {},
   "outputs": [],
   "source": [
    "utils.gdir_to_tar?"
   ]
  },
  {
   "cell_type": "code",
   "execution_count": 8,
   "metadata": {},
   "outputs": [
    {
     "name": "stderr",
     "output_type": "stream",
     "text": [
      "2021-01-29 12:56:30: oggm.workflow: Execute entity task gdir_to_tar on 2 glaciers\n"
     ]
    },
    {
     "name": "stdout",
     "output_type": "stream",
     "text": [
      "cfg.PATHS['working_dir']/\n",
      "  per_glacier/\n",
      "    RGI60-16/\n",
      "      RGI60-16.02/\n",
      "        RGI60-16.02207/\n",
      "        RGI60-16.02444/\n",
      "        RGI60-16.02207.tar.gz\n",
      "        RGI60-16.02444.tar.gz\n"
     ]
    }
   ],
   "source": [
    "workflow.execute_entity_task(utils.gdir_to_tar, gdirs, delete=False);\n",
    "file_tree_print()"
   ]
  },
  {
   "cell_type": "markdown",
   "metadata": {},
   "source": [
    "Most of the time, you will actually want to delete the orginal directories because they are not needed for this run anymore:"
   ]
  },
  {
   "cell_type": "code",
   "execution_count": 9,
   "metadata": {},
   "outputs": [
    {
     "name": "stderr",
     "output_type": "stream",
     "text": [
      "2021-01-29 12:56:30: oggm.workflow: Execute entity task gdir_to_tar on 2 glaciers\n"
     ]
    },
    {
     "name": "stdout",
     "output_type": "stream",
     "text": [
      "cfg.PATHS['working_dir']/\n",
      "  per_glacier/\n",
      "    RGI60-16/\n",
      "      RGI60-16.02/\n",
      "        RGI60-16.02207.tar.gz\n",
      "        RGI60-16.02444.tar.gz\n"
     ]
    }
   ],
   "source": [
    "workflow.execute_entity_task(utils.gdir_to_tar, gdirs, delete=True);\n",
    "file_tree_print()"
   ]
  },
  {
   "cell_type": "markdown",
   "metadata": {},
   "source": [
    "Now the original directories are gone, and the `gdirs` objects are useless (attempting to do anything with them will lead to an error).\n",
    "\n",
    "Since they are already available in the correct file structure, however, OGGM will know how to reconstruct them from the tar files if asked to:"
   ]
  },
  {
   "cell_type": "code",
   "execution_count": 10,
   "metadata": {},
   "outputs": [
    {
     "name": "stderr",
     "output_type": "stream",
     "text": [
      "2021-01-29 12:56:30: oggm.workflow: Execute entity task GlacierDirectory on 2 glaciers\n"
     ]
    },
    {
     "name": "stdout",
     "output_type": "stream",
     "text": [
      "cfg.PATHS['working_dir']/\n",
      "  per_glacier/\n",
      "    RGI60-16/\n",
      "      RGI60-16.02/\n",
      "        RGI60-16.02207/\n",
      "        RGI60-16.02444/\n"
     ]
    }
   ],
   "source": [
    "gdirs = workflow.init_glacier_directories(['RGI60-16.02444', 'RGI60-16.02207'], from_tar=True, delete_tar=True)\n",
    "file_tree_print()"
   ]
  },
  {
   "cell_type": "markdown",
   "metadata": {},
   "source": [
    "These directories are now ready to be used again! To summarize: thanks to this first step, you already reduced the number of files to move around from N x M (where M is the number of files in each glacier directory) to N (where N is the number of glaciers).\n",
    "\n",
    "You can now move this working directory somewhere else, and in another OGGM run instance, simply start from them as shown above."
   ]
  },
  {
   "cell_type": "markdown",
   "metadata": {},
   "source": [
    "## Bundle of directories"
   ]
  },
  {
   "cell_type": "markdown",
   "metadata": {},
   "source": [
    "It turned out that the file structure above was a bit cumbersome to use, in particular for glacier directories that we wanted to share online. For this, we found it more convenient to bundle the directories into groups of 1000 glaciers. Fortunately, this is easy to do:"
   ]
  },
  {
   "cell_type": "code",
   "execution_count": 11,
   "metadata": {},
   "outputs": [],
   "source": [
    "utils.base_dir_to_tar?"
   ]
  },
  {
   "cell_type": "code",
   "execution_count": 12,
   "metadata": {},
   "outputs": [
    {
     "name": "stderr",
     "output_type": "stream",
     "text": [
      "2021-01-29 12:56:32: oggm.workflow: Execute entity task gdir_to_tar on 2 glaciers\n"
     ]
    },
    {
     "name": "stdout",
     "output_type": "stream",
     "text": [
      "cfg.PATHS['working_dir']/\n",
      "  per_glacier/\n",
      "    RGI60-16/\n",
      "      RGI60-16.02.tar\n"
     ]
    }
   ],
   "source": [
    "# Tar the individual ones first\n",
    "workflow.execute_entity_task(utils.gdir_to_tar, gdirs, delete=True);\n",
    "# Then tar the bundles\n",
    "utils.base_dir_to_tar(WORKING_DIR, delete=True)\n",
    "file_tree_print()"
   ]
  },
  {
   "cell_type": "markdown",
   "metadata": {},
   "source": [
    "Now, the glacier directories are bundled in a file at a higher level even. This is even more convenient to move around (less files), but is not a mandatory step. The nice part about this bundling is that you can still select individual glaciers, as we will see in the next section. In the meantime, you can do: "
   ]
  },
  {
   "cell_type": "code",
   "execution_count": 13,
   "metadata": {},
   "outputs": [
    {
     "name": "stderr",
     "output_type": "stream",
     "text": [
      "2021-01-29 12:56:32: oggm.workflow: Execute entity task GlacierDirectory on 2 glaciers\n"
     ]
    },
    {
     "name": "stdout",
     "output_type": "stream",
     "text": [
      "cfg.PATHS['working_dir']/\n",
      "  per_glacier/\n",
      "    RGI60-16/\n",
      "      RGI60-16.02/\n",
      "      RGI60-16.02.tar\n",
      "        RGI60-16.02207/\n",
      "        RGI60-16.02444/\n"
     ]
    }
   ],
   "source": [
    "gdirs = workflow.init_glacier_directories(['RGI60-16.02444', 'RGI60-16.02207'], from_tar=True)\n",
    "file_tree_print()"
   ]
  },
  {
   "cell_type": "markdown",
   "metadata": {},
   "source": [
    "Which did the trick! Note that the bundled tar files are never deleted. This is why they are useful for another purpose explained in the next section: creating your own \"pre-processed directories\"."
   ]
  },
  {
   "cell_type": "markdown",
   "metadata": {},
   "source": [
    "## Self-made pre-processed directories for \"restart\" workflows"
   ]
  },
  {
   "cell_type": "markdown",
   "metadata": {},
   "source": [
    "This workflow is the one used by OGGM to prepare the preprocessed directories that many of you are using. It is a variant of the workflow above, the only difference being that the directories are re-started from a file which is located elsewhere than in the working directory:"
   ]
  },
  {
   "cell_type": "code",
   "execution_count": 14,
   "metadata": {},
   "outputs": [
    {
     "name": "stderr",
     "output_type": "stream",
     "text": [
      "2021-01-29 12:56:33: oggm.workflow: init_glacier_directories from prepro level 3 on 2 glaciers.\n",
      "2021-01-29 12:56:33: oggm.workflow: Execute entity task gdir_from_prepro on 2 glaciers\n",
      "2021-01-29 12:56:34: oggm.workflow: Execute entity task gdir_to_tar on 2 glaciers\n"
     ]
    },
    {
     "name": "stdout",
     "output_type": "stream",
     "text": [
      "cfg.PATHS['working_dir']/\n",
      "  per_glacier/\n",
      "    RGI60-16/\n",
      "      RGI60-16.02.tar\n"
     ]
    }
   ],
   "source": [
    "# Where to put the compressed dirs\n",
    "PREPRO_DIR = utils.get_temp_dir('prepro_dir')\n",
    "if os.path.exists(PREPRO_DIR):\n",
    "    shutil.rmtree(PREPRO_DIR)\n",
    "\n",
    "# Lets start from a clean state\n",
    "utils.mkdir(WORKING_DIR, reset=True)\n",
    "gdirs = workflow.init_glacier_directories(rgi_ids, from_prepro_level=3)\n",
    "\n",
    "# Then tar the gdirs and bundle\n",
    "workflow.execute_entity_task(utils.gdir_to_tar, gdirs, delete=True)\n",
    "utils.base_dir_to_tar(delete=True)\n",
    "file_tree_print()"
   ]
  },
  {
   "cell_type": "code",
   "execution_count": 15,
   "metadata": {},
   "outputs": [
    {
     "name": "stdout",
     "output_type": "stream",
     "text": [
      "PREPRO_DIR/\n",
      "  RGI60-16/\n",
      "    RGI60-16.02.tar\n"
     ]
    }
   ],
   "source": [
    "# Copy the outcome in a new directory: scratch folder, new machine, etc.\n",
    "shutil.copytree(os.path.join(WORKING_DIR, 'per_glacier'), PREPRO_DIR);\n",
    "\n",
    "# Just a utility function to show the dir structure and selected files\n",
    "print(\"PREPRO_DIR/\")\n",
    "tab = '  '\n",
    "for dirname, dirnames, filenames in os.walk(PREPRO_DIR):\n",
    "    for subdirname in dirnames:\n",
    "        print(tab + subdirname + '/')\n",
    "    for filename in filenames:\n",
    "        if '.tar' in filename and 'RGI' in filename:\n",
    "            print(tab + filename)\n",
    "    tab += '  '"
   ]
  },
  {
   "cell_type": "markdown",
   "metadata": {},
   "source": [
    "OK so this `PREPRO_DIR` directory is where the files will stay for longer now. You can start from there at wish with:"
   ]
  },
  {
   "cell_type": "code",
   "execution_count": 42,
   "metadata": {},
   "outputs": [
    {
     "data": {
      "text/plain": [
       "'/var/folders/dc/r0qdkr9n45n4c2f2cc7v7pfr0000gn/T/OGGM/prepro_dir'"
      ]
     },
     "execution_count": 42,
     "metadata": {},
     "output_type": "execute_result"
    }
   ],
   "source": [
    "PREPRO_DIR"
   ]
  },
  {
   "cell_type": "code",
   "execution_count": 43,
   "metadata": {},
   "outputs": [
    {
     "name": "stderr",
     "output_type": "stream",
     "text": [
      "2021-01-30 23:34:10: oggm.workflow: Execute entity task gdir_from_tar on 2 glaciers\n"
     ]
    },
    {
     "name": "stdout",
     "output_type": "stream",
     "text": [
      "cfg.PATHS['working_dir']/\n",
      "  per_glacier/\n",
      "    RGI60-16/\n",
      "      RGI60-16.02/\n",
      "        RGI60-16.02207/\n",
      "        RGI60-16.02444/\n"
     ]
    }
   ],
   "source": [
    "# Lets start from a clean state\n",
    "utils.mkdir(WORKING_DIR, reset=True)\n",
    "# This needs https://github.com/OGGM/oggm/pull/1158 to work\n",
    "# It uses the files you prepared beforehand to start the dirs\n",
    "gdirs = workflow.init_glacier_directories(rgi_ids, from_tar=PREPRO_DIR)\n",
    "file_tree_print()"
   ]
  },
  {
   "cell_type": "markdown",
   "metadata": {},
   "source": [
    "## What's next?"
   ]
  },
  {
   "cell_type": "markdown",
   "metadata": {},
   "source": [
    "You have several options from here:\n",
    "- return to the [OGGM documentation](https://docs.oggm.org), in particular [how to set up an OGGM run](https://docs.oggm.org/en/latest/run.html)\n",
    "- back to the [table of contents](welcome.ipynb).\n",
    "- explore other tutorials on the [OGGM-Edu](https://edu.oggm.org) platform."
   ]
  }
 ],
 "metadata": {
  "hide_input": false,
  "kernelspec": {
   "display_name": "Python 3",
   "language": "python",
   "name": "python3"
  },
  "language_info": {
   "codemirror_mode": {
    "name": "ipython",
    "version": 3
   },
   "file_extension": ".py",
   "mimetype": "text/x-python",
   "name": "python",
   "nbconvert_exporter": "python",
   "pygments_lexer": "ipython3",
   "version": "3.6.7"
  },
  "latex_envs": {
   "LaTeX_envs_menu_present": true,
   "autoclose": false,
   "autocomplete": true,
   "bibliofile": "biblio.bib",
   "cite_by": "apalike",
   "current_citInitial": 1.0,
   "eqLabelWithNumbers": true,
   "eqNumInitial": 1.0,
   "hotkeys": {
    "equation": "Ctrl-E",
    "itemize": "Ctrl-I"
   },
   "labels_anchors": false,
   "latex_user_defs": false,
   "report_style_numbering": false,
   "user_envs_cfg": false
  },
  "nbTranslate": {
   "displayLangs": [
    "*"
   ],
   "hotkey": "alt-t",
   "langInMainMenu": true,
   "sourceLang": "en",
   "targetLang": "fr",
   "useGoogleTranslate": true
  },
  "toc": {
   "base_numbering": 1.0,
   "nav_menu": {},
   "number_sections": false,
   "sideBar": true,
   "skip_h1_title": true,
   "title_cell": "Table of Contents",
   "title_sidebar": "Contents",
   "toc_cell": false,
   "toc_position": {},
   "toc_section_display": true,
   "toc_window_display": false
  }
 },
 "nbformat": 4,
 "nbformat_minor": 4
}
