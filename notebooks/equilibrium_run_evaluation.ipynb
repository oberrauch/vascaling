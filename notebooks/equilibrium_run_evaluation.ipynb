{
 "cells": [
  {
   "cell_type": "markdown",
   "metadata": {},
   "source": [
    "# Evaluation of the equilibrium runs\n",
    "Model output produced by the `equlibrium_run.py` script."
   ]
  },
  {
   "cell_type": "code",
   "execution_count": 1,
   "metadata": {},
   "outputs": [],
   "source": [
    "# import section\n",
    "import os\n",
    "import numpy as np\n",
    "import pandas as pd\n",
    "import xarray as xr\n",
    "import matplotlib.pyplot as plt\n",
    "\n",
    "%matplotlib inline"
   ]
  },
  {
   "cell_type": "markdown",
   "metadata": {},
   "source": [
    "Read the output of the VAS model."
   ]
  },
  {
   "cell_type": "code",
   "execution_count": 2,
   "metadata": {},
   "outputs": [],
   "source": [
    "# specify working directories\n",
    "wdir = '/Users/oberrauch/work/master/working_directories/'\n",
    "wdir = os.path.join(wdir, 'equilibrium_vas_wdir')\n",
    "# specify file path\n",
    "fpath = os.path.join(wdir, 'run_output.nc')\n",
    "# load dataset\n",
    "ds_vas = xr.open_dataset(fpath)\n",
    "# specify file path\n",
    "fpath = os.path.join(wdir, 'normalized_output.nc')\n",
    "# load dataset\n",
    "ds_vas_norm = xr.open_dataset(fpath)"
   ]
  },
  {
   "cell_type": "markdown",
   "metadata": {},
   "source": [
    "Read the output of the flowline model."
   ]
  },
  {
   "cell_type": "code",
   "execution_count": 10,
   "metadata": {},
   "outputs": [],
   "source": [
    "# specify working directories\n",
    "wdir = '/Users/oberrauch/work/master/working_directories/'\n",
    "wdir = os.path.join(wdir, 'equilibrium_fl_wdir')\n",
    "# specify file path\n",
    "fpath = os.path.join(wdir, 'run_output.nc')\n",
    "# load dataset\n",
    "ds_fl = xr.open_dataset(fpath)\n",
    "# specify file path\n",
    "fpath = os.path.join(wdir, 'normalized_output.nc')\n",
    "# load dataset\n",
    "ds_fl_norm = xr.open_dataset(fpath)"
   ]
  },
  {
   "cell_type": "markdown",
   "metadata": {},
   "source": [
    "Combine both dataset, with model as new coordinate."
   ]
  },
  {
   "cell_type": "code",
   "execution_count": 13,
   "metadata": {},
   "outputs": [],
   "source": [
    "# create a single dataset\n",
    "ds = xr.concat([ds_vas, ds_fl], 'model')"
   ]
  },
  {
   "cell_type": "code",
   "execution_count": 14,
   "metadata": {},
   "outputs": [
    {
     "data": {
      "text/plain": [
       "<xarray.Dataset>\n",
       "Dimensions:         (model: 2, rgi_id: 1, temp_bias: 3, time: 3001)\n",
       "Coordinates:\n",
       "  * time            (time) float64 0.0 1.0 2.0 3.0 ... 2.998e+03 2.999e+03 3e+03\n",
       "  * rgi_id          (rgi_id) object 'RGI60-11.00897'\n",
       "    hydro_year      (time) int64 0 1 2 3 4 5 6 ... 2995 2996 2997 2998 2999 3000\n",
       "    hydro_month     (time) int64 1 1 1 1 1 1 1 1 1 1 1 ... 1 1 1 1 1 1 1 1 1 1 1\n",
       "    calendar_year   (time) int64 -1 0 1 2 3 4 ... 2994 2995 2996 2997 2998 2999\n",
       "    calendar_month  (time) int64 10 10 10 10 10 10 10 ... 10 10 10 10 10 10 10\n",
       "  * temp_bias       (temp_bias) float64 0.0 0.5 -0.5\n",
       "  * model           (model) <U3 'vas' 'fl'\n",
       "Data variables:\n",
       "    volume          (model, temp_bias, time, rgi_id) float64 5.963e+08 ... 1.46e+09\n",
       "    area            (model, temp_bias, time, rgi_id) float64 8.036e+06 ... 1.103e+07\n",
       "    length          (model, temp_bias, time, rgi_id) float64 4.895e+03 ... 1.04e+04\n",
       "    ela             (model, temp_bias, time, rgi_id) float64 nan ... 3.052e+03\n",
       "Attributes:\n",
       "    description:    OGGM model output\n",
       "    oggm_version:   1.1.2.dev44+gf9ab669\n",
       "    calendar:       365-day no leap\n",
       "    creation_date:  2019-07-05 13:35:53"
      ]
     },
     "execution_count": 14,
     "metadata": {},
     "output_type": "execute_result"
    }
   ],
   "source": [
    "ds"
   ]
  },
  {
   "cell_type": "code",
   "execution_count": null,
   "metadata": {},
   "outputs": [],
   "source": []
  },
  {
   "cell_type": "code",
   "execution_count": null,
   "metadata": {},
   "outputs": [],
   "source": []
  }
 ],
 "metadata": {
  "kernelspec": {
   "display_name": "Python 3",
   "language": "python",
   "name": "python3"
  },
  "language_info": {
   "codemirror_mode": {
    "name": "ipython",
    "version": 3
   },
   "file_extension": ".py",
   "mimetype": "text/x-python",
   "name": "python",
   "nbconvert_exporter": "python",
   "pygments_lexer": "ipython3",
   "version": "3.6.7"
  }
 },
 "nbformat": 4,
 "nbformat_minor": 2
}
