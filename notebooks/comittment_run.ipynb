{
 "cells": [
  {
   "cell_type": "markdown",
   "metadata": {},
   "source": [
    "## 1. Preprocess a subset of an RGI region\n",
    "This example shows how to run the first steps of the OGGM preprocessing chain for a subset of the Alps - the Rofental catchment in the Austrian Alps (see [docs.oggm.org](http://docs.oggm.org/en/latest/run_examples/run_rgi_region.html))."
   ]
  },
  {
   "cell_type": "code",
   "execution_count": 1,
   "metadata": {},
   "outputs": [],
   "source": [
    "# Python imports\n",
    "import os\n",
    "\n",
    "# Libs\n",
    "import geopandas as gpd\n",
    "import shapely.geometry as shpg\n",
    "\n",
    "# Locals\n",
    "import oggm.cfg as cfg\n",
    "from oggm import utils, workflow"
   ]
  },
  {
   "cell_type": "code",
   "execution_count": 2,
   "metadata": {},
   "outputs": [
    {
     "name": "stderr",
     "output_type": "stream",
     "text": [
      "2019-02-25 11:19:57: oggm.cfg: Using configuration file: /Users/oberrauch/oggm-fork/oggm/params.cfg\n"
     ]
    }
   ],
   "source": [
    "# Initialize OGGM and set up the default run parameters\n",
    "cfg.initialize()\n",
    "rgi_version = '61'\n",
    "rgi_region = '11'  # Alps\n",
    "\n",
    "# Local working directory (where OGGM will write its output)\n",
    "WORKING_DIR = utils.gettempdir('OGGM_Rofental')\n",
    "utils.mkdir(WORKING_DIR, reset=True)\n",
    "cfg.PATHS['working_dir'] = WORKING_DIR"
   ]
  },
  {
   "cell_type": "code",
   "execution_count": 3,
   "metadata": {},
   "outputs": [
    {
     "data": {
      "text/plain": [
       "'/var/folders/dc/r0qdkr9n45n4c2f2cc7v7pfr0000gn/T/OGGM/OGGM_Rofental'"
      ]
     },
     "execution_count": 3,
     "metadata": {},
     "output_type": "execute_result"
    }
   ],
   "source": [
    "WORKING_DIR"
   ]
  },
  {
   "cell_type": "code",
   "execution_count": 4,
   "metadata": {},
   "outputs": [],
   "source": [
    "# We use intersects\n",
    "path = utils.get_rgi_intersects_region_file(rgi_region, version=rgi_version)\n",
    "cfg.set_intersects_db(path)"
   ]
  },
  {
   "cell_type": "code",
   "execution_count": 5,
   "metadata": {},
   "outputs": [],
   "source": [
    "# RGI file\n",
    "path = utils.get_rgi_region_file(rgi_region, version=rgi_version)\n",
    "rgidf = gpd.read_file(path)\n",
    "\n",
    "# Get the Rofental Basin file\n",
    "path = utils.get_demo_file('rofental_hydrosheds.shp')\n",
    "basin = gpd.read_file(path)"
   ]
  },
  {
   "cell_type": "code",
   "execution_count": 6,
   "metadata": {},
   "outputs": [],
   "source": [
    "# Take all glaciers in the Rofental Basin\n",
    "in_bas = [basin.geometry.contains(shpg.Point(x, y))[0] for\n",
    "          (x, y) in zip(rgidf.CenLon, rgidf.CenLat)]\n",
    "rgidf = rgidf.loc[in_bas]\n",
    "# Store them for later\n",
    "rgidf.to_file(os.path.join(WORKING_DIR, 'rgi_rofental.shp'))"
   ]
  },
  {
   "cell_type": "code",
   "execution_count": 11,
   "metadata": {},
   "outputs": [
    {
     "name": "stdout",
     "output_type": "stream",
     "text": [
      "Starting OGGM run\n",
      "Number of glaciers: 54\n"
     ]
    }
   ],
   "source": [
    "# Sort for more efficient parallel computing\n",
    "rgidf = rgidf.sort_values('Area', ascending=False)\n",
    "cfg.PARAMS['use_multiprocessing'] = True\n",
    "\n",
    "print('Starting OGGM run')\n",
    "print('Number of glaciers: {}'.format(len(rgidf)))\n",
    "\n",
    "# Go - initialize glacier directories\n",
    "gdirs_list = workflow.init_glacier_regions(rgidf)"
   ]
  },
  {
   "cell_type": "code",
   "execution_count": 12,
   "metadata": {},
   "outputs": [
    {
     "data": {
      "text/plain": [
       "[<oggm.GlacierDirectory>\n",
       "   RGI id: RGI60-11.00897\n",
       "   Region: 11: Central Europe\n",
       "   Subregion: 11-01: Alps                            \n",
       "   Name: Hintereisferner\n",
       "   Glacier type: Glacier\n",
       "   Terminus type: Land-terminating\n",
       "   Area: 8.036 km2\n",
       "   Lon, Lat: (10.7584, 46.8003)\n",
       "   Grid (nx, ny): (159, 114)\n",
       "   Grid (dx, dy): (50.0, -50.0)]"
      ]
     },
     "execution_count": 12,
     "metadata": {},
     "output_type": "execute_result"
    }
   ],
   "source": [
    "# select single glacier\n",
    "gdirs = [gdirs_list[1]]\n",
    "gdirs"
   ]
  },
  {
   "cell_type": "code",
   "execution_count": 13,
   "metadata": {
    "scrolled": true
   },
   "outputs": [
    {
     "name": "stderr",
     "output_type": "stream",
     "text": [
      "2019-02-25 11:21:57: oggm.workflow: Execute entity task glacier_masks on 1 glaciers\n",
      "2019-02-25 11:21:57: oggm.workflow: Multiprocessing: using all available processors (N=4)\n",
      "2019-02-25 11:21:57: oggm.core.gis: (RGI60-11.00897) glacier_masks\n",
      "2019-02-25 11:21:57: oggm.workflow: Execute entity task compute_centerlines on 1 glaciers\n",
      "2019-02-25 11:21:58: oggm.core.centerlines: (RGI60-11.00897) compute_centerlines\n",
      "2019-02-25 11:21:58: oggm.workflow: Execute entity task initialize_flowlines on 1 glaciers\n",
      "2019-02-25 11:21:58: oggm.core.centerlines: (RGI60-11.00897) initialize_flowlines\n",
      "2019-02-25 11:21:58: oggm.workflow: Execute entity task compute_downstream_line on 1 glaciers\n",
      "2019-02-25 11:21:58: oggm.core.centerlines: (RGI60-11.00897) compute_downstream_line\n",
      "2019-02-25 11:21:58: oggm.workflow: Execute entity task compute_downstream_bedshape on 1 glaciers\n",
      "2019-02-25 11:21:58: oggm.core.centerlines: (RGI60-11.00897) compute_downstream_bedshape\n",
      "2019-02-25 11:21:59: oggm.workflow: Execute entity task catchment_area on 1 glaciers\n",
      "2019-02-25 11:21:59: oggm.core.centerlines: (RGI60-11.00897) catchment_area\n",
      "2019-02-25 11:22:01: oggm.workflow: Execute entity task catchment_intersections on 1 glaciers\n",
      "2019-02-25 11:22:01: oggm.core.centerlines: (RGI60-11.00897) catchment_intersections\n",
      "2019-02-25 11:22:01: oggm.workflow: Execute entity task catchment_width_geom on 1 glaciers\n",
      "2019-02-25 11:22:01: oggm.core.centerlines: (RGI60-11.00897) catchment_width_geom\n",
      "2019-02-25 11:22:02: oggm.workflow: Execute entity task catchment_width_correction on 1 glaciers\n",
      "2019-02-25 11:22:02: oggm.core.centerlines: (RGI60-11.00897) catchment_width_correction\n",
      "2019-02-25 11:22:08: oggm.core.climate: (RGI60-11.00897) process_histalp_data\n"
     ]
    }
   ],
   "source": [
    "from oggm.core import vascaling, climate\n",
    "cfg.PARAMS['baseline_climate'] = 'HISTALP'\n",
    "cfg.PARAMS['prcp_scaling_factor'] = 1.75\n",
    "cfg.PARAMS['temp_melt'] = -1.75\n",
    "\n",
    "# Tasks shortcuts - see the next examples for more details\n",
    "workflow.gis_prepro_tasks(gdirs)"
   ]
  },
  {
   "cell_type": "code",
   "execution_count": 14,
   "metadata": {},
   "outputs": [
    {
     "name": "stderr",
     "output_type": "stream",
     "text": [
      "2019-02-25 11:22:08: oggm.workflow: Execute entity task process_histalp_data on 1 glaciers\n",
      "2019-02-25 11:22:11: oggm.workflow: Execute entity task local_t_star on 1 glaciers\n"
     ]
    }
   ],
   "source": [
    "# execute climate tasks\n",
    "workflow.execute_entity_task(climate.process_histalp_data, gdirs);\n",
    "workflow.execute_entity_task(vascaling.local_t_star, gdirs);"
   ]
  },
  {
   "cell_type": "code",
   "execution_count": null,
   "metadata": {},
   "outputs": [],
   "source": [
    "mbmo"
   ]
  },
  {
   "cell_type": "code",
   "execution_count": null,
   "metadata": {},
   "outputs": [],
   "source": []
  },
  {
   "cell_type": "code",
   "execution_count": null,
   "metadata": {},
   "outputs": [],
   "source": []
  },
  {
   "cell_type": "code",
   "execution_count": null,
   "metadata": {},
   "outputs": [],
   "source": []
  },
  {
   "cell_type": "code",
   "execution_count": null,
   "metadata": {},
   "outputs": [],
   "source": [
    "# Compile output\n",
    "utils.compile_glacier_statistics(gdirs)\n",
    "utils.write_centerlines_to_shape(gdirs)"
   ]
  },
  {
   "cell_type": "code",
   "execution_count": null,
   "metadata": {},
   "outputs": [],
   "source": [
    "# Imports\n",
    "from os import path\n",
    "import geopandas as gpd\n",
    "import matplotlib.pyplot as plt\n",
    "from oggm.utils import get_demo_file, gettempdir\n",
    "\n",
    "# Local working directory (where OGGM wrote its output)\n",
    "WORKING_DIR = gettempdir('OGGM_Rofental')\n",
    "\n",
    "# Plot: the basin, the outlines and the centerlines\n",
    "basin = gpd.read_file(get_demo_file('rofental_hydrosheds.shp'))\n",
    "rgi = gpd.read_file(path.join(WORKING_DIR, 'rgi_rofental.shp'))\n",
    "centerlines = gpd.read_file(path.join(WORKING_DIR, 'glacier_centerlines.shp'))\n",
    "\n",
    "f, ax = plt.subplots()\n",
    "basin.plot(ax=ax, color='k', alpha=0.2)\n",
    "rgi.plot(ax=ax, color='C0')\n",
    "centerlines.plot(ax=ax, color='C3')\n",
    "plt.title('Rofental glaciers and centerlines')\n",
    "plt.tight_layout()\n",
    "plt.show()\n"
   ]
  },
  {
   "cell_type": "markdown",
   "metadata": {},
   "source": [
    "## 2. Complete run for a list of glaciers\n",
    "This example shows how to run the OGGM model for a list of selected glaciers.\n",
    "\n",
    "Note that the default in OGGM is to use a previously calibrated list of $t^*$ for the run, which means that we don't have to calibrate the mass balance model ourselves (thankfully, otherwise you'd have to add all the calibration glaciers to your list too).\n",
    "\n",
    "Note that in order to be correct, the automated calibration can only be used if the model parameters don't change between the calibration and the run. After testing, it appears that changing the `border` parameter won't affect the results much (as expected). So it's ok to change this parameters. Some other parameters (e.g. topo smoothing, dx, precipitation factor, alternative climate data, ...) will probaly need a re-calibration step (see [3. Run the mass balance calibration](http://docs.oggm.org/en/latest/run_examples/run_mb_calibration.html)).\n"
   ]
  },
  {
   "cell_type": "code",
   "execution_count": null,
   "metadata": {},
   "outputs": [],
   "source": [
    "import importlib\n",
    "importlib.reload(vascaling)\n",
    "importlib.reload(workflow)"
   ]
  },
  {
   "cell_type": "code",
   "execution_count": null,
   "metadata": {},
   "outputs": [],
   "source": [
    "# Random climate representative for the tstar climate, without bias\n",
    "# In an ideal world this would imply that the glaciers remain stable,\n",
    "# but it doesn't have to be so\n",
    "nyears=200\n",
    "workflow.execute_entity_task(vascaling.run_random_vas_climate, gdirs,\n",
    "                             nyears=nyears, bias=0, seed=12);"
   ]
  },
  {
   "cell_type": "code",
   "execution_count": null,
   "metadata": {},
   "outputs": [],
   "source": [
    "import numpy as np\n",
    "import pandas as pd\n",
    "# create empty container\n",
    "volume_m3 = pd.DataFrame(index=np.arange(0,nyears))\n",
    "# iterate over all gdirs\n",
    "for gdir in gdirs:\n",
    "    path = gdir.get_filepath('model_diagnostics', filesuffix='vas')\n",
    "    df = pd.read_csv(path, index_col=0)\n",
    "    vol = df.volume_m3\n",
    "    rgi_id = gdir.rgi_id\n",
    "    volume_m3[rgi_id] = vol"
   ]
  },
  {
   "cell_type": "code",
   "execution_count": null,
   "metadata": {},
   "outputs": [],
   "source": [
    "volume_m3.sum(axis=1).plot()"
   ]
  },
  {
   "cell_type": "code",
   "execution_count": null,
   "metadata": {},
   "outputs": [],
   "source": []
  },
  {
   "cell_type": "markdown",
   "metadata": {},
   "source": [
    "## Test some stuff"
   ]
  },
  {
   "cell_type": "code",
   "execution_count": 18,
   "metadata": {},
   "outputs": [],
   "source": [
    "# Python imports\n",
    "import os\n",
    "import numpy as np\n",
    "import pandas as pd\n",
    "import geopandas as gpd\n",
    "import shapely.geometry as shpg\n",
    "\n",
    "# Locals\n",
    "import oggm.cfg as cfg\n",
    "from oggm import utils, workflow\n",
    "from oggm.core import vascaling, climate"
   ]
  },
  {
   "cell_type": "code",
   "execution_count": 19,
   "metadata": {},
   "outputs": [
    {
     "name": "stderr",
     "output_type": "stream",
     "text": [
      "2019-02-24 14:09:05: oggm.cfg: Using configuration file: /Users/oberrauch/oggm-fork/oggm/params.cfg\n"
     ]
    }
   ],
   "source": [
    "# Initialize OGGM and set up the default run parameters\n",
    "cfg.initialize()\n",
    "rgi_version = '61'\n",
    "rgi_region = '11'  # Alps\n",
    "\n",
    "# Local working directory (where OGGM will write its output)\n",
    "\n",
    "wdir = '/Users/oberrauch/master/working_sirectories/commitment_run_vas/'\n",
    "utils.mkdir(wdir)\n",
    "cfg.PATHS['working_dir'] = wdir\n",
    "\n",
    "# We use intersects\n",
    "path = utils.get_rgi_intersects_region_file(rgi_region, version=rgi_version)\n",
    "cfg.set_intersects_db(path)\n",
    "\n",
    "# RGI file\n",
    "path = utils.get_rgi_region_file(rgi_region, version=rgi_version)\n",
    "rgidf = gpd.read_file(path)\n",
    "\n",
    "# Get the Rofental Basin file\n",
    "path = utils.get_demo_file('rofental_hydrosheds.shp')\n",
    "basin = gpd.read_file(path)\n",
    "\n",
    "# Take all glaciers in the Rofental Basin\n",
    "in_bas = [basin.geometry.contains(shpg.Point(x, y))[0] for\n",
    "          (x, y) in zip(rgidf.CenLon, rgidf.CenLat)]\n",
    "rgidf = rgidf.loc[in_bas]\n",
    "# Store them for later\n",
    "rgidf.to_file(os.path.join(wdir, 'rgi_rofental.shp'))\n",
    "\n",
    "# Sort for more efficient parallel computing\n",
    "rgidf = rgidf.sort_values('Area', ascending=False)\n",
    "cfg.PARAMS['use_multiprocessing'] = True\n",
    "\n",
    "# Go - initialize glacier directories\n",
    "gdirs = workflow.init_glacier_regions(rgidf)"
   ]
  },
  {
   "cell_type": "code",
   "execution_count": 33,
   "metadata": {},
   "outputs": [
    {
     "ename": "ValueError",
     "evalue": "year 2015.0 out of the valid time bounds: [1802, 2014]",
     "output_type": "error",
     "traceback": [
      "\u001b[0;31m---------------------------------------------------------------------------\u001b[0m",
      "\u001b[0;31mValueError\u001b[0m                                Traceback (most recent call last)",
      "\u001b[0;32m<ipython-input-33-6bc373dae565>\u001b[0m in \u001b[0;36m<module>\u001b[0;34m()\u001b[0m\n\u001b[1;32m      4\u001b[0m \u001b[0mcfg\u001b[0m\u001b[0;34m.\u001b[0m\u001b[0mPARAMS\u001b[0m\u001b[0;34m[\u001b[0m\u001b[0;34m'prcp_scaling_factor'\u001b[0m\u001b[0;34m]\u001b[0m \u001b[0;34m=\u001b[0m \u001b[0;36m1.75\u001b[0m\u001b[0;34m\u001b[0m\u001b[0m\n\u001b[1;32m      5\u001b[0m \u001b[0mcfg\u001b[0m\u001b[0;34m.\u001b[0m\u001b[0mPARAMS\u001b[0m\u001b[0;34m[\u001b[0m\u001b[0;34m'temp_melt'\u001b[0m\u001b[0;34m]\u001b[0m \u001b[0;34m=\u001b[0m \u001b[0;34m-\u001b[0m\u001b[0;36m1.75\u001b[0m\u001b[0;34m\u001b[0m\u001b[0m\n\u001b[0;32m----> 6\u001b[0;31m \u001b[0mvascaling\u001b[0m\u001b[0;34m.\u001b[0m\u001b[0mrun_random_vas_climate\u001b[0m\u001b[0;34m(\u001b[0m\u001b[0mgdir\u001b[0m\u001b[0;34m,\u001b[0m \u001b[0my0\u001b[0m\u001b[0;34m=\u001b[0m\u001b[0;36m2000\u001b[0m\u001b[0;34m)\u001b[0m\u001b[0;34m\u001b[0m\u001b[0m\n\u001b[0m",
      "\u001b[0;32m~/oggm-fork/oggm/core/vascaling.py\u001b[0m in \u001b[0;36mrun_random_vas_climate\u001b[0;34m(gdir, nyears, y0, halfsize, bias, seed, temperature_bias, output_filesuffix, climate_filename, climate_input_filesuffix, unique_samples)\u001b[0m\n\u001b[1;32m   1001\u001b[0m                            \u001b[0mmin_hgt\u001b[0m\u001b[0;34m=\u001b[0m\u001b[0mmin_hgt\u001b[0m\u001b[0;34m,\u001b[0m \u001b[0mmax_hgt\u001b[0m\u001b[0;34m=\u001b[0m\u001b[0mmax_hgt\u001b[0m\u001b[0;34m,\u001b[0m\u001b[0;34m\u001b[0m\u001b[0m\n\u001b[1;32m   1002\u001b[0m                            mb_model=mbmod)\n\u001b[0;32m-> 1003\u001b[0;31m     \u001b[0mdf\u001b[0m \u001b[0;34m=\u001b[0m \u001b[0mmodel\u001b[0m\u001b[0;34m.\u001b[0m\u001b[0mrun_and_store\u001b[0m\u001b[0;34m(\u001b[0m\u001b[0myear_end\u001b[0m\u001b[0;34m=\u001b[0m\u001b[0mnyears\u001b[0m\u001b[0;34m)\u001b[0m\u001b[0;34m\u001b[0m\u001b[0m\n\u001b[0m\u001b[1;32m   1004\u001b[0m     \u001b[0mdf\u001b[0m\u001b[0;34m.\u001b[0m\u001b[0mto_csv\u001b[0m\u001b[0;34m(\u001b[0m\u001b[0mdiag_path\u001b[0m\u001b[0;34m)\u001b[0m\u001b[0;34m\u001b[0m\u001b[0m\n\u001b[1;32m   1005\u001b[0m     \u001b[0;32mreturn\u001b[0m \u001b[0mmodel\u001b[0m\u001b[0;34m\u001b[0m\u001b[0m\n",
      "\u001b[0;32m~/oggm-fork/oggm/core/vascaling.py\u001b[0m in \u001b[0;36mrun_and_store\u001b[0;34m(self, year_end, reset)\u001b[0m\n\u001b[1;32m   1264\u001b[0m             \u001b[0;32mif\u001b[0m \u001b[0mi\u001b[0m \u001b[0;34m!=\u001b[0m \u001b[0;36m0\u001b[0m\u001b[0;34m:\u001b[0m\u001b[0;34m\u001b[0m\u001b[0m\n\u001b[1;32m   1265\u001b[0m                 \u001b[0;31m# run model for one year\u001b[0m\u001b[0;34m\u001b[0m\u001b[0;34m\u001b[0m\u001b[0m\n\u001b[0;32m-> 1266\u001b[0;31m                 \u001b[0mself\u001b[0m\u001b[0;34m.\u001b[0m\u001b[0mstep\u001b[0m\u001b[0;34m(\u001b[0m\u001b[0;34m)\u001b[0m\u001b[0;34m\u001b[0m\u001b[0m\n\u001b[0m\u001b[1;32m   1267\u001b[0m \u001b[0;34m\u001b[0m\u001b[0m\n\u001b[1;32m   1268\u001b[0m             \u001b[0;31m# store metrics\u001b[0m\u001b[0;34m\u001b[0m\u001b[0;34m\u001b[0m\u001b[0m\n",
      "\u001b[0;32m~/oggm-fork/oggm/core/vascaling.py\u001b[0m in \u001b[0;36mstep\u001b[0;34m(self)\u001b[0m\n\u001b[1;32m   1141\u001b[0m         self.spec_mb = self.mb_model.get_specific_mb(self.min_hgt,\n\u001b[1;32m   1142\u001b[0m                                                      \u001b[0mself\u001b[0m\u001b[0;34m.\u001b[0m\u001b[0mmax_hgt\u001b[0m\u001b[0;34m,\u001b[0m\u001b[0;34m\u001b[0m\u001b[0m\n\u001b[0;32m-> 1143\u001b[0;31m                                                      self.year)\n\u001b[0m\u001b[1;32m   1144\u001b[0m \u001b[0;34m\u001b[0m\u001b[0m\n\u001b[1;32m   1145\u001b[0m         \u001b[0;31m# compute volume change dV(t)\u001b[0m\u001b[0;34m\u001b[0m\u001b[0;34m\u001b[0m\u001b[0m\n",
      "\u001b[0;32m~/oggm-fork/oggm/core/vascaling.py\u001b[0m in \u001b[0;36mget_specific_mb\u001b[0;34m(self, min_hgt, max_hgt, year)\u001b[0m\n\u001b[1;32m    963\u001b[0m     \u001b[0;32mdef\u001b[0m \u001b[0mget_specific_mb\u001b[0m\u001b[0;34m(\u001b[0m\u001b[0mself\u001b[0m\u001b[0;34m,\u001b[0m \u001b[0mmin_hgt\u001b[0m\u001b[0;34m,\u001b[0m \u001b[0mmax_hgt\u001b[0m\u001b[0;34m,\u001b[0m \u001b[0myear\u001b[0m\u001b[0;34m)\u001b[0m\u001b[0;34m:\u001b[0m\u001b[0;34m\u001b[0m\u001b[0m\n\u001b[1;32m    964\u001b[0m         \u001b[0mryr\u001b[0m \u001b[0;34m=\u001b[0m \u001b[0mself\u001b[0m\u001b[0;34m.\u001b[0m\u001b[0mget_state_yr\u001b[0m\u001b[0;34m(\u001b[0m\u001b[0mint\u001b[0m\u001b[0;34m(\u001b[0m\u001b[0myear\u001b[0m\u001b[0;34m)\u001b[0m\u001b[0;34m)\u001b[0m\u001b[0;34m\u001b[0m\u001b[0m\n\u001b[0;32m--> 965\u001b[0;31m         \u001b[0;32mreturn\u001b[0m \u001b[0mself\u001b[0m\u001b[0;34m.\u001b[0m\u001b[0mmbmod\u001b[0m\u001b[0;34m.\u001b[0m\u001b[0mget_specific_mb\u001b[0m\u001b[0;34m(\u001b[0m\u001b[0mmin_hgt\u001b[0m\u001b[0;34m,\u001b[0m \u001b[0mmax_hgt\u001b[0m\u001b[0;34m,\u001b[0m \u001b[0myear\u001b[0m\u001b[0;34m=\u001b[0m\u001b[0mryr\u001b[0m\u001b[0;34m)\u001b[0m\u001b[0;34m\u001b[0m\u001b[0m\n\u001b[0m\u001b[1;32m    966\u001b[0m \u001b[0;34m\u001b[0m\u001b[0m\n\u001b[1;32m    967\u001b[0m     \u001b[0;32mdef\u001b[0m \u001b[0mget_ela\u001b[0m\u001b[0;34m(\u001b[0m\u001b[0mself\u001b[0m\u001b[0;34m,\u001b[0m \u001b[0myear\u001b[0m\u001b[0;34m=\u001b[0m\u001b[0;32mNone\u001b[0m\u001b[0;34m)\u001b[0m\u001b[0;34m:\u001b[0m\u001b[0;34m\u001b[0m\u001b[0m\n",
      "\u001b[0;32m~/oggm-fork/oggm/core/vascaling.py\u001b[0m in \u001b[0;36mget_specific_mb\u001b[0;34m(self, min_hgt, max_hgt, year)\u001b[0m\n\u001b[1;32m    772\u001b[0m         temp_for_melt, prcp_solid = self.get_annual_climate(min_hgt,\n\u001b[1;32m    773\u001b[0m                                                             \u001b[0mmax_hgt\u001b[0m\u001b[0;34m,\u001b[0m\u001b[0;34m\u001b[0m\u001b[0m\n\u001b[0;32m--> 774\u001b[0;31m                                                             year)\n\u001b[0m\u001b[1;32m    775\u001b[0m         \u001b[0;31m# compute mass balance\u001b[0m\u001b[0;34m\u001b[0m\u001b[0;34m\u001b[0m\u001b[0m\n\u001b[1;32m    776\u001b[0m         \u001b[0mmb_annual\u001b[0m \u001b[0;34m=\u001b[0m \u001b[0mnp\u001b[0m\u001b[0;34m.\u001b[0m\u001b[0msum\u001b[0m\u001b[0;34m(\u001b[0m\u001b[0mprcp_solid\u001b[0m \u001b[0;34m-\u001b[0m \u001b[0mself\u001b[0m\u001b[0;34m.\u001b[0m\u001b[0mmu_star\u001b[0m \u001b[0;34m*\u001b[0m \u001b[0mtemp_for_melt\u001b[0m\u001b[0;34m)\u001b[0m\u001b[0;34m\u001b[0m\u001b[0m\n",
      "\u001b[0;32m~/oggm-fork/oggm/core/vascaling.py\u001b[0m in \u001b[0;36mget_annual_climate\u001b[0;34m(self, min_hgt, max_hgt, year)\u001b[0m\n\u001b[1;32m    715\u001b[0m         \u001b[0;32mif\u001b[0m \u001b[0myear\u001b[0m \u001b[0;34m<\u001b[0m \u001b[0mself\u001b[0m\u001b[0;34m.\u001b[0m\u001b[0mys\u001b[0m \u001b[0;32mor\u001b[0m \u001b[0myear\u001b[0m \u001b[0;34m>\u001b[0m \u001b[0mself\u001b[0m\u001b[0;34m.\u001b[0m\u001b[0mye\u001b[0m\u001b[0;34m:\u001b[0m\u001b[0;34m\u001b[0m\u001b[0m\n\u001b[1;32m    716\u001b[0m             raise ValueError('year {} out of the valid time bounds: '\n\u001b[0;32m--> 717\u001b[0;31m                              '[{}, {}]'.format(year, self.ys, self.ye))\n\u001b[0m\u001b[1;32m    718\u001b[0m         \u001b[0mpok\u001b[0m \u001b[0;34m=\u001b[0m \u001b[0mnp\u001b[0m\u001b[0;34m.\u001b[0m\u001b[0mwhere\u001b[0m\u001b[0;34m(\u001b[0m\u001b[0mself\u001b[0m\u001b[0;34m.\u001b[0m\u001b[0myears\u001b[0m \u001b[0;34m==\u001b[0m \u001b[0myear\u001b[0m\u001b[0;34m)\u001b[0m\u001b[0;34m[\u001b[0m\u001b[0;36m0\u001b[0m\u001b[0;34m]\u001b[0m\u001b[0;34m\u001b[0m\u001b[0m\n\u001b[1;32m    719\u001b[0m         \u001b[0;32mif\u001b[0m \u001b[0mlen\u001b[0m\u001b[0;34m(\u001b[0m\u001b[0mpok\u001b[0m\u001b[0;34m)\u001b[0m \u001b[0;34m<\u001b[0m \u001b[0;36m1\u001b[0m\u001b[0;34m:\u001b[0m\u001b[0;34m\u001b[0m\u001b[0m\n",
      "\u001b[0;31mValueError\u001b[0m: year 2015.0 out of the valid time bounds: [1802, 2014]"
     ]
    }
   ],
   "source": [
    "# select Hintereisferener\n",
    "gdir = gdirs[0]\n",
    "cfg.PARAMS['baseline_climate'] = 'HISTALP'\n",
    "cfg.PARAMS['prcp_scaling_factor'] = 1.75\n",
    "cfg.PARAMS['temp_melt'] = -1.75\n",
    "vascaling.run_random_vas_climate(gdir, y0=2000)"
   ]
  },
  {
   "cell_type": "code",
   "execution_count": 30,
   "metadata": {},
   "outputs": [
    {
     "data": {
      "text/html": [
       "<div>\n",
       "<style scoped>\n",
       "    .dataframe tbody tr th:only-of-type {\n",
       "        vertical-align: middle;\n",
       "    }\n",
       "\n",
       "    .dataframe tbody tr th {\n",
       "        vertical-align: top;\n",
       "    }\n",
       "\n",
       "    .dataframe thead th {\n",
       "        text-align: right;\n",
       "    }\n",
       "</style>\n",
       "<table border=\"1\" class=\"dataframe\">\n",
       "  <thead>\n",
       "    <tr style=\"text-align: right;\">\n",
       "      <th></th>\n",
       "      <th>year0</th>\n",
       "      <th>length_m</th>\n",
       "      <th>length_m_0</th>\n",
       "      <th>dL</th>\n",
       "      <th>area_m2</th>\n",
       "      <th>area_m2_0</th>\n",
       "      <th>dA</th>\n",
       "      <th>volume_m3</th>\n",
       "      <th>volume_m3_0</th>\n",
       "      <th>dV</th>\n",
       "      <th>...</th>\n",
       "      <th>tau_a</th>\n",
       "      <th>ca</th>\n",
       "      <th>gamma</th>\n",
       "      <th>cl</th>\n",
       "      <th>ql</th>\n",
       "      <th>min_hgt</th>\n",
       "      <th>min_hgt_0</th>\n",
       "      <th>max_hgt</th>\n",
       "      <th>rho</th>\n",
       "      <th>spec_mb</th>\n",
       "    </tr>\n",
       "  </thead>\n",
       "  <tbody>\n",
       "    <tr>\n",
       "      <th>0</th>\n",
       "      <td>0.0</td>\n",
       "      <td>5091.373049</td>\n",
       "      <td>5091.373049</td>\n",
       "      <td>0.000000</td>\n",
       "      <td>8.559000e+06</td>\n",
       "      <td>8559000.0</td>\n",
       "      <td>0.000000</td>\n",
       "      <td>6.503019e+08</td>\n",
       "      <td>6.503019e+08</td>\n",
       "      <td>0.000000e+00</td>\n",
       "      <td>...</td>\n",
       "      <td>1.000000</td>\n",
       "      <td>0.191</td>\n",
       "      <td>1.375</td>\n",
       "      <td>4.5507</td>\n",
       "      <td>2.2</td>\n",
       "      <td>2809.000000</td>\n",
       "      <td>2809.0</td>\n",
       "      <td>3560.0</td>\n",
       "      <td>900.0</td>\n",
       "      <td>36.261903</td>\n",
       "    </tr>\n",
       "    <tr>\n",
       "      <th>1</th>\n",
       "      <td>0.0</td>\n",
       "      <td>5091.396209</td>\n",
       "      <td>5091.373049</td>\n",
       "      <td>0.023160</td>\n",
       "      <td>8.559189e+06</td>\n",
       "      <td>8559000.0</td>\n",
       "      <td>188.679123</td>\n",
       "      <td>6.506468e+08</td>\n",
       "      <td>6.503019e+08</td>\n",
       "      <td>3.448507e+05</td>\n",
       "      <td>...</td>\n",
       "      <td>17.493679</td>\n",
       "      <td>0.191</td>\n",
       "      <td>1.375</td>\n",
       "      <td>4.5507</td>\n",
       "      <td>2.2</td>\n",
       "      <td>2808.996584</td>\n",
       "      <td>2809.0</td>\n",
       "      <td>3560.0</td>\n",
       "      <td>900.0</td>\n",
       "      <td>36.261903</td>\n",
       "    </tr>\n",
       "    <tr>\n",
       "      <th>2</th>\n",
       "      <td>0.0</td>\n",
       "      <td>5091.985267</td>\n",
       "      <td>5091.373049</td>\n",
       "      <td>0.589058</td>\n",
       "      <td>8.563989e+06</td>\n",
       "      <td>8559000.0</td>\n",
       "      <td>4800.135265</td>\n",
       "      <td>6.591150e+08</td>\n",
       "      <td>6.503019e+08</td>\n",
       "      <td>8.468247e+06</td>\n",
       "      <td>...</td>\n",
       "      <td>17.502797</td>\n",
       "      <td>0.191</td>\n",
       "      <td>1.375</td>\n",
       "      <td>4.5507</td>\n",
       "      <td>2.2</td>\n",
       "      <td>2808.909695</td>\n",
       "      <td>2809.0</td>\n",
       "      <td>3560.0</td>\n",
       "      <td>900.0</td>\n",
       "      <td>890.437501</td>\n",
       "    </tr>\n",
       "    <tr>\n",
       "      <th>3</th>\n",
       "      <td>0.0</td>\n",
       "      <td>5092.796912</td>\n",
       "      <td>5091.373049</td>\n",
       "      <td>0.811645</td>\n",
       "      <td>8.570427e+06</td>\n",
       "      <td>8559000.0</td>\n",
       "      <td>6438.442079</td>\n",
       "      <td>6.627788e+08</td>\n",
       "      <td>6.503019e+08</td>\n",
       "      <td>3.663820e+06</td>\n",
       "      <td>...</td>\n",
       "      <td>17.726496</td>\n",
       "      <td>0.191</td>\n",
       "      <td>1.375</td>\n",
       "      <td>4.5507</td>\n",
       "      <td>2.2</td>\n",
       "      <td>2808.789974</td>\n",
       "      <td>2809.0</td>\n",
       "      <td>3560.0</td>\n",
       "      <td>900.0</td>\n",
       "      <td>385.035340</td>\n",
       "    </tr>\n",
       "    <tr>\n",
       "      <th>4</th>\n",
       "      <td>0.0</td>\n",
       "      <td>5093.665947</td>\n",
       "      <td>5091.373049</td>\n",
       "      <td>0.869036</td>\n",
       "      <td>8.577095e+06</td>\n",
       "      <td>8559000.0</td>\n",
       "      <td>6668.204046</td>\n",
       "      <td>6.639480e+08</td>\n",
       "      <td>6.503019e+08</td>\n",
       "      <td>1.169135e+06</td>\n",
       "      <td>...</td>\n",
       "      <td>17.819351</td>\n",
       "      <td>0.191</td>\n",
       "      <td>1.375</td>\n",
       "      <td>4.5507</td>\n",
       "      <td>2.2</td>\n",
       "      <td>2808.661787</td>\n",
       "      <td>2809.0</td>\n",
       "      <td>3560.0</td>\n",
       "      <td>900.0</td>\n",
       "      <td>122.773469</td>\n",
       "    </tr>\n",
       "  </tbody>\n",
       "</table>\n",
       "<p>5 rows × 21 columns</p>\n",
       "</div>"
      ],
      "text/plain": [
       "   year0     length_m   length_m_0        dL       area_m2  area_m2_0  \\\n",
       "0    0.0  5091.373049  5091.373049  0.000000  8.559000e+06  8559000.0   \n",
       "1    0.0  5091.396209  5091.373049  0.023160  8.559189e+06  8559000.0   \n",
       "2    0.0  5091.985267  5091.373049  0.589058  8.563989e+06  8559000.0   \n",
       "3    0.0  5092.796912  5091.373049  0.811645  8.570427e+06  8559000.0   \n",
       "4    0.0  5093.665947  5091.373049  0.869036  8.577095e+06  8559000.0   \n",
       "\n",
       "            dA     volume_m3   volume_m3_0            dV     ...      \\\n",
       "0     0.000000  6.503019e+08  6.503019e+08  0.000000e+00     ...       \n",
       "1   188.679123  6.506468e+08  6.503019e+08  3.448507e+05     ...       \n",
       "2  4800.135265  6.591150e+08  6.503019e+08  8.468247e+06     ...       \n",
       "3  6438.442079  6.627788e+08  6.503019e+08  3.663820e+06     ...       \n",
       "4  6668.204046  6.639480e+08  6.503019e+08  1.169135e+06     ...       \n",
       "\n",
       "       tau_a     ca  gamma      cl   ql      min_hgt  min_hgt_0  max_hgt  \\\n",
       "0   1.000000  0.191  1.375  4.5507  2.2  2809.000000     2809.0   3560.0   \n",
       "1  17.493679  0.191  1.375  4.5507  2.2  2808.996584     2809.0   3560.0   \n",
       "2  17.502797  0.191  1.375  4.5507  2.2  2808.909695     2809.0   3560.0   \n",
       "3  17.726496  0.191  1.375  4.5507  2.2  2808.789974     2809.0   3560.0   \n",
       "4  17.819351  0.191  1.375  4.5507  2.2  2808.661787     2809.0   3560.0   \n",
       "\n",
       "     rho     spec_mb  \n",
       "0  900.0   36.261903  \n",
       "1  900.0   36.261903  \n",
       "2  900.0  890.437501  \n",
       "3  900.0  385.035340  \n",
       "4  900.0  122.773469  \n",
       "\n",
       "[5 rows x 21 columns]"
      ]
     },
     "execution_count": 30,
     "metadata": {},
     "output_type": "execute_result"
    }
   ],
   "source": [
    "path = gdir.get_filepath('model_diagnostics', filesuffix='vas')\n",
    "df = pd.read_csv(path, index_col=0)\n",
    "df.head()"
   ]
  },
  {
   "cell_type": "code",
   "execution_count": 32,
   "metadata": {},
   "outputs": [
    {
     "data": {
      "text/plain": [
       "<matplotlib.axes._subplots.AxesSubplot at 0x1c23ff7b70>"
      ]
     },
     "execution_count": 32,
     "metadata": {},
     "output_type": "execute_result"
    },
    {
     "data": {
      "image/png": "[encoded data removed]",
      "text/plain": [
       "<Figure size 432x288 with 1 Axes>"
      ]
     },
     "metadata": {},
     "output_type": "display_data"
    }
   ],
   "source": [
    "df.volume_m3.plot()"
   ]
  },
  {
   "cell_type": "markdown",
   "metadata": {},
   "source": [
    "### Access `model_diagnostice` from already run gdirs"
   ]
  },
  {
   "cell_type": "code",
   "execution_count": 16,
   "metadata": {},
   "outputs": [],
   "source": [
    "# Python imports\n",
    "import os\n",
    "import numpy as np\n",
    "import pandas as pd\n",
    "import geopandas as gpd\n",
    "import shapely.geometry as shpg\n",
    "\n",
    "# Locals\n",
    "import oggm.cfg as cfg\n",
    "from oggm import utils, workflow\n",
    "from oggm.core import vascaling, climate"
   ]
  },
  {
   "cell_type": "code",
   "execution_count": 67,
   "metadata": {},
   "outputs": [
    {
     "name": "stderr",
     "output_type": "stream",
     "text": [
      "2019-02-24 14:20:41: oggm.cfg: Using configuration file: /Users/oberrauch/oggm-fork/oggm/params.cfg\n"
     ]
    }
   ],
   "source": [
    "# Initialize OGGM and set up the default run parameters\n",
    "cfg.initialize()\n",
    "rgi_version = '61'\n",
    "rgi_region = '11'  # Alps\n",
    "\n",
    "# Local working directory (where OGGM will write its output)\n",
    "\n",
    "wdir = '/Users/oberrauch/master/working_sirectories/commitment_run_vas/'\n",
    "utils.mkdir(wdir)\n",
    "cfg.PATHS['working_dir'] = wdir\n",
    "\n",
    "# We use intersects\n",
    "path = utils.get_rgi_intersects_region_file(rgi_region, version=rgi_version)\n",
    "cfg.set_intersects_db(path)\n",
    "\n",
    "# RGI file\n",
    "path = utils.get_rgi_region_file(rgi_region, version=rgi_version)\n",
    "rgidf = gpd.read_file(path)\n",
    "\n",
    "# Get the Rofental Basin file\n",
    "path = utils.get_demo_file('rofental_hydrosheds.shp')\n",
    "basin = gpd.read_file(path)\n",
    "\n",
    "# Take all glaciers in the Rofental Basin\n",
    "in_bas = [basin.geometry.contains(shpg.Point(x, y))[0] for\n",
    "          (x, y) in zip(rgidf.CenLon, rgidf.CenLat)]\n",
    "rgidf = rgidf.loc[in_bas]\n",
    "# Store them for later\n",
    "rgidf.to_file(os.path.join(wdir, 'rgi_rofental.shp'))\n",
    "\n",
    "# Sort for more efficient parallel computing\n",
    "rgidf = rgidf.sort_values('Area', ascending=False)\n",
    "cfg.PARAMS['use_multiprocessing'] = True\n",
    "\n",
    "# Go - initialize glacier directories\n",
    "gdirs = workflow.init_glacier_regions(rgidf)"
   ]
  },
  {
   "cell_type": "code",
   "execution_count": 68,
   "metadata": {},
   "outputs": [],
   "source": [
    "nyears = 300\n",
    "# create empty container\n",
    "volume_m3 = pd.DataFrame(index=np.arange(0,nyears))\n",
    "# iterate over all gdirs\n",
    "for gdir in gdirs:\n",
    "    path = gdir.get_filepath('model_diagnostics', filesuffix='vas')\n",
    "    df = pd.read_csv(path, index_col=0)\n",
    "    vol = df.volume_m3\n",
    "    rgi_id = gdir.rgi_id\n",
    "    volume_m3[rgi_id] = vol"
   ]
  },
  {
   "cell_type": "code",
   "execution_count": 89,
   "metadata": {},
   "outputs": [
    {
     "data": {
      "text/plain": [
       "<matplotlib.axes._subplots.AxesSubplot at 0x1c25600470>"
      ]
     },
     "execution_count": 89,
     "metadata": {},
     "output_type": "execute_result"
    },
    {
     "data": {
      "image/png": "[encoded data removed]",
      "text/plain": [
       "<Figure size 432x288 with 1 Axes>"
      ]
     },
     "metadata": {},
     "output_type": "display_data"
    }
   ],
   "source": [
    "volume_m3.sum(axis=1).plot()"
   ]
  },
  {
   "cell_type": "code",
   "execution_count": 101,
   "metadata": {},
   "outputs": [],
   "source": [
    "# Imports\n",
    "import os\n",
    "import xarray as xr\n",
    "import matplotlib.pyplot as plt\n",
    "from oggm.utils import get_demo_file, gettempdir\n",
    "\n",
    "# Local working directory (where OGGM wrote its output)\n",
    "wdir = '/Users/oberrauch/master/working_sirectories/commitment_run_oggm/'\n",
    "# Read the files using xarray\n",
    "ds = xr.open_dataset(os.path.join(wdir, 'run_output_commitment.nc'))"
   ]
  },
  {
   "cell_type": "code",
   "execution_count": 106,
   "metadata": {},
   "outputs": [
    {
     "data": {
      "text/plain": [
       "Text(0,0.5,'Volume [m$^3$]')"
      ]
     },
     "execution_count": 106,
     "metadata": {},
     "output_type": "execute_result"
    },
    {
     "data": {
      "image/png": "[encoded data removed]",
      "text/plain": [
       "<Figure size 432x288 with 1 Axes>"
      ]
     },
     "metadata": {},
     "output_type": "display_data"
    }
   ],
   "source": [
    "# Volume\n",
    "(ds.volume.sum(dim='rgi_id')).plot(label='OGGM')\n",
    "volume_m3.sum(axis=1).plot(label='VAS')\n",
    "plt.legend()\n",
    "plt.title('Overall glacier volume - Rofental')\n",
    "plt.xlabel('')\n",
    "plt.ylabel('Volume [m$^3$]')"
   ]
  },
  {
   "cell_type": "code",
   "execution_count": null,
   "metadata": {},
   "outputs": [],
   "source": []
  },
  {
   "cell_type": "code",
   "execution_count": null,
   "metadata": {},
   "outputs": [],
   "source": []
  },
  {
   "cell_type": "code",
   "execution_count": 70,
   "metadata": {},
   "outputs": [
    {
     "name": "stderr",
     "output_type": "stream",
     "text": [
      "2019-02-24 14:30:45: oggm.workflow: init_glacier_regions by parsing available folders (can be slow).\n"
     ]
    }
   ],
   "source": [
    "# Local working directory (where OGGM will write its output)\n",
    "wdir = '/Users/oberrauch/master/working_sirectories/commitment_run_oggm/'\n",
    "utils.mkdir(wdir, reset=False)\n",
    "cfg.PATHS['working_dir'] = wdir\n",
    "gdirs = workflow.init_glacier_regions()"
   ]
  },
  {
   "cell_type": "code",
   "execution_count": 74,
   "metadata": {},
   "outputs": [
    {
     "name": "stderr",
     "output_type": "stream",
     "text": [
      "2019-02-24 14:31:27: oggm.core.flowline: (RGI60-11.00675) init_present_time_glacier\n"
     ]
    }
   ],
   "source": [
    "from oggm.core import flowline\n",
    "flowline.init_present_time_glacier(gdirs[1])"
   ]
  },
  {
   "cell_type": "code",
   "execution_count": 80,
   "metadata": {},
   "outputs": [
    {
     "name": "stderr",
     "output_type": "stream",
     "text": [
      "2019-02-24 14:34:09: oggm.core.flowline: (RGI60-11.00675) run_random_climate_commitment\n",
      "2019-02-24 14:34:09: oggm.core.flowline: (RGI60-11.00675) trying default time stepping scheme.\n",
      "/Users/oberrauch/miniconda3/envs/oggm_env/lib/python3.6/site-packages/dask/utils.py:1010: UserWarning: Deprecated, see dask.base.get_scheduler instead\n",
      "  warnings.warn(\"Deprecated, see dask.base.get_scheduler instead\")\n",
      "2019-02-24 14:34:12: oggm.core.flowline: (RGI60-11.00675) default time stepping was successful!\n"
     ]
    },
    {
     "data": {
      "text/plain": [
       "<oggm.core.flowline.FluxBasedModel at 0x1c25381f28>"
      ]
     },
     "execution_count": 80,
     "metadata": {},
     "output_type": "execute_result"
    }
   ],
   "source": [
    "cfg.PARAMS['baseline_climate'] = 'HISTALP'\n",
    "cfg.PARAMS['prcp_scaling_factor'] = 1.75\n",
    "cfg.PARAMS['temp_melt'] = -1.75\n",
    "flowline.run_random_climate(gdirs[1], nyears=300, y0=1999, seed=2,\n",
    "                            output_filesuffix='_commitment')"
   ]
  },
  {
   "cell_type": "code",
   "execution_count": 93,
   "metadata": {},
   "outputs": [
    {
     "data": {
      "text/plain": [
       "'/Users/oberrauch/master/working_sirectories/commitment_run_oggm/per_glacier/RGI60-11/RGI60-11.00/RGI60-11.00675/model_diagnostics_commitment.nc'"
      ]
     },
     "execution_count": 93,
     "metadata": {},
     "output_type": "execute_result"
    }
   ],
   "source": [
    "path = gdirs[1].get_filepath('model_diagnostics', filesuffix='_commitment')\n",
    "path"
   ]
  },
  {
   "cell_type": "code",
   "execution_count": null,
   "metadata": {},
   "outputs": [],
   "source": [
    "nyears = 300\n",
    "# create empty container\n",
    "volume_m3 = pd.DataFrame(index=np.arange(0,nyears))\n",
    "# iterate over all gdirs\n",
    "for gdir in gdirs:\n",
    "\n",
    "    df = pd.read_csv(path, index_col=0)\n",
    "    vol = df.volume_m3\n",
    "    rgi_id = gdir.rgi_id\n",
    "    volume_m3[rgi_id] = vol"
   ]
  },
  {
   "cell_type": "code",
   "execution_count": null,
   "metadata": {},
   "outputs": [],
   "source": [
    "path"
   ]
  },
  {
   "cell_type": "code",
   "execution_count": 87,
   "metadata": {},
   "outputs": [
    {
     "data": {
      "text/plain": [
       "[<matplotlib.lines.Line2D at 0x1c23a35b00>]"
      ]
     },
     "execution_count": 87,
     "metadata": {},
     "output_type": "execute_result"
    },
    {
     "data": {
      "image/png": "[encoded data removed]",
      "text/plain": [
       "<Figure size 432x288 with 1 Axes>"
      ]
     },
     "metadata": {},
     "output_type": "display_data"
    }
   ],
   "source": [
    "import xarray as xa\n",
    "ds = xa.open_dataset(path)\n",
    "ds.volume_m3.plot()"
   ]
  },
  {
   "cell_type": "markdown",
   "metadata": {},
   "source": [
    "### Quick test of RandomClimate"
   ]
  },
  {
   "cell_type": "code",
   "execution_count": 34,
   "metadata": {},
   "outputs": [
    {
     "data": {
      "text/plain": [
       "<module 'oggm.core.vascaling' from '/Users/oberrauch/oggm-fork/oggm/core/vascaling.py'>"
      ]
     },
     "execution_count": 34,
     "metadata": {},
     "output_type": "execute_result"
    }
   ],
   "source": [
    "# quick-test of the RandomVASMassBalanceModel\n",
    "import importlib\n",
    "importlib.reload(vascaling)"
   ]
  },
  {
   "cell_type": "code",
   "execution_count": 35,
   "metadata": {},
   "outputs": [],
   "source": [
    "import numpy as np"
   ]
  },
  {
   "cell_type": "code",
   "execution_count": 36,
   "metadata": {},
   "outputs": [
    {
     "data": {
      "text/plain": [
       "<oggm.GlacierDirectory>\n",
       "  RGI id: RGI60-11.00897\n",
       "  Region: 11: Central Europe\n",
       "  Subregion: 11-01: Alps                            \n",
       "  Name: Hintereisferner\n",
       "  Glacier type: Glacier\n",
       "  Terminus type: Land-terminating\n",
       "  Area: 8.036 km2\n",
       "  Lon, Lat: (10.7584, 46.8003)\n",
       "  Grid (nx, ny): (159, 114)\n",
       "  Grid (dx, dy): (50.0, -50.0)"
      ]
     },
     "execution_count": 36,
     "metadata": {},
     "output_type": "execute_result"
    }
   ],
   "source": [
    "# select Hintereisferner gdir\n",
    "gdir = gdirs[int(np.where([gdir.name == 'Hintereisferner' for gdir in gdirs])[0])]\n",
    "gdir"
   ]
  },
  {
   "cell_type": "code",
   "execution_count": 61,
   "metadata": {},
   "outputs": [],
   "source": [
    "rand_mbmod = vascaling.RandomVASMassBalance(gdir=gdir, seed=12, y0=1999)"
   ]
  },
  {
   "cell_type": "code",
   "execution_count": 62,
   "metadata": {},
   "outputs": [
    {
     "name": "stdout",
     "output_type": "stream",
     "text": [
      "Year 2043 correpsonds to mb year 1995, resulting in -410.4912065804235 mm w.e. yr-1\n"
     ]
    }
   ],
   "source": [
    "min_hgt, max_hgt = vascaling.get_min_max_elevation(gdir)\n",
    "year = 2043\n",
    "r_yr = rand_mbmod.get_state_yr(year)\n",
    "mb = rand_mbmod.get_specific_mb(min_hgt, max_hgt, year)\n",
    "print('Year {} correpsonds to mb year {}, resulting in {} mm w.e. yr-1'.format(year, r_yr, mb))"
   ]
  },
  {
   "cell_type": "code",
   "execution_count": 63,
   "metadata": {},
   "outputs": [],
   "source": [
    "years = np.arange(2018, 2200)\n",
    "mb = np.empty(years.size)\n",
    "r_yrs = np.empty(years.size)\n",
    "for i, year in enumerate(years):\n",
    "    mb[i] = rand_mbmod.get_specific_mb(min_hgt, max_hgt, year)\n",
    "    r_yrs[i] = rand_mbmod.get_state_yr(year)\n",
    "\n",
    "import pandas as pd\n",
    "df = pd.DataFrame({'mb':mb, 'r_yr':r_yrs}, index=years)"
   ]
  },
  {
   "cell_type": "code",
   "execution_count": 64,
   "metadata": {},
   "outputs": [
    {
     "data": {
      "text/plain": [
       "<matplotlib.axes._subplots.AxesSubplot at 0x1c23fdb4e0>"
      ]
     },
     "execution_count": 64,
     "metadata": {},
     "output_type": "execute_result"
    },
    {
     "data": {
      "image/png": "[encoded data removed]",
      "text/plain": [
       "<Figure size 432x288 with 1 Axes>"
      ]
     },
     "metadata": {},
     "output_type": "display_data"
    }
   ],
   "source": [
    "df.mb.plot()"
   ]
  },
  {
   "cell_type": "code",
   "execution_count": 65,
   "metadata": {},
   "outputs": [],
   "source": [
    "local_tstar = gdir.read_json('vascaling_mustar')\n",
    "t_star = local_tstar['t_star']"
   ]
  },
  {
   "cell_type": "code",
   "execution_count": 66,
   "metadata": {},
   "outputs": [
    {
     "data": {
      "text/plain": [
       "<matplotlib.lines.Line2D at 0x1c23facd68>"
      ]
     },
     "execution_count": 66,
     "metadata": {},
     "output_type": "execute_result"
    },
    {
     "data": {
      "image/png": "[encoded data removed]",
      "text/plain": [
       "<Figure size 432x288 with 1 Axes>"
      ]
     },
     "metadata": {},
     "output_type": "display_data"
    }
   ],
   "source": [
    "import matplotlib.pyplot as plt\n",
    "df.r_yr.plot()\n",
    "plt.axhline(t_star-15)\n",
    "plt.axhline(t_star+15)"
   ]
  },
  {
   "cell_type": "code",
   "execution_count": 119,
   "metadata": {},
   "outputs": [
    {
     "name": "stdout",
     "output_type": "stream",
     "text": [
      "\u001b[34mRGI60-11.00674\u001b[m\u001b[m/ \u001b[34mRGI60-11.00737\u001b[m\u001b[m/ \u001b[34mRGI60-11.00814\u001b[m\u001b[m/ \u001b[34mRGI60-11.00888\u001b[m\u001b[m/ \u001b[34mRGI60-11.00944\u001b[m\u001b[m/\r\n",
      "\u001b[34mRGI60-11.00675\u001b[m\u001b[m/ \u001b[34mRGI60-11.00739\u001b[m\u001b[m/ \u001b[34mRGI60-11.00822\u001b[m\u001b[m/ \u001b[34mRGI60-11.00895\u001b[m\u001b[m/ \u001b[34mRGI60-11.00945\u001b[m\u001b[m/\r\n",
      "\u001b[34mRGI60-11.00690\u001b[m\u001b[m/ \u001b[34mRGI60-11.00745\u001b[m\u001b[m/ \u001b[34mRGI60-11.00831\u001b[m\u001b[m/ \u001b[34mRGI60-11.00897\u001b[m\u001b[m/ \u001b[34mRGI60-11.00947\u001b[m\u001b[m/\r\n",
      "\u001b[34mRGI60-11.00702\u001b[m\u001b[m/ \u001b[34mRGI60-11.00747\u001b[m\u001b[m/ \u001b[34mRGI60-11.00834\u001b[m\u001b[m/ \u001b[34mRGI60-11.00898\u001b[m\u001b[m/ \u001b[34mRGI60-11.00957\u001b[m\u001b[m/\r\n",
      "\u001b[34mRGI60-11.00718\u001b[m\u001b[m/ \u001b[34mRGI60-11.00753\u001b[m\u001b[m/ \u001b[34mRGI60-11.00839\u001b[m\u001b[m/ \u001b[34mRGI60-11.00902\u001b[m\u001b[m/ \u001b[34mRGI60-11.00958\u001b[m\u001b[m/\r\n",
      "\u001b[34mRGI60-11.00719\u001b[m\u001b[m/ \u001b[34mRGI60-11.00757\u001b[m\u001b[m/ \u001b[34mRGI60-11.00844\u001b[m\u001b[m/ \u001b[34mRGI60-11.00904\u001b[m\u001b[m/ \u001b[34mRGI60-11.00959\u001b[m\u001b[m/\r\n",
      "\u001b[34mRGI60-11.00720\u001b[m\u001b[m/ \u001b[34mRGI60-11.00762\u001b[m\u001b[m/ \u001b[34mRGI60-11.00860\u001b[m\u001b[m/ \u001b[34mRGI60-11.00919\u001b[m\u001b[m/ \u001b[34mRGI60-11.00962\u001b[m\u001b[m/\r\n",
      "\u001b[34mRGI60-11.00724\u001b[m\u001b[m/ \u001b[34mRGI60-11.00779\u001b[m\u001b[m/ \u001b[34mRGI60-11.00862\u001b[m\u001b[m/ \u001b[34mRGI60-11.00927\u001b[m\u001b[m/ \u001b[34mRGI60-11.00980\u001b[m\u001b[m/\r\n",
      "\u001b[34mRGI60-11.00726\u001b[m\u001b[m/ \u001b[34mRGI60-11.00782\u001b[m\u001b[m/ \u001b[34mRGI60-11.00873\u001b[m\u001b[m/ \u001b[34mRGI60-11.00935\u001b[m\u001b[m/ \u001b[34mRGI60-11.00984\u001b[m\u001b[m/\r\n",
      "\u001b[34mRGI60-11.00729\u001b[m\u001b[m/ \u001b[34mRGI60-11.00787\u001b[m\u001b[m/ \u001b[34mRGI60-11.00885\u001b[m\u001b[m/ \u001b[34mRGI60-11.00937\u001b[m\u001b[m/\r\n",
      "\u001b[34mRGI60-11.00731\u001b[m\u001b[m/ \u001b[34mRGI60-11.00802\u001b[m\u001b[m/ \u001b[34mRGI60-11.00886\u001b[m\u001b[m/ \u001b[34mRGI60-11.00943\u001b[m\u001b[m/\r\n"
     ]
    }
   ],
   "source": [
    "ls /Users/oberrauch/master/working_sirectories/commitment_run_vas/per_glacier/RGI60-11/RGI60-11.00/"
   ]
  },
  {
   "cell_type": "markdown",
   "metadata": {},
   "source": [
    "### Store to xarray"
   ]
  },
  {
   "cell_type": "code",
   "execution_count": 19,
   "metadata": {},
   "outputs": [
    {
     "data": {
      "text/plain": [
       "<xarray.DataArray 'flows_to_id' (flowlines: 1)>\n",
       "array([-1])\n",
       "Coordinates:\n",
       "  * flowlines  (flowlines) int64 0"
      ]
     },
     "execution_count": 19,
     "metadata": {},
     "output_type": "execute_result"
    }
   ],
   "source": [
    "path = '/Users/oberrauch/master/working_sirectories/commitment_run_oggm/'+\\\n",
    "    'per_glacier/RGI60-11/RGI60-11.00/RGI60-11.00731/model_run_commitment.nc'\n",
    "import xarray as xr\n",
    "xr.open_dataarray(path)"
   ]
  },
  {
   "cell_type": "code",
   "execution_count": 121,
   "metadata": {},
   "outputs": [
    {
     "data": {
      "text/html": [
       "<div>\n",
       "<style scoped>\n",
       "    .dataframe tbody tr th:only-of-type {\n",
       "        vertical-align: middle;\n",
       "    }\n",
       "\n",
       "    .dataframe tbody tr th {\n",
       "        vertical-align: top;\n",
       "    }\n",
       "\n",
       "    .dataframe thead th {\n",
       "        text-align: right;\n",
       "    }\n",
       "</style>\n",
       "<table border=\"1\" class=\"dataframe\">\n",
       "  <thead>\n",
       "    <tr style=\"text-align: right;\">\n",
       "      <th></th>\n",
       "      <th>year0</th>\n",
       "      <th>length_m</th>\n",
       "      <th>length_m_0</th>\n",
       "      <th>dL</th>\n",
       "      <th>area_m2</th>\n",
       "      <th>area_m2_0</th>\n",
       "      <th>dA</th>\n",
       "      <th>volume_m3</th>\n",
       "      <th>volume_m3_0</th>\n",
       "      <th>dV</th>\n",
       "      <th>...</th>\n",
       "      <th>tau_a</th>\n",
       "      <th>ca</th>\n",
       "      <th>gamma</th>\n",
       "      <th>cl</th>\n",
       "      <th>ql</th>\n",
       "      <th>min_hgt</th>\n",
       "      <th>min_hgt_0</th>\n",
       "      <th>max_hgt</th>\n",
       "      <th>rho</th>\n",
       "      <th>spec_mb</th>\n",
       "    </tr>\n",
       "  </thead>\n",
       "  <tbody>\n",
       "    <tr>\n",
       "      <th>0</th>\n",
       "      <td>0.0</td>\n",
       "      <td>758.694671</td>\n",
       "      <td>758.694671</td>\n",
       "      <td>0.000000</td>\n",
       "      <td>407000.000000</td>\n",
       "      <td>407000.0</td>\n",
       "      <td>0.000000</td>\n",
       "      <td>9.867921e+06</td>\n",
       "      <td>9.867921e+06</td>\n",
       "      <td>0.000000</td>\n",
       "      <td>...</td>\n",
       "      <td>1.000000</td>\n",
       "      <td>0.191</td>\n",
       "      <td>1.375</td>\n",
       "      <td>4.5507</td>\n",
       "      <td>2.2</td>\n",
       "      <td>2648.000000</td>\n",
       "      <td>2648.0</td>\n",
       "      <td>3349.0</td>\n",
       "      <td>900.0</td>\n",
       "      <td>-174.906496</td>\n",
       "    </tr>\n",
       "    <tr>\n",
       "      <th>1</th>\n",
       "      <td>0.0</td>\n",
       "      <td>758.562132</td>\n",
       "      <td>758.694671</td>\n",
       "      <td>-0.132539</td>\n",
       "      <td>406839.285439</td>\n",
       "      <td>407000.0</td>\n",
       "      <td>-160.714561</td>\n",
       "      <td>9.788825e+06</td>\n",
       "      <td>9.867921e+06</td>\n",
       "      <td>-79096.604372</td>\n",
       "      <td>...</td>\n",
       "      <td>14.778988</td>\n",
       "      <td>0.191</td>\n",
       "      <td>1.375</td>\n",
       "      <td>4.5507</td>\n",
       "      <td>2.2</td>\n",
       "      <td>2648.122460</td>\n",
       "      <td>2648.0</td>\n",
       "      <td>3349.0</td>\n",
       "      <td>900.0</td>\n",
       "      <td>-174.906496</td>\n",
       "    </tr>\n",
       "    <tr>\n",
       "      <th>2</th>\n",
       "      <td>0.0</td>\n",
       "      <td>757.753797</td>\n",
       "      <td>758.694671</td>\n",
       "      <td>-0.808335</td>\n",
       "      <td>405867.823952</td>\n",
       "      <td>407000.0</td>\n",
       "      <td>-971.461487</td>\n",
       "      <td>9.390811e+06</td>\n",
       "      <td>9.867921e+06</td>\n",
       "      <td>-398013.433431</td>\n",
       "      <td>...</td>\n",
       "      <td>14.665650</td>\n",
       "      <td>0.191</td>\n",
       "      <td>1.375</td>\n",
       "      <td>4.5507</td>\n",
       "      <td>2.2</td>\n",
       "      <td>2648.869326</td>\n",
       "      <td>2648.0</td>\n",
       "      <td>3349.0</td>\n",
       "      <td>900.0</td>\n",
       "      <td>-880.475664</td>\n",
       "    </tr>\n",
       "    <tr>\n",
       "      <th>3</th>\n",
       "      <td>0.0</td>\n",
       "      <td>756.613577</td>\n",
       "      <td>758.694671</td>\n",
       "      <td>-1.140219</td>\n",
       "      <td>404519.860577</td>\n",
       "      <td>407000.0</td>\n",
       "      <td>-1347.963375</td>\n",
       "      <td>9.202876e+06</td>\n",
       "      <td>9.867921e+06</td>\n",
       "      <td>-187935.725235</td>\n",
       "      <td>...</td>\n",
       "      <td>14.099378</td>\n",
       "      <td>0.191</td>\n",
       "      <td>1.375</td>\n",
       "      <td>4.5507</td>\n",
       "      <td>2.2</td>\n",
       "      <td>2649.922838</td>\n",
       "      <td>2648.0</td>\n",
       "      <td>3349.0</td>\n",
       "      <td>900.0</td>\n",
       "      <td>-416.741961</td>\n",
       "    </tr>\n",
       "    <tr>\n",
       "      <th>4</th>\n",
       "      <td>0.0</td>\n",
       "      <td>754.996355</td>\n",
       "      <td>758.694671</td>\n",
       "      <td>-1.617223</td>\n",
       "      <td>402633.694285</td>\n",
       "      <td>407000.0</td>\n",
       "      <td>-1886.166292</td>\n",
       "      <td>8.926560e+06</td>\n",
       "      <td>9.867921e+06</td>\n",
       "      <td>-276315.745780</td>\n",
       "      <td>...</td>\n",
       "      <td>13.858888</td>\n",
       "      <td>0.191</td>\n",
       "      <td>1.375</td>\n",
       "      <td>4.5507</td>\n",
       "      <td>2.2</td>\n",
       "      <td>2651.417079</td>\n",
       "      <td>2648.0</td>\n",
       "      <td>3349.0</td>\n",
       "      <td>900.0</td>\n",
       "      <td>-614.763811</td>\n",
       "    </tr>\n",
       "  </tbody>\n",
       "</table>\n",
       "<p>5 rows × 21 columns</p>\n",
       "</div>"
      ],
      "text/plain": [
       "   year0    length_m  length_m_0        dL        area_m2  area_m2_0  \\\n",
       "0    0.0  758.694671  758.694671  0.000000  407000.000000   407000.0   \n",
       "1    0.0  758.562132  758.694671 -0.132539  406839.285439   407000.0   \n",
       "2    0.0  757.753797  758.694671 -0.808335  405867.823952   407000.0   \n",
       "3    0.0  756.613577  758.694671 -1.140219  404519.860577   407000.0   \n",
       "4    0.0  754.996355  758.694671 -1.617223  402633.694285   407000.0   \n",
       "\n",
       "            dA     volume_m3   volume_m3_0             dV     ...      \\\n",
       "0     0.000000  9.867921e+06  9.867921e+06       0.000000     ...       \n",
       "1  -160.714561  9.788825e+06  9.867921e+06  -79096.604372     ...       \n",
       "2  -971.461487  9.390811e+06  9.867921e+06 -398013.433431     ...       \n",
       "3 -1347.963375  9.202876e+06  9.867921e+06 -187935.725235     ...       \n",
       "4 -1886.166292  8.926560e+06  9.867921e+06 -276315.745780     ...       \n",
       "\n",
       "       tau_a     ca  gamma      cl   ql      min_hgt  min_hgt_0  max_hgt  \\\n",
       "0   1.000000  0.191  1.375  4.5507  2.2  2648.000000     2648.0   3349.0   \n",
       "1  14.778988  0.191  1.375  4.5507  2.2  2648.122460     2648.0   3349.0   \n",
       "2  14.665650  0.191  1.375  4.5507  2.2  2648.869326     2648.0   3349.0   \n",
       "3  14.099378  0.191  1.375  4.5507  2.2  2649.922838     2648.0   3349.0   \n",
       "4  13.858888  0.191  1.375  4.5507  2.2  2651.417079     2648.0   3349.0   \n",
       "\n",
       "     rho     spec_mb  \n",
       "0  900.0 -174.906496  \n",
       "1  900.0 -174.906496  \n",
       "2  900.0 -880.475664  \n",
       "3  900.0 -416.741961  \n",
       "4  900.0 -614.763811  \n",
       "\n",
       "[5 rows x 21 columns]"
      ]
     },
     "execution_count": 121,
     "metadata": {},
     "output_type": "execute_result"
    }
   ],
   "source": [
    "path = '/Users/oberrauch/master/working_sirectories/commitment_run_vas/'+\\\n",
    "    'per_glacier/RGI60-11/RGI60-11.00/RGI60-11.00739/model_diagnosticsvas.nc'\n",
    "df = pd.read_csv(path, index_col=0)\n",
    "df.head()"
   ]
  },
  {
   "cell_type": "code",
   "execution_count": 126,
   "metadata": {},
   "outputs": [],
   "source": [
    "from time import gmtime, strftime\n",
    "import xarray as xr"
   ]
  },
  {
   "cell_type": "code",
   "execution_count": 128,
   "metadata": {},
   "outputs": [
    {
     "data": {
      "text/plain": [
       "<xarray.Dataset>\n",
       "Dimensions:  ()\n",
       "Data variables:\n",
       "    *empty*\n",
       "Attributes:\n",
       "    description:    OGGM model output\n",
       "    calendar:       365-day no leap\n",
       "    creation_date:  2019-02-25 10:03:17"
      ]
     },
     "execution_count": 128,
     "metadata": {},
     "output_type": "execute_result"
    }
   ],
   "source": [
    "diag_ds = xr.Dataset()\n",
    "\n",
    "# Global attributes\n",
    "diag_ds.attrs['description'] = 'OGGM model output'\n",
    "# diag_ds.attrs['oggm_version'] = __version__\n",
    "diag_ds.attrs['calendar'] = '365-day no leap'\n",
    "diag_ds.attrs['creation_date'] = strftime(\"%Y-%m-%d %H:%M:%S\",\n",
    "                                          gmtime())\n",
    "\n",
    "\n",
    "diag_ds"
   ]
  },
  {
   "cell_type": "code",
   "execution_count": 129,
   "metadata": {},
   "outputs": [
    {
     "ename": "NameError",
     "evalue": "name 'monthly_time' is not defined",
     "output_type": "error",
     "traceback": [
      "\u001b[0;31m---------------------------------------------------------------------------\u001b[0m",
      "\u001b[0;31mNameError\u001b[0m                                 Traceback (most recent call last)",
      "\u001b[0;32m<ipython-input-129-5061f491b457>\u001b[0m in \u001b[0;36m<module>\u001b[0;34m()\u001b[0m\n\u001b[1;32m      1\u001b[0m \u001b[0;31m# Coordinates\u001b[0m\u001b[0;34m\u001b[0m\u001b[0;34m\u001b[0m\u001b[0m\n\u001b[0;32m----> 2\u001b[0;31m \u001b[0mdiag_ds\u001b[0m\u001b[0;34m.\u001b[0m\u001b[0mcoords\u001b[0m\u001b[0;34m[\u001b[0m\u001b[0;34m'time'\u001b[0m\u001b[0;34m]\u001b[0m \u001b[0;34m=\u001b[0m \u001b[0;34m(\u001b[0m\u001b[0;34m'time'\u001b[0m\u001b[0;34m,\u001b[0m \u001b[0mmonthly_time\u001b[0m\u001b[0;34m)\u001b[0m\u001b[0;34m\u001b[0m\u001b[0m\n\u001b[0m\u001b[1;32m      3\u001b[0m \u001b[0mdiag_ds\u001b[0m\u001b[0;34m.\u001b[0m\u001b[0mcoords\u001b[0m\u001b[0;34m[\u001b[0m\u001b[0;34m'hydro_year'\u001b[0m\u001b[0;34m]\u001b[0m \u001b[0;34m=\u001b[0m \u001b[0;34m(\u001b[0m\u001b[0;34m'time'\u001b[0m\u001b[0;34m,\u001b[0m \u001b[0myrs\u001b[0m\u001b[0;34m)\u001b[0m\u001b[0;34m\u001b[0m\u001b[0m\n\u001b[1;32m      4\u001b[0m \u001b[0mdiag_ds\u001b[0m\u001b[0;34m.\u001b[0m\u001b[0mcoords\u001b[0m\u001b[0;34m[\u001b[0m\u001b[0;34m'hydro_month'\u001b[0m\u001b[0;34m]\u001b[0m \u001b[0;34m=\u001b[0m \u001b[0;34m(\u001b[0m\u001b[0;34m'time'\u001b[0m\u001b[0;34m,\u001b[0m \u001b[0mmonths\u001b[0m\u001b[0;34m)\u001b[0m\u001b[0;34m\u001b[0m\u001b[0m\n\u001b[1;32m      5\u001b[0m \u001b[0mdiag_ds\u001b[0m\u001b[0;34m.\u001b[0m\u001b[0mcoords\u001b[0m\u001b[0;34m[\u001b[0m\u001b[0;34m'calendar_year'\u001b[0m\u001b[0;34m]\u001b[0m \u001b[0;34m=\u001b[0m \u001b[0;34m(\u001b[0m\u001b[0;34m'time'\u001b[0m\u001b[0;34m,\u001b[0m \u001b[0mcyrs\u001b[0m\u001b[0;34m)\u001b[0m\u001b[0;34m\u001b[0m\u001b[0m\n",
      "\u001b[0;31mNameError\u001b[0m: name 'monthly_time' is not defined"
     ]
    }
   ],
   "source": [
    "# Coordinates\n",
    "diag_ds.coords['time'] = ('time', monthly_time)\n",
    "diag_ds.coords['hydro_year'] = ('time', yrs)\n",
    "diag_ds.coords['hydro_month'] = ('time', months)\n",
    "diag_ds.coords['calendar_year'] = ('time', cyrs)\n",
    "diag_ds.coords['calendar_month'] = ('time', cmonths)"
   ]
  },
  {
   "cell_type": "code",
   "execution_count": 130,
   "metadata": {},
   "outputs": [
    {
     "data": {
      "text/plain": [
       "array([], dtype=float64)"
      ]
     },
     "execution_count": 130,
     "metadata": {},
     "output_type": "execute_result"
    }
   ],
   "source": [
    "utils.monthly_timeseries(20, 10)"
   ]
  },
  {
   "cell_type": "code",
   "execution_count": null,
   "metadata": {},
   "outputs": [],
   "source": [
    "# time\n",
    "        yearly_time = np.arange(np.floor(self.yr), np.floor(y1)+1)\n",
    "\n",
    "        if store_monthly_step:\n",
    "            monthly_time = utils.monthly_timeseries(self.yr, y1)\n",
    "        else:\n",
    "            monthly_time = np.arange(np.floor(self.yr), np.floor(y1)+1)\n",
    "        yrs, months = utils.floatyear_to_date(monthly_time)\n",
    "        cyrs, cmonths = utils.hydrodate_to_calendardate(yrs, months)"
   ]
  }
 ],
 "metadata": {
  "kernelspec": {
   "display_name": "Python 3",
   "language": "python",
   "name": "python3"
  },
  "language_info": {
   "codemirror_mode": {
    "name": "ipython",
    "version": 3
   },
   "file_extension": ".py",
   "mimetype": "text/x-python",
   "name": "python",
   "nbconvert_exporter": "python",
   "pygments_lexer": "ipython3",
   "version": "3.6.5"
  }
 },
 "nbformat": 4,
 "nbformat_minor": 2
}
