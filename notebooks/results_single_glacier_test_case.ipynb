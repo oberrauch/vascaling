{
 "cells": [
  {
   "cell_type": "markdown",
   "metadata": {},
   "source": [
    "# Quantitative analysis of single glacier run\n",
    "This notebooks computes equilibrium values, e-folding time scales, and more from the data of the single glacier test case experiment. The values are used in Chapter 3, Section 1: **Single glacier test case**. It is limited to the Hintereisferner (RGI60-11.00897), but all other *showcase glaciers* could also be investigated..."
   ]
  },
  {
   "cell_type": "code",
   "execution_count": 1,
   "metadata": {},
   "outputs": [],
   "source": [
    "# import section\n",
    "import numpy as np\n",
    "import pandas as pd\n",
    "import xarray as xr\n",
    "import matplotlib.pyplot as plt\n",
    "from scipy.stats import pearsonr"
   ]
  },
  {
   "cell_type": "markdown",
   "metadata": {},
   "source": [
    "**Aux functions**"
   ]
  },
  {
   "cell_type": "code",
   "execution_count": 16,
   "metadata": {},
   "outputs": [],
   "source": [
    "def rel_dif(a,b):\n",
    "    \"\"\"Compute relative difference between a and b\"\"\"\n",
    "    return abs(a-b)/((a+b)/2)\n",
    "\n",
    "# test\n",
    "i = 4.89\n",
    "p = 5.26\n",
    "n = 4.52\n",
    "assert(rel_dif(abs(i-n),abs(i-p)) == 0)"
   ]
  },
  {
   "cell_type": "markdown",
   "metadata": {},
   "source": [
    "**Read the dataset**"
   ]
  },
  {
   "cell_type": "code",
   "execution_count": 2,
   "metadata": {},
   "outputs": [],
   "source": [
    "def read_dataset(path):\n",
    "    # read dataset\n",
    "    ds = xr.load_dataset(path)\n",
    "    # sort by temperature bias\n",
    "    ds = ds.sortby('temp_bias')\n",
    "    # cast normalized dimension from int to bool\n",
    "    ds['normalized'] = [bool(norm) for norm in ds.normalized]\n",
    "\n",
    "    return ds"
   ]
  },
  {
   "cell_type": "code",
   "execution_count": 52,
   "metadata": {},
   "outputs": [],
   "source": [
    "# read dataset\n",
    "path = '/Users/oberrauch/work/master/data/cluster_output/single_glaciers/eq_runs.nc'\n",
    "ds = read_dataset(path)\n",
    "# select Hintereisferner\n",
    "ds = ds.sel(rgi_id='RGI60-11.00897')"
   ]
  },
  {
   "cell_type": "code",
   "execution_count": 59,
   "metadata": {},
   "outputs": [
    {
     "data": {
      "text/html": [
       "<div>\n",
       "<style scoped>\n",
       "    .dataframe tbody tr th:only-of-type {\n",
       "        vertical-align: middle;\n",
       "    }\n",
       "\n",
       "    .dataframe tbody tr th {\n",
       "        vertical-align: top;\n",
       "    }\n",
       "\n",
       "    .dataframe thead th {\n",
       "        text-align: right;\n",
       "    }\n",
       "</style>\n",
       "<table border=\"1\" class=\"dataframe\">\n",
       "  <thead>\n",
       "    <tr style=\"text-align: right;\">\n",
       "      <th></th>\n",
       "      <th>rgi_id</th>\n",
       "      <th>name</th>\n",
       "    </tr>\n",
       "  </thead>\n",
       "  <tbody>\n",
       "    <tr>\n",
       "      <th>0</th>\n",
       "      <td>RGI60-11.00897</td>\n",
       "      <td>Hintereisferner</td>\n",
       "    </tr>\n",
       "    <tr>\n",
       "      <th>1</th>\n",
       "      <td>RGI60-11.00106</td>\n",
       "      <td>Pasterze</td>\n",
       "    </tr>\n",
       "    <tr>\n",
       "      <th>2</th>\n",
       "      <td>RGI60-11.03643</td>\n",
       "      <td>Mer de Glace</td>\n",
       "    </tr>\n",
       "    <tr>\n",
       "      <th>3</th>\n",
       "      <td>RGI60-11.03638</td>\n",
       "      <td>Glacier d'Argentière</td>\n",
       "    </tr>\n",
       "    <tr>\n",
       "      <th>4</th>\n",
       "      <td>RGI60-11.01450</td>\n",
       "      <td>Großer Aletschgletscher</td>\n",
       "    </tr>\n",
       "    <tr>\n",
       "      <th>5</th>\n",
       "      <td>RGI60-11.01238</td>\n",
       "      <td>Rhonegletscher</td>\n",
       "    </tr>\n",
       "  </tbody>\n",
       "</table>\n",
       "</div>"
      ],
      "text/plain": [
       "           rgi_id                     name\n",
       "0  RGI60-11.00897          Hintereisferner\n",
       "1  RGI60-11.00106                 Pasterze\n",
       "2  RGI60-11.03643             Mer de Glace\n",
       "3  RGI60-11.03638     Glacier d'Argentière\n",
       "4  RGI60-11.01450  Großer Aletschgletscher\n",
       "5  RGI60-11.01238           Rhonegletscher"
      ]
     },
     "execution_count": 59,
     "metadata": {},
     "output_type": "execute_result"
    }
   ],
   "source": [
    "pd.read_csv('/Users/oberrauch/work/master/data/showcase_glaciers.csv')"
   ]
  },
  {
   "cell_type": "markdown",
   "metadata": {},
   "source": [
    "**Correlation between VAS model and flowline model under random climate**"
   ]
  },
  {
   "cell_type": "code",
   "execution_count": 4,
   "metadata": {},
   "outputs": [],
   "source": [
    "# define parameters and variables of interest\n",
    "variables = ['volume', 'area', 'length',]\n",
    "mb_m = 'random'\n",
    "n = True\n",
    "r_data = list()\n",
    "p_data = list()\n",
    "# iterate over all \n",
    "for var in variables:\n",
    "    r_data_ = list()\n",
    "    p_data_ = list()\n",
    "    for b in ds.temp_bias.values:\n",
    "        # select volume from dataset by temperature bias and geometric variable\n",
    "        time_slice = slice(0,1000)\n",
    "        ds_sel = ds.sel(mb_model=mb_m, normalized=n, temp_bias=b).isel(time=time_slice)[var]\n",
    "        # compute correlation and add to container\n",
    "        r, p = pearsonr(ds_sel.sel(model='vas'), ds_sel.sel(model='fl'))\n",
    "        r_data_.append(r)\n",
    "        p_data_.append(p)\n",
    "    r_data.append(r_data_)\n",
    "    p_data.append(p_data_)\n",
    "    \n",
    "# convert into dataframes\n",
    "df_r = pd.DataFrame(r_data, index=variables, columns=ds.temp_bias.values)\n",
    "df_p = pd.DataFrame(p_data, index=variables, columns=ds.temp_bias.values)"
   ]
  },
  {
   "cell_type": "markdown",
   "metadata": {},
   "source": [
    "Compute and show range of $r$- and $p$-values"
   ]
  },
  {
   "cell_type": "code",
   "execution_count": 5,
   "metadata": {},
   "outputs": [
    {
     "data": {
      "text/html": [
       "<div>\n",
       "<style scoped>\n",
       "    .dataframe tbody tr th:only-of-type {\n",
       "        vertical-align: middle;\n",
       "    }\n",
       "\n",
       "    .dataframe tbody tr th {\n",
       "        vertical-align: top;\n",
       "    }\n",
       "\n",
       "    .dataframe thead th {\n",
       "        text-align: right;\n",
       "    }\n",
       "</style>\n",
       "<table border=\"1\" class=\"dataframe\">\n",
       "  <thead>\n",
       "    <tr style=\"text-align: right;\">\n",
       "      <th></th>\n",
       "      <th>-0.5</th>\n",
       "      <th>0.0</th>\n",
       "      <th>0.5</th>\n",
       "    </tr>\n",
       "  </thead>\n",
       "  <tbody>\n",
       "    <tr>\n",
       "      <th>volume</th>\n",
       "      <td>0.351847</td>\n",
       "      <td>0.583906</td>\n",
       "      <td>0.406146</td>\n",
       "    </tr>\n",
       "    <tr>\n",
       "      <th>area</th>\n",
       "      <td>0.336697</td>\n",
       "      <td>0.475724</td>\n",
       "      <td>0.350043</td>\n",
       "    </tr>\n",
       "    <tr>\n",
       "      <th>length</th>\n",
       "      <td>0.529037</td>\n",
       "      <td>0.520428</td>\n",
       "      <td>0.582786</td>\n",
       "    </tr>\n",
       "  </tbody>\n",
       "</table>\n",
       "</div>"
      ],
      "text/plain": [
       "            -0.5       0.0       0.5\n",
       "volume  0.351847  0.583906  0.406146\n",
       "area    0.336697  0.475724  0.350043\n",
       "length  0.529037  0.520428  0.582786"
      ]
     },
     "execution_count": 5,
     "metadata": {},
     "output_type": "execute_result"
    }
   ],
   "source": [
    "# Pearson correlation coefficient\n",
    "df_r"
   ]
  },
  {
   "cell_type": "code",
   "execution_count": 9,
   "metadata": {},
   "outputs": [
    {
     "name": "stdout",
     "output_type": "stream",
     "text": [
      "Minimum correlation: 0.337\n",
      "Minimum correlation: 0.584\n"
     ]
    }
   ],
   "source": [
    "print(f'Minimum correlation: {df_r.min().min():.3f}')\n",
    "print(f'Minimum correlation: {df_r.max().max():.3f}')"
   ]
  },
  {
   "cell_type": "code",
   "execution_count": 10,
   "metadata": {},
   "outputs": [
    {
     "data": {
      "text/html": [
       "<div>\n",
       "<style scoped>\n",
       "    .dataframe tbody tr th:only-of-type {\n",
       "        vertical-align: middle;\n",
       "    }\n",
       "\n",
       "    .dataframe tbody tr th {\n",
       "        vertical-align: top;\n",
       "    }\n",
       "\n",
       "    .dataframe thead th {\n",
       "        text-align: right;\n",
       "    }\n",
       "</style>\n",
       "<table border=\"1\" class=\"dataframe\">\n",
       "  <thead>\n",
       "    <tr style=\"text-align: right;\">\n",
       "      <th></th>\n",
       "      <th>-0.5</th>\n",
       "      <th>0.0</th>\n",
       "      <th>0.5</th>\n",
       "    </tr>\n",
       "  </thead>\n",
       "  <tbody>\n",
       "    <tr>\n",
       "      <th>volume</th>\n",
       "      <td>1.632241e-30</td>\n",
       "      <td>1.890370e-92</td>\n",
       "      <td>5.305373e-41</td>\n",
       "    </tr>\n",
       "    <tr>\n",
       "      <th>area</th>\n",
       "      <td>6.256902e-28</td>\n",
       "      <td>1.310603e-57</td>\n",
       "      <td>3.372926e-30</td>\n",
       "    </tr>\n",
       "    <tr>\n",
       "      <th>length</th>\n",
       "      <td>3.330477e-73</td>\n",
       "      <td>1.705035e-70</td>\n",
       "      <td>5.087519e-92</td>\n",
       "    </tr>\n",
       "  </tbody>\n",
       "</table>\n",
       "</div>"
      ],
      "text/plain": [
       "                -0.5           0.0           0.5\n",
       "volume  1.632241e-30  1.890370e-92  5.305373e-41\n",
       "area    6.256902e-28  1.310603e-57  3.372926e-30\n",
       "length  3.330477e-73  1.705035e-70  5.087519e-92"
      ]
     },
     "execution_count": 10,
     "metadata": {},
     "output_type": "execute_result"
    }
   ],
   "source": [
    "# two-sided p value\n",
    "df_p"
   ]
  },
  {
   "cell_type": "code",
   "execution_count": 12,
   "metadata": {},
   "outputs": [
    {
     "name": "stdout",
     "output_type": "stream",
     "text": [
      "Minimum p-value: 1.89e-92\n",
      "Minimum p-value: 6.26e-28\n"
     ]
    }
   ],
   "source": [
    "print(f'Minimum p-value: {df_p.min().min():.2e}')\n",
    "print(f'Minimum p-value: {df_p.max().max():.2e}')"
   ]
  },
  {
   "cell_type": "markdown",
   "metadata": {},
   "source": [
    "Create scatter plots"
   ]
  },
  {
   "cell_type": "code",
   "execution_count": 14,
   "metadata": {
    "scrolled": false
   },
   "outputs": [
    {
     "data": {
      "image/png": "[encoded data removed]",
      "text/plain": [
       "<Figure size 432x288 with 1 Axes>"
      ]
     },
     "metadata": {
      "needs_background": "light"
     },
     "output_type": "display_data"
    },
    {
     "data": {
      "image/png": "[encoded data removed]",
      "text/plain": [
       "<Figure size 432x288 with 1 Axes>"
      ]
     },
     "metadata": {
      "needs_background": "light"
     },
     "output_type": "display_data"
    },
    {
     "data": {
      "image/png": "[encoded data removed]",
      "text/plain": [
       "<Figure size 432x288 with 1 Axes>"
      ]
     },
     "metadata": {
      "needs_background": "light"
     },
     "output_type": "display_data"
    },
    {
     "data": {
      "image/png": "[encoded data removed]",
      "text/plain": [
       "<Figure size 432x288 with 1 Axes>"
      ]
     },
     "metadata": {
      "needs_background": "light"
     },
     "output_type": "display_data"
    },
    {
     "data": {
      "image/png": "[encoded data removed]",
      "text/plain": [
       "<Figure size 432x288 with 1 Axes>"
      ]
     },
     "metadata": {
      "needs_background": "light"
     },
     "output_type": "display_data"
    },
    {
     "data": {
      "image/png": "[encoded data removed]",
      "text/plain": [
       "<Figure size 432x288 with 1 Axes>"
      ]
     },
     "metadata": {
      "needs_background": "light"
     },
     "output_type": "display_data"
    },
    {
     "data": {
      "image/png": "[encoded data removed]",
      "text/plain": [
       "<Figure size 432x288 with 1 Axes>"
      ]
     },
     "metadata": {
      "needs_background": "light"
     },
     "output_type": "display_data"
    },
    {
     "data": {
      "image/png": "[encoded data removed]",
      "text/plain": [
       "<Figure size 432x288 with 1 Axes>"
      ]
     },
     "metadata": {
      "needs_background": "light"
     },
     "output_type": "display_data"
    },
    {
     "data": {
      "image/png": "[encoded data removed]",
      "text/plain": [
       "<Figure size 432x288 with 1 Axes>"
      ]
     },
     "metadata": {
      "needs_background": "light"
     },
     "output_type": "display_data"
    }
   ],
   "source": [
    "variables = ['volume', 'area', 'length',]\n",
    "mb_m = 'random'\n",
    "n = True\n",
    "data = list()\n",
    "for var in variables:\n",
    "    for b in ds.temp_bias.values:\n",
    "        # clip some data if necessary\n",
    "        time_slice = slice(0,1000)\n",
    "        # select variable from dataset by temperature bias and geometric variable\n",
    "        ds_sel = ds.sel(mb_model=mb_m, normalized=n, temp_bias=b).isel(time=time_slice)[var]\n",
    "        plt.figure()\n",
    "        plt.scatter(ds_sel.sel(model='fl'), ds_sel.sel(model='vas'))\n",
    "        plt.title(var)\n",
    "        plt.xlabel('Flowline model')\n",
    "        plt.ylabel('VAS model')"
   ]
  },
  {
   "cell_type": "markdown",
   "metadata": {},
   "source": [
    "**Response times $\\tau$**"
   ]
  },
  {
   "cell_type": "code",
   "execution_count": 15,
   "metadata": {},
   "outputs": [
    {
     "data": {
      "text/html": [
       "<div>\n",
       "<style scoped>\n",
       "    .dataframe tbody tr th:only-of-type {\n",
       "        vertical-align: middle;\n",
       "    }\n",
       "\n",
       "    .dataframe tbody tr th {\n",
       "        vertical-align: top;\n",
       "    }\n",
       "\n",
       "    .dataframe thead tr th {\n",
       "        text-align: left;\n",
       "    }\n",
       "</style>\n",
       "<table border=\"1\" class=\"dataframe\">\n",
       "  <thead>\n",
       "    <tr>\n",
       "      <th></th>\n",
       "      <th colspan=\"2\" halign=\"left\">vas</th>\n",
       "      <th colspan=\"2\" halign=\"left\">fl</th>\n",
       "    </tr>\n",
       "    <tr>\n",
       "      <th></th>\n",
       "      <th>-0.5</th>\n",
       "      <th>0.5</th>\n",
       "      <th>-0.5</th>\n",
       "      <th>0.5</th>\n",
       "    </tr>\n",
       "  </thead>\n",
       "  <tbody>\n",
       "    <tr>\n",
       "      <th>volume</th>\n",
       "      <td>24</td>\n",
       "      <td>22</td>\n",
       "      <td>142</td>\n",
       "      <td>80</td>\n",
       "    </tr>\n",
       "    <tr>\n",
       "      <th>area</th>\n",
       "      <td>36</td>\n",
       "      <td>33</td>\n",
       "      <td>160</td>\n",
       "      <td>111</td>\n",
       "    </tr>\n",
       "    <tr>\n",
       "      <th>length</th>\n",
       "      <td>55</td>\n",
       "      <td>52</td>\n",
       "      <td>184</td>\n",
       "      <td>118</td>\n",
       "    </tr>\n",
       "  </tbody>\n",
       "</table>\n",
       "</div>"
      ],
      "text/plain": [
       "        vas        fl     \n",
       "       -0.5  0.5 -0.5  0.5\n",
       "volume   24   22  142   80\n",
       "area     36   33  160  111\n",
       "length   55   52  184  118"
      ]
     },
     "execution_count": 15,
     "metadata": {},
     "output_type": "execute_result"
    }
   ],
   "source": [
    "# define parameters and variables of interest\n",
    "variables = ['volume', 'area', 'length',]\n",
    "temp_biases = [-0.5, +0.5]\n",
    "data = list()\n",
    "# iterate over all\n",
    "for var in variables:\n",
    "    data_ = list()\n",
    "    for m in ds.model.values:\n",
    "        data__ = list()\n",
    "        for b in temp_biases:\n",
    "            # select variable by model and temperature bias\n",
    "            ds_sel = ds.sel(mb_model='constant', model=m, temp_bias=b)\n",
    "            vol = ds_sel.sel(normalized=1)[var]\n",
    "            # compute equilibrium value\n",
    "            vol_eq = vol.isel(time=-1)\n",
    "            # compute absolute value change\n",
    "            vol_eq_dif = np.abs(vol_eq - vol.isel(time=0))\n",
    "            # compute difference between yearly volume and equilibrium volume\n",
    "            vol_dif = np.abs(vol_eq - vol)\n",
    "            # compute e-folding time (much rather find index)\n",
    "            # and add to container\n",
    "            tau = int(vol.where(vol_dif < vol_eq_dif*np.exp(-1), drop=True).isel(time=0)['time'].values)\n",
    "            data__.append(tau)\n",
    "        data_.extend(data__)\n",
    "    data.append(data_)\n",
    "\n",
    "# create dataframe\n",
    "tau = pd.DataFrame(data, columns=pd.MultiIndex.from_tuples(list(zip(np.repeat(ds.model.values, 2),\n",
    "                                                                    np.tile(temp_biases, 2)))),\n",
    "                   index=variables)\n",
    "tau"
   ]
  },
  {
   "cell_type": "markdown",
   "metadata": {},
   "source": [
    "Look at symmetry of time scales"
   ]
  },
  {
   "cell_type": "code",
   "execution_count": 18,
   "metadata": {},
   "outputs": [
    {
     "name": "stdout",
     "output_type": "stream",
     "text": [
      "VAS volume: 0.09\n",
      "FL volume: 0.56\n",
      "VAS area: 0.09\n",
      "FL area: 0.36\n",
      "VAS length: 0.06\n",
      "FL length: 0.44\n"
     ]
    }
   ],
   "source": [
    "# compute relative difference in tau between pos and neg temperature bias\n",
    "for var, row in tau.iterrows():\n",
    "    rd = rel_dif(row['vas'][-0.5], row['vas'][+0.5])\n",
    "    print('VAS {}: {:.2f}'.format(var, rd))\n",
    "    rd = rel_dif(row['fl'][-0.5], row['fl'][+0.5])\n",
    "    print('FL {}: {:.2f}'.format(var, rd))"
   ]
  },
  {
   "cell_type": "markdown",
   "metadata": {},
   "source": [
    "**Equilibrium values**"
   ]
  },
  {
   "cell_type": "markdown",
   "metadata": {},
   "source": [
    "Compute fluctuations of the equilibrium value over the last 200 years of the simulation. This is done by computing the  relative difference (see above) between minimum and maximum value in that period. The table shows the results in percent."
   ]
  },
  {
   "cell_type": "code",
   "execution_count": 19,
   "metadata": {},
   "outputs": [
    {
     "data": {
      "text/html": [
       "<div>\n",
       "<style scoped>\n",
       "    .dataframe tbody tr th:only-of-type {\n",
       "        vertical-align: middle;\n",
       "    }\n",
       "\n",
       "    .dataframe tbody tr th {\n",
       "        vertical-align: top;\n",
       "    }\n",
       "\n",
       "    .dataframe thead tr th {\n",
       "        text-align: left;\n",
       "    }\n",
       "</style>\n",
       "<table border=\"1\" class=\"dataframe\">\n",
       "  <thead>\n",
       "    <tr>\n",
       "      <th></th>\n",
       "      <th colspan=\"2\" halign=\"left\">-0.5</th>\n",
       "      <th colspan=\"2\" halign=\"left\">0.5</th>\n",
       "    </tr>\n",
       "    <tr>\n",
       "      <th></th>\n",
       "      <th>vas</th>\n",
       "      <th>fl</th>\n",
       "      <th>vas</th>\n",
       "      <th>fl</th>\n",
       "    </tr>\n",
       "  </thead>\n",
       "  <tbody>\n",
       "    <tr>\n",
       "      <th>volume</th>\n",
       "      <td>0.00%</td>\n",
       "      <td>0.02%</td>\n",
       "      <td>0.00%</td>\n",
       "      <td>0.00%</td>\n",
       "    </tr>\n",
       "    <tr>\n",
       "      <th>area</th>\n",
       "      <td>0.00%</td>\n",
       "      <td>0.03%</td>\n",
       "      <td>0.00%</td>\n",
       "      <td>0.01%</td>\n",
       "    </tr>\n",
       "    <tr>\n",
       "      <th>length</th>\n",
       "      <td>0.00%</td>\n",
       "      <td>0.00%</td>\n",
       "      <td>0.00%</td>\n",
       "      <td>0.00%</td>\n",
       "    </tr>\n",
       "  </tbody>\n",
       "</table>\n",
       "</div>"
      ],
      "text/plain": [
       "         -0.5           0.5       \n",
       "          vas     fl    vas     fl\n",
       "volume  0.00%  0.02%  0.00%  0.00%\n",
       "area    0.00%  0.03%  0.00%  0.01%\n",
       "length  0.00%  0.00%  0.00%  0.00%"
      ]
     },
     "execution_count": 19,
     "metadata": {},
     "output_type": "execute_result"
    }
   ],
   "source": [
    "var = ''\n",
    "data = list()\n",
    "variables = ['volume', 'area', 'length',]\n",
    "models = ['vas', 'fl']\n",
    "temp_biases = [+0.5, -0.5]\n",
    "for var in variables:\n",
    "    data_ = list()\n",
    "    for m in models:\n",
    "        data__ = list()\n",
    "        for b in temp_biases:\n",
    "            ds_sel = ds.sel(mb_model='constant', model=m, temp_bias=b, normalized=True).isel(time=slice(-200, None))[var]\n",
    "            \n",
    "            rd = rel_dif(min(ds_sel).values, max(ds_sel).values)\n",
    "            data__.append(f'{rd*100:.2f}%')\n",
    "        data_.extend(data__)\n",
    "    data.append(data_)\n",
    "    \n",
    "columns = pd.MultiIndex.from_tuples(list(zip(np.tile(temp_biases, 2),\n",
    "                                             np.repeat(models, 2))))\n",
    "\n",
    "eq_fluctuations = pd.DataFrame(data, index=variables, columns=columns).T.sort_index(level=0, sort_remaining=False, ascending=True)\n",
    "eq_fluctuations.T"
   ]
  },
  {
   "cell_type": "markdown",
   "metadata": {},
   "source": [
    "Compute new equilibrium values for runs with temperature perturbation. Table shows absolute and relative values."
   ]
  },
  {
   "cell_type": "code",
   "execution_count": 29,
   "metadata": {},
   "outputs": [
    {
     "data": {
      "text/html": [
       "<div>\n",
       "<style scoped>\n",
       "    .dataframe tbody tr th:only-of-type {\n",
       "        vertical-align: middle;\n",
       "    }\n",
       "\n",
       "    .dataframe tbody tr th {\n",
       "        vertical-align: top;\n",
       "    }\n",
       "\n",
       "    .dataframe thead tr th {\n",
       "        text-align: left;\n",
       "    }\n",
       "</style>\n",
       "<table border=\"1\" class=\"dataframe\">\n",
       "  <thead>\n",
       "    <tr>\n",
       "      <th></th>\n",
       "      <th colspan=\"2\" halign=\"left\">-0.5</th>\n",
       "      <th colspan=\"2\" halign=\"left\">0.5</th>\n",
       "    </tr>\n",
       "    <tr>\n",
       "      <th></th>\n",
       "      <th>vas</th>\n",
       "      <th>fl</th>\n",
       "      <th>vas</th>\n",
       "      <th>fl</th>\n",
       "    </tr>\n",
       "  </thead>\n",
       "  <tbody>\n",
       "    <tr>\n",
       "      <th>volume</th>\n",
       "      <td>6.95e+08 (117%)</td>\n",
       "      <td>1.38e+09 (172%)</td>\n",
       "      <td>5.04e+08 (85%)</td>\n",
       "      <td>4.62e+08 (58%)</td>\n",
       "    </tr>\n",
       "    <tr>\n",
       "      <th>area</th>\n",
       "      <td>8.98e+06 (112%)</td>\n",
       "      <td>1.06e+07 (133%)</td>\n",
       "      <td>7.12e+06 (89%)</td>\n",
       "      <td>6.16e+06 (77%)</td>\n",
       "    </tr>\n",
       "    <tr>\n",
       "      <th>length</th>\n",
       "      <td>5.25e+03 (107%)</td>\n",
       "      <td>9.80e+03 (142%)</td>\n",
       "      <td>4.54e+03 (93%)</td>\n",
       "      <td>3.80e+03 (55%)</td>\n",
       "    </tr>\n",
       "  </tbody>\n",
       "</table>\n",
       "</div>"
      ],
      "text/plain": [
       "                   -0.5                              0.5                \n",
       "                    vas               fl             vas              fl\n",
       "volume  6.95e+08 (117%)  1.38e+09 (172%)  5.04e+08 (85%)  4.62e+08 (58%)\n",
       "area    8.98e+06 (112%)  1.06e+07 (133%)  7.12e+06 (89%)  6.16e+06 (77%)\n",
       "length  5.25e+03 (107%)  9.80e+03 (142%)  4.54e+03 (93%)  3.80e+03 (55%)"
      ]
     },
     "execution_count": 29,
     "metadata": {},
     "output_type": "execute_result"
    }
   ],
   "source": [
    "var = ''\n",
    "data = list()\n",
    "variables = ['volume', 'area', 'length',]\n",
    "models = ['vas', 'fl']\n",
    "temp_biases = [+0.5, -0.5]\n",
    "for var in variables:\n",
    "    data_ = list()\n",
    "    for m in models:\n",
    "        data__ = list()\n",
    "        for b in temp_biases:\n",
    "            ds_sel = ds.sel(mb_model='constant', model=m, temp_bias=b)\n",
    "            avg_abs = ds_sel.sel(normalized=False, time=1000)[var].values\n",
    "            avg_norm = ds_sel.sel(normalized=True, time=1000)[var].values\n",
    "            data__.append('{:.2e} ({:.0f}%)'.format(avg_abs, avg_norm*1e2))\n",
    "        data_.extend(data__)\n",
    "    data.append(data_)\n",
    "    \n",
    "columns = pd.MultiIndex.from_tuples(list(zip(np.tile(temp_biases, 2),\n",
    "                                             np.repeat(models, 2))))\n",
    "\n",
    "eq_values = pd.DataFrame(data, index=variables, columns=columns).T.sort_index(level=0, sort_remaining=False, ascending=True)\n",
    "eq_values.T"
   ]
  },
  {
   "cell_type": "markdown",
   "metadata": {},
   "source": [
    "Compute maximum year-to-year length variation estimated by the VAS model"
   ]
  },
  {
   "cell_type": "code",
   "execution_count": 22,
   "metadata": {},
   "outputs": [
    {
     "data": {
      "image/png": "[encoded data removed]",
      "text/plain": [
       "<Figure size 432x288 with 1 Axes>"
      ]
     },
     "metadata": {
      "needs_background": "light"
     },
     "output_type": "display_data"
    }
   ],
   "source": [
    "vas_length = ds.sel(model='vas', normalized=False).length\n",
    "plt.boxplot(vas_length.diff(dim='time').values.flatten());"
   ]
  },
  {
   "cell_type": "code",
   "execution_count": 23,
   "metadata": {},
   "outputs": [
    {
     "data": {
      "text/html": [
       "<div>\n",
       "<style scoped>\n",
       "    .dataframe tbody tr th:only-of-type {\n",
       "        vertical-align: middle;\n",
       "    }\n",
       "\n",
       "    .dataframe tbody tr th {\n",
       "        vertical-align: top;\n",
       "    }\n",
       "\n",
       "    .dataframe thead th {\n",
       "        text-align: right;\n",
       "    }\n",
       "</style>\n",
       "<table border=\"1\" class=\"dataframe\">\n",
       "  <thead>\n",
       "    <tr style=\"text-align: right;\">\n",
       "      <th></th>\n",
       "      <th>0</th>\n",
       "    </tr>\n",
       "  </thead>\n",
       "  <tbody>\n",
       "    <tr>\n",
       "      <th>count</th>\n",
       "      <td>6.000000e+03</td>\n",
       "    </tr>\n",
       "    <tr>\n",
       "      <th>mean</th>\n",
       "      <td>3.925596e-02</td>\n",
       "    </tr>\n",
       "    <tr>\n",
       "      <th>std</th>\n",
       "      <td>1.876294e+00</td>\n",
       "    </tr>\n",
       "    <tr>\n",
       "      <th>min</th>\n",
       "      <td>-1.146011e+01</td>\n",
       "    </tr>\n",
       "    <tr>\n",
       "      <th>25%</th>\n",
       "      <td>-2.223657e-01</td>\n",
       "    </tr>\n",
       "    <tr>\n",
       "      <th>50%</th>\n",
       "      <td>2.799470e-08</td>\n",
       "    </tr>\n",
       "    <tr>\n",
       "      <th>75%</th>\n",
       "      <td>5.305154e-01</td>\n",
       "    </tr>\n",
       "    <tr>\n",
       "      <th>max</th>\n",
       "      <td>7.971097e+00</td>\n",
       "    </tr>\n",
       "  </tbody>\n",
       "</table>\n",
       "</div>"
      ],
      "text/plain": [
       "                  0\n",
       "count  6.000000e+03\n",
       "mean   3.925596e-02\n",
       "std    1.876294e+00\n",
       "min   -1.146011e+01\n",
       "25%   -2.223657e-01\n",
       "50%    2.799470e-08\n",
       "75%    5.305154e-01\n",
       "max    7.971097e+00"
      ]
     },
     "execution_count": 23,
     "metadata": {},
     "output_type": "execute_result"
    }
   ],
   "source": [
    "pd.DataFrame(vas_length.diff(dim='time').values.flatten()).describe()"
   ]
  },
  {
   "cell_type": "code",
   "execution_count": 24,
   "metadata": {},
   "outputs": [
    {
     "name": "stdout",
     "output_type": "stream",
     "text": [
      "Maximum year-to-year length change: 11 m\n"
     ]
    }
   ],
   "source": [
    "max_dl = abs(vas_length.diff(dim='time').values).flatten().max()\n",
    "print(f'Maximum year-to-year length change: {max_dl:.0f} m')"
   ]
  },
  {
   "cell_type": "markdown",
   "metadata": {},
   "source": [
    "Get HEF length records and take a look..."
   ]
  },
  {
   "cell_type": "code",
   "execution_count": 2,
   "metadata": {},
   "outputs": [],
   "source": [
    "from oggm import utils"
   ]
  },
  {
   "cell_type": "code",
   "execution_count": 3,
   "metadata": {},
   "outputs": [
    {
     "data": {
      "text/plain": [
       "<AxesSubplot:>"
      ]
     },
     "execution_count": 3,
     "metadata": {},
     "output_type": "execute_result"
    },
    {
     "data": {
      "image/png": "[encoded data removed]",
      "text/plain": [
       "<Figure size 432x288 with 1 Axes>"
      ]
     },
     "metadata": {
      "needs_background": "light"
     },
     "output_type": "display_data"
    }
   ],
   "source": [
    "hef_leclercq = pd.read_csv(utils.get_demo_file('hef_lengths.csv'), index_col=0)\n",
    "hef_dl = hef_leclercq.diff()[1:]\n",
    "hef_dl.loc[1939:].boxplot()"
   ]
  },
  {
   "cell_type": "code",
   "execution_count": 5,
   "metadata": {},
   "outputs": [
    {
     "data": {
      "text/html": [
       "<div>\n",
       "<style scoped>\n",
       "    .dataframe tbody tr th:only-of-type {\n",
       "        vertical-align: middle;\n",
       "    }\n",
       "\n",
       "    .dataframe tbody tr th {\n",
       "        vertical-align: top;\n",
       "    }\n",
       "\n",
       "    .dataframe thead th {\n",
       "        text-align: right;\n",
       "    }\n",
       "</style>\n",
       "<table border=\"1\" class=\"dataframe\">\n",
       "  <thead>\n",
       "    <tr style=\"text-align: right;\">\n",
       "      <th></th>\n",
       "      <th>dl</th>\n",
       "    </tr>\n",
       "  </thead>\n",
       "  <tbody>\n",
       "    <tr>\n",
       "      <th>count</th>\n",
       "      <td>65.000000</td>\n",
       "    </tr>\n",
       "    <tr>\n",
       "      <th>mean</th>\n",
       "      <td>-24.676923</td>\n",
       "    </tr>\n",
       "    <tr>\n",
       "      <th>std</th>\n",
       "      <td>23.499407</td>\n",
       "    </tr>\n",
       "    <tr>\n",
       "      <th>min</th>\n",
       "      <td>-110.000000</td>\n",
       "    </tr>\n",
       "    <tr>\n",
       "      <th>25%</th>\n",
       "      <td>-30.000000</td>\n",
       "    </tr>\n",
       "    <tr>\n",
       "      <th>50%</th>\n",
       "      <td>-19.000000</td>\n",
       "    </tr>\n",
       "    <tr>\n",
       "      <th>75%</th>\n",
       "      <td>-12.000000</td>\n",
       "    </tr>\n",
       "    <tr>\n",
       "      <th>max</th>\n",
       "      <td>58.000000</td>\n",
       "    </tr>\n",
       "  </tbody>\n",
       "</table>\n",
       "</div>"
      ],
      "text/plain": [
       "               dl\n",
       "count   65.000000\n",
       "mean   -24.676923\n",
       "std     23.499407\n",
       "min   -110.000000\n",
       "25%    -30.000000\n",
       "50%    -19.000000\n",
       "75%    -12.000000\n",
       "max     58.000000"
      ]
     },
     "execution_count": 5,
     "metadata": {},
     "output_type": "execute_result"
    }
   ],
   "source": [
    "hef_dl.loc[1939:].describe()"
   ]
  },
  {
   "cell_type": "code",
   "execution_count": 6,
   "metadata": {},
   "outputs": [
    {
     "data": {
      "text/html": [
       "<div>\n",
       "<style scoped>\n",
       "    .dataframe tbody tr th:only-of-type {\n",
       "        vertical-align: middle;\n",
       "    }\n",
       "\n",
       "    .dataframe tbody tr th {\n",
       "        vertical-align: top;\n",
       "    }\n",
       "\n",
       "    .dataframe thead th {\n",
       "        text-align: right;\n",
       "    }\n",
       "</style>\n",
       "<table border=\"1\" class=\"dataframe\">\n",
       "  <thead>\n",
       "    <tr style=\"text-align: right;\">\n",
       "      <th></th>\n",
       "      <th>dl</th>\n",
       "    </tr>\n",
       "  </thead>\n",
       "  <tbody>\n",
       "    <tr>\n",
       "      <th>count</th>\n",
       "      <td>65.000000</td>\n",
       "    </tr>\n",
       "    <tr>\n",
       "      <th>mean</th>\n",
       "      <td>26.461538</td>\n",
       "    </tr>\n",
       "    <tr>\n",
       "      <th>std</th>\n",
       "      <td>21.436736</td>\n",
       "    </tr>\n",
       "    <tr>\n",
       "      <th>min</th>\n",
       "      <td>5.000000</td>\n",
       "    </tr>\n",
       "    <tr>\n",
       "      <th>25%</th>\n",
       "      <td>12.000000</td>\n",
       "    </tr>\n",
       "    <tr>\n",
       "      <th>50%</th>\n",
       "      <td>20.000000</td>\n",
       "    </tr>\n",
       "    <tr>\n",
       "      <th>75%</th>\n",
       "      <td>31.000000</td>\n",
       "    </tr>\n",
       "    <tr>\n",
       "      <th>max</th>\n",
       "      <td>110.000000</td>\n",
       "    </tr>\n",
       "  </tbody>\n",
       "</table>\n",
       "</div>"
      ],
      "text/plain": [
       "               dl\n",
       "count   65.000000\n",
       "mean    26.461538\n",
       "std     21.436736\n",
       "min      5.000000\n",
       "25%     12.000000\n",
       "50%     20.000000\n",
       "75%     31.000000\n",
       "max    110.000000"
      ]
     },
     "execution_count": 6,
     "metadata": {},
     "output_type": "execute_result"
    }
   ],
   "source": [
    "abs(hef_dl.loc[1939:]).describe()"
   ]
  },
  {
   "cell_type": "markdown",
   "metadata": {},
   "source": [
    "**Symmetry**"
   ]
  },
  {
   "cell_type": "code",
   "execution_count": 51,
   "metadata": {},
   "outputs": [
    {
     "data": {
      "text/html": [
       "<div>\n",
       "<style scoped>\n",
       "    .dataframe tbody tr th:only-of-type {\n",
       "        vertical-align: middle;\n",
       "    }\n",
       "\n",
       "    .dataframe tbody tr th {\n",
       "        vertical-align: top;\n",
       "    }\n",
       "\n",
       "    .dataframe thead th {\n",
       "        text-align: right;\n",
       "    }\n",
       "</style>\n",
       "<table border=\"1\" class=\"dataframe\">\n",
       "  <thead>\n",
       "    <tr style=\"text-align: right;\">\n",
       "      <th></th>\n",
       "      <th>fl</th>\n",
       "      <th>vas</th>\n",
       "    </tr>\n",
       "  </thead>\n",
       "  <tbody>\n",
       "    <tr>\n",
       "      <th>volume</th>\n",
       "      <td>52%</td>\n",
       "      <td>7%</td>\n",
       "    </tr>\n",
       "    <tr>\n",
       "      <th>area</th>\n",
       "      <td>35%</td>\n",
       "      <td>3%</td>\n",
       "    </tr>\n",
       "    <tr>\n",
       "      <th>length</th>\n",
       "      <td>7%</td>\n",
       "      <td>2%</td>\n",
       "    </tr>\n",
       "  </tbody>\n",
       "</table>\n",
       "</div>"
      ],
      "text/plain": [
       "         fl vas\n",
       "volume  52%  7%\n",
       "area    35%  3%\n",
       "length   7%  2%"
      ]
     },
     "execution_count": 51,
     "metadata": {},
     "output_type": "execute_result"
    }
   ],
   "source": [
    "var = ''\n",
    "data = list()\n",
    "variables = ['volume', 'area', 'length',]\n",
    "models = ['vas', 'fl']\n",
    "temp_biases = [+0.5, -0.5]\n",
    "for var in variables:\n",
    "    data_ = list()\n",
    "    for m in models:\n",
    "        data__ = list()\n",
    "        for b in temp_biases:\n",
    "            ds_sel = ds.sel(mb_model='constant', model=m, temp_bias=b)\n",
    "            eq_var = ds_sel.sel(normalized=False, time=1000)[var].values\n",
    "            init_var = ds_sel.sel(normalized=False, time=0)[var].values\n",
    "            data__.append(abs(eq_var - init_var))\n",
    "        data_.append(f'{rel_dif(*data__)*100:.0f}%')\n",
    "    data.append(data_)\n",
    "    \n",
    "symmetry = pd.DataFrame(data, index=variables, columns=models).T.sort_index(level=0, sort_remaining=False, ascending=True)\n",
    "symmetry.T"
   ]
  },
  {
   "cell_type": "markdown",
   "metadata": {},
   "source": [
    "**Initial values**\n",
    "\n",
    "Compute and show the initial values."
   ]
  },
  {
   "cell_type": "code",
   "execution_count": 28,
   "metadata": {},
   "outputs": [
    {
     "name": "stdout",
     "output_type": "stream",
     "text": [
      "800074327.49\n",
      "8007343.42\n",
      "6900.00\n",
      "596297884.17\n",
      "8036000.00\n",
      "4894.64\n"
     ]
    },
    {
     "data": {
      "text/plain": [
       "(0.0, 10.0)"
      ]
     },
     "execution_count": 28,
     "metadata": {},
     "output_type": "execute_result"
    },
    {
     "data": {
      "image/png": "[encoded data removed]",
      "text/plain": [
       "<Figure size 432x288 with 1 Axes>"
      ]
     },
     "metadata": {
      "needs_background": "light"
     },
     "output_type": "display_data"
    }
   ],
   "source": [
    "model = 'vas', 'flowline'\n",
    "for i, model in enumerate(models[::-1]):\n",
    "    ds_plot = ds.sel(normalized=False, time=0, mb_model='constant', temp_bias=0, model=model)\n",
    "    x = np.array([0,1.5,3])+0.25+i*0.5\n",
    "    values = ds_plot.volume, ds_plot.area, ds_plot.length\n",
    "    height = ds_plot.volume/1e9, ds_plot.area/1e6, ds_plot.length/1e3\n",
    "    plt.barh(x, height, label=model, height=0.5)\n",
    "\n",
    "    for x_, y, v in zip(x, height, values):\n",
    "        plt.text(y + 0.5, x_, '{:.2f}'.format(v.values), rotation=0)\n",
    "        print('{:.2f}'.format(v.values))\n",
    "    \n",
    "plt.legend(loc=4)\n",
    "plt.yticks([0.5, 2, 3.5], variables)\n",
    "plt.xlim([0, 10])"
   ]
  }
 ],
 "metadata": {
  "kernelspec": {
   "display_name": "Python 3",
   "language": "python",
   "name": "python3"
  },
  "language_info": {
   "codemirror_mode": {
    "name": "ipython",
    "version": 3
   },
   "file_extension": ".py",
   "mimetype": "text/x-python",
   "name": "python",
   "nbconvert_exporter": "python",
   "pygments_lexer": "ipython3",
   "version": "3.6.7"
  }
 },
 "nbformat": 4,
 "nbformat_minor": 4
}
