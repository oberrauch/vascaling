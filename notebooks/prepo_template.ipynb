{
 "cells": [
  {
   "cell_type": "code",
   "execution_count": 1,
   "metadata": {},
   "outputs": [
    {
     "name": "stderr",
     "output_type": "stream",
     "text": [
      "2019-05-27 13:06:06: oggm.cfg: Using configuration file: /Users/oberrauch/oggm-fork/oggm/params.cfg\n",
      "2019-05-27 13:06:06: oggm.core.gis: (RGI50-11.00897) define_glacier_region\n",
      "2019-05-27 13:06:06: oggm.core.gis: (RGI50-11.00897) glacier_masks\n"
     ]
    }
   ],
   "source": [
    "\"\"\"\n",
    "    INITIALIZE Hintereisferner:\n",
    "    Run all necessary preprocessing tasks up to the mu* calibration\n",
    "    (i.e. `local_mu_star`). File -> Make a copy... in order to use as\n",
    "    template for further experiments.\n",
    "\n",
    "    Date: 07.02.2019\n",
    "\"\"\"\n",
    "# import externals libs\n",
    "import os\n",
    "import shutil\n",
    "import numpy as np\n",
    "import pandas as pd\n",
    "import geopandas as gpd\n",
    "\n",
    "# import the needed OGGM modules\n",
    "import oggm\n",
    "from oggm import cfg\n",
    "from oggm.utils import get_demo_file, get_rgi_glacier_entities\n",
    "from oggm.tests.funcs import get_test_dir\n",
    "from oggm.core import gis, climate, centerlines, vascaling\n",
    "\n",
    "# ---------------------\n",
    "#  PREPROCESSING TASKS\n",
    "# ---------------------\n",
    "\n",
    "# create test directory\n",
    "testdir = os.path.join(get_test_dir(), 'tmp_comparison')\n",
    "if not os.path.exists(testdir):\n",
    "    os.makedirs(testdir)\n",
    "shutil.rmtree(testdir)\n",
    "os.makedirs(testdir)\n",
    "\n",
    "# load default parameter file\n",
    "cfg.initialize()\n",
    "cfg.PATHS['working_dir'] = testdir\n",
    "\n",
    "cfg.PATHS['dem_file'] = get_demo_file('hef_srtm.tif')\n",
    "cfg.PARAMS['border'] = 10\n",
    "\n",
    "cfg.PARAMS['baseline_climate'] = 'HISTALP'\n",
    "cfg.PARAMS['prcp_scaling_factor'] = 1.75\n",
    "cfg.PARAMS['temp_melt'] = -1.75\n",
    "\n",
    "cfg.PARAMS['use_multiprocessing'] = True\n",
    "\n",
    "cfg.set_intersects_db(get_demo_file('rgi_intersect_oetztal.shp'))\n",
    "\n",
    "# read the Hintereisferner DEM\n",
    "hef_file = get_demo_file('Hintereisferner_RGI5.shp')\n",
    "entity = gpd.read_file(hef_file).iloc[0]\n",
    "\n",
    "# initialize the GlacierDirectory\n",
    "gdir = oggm.GlacierDirectory(entity, base_dir=testdir)\n",
    "# define the local grid and glacier mask\n",
    "gis.define_glacier_region(gdir, entity=entity)\n",
    "gis.glacier_masks(gdir)"
   ]
  },
  {
   "cell_type": "code",
   "execution_count": 2,
   "metadata": {},
   "outputs": [
    {
     "name": "stderr",
     "output_type": "stream",
     "text": [
      "2019-05-27 13:06:07: oggm.core.climate: (RGI50-11.00897) process_histalp_data\n"
     ]
    }
   ],
   "source": [
    "# process the given climate file\n",
    "climate.process_histalp_data(gdir)"
   ]
  },
  {
   "cell_type": "code",
   "execution_count": 6,
   "metadata": {},
   "outputs": [
    {
     "name": "stderr",
     "output_type": "stream",
     "text": [
      "2019-02-25 11:24:55: oggm.core.centerlines: (RGI50-11.00897) compute_centerlines\n",
      "2019-02-25 11:24:55: oggm.core.centerlines: (RGI50-11.00897) initialize_flowlines\n",
      "2019-02-25 11:24:55: oggm.core.centerlines: (RGI50-11.00897) compute_downstream_line\n",
      "2019-02-25 11:24:56: oggm.core.centerlines: (RGI50-11.00897) compute_downstream_bedshape\n",
      "2019-02-25 11:24:56: oggm.core.centerlines: (RGI50-11.00897) catchment_area\n",
      "2019-02-25 11:24:58: oggm.core.centerlines: (RGI50-11.00897) catchment_intersections\n",
      "2019-02-25 11:24:58: oggm.core.centerlines: (RGI50-11.00897) catchment_width_geom\n",
      "2019-02-25 11:24:59: oggm.core.centerlines: (RGI50-11.00897) catchment_width_correction\n"
     ]
    }
   ],
   "source": [
    "# run center line preprocessing tasks\n",
    "centerlines.compute_centerlines(gdir)\n",
    "centerlines.initialize_flowlines(gdir)\n",
    "centerlines.compute_downstream_line(gdir)\n",
    "centerlines.compute_downstream_bedshape(gdir)\n",
    "centerlines.catchment_area(gdir)\n",
    "centerlines.catchment_intersections(gdir)\n",
    "centerlines.catchment_width_geom(gdir)\n",
    "centerlines.catchment_width_correction(gdir)"
   ]
  },
  {
   "cell_type": "code",
   "execution_count": null,
   "metadata": {},
   "outputs": [],
   "source": []
  },
  {
   "cell_type": "code",
   "execution_count": 4,
   "metadata": {},
   "outputs": [
    {
     "data": {
      "text/plain": [
       "{'baseline_climate_source': 'HISTALP',\n",
       " 'baseline_hydro_yr_0': 1802,\n",
       " 'baseline_hydro_yr_1': 2014}"
      ]
     },
     "execution_count": 4,
     "metadata": {},
     "output_type": "execute_result"
    }
   ],
   "source": [
    "gdir.read_pickle('climate_info')"
   ]
  },
  {
   "cell_type": "code",
   "execution_count": 7,
   "metadata": {},
   "outputs": [],
   "source": [
    "from oggm.utils import ncDataset"
   ]
  },
  {
   "cell_type": "code",
   "execution_count": 14,
   "metadata": {},
   "outputs": [
    {
     "data": {
      "text/plain": [
       "OrderedDict([('time', <class 'netCDF4._netCDF4.Variable'>\n",
       "              int32 time(time)\n",
       "                  units: days since 1801-01-01 00:00:00\n",
       "              unlimited dimensions: time\n",
       "              current shape = (2424,)\n",
       "              filling on, default _FillValue of -2147483647 used),\n",
       "             ('lat', <class 'netCDF4._netCDF4.Variable'>\n",
       "              float64 lat(lat)\n",
       "                  long_name: latitude\n",
       "                  units: degrees_north\n",
       "                  standard_name: latitude\n",
       "              unlimited dimensions: \n",
       "              current shape = (3,)\n",
       "              filling on, default _FillValue of 9.969209968386869e+36 used),\n",
       "             ('lon', <class 'netCDF4._netCDF4.Variable'>\n",
       "              float64 lon(lon)\n",
       "                  long_name: longitude\n",
       "                  units: degrees_east\n",
       "                  standard_name: longitude\n",
       "              unlimited dimensions: \n",
       "              current shape = (3,)\n",
       "              filling on, default _FillValue of 9.969209968386869e+36 used),\n",
       "             ('hgt', <class 'netCDF4._netCDF4.Variable'>\n",
       "              float32 hgt(lat, lon)\n",
       "                  long_name: surface height\n",
       "                  units: m\n",
       "              unlimited dimensions: \n",
       "              current shape = (3, 3)\n",
       "              filling on, default _FillValue of 9.969209968386869e+36 used),\n",
       "             ('prcp', <class 'netCDF4._netCDF4.Variable'>\n",
       "              float32 prcp(time, lat, lon)\n",
       "                  long_name: total precipitation amount\n",
       "                  units: kg m-2\n",
       "              unlimited dimensions: time\n",
       "              current shape = (2424, 3, 3)\n",
       "              filling on, default _FillValue of 9.969209968386869e+36 used),\n",
       "             ('temp', <class 'netCDF4._netCDF4.Variable'>\n",
       "              float32 temp(time, lat, lon)\n",
       "                  long_name: 2m temperature\n",
       "                  units: degC\n",
       "              unlimited dimensions: time\n",
       "              current shape = (2424, 3, 3)\n",
       "              filling on, default _FillValue of 9.969209968386869e+36 used)])"
      ]
     },
     "execution_count": 14,
     "metadata": {},
     "output_type": "execute_result"
    }
   ],
   "source": [
    "histalp_nc = ncDataset(oggm.utils.get_demo_file('histalp_merged_hef.nc'))\n",
    "histalp_nc.variables"
   ]
  },
  {
   "cell_type": "code",
   "execution_count": 12,
   "metadata": {},
   "outputs": [
    {
     "data": {
      "text/plain": [
       "<class 'netCDF4._netCDF4.Variable'>\n",
       "float32 temp(time, lat, lon)\n",
       "    long_name: 2m temperature\n",
       "    units: degC\n",
       "unlimited dimensions: time\n",
       "current shape = (2424, 3, 3)\n",
       "filling on, default _FillValue of 9.969209968386869e+36 used"
      ]
     },
     "execution_count": 12,
     "metadata": {},
     "output_type": "execute_result"
    }
   ],
   "source": [
    "histalp_nc"
   ]
  },
  {
   "cell_type": "code",
   "execution_count": null,
   "metadata": {},
   "outputs": [],
   "source": []
  },
  {
   "cell_type": "code",
   "execution_count": 6,
   "metadata": {},
   "outputs": [
    {
     "data": {
      "text/plain": [
       "'/Users/oberrauch/.oggm/oggm-sample-data-1e67ee089d58a8171342b948a68b4cf09a8d948c/test-files/histalp_merged_hef.nc'"
      ]
     },
     "execution_count": 6,
     "metadata": {},
     "output_type": "execute_result"
    }
   ],
   "source": [
    "oggm.utils.get_demo_file('histalp_merged_hef.nc')"
   ]
  },
  {
   "cell_type": "code",
   "execution_count": null,
   "metadata": {},
   "outputs": [],
   "source": []
  }
 ],
 "metadata": {
  "kernelspec": {
   "display_name": "Python 3",
   "language": "python",
   "name": "python3"
  },
  "language_info": {
   "codemirror_mode": {
    "name": "ipython",
    "version": 3
   },
   "file_extension": ".py",
   "mimetype": "text/x-python",
   "name": "python",
   "nbconvert_exporter": "python",
   "pygments_lexer": "ipython3",
   "version": "3.6.5"
  }
 },
 "nbformat": 4,
 "nbformat_minor": 2
}
