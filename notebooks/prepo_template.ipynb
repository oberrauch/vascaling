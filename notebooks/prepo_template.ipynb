{
 "cells": [
  {
   "cell_type": "code",
   "execution_count": 4,
   "metadata": {},
   "outputs": [
    {
     "name": "stderr",
     "output_type": "stream",
     "text": [
      "2019-02-25 11:24:47: oggm.cfg: Using configuration file: /Users/oberrauch/oggm-fork/oggm/params.cfg\n",
      "2019-02-25 11:24:47: oggm.core.gis: (RGI50-11.00897) define_glacier_region\n",
      "2019-02-25 11:24:47: oggm.core.gis: (RGI50-11.00897) glacier_masks\n"
     ]
    }
   ],
   "source": [
    "\"\"\"\n",
    "    INITIALIZE Hintereisferner:\n",
    "    Run all necessary preprocessing tasks up to the mu* calibration\n",
    "    (i.e. `local_mu_star`). File -> Make a copy... in order to use as\n",
    "    template for further experiments.\n",
    "\n",
    "    Date: 07.02.2019\n",
    "\"\"\"\n",
    "# import externals libs\n",
    "import os\n",
    "import shutil\n",
    "import numpy as np\n",
    "import pandas as pd\n",
    "import geopandas as gpd\n",
    "\n",
    "# import the needed OGGM modules\n",
    "import oggm\n",
    "from oggm import cfg\n",
    "from oggm.utils import get_demo_file, get_rgi_glacier_entities\n",
    "from oggm.tests.funcs import get_test_dir\n",
    "from oggm.core import gis, climate, centerlines, vascaling\n",
    "\n",
    "# ---------------------\n",
    "#  PREPROCESSING TASKS\n",
    "# ---------------------\n",
    "\n",
    "# create test directory\n",
    "testdir = os.path.join(get_test_dir(), 'tmp_comparison')\n",
    "if not os.path.exists(testdir):\n",
    "    os.makedirs(testdir)\n",
    "shutil.rmtree(testdir)\n",
    "os.makedirs(testdir)\n",
    "\n",
    "# load default parameter file\n",
    "cfg.initialize()\n",
    "cfg.PATHS['working_dir'] = testdir\n",
    "\n",
    "cfg.PATHS['dem_file'] = get_demo_file('hef_srtm.tif')\n",
    "cfg.PARAMS['border'] = 10\n",
    "\n",
    "cfg.PARAMS['baseline_climate'] = 'HISTALP'\n",
    "cfg.PARAMS['prcp_scaling_factor'] = 1.75\n",
    "cfg.PARAMS['temp_melt'] = -1.75\n",
    "\n",
    "cfg.PARAMS['use_multiprocessing'] = True\n",
    "\n",
    "cfg.set_intersects_db(get_demo_file('rgi_intersect_oetztal.shp'))\n",
    "\n",
    "# read the Hintereisferner DEM\n",
    "hef_file = get_demo_file('Hintereisferner_RGI5.shp')\n",
    "entity = gpd.read_file(hef_file).iloc[0]\n",
    "\n",
    "# initialize the GlacierDirectory\n",
    "gdir = oggm.GlacierDirectory(entity, base_dir=testdir)\n",
    "# define the local grid and glacier mask\n",
    "gis.define_glacier_region(gdir, entity=entity)\n",
    "gis.glacier_masks(gdir)"
   ]
  },
  {
   "cell_type": "code",
   "execution_count": 5,
   "metadata": {},
   "outputs": [
    {
     "name": "stderr",
     "output_type": "stream",
     "text": [
      "2019-02-25 11:24:48: oggm.core.climate: (RGI50-11.00897) process_histalp_data\n"
     ]
    }
   ],
   "source": [
    "# process the given climate file\n",
    "climate.process_histalp_data(gdir)"
   ]
  },
  {
   "cell_type": "code",
   "execution_count": 6,
   "metadata": {},
   "outputs": [
    {
     "name": "stderr",
     "output_type": "stream",
     "text": [
      "2019-02-25 11:24:55: oggm.core.centerlines: (RGI50-11.00897) compute_centerlines\n",
      "2019-02-25 11:24:55: oggm.core.centerlines: (RGI50-11.00897) initialize_flowlines\n",
      "2019-02-25 11:24:55: oggm.core.centerlines: (RGI50-11.00897) compute_downstream_line\n",
      "2019-02-25 11:24:56: oggm.core.centerlines: (RGI50-11.00897) compute_downstream_bedshape\n",
      "2019-02-25 11:24:56: oggm.core.centerlines: (RGI50-11.00897) catchment_area\n",
      "2019-02-25 11:24:58: oggm.core.centerlines: (RGI50-11.00897) catchment_intersections\n",
      "2019-02-25 11:24:58: oggm.core.centerlines: (RGI50-11.00897) catchment_width_geom\n",
      "2019-02-25 11:24:59: oggm.core.centerlines: (RGI50-11.00897) catchment_width_correction\n"
     ]
    }
   ],
   "source": [
    "# run center line preprocessing tasks\n",
    "centerlines.compute_centerlines(gdir)\n",
    "centerlines.initialize_flowlines(gdir)\n",
    "centerlines.compute_downstream_line(gdir)\n",
    "centerlines.compute_downstream_bedshape(gdir)\n",
    "centerlines.catchment_area(gdir)\n",
    "centerlines.catchment_intersections(gdir)\n",
    "centerlines.catchment_width_geom(gdir)\n",
    "centerlines.catchment_width_correction(gdir)"
   ]
  },
  {
   "cell_type": "code",
   "execution_count": null,
   "metadata": {},
   "outputs": [],
   "source": []
  }
 ],
 "metadata": {
  "kernelspec": {
   "display_name": "Python 3",
   "language": "python",
   "name": "python3"
  },
  "language_info": {
   "codemirror_mode": {
    "name": "ipython",
    "version": 3
   },
   "file_extension": ".py",
   "mimetype": "text/x-python",
   "name": "python",
   "nbconvert_exporter": "python",
   "pygments_lexer": "ipython3",
   "version": "3.6.5"
  }
 },
 "nbformat": 4,
 "nbformat_minor": 2
}
