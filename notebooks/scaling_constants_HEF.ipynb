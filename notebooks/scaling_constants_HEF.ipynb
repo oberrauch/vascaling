{
 "cells": [
  {
   "cell_type": "code",
   "execution_count": null,
   "metadata": {},
   "outputs": [],
   "source": []
  },
  {
   "cell_type": "code",
   "execution_count": null,
   "metadata": {},
   "outputs": [],
   "source": [
    "# import externals libraries\n",
    "import os\n",
    "import shutil\n",
    "import numpy as np\n",
    "import pandas as pd\n",
    "import xarray as xr\n",
    "import matplotlib.pyplot as plt\n",
    "\n",
    "# import the needed OGGM modules\n",
    "from oggm import cfg, utils, workflow\n",
    "from oggm.core import gis, climate, flowline, vascaling"
   ]
  },
  {
   "cell_type": "code",
   "execution_count": 2,
   "metadata": {},
   "outputs": [
    {
     "name": "stderr",
     "output_type": "stream",
     "text": [
      "2020-07-21 09:47:58: oggm.cfg: Using configuration file: /Users/oberrauch/oggm-fork/oggm/params.cfg\n"
     ]
    }
   ],
   "source": [
    "# define RGI IDs\n",
    "rgi_ids = ['RGI60-11.00897']\n",
    "tstar = None\n",
    "\n",
    "# compute RGI region and version from RGI IDs\n",
    "# assuming all they are all the same\n",
    "rgi_region = (rgi_ids[0].split('-')[-1]).split('.')[0]\n",
    "rgi_version = (rgi_ids[0].split('-')[0])[-2:]\n",
    "\n",
    "# load default parameter file\n",
    "cfg.initialize()"
   ]
  },
  {
   "cell_type": "code",
   "execution_count": 3,
   "metadata": {
    "scrolled": true
   },
   "outputs": [
    {
     "name": "stderr",
     "output_type": "stream",
     "text": [
      "2020-07-21 09:48:06: oggm.workflow: Execute entity task define_glacier_region on 1 glaciers\n",
      "2020-07-21 09:48:06: oggm.workflow: Multiprocessing: using all available processors (N=4)\n",
      "2020-07-21 09:48:06: oggm.core.gis: (RGI60-11.00897) define_glacier_region\n",
      "2020-07-21 09:48:07: oggm.workflow: Execute entity task glacier_masks on 1 glaciers\n",
      "2020-07-21 09:48:07: oggm.core.gis: (RGI60-11.00897) glacier_masks\n",
      "2020-07-21 09:48:08: oggm.workflow: Execute entity task compute_centerlines on 1 glaciers\n",
      "2020-07-21 09:48:08: oggm.core.centerlines: (RGI60-11.00897) compute_centerlines\n",
      "2020-07-21 09:48:08: oggm.workflow: Execute entity task initialize_flowlines on 1 glaciers\n",
      "2020-07-21 09:48:08: oggm.core.centerlines: (RGI60-11.00897) initialize_flowlines\n",
      "2020-07-21 09:48:08: oggm.workflow: Execute entity task compute_downstream_line on 1 glaciers\n",
      "2020-07-21 09:48:08: oggm.core.centerlines: (RGI60-11.00897) compute_downstream_line\n",
      "2020-07-21 09:48:09: oggm.workflow: Execute entity task compute_downstream_bedshape on 1 glaciers\n",
      "2020-07-21 09:48:09: oggm.core.centerlines: (RGI60-11.00897) compute_downstream_bedshape\n",
      "2020-07-21 09:48:10: oggm.workflow: Execute entity task catchment_area on 1 glaciers\n",
      "2020-07-21 09:48:10: oggm.core.centerlines: (RGI60-11.00897) catchment_area\n",
      "2020-07-21 09:48:12: oggm.workflow: Execute entity task catchment_intersections on 1 glaciers\n",
      "2020-07-21 09:48:12: oggm.core.centerlines: (RGI60-11.00897) catchment_intersections\n",
      "2020-07-21 09:48:12: oggm.workflow: Execute entity task catchment_width_geom on 1 glaciers\n",
      "2020-07-21 09:48:12: oggm.core.centerlines: (RGI60-11.00897) catchment_width_geom\n",
      "2020-07-21 09:48:13: oggm.workflow: Execute entity task catchment_width_correction on 1 glaciers\n",
      "2020-07-21 09:48:13: oggm.core.centerlines: (RGI60-11.00897) catchment_width_correction\n",
      "2020-07-21 09:48:13: oggm.workflow: Execute entity task process_histalp_data on 1 glaciers\n",
      "2020-07-21 09:48:13: oggm.core.climate: (RGI60-11.00897) process_histalp_data\n",
      "2020-07-21 09:48:16: oggm.workflow: Execute entity task local_t_star on 1 glaciers\n",
      "2020-07-21 09:48:16: oggm.core.climate: (RGI60-11.00897) local_t_star\n",
      "2020-07-21 09:48:16: oggm.core.climate: (RGI60-11.00897) local mu* computation for t*=1927\n",
      "2020-07-21 09:48:16: oggm.workflow: Execute entity task mu_star_calibration on 1 glaciers\n",
      "2020-07-21 09:48:16: oggm.core.climate: (RGI60-11.00897) mu_star_calibration\n",
      "2020-07-21 09:48:16: oggm.workflow: Execute entity task prepare_for_inversion on 1 glaciers\n",
      "2020-07-21 09:48:16: oggm.core.inversion: (RGI60-11.00897) prepare_for_inversion\n",
      "2020-07-21 09:48:16: oggm.workflow: Execute entity task mass_conservation_inversion on 1 glaciers\n",
      "2020-07-21 09:48:16: oggm.core.inversion: (RGI60-11.00897) mass_conservation_inversion\n",
      "2020-07-21 09:48:17: oggm.workflow: Execute entity task filter_inversion_output on 1 glaciers\n",
      "2020-07-21 09:48:17: oggm.core.inversion: (RGI60-11.00897) filter_inversion_output\n",
      "2020-07-21 09:48:17: oggm.workflow: Execute entity task init_present_time_glacier on 1 glaciers\n",
      "2020-07-21 09:48:17: oggm.core.flowline: (RGI60-11.00897) init_present_time_glacier\n"
     ]
    },
    {
     "data": {
      "text/plain": [
       "[None]"
      ]
     },
     "execution_count": 3,
     "metadata": {},
     "output_type": "execute_result"
    }
   ],
   "source": [
    "# create working directory\n",
    "wdir = '/Users/oberrauch/work/master/working_directories/'\n",
    "wdir += 'hef_constants_wdir'\n",
    "if not os.path.exists(wdir):\n",
    "    os.makedirs(wdir)\n",
    "# shutil.rmtree(wdir)\n",
    "# os.makedirs(wdir)\n",
    "# set path to working directory\n",
    "cfg.PATHS['working_dir'] = wdir\n",
    "# set RGI verion and region\n",
    "cfg.PARAMS['rgi_version'] = rgi_version\n",
    "# define how many grid points to use around the glacier,\n",
    "# if you expect the glacier to grow large use a larger border\n",
    "cfg.PARAMS['border'] = 80\n",
    "# we use HistAlp climate data\n",
    "cfg.PARAMS['baseline_climate'] = 'HISTALP'\n",
    "# set the mb hyper parameters accordingly\n",
    "cfg.PARAMS['prcp_scaling_factor'] = 1.75\n",
    "cfg.PARAMS['temp_melt'] = -1.75\n",
    "# the bias is defined to be zero during the calibration process,\n",
    "# which is why we don't use it here to reproduce the results\n",
    "cfg.PARAMS['use_bias_for_run'] = False\n",
    "\n",
    "# read RGI entry for the glaciers as DataFrame\n",
    "# containing the outline area as shapefile\n",
    "rgidf = utils.get_rgi_glacier_entities(rgi_ids)\n",
    "\n",
    "# get and set path to intersect shapefile\n",
    "intersects_db = utils.get_rgi_intersects_region_file(region=rgi_region)\n",
    "cfg.set_intersects_db(intersects_db)\n",
    "\n",
    "# initialize the GlacierDirectory\n",
    "gdirs = workflow.init_glacier_regions(rgidf)\n",
    "\n",
    "# run gis tasks\n",
    "workflow.gis_prepro_tasks(gdirs)\n",
    "# run climate tasks\n",
    "workflow.execute_entity_task(climate.process_histalp_data, gdirs)\n",
    "workflow.execute_entity_task(climate.local_t_star, gdirs,\n",
    "                             tstar=tstar, bias=0)\n",
    "workflow.execute_entity_task(climate.mu_star_calibration, gdirs)\n",
    "# run inversion tasks\n",
    "workflow.inversion_tasks(gdirs)\n",
    "# finalize preprocessing\n",
    "workflow.execute_entity_task(flowline.init_present_time_glacier, gdirs)"
   ]
  },
  {
   "cell_type": "code",
   "execution_count": 5,
   "metadata": {},
   "outputs": [
    {
     "name": "stderr",
     "output_type": "stream",
     "text": [
      "2020-07-21 09:48:52: oggm.utils: (RGI60-11.00897) glacier_statistics\n"
     ]
    },
    {
     "data": {
      "text/plain": [
       "(1.5038582086557708, 0.24399290770672957)"
      ]
     },
     "execution_count": 5,
     "metadata": {},
     "output_type": "execute_result"
    }
   ],
   "source": [
    "vascaling.get_scaling_constants(gdirs[0])"
   ]
  },
  {
   "cell_type": "code",
   "execution_count": null,
   "metadata": {},
   "outputs": [],
   "source": []
  },
  {
   "cell_type": "code",
   "execution_count": null,
   "metadata": {},
   "outputs": [],
   "source": []
  },
  {
   "cell_type": "code",
   "execution_count": null,
   "metadata": {},
   "outputs": [],
   "source": []
  },
  {
   "cell_type": "code",
   "execution_count": null,
   "metadata": {},
   "outputs": [],
   "source": [
    "utils.compile_glacier_statistics(gdirs).keys()"
   ]
  },
  {
   "cell_type": "code",
   "execution_count": null,
   "metadata": {},
   "outputs": [],
   "source": [
    "glacier_stats = utils.compile_glacier_statistics(gdirs)\n",
    "glacier_stats"
   ]
  },
  {
   "cell_type": "code",
   "execution_count": null,
   "metadata": {},
   "outputs": [],
   "source": [
    "hef_stats = glacier_stats.loc['RGI60-11.00897']\n",
    "hef_stats"
   ]
  },
  {
   "cell_type": "code",
   "execution_count": null,
   "metadata": {},
   "outputs": [],
   "source": [
    "length = glacier_stats.loc['RGI60-11.00897']['longuest_centerline_km']*1e3\n",
    "area = glacier_stats.loc['RGI60-11.00897']['rgi_area_km2']*1e6\n",
    "volume = glacier_stats.loc['RGI60-11.00897']['inv_volume_km3']*1e9"
   ]
  },
  {
   "cell_type": "code",
   "execution_count": null,
   "metadata": {},
   "outputs": [],
   "source": [
    "def compute_scaling_constant(volume, area, length):\n",
    "    \"\"\"Compute and return volume/length and volume/area scaling constant from given geometry\"\"\"\n",
    "    c_l = volume/length**cfg.PARAMS['vas_q_length']\n",
    "    c_a = volume/area**cfg.PARAMS['vas_gamma_area']\n",
    "    return c_l, c_a"
   ]
  },
  {
   "cell_type": "code",
   "execution_count": null,
   "metadata": {},
   "outputs": [],
   "source": [
    "c_l, c_a = compute_scaling_constant(volume, area, length)\n",
    "print(c_l, c_a)"
   ]
  },
  {
   "cell_type": "code",
   "execution_count": null,
   "metadata": {},
   "outputs": [],
   "source": [
    "glacier_stats = utils.glacier_statistics(gdirs[0])\n",
    "glacier_stats"
   ]
  },
  {
   "cell_type": "code",
   "execution_count": null,
   "metadata": {},
   "outputs": [],
   "source": []
  },
  {
   "cell_type": "code",
   "execution_count": null,
   "metadata": {},
   "outputs": [],
   "source": [
    "cfg.PARAMS['vas_c_length_m']"
   ]
  },
  {
   "cell_type": "code",
   "execution_count": null,
   "metadata": {},
   "outputs": [],
   "source": [
    "cfg.PARAMS['vas_c_area_m2']"
   ]
  },
  {
   "cell_type": "code",
   "execution_count": null,
   "metadata": {},
   "outputs": [],
   "source": []
  },
  {
   "cell_type": "code",
   "execution_count": null,
   "metadata": {},
   "outputs": [],
   "source": [
    "import pandas as pd\n",
    "import xarray as xr"
   ]
  },
  {
   "cell_type": "code",
   "execution_count": null,
   "metadata": {},
   "outputs": [],
   "source": [
    "ds = xr.open_dataset('/Users/oberrauch/work/master/data/eq_runs/hef_constmb_newscalingconst.nc')\n",
    "ds_old = xr.open_dataset('/Users/oberrauch/work/master/data/eq_runs/hef_eq.nc')"
   ]
  },
  {
   "cell_type": "code",
   "execution_count": null,
   "metadata": {},
   "outputs": [],
   "source": [
    "ds_old.sel(temp_bias=0.5, normalized=True, mb_model='constant').volume.plot.line(x='time')\n",
    "ds.sel(temp_bias=0.5, normalized=True).volume.plot()\n",
    "plt.gca().set_xlim(0,3000)"
   ]
  },
  {
   "cell_type": "code",
   "execution_count": null,
   "metadata": {},
   "outputs": [],
   "source": [
    "\n",
    "ds_old.sel(temp_bias=0.5, normalized=True, mb_model='constant').volume.plot()"
   ]
  },
  {
   "cell_type": "code",
   "execution_count": null,
   "metadata": {},
   "outputs": [],
   "source": [
    "cfg.initialize()"
   ]
  },
  {
   "cell_type": "code",
   "execution_count": null,
   "metadata": {},
   "outputs": [],
   "source": [
    "area = 6.78e6\n",
    "area_km2 = area*1e-6\n",
    "volume = 0.191 * area**1.375\n",
    "volume_km3 = 0.034 * area_km2**1.375\n",
    "print(volume, volume_km3*1e9)"
   ]
  },
  {
   "cell_type": "code",
   "execution_count": null,
   "metadata": {},
   "outputs": [],
   "source": [
    "cfg.PARAMS['vas_gamma_area']"
   ]
  },
  {
   "cell_type": "code",
   "execution_count": null,
   "metadata": {},
   "outputs": [],
   "source": [
    "cfg.PARAMS['vas_c_area_m2']"
   ]
  },
  {
   "cell_type": "code",
   "execution_count": null,
   "metadata": {},
   "outputs": [],
   "source": []
  }
 ],
 "metadata": {
  "kernelspec": {
   "display_name": "Python 3",
   "language": "python",
   "name": "python3"
  },
  "language_info": {
   "codemirror_mode": {
    "name": "ipython",
    "version": 3
   },
   "file_extension": ".py",
   "mimetype": "text/x-python",
   "name": "python",
   "nbconvert_exporter": "python",
   "pygments_lexer": "ipython3",
   "version": "3.6.7"
  }
 },
 "nbformat": 4,
 "nbformat_minor": 2
}
