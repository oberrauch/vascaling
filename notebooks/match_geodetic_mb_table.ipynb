{
 "cells": [
  {
   "cell_type": "code",
   "execution_count": 1,
   "metadata": {},
   "outputs": [],
   "source": [
    "import numpy as np\n",
    "import pandas as pd"
   ]
  },
  {
   "cell_type": "code",
   "execution_count": 2,
   "metadata": {},
   "outputs": [],
   "source": [
    "rgi_regions = [11,13,14,15]"
   ]
  },
  {
   "cell_type": "code",
   "execution_count": 3,
   "metadata": {},
   "outputs": [],
   "source": [
    "path = '../data/match_geodetic_smb_fl.txt'\n",
    "file = open(path)\n",
    "lines = file.readlines()"
   ]
  },
  {
   "cell_type": "code",
   "execution_count": 4,
   "metadata": {},
   "outputs": [],
   "source": [
    "shift = lines[0::4]\n",
    "shift = [s.split()[-1] for s in shift]\n",
    "obs = lines[1::4]\n",
    "obs = [o.split()[-1] for o in obs]\n",
    "smb = lines[2::4]\n",
    "smb = [mb.split()[-1] for mb in smb]"
   ]
  },
  {
   "cell_type": "code",
   "execution_count": 5,
   "metadata": {},
   "outputs": [
    {
     "data": {
      "text/html": [
       "<div>\n",
       "<style scoped>\n",
       "    .dataframe tbody tr th:only-of-type {\n",
       "        vertical-align: middle;\n",
       "    }\n",
       "\n",
       "    .dataframe tbody tr th {\n",
       "        vertical-align: top;\n",
       "    }\n",
       "\n",
       "    .dataframe thead th {\n",
       "        text-align: right;\n",
       "    }\n",
       "</style>\n",
       "<table border=\"1\" class=\"dataframe\">\n",
       "  <thead>\n",
       "    <tr style=\"text-align: right;\">\n",
       "      <th></th>\n",
       "      <th>obs</th>\n",
       "      <th>smb_fl</th>\n",
       "      <th>shift_fl</th>\n",
       "    </tr>\n",
       "  </thead>\n",
       "  <tbody>\n",
       "    <tr>\n",
       "      <th>11</th>\n",
       "      <td>-873.67</td>\n",
       "      <td>-1608.3791192005717</td>\n",
       "      <td>734.7091192005718</td>\n",
       "    </tr>\n",
       "    <tr>\n",
       "      <th>13</th>\n",
       "      <td>-248.81</td>\n",
       "      <td>-515.433279371977</td>\n",
       "      <td>266.62327937197705</td>\n",
       "    </tr>\n",
       "    <tr>\n",
       "      <th>14</th>\n",
       "      <td>-157.84</td>\n",
       "      <td>-498.8117294889212</td>\n",
       "      <td>340.97172948892114</td>\n",
       "    </tr>\n",
       "    <tr>\n",
       "      <th>15</th>\n",
       "      <td>-505.65</td>\n",
       "      <td>-739.5636298622824</td>\n",
       "      <td>233.9136298622824</td>\n",
       "    </tr>\n",
       "  </tbody>\n",
       "</table>\n",
       "</div>"
      ],
      "text/plain": [
       "        obs               smb_fl            shift_fl\n",
       "11  -873.67  -1608.3791192005717   734.7091192005718\n",
       "13  -248.81    -515.433279371977  266.62327937197705\n",
       "14  -157.84   -498.8117294889212  340.97172948892114\n",
       "15  -505.65   -739.5636298622824   233.9136298622824"
      ]
     },
     "execution_count": 5,
     "metadata": {},
     "output_type": "execute_result"
    }
   ],
   "source": [
    "fl = pd.DataFrame(data=[obs, smb, shift], columns=rgi_regions, index=['obs', 'smb_fl', 'shift_fl',]).T\n",
    "fl"
   ]
  },
  {
   "cell_type": "code",
   "execution_count": 6,
   "metadata": {},
   "outputs": [],
   "source": [
    "path = '../data/match_geodetic_smb_vas.txt'\n",
    "file = open(path)\n",
    "lines = file.readlines()"
   ]
  },
  {
   "cell_type": "code",
   "execution_count": 7,
   "metadata": {},
   "outputs": [],
   "source": [
    "shift = lines[0::4]\n",
    "shift = [s.split()[-1] for s in shift]\n",
    "obs = lines[1::4]\n",
    "obs = [o.split()[-1] for o in obs]\n",
    "smb = lines[2::4]\n",
    "smb = [mb.split()[-1] for mb in smb]"
   ]
  },
  {
   "cell_type": "code",
   "execution_count": 20,
   "metadata": {},
   "outputs": [
    {
     "data": {
      "text/html": [
       "<div>\n",
       "<style scoped>\n",
       "    .dataframe tbody tr th:only-of-type {\n",
       "        vertical-align: middle;\n",
       "    }\n",
       "\n",
       "    .dataframe tbody tr th {\n",
       "        vertical-align: top;\n",
       "    }\n",
       "\n",
       "    .dataframe thead th {\n",
       "        text-align: right;\n",
       "    }\n",
       "</style>\n",
       "<table border=\"1\" class=\"dataframe\">\n",
       "  <thead>\n",
       "    <tr style=\"text-align: right;\">\n",
       "      <th></th>\n",
       "      <th>obs</th>\n",
       "      <th>smb_vas</th>\n",
       "      <th>shift_vas</th>\n",
       "    </tr>\n",
       "  </thead>\n",
       "  <tbody>\n",
       "    <tr>\n",
       "      <th>11</th>\n",
       "      <td>-873.67</td>\n",
       "      <td>-1590.465365</td>\n",
       "      <td>716.795365</td>\n",
       "    </tr>\n",
       "    <tr>\n",
       "      <th>13</th>\n",
       "      <td>-248.81</td>\n",
       "      <td>-493.029641</td>\n",
       "      <td>244.219641</td>\n",
       "    </tr>\n",
       "    <tr>\n",
       "      <th>14</th>\n",
       "      <td>-157.84</td>\n",
       "      <td>-522.182829</td>\n",
       "      <td>364.342829</td>\n",
       "    </tr>\n",
       "    <tr>\n",
       "      <th>15</th>\n",
       "      <td>-505.65</td>\n",
       "      <td>-682.848204</td>\n",
       "      <td>177.198204</td>\n",
       "    </tr>\n",
       "  </tbody>\n",
       "</table>\n",
       "</div>"
      ],
      "text/plain": [
       "       obs      smb_vas   shift_vas\n",
       "11 -873.67 -1590.465365  716.795365\n",
       "13 -248.81  -493.029641  244.219641\n",
       "14 -157.84  -522.182829  364.342829\n",
       "15 -505.65  -682.848204  177.198204"
      ]
     },
     "execution_count": 20,
     "metadata": {},
     "output_type": "execute_result"
    }
   ],
   "source": [
    "vas = pd.DataFrame(data=[obs, smb, shift], columns=rgi_regions, index=['obs', 'smb_vas', 'shift_vas']).T\n",
    "vas"
   ]
  },
  {
   "cell_type": "code",
   "execution_count": 21,
   "metadata": {},
   "outputs": [],
   "source": [
    "match_smb = pd.concat([vas,fl.drop('obs', axis=1)], axis=1)\n",
    "match_smb = match_smb.astype(float)"
   ]
  },
  {
   "cell_type": "code",
   "execution_count": 24,
   "metadata": {},
   "outputs": [
    {
     "name": "stdout",
     "output_type": "stream",
     "text": [
      "\\begin{tabular}{lrrrrr}\n",
      "\\toprule\n",
      "{} &  obs &  smb\\_vas &  shift\\_vas &  smb\\_fl &  shift\\_fl \\\\\n",
      "\\midrule\n",
      "11 & -874 &    -1590 &        717 &   -1608 &       735 \\\\\n",
      "13 & -249 &     -493 &        244 &    -515 &       267 \\\\\n",
      "14 & -158 &     -522 &        364 &    -499 &       341 \\\\\n",
      "15 & -506 &     -683 &        177 &    -740 &       234 \\\\\n",
      "\\bottomrule\n",
      "\\end{tabular}\n",
      "\n"
     ]
    }
   ],
   "source": [
    "print(match_smb.to_latex(float_format=\"{:.0f}\".format))"
   ]
  },
  {
   "cell_type": "code",
   "execution_count": null,
   "metadata": {},
   "outputs": [],
   "source": []
  }
 ],
 "metadata": {
  "kernelspec": {
   "display_name": "Python 3",
   "language": "python",
   "name": "python3"
  },
  "language_info": {
   "codemirror_mode": {
    "name": "ipython",
    "version": 3
   },
   "file_extension": ".py",
   "mimetype": "text/x-python",
   "name": "python",
   "nbconvert_exporter": "python",
   "pygments_lexer": "ipython3",
   "version": "3.6.7"
  }
 },
 "nbformat": 4,
 "nbformat_minor": 4
}
