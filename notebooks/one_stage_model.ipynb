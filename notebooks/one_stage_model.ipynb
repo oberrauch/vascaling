{
 "cells": [
  {
   "cell_type": "markdown",
   "metadata": {},
   "source": [
    "# One stage model\n",
    "Implementation of the linear one stage glacier model following [Roe and Baker, 2014](https://doi.org/10.3189/2014jog14j016)"
   ]
  },
  {
   "cell_type": "code",
   "execution_count": 1,
   "metadata": {},
   "outputs": [],
   "source": [
    "import numpy as np\n",
    "import matplotlib.pyplot as plt\n",
    "import pandas as pd"
   ]
  },
  {
   "cell_type": "code",
   "execution_count": null,
   "metadata": {},
   "outputs": [],
   "source": []
  },
  {
   "cell_type": "code",
   "execution_count": 18,
   "metadata": {},
   "outputs": [],
   "source": [
    "def length_perturb(t, temp_trend, prcp_trend):\n",
    "    phi = 0.34\n",
    "    A_tot = 4e6\n",
    "    A_melt = 1.8e6\n",
    "    A_abl = 1.6e6\n",
    "    w = 500\n",
    "    H = 50\n",
    "    gamma = 6.5e-3\n",
    "    mu = 0.5\n",
    "    alpha = -mu*A_melt/(w*H)\n",
    "    beta = A_tot/(w*H)\n",
    "    tau = w*H/(mu*gamma*np.tan(phi)*A_abl)\n",
    "    return tau*(alpha*temp_trend + beta*prcp_trend)*(t - tau*(1-np.exp(-t/tau)))"
   ]
  },
  {
   "cell_type": "code",
   "execution_count": 30,
   "metadata": {},
   "outputs": [],
   "source": [
    "phi = 0.34\n",
    "A_tot = 4e6\n",
    "A_melt = 1.8e6\n",
    "A_abl = 1.6e6\n",
    "w = 500\n",
    "H = 50\n",
    "gamma = 6.5e-3\n",
    "mu = 0.5\n",
    "alpha = -mu*A_melt/(w*H)\n",
    "beta = A_tot/(w*H)\n",
    "tau = w*H/(mu*gamma*np.tan(phi)*A_abl)"
   ]
  },
  {
   "cell_type": "code",
   "execution_count": 36,
   "metadata": {},
   "outputs": [
    {
     "name": "stdout",
     "output_type": "stream",
     "text": [
      "13.59115378171169\n",
      "13.59115378171169\n"
     ]
    },
    {
     "data": {
      "text/plain": [
       "[<matplotlib.lines.Line2D at 0x11ecaf3c8>]"
      ]
     },
     "execution_count": 36,
     "metadata": {},
     "output_type": "execute_result"
    },
    {
     "data": {
      "image/png": "[encoded data removed]",
      "text/plain": [
       "<Figure size 432x288 with 1 Axes>"
      ]
     },
     "metadata": {
      "needs_background": "light"
     },
     "output_type": "display_data"
    }
   ],
   "source": [
    "years = np.arange(100)\n",
    "plt.plot(years, length_perturb(years, 0.1, 0))\n",
    "plt.plot(years, length_perturb(years, -0.1, 0))\n",
    "plt.plot(years, tau*(alpha*0.1 + beta*0)*(years-tau))\n"
   ]
  },
  {
   "cell_type": "code",
   "execution_count": null,
   "metadata": {},
   "outputs": [],
   "source": []
  },
  {
   "cell_type": "code",
   "execution_count": null,
   "metadata": {},
   "outputs": [],
   "source": []
  },
  {
   "cell_type": "code",
   "execution_count": 163,
   "metadata": {},
   "outputs": [
    {
     "ename": "TypeError",
     "evalue": "choice() got an unexpected keyword argument 'seed'",
     "output_type": "error",
     "traceback": [
      "\u001b[0;31m---------------------------------------------------------------------------\u001b[0m",
      "\u001b[0;31mTypeError\u001b[0m                                 Traceback (most recent call last)",
      "\u001b[0;32m<ipython-input-163-f2bb678cead4>\u001b[0m in \u001b[0;36m<module>\u001b[0;34m\u001b[0m\n\u001b[0;32m----> 1\u001b[0;31m \u001b[0mnp\u001b[0m\u001b[0;34m.\u001b[0m\u001b[0mrandom\u001b[0m\u001b[0;34m.\u001b[0m\u001b[0mchoice\u001b[0m\u001b[0;34m(\u001b[0m\u001b[0;34m[\u001b[0m\u001b[0;34m-\u001b[0m\u001b[0;36m1\u001b[0m\u001b[0;34m,\u001b[0m\u001b[0;36m0\u001b[0m\u001b[0;34m,\u001b[0m\u001b[0;36m1\u001b[0m\u001b[0;34m]\u001b[0m\u001b[0;34m,\u001b[0m \u001b[0malpha\u001b[0m\u001b[0;34m.\u001b[0m\u001b[0msize\u001b[0m\u001b[0;34m,\u001b[0m \u001b[0mseed\u001b[0m\u001b[0;34m=\u001b[0m\u001b[0;36m1\u001b[0m\u001b[0;34m)\u001b[0m\u001b[0;34m\u001b[0m\u001b[0;34m\u001b[0m\u001b[0m\n\u001b[0m",
      "\u001b[0;32mmtrand.pyx\u001b[0m in \u001b[0;36mmtrand.RandomState.choice\u001b[0;34m()\u001b[0m\n",
      "\u001b[0;31mTypeError\u001b[0m: choice() got an unexpected keyword argument 'seed'"
     ]
    }
   ],
   "source": [
    "np.random.choice([-1,0,1], alpha.size)"
   ]
  },
  {
   "cell_type": "code",
   "execution_count": 173,
   "metadata": {},
   "outputs": [
    {
     "data": {
      "text/plain": [
       "array([ 0,  6,  9, 14, 20, 26, 31, 34, 39, 45, 51, 56, 60, 66, 70, 76, 80,\n",
       "       84])"
      ]
     },
     "execution_count": 173,
     "metadata": {},
     "output_type": "execute_result"
    }
   ],
   "source": [
    "alpha"
   ]
  },
  {
   "cell_type": "code",
   "execution_count": 180,
   "metadata": {},
   "outputs": [
    {
     "name": "stdout",
     "output_type": "stream",
     "text": [
      "\\begin{tabular}{lrrrrrrrrrrrrrrrrrr}\n",
      "\\toprule\n",
      "{} &   0  &        1  &        2  &         3  &         4  &         5  &         6  &         7  &         8  &         9  &         10 &         11 &        12 &         13 &         14 &         15 &         16 &        17 \\\\\n",
      "\\midrule\n",
      "0 &  0.0 &  6.000000 &  9.000000 &  14.000000 &  20.000000 &  26.000000 &  31.000000 &  34.000000 &  39.000000 &  45.000000 &  51.000000 &  56.000000 &  60.00000 &  66.000000 &  70.000000 &  76.000000 &  80.000000 &  84.00000 \\\\\n",
      "1 &  0.0 &  3.995932 &  5.986241 &   9.281273 &  13.180142 &  16.992554 &  20.081638 &  21.888112 &  24.805986 &  28.125506 &  31.204709 &  33.551873 &  35.26439 &  37.519421 &  38.789556 &  40.305562 &  41.036411 &  41.53019 \\\\\n",
      "\\bottomrule\n",
      "\\end{tabular}\n",
      "\n"
     ]
    }
   ],
   "source": [
    "print(pd.DataFrame([alpha, beta]).to_latex())"
   ]
  },
  {
   "cell_type": "code",
   "execution_count": 172,
   "metadata": {},
   "outputs": [],
   "source": [
    "alpha = np.arange(0, 90, 5)\n",
    "alpha[1:] += np.random.choice([-1,0,1], alpha.size-1)\n",
    "alpha\n",
    "beta = np.arcsin(np.sin(alpha/180*np.pi)/1.5)*180/np.pi"
   ]
  },
  {
   "cell_type": "code",
   "execution_count": 170,
   "metadata": {},
   "outputs": [
    {
     "data": {
      "text/plain": [
       "[<matplotlib.lines.Line2D at 0x11f2792e8>]"
      ]
     },
     "execution_count": 170,
     "metadata": {},
     "output_type": "execute_result"
    },
    {
     "data": {
      "image/png": "[encoded data removed]",
      "text/plain": [
       "<Figure size 432x288 with 1 Axes>"
      ]
     },
     "metadata": {
      "needs_background": "light"
     },
     "output_type": "display_data"
    }
   ],
   "source": [
    "plt.plot(alpha, beta, marker='x')"
   ]
  },
  {
   "cell_type": "code",
   "execution_count": null,
   "metadata": {},
   "outputs": [],
   "source": []
  }
 ],
 "metadata": {
  "kernelspec": {
   "display_name": "Python 3",
   "language": "python",
   "name": "python3"
  },
  "language_info": {
   "codemirror_mode": {
    "name": "ipython",
    "version": 3
   },
   "file_extension": ".py",
   "mimetype": "text/x-python",
   "name": "python",
   "nbconvert_exporter": "python",
   "pygments_lexer": "ipython3",
   "version": "3.6.7"
  }
 },
 "nbformat": 4,
 "nbformat_minor": 2
}
