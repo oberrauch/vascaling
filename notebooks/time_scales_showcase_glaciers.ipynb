{
 "cells": [
  {
   "cell_type": "markdown",
   "metadata": {},
   "source": [
    "# Compute time scales for showcase glaciers"
   ]
  },
  {
   "cell_type": "code",
   "execution_count": 1,
   "metadata": {},
   "outputs": [],
   "source": [
    "import os\n",
    "import sys\n",
    "import pickle\n",
    "import numpy as np\n",
    "import pandas as pd\n",
    "import xarray as xr\n",
    "\n",
    "import matplotlib.pyplot as plt\n",
    "%matplotlib inline"
   ]
  },
  {
   "cell_type": "code",
   "execution_count": 2,
   "metadata": {},
   "outputs": [],
   "source": [
    "sys.path.append('../code/')\n",
    "import plots.plot_timeseries as plt_time"
   ]
  },
  {
   "cell_type": "code",
   "execution_count": 3,
   "metadata": {},
   "outputs": [],
   "source": [
    "# define plot output directory\n",
    "plot_dir = \"/Users/oberrauch/work/master/plots/final_plots/sensitivity/\""
   ]
  },
  {
   "cell_type": "code",
   "execution_count": 4,
   "metadata": {},
   "outputs": [
    {
     "data": {
      "image/png": "[encoded data removed]",
      "text/plain": [
       "<Figure size 432x288 with 2 Axes>"
      ]
     },
     "metadata": {
      "needs_background": "light"
     },
     "output_type": "display_data"
    }
   ],
   "source": [
    "# get colors\n",
    "from plots.master_colors import vas_cycle, fl_cycle, plot_colors\n",
    "plot_colors([vas_cycle, fl_cycle], ['VAS', 'Flowline'])"
   ]
  },
  {
   "cell_type": "markdown",
   "metadata": {},
   "source": [
    "## Load dataset and take first look"
   ]
  },
  {
   "cell_type": "code",
   "execution_count": 124,
   "metadata": {},
   "outputs": [
    {
     "data": {
      "text/html": [
       "<div><svg style=\"position: absolute; width: 0; height: 0; overflow: hidden\">\n",
       "<defs>\n",
       "<symbol id=\"icon-database\" viewBox=\"0 0 32 32\">\n",
       "<path d=\"M16 0c-8.837 0-16 2.239-16 5v4c0 2.761 7.163 5 16 5s16-2.239 16-5v-4c0-2.761-7.163-5-16-5z\"></path>\n",
       "<path d=\"M16 17c-8.837 0-16-2.239-16-5v6c0 2.761 7.163 5 16 5s16-2.239 16-5v-6c0 2.761-7.163 5-16 5z\"></path>\n",
       "<path d=\"M16 26c-8.837 0-16-2.239-16-5v6c0 2.761 7.163 5 16 5s16-2.239 16-5v-6c0 2.761-7.163 5-16 5z\"></path>\n",
       "</symbol>\n",
       "<symbol id=\"icon-file-text2\" viewBox=\"0 0 32 32\">\n",
       "<path d=\"M28.681 7.159c-0.694-0.947-1.662-2.053-2.724-3.116s-2.169-2.030-3.116-2.724c-1.612-1.182-2.393-1.319-2.841-1.319h-15.5c-1.378 0-2.5 1.121-2.5 2.5v27c0 1.378 1.122 2.5 2.5 2.5h23c1.378 0 2.5-1.122 2.5-2.5v-19.5c0-0.448-0.137-1.23-1.319-2.841zM24.543 5.457c0.959 0.959 1.712 1.825 2.268 2.543h-4.811v-4.811c0.718 0.556 1.584 1.309 2.543 2.268zM28 29.5c0 0.271-0.229 0.5-0.5 0.5h-23c-0.271 0-0.5-0.229-0.5-0.5v-27c0-0.271 0.229-0.5 0.5-0.5 0 0 15.499-0 15.5 0v7c0 0.552 0.448 1 1 1h7v19.5z\"></path>\n",
       "<path d=\"M23 26h-14c-0.552 0-1-0.448-1-1s0.448-1 1-1h14c0.552 0 1 0.448 1 1s-0.448 1-1 1z\"></path>\n",
       "<path d=\"M23 22h-14c-0.552 0-1-0.448-1-1s0.448-1 1-1h14c0.552 0 1 0.448 1 1s-0.448 1-1 1z\"></path>\n",
       "<path d=\"M23 18h-14c-0.552 0-1-0.448-1-1s0.448-1 1-1h14c0.552 0 1 0.448 1 1s-0.448 1-1 1z\"></path>\n",
       "</symbol>\n",
       "</defs>\n",
       "</svg>\n",
       "<style>/* CSS stylesheet for displaying xarray objects in jupyterlab.\n",
       " *\n",
       " */\n",
       "\n",
       ":root {\n",
       "  --xr-font-color0: var(--jp-content-font-color0, rgba(0, 0, 0, 1));\n",
       "  --xr-font-color2: var(--jp-content-font-color2, rgba(0, 0, 0, 0.54));\n",
       "  --xr-font-color3: var(--jp-content-font-color3, rgba(0, 0, 0, 0.38));\n",
       "  --xr-border-color: var(--jp-border-color2, #e0e0e0);\n",
       "  --xr-disabled-color: var(--jp-layout-color3, #bdbdbd);\n",
       "  --xr-background-color: var(--jp-layout-color0, white);\n",
       "  --xr-background-color-row-even: var(--jp-layout-color1, white);\n",
       "  --xr-background-color-row-odd: var(--jp-layout-color2, #eeeeee);\n",
       "}\n",
       "\n",
       "html[theme=dark],\n",
       "body.vscode-dark {\n",
       "  --xr-font-color0: rgba(255, 255, 255, 1);\n",
       "  --xr-font-color2: rgba(255, 255, 255, 0.54);\n",
       "  --xr-font-color3: rgba(255, 255, 255, 0.38);\n",
       "  --xr-border-color: #1F1F1F;\n",
       "  --xr-disabled-color: #515151;\n",
       "  --xr-background-color: #111111;\n",
       "  --xr-background-color-row-even: #111111;\n",
       "  --xr-background-color-row-odd: #313131;\n",
       "}\n",
       "\n",
       ".xr-wrap {\n",
       "  display: block;\n",
       "  min-width: 300px;\n",
       "  max-width: 700px;\n",
       "}\n",
       "\n",
       ".xr-text-repr-fallback {\n",
       "  /* fallback to plain text repr when CSS is not injected (untrusted notebook) */\n",
       "  display: none;\n",
       "}\n",
       "\n",
       ".xr-header {\n",
       "  padding-top: 6px;\n",
       "  padding-bottom: 6px;\n",
       "  margin-bottom: 4px;\n",
       "  border-bottom: solid 1px var(--xr-border-color);\n",
       "}\n",
       "\n",
       ".xr-header > div,\n",
       ".xr-header > ul {\n",
       "  display: inline;\n",
       "  margin-top: 0;\n",
       "  margin-bottom: 0;\n",
       "}\n",
       "\n",
       ".xr-obj-type,\n",
       ".xr-array-name {\n",
       "  margin-left: 2px;\n",
       "  margin-right: 10px;\n",
       "}\n",
       "\n",
       ".xr-obj-type {\n",
       "  color: var(--xr-font-color2);\n",
       "}\n",
       "\n",
       ".xr-sections {\n",
       "  padding-left: 0 !important;\n",
       "  display: grid;\n",
       "  grid-template-columns: 150px auto auto 1fr 20px 20px;\n",
       "}\n",
       "\n",
       ".xr-section-item {\n",
       "  display: contents;\n",
       "}\n",
       "\n",
       ".xr-section-item input {\n",
       "  display: none;\n",
       "}\n",
       "\n",
       ".xr-section-item input + label {\n",
       "  color: var(--xr-disabled-color);\n",
       "}\n",
       "\n",
       ".xr-section-item input:enabled + label {\n",
       "  cursor: pointer;\n",
       "  color: var(--xr-font-color2);\n",
       "}\n",
       "\n",
       ".xr-section-item input:enabled + label:hover {\n",
       "  color: var(--xr-font-color0);\n",
       "}\n",
       "\n",
       ".xr-section-summary {\n",
       "  grid-column: 1;\n",
       "  color: var(--xr-font-color2);\n",
       "  font-weight: 500;\n",
       "}\n",
       "\n",
       ".xr-section-summary > span {\n",
       "  display: inline-block;\n",
       "  padding-left: 0.5em;\n",
       "}\n",
       "\n",
       ".xr-section-summary-in:disabled + label {\n",
       "  color: var(--xr-font-color2);\n",
       "}\n",
       "\n",
       ".xr-section-summary-in + label:before {\n",
       "  display: inline-block;\n",
       "  content: '►';\n",
       "  font-size: 11px;\n",
       "  width: 15px;\n",
       "  text-align: center;\n",
       "}\n",
       "\n",
       ".xr-section-summary-in:disabled + label:before {\n",
       "  color: var(--xr-disabled-color);\n",
       "}\n",
       "\n",
       ".xr-section-summary-in:checked + label:before {\n",
       "  content: '▼';\n",
       "}\n",
       "\n",
       ".xr-section-summary-in:checked + label > span {\n",
       "  display: none;\n",
       "}\n",
       "\n",
       ".xr-section-summary,\n",
       ".xr-section-inline-details {\n",
       "  padding-top: 4px;\n",
       "  padding-bottom: 4px;\n",
       "}\n",
       "\n",
       ".xr-section-inline-details {\n",
       "  grid-column: 2 / -1;\n",
       "}\n",
       "\n",
       ".xr-section-details {\n",
       "  display: none;\n",
       "  grid-column: 1 / -1;\n",
       "  margin-bottom: 5px;\n",
       "}\n",
       "\n",
       ".xr-section-summary-in:checked ~ .xr-section-details {\n",
       "  display: contents;\n",
       "}\n",
       "\n",
       ".xr-array-wrap {\n",
       "  grid-column: 1 / -1;\n",
       "  display: grid;\n",
       "  grid-template-columns: 20px auto;\n",
       "}\n",
       "\n",
       ".xr-array-wrap > label {\n",
       "  grid-column: 1;\n",
       "  vertical-align: top;\n",
       "}\n",
       "\n",
       ".xr-preview {\n",
       "  color: var(--xr-font-color3);\n",
       "}\n",
       "\n",
       ".xr-array-preview,\n",
       ".xr-array-data {\n",
       "  padding: 0 5px !important;\n",
       "  grid-column: 2;\n",
       "}\n",
       "\n",
       ".xr-array-data,\n",
       ".xr-array-in:checked ~ .xr-array-preview {\n",
       "  display: none;\n",
       "}\n",
       "\n",
       ".xr-array-in:checked ~ .xr-array-data,\n",
       ".xr-array-preview {\n",
       "  display: inline-block;\n",
       "}\n",
       "\n",
       ".xr-dim-list {\n",
       "  display: inline-block !important;\n",
       "  list-style: none;\n",
       "  padding: 0 !important;\n",
       "  margin: 0;\n",
       "}\n",
       "\n",
       ".xr-dim-list li {\n",
       "  display: inline-block;\n",
       "  padding: 0;\n",
       "  margin: 0;\n",
       "}\n",
       "\n",
       ".xr-dim-list:before {\n",
       "  content: '(';\n",
       "}\n",
       "\n",
       ".xr-dim-list:after {\n",
       "  content: ')';\n",
       "}\n",
       "\n",
       ".xr-dim-list li:not(:last-child):after {\n",
       "  content: ',';\n",
       "  padding-right: 5px;\n",
       "}\n",
       "\n",
       ".xr-has-index {\n",
       "  font-weight: bold;\n",
       "}\n",
       "\n",
       ".xr-var-list,\n",
       ".xr-var-item {\n",
       "  display: contents;\n",
       "}\n",
       "\n",
       ".xr-var-item > div,\n",
       ".xr-var-item label,\n",
       ".xr-var-item > .xr-var-name span {\n",
       "  background-color: var(--xr-background-color-row-even);\n",
       "  margin-bottom: 0;\n",
       "}\n",
       "\n",
       ".xr-var-item > .xr-var-name:hover span {\n",
       "  padding-right: 5px;\n",
       "}\n",
       "\n",
       ".xr-var-list > li:nth-child(odd) > div,\n",
       ".xr-var-list > li:nth-child(odd) > label,\n",
       ".xr-var-list > li:nth-child(odd) > .xr-var-name span {\n",
       "  background-color: var(--xr-background-color-row-odd);\n",
       "}\n",
       "\n",
       ".xr-var-name {\n",
       "  grid-column: 1;\n",
       "}\n",
       "\n",
       ".xr-var-dims {\n",
       "  grid-column: 2;\n",
       "}\n",
       "\n",
       ".xr-var-dtype {\n",
       "  grid-column: 3;\n",
       "  text-align: right;\n",
       "  color: var(--xr-font-color2);\n",
       "}\n",
       "\n",
       ".xr-var-preview {\n",
       "  grid-column: 4;\n",
       "}\n",
       "\n",
       ".xr-var-name,\n",
       ".xr-var-dims,\n",
       ".xr-var-dtype,\n",
       ".xr-preview,\n",
       ".xr-attrs dt {\n",
       "  white-space: nowrap;\n",
       "  overflow: hidden;\n",
       "  text-overflow: ellipsis;\n",
       "  padding-right: 10px;\n",
       "}\n",
       "\n",
       ".xr-var-name:hover,\n",
       ".xr-var-dims:hover,\n",
       ".xr-var-dtype:hover,\n",
       ".xr-attrs dt:hover {\n",
       "  overflow: visible;\n",
       "  width: auto;\n",
       "  z-index: 1;\n",
       "}\n",
       "\n",
       ".xr-var-attrs,\n",
       ".xr-var-data {\n",
       "  display: none;\n",
       "  background-color: var(--xr-background-color) !important;\n",
       "  padding-bottom: 5px !important;\n",
       "}\n",
       "\n",
       ".xr-var-attrs-in:checked ~ .xr-var-attrs,\n",
       ".xr-var-data-in:checked ~ .xr-var-data {\n",
       "  display: block;\n",
       "}\n",
       "\n",
       ".xr-var-data > table {\n",
       "  float: right;\n",
       "}\n",
       "\n",
       ".xr-var-name span,\n",
       ".xr-var-data,\n",
       ".xr-attrs {\n",
       "  padding-left: 25px !important;\n",
       "}\n",
       "\n",
       ".xr-attrs,\n",
       ".xr-var-attrs,\n",
       ".xr-var-data {\n",
       "  grid-column: 1 / -1;\n",
       "}\n",
       "\n",
       "dl.xr-attrs {\n",
       "  padding: 0;\n",
       "  margin: 0;\n",
       "  display: grid;\n",
       "  grid-template-columns: 125px auto;\n",
       "}\n",
       "\n",
       ".xr-attrs dt, dd {\n",
       "  padding: 0;\n",
       "  margin: 0;\n",
       "  float: left;\n",
       "  padding-right: 10px;\n",
       "  width: auto;\n",
       "}\n",
       "\n",
       ".xr-attrs dt {\n",
       "  font-weight: normal;\n",
       "  grid-column: 1;\n",
       "}\n",
       "\n",
       ".xr-attrs dt:hover span {\n",
       "  display: inline-block;\n",
       "  background: var(--xr-background-color);\n",
       "  padding-right: 10px;\n",
       "}\n",
       "\n",
       ".xr-attrs dd {\n",
       "  grid-column: 2;\n",
       "  white-space: pre-wrap;\n",
       "  word-break: break-all;\n",
       "}\n",
       "\n",
       ".xr-icon-database,\n",
       ".xr-icon-file-text2 {\n",
       "  display: inline-block;\n",
       "  vertical-align: middle;\n",
       "  width: 1em;\n",
       "  height: 1.5em !important;\n",
       "  stroke-width: 0;\n",
       "  stroke: currentColor;\n",
       "  fill: currentColor;\n",
       "}\n",
       "</style><pre class='xr-text-repr-fallback'>&lt;xarray.Dataset&gt;\n",
       "Dimensions:         (mb_model: 2, model: 2, normalized: 2, rgi_id: 6, temp_bias: 3, time: 1001)\n",
       "Coordinates:\n",
       "    calendar_month  (time) int64 10 10 10 10 10 10 10 ... 10 10 10 10 10 10 10\n",
       "    calendar_year   (time) int64 -1 0 1 2 3 4 5 ... 993 994 995 996 997 998 999\n",
       "    hydro_year      (time) int64 0 1 2 3 4 5 6 ... 994 995 996 997 998 999 1000\n",
       "    hydro_month     (time) int64 1 1 1 1 1 1 1 1 1 1 1 ... 1 1 1 1 1 1 1 1 1 1 1\n",
       "  * model           (model) object &#x27;vas&#x27; &#x27;fl&#x27;\n",
       "  * normalized      (normalized) bool False True\n",
       "  * temp_bias       (temp_bias) float64 0.0 0.5 -0.5\n",
       "  * time            (time) float64 0.0 1.0 2.0 3.0 ... 997.0 998.0 999.0 1e+03\n",
       "  * rgi_id          (rgi_id) object &#x27;RGI60-11.00897&#x27; ... &#x27;RGI60-11.01238&#x27;\n",
       "  * mb_model        (mb_model) object &#x27;random&#x27; &#x27;constant&#x27;\n",
       "Data variables:\n",
       "    volume          (mb_model, model, normalized, temp_bias, time, rgi_id) float64 ...\n",
       "    area            (mb_model, model, normalized, temp_bias, time, rgi_id) float64 ...\n",
       "    length          (mb_model, model, normalized, temp_bias, time, rgi_id) float64 ...\n",
       "    ela             (mb_model, model, normalized, temp_bias, time, rgi_id) float64 ...\n",
       "Attributes:\n",
       "    description:    OGGM model output\n",
       "    oggm_version:   1.3.2.dev86+g5d61f9d\n",
       "    calendar:       365-day no leap\n",
       "    creation_date:  2020-09-16 15:13:48</pre><div class='xr-wrap' hidden><div class='xr-header'><div class='xr-obj-type'>xarray.Dataset</div></div><ul class='xr-sections'><li class='xr-section-item'><input id='section-989600ed-396b-455b-ba8e-a0553fe145f8' class='xr-section-summary-in' type='checkbox' disabled ><label for='section-989600ed-396b-455b-ba8e-a0553fe145f8' class='xr-section-summary'  title='Expand/collapse section'>Dimensions:</label><div class='xr-section-inline-details'><ul class='xr-dim-list'><li><span class='xr-has-index'>mb_model</span>: 2</li><li><span class='xr-has-index'>model</span>: 2</li><li><span class='xr-has-index'>normalized</span>: 2</li><li><span class='xr-has-index'>rgi_id</span>: 6</li><li><span class='xr-has-index'>temp_bias</span>: 3</li><li><span class='xr-has-index'>time</span>: 1001</li></ul></div><div class='xr-section-details'></div></li><li class='xr-section-item'><input id='section-e47c08b1-310b-4321-b892-4579ffb81e51' class='xr-section-summary-in' type='checkbox'  checked><label for='section-e47c08b1-310b-4321-b892-4579ffb81e51' class='xr-section-summary' >Coordinates: <span>(10)</span></label><div class='xr-section-inline-details'></div><div class='xr-section-details'><ul class='xr-var-list'><li class='xr-var-item'><div class='xr-var-name'><span>calendar_month</span></div><div class='xr-var-dims'>(time)</div><div class='xr-var-dtype'>int64</div><div class='xr-var-preview xr-preview'>10 10 10 10 10 ... 10 10 10 10 10</div><input id='attrs-fa28dce4-0153-4228-8995-f22be10d5eec' class='xr-var-attrs-in' type='checkbox' ><label for='attrs-fa28dce4-0153-4228-8995-f22be10d5eec' title='Show/Hide attributes'><svg class='icon xr-icon-file-text2'><use xlink:href='#icon-file-text2'></use></svg></label><input id='data-63891d4b-b807-4beb-b87b-a1b70559857c' class='xr-var-data-in' type='checkbox'><label for='data-63891d4b-b807-4beb-b87b-a1b70559857c' title='Show/Hide data repr'><svg class='icon xr-icon-database'><use xlink:href='#icon-database'></use></svg></label><div class='xr-var-attrs'><dl class='xr-attrs'><dt><span>description :</span></dt><dd>Calendar month</dd></dl></div><div class='xr-var-data'><pre>array([10, 10, 10, ..., 10, 10, 10])</pre></div></li><li class='xr-var-item'><div class='xr-var-name'><span>calendar_year</span></div><div class='xr-var-dims'>(time)</div><div class='xr-var-dtype'>int64</div><div class='xr-var-preview xr-preview'>-1 0 1 2 3 ... 995 996 997 998 999</div><input id='attrs-f7b3b775-9759-40b2-bc6a-bc3dafc1ba8a' class='xr-var-attrs-in' type='checkbox' ><label for='attrs-f7b3b775-9759-40b2-bc6a-bc3dafc1ba8a' title='Show/Hide attributes'><svg class='icon xr-icon-file-text2'><use xlink:href='#icon-file-text2'></use></svg></label><input id='data-3977e66e-cffe-4cde-b73a-1e90142995ea' class='xr-var-data-in' type='checkbox'><label for='data-3977e66e-cffe-4cde-b73a-1e90142995ea' title='Show/Hide data repr'><svg class='icon xr-icon-database'><use xlink:href='#icon-database'></use></svg></label><div class='xr-var-attrs'><dl class='xr-attrs'><dt><span>description :</span></dt><dd>Calendar year</dd></dl></div><div class='xr-var-data'><pre>array([ -1,   0,   1, ..., 997, 998, 999])</pre></div></li><li class='xr-var-item'><div class='xr-var-name'><span>hydro_year</span></div><div class='xr-var-dims'>(time)</div><div class='xr-var-dtype'>int64</div><div class='xr-var-preview xr-preview'>0 1 2 3 4 ... 996 997 998 999 1000</div><input id='attrs-158fad55-cb56-4842-b4e8-99aaa46497ed' class='xr-var-attrs-in' type='checkbox' ><label for='attrs-158fad55-cb56-4842-b4e8-99aaa46497ed' title='Show/Hide attributes'><svg class='icon xr-icon-file-text2'><use xlink:href='#icon-file-text2'></use></svg></label><input id='data-5f33523f-3b33-42da-82d2-1a15a74883fe' class='xr-var-data-in' type='checkbox'><label for='data-5f33523f-3b33-42da-82d2-1a15a74883fe' title='Show/Hide data repr'><svg class='icon xr-icon-database'><use xlink:href='#icon-database'></use></svg></label><div class='xr-var-attrs'><dl class='xr-attrs'><dt><span>description :</span></dt><dd>Hydrological year</dd></dl></div><div class='xr-var-data'><pre>array([   0,    1,    2, ...,  998,  999, 1000])</pre></div></li><li class='xr-var-item'><div class='xr-var-name'><span>hydro_month</span></div><div class='xr-var-dims'>(time)</div><div class='xr-var-dtype'>int64</div><div class='xr-var-preview xr-preview'>1 1 1 1 1 1 1 1 ... 1 1 1 1 1 1 1 1</div><input id='attrs-7de50732-194a-4db4-a8ae-3127ad019482' class='xr-var-attrs-in' type='checkbox' ><label for='attrs-7de50732-194a-4db4-a8ae-3127ad019482' title='Show/Hide attributes'><svg class='icon xr-icon-file-text2'><use xlink:href='#icon-file-text2'></use></svg></label><input id='data-edc403f7-f3c2-4765-973d-ff5cd1c11128' class='xr-var-data-in' type='checkbox'><label for='data-edc403f7-f3c2-4765-973d-ff5cd1c11128' title='Show/Hide data repr'><svg class='icon xr-icon-database'><use xlink:href='#icon-database'></use></svg></label><div class='xr-var-attrs'><dl class='xr-attrs'><dt><span>description :</span></dt><dd>Hydrological month</dd></dl></div><div class='xr-var-data'><pre>array([1, 1, 1, ..., 1, 1, 1])</pre></div></li><li class='xr-var-item'><div class='xr-var-name'><span class='xr-has-index'>model</span></div><div class='xr-var-dims'>(model)</div><div class='xr-var-dtype'>object</div><div class='xr-var-preview xr-preview'>&#x27;vas&#x27; &#x27;fl&#x27;</div><input id='attrs-a5ac6b1f-7565-449a-a0d9-ab300723d60f' class='xr-var-attrs-in' type='checkbox' disabled><label for='attrs-a5ac6b1f-7565-449a-a0d9-ab300723d60f' title='Show/Hide attributes'><svg class='icon xr-icon-file-text2'><use xlink:href='#icon-file-text2'></use></svg></label><input id='data-274ac987-322f-43b5-9ebe-f4fcbd1bbd77' class='xr-var-data-in' type='checkbox'><label for='data-274ac987-322f-43b5-9ebe-f4fcbd1bbd77' title='Show/Hide data repr'><svg class='icon xr-icon-database'><use xlink:href='#icon-database'></use></svg></label><div class='xr-var-attrs'><dl class='xr-attrs'></dl></div><div class='xr-var-data'><pre>array([&#x27;vas&#x27;, &#x27;fl&#x27;], dtype=object)</pre></div></li><li class='xr-var-item'><div class='xr-var-name'><span class='xr-has-index'>normalized</span></div><div class='xr-var-dims'>(normalized)</div><div class='xr-var-dtype'>bool</div><div class='xr-var-preview xr-preview'>False True</div><input id='attrs-79fef566-f25d-4858-8b1c-af75ecc40d85' class='xr-var-attrs-in' type='checkbox' disabled><label for='attrs-79fef566-f25d-4858-8b1c-af75ecc40d85' title='Show/Hide attributes'><svg class='icon xr-icon-file-text2'><use xlink:href='#icon-file-text2'></use></svg></label><input id='data-5162442e-50c3-4125-904e-fb8e158f71cd' class='xr-var-data-in' type='checkbox'><label for='data-5162442e-50c3-4125-904e-fb8e158f71cd' title='Show/Hide data repr'><svg class='icon xr-icon-database'><use xlink:href='#icon-database'></use></svg></label><div class='xr-var-attrs'><dl class='xr-attrs'></dl></div><div class='xr-var-data'><pre>array([False,  True])</pre></div></li><li class='xr-var-item'><div class='xr-var-name'><span class='xr-has-index'>temp_bias</span></div><div class='xr-var-dims'>(temp_bias)</div><div class='xr-var-dtype'>float64</div><div class='xr-var-preview xr-preview'>0.0 0.5 -0.5</div><input id='attrs-9434ec99-447f-4e69-be3b-fffcda268ab7' class='xr-var-attrs-in' type='checkbox' disabled><label for='attrs-9434ec99-447f-4e69-be3b-fffcda268ab7' title='Show/Hide attributes'><svg class='icon xr-icon-file-text2'><use xlink:href='#icon-file-text2'></use></svg></label><input id='data-dec51194-c3ae-499a-bf8c-e0546cbf10df' class='xr-var-data-in' type='checkbox'><label for='data-dec51194-c3ae-499a-bf8c-e0546cbf10df' title='Show/Hide data repr'><svg class='icon xr-icon-database'><use xlink:href='#icon-database'></use></svg></label><div class='xr-var-attrs'><dl class='xr-attrs'></dl></div><div class='xr-var-data'><pre>array([ 0. ,  0.5, -0.5])</pre></div></li><li class='xr-var-item'><div class='xr-var-name'><span class='xr-has-index'>time</span></div><div class='xr-var-dims'>(time)</div><div class='xr-var-dtype'>float64</div><div class='xr-var-preview xr-preview'>0.0 1.0 2.0 ... 998.0 999.0 1e+03</div><input id='attrs-4d057769-0e32-4a4a-9ca8-63fcf0fa8bf0' class='xr-var-attrs-in' type='checkbox' ><label for='attrs-4d057769-0e32-4a4a-9ca8-63fcf0fa8bf0' title='Show/Hide attributes'><svg class='icon xr-icon-file-text2'><use xlink:href='#icon-file-text2'></use></svg></label><input id='data-76b5f7c1-dfa4-4e2a-bb7e-da6dc7f44073' class='xr-var-data-in' type='checkbox'><label for='data-76b5f7c1-dfa4-4e2a-bb7e-da6dc7f44073' title='Show/Hide data repr'><svg class='icon xr-icon-database'><use xlink:href='#icon-database'></use></svg></label><div class='xr-var-attrs'><dl class='xr-attrs'><dt><span>description :</span></dt><dd>Floating hydrological year</dd></dl></div><div class='xr-var-data'><pre>array([   0.,    1.,    2., ...,  998.,  999., 1000.])</pre></div></li><li class='xr-var-item'><div class='xr-var-name'><span class='xr-has-index'>rgi_id</span></div><div class='xr-var-dims'>(rgi_id)</div><div class='xr-var-dtype'>object</div><div class='xr-var-preview xr-preview'>&#x27;RGI60-11.00897&#x27; ... &#x27;RGI60-11.0...</div><input id='attrs-d410b75e-3645-4289-bd63-635d0b7dd4a8' class='xr-var-attrs-in' type='checkbox' ><label for='attrs-d410b75e-3645-4289-bd63-635d0b7dd4a8' title='Show/Hide attributes'><svg class='icon xr-icon-file-text2'><use xlink:href='#icon-file-text2'></use></svg></label><input id='data-d8a120bd-407c-4c0f-9ea9-61c42909094f' class='xr-var-data-in' type='checkbox'><label for='data-d8a120bd-407c-4c0f-9ea9-61c42909094f' title='Show/Hide data repr'><svg class='icon xr-icon-database'><use xlink:href='#icon-database'></use></svg></label><div class='xr-var-attrs'><dl class='xr-attrs'><dt><span>description :</span></dt><dd>RGI glacier identifier</dd></dl></div><div class='xr-var-data'><pre>array([&#x27;RGI60-11.00897&#x27;, &#x27;RGI60-11.00106&#x27;, &#x27;RGI60-11.03643&#x27;, &#x27;RGI60-11.03638&#x27;,\n",
       "       &#x27;RGI60-11.01450&#x27;, &#x27;RGI60-11.01238&#x27;], dtype=object)</pre></div></li><li class='xr-var-item'><div class='xr-var-name'><span class='xr-has-index'>mb_model</span></div><div class='xr-var-dims'>(mb_model)</div><div class='xr-var-dtype'>object</div><div class='xr-var-preview xr-preview'>&#x27;random&#x27; &#x27;constant&#x27;</div><input id='attrs-2aeb3119-0b1b-4682-aaa6-e2a8d40f4e59' class='xr-var-attrs-in' type='checkbox' disabled><label for='attrs-2aeb3119-0b1b-4682-aaa6-e2a8d40f4e59' title='Show/Hide attributes'><svg class='icon xr-icon-file-text2'><use xlink:href='#icon-file-text2'></use></svg></label><input id='data-853c224a-b8c5-4123-a530-5496afb740e5' class='xr-var-data-in' type='checkbox'><label for='data-853c224a-b8c5-4123-a530-5496afb740e5' title='Show/Hide data repr'><svg class='icon xr-icon-database'><use xlink:href='#icon-database'></use></svg></label><div class='xr-var-attrs'><dl class='xr-attrs'></dl></div><div class='xr-var-data'><pre>array([&#x27;random&#x27;, &#x27;constant&#x27;], dtype=object)</pre></div></li></ul></div></li><li class='xr-section-item'><input id='section-4a713146-1ff9-467e-81db-0c33bafe6300' class='xr-section-summary-in' type='checkbox'  checked><label for='section-4a713146-1ff9-467e-81db-0c33bafe6300' class='xr-section-summary' >Data variables: <span>(4)</span></label><div class='xr-section-inline-details'></div><div class='xr-section-details'><ul class='xr-var-list'><li class='xr-var-item'><div class='xr-var-name'><span>volume</span></div><div class='xr-var-dims'>(mb_model, model, normalized, temp_bias, time, rgi_id)</div><div class='xr-var-dtype'>float64</div><div class='xr-var-preview xr-preview'>5.963e+08 1.776e+09 ... 1.199 1.258</div><input id='attrs-2af76c69-b417-46f4-a94a-67d4fc83db8b' class='xr-var-attrs-in' type='checkbox' ><label for='attrs-2af76c69-b417-46f4-a94a-67d4fc83db8b' title='Show/Hide attributes'><svg class='icon xr-icon-file-text2'><use xlink:href='#icon-file-text2'></use></svg></label><input id='data-0f699377-1eee-40e0-82c5-d3acf9c08786' class='xr-var-data-in' type='checkbox'><label for='data-0f699377-1eee-40e0-82c5-d3acf9c08786' title='Show/Hide data repr'><svg class='icon xr-icon-database'><use xlink:href='#icon-database'></use></svg></label><div class='xr-var-attrs'><dl class='xr-attrs'><dt><span>description :</span></dt><dd>Total glacier volume</dd><dt><span>units :</span></dt><dd>m 3</dd></dl></div><div class='xr-var-data'><pre>array([[[[[[5.96297884e+08, 1.77618412e+09, 2.71182137e+09,\n",
       "            1.25357612e+09, 1.45890060e+10, 1.51559662e+09],\n",
       "           [5.94600238e+08, 1.79612313e+09, 2.70337863e+09,\n",
       "            1.25919081e+09, 1.45537125e+10, 1.53038250e+09],\n",
       "           [5.91139217e+08, 1.80697781e+09, 2.68906567e+09,\n",
       "            1.27182960e+09, 1.45784465e+10, 1.53286160e+09],\n",
       "           ...,\n",
       "           [6.08424996e+08, 1.63006011e+09, 2.60077468e+09,\n",
       "            1.29174469e+09, 1.48370183e+10, 1.52082382e+09],\n",
       "           [6.06195344e+08, 1.62404424e+09, 2.59003527e+09,\n",
       "            1.28791724e+09, 1.47929735e+10, 1.52585600e+09],\n",
       "           [6.04410094e+08, 1.62478288e+09, 2.57830243e+09,\n",
       "            1.30166698e+09, 1.47920680e+10, 1.52472103e+09]],\n",
       "\n",
       "          [[5.96297884e+08, 1.77618412e+09, 2.71182137e+09,\n",
       "            1.25357612e+09, 1.45890060e+10, 1.51559662e+09],\n",
       "           [5.93000518e+08, 1.79218147e+09, 2.69809106e+09,\n",
       "            1.25648087e+09, 1.45331721e+10, 1.52484747e+09],\n",
       "           [5.87249115e+08, 1.79804756e+09, 2.67773256e+09,\n",
       "            1.26572192e+09, 1.45403220e+10, 1.52286347e+09],\n",
       "...\n",
       "           [5.81529684e-01, 6.68546267e-01, 8.04862627e-01,\n",
       "            6.29372371e-01, 7.22851656e-01, 6.50002532e-01],\n",
       "           [5.81529691e-01, 6.68546267e-01, 8.04862627e-01,\n",
       "            6.29372183e-01, 7.22851654e-01, 6.50002530e-01],\n",
       "           [5.81529698e-01, 6.68546267e-01, 8.04862627e-01,\n",
       "            6.29371997e-01, 7.22851653e-01, 6.50002528e-01]],\n",
       "\n",
       "          [[1.00000000e+00, 1.00000000e+00, 1.00000000e+00,\n",
       "            1.00000000e+00, 1.00000000e+00, 1.00000000e+00],\n",
       "           [1.00344780e+00, 1.00335518e+00, 1.00275852e+00,\n",
       "            1.00293637e+00, 1.00225004e+00, 1.00453000e+00],\n",
       "           [1.00692859e+00, 1.00669960e+00, 1.00564161e+00,\n",
       "            1.00594114e+00, 1.00458582e+00, 1.00822514e+00],\n",
       "           ...,\n",
       "           [1.71133377e+00, 1.53877762e+00, 1.13665740e+00,\n",
       "            1.12742673e+00, 1.19935065e+00, 1.25838355e+00],\n",
       "           [1.71132957e+00, 1.53877762e+00, 1.13665370e+00,\n",
       "            1.12742673e+00, 1.19934404e+00, 1.25838355e+00],\n",
       "           [1.71132527e+00, 1.53877762e+00, 1.13665030e+00,\n",
       "            1.12742673e+00, 1.19933733e+00, 1.25838355e+00]]]]]])</pre></div></li><li class='xr-var-item'><div class='xr-var-name'><span>area</span></div><div class='xr-var-dims'>(mb_model, model, normalized, temp_bias, time, rgi_id)</div><div class='xr-var-dtype'>float64</div><div class='xr-var-preview xr-preview'>8.036e+06 1.777e+07 ... 1.083 1.123</div><input id='attrs-adaea6f0-5a08-4f14-9b51-41f408e69f2e' class='xr-var-attrs-in' type='checkbox' ><label for='attrs-adaea6f0-5a08-4f14-9b51-41f408e69f2e' title='Show/Hide attributes'><svg class='icon xr-icon-file-text2'><use xlink:href='#icon-file-text2'></use></svg></label><input id='data-524ae862-17a8-42ba-a115-367f8cdf3790' class='xr-var-data-in' type='checkbox'><label for='data-524ae862-17a8-42ba-a115-367f8cdf3790' title='Show/Hide data repr'><svg class='icon xr-icon-database'><use xlink:href='#icon-database'></use></svg></label><div class='xr-var-attrs'><dl class='xr-attrs'><dt><span>description :</span></dt><dd>Total glacier area</dd><dt><span>units :</span></dt><dd>m 2</dd></dl></div><div class='xr-var-data'><pre>array([[[[[[8.03600000e+06, 1.77740000e+07, 2.41790000e+07,\n",
       "            1.37950000e+07, 8.22060000e+07, 1.58370000e+07],\n",
       "           [8.03504760e+06, 1.77834605e+07, 2.41750993e+07,\n",
       "            1.37983007e+07, 8.21978141e+07, 1.58466560e+07],\n",
       "           [8.03219774e+06, 1.77972887e+07, 2.41648245e+07,\n",
       "            1.38087283e+07, 8.21958239e+07, 1.58569990e+07],\n",
       "           ...,\n",
       "           [8.34182893e+06, 1.68132344e+07, 2.38399211e+07,\n",
       "            1.40138817e+07, 8.28409310e+07, 1.58985239e+07],\n",
       "           [8.32972511e+06, 1.68023839e+07, 2.38057621e+07,\n",
       "            1.40178721e+07, 8.28519355e+07, 1.58999491e+07],\n",
       "           [8.31727160e+06, 1.67926136e+07, 2.37682648e+07,\n",
       "            1.40295308e+07, 8.28621611e+07, 1.59004987e+07]],\n",
       "\n",
       "          [[8.03600000e+06, 1.77740000e+07, 2.41790000e+07,\n",
       "            1.37950000e+07, 8.22060000e+07, 1.58370000e+07],\n",
       "           [8.03414946e+06, 1.77815926e+07, 2.41726547e+07,\n",
       "            1.37967081e+07, 8.21930475e+07, 1.58430443e+07],\n",
       "           [8.02914307e+06, 1.77913821e+07, 2.41572599e+07,\n",
       "            1.38037018e+07, 8.21824471e+07, 1.58472480e+07],\n",
       "...\n",
       "           [7.67888883e-01, 8.48206300e-01, 9.13365354e-01,\n",
       "            8.33393315e-01, 8.94354354e-01, 8.19924102e-01],\n",
       "           [7.67888957e-01, 8.48206300e-01, 9.13365354e-01,\n",
       "            8.33393304e-01, 8.94354353e-01, 8.19924101e-01],\n",
       "           [7.67889031e-01, 8.48206300e-01, 9.13365354e-01,\n",
       "            8.33393292e-01, 8.94354353e-01, 8.19924101e-01]],\n",
       "\n",
       "          [[1.00000000e+00, 1.00000000e+00, 1.00000000e+00,\n",
       "            1.00000000e+00, 1.00000000e+00, 1.00000000e+00],\n",
       "           [9.99804594e-01, 9.95503281e-01, 9.96210142e-01,\n",
       "            9.96398243e-01, 9.98520028e-01, 9.99260214e-01],\n",
       "           [9.99613825e-01, 9.93660348e-01, 9.94018667e-01,\n",
       "            9.97098739e-01, 9.97739044e-01, 9.98456743e-01],\n",
       "           ...,\n",
       "           [1.32866640e+00, 1.20954124e+00, 1.06522302e+00,\n",
       "            1.06911244e+00, 1.08275341e+00, 1.12311342e+00],\n",
       "           [1.32871001e+00, 1.20954124e+00, 1.06526552e+00,\n",
       "            1.06911244e+00, 1.08275058e+00, 1.12311342e+00],\n",
       "           [1.32870073e+00, 1.20954124e+00, 1.06530304e+00,\n",
       "            1.06911244e+00, 1.08273746e+00, 1.12311342e+00]]]]]])</pre></div></li><li class='xr-var-item'><div class='xr-var-name'><span>length</span></div><div class='xr-var-dims'>(mb_model, model, normalized, temp_bias, time, rgi_id)</div><div class='xr-var-dtype'>float64</div><div class='xr-var-preview xr-preview'>4.895e+03 8.039e+03 ... 1.235 1.217</div><input id='attrs-5b93bdcb-0e93-4fa2-a65a-0fab57813d4a' class='xr-var-attrs-in' type='checkbox' ><label for='attrs-5b93bdcb-0e93-4fa2-a65a-0fab57813d4a' title='Show/Hide attributes'><svg class='icon xr-icon-file-text2'><use xlink:href='#icon-file-text2'></use></svg></label><input id='data-c80954ff-ad1e-4fa4-9c4e-21f98fb9a183' class='xr-var-data-in' type='checkbox'><label for='data-c80954ff-ad1e-4fa4-9c4e-21f98fb9a183' title='Show/Hide data repr'><svg class='icon xr-icon-database'><use xlink:href='#icon-database'></use></svg></label><div class='xr-var-attrs'><dl class='xr-attrs'><dt><span>description :</span></dt><dd>Glacier length</dd><dt><span>units :</span></dt><dd>m</dd></dl></div><div class='xr-var-data'><pre>array([[[[[[4.89463693e+03, 8.03870817e+03, 9.74360091e+03,\n",
       "            6.86114493e+03, 2.09355910e+04, 7.47938865e+03],\n",
       "           [4.89451527e+03, 8.03944259e+03, 9.74335060e+03,\n",
       "            6.86144542e+03, 2.09353466e+04, 7.48019446e+03],\n",
       "           [4.89414632e+03, 8.04054993e+03, 9.74267750e+03,\n",
       "            6.86240909e+03, 2.09352759e+04, 7.48110700e+03],\n",
       "           ...,\n",
       "           [4.97362378e+03, 7.85088095e+03, 9.79074504e+03,\n",
       "            6.92337571e+03, 2.08543674e+04, 7.53605533e+03],\n",
       "           [4.97279932e+03, 7.84842250e+03, 9.78611041e+03,\n",
       "            6.92385506e+03, 2.08566151e+04, 7.53523414e+03],\n",
       "           [4.97185987e+03, 7.84603181e+03, 9.78118205e+03,\n",
       "            6.92504170e+03, 2.08588399e+04, 7.53437391e+03]],\n",
       "\n",
       "          [[4.89463693e+03, 8.03870817e+03, 9.74360091e+03,\n",
       "            6.86114493e+03, 2.09355910e+04, 7.47938865e+03],\n",
       "           [4.89440046e+03, 8.03929776e+03, 9.74319361e+03,\n",
       "            6.86130048e+03, 2.09352041e+04, 7.47989331e+03],\n",
       "           [4.89375088e+03, 8.04008548e+03, 9.74218284e+03,\n",
       "            6.86194482e+03, 2.09348697e+04, 7.48027540e+03],\n",
       "...\n",
       "           [6.08695652e-01, 6.76923077e-01, 8.02325581e-01,\n",
       "            5.75000000e-01, 7.17647059e-01, 6.08695652e-01],\n",
       "           [6.08695652e-01, 6.76923077e-01, 8.02325581e-01,\n",
       "            5.75000000e-01, 7.17647059e-01, 6.08695652e-01],\n",
       "           [6.08695652e-01, 6.76923077e-01, 8.02325581e-01,\n",
       "            5.75000000e-01, 7.17647059e-01, 6.08695652e-01]],\n",
       "\n",
       "          [[1.00000000e+00, 1.00000000e+00, 1.00000000e+00,\n",
       "            1.00000000e+00, 1.00000000e+00, 1.00000000e+00],\n",
       "           [1.01449275e+00, 1.01538462e+00, 1.02325581e+00,\n",
       "            9.62500000e-01, 1.00000000e+00, 1.01449275e+00],\n",
       "           [1.02898551e+00, 1.01538462e+00, 9.88372093e-01,\n",
       "            9.62500000e-01, 9.88235294e-01, 1.01449275e+00],\n",
       "           ...,\n",
       "           [1.44927536e+00, 1.36923077e+00, 1.10465116e+00,\n",
       "            1.10000000e+00, 1.22352941e+00, 1.21739130e+00],\n",
       "           [1.44927536e+00, 1.36923077e+00, 1.10465116e+00,\n",
       "            1.10000000e+00, 1.22352941e+00, 1.21739130e+00],\n",
       "           [1.43478261e+00, 1.36923077e+00, 1.10465116e+00,\n",
       "            1.10000000e+00, 1.23529412e+00, 1.21739130e+00]]]]]])</pre></div></li><li class='xr-var-item'><div class='xr-var-name'><span>ela</span></div><div class='xr-var-dims'>(mb_model, model, normalized, temp_bias, time, rgi_id)</div><div class='xr-var-dtype'>float64</div><div class='xr-var-preview xr-preview'>0.0 0.0 0.0 0.0 ... 1.0 1.0 1.0 1.0</div><input id='attrs-5a77deb3-c49c-44df-a41d-4ec746c2ebc6' class='xr-var-attrs-in' type='checkbox' ><label for='attrs-5a77deb3-c49c-44df-a41d-4ec746c2ebc6' title='Show/Hide attributes'><svg class='icon xr-icon-file-text2'><use xlink:href='#icon-file-text2'></use></svg></label><input id='data-5487cd52-f067-4640-8032-7c52d7f2affc' class='xr-var-data-in' type='checkbox'><label for='data-5487cd52-f067-4640-8032-7c52d7f2affc' title='Show/Hide data repr'><svg class='icon xr-icon-database'><use xlink:href='#icon-database'></use></svg></label><div class='xr-var-attrs'><dl class='xr-attrs'><dt><span>description :</span></dt><dd>Glacier Equilibrium Line Altitude (ELA)</dd><dt><span>units :</span></dt><dd>m a.s.l</dd></dl></div><div class='xr-var-data'><pre>array([[[[[[0.00000000e+00, 0.00000000e+00, 0.00000000e+00,\n",
       "            0.00000000e+00, 0.00000000e+00, 0.00000000e+00],\n",
       "           [0.00000000e+00, 0.00000000e+00, 0.00000000e+00,\n",
       "            0.00000000e+00, 0.00000000e+00, 0.00000000e+00],\n",
       "           [0.00000000e+00, 0.00000000e+00, 0.00000000e+00,\n",
       "            0.00000000e+00, 0.00000000e+00, 0.00000000e+00],\n",
       "           ...,\n",
       "           [0.00000000e+00, 0.00000000e+00, 0.00000000e+00,\n",
       "            0.00000000e+00, 0.00000000e+00, 0.00000000e+00],\n",
       "           [0.00000000e+00, 0.00000000e+00, 0.00000000e+00,\n",
       "            0.00000000e+00, 0.00000000e+00, 0.00000000e+00],\n",
       "           [0.00000000e+00, 0.00000000e+00, 0.00000000e+00,\n",
       "            0.00000000e+00, 0.00000000e+00, 0.00000000e+00]],\n",
       "\n",
       "          [[0.00000000e+00, 0.00000000e+00, 0.00000000e+00,\n",
       "            0.00000000e+00, 0.00000000e+00, 0.00000000e+00],\n",
       "           [0.00000000e+00, 0.00000000e+00, 0.00000000e+00,\n",
       "            0.00000000e+00, 0.00000000e+00, 0.00000000e+00],\n",
       "           [0.00000000e+00, 0.00000000e+00, 0.00000000e+00,\n",
       "            0.00000000e+00, 0.00000000e+00, 0.00000000e+00],\n",
       "...\n",
       "           [1.00000000e+00, 1.00000000e+00, 1.00000000e+00,\n",
       "            1.00000000e+00, 1.00000000e+00, 1.00000000e+00],\n",
       "           [1.00000000e+00, 1.00000000e+00, 1.00000000e+00,\n",
       "            1.00000000e+00, 1.00000000e+00, 1.00000000e+00],\n",
       "           [1.00000000e+00, 1.00000000e+00, 1.00000000e+00,\n",
       "            1.00000000e+00, 1.00000000e+00, 1.00000000e+00]],\n",
       "\n",
       "          [[1.00000000e+00, 1.00000000e+00, 1.00000000e+00,\n",
       "            1.00000000e+00, 1.00000000e+00, 1.00000000e+00],\n",
       "           [1.00000000e+00, 1.00000000e+00, 1.00000000e+00,\n",
       "            1.00000000e+00, 1.00000000e+00, 1.00000000e+00],\n",
       "           [1.00000000e+00, 1.00000000e+00, 1.00000000e+00,\n",
       "            1.00000000e+00, 1.00000000e+00, 1.00000000e+00],\n",
       "           ...,\n",
       "           [1.00000000e+00, 1.00000000e+00, 1.00000000e+00,\n",
       "            1.00000000e+00, 1.00000000e+00, 1.00000000e+00],\n",
       "           [1.00000000e+00, 1.00000000e+00, 1.00000000e+00,\n",
       "            1.00000000e+00, 1.00000000e+00, 1.00000000e+00],\n",
       "           [1.00000000e+00, 1.00000000e+00, 1.00000000e+00,\n",
       "            1.00000000e+00, 1.00000000e+00, 1.00000000e+00]]]]]])</pre></div></li></ul></div></li><li class='xr-section-item'><input id='section-f0973640-4835-4434-9d22-e0b7ed16d170' class='xr-section-summary-in' type='checkbox'  checked><label for='section-f0973640-4835-4434-9d22-e0b7ed16d170' class='xr-section-summary' >Attributes: <span>(4)</span></label><div class='xr-section-inline-details'></div><div class='xr-section-details'><dl class='xr-attrs'><dt><span>description :</span></dt><dd>OGGM model output</dd><dt><span>oggm_version :</span></dt><dd>1.3.2.dev86+g5d61f9d</dd><dt><span>calendar :</span></dt><dd>365-day no leap</dd><dt><span>creation_date :</span></dt><dd>2020-09-16 15:13:48</dd></dl></div></li></ul></div></div>"
      ],
      "text/plain": [
       "<xarray.Dataset>\n",
       "Dimensions:         (mb_model: 2, model: 2, normalized: 2, rgi_id: 6, temp_bias: 3, time: 1001)\n",
       "Coordinates:\n",
       "    calendar_month  (time) int64 10 10 10 10 10 10 10 ... 10 10 10 10 10 10 10\n",
       "    calendar_year   (time) int64 -1 0 1 2 3 4 5 ... 993 994 995 996 997 998 999\n",
       "    hydro_year      (time) int64 0 1 2 3 4 5 6 ... 994 995 996 997 998 999 1000\n",
       "    hydro_month     (time) int64 1 1 1 1 1 1 1 1 1 1 1 ... 1 1 1 1 1 1 1 1 1 1 1\n",
       "  * model           (model) object 'vas' 'fl'\n",
       "  * normalized      (normalized) bool False True\n",
       "  * temp_bias       (temp_bias) float64 0.0 0.5 -0.5\n",
       "  * time            (time) float64 0.0 1.0 2.0 3.0 ... 997.0 998.0 999.0 1e+03\n",
       "  * rgi_id          (rgi_id) object 'RGI60-11.00897' ... 'RGI60-11.01238'\n",
       "  * mb_model        (mb_model) object 'random' 'constant'\n",
       "Data variables:\n",
       "    volume          (mb_model, model, normalized, temp_bias, time, rgi_id) float64 ...\n",
       "    area            (mb_model, model, normalized, temp_bias, time, rgi_id) float64 ...\n",
       "    length          (mb_model, model, normalized, temp_bias, time, rgi_id) float64 ...\n",
       "    ela             (mb_model, model, normalized, temp_bias, time, rgi_id) float64 ...\n",
       "Attributes:\n",
       "    description:    OGGM model output\n",
       "    oggm_version:   1.3.2.dev86+g5d61f9d\n",
       "    calendar:       365-day no leap\n",
       "    creation_date:  2020-09-16 15:13:48"
      ]
     },
     "execution_count": 124,
     "metadata": {},
     "output_type": "execute_result"
    }
   ],
   "source": [
    "# load scaling params sensitivity results\n",
    "data_dir = '/Users/oberrauch/work/master/data/'\n",
    "f_name = 'cluster_output/single_glaciers/eq_runs.nc'\n",
    "ds = xr.load_dataset(os.path.join(data_dir, f_name))\n",
    "ds['normalized'] = ds.normalized.astype(bool)\n",
    "\n",
    "# load showcase glaciers and limit dataset\n",
    "showcase_glaciers = pd.read_csv(os.path.join(data_dir, 'showcase_glaciers.csv'), index_col=0)\n",
    "ds = ds.sel(rgi_id = showcase_glaciers.index)\n",
    "\n",
    "ds"
   ]
  },
  {
   "cell_type": "code",
   "execution_count": 86,
   "metadata": {
    "scrolled": false
   },
   "outputs": [
    {
     "data": {
      "text/plain": [
       "<xarray.plot.facetgrid.FacetGrid at 0x14a3707f0>"
      ]
     },
     "execution_count": 86,
     "metadata": {},
     "output_type": "execute_result"
    },
    {
     "data": {
      "image/png": "[encoded data removed]",
      "text/plain": [
       "<Figure size 563.375x1296 with 12 Axes>"
      ]
     },
     "metadata": {
      "needs_background": "light"
     },
     "output_type": "display_data"
    }
   ],
   "source": [
    "ds.sel(mb_model='constant', normalized=True).volume.plot.line(x='time', row='rgi_id', col='model')"
   ]
  },
  {
   "cell_type": "markdown",
   "metadata": {},
   "source": [
    "The \"equilibrium run\" without any temperature bias is not as \"flat\" as expected for any glacier modeled by the flowline model. I wonder if I messed up some settings, hence I'll compare the output under random climate with the 10'000 year time series for the showcase glaciers."
   ]
  },
  {
   "cell_type": "code",
   "execution_count": 87,
   "metadata": {},
   "outputs": [],
   "source": [
    "# load scaling params sensitivity results\n",
    "data_dir = '/Users/oberrauch/work/master/data/'\n",
    "f_name = 'cluster_output/showcase_glaciers_random_climate/eq_runs.nc'\n",
    "ds_rand = xr.load_dataset(os.path.join(data_dir, f_name))\n",
    "ds_rand['normalized'] = ds_rand.normalized.astype(bool)\n",
    "\n",
    "# load showcase glaciers and limit dataset\n",
    "showcase_glaciers = pd.read_csv(os.path.join(data_dir, 'showcase_glaciers.csv'), index_col=0)\n",
    "ds_rand = ds_rand.sel(rgi_id = showcase_glaciers.index)\n",
    "\n",
    "# limit to first 1000 years\n",
    "ds_rand = ds_rand.sel(time=slice(0,1000))"
   ]
  },
  {
   "cell_type": "code",
   "execution_count": 101,
   "metadata": {},
   "outputs": [
    {
     "name": "stdout",
     "output_type": "stream",
     "text": [
      "volume equal: True\n",
      "area equal: True\n",
      "length equal: True\n",
      "ela equal: True\n"
     ]
    }
   ],
   "source": [
    "# check differences for all data variables\n",
    "ds_diff = (ds_rand.sel(mb_model='random', normalized=True) - ds.sel(mb_model='random', normalized=True))\n",
    "ds_diff = ds_diff.fillna(0)\n",
    "for var in ds_diff.data_vars:\n",
    "    print('{} equal: {}'.format(var, (ds_diff[var] == 0).all().values))"
   ]
  },
  {
   "cell_type": "code",
   "execution_count": 98,
   "metadata": {},
   "outputs": [
    {
     "name": "stdout",
     "output_type": "stream",
     "text": [
      "Dataset equal: True\n"
     ]
    }
   ],
   "source": [
    "# Test entire dataset\n",
    "print('Dataset equal:', ds.sel(mb_model=['random']).equals(ds_rand))"
   ]
  },
  {
   "cell_type": "markdown",
   "metadata": {},
   "source": [
    "Seems like I did't screw up, the datasets are identical... then let's look at the Pasterze (RGI60-11.00106) for which the equilibrium run seem at least in equilibrium. This is done via the `tmp_test()` function of the `eq_runs.py` module."
   ]
  },
  {
   "cell_type": "code",
   "execution_count": 103,
   "metadata": {},
   "outputs": [
    {
     "data": {
      "text/plain": [
       "[<matplotlib.lines.Line2D at 0x153a636d8>,\n",
       " <matplotlib.lines.Line2D at 0x153a63828>]"
      ]
     },
     "execution_count": 103,
     "metadata": {},
     "output_type": "execute_result"
    },
    {
     "data": {
      "image/png": "[encoded data removed]",
      "text/plain": [
       "<Figure size 432x288 with 1 Axes>"
      ]
     },
     "metadata": {
      "needs_background": "light"
     },
     "output_type": "display_data"
    }
   ],
   "source": [
    "# load scaling params sensitivity results\n",
    "data_dir = '/Users/oberrauch/work/master/data/'\n",
    "f_name = 'tmp/eq_runs.nc'\n",
    "ds_test = xr.load_dataset(os.path.join(data_dir, f_name))\n",
    "ds_test['normalized'] = ds_test.normalized.astype(bool)\n",
    "ds_test.squeeze().sel(normalized=True).volume.plot.line(x='time')"
   ]
  },
  {
   "cell_type": "markdown",
   "metadata": {},
   "source": [
    "Most obviously, the flowline model glacier grows by about 9% under equilibrium conditions... and it takes more than 1'000 years. I used the values at year `t=1000` as equilibrium value, so I'll have to change that. To make sure that the others are ok, I look at the oscillation over the last 100 years of all glaciers."
   ]
  },
  {
   "cell_type": "markdown",
   "metadata": {},
   "source": [
    "**Check if in equilibrium...**"
   ]
  },
  {
   "cell_type": "code",
   "execution_count": 145,
   "metadata": {},
   "outputs": [
    {
     "data": {
      "text/plain": [
       "nan"
      ]
     },
     "execution_count": 145,
     "metadata": {},
     "output_type": "execute_result"
    }
   ],
   "source": [
    "std"
   ]
  },
  {
   "cell_type": "code",
   "execution_count": 150,
   "metadata": {},
   "outputs": [
    {
     "name": "stdout",
     "output_type": "stream",
     "text": [
      "RGI60-11.00897 under -0.5°C: std = 0.003 %\n",
      "RGI60-11.00106 under +0.0°C: std = 0.12 %\n",
      "RGI60-11.01450 under -0.5°C: std = 0.0091 %\n",
      "RGI60-11.01238 under +0.0°C: std = 0.0026 %\n"
     ]
    }
   ],
   "source": [
    "# find combination of glacier and climate scenario\n",
    "# where the final equilibrium volume (between 900 and 1000 years)\n",
    "# has a standard deviation above a given threshold\n",
    "threshold = 1e-5\n",
    "std = ds.sel(model='fl', mb_model='constant', normalized=True).volume.isel(time=slice(900,None)).std(dim='time')\n",
    "non_eq = std.where(std > threshold, drop=True)\n",
    "\n",
    "# print\n",
    "for rgi_id in non_eq.rgi_id:\n",
    "    for temp_bias in non_eq.temp_bias:\n",
    "        std = float(non_eq.sel(rgi_id=rgi_id, temp_bias=temp_bias).values)\n",
    "        if np.isfinite(std):\n",
    "            print(f'{rgi_id.values} under {temp_bias.values:+.1f}°C: std = {std*100:.2} %')"
   ]
  },
  {
   "cell_type": "markdown",
   "metadata": {},
   "source": [
    "**Time scales**"
   ]
  },
  {
   "cell_type": "code",
   "execution_count": 11,
   "metadata": {},
   "outputs": [
    {
     "data": {
      "text/html": [
       "<div>\n",
       "<style scoped>\n",
       "    .dataframe tbody tr th:only-of-type {\n",
       "        vertical-align: middle;\n",
       "    }\n",
       "\n",
       "    .dataframe tbody tr th {\n",
       "        vertical-align: top;\n",
       "    }\n",
       "\n",
       "    .dataframe thead th {\n",
       "        text-align: right;\n",
       "    }\n",
       "</style>\n",
       "<table border=\"1\" class=\"dataframe\">\n",
       "  <thead>\n",
       "    <tr style=\"text-align: right;\">\n",
       "      <th>scaling_params</th>\n",
       "      <th>(4.551, 0.191, 2.2, 1.375)</th>\n",
       "      <th>(1.555, 0.252, 2.2, 1.375)</th>\n",
       "    </tr>\n",
       "  </thead>\n",
       "  <tbody>\n",
       "    <tr>\n",
       "      <th>volume</th>\n",
       "      <td>36</td>\n",
       "      <td>48</td>\n",
       "    </tr>\n",
       "    <tr>\n",
       "      <th>area</th>\n",
       "      <td>52</td>\n",
       "      <td>54</td>\n",
       "    </tr>\n",
       "    <tr>\n",
       "      <th>length</th>\n",
       "      <td>80</td>\n",
       "      <td>108</td>\n",
       "    </tr>\n",
       "  </tbody>\n",
       "</table>\n",
       "</div>"
      ],
      "text/plain": [
       "scaling_params  (4.551, 0.191, 2.2, 1.375)  (1.555, 0.252, 2.2, 1.375)\n",
       "volume                                  36                          48\n",
       "area                                    52                          54\n",
       "length                                  80                         108"
      ]
     },
     "execution_count": 11,
     "metadata": {},
     "output_type": "execute_result"
    }
   ],
   "source": [
    "variables = ['volume', 'area', 'length',]\n",
    "temp_biases = [-0.5, +0.5]\n",
    "data = list()\n",
    "for var in variables:\n",
    "    data_ = list()\n",
    "    for p in ds.scaling_params:\n",
    "        # select last volume entry from dataset by model and temperature bias\n",
    "        ds_sel = ds.sel(scaling_params=p, normalized=False).squeeze()\n",
    "        geom = ds_sel[var]\n",
    "        geom_eq = geom.isel(time=slice(800,1000)).mean()\n",
    "        geom_eq_dif = np.abs(geom_eq - geom.isel(time=0))\n",
    "        geom_dif = np.abs(geom_eq - geom)\n",
    "        data_.append(int(geom.where(geom_dif < geom_eq_dif*np.exp(-1), drop=True).isel(time=0)['time'].values))\n",
    "    data.append(data_)\n",
    "    \n",
    "tau = pd.DataFrame(data, columns=pd.Index(ds.scaling_params.values, name='scaling_params'),\n",
    "                   index=variables)\n",
    "tau"
   ]
  },
  {
   "cell_type": "markdown",
   "metadata": {},
   "source": [
    "**Equilibrium values**"
   ]
  },
  {
   "cell_type": "code",
   "execution_count": 7,
   "metadata": {},
   "outputs": [
    {
     "data": {
      "text/html": [
       "<div>\n",
       "<style scoped>\n",
       "    .dataframe tbody tr th:only-of-type {\n",
       "        vertical-align: middle;\n",
       "    }\n",
       "\n",
       "    .dataframe tbody tr th {\n",
       "        vertical-align: top;\n",
       "    }\n",
       "\n",
       "    .dataframe thead tr th {\n",
       "        text-align: left;\n",
       "    }\n",
       "\n",
       "    .dataframe thead tr:last-of-type th {\n",
       "        text-align: right;\n",
       "    }\n",
       "</style>\n",
       "<table border=\"1\" class=\"dataframe\">\n",
       "  <thead>\n",
       "    <tr>\n",
       "      <th></th>\n",
       "      <th colspan=\"2\" halign=\"left\">volume</th>\n",
       "    </tr>\n",
       "    <tr>\n",
       "      <th></th>\n",
       "      <th>abs</th>\n",
       "      <th>norm</th>\n",
       "    </tr>\n",
       "    <tr>\n",
       "      <th>scaling_params</th>\n",
       "      <th></th>\n",
       "      <th></th>\n",
       "    </tr>\n",
       "  </thead>\n",
       "  <tbody>\n",
       "    <tr>\n",
       "      <th>(1.555, 0.252, 2.2, 1.375)</th>\n",
       "      <td>0.662292</td>\n",
       "      <td>0.8418190437884365</td>\n",
       "    </tr>\n",
       "    <tr>\n",
       "      <th>(4.551, 0.191, 2.2, 1.375)</th>\n",
       "      <td>0.501925</td>\n",
       "      <td>0.8417357486017781</td>\n",
       "    </tr>\n",
       "  </tbody>\n",
       "</table>\n",
       "</div>"
      ],
      "text/plain": [
       "                              volume                    \n",
       "                                 abs                norm\n",
       "scaling_params                                          \n",
       "(1.555, 0.252, 2.2, 1.375)  0.662292  0.8418190437884365\n",
       "(4.551, 0.191, 2.2, 1.375)  0.501925  0.8417357486017781"
      ]
     },
     "execution_count": 7,
     "metadata": {},
     "output_type": "execute_result"
    }
   ],
   "source": [
    "# get table with final values of volume for different time scales factors\n",
    "var = 'volume'\n",
    "mb_m = 'constant'\n",
    "data = list()\n",
    "\n",
    "for p in ds.scaling_params:\n",
    "        # select last volume entry from dataset by model and temperature bias\n",
    "        ds_abs = ds.sel(scaling_params=p, normalized=False).squeeze().isel(time=1000)[var]\n",
    "        ds_norm = ds.sel(scaling_params=p, normalized=True).squeeze().isel(time=1000)[var]\n",
    "        data.append([ds_abs.values/1e9, ds_norm.values])\n",
    "        \n",
    "table = pd.DataFrame(data, index=pd.Index(ds.scaling_params.values, name='scaling_params'),\n",
    "                     columns=pd.MultiIndex.from_tuples(list(zip(np.repeat(['volume'], 2),\n",
    "                                                                np.tile(['abs', 'norm'], 1)))),)\n",
    "table.sort_index()"
   ]
  },
  {
   "cell_type": "code",
   "execution_count": 8,
   "metadata": {},
   "outputs": [
    {
     "data": {
      "text/html": [
       "<div>\n",
       "<style scoped>\n",
       "    .dataframe tbody tr th:only-of-type {\n",
       "        vertical-align: middle;\n",
       "    }\n",
       "\n",
       "    .dataframe tbody tr th {\n",
       "        vertical-align: top;\n",
       "    }\n",
       "\n",
       "    .dataframe thead tr th {\n",
       "        text-align: left;\n",
       "    }\n",
       "\n",
       "    .dataframe thead tr:last-of-type th {\n",
       "        text-align: right;\n",
       "    }\n",
       "</style>\n",
       "<table border=\"1\" class=\"dataframe\">\n",
       "  <thead>\n",
       "    <tr>\n",
       "      <th></th>\n",
       "      <th colspan=\"3\" halign=\"left\">volume</th>\n",
       "    </tr>\n",
       "    <tr>\n",
       "      <th></th>\n",
       "      <th>init</th>\n",
       "      <th>eq</th>\n",
       "      <th>diff</th>\n",
       "    </tr>\n",
       "    <tr>\n",
       "      <th>scaling_params</th>\n",
       "      <th></th>\n",
       "      <th></th>\n",
       "      <th></th>\n",
       "    </tr>\n",
       "  </thead>\n",
       "  <tbody>\n",
       "    <tr>\n",
       "      <th>(1.555, 0.252, 2.2, 1.375)</th>\n",
       "      <td>8.036</td>\n",
       "      <td>7.090138</td>\n",
       "      <td>-0.945862</td>\n",
       "    </tr>\n",
       "    <tr>\n",
       "      <th>(4.551, 0.191, 2.2, 1.375)</th>\n",
       "      <td>8.036</td>\n",
       "      <td>7.089598</td>\n",
       "      <td>-0.946402</td>\n",
       "    </tr>\n",
       "  </tbody>\n",
       "</table>\n",
       "</div>"
      ],
      "text/plain": [
       "                           volume                    \n",
       "                             init        eq      diff\n",
       "scaling_params                                       \n",
       "(1.555, 0.252, 2.2, 1.375)  8.036  7.090138 -0.945862\n",
       "(4.551, 0.191, 2.2, 1.375)  8.036  7.089598 -0.946402"
      ]
     },
     "execution_count": 8,
     "metadata": {},
     "output_type": "execute_result"
    }
   ],
   "source": [
    "# get table with initial and final values as well as the difference between the two\n",
    "var = 'area'\n",
    "dec_power = 1e6\n",
    "\n",
    "data = list()\n",
    "\n",
    "for p in ds.scaling_params:\n",
    "        # select last volume entry from dataset by model and temperature bias\n",
    "        ds_eq = ds.sel(scaling_params=p, normalized=False).squeeze().isel(time=1000)[var]\n",
    "        ds_init = ds.sel(scaling_params=p, normalized=False).squeeze().isel(time=0)[var]\n",
    "        data.append([ds_init.values/dec_power, ds_eq.values/dec_power, ds_eq.values/dec_power - ds_init.values/dec_power])\n",
    "        \n",
    "table = pd.DataFrame(data, index=pd.Index(ds.scaling_params.values, name='scaling_params'),\n",
    "                     columns=pd.MultiIndex.from_tuples(list(zip(np.repeat(['volume'], 3),\n",
    "                                                                np.tile(['init', 'eq', 'diff'], 1)))),)\n",
    "table.sort_index()"
   ]
  },
  {
   "cell_type": "markdown",
   "metadata": {},
   "source": [
    "**Time until equlibrium**"
   ]
  },
  {
   "cell_type": "code",
   "execution_count": 9,
   "metadata": {},
   "outputs": [
    {
     "data": {
      "text/html": [
       "<div>\n",
       "<style scoped>\n",
       "    .dataframe tbody tr th:only-of-type {\n",
       "        vertical-align: middle;\n",
       "    }\n",
       "\n",
       "    .dataframe tbody tr th {\n",
       "        vertical-align: top;\n",
       "    }\n",
       "\n",
       "    .dataframe thead th {\n",
       "        text-align: right;\n",
       "    }\n",
       "</style>\n",
       "<table border=\"1\" class=\"dataframe\">\n",
       "  <thead>\n",
       "    <tr style=\"text-align: right;\">\n",
       "      <th></th>\n",
       "      <th>time_until_eq</th>\n",
       "    </tr>\n",
       "    <tr>\n",
       "      <th>scaling_params</th>\n",
       "      <th></th>\n",
       "    </tr>\n",
       "  </thead>\n",
       "  <tbody>\n",
       "    <tr>\n",
       "      <th>(1.555, 0.252, 2.2, 1.375)</th>\n",
       "      <td>573</td>\n",
       "    </tr>\n",
       "    <tr>\n",
       "      <th>(4.551, 0.191, 2.2, 1.375)</th>\n",
       "      <td>435</td>\n",
       "    </tr>\n",
       "  </tbody>\n",
       "</table>\n",
       "</div>"
      ],
      "text/plain": [
       "                            time_until_eq\n",
       "scaling_params                           \n",
       "(1.555, 0.252, 2.2, 1.375)            573\n",
       "(4.551, 0.191, 2.2, 1.375)            435"
      ]
     },
     "execution_count": 9,
     "metadata": {},
     "output_type": "execute_result"
    }
   ],
   "source": [
    "# get table with final values of volume for different time scales factors\n",
    "var = 'volume'\n",
    "data = list()\n",
    "\n",
    "for p in ds.scaling_params:\n",
    "        # select last volume entry from dataset by model and temperature bias\n",
    "        geom = ds.sel(scaling_params=p, normalized=False).squeeze()[var]\n",
    "        geom_eq_value = ds.sel(scaling_params=p, normalized=False).squeeze().isel(time=-1)[var].mean().values\n",
    "        geom_limit = geom_eq_value * 0.001\n",
    "        geom_eq = geom.where(abs(geom - geom_eq_value) < geom_limit)\n",
    "        yr = geom_eq.where(xr.ufuncs.isnan(geom_eq), drop=True).isel(time=-1).time.values+1\n",
    "        data.append(int(yr))\n",
    "\n",
    "table = pd.DataFrame(data, index=pd.Index(ds.scaling_params.values, name='scaling_params'), columns=['time_until_eq'])\n",
    "table.sort_index()    "
   ]
  },
  {
   "cell_type": "markdown",
   "metadata": {},
   "source": [
    "**Maximum values**"
   ]
  },
  {
   "cell_type": "code",
   "execution_count": 10,
   "metadata": {},
   "outputs": [
    {
     "data": {
      "text/html": [
       "<div>\n",
       "<style scoped>\n",
       "    .dataframe tbody tr th:only-of-type {\n",
       "        vertical-align: middle;\n",
       "    }\n",
       "\n",
       "    .dataframe tbody tr th {\n",
       "        vertical-align: top;\n",
       "    }\n",
       "\n",
       "    .dataframe thead th {\n",
       "        text-align: right;\n",
       "    }\n",
       "</style>\n",
       "<table border=\"1\" class=\"dataframe\">\n",
       "  <thead>\n",
       "    <tr style=\"text-align: right;\">\n",
       "      <th></th>\n",
       "      <th>abs</th>\n",
       "      <th>norm</th>\n",
       "      <th>year</th>\n",
       "    </tr>\n",
       "    <tr>\n",
       "      <th>scaling_params</th>\n",
       "      <th></th>\n",
       "      <th></th>\n",
       "      <th></th>\n",
       "    </tr>\n",
       "  </thead>\n",
       "  <tbody>\n",
       "    <tr>\n",
       "      <th>(1.555, 0.252, 2.2, 1.375)</th>\n",
       "      <td>6.863942</td>\n",
       "      <td>0.145851</td>\n",
       "      <td>178</td>\n",
       "    </tr>\n",
       "    <tr>\n",
       "      <th>(4.551, 0.191, 2.2, 1.375)</th>\n",
       "      <td>6.876083</td>\n",
       "      <td>0.144340</td>\n",
       "      <td>147</td>\n",
       "    </tr>\n",
       "  </tbody>\n",
       "</table>\n",
       "</div>"
      ],
      "text/plain": [
       "                                 abs      norm  year\n",
       "scaling_params                                      \n",
       "(1.555, 0.252, 2.2, 1.375)  6.863942  0.145851   178\n",
       "(4.551, 0.191, 2.2, 1.375)  6.876083  0.144340   147"
      ]
     },
     "execution_count": 10,
     "metadata": {},
     "output_type": "execute_result"
    }
   ],
   "source": [
    "# get table with final values of volume for different time scales factors\n",
    "var = 'area'\n",
    "mb_m = 'constant'\n",
    "data = list()\n",
    "\n",
    "for p in ds.scaling_params:\n",
    "        # select last volume entry from dataset by model and temperature bias\n",
    "        ds_abs = ds.sel(scaling_params=p, normalized=False).squeeze()[var]\n",
    "        ds_norm = ds.sel(scaling_params=p, normalized=True).squeeze()[var]\n",
    "        abs_min = ds_abs.where(ds_abs == ds_abs.min(), drop=True)\n",
    "        norm_min = ds_norm.where(ds_abs == ds_abs.min(), drop=True)\n",
    "        data.append([float(abs_min.values/1e6), 1-float(norm_min.values), int(norm_min.time.values)])\n",
    "        \n",
    "table = pd.DataFrame(data, index=pd.Index(ds.scaling_params.values, name='scaling_params'),\n",
    "                     columns=['abs', 'norm', 'year'])\n",
    "table.sort_index()"
   ]
  },
  {
   "cell_type": "markdown",
   "metadata": {},
   "source": [
    "**Response times $\\tau$**"
   ]
  },
  {
   "cell_type": "code",
   "execution_count": 11,
   "metadata": {},
   "outputs": [
    {
     "data": {
      "text/html": [
       "<div>\n",
       "<style scoped>\n",
       "    .dataframe tbody tr th:only-of-type {\n",
       "        vertical-align: middle;\n",
       "    }\n",
       "\n",
       "    .dataframe tbody tr th {\n",
       "        vertical-align: top;\n",
       "    }\n",
       "\n",
       "    .dataframe thead th {\n",
       "        text-align: right;\n",
       "    }\n",
       "</style>\n",
       "<table border=\"1\" class=\"dataframe\">\n",
       "  <thead>\n",
       "    <tr style=\"text-align: right;\">\n",
       "      <th>scaling_params</th>\n",
       "      <th>(4.551, 0.191, 2.2, 1.375)</th>\n",
       "      <th>(1.555, 0.252, 2.2, 1.375)</th>\n",
       "    </tr>\n",
       "  </thead>\n",
       "  <tbody>\n",
       "    <tr>\n",
       "      <th>volume</th>\n",
       "      <td>36</td>\n",
       "      <td>48</td>\n",
       "    </tr>\n",
       "    <tr>\n",
       "      <th>area</th>\n",
       "      <td>52</td>\n",
       "      <td>54</td>\n",
       "    </tr>\n",
       "    <tr>\n",
       "      <th>length</th>\n",
       "      <td>80</td>\n",
       "      <td>108</td>\n",
       "    </tr>\n",
       "  </tbody>\n",
       "</table>\n",
       "</div>"
      ],
      "text/plain": [
       "scaling_params  (4.551, 0.191, 2.2, 1.375)  (1.555, 0.252, 2.2, 1.375)\n",
       "volume                                  36                          48\n",
       "area                                    52                          54\n",
       "length                                  80                         108"
      ]
     },
     "execution_count": 11,
     "metadata": {},
     "output_type": "execute_result"
    }
   ],
   "source": [
    "variables = ['volume', 'area', 'length',]\n",
    "temp_biases = [-0.5, +0.5]\n",
    "data = list()\n",
    "for var in variables:\n",
    "    data_ = list()\n",
    "    for p in ds.scaling_params:\n",
    "        # select last volume entry from dataset by model and temperature bias\n",
    "        ds_sel = ds.sel(scaling_params=p, normalized=False).squeeze()\n",
    "        geom = ds_sel[var]\n",
    "        geom_eq = geom.isel(time=slice(800,1000)).mean()\n",
    "        geom_eq_dif = np.abs(geom_eq - geom.isel(time=0))\n",
    "        geom_dif = np.abs(geom_eq - geom)\n",
    "        data_.append(int(geom.where(geom_dif < geom_eq_dif*np.exp(-1), drop=True).isel(time=0)['time'].values))\n",
    "    data.append(data_)\n",
    "    \n",
    "tau = pd.DataFrame(data, columns=pd.Index(ds.scaling_params.values, name='scaling_params'),\n",
    "                   index=variables)\n",
    "tau"
   ]
  },
  {
   "cell_type": "markdown",
   "metadata": {},
   "source": [
    "### Sensitivity to time scale"
   ]
  },
  {
   "cell_type": "code",
   "execution_count": 36,
   "metadata": {},
   "outputs": [],
   "source": [
    "# load scaling params sensitivity results\n",
    "dir_path = '/Users/oberrauch/work/master/data/hef_sensitivity/'\n",
    "f_name = 'time_scale_sensitivity.nc'\n",
    "ds = pickle.load(open(os.path.join(dir_path, f_name), mode='rb'))"
   ]
  },
  {
   "cell_type": "code",
   "execution_count": 43,
   "metadata": {},
   "outputs": [
    {
     "data": {
      "image/png": "[encoded data removed]",
      "text/plain": [
       "<Figure size 360x288 with 1 Axes>"
      ]
     },
     "metadata": {
      "needs_background": "light"
     },
     "output_type": "display_data"
    }
   ],
   "source": [
    "# define variable to be plotted\n",
    "variables = ['length', 'area', 'volume']\n",
    "variables = ['volume']\n",
    "n = True\n",
    "\n",
    "for var in variables:\n",
    "    # call plotting function\n",
    "    ds_plot = ds.sel(normalized=n).isel(scaling_params=0)\n",
    "    ds_plot = ds_plot.sortby('time_scale_factor')\n",
    "    labels = [f'{f:.1f}' for f in ds_plot.time_scale_factor.values]\n",
    "    plt_time.plot_time_series(ds_plot, var=var, labels=labels, color_cycle=vas_cycle[6:],\n",
    "                              legend_title='$\\\\bf{Time\\ scale\\ factor}$', legend_loc=1,\n",
    "                              path=os.path.join(plot_dir, 'time_scales_hef.pdf'))"
   ]
  },
  {
   "cell_type": "markdown",
   "metadata": {},
   "source": [
    "**Equilibrium values**"
   ]
  },
  {
   "cell_type": "code",
   "execution_count": 14,
   "metadata": {},
   "outputs": [
    {
     "data": {
      "text/html": [
       "<div>\n",
       "<style scoped>\n",
       "    .dataframe tbody tr th:only-of-type {\n",
       "        vertical-align: middle;\n",
       "    }\n",
       "\n",
       "    .dataframe tbody tr th {\n",
       "        vertical-align: top;\n",
       "    }\n",
       "\n",
       "    .dataframe thead tr th {\n",
       "        text-align: left;\n",
       "    }\n",
       "\n",
       "    .dataframe thead tr:last-of-type th {\n",
       "        text-align: right;\n",
       "    }\n",
       "</style>\n",
       "<table border=\"1\" class=\"dataframe\">\n",
       "  <thead>\n",
       "    <tr>\n",
       "      <th></th>\n",
       "      <th colspan=\"2\" halign=\"left\">volume</th>\n",
       "    </tr>\n",
       "    <tr>\n",
       "      <th></th>\n",
       "      <th>abs</th>\n",
       "      <th>norm</th>\n",
       "    </tr>\n",
       "    <tr>\n",
       "      <th>time_scale_factor</th>\n",
       "      <th></th>\n",
       "      <th></th>\n",
       "    </tr>\n",
       "  </thead>\n",
       "  <tbody>\n",
       "    <tr>\n",
       "      <th>0.5</th>\n",
       "      <td>0.501928</td>\n",
       "      <td>0.841740674741567</td>\n",
       "    </tr>\n",
       "    <tr>\n",
       "      <th>1.0</th>\n",
       "      <td>0.501925</td>\n",
       "      <td>0.8417357486017781</td>\n",
       "    </tr>\n",
       "    <tr>\n",
       "      <th>2.0</th>\n",
       "      <td>0.502586</td>\n",
       "      <td>0.8428437018453954</td>\n",
       "    </tr>\n",
       "  </tbody>\n",
       "</table>\n",
       "</div>"
      ],
      "text/plain": [
       "                     volume                    \n",
       "                        abs                norm\n",
       "time_scale_factor                              \n",
       "0.5                0.501928   0.841740674741567\n",
       "1.0                0.501925  0.8417357486017781\n",
       "2.0                0.502586  0.8428437018453954"
      ]
     },
     "execution_count": 14,
     "metadata": {},
     "output_type": "execute_result"
    }
   ],
   "source": [
    "# get table with final values of volume for different time scales factors\n",
    "var = 'volume'\n",
    "mb_m = 'constant'\n",
    "data = list()\n",
    "\n",
    "for f in ds.time_scale_factor:\n",
    "        # select last volume entry from dataset by model and temperature bias\n",
    "        ds_abs = ds.sel(time_scale_factor=f, normalized=False).squeeze().isel(time=1000)[var]\n",
    "        ds_norm = ds.sel(time_scale_factor=f, normalized=True).squeeze().isel(time=1000)[var]\n",
    "        data.append([ds_abs.values/1e9, ds_norm.values])\n",
    "        \n",
    "table = pd.DataFrame(data, index=pd.Index(ds.time_scale_factor.values, name='time_scale_factor'),\n",
    "                     columns=pd.MultiIndex.from_tuples(list(zip(np.repeat(['volume'], 2),\n",
    "                                                                np.tile(['abs', 'norm'], 1)))),)\n",
    "table.sort_index()"
   ]
  },
  {
   "cell_type": "code",
   "execution_count": 15,
   "metadata": {},
   "outputs": [
    {
     "data": {
      "text/html": [
       "<div>\n",
       "<style scoped>\n",
       "    .dataframe tbody tr th:only-of-type {\n",
       "        vertical-align: middle;\n",
       "    }\n",
       "\n",
       "    .dataframe tbody tr th {\n",
       "        vertical-align: top;\n",
       "    }\n",
       "\n",
       "    .dataframe thead th {\n",
       "        text-align: right;\n",
       "    }\n",
       "</style>\n",
       "<table border=\"1\" class=\"dataframe\">\n",
       "  <thead>\n",
       "    <tr style=\"text-align: right;\">\n",
       "      <th></th>\n",
       "      <th>time_until_eq</th>\n",
       "    </tr>\n",
       "    <tr>\n",
       "      <th>time_scale_factor</th>\n",
       "      <th></th>\n",
       "    </tr>\n",
       "  </thead>\n",
       "  <tbody>\n",
       "    <tr>\n",
       "      <th>0.5</th>\n",
       "      <td>234</td>\n",
       "    </tr>\n",
       "    <tr>\n",
       "      <th>1.0</th>\n",
       "      <td>434</td>\n",
       "    </tr>\n",
       "    <tr>\n",
       "      <th>2.0</th>\n",
       "      <td>832</td>\n",
       "    </tr>\n",
       "  </tbody>\n",
       "</table>\n",
       "</div>"
      ],
      "text/plain": [
       "                   time_until_eq\n",
       "time_scale_factor               \n",
       "0.5                          234\n",
       "1.0                          434\n",
       "2.0                          832"
      ]
     },
     "execution_count": 15,
     "metadata": {},
     "output_type": "execute_result"
    }
   ],
   "source": [
    "# get table with final values of volume for different time scales factors\n",
    "var = 'volume'\n",
    "data = list()\n",
    "\n",
    "for f in ds.time_scale_factor:\n",
    "        # select last volume entry from dataset by model and temperature bias\n",
    "        geom = ds.sel(time_scale_factor=f, normalized=False).squeeze()[var]\n",
    "        geom_eq_value = ds.sel(time_scale_factor=f, normalized=False).squeeze().isel(time=slice(800,1000))[var].mean().values\n",
    "        geom_limit = geom_eq_value * 0.001\n",
    "        geom_eq = geom.where(abs(geom - geom_eq_value) < geom_limit)\n",
    "        yr = geom_eq.where(xr.ufuncs.isnan(geom_eq), drop=True).isel(time=-1).time.values+1\n",
    "        data.append(int(yr))\n",
    "\n",
    "table = pd.DataFrame(data, index=pd.Index(ds.time_scale_factor.values, name='time_scale_factor'), columns=['time_until_eq'])\n",
    "table.sort_index()    "
   ]
  },
  {
   "cell_type": "markdown",
   "metadata": {},
   "source": [
    "**Maximum values**"
   ]
  },
  {
   "cell_type": "code",
   "execution_count": 16,
   "metadata": {},
   "outputs": [
    {
     "data": {
      "text/html": [
       "<div>\n",
       "<style scoped>\n",
       "    .dataframe tbody tr th:only-of-type {\n",
       "        vertical-align: middle;\n",
       "    }\n",
       "\n",
       "    .dataframe tbody tr th {\n",
       "        vertical-align: top;\n",
       "    }\n",
       "\n",
       "    .dataframe thead th {\n",
       "        text-align: right;\n",
       "    }\n",
       "</style>\n",
       "<table border=\"1\" class=\"dataframe\">\n",
       "  <thead>\n",
       "    <tr style=\"text-align: right;\">\n",
       "      <th></th>\n",
       "      <th>abs</th>\n",
       "      <th>rel. overshoot</th>\n",
       "      <th>year</th>\n",
       "    </tr>\n",
       "    <tr>\n",
       "      <th>time_scale_factor</th>\n",
       "      <th></th>\n",
       "      <th></th>\n",
       "      <th></th>\n",
       "    </tr>\n",
       "  </thead>\n",
       "  <tbody>\n",
       "    <tr>\n",
       "      <th>0.5</th>\n",
       "      <td>0.003637</td>\n",
       "      <td>0.724637</td>\n",
       "      <td>135</td>\n",
       "    </tr>\n",
       "    <tr>\n",
       "      <th>1.0</th>\n",
       "      <td>0.021833</td>\n",
       "      <td>4.349884</td>\n",
       "      <td>129</td>\n",
       "    </tr>\n",
       "    <tr>\n",
       "      <th>2.0</th>\n",
       "      <td>0.052415</td>\n",
       "      <td>10.429028</td>\n",
       "      <td>150</td>\n",
       "    </tr>\n",
       "  </tbody>\n",
       "</table>\n",
       "</div>"
      ],
      "text/plain": [
       "                        abs  rel. overshoot  year\n",
       "time_scale_factor                                \n",
       "0.5                0.003637        0.724637   135\n",
       "1.0                0.021833        4.349884   129\n",
       "2.0                0.052415       10.429028   150"
      ]
     },
     "execution_count": 16,
     "metadata": {},
     "output_type": "execute_result"
    }
   ],
   "source": [
    "# get table with final values of volume for different time scales factors\n",
    "var = 'volume'\n",
    "dec_power = 1e9\n",
    "mb_m = 'constant'\n",
    "data = list()\n",
    "\n",
    "for f in ds.time_scale_factor:\n",
    "        # select last volume entry from dataset by model and temperature bias\n",
    "        ds_abs = ds.sel(time_scale_factor=f, normalized=False).squeeze()[var]\n",
    "        ds_norm = ds.sel(time_scale_factor=f, normalized=True).squeeze()[var]\n",
    "        abs_min = ds_abs.where(ds_abs == ds_abs.min(), drop=True)\n",
    "        abs_eq = ds_abs.isel(time=-1)\n",
    "        norm_min = ds_norm.where(ds_abs == ds_abs.min(), drop=True)\n",
    "        data.append([float(abs(abs_min.values-abs_eq.values))/dec_power, float(abs(abs_min.values-abs_eq.values)/abs_eq.values*100), int(norm_min.time.values)])\n",
    "        \n",
    "table = pd.DataFrame(data, index=pd.Index(ds.time_scale_factor.values, name='time_scale_factor'),\n",
    "                     columns=['abs', 'rel. overshoot', 'year'])\n",
    "table.sort_index()"
   ]
  },
  {
   "cell_type": "markdown",
   "metadata": {},
   "source": [
    "**Response times $\\tau$**"
   ]
  },
  {
   "cell_type": "code",
   "execution_count": 17,
   "metadata": {},
   "outputs": [
    {
     "data": {
      "text/html": [
       "<div>\n",
       "<style scoped>\n",
       "    .dataframe tbody tr th:only-of-type {\n",
       "        vertical-align: middle;\n",
       "    }\n",
       "\n",
       "    .dataframe tbody tr th {\n",
       "        vertical-align: top;\n",
       "    }\n",
       "\n",
       "    .dataframe thead th {\n",
       "        text-align: right;\n",
       "    }\n",
       "</style>\n",
       "<table border=\"1\" class=\"dataframe\">\n",
       "  <thead>\n",
       "    <tr style=\"text-align: right;\">\n",
       "      <th>time_scale_factor</th>\n",
       "      <th>0.5</th>\n",
       "      <th>1.0</th>\n",
       "      <th>2.0</th>\n",
       "    </tr>\n",
       "  </thead>\n",
       "  <tbody>\n",
       "    <tr>\n",
       "      <th>volume</th>\n",
       "      <td>39</td>\n",
       "      <td>36</td>\n",
       "      <td>34</td>\n",
       "    </tr>\n",
       "    <tr>\n",
       "      <th>area</th>\n",
       "      <td>47</td>\n",
       "      <td>52</td>\n",
       "      <td>63</td>\n",
       "    </tr>\n",
       "    <tr>\n",
       "      <th>length</th>\n",
       "      <td>66</td>\n",
       "      <td>80</td>\n",
       "      <td>102</td>\n",
       "    </tr>\n",
       "  </tbody>\n",
       "</table>\n",
       "</div>"
      ],
      "text/plain": [
       "time_scale_factor  0.5  1.0  2.0\n",
       "volume              39   36   34\n",
       "area                47   52   63\n",
       "length              66   80  102"
      ]
     },
     "execution_count": 17,
     "metadata": {},
     "output_type": "execute_result"
    }
   ],
   "source": [
    "variables = ['volume', 'area', 'length',]\n",
    "temp_biases = [-0.5, +0.5]\n",
    "data = list()\n",
    "for var in variables:\n",
    "    data_ = list()\n",
    "    for f in ds.time_scale_factor:\n",
    "        # select last volume entry from dataset by model and temperature bias\n",
    "        ds_sel = ds.sel(time_scale_factor=f, normalized=False).squeeze()\n",
    "        geom = ds_sel[var]\n",
    "        geom_eq = geom.isel(time=slice(800,1000)).mean()\n",
    "        geom_eq_dif = np.abs(geom_eq - geom.isel(time=0))\n",
    "        geom_dif = np.abs(geom_eq - geom)\n",
    "        data_.append(int(geom.where(geom_dif < geom_eq_dif*np.exp(-1), drop=True).isel(time=0)['time'].values))\n",
    "    data.append(data_)\n",
    "    \n",
    "tau = pd.DataFrame(data, columns=pd.Index(ds.time_scale_factor.values, name='time_scale_factor'),\n",
    "                   index=variables)\n",
    "tau"
   ]
  },
  {
   "cell_type": "code",
   "execution_count": null,
   "metadata": {},
   "outputs": [],
   "source": []
  },
  {
   "cell_type": "code",
   "execution_count": null,
   "metadata": {},
   "outputs": [],
   "source": []
  },
  {
   "cell_type": "markdown",
   "metadata": {},
   "source": [
    "## HISTALP Sensitivity"
   ]
  },
  {
   "cell_type": "markdown",
   "metadata": {},
   "source": [
    "### Sensitivity to scaling parameters"
   ]
  },
  {
   "cell_type": "code",
   "execution_count": 18,
   "metadata": {},
   "outputs": [],
   "source": [
    "# load scaling params sensitivity results\n",
    "path = '/Users/oberrauch/work/master/data/scaling_params/run_output_constant_vas.nc'\n",
    "ds = pickle.load(open(path, mode='rb'))"
   ]
  },
  {
   "cell_type": "code",
   "execution_count": 19,
   "metadata": {},
   "outputs": [
    {
     "data": {
      "image/png": "[encoded data removed]",
      "text/plain": [
       "<Figure size 360x288 with 1 Axes>"
      ]
     },
     "metadata": {
      "needs_background": "light"
     },
     "output_type": "display_data"
    }
   ],
   "source": [
    "variables = ['volume']\n",
    "path = os.path.join(plot_dir, 'scaling_params_histalp.pdf')\n",
    "\n",
    "for var in variables:\n",
    "    # call plotting function\n",
    "    titles = ['Global\\ values', 'HISTALP\\ constants', 'HISTALP\\ const. &\\  exp.']\n",
    "    ds_plot = ds.sel(normalized=True, time_scale_factor=1)\n",
    "    labels = [f'$\\\\bf{{{t}}}$\\n$c_L$={c_l:.3f}, $q$={q:.3f}\\n$c_A$={c_a:.3f}, $\\gamma$={gamma:.3f};'\n",
    "              for t, (c_l, c_a, q, gamma) in zip(titles, ds_plot.scaling_params.values)]\n",
    "    plt_time.plot_time_series(ds_plot, var=var, labels=labels, color_cycle=vas_cycle[[0,4,8]],\n",
    "                              legend_loc=1,\n",
    "                              path=path)"
   ]
  },
  {
   "cell_type": "code",
   "execution_count": 20,
   "metadata": {},
   "outputs": [
    {
     "data": {
      "image/png": "[encoded data removed]",
      "text/plain": [
       "<Figure size 360x288 with 1 Axes>"
      ]
     },
     "metadata": {
      "needs_background": "light"
     },
     "output_type": "display_data"
    },
    {
     "data": {
      "image/png": "[encoded data removed]",
      "text/plain": [
       "<Figure size 360x288 with 1 Axes>"
      ]
     },
     "metadata": {
      "needs_background": "light"
     },
     "output_type": "display_data"
    },
    {
     "data": {
      "image/png": "[encoded data removed]",
      "text/plain": [
       "<Figure size 360x288 with 1 Axes>"
      ]
     },
     "metadata": {
      "needs_background": "light"
     },
     "output_type": "display_data"
    }
   ],
   "source": [
    "variables = ['volume', 'area', 'length']\n",
    "path = False\n",
    "\n",
    "for var in variables:\n",
    "    # call plotting function\n",
    "    titles = ['Global\\ values', 'HISTALP\\ constants', 'HISTALP\\ const. &\\  exp.']\n",
    "    ds_plot = ds.sel(normalized=False, time_scale_factor=1)\n",
    "    labels = [f'$\\\\bf{{{t}}}$\\n$c_L$={c_l:.3f}, $q$={q:.3f}\\n$c_A$={c_a:.3f}, $\\gamma$={gamma:.3f};'\n",
    "              for t, (c_l, c_a, q, gamma) in zip(titles, ds_plot.scaling_params.values)]\n",
    "    plt_time.plot_time_series(ds_plot, var=var, labels=labels, color_cycle=vas_cycle[[0,4,8]],\n",
    "                              legend_loc=1, path=path)"
   ]
  },
  {
   "cell_type": "markdown",
   "metadata": {},
   "source": [
    "**Equilibrium values**"
   ]
  },
  {
   "cell_type": "code",
   "execution_count": 21,
   "metadata": {},
   "outputs": [
    {
     "data": {
      "text/html": [
       "<div>\n",
       "<style scoped>\n",
       "    .dataframe tbody tr th:only-of-type {\n",
       "        vertical-align: middle;\n",
       "    }\n",
       "\n",
       "    .dataframe tbody tr th {\n",
       "        vertical-align: top;\n",
       "    }\n",
       "\n",
       "    .dataframe thead tr th {\n",
       "        text-align: left;\n",
       "    }\n",
       "\n",
       "    .dataframe thead tr:last-of-type th {\n",
       "        text-align: right;\n",
       "    }\n",
       "</style>\n",
       "<table border=\"1\" class=\"dataframe\">\n",
       "  <thead>\n",
       "    <tr>\n",
       "      <th></th>\n",
       "      <th colspan=\"2\" halign=\"left\">volume</th>\n",
       "    </tr>\n",
       "    <tr>\n",
       "      <th></th>\n",
       "      <th>abs</th>\n",
       "      <th>norm</th>\n",
       "    </tr>\n",
       "    <tr>\n",
       "      <th>scaling_params</th>\n",
       "      <th></th>\n",
       "      <th></th>\n",
       "    </tr>\n",
       "  </thead>\n",
       "  <tbody>\n",
       "    <tr>\n",
       "      <th>(4.551, 0.191, 2.2, 1.375)</th>\n",
       "      <td>95.759663</td>\n",
       "      <td>0.733828671847779</td>\n",
       "    </tr>\n",
       "    <tr>\n",
       "      <th>(1.805, 0.25, 2.2, 1.375)</th>\n",
       "      <td>125.305041</td>\n",
       "      <td>0.7336247418909089</td>\n",
       "    </tr>\n",
       "    <tr>\n",
       "      <th>(0.244, 0.117, 2.517, 1.441)</th>\n",
       "      <td>165.517544</td>\n",
       "      <td>0.7204630505698235</td>\n",
       "    </tr>\n",
       "  </tbody>\n",
       "</table>\n",
       "</div>"
      ],
      "text/plain": [
       "                                  volume                    \n",
       "                                     abs                norm\n",
       "scaling_params                                              \n",
       "(4.551, 0.191, 2.2, 1.375)     95.759663   0.733828671847779\n",
       "(1.805, 0.25, 2.2, 1.375)     125.305041  0.7336247418909089\n",
       "(0.244, 0.117, 2.517, 1.441)  165.517544  0.7204630505698235"
      ]
     },
     "execution_count": 21,
     "metadata": {},
     "output_type": "execute_result"
    }
   ],
   "source": [
    "# get table with final values of volume for different time scales factors\n",
    "var = 'volume'\n",
    "mb_m = 'constant'\n",
    "data = list()\n",
    "\n",
    "for p in ds.scaling_params:\n",
    "        # select last volume entry from dataset by model and temperature bias\n",
    "        ds_abs = ds.sel(scaling_params=p, normalized=False).squeeze().isel(time=1000)[var]\n",
    "        ds_norm = ds.sel(scaling_params=p, normalized=True).squeeze().isel(time=1000)[var]\n",
    "        data.append([ds_abs.values/1e9, ds_norm.values])\n",
    "        \n",
    "table = pd.DataFrame(data, index=pd.Index(ds.scaling_params.values, name='scaling_params'),\n",
    "                     columns=pd.MultiIndex.from_tuples(list(zip(np.repeat(['volume'], 2),\n",
    "                                                                np.tile(['abs', 'norm'], 1)))),)\n",
    "table"
   ]
  },
  {
   "cell_type": "code",
   "execution_count": 22,
   "metadata": {},
   "outputs": [
    {
     "data": {
      "text/html": [
       "<div>\n",
       "<style scoped>\n",
       "    .dataframe tbody tr th:only-of-type {\n",
       "        vertical-align: middle;\n",
       "    }\n",
       "\n",
       "    .dataframe tbody tr th {\n",
       "        vertical-align: top;\n",
       "    }\n",
       "\n",
       "    .dataframe thead tr th {\n",
       "        text-align: left;\n",
       "    }\n",
       "\n",
       "    .dataframe thead tr:last-of-type th {\n",
       "        text-align: right;\n",
       "    }\n",
       "</style>\n",
       "<table border=\"1\" class=\"dataframe\">\n",
       "  <thead>\n",
       "    <tr>\n",
       "      <th></th>\n",
       "      <th colspan=\"3\" halign=\"left\">volume</th>\n",
       "    </tr>\n",
       "    <tr>\n",
       "      <th></th>\n",
       "      <th>init</th>\n",
       "      <th>eq</th>\n",
       "      <th>diff</th>\n",
       "    </tr>\n",
       "    <tr>\n",
       "      <th>scaling_params</th>\n",
       "      <th></th>\n",
       "      <th></th>\n",
       "      <th></th>\n",
       "    </tr>\n",
       "  </thead>\n",
       "  <tbody>\n",
       "    <tr>\n",
       "      <th>(4.551, 0.191, 2.2, 1.375)</th>\n",
       "      <td>1.0</td>\n",
       "      <td>0.733829</td>\n",
       "      <td>-0.266171</td>\n",
       "    </tr>\n",
       "    <tr>\n",
       "      <th>(1.805, 0.25, 2.2, 1.375)</th>\n",
       "      <td>1.0</td>\n",
       "      <td>0.733625</td>\n",
       "      <td>-0.266375</td>\n",
       "    </tr>\n",
       "    <tr>\n",
       "      <th>(0.244, 0.117, 2.517, 1.441)</th>\n",
       "      <td>1.0</td>\n",
       "      <td>0.720463</td>\n",
       "      <td>-0.279537</td>\n",
       "    </tr>\n",
       "  </tbody>\n",
       "</table>\n",
       "</div>"
      ],
      "text/plain": [
       "                             volume                    \n",
       "                               init        eq      diff\n",
       "scaling_params                                         \n",
       "(4.551, 0.191, 2.2, 1.375)      1.0  0.733829 -0.266171\n",
       "(1.805, 0.25, 2.2, 1.375)       1.0  0.733625 -0.266375\n",
       "(0.244, 0.117, 2.517, 1.441)    1.0  0.720463 -0.279537"
      ]
     },
     "execution_count": 22,
     "metadata": {},
     "output_type": "execute_result"
    }
   ],
   "source": [
    "# get table with initial and final values as well as the difference between the two\n",
    "var = 'volume'\n",
    "n = True\n",
    "dec_power = 1e0\n",
    "\n",
    "\n",
    "data = list()\n",
    "\n",
    "for p in ds.scaling_params:\n",
    "        # select last volume entry from dataset by model and temperature bias\n",
    "        ds_eq = ds.sel(scaling_params=p, normalized=n).squeeze().isel(time=1000)[var]\n",
    "        ds_init = ds.sel(scaling_params=p, normalized=n).squeeze().isel(time=0)[var]\n",
    "        data.append([ds_init.values/dec_power, ds_eq.values/dec_power, ds_eq.values/dec_power - ds_init.values/dec_power])\n",
    "        \n",
    "table = pd.DataFrame(data, index=pd.Index(ds.scaling_params.values, name='scaling_params'),\n",
    "                     columns=pd.MultiIndex.from_tuples(list(zip(np.repeat(['volume'], 3),\n",
    "                                                                np.tile(['init', 'eq', 'diff'], 1)))),)\n",
    "table"
   ]
  },
  {
   "cell_type": "markdown",
   "metadata": {},
   "source": [
    "**Maximum values**"
   ]
  },
  {
   "cell_type": "code",
   "execution_count": 23,
   "metadata": {},
   "outputs": [
    {
     "data": {
      "text/html": [
       "<div>\n",
       "<style scoped>\n",
       "    .dataframe tbody tr th:only-of-type {\n",
       "        vertical-align: middle;\n",
       "    }\n",
       "\n",
       "    .dataframe tbody tr th {\n",
       "        vertical-align: top;\n",
       "    }\n",
       "\n",
       "    .dataframe thead th {\n",
       "        text-align: right;\n",
       "    }\n",
       "</style>\n",
       "<table border=\"1\" class=\"dataframe\">\n",
       "  <thead>\n",
       "    <tr style=\"text-align: right;\">\n",
       "      <th></th>\n",
       "      <th>abs</th>\n",
       "      <th>rel. overshoot</th>\n",
       "      <th>year</th>\n",
       "    </tr>\n",
       "    <tr>\n",
       "      <th>scaling_params</th>\n",
       "      <th></th>\n",
       "      <th></th>\n",
       "      <th></th>\n",
       "    </tr>\n",
       "  </thead>\n",
       "  <tbody>\n",
       "    <tr>\n",
       "      <th>(0.244, 0.117, 2.517, 1.441)</th>\n",
       "      <td>159.400182</td>\n",
       "      <td>31716.006572</td>\n",
       "      <td>272</td>\n",
       "    </tr>\n",
       "    <tr>\n",
       "      <th>(1.805, 0.25, 2.2, 1.375)</th>\n",
       "      <td>120.459142</td>\n",
       "      <td>23967.870557</td>\n",
       "      <td>171</td>\n",
       "    </tr>\n",
       "    <tr>\n",
       "      <th>(4.551, 0.191, 2.2, 1.375)</th>\n",
       "      <td>91.882396</td>\n",
       "      <td>18281.928092</td>\n",
       "      <td>128</td>\n",
       "    </tr>\n",
       "  </tbody>\n",
       "</table>\n",
       "</div>"
      ],
      "text/plain": [
       "                                     abs  rel. overshoot  year\n",
       "scaling_params                                                \n",
       "(0.244, 0.117, 2.517, 1.441)  159.400182    31716.006572   272\n",
       "(1.805, 0.25, 2.2, 1.375)     120.459142    23967.870557   171\n",
       "(4.551, 0.191, 2.2, 1.375)     91.882396    18281.928092   128"
      ]
     },
     "execution_count": 23,
     "metadata": {},
     "output_type": "execute_result"
    }
   ],
   "source": [
    "# get table with final values of volume for different time scales factors\n",
    "var = 'volume'\n",
    "dec_power = 1e9\n",
    "mb_m = 'constant'\n",
    "data = list()\n",
    "\n",
    "for p in ds.scaling_params:\n",
    "        # select last volume entry from dataset by model and temperature bias\n",
    "        ds_abs = ds.sel(scaling_params=p, normalized=False).squeeze()[var]\n",
    "        ds_norm = ds.sel(scaling_params=p, normalized=True).squeeze()[var]\n",
    "        abs_min = ds_abs.where(ds_abs == ds_abs.min(), drop=True)\n",
    "        norm_min = ds_norm.where(ds_abs == ds_abs.min(), drop=True)\n",
    "        data.append([float(abs(abs_min.values-abs_eq.values))/dec_power, float(abs(abs_min.values-abs_eq.values)/abs_eq.values*100), int(norm_min.time.values)])\n",
    "        \n",
    "table = pd.DataFrame(data, index=pd.Index(ds.scaling_params.values, name='scaling_params'),\n",
    "                     columns=['abs', 'rel. overshoot', 'year'])\n",
    "table.sort_index()"
   ]
  },
  {
   "cell_type": "markdown",
   "metadata": {},
   "source": [
    "**Response times $\\tau$**"
   ]
  },
  {
   "cell_type": "code",
   "execution_count": 24,
   "metadata": {},
   "outputs": [
    {
     "data": {
      "text/html": [
       "<div>\n",
       "<style scoped>\n",
       "    .dataframe tbody tr th:only-of-type {\n",
       "        vertical-align: middle;\n",
       "    }\n",
       "\n",
       "    .dataframe tbody tr th {\n",
       "        vertical-align: top;\n",
       "    }\n",
       "\n",
       "    .dataframe thead th {\n",
       "        text-align: right;\n",
       "    }\n",
       "</style>\n",
       "<table border=\"1\" class=\"dataframe\">\n",
       "  <thead>\n",
       "    <tr style=\"text-align: right;\">\n",
       "      <th>scaling_params</th>\n",
       "      <th>(4.551, 0.191, 2.2, 1.375)</th>\n",
       "      <th>(1.805, 0.25, 2.2, 1.375)</th>\n",
       "      <th>(0.244, 0.117, 2.517, 1.441)</th>\n",
       "    </tr>\n",
       "  </thead>\n",
       "  <tbody>\n",
       "    <tr>\n",
       "      <th>volume</th>\n",
       "      <td>31</td>\n",
       "      <td>42</td>\n",
       "      <td>61</td>\n",
       "    </tr>\n",
       "    <tr>\n",
       "      <th>area</th>\n",
       "      <td>41</td>\n",
       "      <td>45</td>\n",
       "      <td>62</td>\n",
       "    </tr>\n",
       "    <tr>\n",
       "      <th>length</th>\n",
       "      <td>44</td>\n",
       "      <td>63</td>\n",
       "      <td>71</td>\n",
       "    </tr>\n",
       "  </tbody>\n",
       "</table>\n",
       "</div>"
      ],
      "text/plain": [
       "scaling_params  (4.551, 0.191, 2.2, 1.375)  (1.805, 0.25, 2.2, 1.375)  \\\n",
       "volume                                  31                         42   \n",
       "area                                    41                         45   \n",
       "length                                  44                         63   \n",
       "\n",
       "scaling_params  (0.244, 0.117, 2.517, 1.441)  \n",
       "volume                                    61  \n",
       "area                                      62  \n",
       "length                                    71  "
      ]
     },
     "execution_count": 24,
     "metadata": {},
     "output_type": "execute_result"
    }
   ],
   "source": [
    "variables = ['volume', 'area', 'length',]\n",
    "temp_biases = [-0.5, +0.5]\n",
    "data = list()\n",
    "for var in variables:\n",
    "    data_ = list()\n",
    "    for p in ds.scaling_params:\n",
    "        # select last volume entry from dataset by model and temperature bias\n",
    "        ds_sel = ds.sel(scaling_params=p, normalized=False).squeeze()\n",
    "        geom = ds_sel[var]\n",
    "        geom_eq = geom.isel(time=slice(800,1000)).mean()\n",
    "        geom_eq_dif = np.abs(geom_eq - geom.isel(time=0))\n",
    "        geom_dif = np.abs(geom_eq - geom)\n",
    "        data_.append(int(geom.where(geom_dif < geom_eq_dif*np.exp(-1), drop=True).isel(time=0)['time'].values))\n",
    "    data.append(data_)\n",
    "    \n",
    "tau = pd.DataFrame(data, columns=pd.Index(ds.scaling_params.values, name='scaling_params'),\n",
    "                   index=variables)\n",
    "tau"
   ]
  },
  {
   "cell_type": "markdown",
   "metadata": {},
   "source": [
    "### Sensitivity to time scale"
   ]
  },
  {
   "cell_type": "code",
   "execution_count": 25,
   "metadata": {},
   "outputs": [],
   "source": [
    "# load time scale sensitivity results\n",
    "path = '/Users/oberrauch/work/master/data/timescale_sensitivity/time_scale_sensitivity.nc'\n",
    "ds = pickle.load(open(path, mode='rb'))"
   ]
  },
  {
   "cell_type": "code",
   "execution_count": 26,
   "metadata": {},
   "outputs": [
    {
     "data": {
      "image/png": "[encoded data removed]",
      "text/plain": [
       "<Figure size 360x288 with 1 Axes>"
      ]
     },
     "metadata": {
      "needs_background": "light"
     },
     "output_type": "display_data"
    }
   ],
   "source": [
    "# call plotting function\n",
    "ds_plot = ds.sel(normalized=True).isel(scaling_params=0)\n",
    "ds_plot = ds_plot.sortby('time_scale_factor')\n",
    "labels = [f'{f:.1f}' for f in ds_plot.time_scale_factor.values]\n",
    "plt_time.plot_time_series(ds_plot, var='volume', labels=labels, color_cycle=vas_cycle[[0,4,8]],\n",
    "                          legend_title='$\\\\bf{Time\\ scale\\ factor}$', legend_loc=1,\n",
    "                          path=os.path.join(plot_dir, 'time_scales_histalp.pdf'))"
   ]
  },
  {
   "cell_type": "markdown",
   "metadata": {},
   "source": [
    "**Equilibrium values**"
   ]
  },
  {
   "cell_type": "code",
   "execution_count": 27,
   "metadata": {},
   "outputs": [
    {
     "data": {
      "text/html": [
       "<div>\n",
       "<style scoped>\n",
       "    .dataframe tbody tr th:only-of-type {\n",
       "        vertical-align: middle;\n",
       "    }\n",
       "\n",
       "    .dataframe tbody tr th {\n",
       "        vertical-align: top;\n",
       "    }\n",
       "\n",
       "    .dataframe thead tr th {\n",
       "        text-align: left;\n",
       "    }\n",
       "\n",
       "    .dataframe thead tr:last-of-type th {\n",
       "        text-align: right;\n",
       "    }\n",
       "</style>\n",
       "<table border=\"1\" class=\"dataframe\">\n",
       "  <thead>\n",
       "    <tr>\n",
       "      <th></th>\n",
       "      <th colspan=\"2\" halign=\"left\">volume</th>\n",
       "    </tr>\n",
       "    <tr>\n",
       "      <th></th>\n",
       "      <th>abs</th>\n",
       "      <th>norm</th>\n",
       "    </tr>\n",
       "    <tr>\n",
       "      <th>time_scale_factor</th>\n",
       "      <th></th>\n",
       "      <th></th>\n",
       "    </tr>\n",
       "  </thead>\n",
       "  <tbody>\n",
       "    <tr>\n",
       "      <th>0.5</th>\n",
       "      <td>95.754236</td>\n",
       "      <td>0.7337870855836647</td>\n",
       "    </tr>\n",
       "    <tr>\n",
       "      <th>1.0</th>\n",
       "      <td>95.759663</td>\n",
       "      <td>0.733828671847779</td>\n",
       "    </tr>\n",
       "    <tr>\n",
       "      <th>2.0</th>\n",
       "      <td>95.632304</td>\n",
       "      <td>0.7328526876822211</td>\n",
       "    </tr>\n",
       "  </tbody>\n",
       "</table>\n",
       "</div>"
      ],
      "text/plain": [
       "                      volume                    \n",
       "                         abs                norm\n",
       "time_scale_factor                               \n",
       "0.5                95.754236  0.7337870855836647\n",
       "1.0                95.759663   0.733828671847779\n",
       "2.0                95.632304  0.7328526876822211"
      ]
     },
     "execution_count": 27,
     "metadata": {},
     "output_type": "execute_result"
    }
   ],
   "source": [
    "# get table with final values of volume for different time scales factors\n",
    "var = 'volume'\n",
    "mb_m = 'constant'\n",
    "data = list()\n",
    "\n",
    "for f in ds.time_scale_factor:\n",
    "        # select last volume entry from dataset by model and temperature bias\n",
    "        ds_abs = ds.sel(time_scale_factor=f, normalized=False).squeeze().isel(time=1000)[var]\n",
    "        ds_norm = ds.sel(time_scale_factor=f, normalized=True).squeeze().isel(time=1000)[var]\n",
    "        data.append([ds_abs.values/1e9, ds_norm.values])\n",
    "        \n",
    "table = pd.DataFrame(data, index=pd.Index(ds.time_scale_factor.values, name='time_scale_factor'),\n",
    "                     columns=pd.MultiIndex.from_tuples(list(zip(np.repeat(['volume'], 2),\n",
    "                                                                np.tile(['abs', 'norm'], 1)))),)\n",
    "table.sort_index()"
   ]
  },
  {
   "cell_type": "code",
   "execution_count": 28,
   "metadata": {},
   "outputs": [
    {
     "data": {
      "text/html": [
       "<div>\n",
       "<style scoped>\n",
       "    .dataframe tbody tr th:only-of-type {\n",
       "        vertical-align: middle;\n",
       "    }\n",
       "\n",
       "    .dataframe tbody tr th {\n",
       "        vertical-align: top;\n",
       "    }\n",
       "\n",
       "    .dataframe thead th {\n",
       "        text-align: right;\n",
       "    }\n",
       "</style>\n",
       "<table border=\"1\" class=\"dataframe\">\n",
       "  <thead>\n",
       "    <tr style=\"text-align: right;\">\n",
       "      <th></th>\n",
       "      <th>time_until_eq</th>\n",
       "    </tr>\n",
       "    <tr>\n",
       "      <th>time_scale_factor</th>\n",
       "      <th></th>\n",
       "    </tr>\n",
       "  </thead>\n",
       "  <tbody>\n",
       "    <tr>\n",
       "      <th>0.5</th>\n",
       "      <td>312</td>\n",
       "    </tr>\n",
       "    <tr>\n",
       "      <th>1.0</th>\n",
       "      <td>515</td>\n",
       "    </tr>\n",
       "    <tr>\n",
       "      <th>2.0</th>\n",
       "      <td>941</td>\n",
       "    </tr>\n",
       "  </tbody>\n",
       "</table>\n",
       "</div>"
      ],
      "text/plain": [
       "                   time_until_eq\n",
       "time_scale_factor               \n",
       "0.5                          312\n",
       "1.0                          515\n",
       "2.0                          941"
      ]
     },
     "execution_count": 28,
     "metadata": {},
     "output_type": "execute_result"
    }
   ],
   "source": [
    "# get table with final values of volume for different time scales factors\n",
    "var = 'volume'\n",
    "data = list()\n",
    "\n",
    "for f in ds.time_scale_factor:\n",
    "        # select last volume entry from dataset by model and temperature bias\n",
    "        geom = ds.sel(time_scale_factor=f, normalized=False).squeeze()[var]\n",
    "        geom_eq_value = ds.sel(time_scale_factor=f, normalized=False).squeeze().isel(time=-1)[var].mean().values\n",
    "        geom_limit = geom_eq_value * 0.001\n",
    "        geom_eq = geom.where(abs(geom - geom_eq_value) < geom_limit)\n",
    "        yr = geom_eq.where(xr.ufuncs.isnan(geom_eq), drop=True).isel(time=-1).time.values+1\n",
    "        data.append(int(yr))\n",
    "\n",
    "table = pd.DataFrame(data, index=pd.Index(ds.time_scale_factor.values, name='time_scale_factor'), columns=['time_until_eq'])\n",
    "table.sort_index()    "
   ]
  },
  {
   "cell_type": "markdown",
   "metadata": {},
   "source": [
    "**Maximum values**"
   ]
  },
  {
   "cell_type": "code",
   "execution_count": 29,
   "metadata": {},
   "outputs": [
    {
     "data": {
      "text/html": [
       "<div>\n",
       "<style scoped>\n",
       "    .dataframe tbody tr th:only-of-type {\n",
       "        vertical-align: middle;\n",
       "    }\n",
       "\n",
       "    .dataframe tbody tr th {\n",
       "        vertical-align: top;\n",
       "    }\n",
       "\n",
       "    .dataframe thead th {\n",
       "        text-align: right;\n",
       "    }\n",
       "</style>\n",
       "<table border=\"1\" class=\"dataframe\">\n",
       "  <thead>\n",
       "    <tr style=\"text-align: right;\">\n",
       "      <th></th>\n",
       "      <th>abs</th>\n",
       "      <th>rel. overshoot</th>\n",
       "      <th>year</th>\n",
       "    </tr>\n",
       "    <tr>\n",
       "      <th>time_scale_factor</th>\n",
       "      <th></th>\n",
       "      <th></th>\n",
       "      <th></th>\n",
       "    </tr>\n",
       "  </thead>\n",
       "  <tbody>\n",
       "    <tr>\n",
       "      <th>0.5</th>\n",
       "      <td>95.211586</td>\n",
       "      <td>18944.340343</td>\n",
       "      <td>177</td>\n",
       "    </tr>\n",
       "    <tr>\n",
       "      <th>1.0</th>\n",
       "      <td>91.882396</td>\n",
       "      <td>18281.928092</td>\n",
       "      <td>128</td>\n",
       "    </tr>\n",
       "    <tr>\n",
       "      <th>2.0</th>\n",
       "      <td>85.493580</td>\n",
       "      <td>17010.739253</td>\n",
       "      <td>131</td>\n",
       "    </tr>\n",
       "  </tbody>\n",
       "</table>\n",
       "</div>"
      ],
      "text/plain": [
       "                         abs  rel. overshoot  year\n",
       "time_scale_factor                                 \n",
       "0.5                95.211586    18944.340343   177\n",
       "1.0                91.882396    18281.928092   128\n",
       "2.0                85.493580    17010.739253   131"
      ]
     },
     "execution_count": 29,
     "metadata": {},
     "output_type": "execute_result"
    }
   ],
   "source": [
    "# get table with final values of volume for different time scales factors\n",
    "var = 'volume'\n",
    "dec_power = 1e9\n",
    "mb_m = 'constant'\n",
    "data = list()\n",
    "\n",
    "for f in ds.time_scale_factor:\n",
    "        # select last volume entry from dataset by model and temperature bias\n",
    "        ds_abs = ds.sel(time_scale_factor=f, normalized=False).squeeze()[var]\n",
    "        ds_norm = ds.sel(time_scale_factor=f, normalized=True).squeeze()[var]\n",
    "        abs_min = ds_abs.where(ds_abs == ds_abs.min(), drop=True)\n",
    "        norm_min = ds_norm.where(ds_abs == ds_abs.min(), drop=True)\n",
    "        data.append([float(abs(abs_min.values-abs_eq.values))/dec_power, float(abs(abs_min.values-abs_eq.values)/abs_eq.values*100), int(norm_min.time.values)])\n",
    "        \n",
    "table = pd.DataFrame(data, index=pd.Index(ds.time_scale_factor.values, name='time_scale_factor'),\n",
    "                     columns=['abs', 'rel. overshoot', 'year'])\n",
    "table.sort_index()"
   ]
  },
  {
   "cell_type": "markdown",
   "metadata": {},
   "source": [
    "**Response times $\\tau$**"
   ]
  },
  {
   "cell_type": "code",
   "execution_count": 30,
   "metadata": {},
   "outputs": [
    {
     "data": {
      "text/html": [
       "<div>\n",
       "<style scoped>\n",
       "    .dataframe tbody tr th:only-of-type {\n",
       "        vertical-align: middle;\n",
       "    }\n",
       "\n",
       "    .dataframe tbody tr th {\n",
       "        vertical-align: top;\n",
       "    }\n",
       "\n",
       "    .dataframe thead th {\n",
       "        text-align: right;\n",
       "    }\n",
       "</style>\n",
       "<table border=\"1\" class=\"dataframe\">\n",
       "  <thead>\n",
       "    <tr style=\"text-align: right;\">\n",
       "      <th>time_scale_factor</th>\n",
       "      <th>1.0</th>\n",
       "      <th>0.5</th>\n",
       "      <th>2.0</th>\n",
       "    </tr>\n",
       "  </thead>\n",
       "  <tbody>\n",
       "    <tr>\n",
       "      <th>volume</th>\n",
       "      <td>31</td>\n",
       "      <td>35</td>\n",
       "      <td>29</td>\n",
       "    </tr>\n",
       "    <tr>\n",
       "      <th>area</th>\n",
       "      <td>41</td>\n",
       "      <td>39</td>\n",
       "      <td>45</td>\n",
       "    </tr>\n",
       "    <tr>\n",
       "      <th>length</th>\n",
       "      <td>44</td>\n",
       "      <td>43</td>\n",
       "      <td>45</td>\n",
       "    </tr>\n",
       "  </tbody>\n",
       "</table>\n",
       "</div>"
      ],
      "text/plain": [
       "time_scale_factor  1.0  0.5  2.0\n",
       "volume              31   35   29\n",
       "area                41   39   45\n",
       "length              44   43   45"
      ]
     },
     "execution_count": 30,
     "metadata": {},
     "output_type": "execute_result"
    }
   ],
   "source": [
    "variables = ['volume', 'area', 'length',]\n",
    "temp_biases = [-0.5, +0.5]\n",
    "data = list()\n",
    "for var in variables:\n",
    "    data_ = list()\n",
    "    for f in ds.time_scale_factor:\n",
    "        # select last volume entry from dataset by model and temperature bias\n",
    "        ds_sel = ds.sel(time_scale_factor=f, normalized=False).squeeze()\n",
    "        geom = ds_sel[var]\n",
    "        geom_eq = geom.isel(time=slice(800,1000)).mean()\n",
    "        geom_eq_dif = np.abs(geom_eq - geom.isel(time=0))\n",
    "        geom_dif = np.abs(geom_eq - geom)\n",
    "        data_.append(int(geom.where(geom_dif < geom_eq_dif*np.exp(-1), drop=True).isel(time=0)['time'].values))\n",
    "    data.append(data_)\n",
    "    \n",
    "tau = pd.DataFrame(data, columns=pd.Index(ds.time_scale_factor.values, name='time_scale_factor'),\n",
    "                   index=variables)\n",
    "tau"
   ]
  },
  {
   "cell_type": "code",
   "execution_count": null,
   "metadata": {},
   "outputs": [],
   "source": []
  },
  {
   "cell_type": "code",
   "execution_count": null,
   "metadata": {},
   "outputs": [],
   "source": []
  },
  {
   "cell_type": "code",
   "execution_count": null,
   "metadata": {},
   "outputs": [],
   "source": []
  },
  {
   "cell_type": "markdown",
   "metadata": {},
   "source": [
    "## Test"
   ]
  },
  {
   "cell_type": "markdown",
   "metadata": {},
   "source": [
    "### Sensitivity to time scale"
   ]
  },
  {
   "cell_type": "code",
   "execution_count": 31,
   "metadata": {},
   "outputs": [],
   "source": [
    "dir_path = '/Users/oberrauch/work/master/data/'\n",
    "# load time scale sensitivity results\n",
    "f_name = 'timescale_sensitivity/run_output_constant_vas.nc'\n",
    "ds_ts = pickle.load(open(os.path.join(dir_path, f_name), mode='rb'))\n",
    "# load scaling params sensitivity results\n",
    "f_name = 'scaling_params/run_output_constant_vas.nc'\n",
    "ds_sc = pickle.load(open(os.path.join(dir_path, f_name), mode='rb'))"
   ]
  },
  {
   "cell_type": "code",
   "execution_count": 32,
   "metadata": {},
   "outputs": [
    {
     "data": {
      "text/plain": [
       "[<matplotlib.lines.Line2D at 0x141a97d30>]"
      ]
     },
     "execution_count": 32,
     "metadata": {},
     "output_type": "execute_result"
    },
    {
     "data": {
      "image/png": "[encoded data removed]",
      "text/plain": [
       "<Figure size 432x288 with 1 Axes>"
      ]
     },
     "metadata": {
      "needs_background": "light"
     },
     "output_type": "display_data"
    }
   ],
   "source": [
    "ds_sc.sel(scaling_params=ds_ts.scaling_params, normalized=False).volume.plot()\n",
    "ds_ts.sel(time_scale_factor=ds_sc.time_scale_factor, normalized=False).volume.plot()"
   ]
  },
  {
   "cell_type": "code",
   "execution_count": 33,
   "metadata": {},
   "outputs": [
    {
     "data": {
      "image/png": "[encoded data removed]",
      "text/plain": [
       "<Figure size 432x288 with 1 Axes>"
      ]
     },
     "metadata": {
      "needs_background": "light"
     },
     "output_type": "display_data"
    }
   ],
   "source": [
    "ds_sc.sel(normalized=True).squeeze().volume.plot.line(x='time')\n",
    "ds_ts.sel(normalized=True).squeeze().volume.plot.line(x='time')\n",
    "plt.grid()"
   ]
  },
  {
   "cell_type": "code",
   "execution_count": 34,
   "metadata": {},
   "outputs": [
    {
     "data": {
      "image/png": "[encoded data removed]",
      "text/plain": [
       "<Figure size 360x288 with 1 Axes>"
      ]
     },
     "metadata": {
      "needs_background": "light"
     },
     "output_type": "display_data"
    },
    {
     "data": {
      "image/png": "[encoded data removed]",
      "text/plain": [
       "<Figure size 360x288 with 1 Axes>"
      ]
     },
     "metadata": {
      "needs_background": "light"
     },
     "output_type": "display_data"
    },
    {
     "data": {
      "image/png": "[encoded data removed]",
      "text/plain": [
       "<Figure size 360x288 with 1 Axes>"
      ]
     },
     "metadata": {
      "needs_background": "light"
     },
     "output_type": "display_data"
    }
   ],
   "source": [
    "# define variable to be plotted\n",
    "variables = ['length', 'area', 'volume']\n",
    "n = False\n",
    "\n",
    "for var in variables:\n",
    "    # call plotting function\n",
    "    ds_plot = ds.sel(normalized=n).isel(scaling_params=0)\n",
    "    ds_plot = ds_plot.sortby('time_scale_factor')\n",
    "    labels = [f'{f:.1f}' for f in ds_plot.time_scale_factor.values]\n",
    "    plt_time.plot_time_series(ds_plot, var=var, labels=labels,\n",
    "                              color_cycle=vas_cycle, legend_title='$\\\\bf{Time\\ scale\\ factor}$')"
   ]
  },
  {
   "cell_type": "code",
   "execution_count": 35,
   "metadata": {},
   "outputs": [
    {
     "ename": "NameError",
     "evalue": "name 'time_scale_factor' is not defined",
     "output_type": "error",
     "traceback": [
      "\u001b[0;31m---------------------------------------------------------------------------\u001b[0m",
      "\u001b[0;31mNameError\u001b[0m                                 Traceback (most recent call last)",
      "\u001b[0;32m<ipython-input-35-6e00cf08cf11>\u001b[0m in \u001b[0;36m<module>\u001b[0;34m\u001b[0m\n\u001b[0;32m----> 1\u001b[0;31m \u001b[0mtime_scale_factor\u001b[0m\u001b[0;34m\u001b[0m\u001b[0;34m\u001b[0m\u001b[0m\n\u001b[0m",
      "\u001b[0;31mNameError\u001b[0m: name 'time_scale_factor' is not defined"
     ]
    }
   ],
   "source": [
    "time_scale_factor"
   ]
  }
 ],
 "metadata": {
  "kernelspec": {
   "display_name": "Python 3",
   "language": "python",
   "name": "python3"
  },
  "language_info": {
   "codemirror_mode": {
    "name": "ipython",
    "version": 3
   },
   "file_extension": ".py",
   "mimetype": "text/x-python",
   "name": "python",
   "nbconvert_exporter": "python",
   "pygments_lexer": "ipython3",
   "version": "3.6.7"
  }
 },
 "nbformat": 4,
 "nbformat_minor": 4
}
