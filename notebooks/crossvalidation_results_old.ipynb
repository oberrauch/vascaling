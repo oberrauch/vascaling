{
 "cells": [
  {
   "cell_type": "markdown",
   "metadata": {},
   "source": [
    "# Evaluate the cross validation of different mass balance hyper parameters\n",
    "The data file is produced by the VAS adapted cross validation module (https://github.com/oberrauch/mb_crossval) originally from Matze (https://github.com/OGGM/mb_crossval)."
   ]
  },
  {
   "cell_type": "code",
   "execution_count": 1,
   "metadata": {},
   "outputs": [],
   "source": [
    "import pickle\n",
    "import numpy as np\n",
    "import matplotlib.pyplot as plt\n",
    "%matplotlib inline"
   ]
  },
  {
   "cell_type": "code",
   "execution_count": 3,
   "metadata": {},
   "outputs": [],
   "source": [
    "# read dictionary\n",
    "path = '/Users/oberrauch/mb_crossval/data/xval/xval_1.1.2.dev44+gf9ab669-histalp_major.p'\n",
    "xvaldict = pickle.load(open(path, \"rb\"))"
   ]
  },
  {
   "cell_type": "code",
   "execution_count": 4,
   "metadata": {},
   "outputs": [
    {
     "data": {
      "text/html": [
       "<div>\n",
       "<style scoped>\n",
       "    .dataframe tbody tr th:only-of-type {\n",
       "        vertical-align: middle;\n",
       "    }\n",
       "\n",
       "    .dataframe tbody tr th {\n",
       "        vertical-align: top;\n",
       "    }\n",
       "\n",
       "    .dataframe thead th {\n",
       "        text-align: right;\n",
       "    }\n",
       "</style>\n",
       "<table border=\"1\" class=\"dataframe\">\n",
       "  <thead>\n",
       "    <tr style=\"text-align: right;\">\n",
       "      <th></th>\n",
       "      <th>prcpsf</th>\n",
       "      <th>tliq</th>\n",
       "      <th>tmelt</th>\n",
       "      <th>std_quot</th>\n",
       "      <th>bias</th>\n",
       "      <th>rmse</th>\n",
       "      <th>core</th>\n",
       "      <th>std_oggm</th>\n",
       "      <th>std_ref</th>\n",
       "      <th>nans</th>\n",
       "    </tr>\n",
       "  </thead>\n",
       "  <tbody>\n",
       "    <tr>\n",
       "      <th>0</th>\n",
       "      <td>1.5</td>\n",
       "      <td>1</td>\n",
       "      <td>-2</td>\n",
       "      <td>0.53561</td>\n",
       "      <td>54.5083</td>\n",
       "      <td>276.3</td>\n",
       "      <td>0.630709</td>\n",
       "      <td>353.762</td>\n",
       "      <td>660.483</td>\n",
       "      <td>0</td>\n",
       "    </tr>\n",
       "    <tr>\n",
       "      <th>1</th>\n",
       "      <td>1.5</td>\n",
       "      <td>1</td>\n",
       "      <td>-1.75</td>\n",
       "      <td>0.547653</td>\n",
       "      <td>36.1525</td>\n",
       "      <td>283.222</td>\n",
       "      <td>0.632451</td>\n",
       "      <td>361.715</td>\n",
       "      <td>660.483</td>\n",
       "      <td>0</td>\n",
       "    </tr>\n",
       "    <tr>\n",
       "      <th>2</th>\n",
       "      <td>1.5</td>\n",
       "      <td>1</td>\n",
       "      <td>-1.5</td>\n",
       "      <td>0.556322</td>\n",
       "      <td>36.3591</td>\n",
       "      <td>280.444</td>\n",
       "      <td>0.634298</td>\n",
       "      <td>367.441</td>\n",
       "      <td>660.483</td>\n",
       "      <td>0</td>\n",
       "    </tr>\n",
       "    <tr>\n",
       "      <th>3</th>\n",
       "      <td>1.5</td>\n",
       "      <td>1</td>\n",
       "      <td>-1.25</td>\n",
       "      <td>0.564546</td>\n",
       "      <td>34.8341</td>\n",
       "      <td>278.638</td>\n",
       "      <td>0.635844</td>\n",
       "      <td>372.873</td>\n",
       "      <td>660.483</td>\n",
       "      <td>0</td>\n",
       "    </tr>\n",
       "    <tr>\n",
       "      <th>4</th>\n",
       "      <td>1.5</td>\n",
       "      <td>1</td>\n",
       "      <td>-1</td>\n",
       "      <td>0.578597</td>\n",
       "      <td>19.5265</td>\n",
       "      <td>272.345</td>\n",
       "      <td>0.637201</td>\n",
       "      <td>382.154</td>\n",
       "      <td>660.483</td>\n",
       "      <td>0</td>\n",
       "    </tr>\n",
       "  </tbody>\n",
       "</table>\n",
       "</div>"
      ],
      "text/plain": [
       "  prcpsf tliq tmelt  std_quot     bias     rmse      core std_oggm  std_ref  \\\n",
       "0    1.5    1    -2   0.53561  54.5083    276.3  0.630709  353.762  660.483   \n",
       "1    1.5    1 -1.75  0.547653  36.1525  283.222  0.632451  361.715  660.483   \n",
       "2    1.5    1  -1.5  0.556322  36.3591  280.444  0.634298  367.441  660.483   \n",
       "3    1.5    1 -1.25  0.564546  34.8341  278.638  0.635844  372.873  660.483   \n",
       "4    1.5    1    -1  0.578597  19.5265  272.345  0.637201  382.154  660.483   \n",
       "\n",
       "  nans  \n",
       "0    0  \n",
       "1    0  \n",
       "2    0  \n",
       "3    0  \n",
       "4    0  "
      ]
     },
     "execution_count": 4,
     "metadata": {},
     "output_type": "execute_result"
    }
   ],
   "source": [
    "# get dataframe\n",
    "stats = xvaldict['statistic']\n",
    "# remove temperature gradient, since it is constant (-0.0065 K/m)\n",
    "stats = stats.drop('tgrad', axis=1)\n",
    "stats.head()"
   ]
  },
  {
   "cell_type": "markdown",
   "metadata": {},
   "source": [
    "**Compute scores for the statistical measures**"
   ]
  },
  {
   "cell_type": "code",
   "execution_count": 10,
   "metadata": {},
   "outputs": [
    {
     "name": "stdout",
     "output_type": "stream",
     "text": [
      "0.8166430429845093\n"
     ]
    },
    {
     "data": {
      "image/png": "[encoded data removed]",
      "text/plain": [
       "<Figure size 432x288 with 1 Axes>"
      ]
     },
     "metadata": {
      "needs_background": "light"
     },
     "output_type": "display_data"
    }
   ],
   "source": [
    "stats['bias_score'] = (stats.bias.max() - abs(stats.bias))/(stats.bias.max() - stats.bias.min()) + 100\n",
    "plt.scatter(stats.bias, stats.bias_score)\n",
    "plt.xlabel('Bias')\n",
    "plt.ylabel('Bias score')\n",
    "print(stats.bias_score.max()-stats.bias_score.min())"
   ]
  },
  {
   "cell_type": "code",
   "execution_count": 14,
   "metadata": {},
   "outputs": [
    {
     "name": "stdout",
     "output_type": "stream",
     "text": [
      "1.0\n"
     ]
    },
    {
     "data": {
      "image/png": "[encoded data removed]",
      "text/plain": [
       "<Figure size 432x288 with 1 Axes>"
      ]
     },
     "metadata": {
      "needs_background": "light"
     },
     "output_type": "display_data"
    }
   ],
   "source": [
    "stats['core_score'] = (abs(stats.core) - stats.core.min())/(stats.core.max() - stats.core.min()) - 1000\n",
    "plt.scatter(stats.core, stats.core_score)\n",
    "plt.xlabel('Correlation')\n",
    "plt.ylabel('Correlation score')\n",
    "print(stats.core_score.max()-stats.core_score.min())"
   ]
  },
  {
   "cell_type": "code",
   "execution_count": 12,
   "metadata": {},
   "outputs": [
    {
     "name": "stdout",
     "output_type": "stream",
     "text": [
      "0.5135390547906871\n"
     ]
    },
    {
     "data": {
      "image/png": "[encoded data removed]",
      "text/plain": [
       "<Figure size 432x288 with 1 Axes>"
      ]
     },
     "metadata": {
      "needs_background": "light"
     },
     "output_type": "display_data"
    }
   ],
   "source": [
    "stats['std_quot_score'] = (stats.std_quot.max() - abs(stats.std_quot - 1))/(stats.std_quot.max() - stats.std_quot.min())\n",
    "plt.scatter(stats.std_quot, stats.std_quot_score)\n",
    "plt.xlabel('Standard deviation')\n",
    "plt.ylabel('Standard deviation score')\n",
    "print(stats.std_quot_score.max()-stats.std_quot_score.min())"
   ]
  },
  {
   "cell_type": "code",
   "execution_count": 17,
   "metadata": {},
   "outputs": [
    {
     "data": {
      "text/plain": [
       "Text(0, 0.5, 'RMSE score')"
      ]
     },
     "execution_count": 17,
     "metadata": {},
     "output_type": "execute_result"
    },
    {
     "data": {
      "image/png": "[encoded data removed]",
      "text/plain": [
       "<Figure size 432x288 with 1 Axes>"
      ]
     },
     "metadata": {
      "needs_background": "light"
     },
     "output_type": "display_data"
    }
   ],
   "source": [
    "stats['rmse_score'] = (stats.rmse.max() - stats.rmse)/(stats.rmse.max() - stats.rmse.min())\n",
    "plt.scatter(stats.rmse, stats.rmse_score)\n",
    "plt.xlabel('RMSE')\n",
    "plt.ylabel('RMSE score')"
   ]
  },
  {
   "cell_type": "markdown",
   "metadata": {},
   "source": [
    "The scores have different ranges, the highest number are found for the standard deviation score and the lowest for the bias score. Hence, the former has the highest weight and the latter the lowest. That seems odd..."
   ]
  },
  {
   "cell_type": "markdown",
   "metadata": {},
   "source": [
    "**Compute overall score as sum of individual scores**, whereby higher values indicate better performance"
   ]
  },
  {
   "cell_type": "code",
   "execution_count": 9,
   "metadata": {},
   "outputs": [
    {
     "data": {
      "text/html": [
       "<div>\n",
       "<style scoped>\n",
       "    .dataframe tbody tr th:only-of-type {\n",
       "        vertical-align: middle;\n",
       "    }\n",
       "\n",
       "    .dataframe tbody tr th {\n",
       "        vertical-align: top;\n",
       "    }\n",
       "\n",
       "    .dataframe thead th {\n",
       "        text-align: right;\n",
       "    }\n",
       "</style>\n",
       "<table border=\"1\" class=\"dataframe\">\n",
       "  <thead>\n",
       "    <tr style=\"text-align: right;\">\n",
       "      <th></th>\n",
       "      <th>prcpsf</th>\n",
       "      <th>tliq</th>\n",
       "      <th>tmelt</th>\n",
       "      <th>std_quot</th>\n",
       "      <th>bias</th>\n",
       "      <th>rmse</th>\n",
       "      <th>core</th>\n",
       "      <th>std_oggm</th>\n",
       "      <th>std_ref</th>\n",
       "      <th>nans</th>\n",
       "      <th>bias_score</th>\n",
       "      <th>core_score</th>\n",
       "      <th>std_quot_score</th>\n",
       "      <th>score</th>\n",
       "    </tr>\n",
       "  </thead>\n",
       "  <tbody>\n",
       "    <tr>\n",
       "      <th>186</th>\n",
       "      <td>2.5</td>\n",
       "      <td>1</td>\n",
       "      <td>-0.5</td>\n",
       "      <td>0.981936</td>\n",
       "      <td>-57.0364</td>\n",
       "      <td>354.49</td>\n",
       "      <td>0.638179</td>\n",
       "      <td>648.552</td>\n",
       "      <td>660.483</td>\n",
       "      <td>0</td>\n",
       "      <td>-0.00839273</td>\n",
       "      <td>0.954412</td>\n",
       "      <td>1.58264</td>\n",
       "      <td>2.52866</td>\n",
       "    </tr>\n",
       "    <tr>\n",
       "      <th>222</th>\n",
       "      <td>2.5</td>\n",
       "      <td>3</td>\n",
       "      <td>-0.5</td>\n",
       "      <td>0.981936</td>\n",
       "      <td>-57.0364</td>\n",
       "      <td>354.49</td>\n",
       "      <td>0.638179</td>\n",
       "      <td>648.552</td>\n",
       "      <td>660.483</td>\n",
       "      <td>0</td>\n",
       "      <td>-0.00839273</td>\n",
       "      <td>0.954412</td>\n",
       "      <td>1.58264</td>\n",
       "      <td>2.52866</td>\n",
       "    </tr>\n",
       "    <tr>\n",
       "      <th>213</th>\n",
       "      <td>2.5</td>\n",
       "      <td>2.5</td>\n",
       "      <td>-0.5</td>\n",
       "      <td>0.981936</td>\n",
       "      <td>-57.0364</td>\n",
       "      <td>354.49</td>\n",
       "      <td>0.638179</td>\n",
       "      <td>648.552</td>\n",
       "      <td>660.483</td>\n",
       "      <td>0</td>\n",
       "      <td>-0.00839273</td>\n",
       "      <td>0.954412</td>\n",
       "      <td>1.58264</td>\n",
       "      <td>2.52866</td>\n",
       "    </tr>\n",
       "    <tr>\n",
       "      <th>204</th>\n",
       "      <td>2.5</td>\n",
       "      <td>2</td>\n",
       "      <td>-0.5</td>\n",
       "      <td>0.981936</td>\n",
       "      <td>-57.0364</td>\n",
       "      <td>354.49</td>\n",
       "      <td>0.638179</td>\n",
       "      <td>648.552</td>\n",
       "      <td>660.483</td>\n",
       "      <td>0</td>\n",
       "      <td>-0.00839273</td>\n",
       "      <td>0.954412</td>\n",
       "      <td>1.58264</td>\n",
       "      <td>2.52866</td>\n",
       "    </tr>\n",
       "    <tr>\n",
       "      <th>195</th>\n",
       "      <td>2.5</td>\n",
       "      <td>1.5</td>\n",
       "      <td>-0.5</td>\n",
       "      <td>0.981936</td>\n",
       "      <td>-57.0364</td>\n",
       "      <td>354.49</td>\n",
       "      <td>0.638179</td>\n",
       "      <td>648.552</td>\n",
       "      <td>660.483</td>\n",
       "      <td>0</td>\n",
       "      <td>-0.00839273</td>\n",
       "      <td>0.954412</td>\n",
       "      <td>1.58264</td>\n",
       "      <td>2.52866</td>\n",
       "    </tr>\n",
       "    <tr>\n",
       "      <th>221</th>\n",
       "      <td>2.5</td>\n",
       "      <td>3</td>\n",
       "      <td>-0.75</td>\n",
       "      <td>0.968122</td>\n",
       "      <td>-75.6843</td>\n",
       "      <td>345.881</td>\n",
       "      <td>0.638214</td>\n",
       "      <td>639.428</td>\n",
       "      <td>660.483</td>\n",
       "      <td>0</td>\n",
       "      <td>-0.0702985</td>\n",
       "      <td>0.957025</td>\n",
       "      <td>1.56709</td>\n",
       "      <td>2.45382</td>\n",
       "    </tr>\n",
       "    <tr>\n",
       "      <th>212</th>\n",
       "      <td>2.5</td>\n",
       "      <td>2.5</td>\n",
       "      <td>-0.75</td>\n",
       "      <td>0.968122</td>\n",
       "      <td>-75.6843</td>\n",
       "      <td>345.881</td>\n",
       "      <td>0.638214</td>\n",
       "      <td>639.428</td>\n",
       "      <td>660.483</td>\n",
       "      <td>0</td>\n",
       "      <td>-0.0702985</td>\n",
       "      <td>0.957025</td>\n",
       "      <td>1.56709</td>\n",
       "      <td>2.45382</td>\n",
       "    </tr>\n",
       "    <tr>\n",
       "      <th>203</th>\n",
       "      <td>2.5</td>\n",
       "      <td>2</td>\n",
       "      <td>-0.75</td>\n",
       "      <td>0.968122</td>\n",
       "      <td>-75.6843</td>\n",
       "      <td>345.881</td>\n",
       "      <td>0.638214</td>\n",
       "      <td>639.428</td>\n",
       "      <td>660.483</td>\n",
       "      <td>0</td>\n",
       "      <td>-0.0702985</td>\n",
       "      <td>0.957025</td>\n",
       "      <td>1.56709</td>\n",
       "      <td>2.45382</td>\n",
       "    </tr>\n",
       "    <tr>\n",
       "      <th>194</th>\n",
       "      <td>2.5</td>\n",
       "      <td>1.5</td>\n",
       "      <td>-0.75</td>\n",
       "      <td>0.968122</td>\n",
       "      <td>-75.6843</td>\n",
       "      <td>345.881</td>\n",
       "      <td>0.638214</td>\n",
       "      <td>639.428</td>\n",
       "      <td>660.483</td>\n",
       "      <td>0</td>\n",
       "      <td>-0.0702985</td>\n",
       "      <td>0.957025</td>\n",
       "      <td>1.56709</td>\n",
       "      <td>2.45382</td>\n",
       "    </tr>\n",
       "    <tr>\n",
       "      <th>185</th>\n",
       "      <td>2.5</td>\n",
       "      <td>1</td>\n",
       "      <td>-0.75</td>\n",
       "      <td>0.968122</td>\n",
       "      <td>-75.6843</td>\n",
       "      <td>345.881</td>\n",
       "      <td>0.638214</td>\n",
       "      <td>639.428</td>\n",
       "      <td>660.483</td>\n",
       "      <td>0</td>\n",
       "      <td>-0.0702985</td>\n",
       "      <td>0.957025</td>\n",
       "      <td>1.56709</td>\n",
       "      <td>2.45382</td>\n",
       "    </tr>\n",
       "  </tbody>\n",
       "</table>\n",
       "</div>"
      ],
      "text/plain": [
       "    prcpsf tliq tmelt  std_quot     bias     rmse      core std_oggm  std_ref  \\\n",
       "186    2.5    1  -0.5  0.981936 -57.0364   354.49  0.638179  648.552  660.483   \n",
       "222    2.5    3  -0.5  0.981936 -57.0364   354.49  0.638179  648.552  660.483   \n",
       "213    2.5  2.5  -0.5  0.981936 -57.0364   354.49  0.638179  648.552  660.483   \n",
       "204    2.5    2  -0.5  0.981936 -57.0364   354.49  0.638179  648.552  660.483   \n",
       "195    2.5  1.5  -0.5  0.981936 -57.0364   354.49  0.638179  648.552  660.483   \n",
       "221    2.5    3 -0.75  0.968122 -75.6843  345.881  0.638214  639.428  660.483   \n",
       "212    2.5  2.5 -0.75  0.968122 -75.6843  345.881  0.638214  639.428  660.483   \n",
       "203    2.5    2 -0.75  0.968122 -75.6843  345.881  0.638214  639.428  660.483   \n",
       "194    2.5  1.5 -0.75  0.968122 -75.6843  345.881  0.638214  639.428  660.483   \n",
       "185    2.5    1 -0.75  0.968122 -75.6843  345.881  0.638214  639.428  660.483   \n",
       "\n",
       "    nans  bias_score core_score std_quot_score    score  \n",
       "186    0 -0.00839273   0.954412        1.58264  2.52866  \n",
       "222    0 -0.00839273   0.954412        1.58264  2.52866  \n",
       "213    0 -0.00839273   0.954412        1.58264  2.52866  \n",
       "204    0 -0.00839273   0.954412        1.58264  2.52866  \n",
       "195    0 -0.00839273   0.954412        1.58264  2.52866  \n",
       "221    0  -0.0702985   0.957025        1.56709  2.45382  \n",
       "212    0  -0.0702985   0.957025        1.56709  2.45382  \n",
       "203    0  -0.0702985   0.957025        1.56709  2.45382  \n",
       "194    0  -0.0702985   0.957025        1.56709  2.45382  \n",
       "185    0  -0.0702985   0.957025        1.56709  2.45382  "
      ]
     },
     "execution_count": 9,
     "metadata": {},
     "output_type": "execute_result"
    }
   ],
   "source": [
    "stats['score'] = stats.std_quot_score + stats.bias_score + stats.core_score\n",
    "stats.sort_values('score', ascending=False).head(10)"
   ]
  },
  {
   "cell_type": "code",
   "execution_count": 18,
   "metadata": {},
   "outputs": [
    {
     "data": {
      "text/html": [
       "<div>\n",
       "<style scoped>\n",
       "    .dataframe tbody tr th:only-of-type {\n",
       "        vertical-align: middle;\n",
       "    }\n",
       "\n",
       "    .dataframe tbody tr th {\n",
       "        vertical-align: top;\n",
       "    }\n",
       "\n",
       "    .dataframe thead th {\n",
       "        text-align: right;\n",
       "    }\n",
       "</style>\n",
       "<table border=\"1\" class=\"dataframe\">\n",
       "  <thead>\n",
       "    <tr style=\"text-align: right;\">\n",
       "      <th></th>\n",
       "      <th>prcpsf</th>\n",
       "      <th>tliq</th>\n",
       "      <th>tmelt</th>\n",
       "      <th>std_quot</th>\n",
       "      <th>bias</th>\n",
       "      <th>rmse</th>\n",
       "      <th>core</th>\n",
       "      <th>std_oggm</th>\n",
       "      <th>std_ref</th>\n",
       "      <th>nans</th>\n",
       "      <th>bias_score</th>\n",
       "      <th>core_score</th>\n",
       "      <th>std_quot_score</th>\n",
       "      <th>score</th>\n",
       "      <th>rmse_score</th>\n",
       "    </tr>\n",
       "  </thead>\n",
       "  <tbody>\n",
       "    <tr>\n",
       "      <th>61</th>\n",
       "      <td>1.75</td>\n",
       "      <td>1.5</td>\n",
       "      <td>-0.25</td>\n",
       "      <td>0.714564</td>\n",
       "      <td>-11.4999</td>\n",
       "      <td>265.881</td>\n",
       "      <td>0.638081</td>\n",
       "      <td>471.958</td>\n",
       "      <td>660.483</td>\n",
       "      <td>0</td>\n",
       "      <td>100.143</td>\n",
       "      <td>-999.053</td>\n",
       "      <td>1.28164</td>\n",
       "      <td>-896.653</td>\n",
       "      <td>0.975577</td>\n",
       "    </tr>\n",
       "    <tr>\n",
       "      <th>70</th>\n",
       "      <td>1.75</td>\n",
       "      <td>2</td>\n",
       "      <td>-0.25</td>\n",
       "      <td>0.714564</td>\n",
       "      <td>-11.4999</td>\n",
       "      <td>265.881</td>\n",
       "      <td>0.638081</td>\n",
       "      <td>471.958</td>\n",
       "      <td>660.483</td>\n",
       "      <td>0</td>\n",
       "      <td>100.143</td>\n",
       "      <td>-999.053</td>\n",
       "      <td>1.28164</td>\n",
       "      <td>-896.653</td>\n",
       "      <td>0.975577</td>\n",
       "    </tr>\n",
       "    <tr>\n",
       "      <th>88</th>\n",
       "      <td>1.75</td>\n",
       "      <td>3</td>\n",
       "      <td>-0.25</td>\n",
       "      <td>0.714564</td>\n",
       "      <td>-11.4999</td>\n",
       "      <td>265.881</td>\n",
       "      <td>0.638081</td>\n",
       "      <td>471.958</td>\n",
       "      <td>660.483</td>\n",
       "      <td>0</td>\n",
       "      <td>100.143</td>\n",
       "      <td>-999.053</td>\n",
       "      <td>1.28164</td>\n",
       "      <td>-896.653</td>\n",
       "      <td>0.975577</td>\n",
       "    </tr>\n",
       "    <tr>\n",
       "      <th>52</th>\n",
       "      <td>1.75</td>\n",
       "      <td>1</td>\n",
       "      <td>-0.25</td>\n",
       "      <td>0.714564</td>\n",
       "      <td>-11.4999</td>\n",
       "      <td>265.881</td>\n",
       "      <td>0.638081</td>\n",
       "      <td>471.958</td>\n",
       "      <td>660.483</td>\n",
       "      <td>0</td>\n",
       "      <td>100.143</td>\n",
       "      <td>-999.053</td>\n",
       "      <td>1.28164</td>\n",
       "      <td>-896.653</td>\n",
       "      <td>0.975577</td>\n",
       "    </tr>\n",
       "    <tr>\n",
       "      <th>79</th>\n",
       "      <td>1.75</td>\n",
       "      <td>2.5</td>\n",
       "      <td>-0.25</td>\n",
       "      <td>0.714564</td>\n",
       "      <td>-11.4999</td>\n",
       "      <td>265.881</td>\n",
       "      <td>0.638081</td>\n",
       "      <td>471.958</td>\n",
       "      <td>660.483</td>\n",
       "      <td>0</td>\n",
       "      <td>100.143</td>\n",
       "      <td>-999.053</td>\n",
       "      <td>1.28164</td>\n",
       "      <td>-896.653</td>\n",
       "      <td>0.975577</td>\n",
       "    </tr>\n",
       "    <tr>\n",
       "      <th>69</th>\n",
       "      <td>1.75</td>\n",
       "      <td>2</td>\n",
       "      <td>-0.5</td>\n",
       "      <td>0.69005</td>\n",
       "      <td>18.6203</td>\n",
       "      <td>273.408</td>\n",
       "      <td>0.638779</td>\n",
       "      <td>455.766</td>\n",
       "      <td>660.483</td>\n",
       "      <td>0</td>\n",
       "      <td>100.119</td>\n",
       "      <td>-999</td>\n",
       "      <td>1.25404</td>\n",
       "      <td>-896.678</td>\n",
       "      <td>0.949249</td>\n",
       "    </tr>\n",
       "    <tr>\n",
       "      <th>87</th>\n",
       "      <td>1.75</td>\n",
       "      <td>3</td>\n",
       "      <td>-0.5</td>\n",
       "      <td>0.69005</td>\n",
       "      <td>18.6203</td>\n",
       "      <td>273.408</td>\n",
       "      <td>0.638779</td>\n",
       "      <td>455.766</td>\n",
       "      <td>660.483</td>\n",
       "      <td>0</td>\n",
       "      <td>100.119</td>\n",
       "      <td>-999</td>\n",
       "      <td>1.25404</td>\n",
       "      <td>-896.678</td>\n",
       "      <td>0.949249</td>\n",
       "    </tr>\n",
       "    <tr>\n",
       "      <th>51</th>\n",
       "      <td>1.75</td>\n",
       "      <td>1</td>\n",
       "      <td>-0.5</td>\n",
       "      <td>0.69005</td>\n",
       "      <td>18.6203</td>\n",
       "      <td>273.408</td>\n",
       "      <td>0.638779</td>\n",
       "      <td>455.766</td>\n",
       "      <td>660.483</td>\n",
       "      <td>0</td>\n",
       "      <td>100.119</td>\n",
       "      <td>-999</td>\n",
       "      <td>1.25404</td>\n",
       "      <td>-896.678</td>\n",
       "      <td>0.949249</td>\n",
       "    </tr>\n",
       "    <tr>\n",
       "      <th>78</th>\n",
       "      <td>1.75</td>\n",
       "      <td>2.5</td>\n",
       "      <td>-0.5</td>\n",
       "      <td>0.69005</td>\n",
       "      <td>18.6203</td>\n",
       "      <td>273.408</td>\n",
       "      <td>0.638779</td>\n",
       "      <td>455.766</td>\n",
       "      <td>660.483</td>\n",
       "      <td>0</td>\n",
       "      <td>100.119</td>\n",
       "      <td>-999</td>\n",
       "      <td>1.25404</td>\n",
       "      <td>-896.678</td>\n",
       "      <td>0.949249</td>\n",
       "    </tr>\n",
       "    <tr>\n",
       "      <th>60</th>\n",
       "      <td>1.75</td>\n",
       "      <td>1.5</td>\n",
       "      <td>-0.5</td>\n",
       "      <td>0.69005</td>\n",
       "      <td>18.6203</td>\n",
       "      <td>273.408</td>\n",
       "      <td>0.638779</td>\n",
       "      <td>455.766</td>\n",
       "      <td>660.483</td>\n",
       "      <td>0</td>\n",
       "      <td>100.119</td>\n",
       "      <td>-999</td>\n",
       "      <td>1.25404</td>\n",
       "      <td>-896.678</td>\n",
       "      <td>0.949249</td>\n",
       "    </tr>\n",
       "  </tbody>\n",
       "</table>\n",
       "</div>"
      ],
      "text/plain": [
       "   prcpsf tliq tmelt  std_quot     bias     rmse      core std_oggm  std_ref  \\\n",
       "61   1.75  1.5 -0.25  0.714564 -11.4999  265.881  0.638081  471.958  660.483   \n",
       "70   1.75    2 -0.25  0.714564 -11.4999  265.881  0.638081  471.958  660.483   \n",
       "88   1.75    3 -0.25  0.714564 -11.4999  265.881  0.638081  471.958  660.483   \n",
       "52   1.75    1 -0.25  0.714564 -11.4999  265.881  0.638081  471.958  660.483   \n",
       "79   1.75  2.5 -0.25  0.714564 -11.4999  265.881  0.638081  471.958  660.483   \n",
       "69   1.75    2  -0.5   0.69005  18.6203  273.408  0.638779  455.766  660.483   \n",
       "87   1.75    3  -0.5   0.69005  18.6203  273.408  0.638779  455.766  660.483   \n",
       "51   1.75    1  -0.5   0.69005  18.6203  273.408  0.638779  455.766  660.483   \n",
       "78   1.75  2.5  -0.5   0.69005  18.6203  273.408  0.638779  455.766  660.483   \n",
       "60   1.75  1.5  -0.5   0.69005  18.6203  273.408  0.638779  455.766  660.483   \n",
       "\n",
       "   nans bias_score core_score std_quot_score    score rmse_score  \n",
       "61    0    100.143   -999.053        1.28164 -896.653   0.975577  \n",
       "70    0    100.143   -999.053        1.28164 -896.653   0.975577  \n",
       "88    0    100.143   -999.053        1.28164 -896.653   0.975577  \n",
       "52    0    100.143   -999.053        1.28164 -896.653   0.975577  \n",
       "79    0    100.143   -999.053        1.28164 -896.653   0.975577  \n",
       "69    0    100.119       -999        1.25404 -896.678   0.949249  \n",
       "87    0    100.119       -999        1.25404 -896.678   0.949249  \n",
       "51    0    100.119       -999        1.25404 -896.678   0.949249  \n",
       "78    0    100.119       -999        1.25404 -896.678   0.949249  \n",
       "60    0    100.119       -999        1.25404 -896.678   0.949249  "
      ]
     },
     "execution_count": 18,
     "metadata": {},
     "output_type": "execute_result"
    }
   ],
   "source": [
    "stats['score'] = stats.std_quot_score + stats.bias_score + stats.core_score + stats.rmse_score\n",
    "stats.sort_values('score', ascending=False).head(10)"
   ]
  },
  {
   "cell_type": "markdown",
   "metadata": {},
   "source": [
    "All of the ten highest scores result from using a **precipiation scaling factor of 2.5**, and the five highest scores result from additionally using a **temperature threshold for melting of -0.5 degC**. The temperature threshold for liwuid precipitation seems to have no effect..."
   ]
  },
  {
   "cell_type": "markdown",
   "metadata": {},
   "source": [
    "**Confirm findings graphically**"
   ]
  },
  {
   "cell_type": "code",
   "execution_count": 9,
   "metadata": {},
   "outputs": [
    {
     "data": {
      "text/plain": [
       "<matplotlib.collections.PathCollection at 0x1334b28d0>"
      ]
     },
     "execution_count": 9,
     "metadata": {},
     "output_type": "execute_result"
    },
    {
     "data": {
      "image/png": "[encoded data removed]",
      "text/plain": [
       "<Figure size 432x288 with 1 Axes>"
      ]
     },
     "metadata": {
      "needs_background": "light"
     },
     "output_type": "display_data"
    }
   ],
   "source": [
    "# plot score as function of precipitation scaling factor\n",
    "plt.scatter(stats.prcpsf, stats.score)\n",
    "plt.scatter(stats.prcpsf.where(stats.score == stats.score.max()).dropna().iloc[0], stats.score.max())"
   ]
  },
  {
   "cell_type": "code",
   "execution_count": 10,
   "metadata": {},
   "outputs": [
    {
     "data": {
      "text/plain": [
       "<matplotlib.collections.PathCollection at 0x1336faf98>"
      ]
     },
     "execution_count": 10,
     "metadata": {},
     "output_type": "execute_result"
    },
    {
     "data": {
      "image/png": "[encoded data removed]",
      "text/plain": [
       "<Figure size 432x288 with 1 Axes>"
      ]
     },
     "metadata": {
      "needs_background": "light"
     },
     "output_type": "display_data"
    }
   ],
   "source": [
    "# subset for precipitation scaling factor of 2.5 and\n",
    "# plot score as function of temperature threshold for melt\n",
    "plt.scatter(stats.where(stats.prcpsf == 2.5).tmelt, stats.score)\n",
    "plt.scatter(stats.tmelt.where(stats.score == stats.score.max()).dropna().iloc[0], stats.score.max())"
   ]
  },
  {
   "cell_type": "code",
   "execution_count": 11,
   "metadata": {},
   "outputs": [
    {
     "data": {
      "text/plain": [
       "<matplotlib.collections.PathCollection at 0x13383abe0>"
      ]
     },
     "execution_count": 11,
     "metadata": {},
     "output_type": "execute_result"
    },
    {
     "data": {
      "image/png": "[encoded data removed]",
      "text/plain": [
       "<Figure size 432x288 with 1 Axes>"
      ]
     },
     "metadata": {
      "needs_background": "light"
     },
     "output_type": "display_data"
    }
   ],
   "source": [
    "# subset for precipitation scaling factor of 2.5 and \n",
    "# temperature threshold for melt of -0.5 degC and\n",
    "# plot score as function of temperature threshold for liquid precipitations\n",
    "plt.scatter(stats.where((stats.prcpsf == 2.5) & (stats.tmelt == -0.5)).tliq, stats.score)\n",
    "plt.scatter(stats.tliq.where(stats.score == stats.score.max()).dropna().iloc[2], stats.score.max())"
   ]
  },
  {
   "cell_type": "code",
   "execution_count": null,
   "metadata": {},
   "outputs": [],
   "source": []
  }
 ],
 "metadata": {
  "kernelspec": {
   "display_name": "Python 3",
   "language": "python",
   "name": "python3"
  },
  "language_info": {
   "codemirror_mode": {
    "name": "ipython",
    "version": 3
   },
   "file_extension": ".py",
   "mimetype": "text/x-python",
   "name": "python",
   "nbconvert_exporter": "python",
   "pygments_lexer": "ipython3",
   "version": "3.6.7"
  }
 },
 "nbformat": 4,
 "nbformat_minor": 2
}
